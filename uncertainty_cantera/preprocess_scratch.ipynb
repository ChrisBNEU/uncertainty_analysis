{
 "cells": [
  {
   "cell_type": "code",
   "execution_count": 20,
   "id": "b5d3d2de",
   "metadata": {},
   "outputs": [
    {
     "data": {
      "text/plain": [
       "[{'catalyst_area': 100.0,\n",
       "  'experiment_type': 'batch',\n",
       "  'pressure': 886593.75,\n",
       "  'species': {'CO2': 0.1, 'H2': 0.9},\n",
       "  'temperature': 525,\n",
       "  'volume': 0.1},\n",
       " {'catalyst_area': 100.0,\n",
       "  'experiment_type': 'batch',\n",
       "  'pressure': 928812.5,\n",
       "  'species': {'CO2': 0.1, 'H2': 0.9},\n",
       "  'temperature': 550,\n",
       "  'volume': 0.1},\n",
       " {'catalyst_area': 100.0,\n",
       "  'experiment_type': 'batch',\n",
       "  'pressure': 971031.25,\n",
       "  'species': {'CO2': 0.1, 'H2': 0.9},\n",
       "  'temperature': 575,\n",
       "  'volume': 0.1},\n",
       " {'catalyst_area': 100.0,\n",
       "  'experiment_type': 'batch',\n",
       "  'pressure': 1013250.0,\n",
       "  'species': {'CO2': 0.1, 'H2': 0.9},\n",
       "  'temperature': 600,\n",
       "  'volume': 0.1}]"
      ]
     },
     "execution_count": 20,
     "metadata": {},
     "output_type": "execute_result"
    }
   ],
   "source": [
    "import yaml\n",
    "import numpy as np\n",
    "import sys\n",
    "import itertools\n",
    "\n",
    "yaml_expt_file =  '/work/westgroup/ChrisB/_01_MeOH_repos/meOH-analysis/all_experiments.yaml'\n",
    "expt_type = 'batch'\n",
    "\n",
    "# a tool for iterating through a dictionary where \n",
    "# the keys are the variable (temp) and the values \n",
    "# are a list of possible values. \n",
    "# copied from stack overflow: \n",
    "# https://tinyurl.com/4erzdxeb\n",
    "\n",
    "def zip_dict(**kwargs):\n",
    "    keys = kwargs.keys()\n",
    "    vals = kwargs.values()\n",
    "    for instance in itertools.zip_longest(*vals):\n",
    "        yield dict(zip(keys, instance))\n",
    "\n",
    "\n",
    "with open(yaml_expt_file) as f:\n",
    "    # use safe_load instead load\n",
    "    expt_map = yaml.safe_load(f)\n",
    "    \n",
    "expt_list = []\n",
    "\n",
    "for expt in expt_map.keys():\n",
    "    if all(expt_type == 'batch' for expt_type in expt_map[expt]['experiment_type']):\n",
    "        expt_list.append(expt)\n",
    "\n",
    "# list that retains expt variable names, \n",
    "# with a single value\n",
    "\n",
    "expt_dict_list =[]\n",
    "for name in expt_list:\n",
    "    if not expt_dict_list:\n",
    "        expt_dict_list = list(zip_dict(**expt_map[name]))\n",
    "    else: \n",
    "        expt_dict_list.append(list(zip_dict(**expt_map[name])))\n"
   ]
  },
  {
   "cell_type": "code",
   "execution_count": 21,
   "id": "18564b9d",
   "metadata": {},
   "outputs": [
    {
     "data": {
      "text/plain": [
       "{'catalyst_area': [100.0, 100.0, 100.0, 100.0],\n",
       " 'experiment_type': ['batch', 'batch', 'batch', 'batch'],\n",
       " 'pressure': [886593.75, 928812.5, 971031.25, 1013250.0],\n",
       " 'species': [{'CO2': 0.1, 'H2': 0.9},\n",
       "  {'CO2': 0.1, 'H2': 0.9},\n",
       "  {'CO2': 0.1, 'H2': 0.9},\n",
       "  {'CO2': 0.1, 'H2': 0.9}],\n",
       " 'temperature': [525, 550, 575, 600],\n",
       " 'volume': [0.1, 0.1, 0.1, 0.1]}"
      ]
     },
     "execution_count": 21,
     "metadata": {},
     "output_type": "execute_result"
    }
   ],
   "source": [
    "expt_map['yang_2010']"
   ]
  },
  {
   "cell_type": "code",
   "execution_count": 10,
   "id": "b20cda80",
   "metadata": {},
   "outputs": [],
   "source": [
    "import yaml\n",
    "with open ('all_experiments_reorg_sbr.yaml', 'r+') as f:\n",
    "    y = yaml.safe_load(f)"
   ]
  },
  {
   "cell_type": "code",
   "execution_count": 12,
   "id": "4c9ccbab",
   "metadata": {},
   "outputs": [
    {
     "data": {
      "text/plain": [
       "{'catalyst_area': 44.424193000339805,\n",
       " 'experiment_type': 'sbr',\n",
       " 'expt_name': 'graaf_1988',\n",
       " 'output': {'CH3OH': 0.0011222945028920238, 'H2O': 0.0011690567738458582},\n",
       " 'pressure': 1500000.0,\n",
       " 'species': {'CO': 0.065, 'CO2': 0.261, 'H2': 0.674},\n",
       " 'temperature': 483.5,\n",
       " 'volume': 0.0001346957850226624,\n",
       " 'volume_flowrate': 1.495e-05}"
      ]
     },
     "execution_count": 12,
     "metadata": {},
     "output_type": "execute_result"
    }
   ],
   "source": [
    "y[1]"
   ]
  },
  {
   "cell_type": "code",
   "execution_count": null,
   "id": "c8b592fe",
   "metadata": {},
   "outputs": [],
   "source": []
  }
 ],
 "metadata": {
  "kernelspec": {
   "display_name": "rmg_julia_env",
   "language": "python",
   "name": "rmg_julia_env"
  },
  "language_info": {
   "codemirror_mode": {
    "name": "ipython",
    "version": 3
   },
   "file_extension": ".py",
   "mimetype": "text/x-python",
   "name": "python",
   "nbconvert_exporter": "python",
   "pygments_lexer": "ipython3",
   "version": "3.7.11"
  }
 },
 "nbformat": 4,
 "nbformat_minor": 5
}
