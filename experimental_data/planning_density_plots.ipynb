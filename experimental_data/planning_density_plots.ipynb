{
 "cells": [
  {
   "cell_type": "code",
   "execution_count": 1,
   "id": "0752b4f8",
   "metadata": {},
   "outputs": [],
   "source": [
    "import pandas as pd\n",
    "import matplotlib.pyplot as plt"
   ]
  },
  {
   "cell_type": "code",
   "execution_count": 3,
   "id": "82b9b0b0",
   "metadata": {},
   "outputs": [],
   "source": [
    "# look at mole fraction ranges and see if we can group them\n",
    "graaf_data_dir = './graaf/'\n",
    "#currently don't have yang data used\n",
    "# yang_data_dir = './cantera_simulations/yang_2010_data/'\n",
    "grabow_conditions_dir = './grabow/'"
   ]
  },
  {
   "cell_type": "code",
   "execution_count": 5,
   "id": "027e6916",
   "metadata": {},
   "outputs": [],
   "source": [
    "path_str = graaf_data_dir + \"combined_experimental_runs.xlsx\"\n",
    "df_graaf = pd.read_excel(path_str , engine='openpyxl') "
   ]
  },
  {
   "cell_type": "code",
   "execution_count": 8,
   "id": "710769db",
   "metadata": {},
   "outputs": [
    {
     "name": "stdout",
     "output_type": "stream",
     "text": [
      "Grabow_exp_index\n"
     ]
    }
   ],
   "source": [
    "df_graaf.plot['']"
   ]
  },
  {
   "cell_type": "code",
   "execution_count": null,
   "id": "22c1fbac",
   "metadata": {},
   "outputs": [],
   "source": [
    "\n"
   ]
  },
  {
   "cell_type": "code",
   "execution_count": null,
   "id": "ab8e6593",
   "metadata": {},
   "outputs": [],
   "source": []
  },
  {
   "cell_type": "code",
   "execution_count": null,
   "id": "b21d18dd",
   "metadata": {},
   "outputs": [],
   "source": []
  },
  {
   "cell_type": "code",
   "execution_count": null,
   "id": "dad8bedd",
   "metadata": {},
   "outputs": [],
   "source": [
    "\"\"\"\n",
    "Created on Wed Mar  3 14:56:46 2021\n",
    "\n",
    "@author: bjarne\n",
    "\"\"\"\n",
    "\n",
    "import numpy as np\n",
    "import matplotlib.pyplot as plt\n",
    "import pandas as pd\n",
    "import matplotlib.gridspec as gridspec\n",
    "import matplotlib.patches as mpatches\n",
    "\n",
    "#Makes the diagrams look nice and shiny\n",
    "plt.rcParams['figure.figsize']=(14,12)\n",
    "plt.rcParams['axes.linewidth'] = 2\n",
    "plt.rc('xtick', labelsize=14)\n",
    "plt.rc('ytick', labelsize=14)\n",
    "plt.rc('axes', labelsize=16)\n",
    "plt.rc('legend', fontsize=14)\n",
    "plt.rcParams['lines.markersize'] = 10\n",
    "plt.rcParams['xtick.direction']='in'\n",
    "plt.rcParams['ytick.direction']='in'\n",
    "plt.rcParams['xtick.major.size']=10\n",
    "plt.rcParams['xtick.major.width']=2\n",
    "plt.rcParams['ytick.major.size']=10\n",
    "plt.rcParams['ytick.major.width']=2\n",
    "plt.rcParams['legend.edgecolor']='k'\n",
    "plt.rcParams['axes.unicode_minus']=False\n",
    "plt.rcParams[\"legend.framealpha\"] = 1\n",
    "plt.rcParams['xtick.major.pad'] = 8\n",
    "plt.rcParams['ytick.major.pad'] = 8\n",
    "plt.rcParams['legend.handletextpad']=0.4\n",
    "plt.rcParams['legend.columnspacing']=0.5\n",
    "plt.rcParams['legend.labelspacing']=0.3\n",
    "plt.rcParams['legend.title_fontsize'] = 12\n",
    "plt.rcParams['axes.formatter.limits']=(-3, 6)\n",
    "\n",
    "import matplotlib.gridspec as gridspec\n",
    "gs=gridspec.GridSpec(nrows=2, ncols=2)\n",
    "gs.update(wspace=0.5, hspace=0.5)\n",
    "\n",
    "ax0=plt.subplot(gs[0,0])\n",
    "ax1=plt.subplot(gs[0,1])\n",
    "ax2=plt.subplot(gs[1,0])\n",
    "ax3=plt.subplot(gs[1,1])\n",
    "\n",
    "equil=pd.read_csv('Reference/cantera/TPR_Equilibrium.txt', sep=\"\\t\", header=0)\n",
    "equil.columns=['Temp', 'CH4', 'CO2', 'CO', 'H2', 'H2O', 'Ar', 'U', 'S_CH4', 'S_CO', 'Y']\n",
    "\n",
    "Ni_3b=pd.read_csv('tpm_3b_1st.txt', sep=\"\\t\", header=0)\n",
    "Ni_3b.columns=['Temp', 'CO2', 'CO', 'CH4', 'H2', 'H2O', 'Ar']\n",
    "\n",
    "ref=pd.read_csv('Reference/cantera/TPM_PFR_reference.txt', sep=\",\", header=0)\n",
    "\n",
    "bounds=pd.read_csv('Bounds_best_matches.txt', sep=\"\\t\", header=0)\n",
    "\n",
    "bounds_cov=pd.read_csv('Bounds_best_matches_coverage.txt', sep=\"\\t\", header=0)\n",
    "\n",
    "best=pd.read_csv('Data/File_1199/cantera/TPM_PFR.txt', sep=\",\", header=0)\n",
    "\n",
    "colormap=plt.cm.Dark2\n",
    "colors = [colormap(i) for i in np.linspace(0, 1, 8)]\n",
    "\n",
    "ax0.text(0.1, 0.75, '$\\mathbf{Ni^*}$', transform=ax0.transAxes,  size=18, weight='bold')\n",
    "ax0.set_ylabel('$\\mathrm{\\Theta\\ /\\ 1}$')\n",
    "ax0.set_xlabel('$\\mathrm{temperature\\ /\\ K}$')\n",
    "ax0.set_ylim([0, 1])\n",
    "ax0.set_xlim([400, 1000])\n",
    "\n",
    "ax1.text(0.1, 0.8, '$\\mathbf{H^*}$', transform=ax1.transAxes,  size=18, weight='bold')\n",
    "ax1.set_ylabel('$\\mathrm{\\Theta\\ /\\ 1}$')\n",
    "ax1.set_xlabel('$\\mathrm{temperature\\ /\\ K}$')\n",
    "ax1.set_ylim([0, 1])\n",
    "ax1.set_xlim([400, 1000])\n",
    "\n",
    "ax2.text(0.8, 0.8, '$\\mathbf{O^*}$', transform=ax2.transAxes,  size=18, weight='bold')\n",
    "ax2.set_ylabel('$\\mathrm{\\Theta\\ /\\ 1}$')\n",
    "ax2.set_xlabel('$\\mathrm{temperature\\ /\\ K}$')\n",
    "ax2.set_ylim([0, 1])\n",
    "ax2.set_xlim([400, 1000])\n",
    "\n",
    "ax3.text(0.8, 0.8, '$\\mathbf{CO^*}$', transform=ax3.transAxes,  size=18, weight='bold')\n",
    "ax3.set_ylabel('$\\mathrm{\\Theta\\ /\\ 1}$')\n",
    "ax3.set_xlabel('$\\mathrm{temperature\\ /\\ K}$')\n",
    "ax3.set_ylim([0, 1])\n",
    "ax3.set_xlim([400, 1000])\n",
    "      \n",
    "ax0.plot(best['Temp'], best['site(7)'], color='r', linewidth=2,zorder=10)\n",
    "ax1.plot(best['Temp'], best['HX(8)'], color='r', linewidth=2,zorder=10, label='Best match')\n",
    "ax2.plot(best['Temp'], best['OX(10)'], color='r', linewidth=2,zorder=10)\n",
    "ax3.plot(best['Temp'], best['OCX(11)'], color='r', linewidth=2,zorder=10)\n",
    "        \n",
    "ax0.fill_between(best['Temp'], bounds_cov['Ni_min'], bounds_cov['Ni_max'], color='r',alpha=0.3)\n",
    "ax1.fill_between(best['Temp'], bounds_cov['HX_min'], bounds_cov['HX_max'], color='r',alpha=0.3)\n",
    "ax2.fill_between(best['Temp'], bounds_cov['OX_min'], bounds_cov['OX_max'], color='r',alpha=0.3)\n",
    "ax3.fill_between(best['Temp'], bounds_cov['COX_min'], bounds_cov['COX_max'], color='r',alpha=0.3)\n",
    "\n",
    "ax0.plot(ref['Temp'], ref['site(7)'],  color='k', linewidth=2)\n",
    "ax1.plot(ref['Temp'], ref['HX(8)'],  color='k', linewidth=2, label='Ref. mech.')\n",
    "ax2.plot(ref['Temp'], ref['OX(10)'],  color='k', linewidth=2)\n",
    "ax3.plot(ref['Temp'], ref['OCX(11)'],  color='k', linewidth=2)\n",
    "\n",
    "patch=mpatches.Patch(facecolor='r', alpha=0.3, edgecolor='k', label='$\\mathrm{Feasible\\ set}$')\n",
    "handles, labels = ax1.get_legend_handles_labels()\n",
    "\n",
    "ax1.legend(loc='upper right',handles=[handles[0], handles[1],  patch], ncol=1)\n",
    "\n",
    "plt.savefig('Best_matches_coverage.pdf',bbox_inches='tight', transparent=False)"
   ]
  }
 ],
 "metadata": {
  "kernelspec": {
   "display_name": "rmg_julia_env",
   "language": "python",
   "name": "rmg_julia_env"
  },
  "language_info": {
   "codemirror_mode": {
    "name": "ipython",
    "version": 3
   },
   "file_extension": ".py",
   "mimetype": "text/x-python",
   "name": "python",
   "nbconvert_exporter": "python",
   "pygments_lexer": "ipython3",
   "version": "3.7.11"
  }
 },
 "nbformat": 4,
 "nbformat_minor": 5
}
