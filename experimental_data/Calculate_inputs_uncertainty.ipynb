{
 "cells": [
  {
   "cell_type": "markdown",
   "metadata": {},
   "source": [
    "# Sample Calculations\n",
    "below are the formulas/derivations/miscellaneous notes for the input parameters used in the sbr.py cantera model, along with demonstrations of the calculations for Turn over frequency, residence time, etc. "
   ]
  },
  {
   "cell_type": "markdown",
   "metadata": {},
   "source": [
    "## Reactor Specifications"
   ]
  },
  {
   "cell_type": "markdown",
   "metadata": {},
   "source": [
    "### Reactor Volume\n",
    "\n",
    "<img src=\"./images/spinning_basket_reactor_Graff.png\" width=700 />\n",
    "\n",
    "spinning basket reactor radius and volume specified in Graaf paper: \n",
    "\n",
    "$r = 35mm\\pm0.5mm$  \n",
    "\n",
    "$h = 70mm\\pm0.5mm$\n",
    "\n",
    "pp63 graaf, 1988 \"The inner diameter and height of the reactor chamber were 70 mm\"\n",
    "\n",
    "\n",
    "\n",
    "Volume from grabow is 134.7E-6 m^3. this is pi\\*r^2\\*h/2, which I believe is because the baffles and machinery take up half of the reactor chamber but currently there is no justification for that to be found. "
   ]
  },
  {
   "cell_type": "code",
   "execution_count": 13,
   "metadata": {},
   "outputs": [
    {
     "name": "stdout",
     "output_type": "stream",
     "text": [
      "0.0001346957850226624\n"
     ]
    }
   ],
   "source": [
    "import numpy as np\n",
    "import scipy\n",
    "volume = ((35e-3)**2)*np.pi*(70e-3)/2\n",
    "print(volume)"
   ]
  },
  {
   "cell_type": "markdown",
   "metadata": {},
   "source": [
    "### surface sites"
   ]
  },
  {
   "cell_type": "markdown",
   "metadata": {},
   "source": [
    "Grabow took the average of the sites from this paper:  \n",
    "Muhler, Cat. Lett. 14 (1992), 241\n",
    "\n",
    "<img src=\"./images/input_calcs/sites_paper.png\" width=700 />\n",
    "\n",
    "the following (same paper) is a justification for the factor of 5: \n",
    "\n",
    "<img src=\"./images/input_calcs/sites_paper_2.png\" width=700 />"
   ]
  },
  {
   "cell_type": "code",
   "execution_count": 14,
   "metadata": {},
   "outputs": [],
   "source": [
    "import uncertainties as unc  \n",
    "import uncertainties.unumpy as unumpy "
   ]
  },
  {
   "cell_type": "code",
   "execution_count": 15,
   "metadata": {},
   "outputs": [
    {
     "data": {
      "text/plain": [
       "0.30835"
      ]
     },
     "execution_count": 15,
     "metadata": {},
     "output_type": "execute_result"
    }
   ],
   "source": [
    "site_density = 5*61.67*1e-6*1e3 # [moles/kg]\n",
    "site_density"
   ]
  },
  {
   "cell_type": "code",
   "execution_count": 16,
   "metadata": {},
   "outputs": [
    {
     "data": {
      "text/plain": [
       "0.001307404"
      ]
     },
     "execution_count": 16,
     "metadata": {},
     "output_type": "execute_result"
    }
   ],
   "source": [
    "total_sites = site_density*4.24e-3 #moles sites (4.24 g cat)\n",
    "total_sites"
   ]
  },
  {
   "cell_type": "code",
   "execution_count": 17,
   "metadata": {},
   "outputs": [
    {
     "data": {
      "text/plain": [
       "44.4241930003398"
      ]
     },
     "execution_count": 17,
     "metadata": {},
     "output_type": "execute_result"
    }
   ],
   "source": [
    "rmg_site_density_cu = 2.943e-9*1e4 #mol/m^2 see chemkin surface file\n",
    "cat_area = (total_sites)/(rmg_site_density_cu) #mol/mol/m^2()\n",
    "cat_area"
   ]
  },
  {
   "cell_type": "markdown",
   "metadata": {},
   "source": [
    " propagate error. use 7.97g for a conservate estimate to use for all readings (7.97 was the max weight used for catalyst)"
   ]
  },
  {
   "cell_type": "code",
   "execution_count": 18,
   "metadata": {},
   "outputs": [
    {
     "data": {
      "text/plain": [
       "0.3083333333333333+/-0.0175"
      ]
     },
     "execution_count": 18,
     "metadata": {},
     "output_type": "execute_result"
    }
   ],
   "source": [
    "sa_values = np.array([66,60,59])\n",
    "sa_val = np.mean(sa_values)\n",
    "# since we only have 3 values, conservative estimate is +/- 1/2 range\n",
    "sa_unc = (max(sa_values) - min(sa_values))/2\n",
    "site_density_u = unc.ufloat(sa_val, sa_unc)*5*1e-6*1e3\n",
    "site_density_u"
   ]
  },
  {
   "cell_type": "code",
   "execution_count": 31,
   "metadata": {},
   "outputs": [
    {
     "data": {
      "text/plain": [
       "0.0024574166666666663+/-0.00020789573525234015"
      ]
     },
     "execution_count": 31,
     "metadata": {},
     "output_type": "execute_result"
    }
   ],
   "source": [
    "cat_weight = unc.ufloat(7.97e-3, 5e-4) #+/- 0.5 below instrument precision\n",
    "total_sites_u = site_density_u*cat_weight\n",
    "total_sites_u"
   ]
  },
  {
   "cell_type": "code",
   "execution_count": 32,
   "metadata": {},
   "outputs": [
    {
     "data": {
      "text/plain": [
       "83.5003964208857+/-7.064075271910981"
      ]
     },
     "execution_count": 32,
     "metadata": {},
     "output_type": "execute_result"
    }
   ],
   "source": [
    "rmg_site_density_cu = 2.943e-9*1e4 #mol/m^2 see chemkin surface file\n",
    "cat_area_u = (total_sites_u)/(rmg_site_density_cu) #mol/mol/m^2()\n",
    "cat_area_u"
   ]
  },
  {
   "cell_type": "markdown",
   "metadata": {},
   "source": [
    "Reactor volume to cat surface area"
   ]
  },
  {
   "cell_type": "code",
   "execution_count": 22,
   "metadata": {},
   "outputs": [
    {
     "data": {
      "text/plain": [
       "3.0320367332645103e-06"
      ]
     },
     "execution_count": 22,
     "metadata": {},
     "output_type": "execute_result"
    }
   ],
   "source": [
    "vol_2_sa = volume / cat_area\n",
    "vol_2_sa"
   ]
  },
  {
   "cell_type": "markdown",
   "metadata": {},
   "source": [
    "## Inlet Conditions"
   ]
  },
  {
   "cell_type": "markdown",
   "metadata": {},
   "source": [
    "### volume flowrate\n",
    "\n",
    "It does not look like Graaf had a flowrate measurement on the inlet of their apparatus:\n",
    "<img src=\"./images/input_calcs/flow_debacle.png\" width=400 height=400 />\n",
    "\n",
    "\n",
    "Further, in the Grabow matlab model, they use the volume (in cm^3/min) that grabow specifies as the outlet flowrate\n",
    "<img src=\"./images/input_calcs/matlab_flow_1.png\" width=600/>\n",
    "<img src=\"./images/input_calcs/matlab_flow_2.png\" width=600/>\n",
    "\n",
    "for ours, we'll copy grabow, although realistically the outlet volume flow could change depending on the stoichiometry: \n",
    "<img src=\"./images/input_calcs/fogler_flow.jpg\" width=300/>"
   ]
  },
  {
   "cell_type": "markdown",
   "metadata": {},
   "source": [
    "for CO2/(CO+CO2) ratio experiments, conditions were 75 atm, 528K, and inlet flow was 470.4 cm^3/min\n",
    "\n",
    "$V_{in}\\left[\\frac{m^3}{s}\\right] =  V_{in}\\left[\\frac{cm^3}{min}\\right]*\\left[\\frac{min}{60s}\\right]*\\left[\\frac{m^3}{10^6 cm^3}\\right]$"
   ]
  },
  {
   "cell_type": "code",
   "execution_count": 23,
   "metadata": {},
   "outputs": [
    {
     "data": {
      "text/plain": [
       "7.84e-06"
      ]
     },
     "execution_count": 23,
     "metadata": {},
     "output_type": "execute_result"
    }
   ],
   "source": [
    "Vin_cm3_min = 470.4\n",
    "Vin_m3_sec = Vin_cm3_min/(60*10**6)\n",
    "Vin_m3_sec"
   ]
  },
  {
   "cell_type": "markdown",
   "metadata": {},
   "source": [
    "Address uncertainty in Volume flow. we don't have any detail on this, so assume $\\pm$ 1%. they used a soap bubble meter of unspecified range, so this seems like a reasonable estimate, see 10.1088/0950-7671/41/7/309, which says for 0-1000 c^3/s error is below 1%. we are at ~7.3 cm^3/s. "
   ]
  },
  {
   "cell_type": "code",
   "execution_count": 29,
   "metadata": {},
   "outputs": [
    {
     "data": {
      "text/plain": [
       "7.833333333333333"
      ]
     },
     "execution_count": 29,
     "metadata": {},
     "output_type": "execute_result"
    }
   ],
   "source": [
    "470/60"
   ]
  },
  {
   "cell_type": "code",
   "execution_count": 30,
   "metadata": {},
   "outputs": [
    {
     "data": {
      "text/plain": [
       "7.84e-06+/-7.84e-08"
      ]
     },
     "execution_count": 30,
     "metadata": {},
     "output_type": "execute_result"
    }
   ],
   "source": [
    "Vin_cm3_min_u = unc.ufloat(470.4, 470.4*0.01)\n",
    "Vin_m3_sec_u = Vin_cm3_min_u/(60*10**6)\n",
    "Vin_m3_sec_u"
   ]
  },
  {
   "cell_type": "markdown",
   "metadata": {},
   "source": [
    "#### pressure and temp\n",
    "the pressure and temp were measured directly. no direct indication of error so just use 1 more than instrument uncertainty"
   ]
  },
  {
   "cell_type": "code",
   "execution_count": null,
   "metadata": {},
   "outputs": [],
   "source": [
    "temp_u = unc.ufloat(500, 0.1*500)\n",
    "press_u = unc.ufloat(500, 0.1*500)"
   ]
  },
  {
   "cell_type": "markdown",
   "metadata": {},
   "source": [
    "#### mole fractions\n",
    "the uncertainty in the mole fractions is not specified. we can derive molar flow uncertainty, but that will not tell us anything about mole fraction uncertainty, since they collected their gas as a liquid after and ran it through a gc. We can use the error in the material balances thay found to make a conservative estimate of error. they say it was usually below 0.5%, so we will assume error is ~1% of measurement. this will be applied for inlet and outlet.  \n",
    "<img src=\"./images/Graaf_mole_frac_unc.png\" width=600/>"
   ]
  },
  {
   "cell_type": "code",
   "execution_count": null,
   "metadata": {},
   "outputs": [],
   "source": []
  },
  {
   "cell_type": "markdown",
   "metadata": {},
   "source": [
    "### Turn over Frequency\n",
    "For the Graaf data, Grabow just multiplied the total molar flowrate in by the mole fraction, and then divided by the number of sites\n",
    "\n",
    "for cantera, our ROP is in terms of kmoles/m^2 s. so, to convert to 1/s, we need to do the following:\n",
    "\n",
    "$ROP\\left[\\frac{kmoles}{m^{2}*s}\\right]*\\frac{10^{3} moles}{kmol} * \\frac{1}{\\Gamma} \\left[\\frac{cm^2}{mol}\\right] * \\frac{m^2}{10^{4}cm^{2}}= ROP \\left[\\frac{mol}{sec}\\right]$   \n",
    "\n",
    "$TOF = ROP \\left[\\frac{mol}{sec}\\right]* \\frac{1}{N_{sites}} \\left[\\frac{1}{moles}\\right]$\n",
    "\n",
    "\n",
    "\n"
   ]
  },
  {
   "cell_type": "markdown",
   "metadata": {},
   "source": [
    "# Other Miscellaneous notes on inputs\n",
    "\n",
    "#### Pressure conversion \n",
    "Grabow data is in bar.  "
   ]
  },
  {
   "cell_type": "raw",
   "metadata": {},
   "source": [
    "# Notes on analysis\n",
    "## reaction pathway comparison\n",
    "Grabow considered the following when comparing the rates of respective reactions within their model: \n",
    "\n",
    "         \"Methanol Production\"  :  CH3O* + H* -> CH3OH* + *;\n",
    "         \"Water-Gas Shift\"      :  OH* + CO* -> COOH* + *\n",
    "         \"CO Hydrogenation\"     :  CO* + H* -> HCO* + *\n",
    "         \"CO2 Hydrogenation\"    :  CO2* + H* -> HCO2* + *\n",
    "         \"H2O Production\"       :  1 - 2\n",
    "                                   1:   H2O* + * -> OH* + H*\n",
    "                                   2:   COOH* + OH* -> CO2* + H2O*\n",
    "                                  \n",
    "\n",
    "So, the \"key\" for analyzing each of them is: \n",
    "\n",
    "     Grabow study name      |  Cantera label or formula\n",
    "     --------------------------------------------------\n",
    "     \"Methanol Production\"  |  methanol creation rate : surf.creation_rates()[surf.species_index(\"CH3OH(6)\")] \n",
    "     \"Water-Gas Shift\"      |  OH* + CO* -> COOH* + * : leave as-is, creation rate\n",
    "     \"CO Hydrogenation\"     |  Any reaction where CO receives an H and goes to HCO*. creation rate\n",
    "     \"CO2 Hydrogenation\"    |  Any reaction where CO2 receives an H and goes to HCO2*. creation rate\n",
    "     \"H2O Production\"       |  Creation rate of H2O*\n",
    "                                   \n",
    "                                   "
   ]
  },
  {
   "cell_type": "code",
   "execution_count": null,
   "metadata": {},
   "outputs": [],
   "source": []
  },
  {
   "cell_type": "code",
   "execution_count": null,
   "metadata": {},
   "outputs": [],
   "source": []
  },
  {
   "cell_type": "code",
   "execution_count": null,
   "metadata": {},
   "outputs": [],
   "source": []
  },
  {
   "cell_type": "code",
   "execution_count": null,
   "metadata": {},
   "outputs": [],
   "source": []
  },
  {
   "cell_type": "code",
   "execution_count": null,
   "metadata": {},
   "outputs": [],
   "source": []
  },
  {
   "cell_type": "code",
   "execution_count": null,
   "metadata": {},
   "outputs": [],
   "source": []
  },
  {
   "cell_type": "code",
   "execution_count": null,
   "metadata": {},
   "outputs": [],
   "source": []
  }
 ],
 "metadata": {
  "kernelspec": {
   "display_name": "sklearn-env",
   "language": "python",
   "name": "sklearn-env"
  },
  "language_info": {
   "codemirror_mode": {
    "name": "ipython",
    "version": 3
   },
   "file_extension": ".py",
   "mimetype": "text/x-python",
   "name": "python",
   "nbconvert_exporter": "python",
   "pygments_lexer": "ipython3",
   "version": "3.8.13"
  }
 },
 "nbformat": 4,
 "nbformat_minor": 4
}
