{
 "cells": [
  {
   "cell_type": "code",
   "execution_count": 1,
   "id": "c0a7d413",
   "metadata": {},
   "outputs": [],
   "source": [
    "import cantera as ct\n",
    "import numpy as np\n",
    "import pandas as pd\n",
    "import math \n",
    "import os\n",
    "import matplotlib.pyplot as plt\n",
    "%matplotlib inline"
   ]
  },
  {
   "cell_type": "markdown",
   "id": "d873b59a",
   "metadata": {},
   "source": [
    "## Load in data from paper:  \n",
    "note: RWGS rates are the yield of CO. \n",
    "\n",
    "Yang, Yixiong, Jaime Evans, Jose A. Rodriguez, Michael G. White, and Ping Liu. “Fundamental Studies of Methanol Synthesis from CO2 Hydrogenation on Cu(111), Cu Clusters, and Cu/ZnO(0001̄).” Physical Chemistry Chemical Physics 12, no. 33 (2010): 9909. https://doi.org/10.1039/c001484b.\n",
    "\n",
    "<img src=\"images/MeOH_and_RWGS_arrhenius.png\" width=400 height=400 />"
   ]
  },
  {
   "cell_type": "markdown",
   "id": "9c5b2308",
   "metadata": {},
   "source": [
    "### A note from Ray Speth on getting the indices for rops: \n",
    "Note that you shouldn't rely on that specific ordering of the phases. It can vary depending on how the interface kinetics object is instantiated (for example, using a YAML file instead of a CTI/XML file). You should use the ```phase_index```  and ```kinetics_species_index``` functions to find out how the species are arranged. For example, ```surf.kinetics_species_index(0, surf.phase_index(surf))``` will give you the index of the first surface species in the ```net_production_rates array```, while ```surf.kinetics_species_index(0, surf.phase_index(gas))``` will give you the index of the first gas phase species. You can also use the list returned by ```surf.kinetics_species_names```, which corresponds to the ```net_production_rates``` array."
   ]
  },
  {
   "cell_type": "code",
   "execution_count": 2,
   "id": "d037a4a9",
   "metadata": {},
   "outputs": [
    {
     "data": {
      "text/plain": [
       "'1.241860e+12'"
      ]
     },
     "execution_count": 2,
     "metadata": {},
     "output_type": "execute_result"
    }
   ],
   "source": [
    "# Load in values from plot above\n",
    "# we already know \n",
    "temp = [525, 550, 575, 600]\n",
    "\n",
    "meoh_ln_rate = [\n",
    "    -6.691144708,\n",
    "    -5.978401728,\n",
    "    -4.48812095,\n",
    "    -3.894168467,\n",
    "]\n",
    "\n",
    "rwgs_ln_rate = [\n",
    "    -0.578342066,\n",
    "    0.572607525,\n",
    "    1.171517945,\n",
    "    2.072487534,\n",
    "]\n",
    "\n",
    "# convert to molecules/cm^2/sec\n",
    "meoh_rates_cm = np.exp(meoh_ln_rate)*10**15\n",
    "meoh_rates = dict(zip(temp, meoh_rates_cm))\n",
    "\n",
    "rwgs_rates_cm = np.exp(rwgs_ln_rate)*10**15\n",
    "rwgs_rates = dict(zip(temp, rwgs_rates_cm))\n",
    "\"{:2e}\".format(meoh_rates[525])"
   ]
  },
  {
   "cell_type": "markdown",
   "id": "4d18c52c",
   "metadata": {},
   "source": [
    "They reported the following rates at 575K for Methanol and water TOF, so we'll use these to guess their site density (although it is probably irrelevant for our simulation). \n",
    "\n",
    "Methanol rate ($s^{-1}$) = 6.3e-3  \n",
    "RWGS rate ($s^{-1}$)     = 1.8  \n",
    "\n",
    "we used these to reverse-calculate the surface area ($\\Gamma$, $\\frac{molecules}{cm^{2}}$):   \n",
    "$r_{TOF}$ ($s^{-1}$) = $r$ ($\\frac{molec}{cm^{2}s})$ * $\\frac{1}{\\Gamma}$  \n",
    "$\\Gamma$ = $\\frac{rate}{rate_{TOF}}$"
   ]
  },
  {
   "cell_type": "code",
   "execution_count": 3,
   "id": "92635d42",
   "metadata": {},
   "outputs": [
    {
     "data": {
      "text/plain": [
       "'site density molecules/cm: 1.788560e+15'"
      ]
     },
     "execution_count": 3,
     "metadata": {},
     "output_type": "execute_result"
    }
   ],
   "source": [
    "meoh_rate_tof = 6.3e-3\n",
    "rwgs_rate_tof = 1.8\n",
    "meoh_rate_cm = meoh_rates[575]\n",
    "rwgs_rate_cm = rwgs_rates[575]\n",
    "site_density = np.mean([meoh_rate_cm/meoh_rate_tof, rwgs_rate_cm/rwgs_rate_tof])\n",
    "\"site density molecules/cm: {:2e}\".format(site_density)"
   ]
  },
  {
   "cell_type": "markdown",
   "id": "ea0266d5",
   "metadata": {},
   "source": [
    "### get meoh rates in turn over frequency so it is easier"
   ]
  },
  {
   "cell_type": "code",
   "execution_count": 4,
   "id": "b569bb2d",
   "metadata": {},
   "outputs": [
    {
     "data": {
      "text/plain": [
       "{525: 0.0006943354237582917,\n",
       " 550: 0.001416151334630445,\n",
       " 575: 0.006285363285118115,\n",
       " 600: 0.011383627345307495}"
      ]
     },
     "execution_count": 4,
     "metadata": {},
     "output_type": "execute_result"
    }
   ],
   "source": [
    "meoh_rates_tof = {temp:rate/site_density for temp,rate in meoh_rates.items()}\n",
    "meoh_rates_tof"
   ]
  },
  {
   "cell_type": "markdown",
   "id": "af6fb8a2",
   "metadata": {},
   "source": [
    "### get rwgs rates in turn over frequency"
   ]
  },
  {
   "cell_type": "code",
   "execution_count": 5,
   "id": "9fbb66ee",
   "metadata": {},
   "outputs": [
    {
     "data": {
      "text/plain": [
       "{525: 0.3135636990826555,\n",
       " 550: 0.9912354726941712,\n",
       " 575: 1.8041819185376813,\n",
       " 600: 4.441876166963712}"
      ]
     },
     "execution_count": 5,
     "metadata": {},
     "output_type": "execute_result"
    }
   ],
   "source": [
    "rwgs_rates_tof = {temp:rate/site_density for temp,rate in rwgs_rates.items()}\n",
    "rwgs_rates_tof"
   ]
  },
  {
   "cell_type": "markdown",
   "id": "6fca2e8c",
   "metadata": {},
   "source": [
    "## create a batch reactor \n",
    "The configuration for the one used by yang resembles the reactor proposed by yang"
   ]
  },
  {
   "cell_type": "markdown",
   "id": "cab3420e",
   "metadata": {},
   "source": [
    "### Inputs\n",
    "0.5 atm CO2  \n",
    "4.5 atm H2  \n"
   ]
  },
  {
   "cell_type": "code",
   "execution_count": 6,
   "id": "ea0d18cc",
   "metadata": {},
   "outputs": [
    {
     "name": "stdout",
     "output_type": "stream",
     "text": [
      "0.9 0.1 506625.0\n",
      "[525, 550, 575, 600] [ 886593.75  928812.5   971031.25 1013250.  ]\n"
     ]
    }
   ],
   "source": [
    "# convert to pascals\n",
    "p_co2 = 0.5 * ct.one_atm\n",
    "p_h2 =  4.5 * ct.one_atm\n",
    "p_total = p_co2+p_h2\n",
    "\n",
    "# get total pressure at temp using ig law pv = nrt\n",
    "initial_temp = 300 #[k]\n",
    "p_total_at_temp = np.array(temp)*p_total/initial_temp\n",
    "\n",
    "x_co2 = p_co2/p_total\n",
    "x_h2 = p_h2/p_total\n",
    "\n",
    "print(x_h2, x_co2, p_total)\n",
    "print(temp, p_total_at_temp)"
   ]
  },
  {
   "cell_type": "markdown",
   "id": "48faba9f",
   "metadata": {},
   "source": [
    "### Surface area $m^2$"
   ]
  },
  {
   "cell_type": "code",
   "execution_count": 7,
   "id": "e4148a64",
   "metadata": {},
   "outputs": [],
   "source": [
    "cat_area = 1e2"
   ]
  },
  {
   "cell_type": "code",
   "execution_count": 8,
   "id": "f3c1dfb4",
   "metadata": {},
   "outputs": [],
   "source": [
    "# create thermo phases\n",
    "toy_mech = False\n",
    "\n",
    "if toy_mech: \n",
    "    yaml_gas = \"../RMG_model_analysis/test_gas.yaml\"\n",
    "    yaml_surf = \"../RMG_model_analysis/test_surf.yaml\"\n",
    "    \n",
    "    gas = ct.Solution(yaml_surf, \"gas\")\n",
    "    surf = ct.Interface(yaml_surf,\"surface1\", [gas])\n",
    "    surf.coverages = {'X':1.0}\n",
    "    \n",
    "    for name in gas.species_names:\n",
    "        if name.startswith(\"CO2\"):\n",
    "            co2_str = name\n",
    "        if name.startswith(\"H2\"):\n",
    "            h2_str = name\n",
    "        if name.startswith(\"CH3OH\"):\n",
    "            meoh_str = name\n",
    "else: \n",
    "#     yaml_file = \"/work/westgroup/ChrisB/_01_MeOH_repos/meOH-synthesis/base/cantera/chem_annotated.cti\"\n",
    "    yaml_file = \"/work/westgroup/ChrisB/_01_MeOH_repos/RMG_run_comparisons/bep_parameter_study/rmg_runs/meoh_bjarne_bep/base/cantera/chem_annotated.cti\"\n",
    "    gas = ct.Solution(yaml_file, \"gas\")\n",
    "    surf = ct.Interface(yaml_file,\"surface1\", [gas])\n",
    "    \n",
    "    for name in gas.species_names:\n",
    "        if name.startswith(\"CO2(\"):\n",
    "            co2_str = name\n",
    "        if name.startswith(\"H2(\"):\n",
    "            h2_str = name\n",
    "        if name.startswith(\"CH3OH(\"):\n",
    "            meoh_str = name\n",
    "\n",
    "            \n",
    "mole_fractions = {co2_str:x_co2,h2_str:x_h2}\n",
    "# molecular weights for mass flow calculations\n",
    "mw_co = 28.01e-3  # [kg/mol]\n",
    "mw_co2 = 44.01e-3  # [kg/mol]\n",
    "mw_h2 = 2.016e-3  # [kg/mol]\n",
    "mw_h2o = 18.01528e-3  # [kg/mol]\n",
    "\n",
    "gas.TPX = temp[0], p_total_at_temp[0], mole_fractions\n",
    "surf.TP = temp[0], p_total_at_temp[0]\n",
    "\n",
    "r = ct.IdealGasReactor(gas, energy=\"off\")\n",
    "rsurf = ct.ReactorSurface(surf, r, A=cat_area)\n",
    "# initialize reactor network\n",
    "sim = ct.ReactorNet([r])\n",
    "sim.atol = 1e-16\n",
    "sim.rtol = 1e-14"
   ]
  },
  {
   "cell_type": "code",
   "execution_count": 9,
   "id": "e26e2007",
   "metadata": {},
   "outputs": [],
   "source": [
    "reactime = 200*60\n",
    "t = 0\n",
    "dt = 5.0\n",
    "conversion = 0 \n",
    "\n",
    "nspecies = len(gas.species_names)\n",
    "meoh_gas_index = gas.kinetics_species_index(meoh_str)\n",
    "meoh_surf_index = surf.kinetics_species_index(meoh_str)\n",
    "\n",
    "meoh_rop = []  \n",
    "meoh_moles_norm = []\n",
    "temps = []\n",
    "press = []\n",
    "times = []\n",
    "conversions = []\n",
    "r.volume = 0.1\n",
    "\n",
    "# see if the Rop is constant\n",
    "while t < reactime and conversion < 0.05:\n",
    "    t += dt\n",
    "    sim.advance(t)\n",
    "    meoh_total_rop = gas.net_production_rates[meoh_gas_index] + surf.net_production_rates[meoh_surf_index]\n",
    "    meoh_total_rop = meoh_total_rop/surf.site_density\n",
    "    meoh_rop.append(meoh_total_rop)\n",
    "    times.append(sim.time) # time in minutes\n",
    "    temps.append(gas.T)\n",
    "    press.append(gas.P)\n",
    "    \n",
    "    moles_co2_initial = p_co2*r.volume/(ct.gas_constant*initial_temp) # Pco2*v/RT\n",
    "    moles_meoh = (gas[meoh_str].X*gas.P*r.volume)/(ct.gas_constant*gas.T) # mole frac*total moles\n",
    "    moles_co2 = (gas[co2_str].X*gas.P*r.volume)/(ct.gas_constant*gas.T) # mole frac*total moles\n",
    "        \n",
    "        \n",
    "    # calculate conversion:\n",
    "    # (moles meoh possible (starting moles co2)-moles meoh current)/moles co2 initial\n",
    "    conversion = (moles_co2_initial - moles_co2)/moles_co2_initial\n",
    "    \n",
    "    conversions.append(conversion)\n",
    "    \n",
    "    # calculate the moles methanol normalized\n",
    "    # to the number of surface sites\n",
    "    meoh_moles_norm.append(float(moles_meoh/(surf.site_density*cat_area))) "
   ]
  },
  {
   "cell_type": "code",
   "execution_count": 10,
   "id": "8eee2edb",
   "metadata": {},
   "outputs": [
    {
     "data": {
      "text/plain": [
       "{'N2': 0.0,\n",
       " 'Ne': 0.0,\n",
       " 'H2(2)': 0.8889077030970296,\n",
       " 'CO(3)': 4.177827704010003e-05,\n",
       " 'CO2(4)': 0.09594673942165738,\n",
       " 'H2O(5)': 0.010083642152393725,\n",
       " 'CH3OH(6)': 4.869147390351992e-07,\n",
       " 'CH4(24)': 0.005019436710939741,\n",
       " 'CH2O(37)': 5.1523923982151074e-11,\n",
       " 'CH2O2(39)': 2.1337449435135007e-07,\n",
       " 'C2H4O(243)': 8.772183581765387e-15,\n",
       " 'CCO(335)': 1.732845508310836e-13}"
      ]
     },
     "execution_count": 10,
     "metadata": {},
     "output_type": "execute_result"
    }
   ],
   "source": [
    "dict(zip(gas.species_names, gas.X))"
   ]
  },
  {
   "cell_type": "code",
   "execution_count": 11,
   "id": "4772eec8",
   "metadata": {},
   "outputs": [
    {
     "data": {
      "text/plain": [
       "{'X(1)': 0.6074225510427302,\n",
       " 'HX(15)': 0.011993305278096179,\n",
       " 'OX(16)': 3.2070845468011555e-11,\n",
       " 'OCX(17)': 5.544318604160657e-16,\n",
       " 'HOX(19)': 2.2697152178442156e-13,\n",
       " 'CO2X(20)': 3.2236487238676737e-20,\n",
       " 'CXHO(22)': 4.415322067068993e-18,\n",
       " 'HOCXO(23)': 4.998542016685044e-25,\n",
       " 'CH3X(25)': 1.0054712878404106e-13,\n",
       " 'H2OX(26)': 0.00013544562902260323,\n",
       " 'H2X(32)': 0.3718247535832447,\n",
       " 'CH3OX(34)': 6.989000433309765e-24,\n",
       " 'CH3OX(35)': 3.896535618476417e-18,\n",
       " 'CH4OX(36)': 1.605878755394872e-17,\n",
       " 'CHO2X(50)': 1.1335180686574873e-25,\n",
       " 'COX2(52)': 7.275660090738619e-19,\n",
       " 'CH2OX(63)': 7.2535729999142325e-19,\n",
       " 'CHOX2(75)': 2.1484727492371346e-26,\n",
       " 'CH2OX2(99)': 4.515585278165104e-26,\n",
       " 'SX(103)': 1.053307691130658e-36,\n",
       " 'SX(139)': 2.9411021703522727e-35,\n",
       " 'SX(146)': 2.581248206203385e-31,\n",
       " 'SX(151)': 1.7675083681222098e-39,\n",
       " 'CH4X(160)': 0.008623944434507334,\n",
       " 'SX(163)': 3.4942146950497584e-23,\n",
       " 'SX(167)': 1.8080476121110756e-34,\n",
       " 'SX(173)': 6.609972873170103e-25,\n",
       " 'SX(177)': 1.219877862779419e-30,\n",
       " 'SX(179)': 8.45901411057426e-31,\n",
       " 'SX(180)': 1.3816149557075807e-22,\n",
       " 'SX(181)': 2.6718220815981613e-24,\n",
       " 'SX(246)': 1.7772134864084483e-24}"
      ]
     },
     "execution_count": 11,
     "metadata": {},
     "output_type": "execute_result"
    }
   ],
   "source": [
    "surf.TP = 525, surf.P\n",
    "surf.equilibrate('TP')\n",
    "dict(zip(surf.species_names, surf.X))"
   ]
  },
  {
   "cell_type": "code",
   "execution_count": 12,
   "id": "41ba1a19",
   "metadata": {},
   "outputs": [
    {
     "data": {
      "text/plain": [
       "[<matplotlib.lines.Line2D at 0x2b306ee5e1d0>]"
      ]
     },
     "execution_count": 12,
     "metadata": {},
     "output_type": "execute_result"
    },
    {
     "data": {
      "image/png": "[encoded data removed]",
      "text/plain": [
       "<Figure size 432x288 with 1 Axes>"
      ]
     },
     "metadata": {
      "needs_background": "light"
     },
     "output_type": "display_data"
    }
   ],
   "source": [
    "# normalize by site\n",
    "plt.plot(times,conversions)"
   ]
  },
  {
   "cell_type": "markdown",
   "id": "33cb6554",
   "metadata": {},
   "source": [
    "conversion from kmoles meoh to molecule/s (TOF)\n",
    "\n",
    "$N_{MeOH}[kmol]*\\frac{1}{\\Gamma} \\left[\\frac{m^2}{kmol}\\right] *\\frac{1}{Area} \\left[\\frac{1}{m^2}\\right]* \\frac{1}{time}\\left[\\frac{1}{s}\\right] = TOF \\left[\\frac{1}{s}\\right]$ "
   ]
  },
  {
   "cell_type": "code",
   "execution_count": 13,
   "id": "28ebd0e3",
   "metadata": {},
   "outputs": [
    {
     "name": "stdout",
     "output_type": "stream",
     "text": [
      "-1.2667541237291353e-06\n"
     ]
    }
   ],
   "source": [
    "x1 = times[0]\n",
    "x2 = times[-1]\n",
    "y1 = meoh_moles_norm[0]\n",
    "y2 = meoh_moles_norm[-1]\n",
    "slope = (y1-y2)/(x1-x2)\n",
    "print(slope)"
   ]
  },
  {
   "cell_type": "code",
   "execution_count": 14,
   "id": "d30c63fa",
   "metadata": {},
   "outputs": [
    {
     "name": "stdout",
     "output_type": "stream",
     "text": [
      "slope:  -1.266681692529301e-06 \n",
      "intercept:  0.003471902425504385 \n",
      "r^2 value:  0.9999480403482989 \n",
      "p value:  1.7789671159213306e-46 \n",
      "std error:  1.992517961986426e-09\n"
     ]
    }
   ],
   "source": [
    "from scipy import stats\n",
    "slope, intercept, r_value, p_value, std_err = stats.linregress(times,meoh_moles_norm)\n",
    "print(\n",
    "    \"slope: \", slope,\n",
    "    \"\\nintercept: \", intercept, \n",
    "    \"\\nr^2 value: \", r_value**2, \n",
    "    \"\\np value: \", p_value, \n",
    "    \"\\nstd error: \", std_err \n",
    ")"
   ]
  },
  {
   "cell_type": "markdown",
   "id": "8d4c0e6f",
   "metadata": {},
   "source": [
    "## run multiple times and see if they are close. "
   ]
  },
  {
   "cell_type": "code",
   "execution_count": 15,
   "id": "2cd964c1",
   "metadata": {},
   "outputs": [],
   "source": [
    "import cantera as ct\n",
    "import numpy as np\n",
    "import pandas as pd\n",
    "import math \n",
    "import matplotlib.pyplot as plt\n",
    "from scipy import stats\n",
    "%matplotlib inline"
   ]
  },
  {
   "cell_type": "code",
   "execution_count": 16,
   "id": "b6ddd0a5",
   "metadata": {},
   "outputs": [
    {
     "name": "stdout",
     "output_type": "stream",
     "text": [
      "525\n",
      "iteration 0\n",
      "2400 2400\n",
      "slope:  5.843346660770979e-06 \n",
      "intercept:  -1.0505146657939762e-05 \n",
      "r^2 value:  0.9999661424285359 \n",
      "p value:  0.0 \n",
      "std error:  6.943402102966093e-10\n"
     ]
    },
    {
     "data": {
      "image/png": "[encoded data removed]",
      "text/plain": [
       "<Figure size 432x288 with 1 Axes>"
      ]
     },
     "metadata": {
      "needs_background": "light"
     },
     "output_type": "display_data"
    },
    {
     "name": "stdout",
     "output_type": "stream",
     "text": [
      "550\n",
      "iteration 1\n",
      "2400 2400\n",
      "slope:  6.035826726779019e-06 \n",
      "intercept:  -1.0687170208270006e-05 \n",
      "r^2 value:  0.9999672106934859 \n",
      "p value:  0.0 \n",
      "std error:  7.058061047680285e-10\n"
     ]
    },
    {
     "data": {
      "image/png": "[encoded data removed]",
      "text/plain": [
       "<Figure size 432x288 with 1 Axes>"
      ]
     },
     "metadata": {
      "needs_background": "light"
     },
     "output_type": "display_data"
    },
    {
     "name": "stdout",
     "output_type": "stream",
     "text": [
      "575\n",
      "iteration 2\n",
      "2400 2400\n",
      "slope:  6.2237757504673055e-06 \n",
      "intercept:  -1.0862048938039322e-05 \n",
      "r^2 value:  0.9999681922661239 \n",
      "p value:  0.0 \n",
      "std error:  7.168076282258978e-10\n"
     ]
    },
    {
     "data": {
      "image/png": "[encoded data removed]",
      "text/plain": [
       "<Figure size 432x288 with 1 Axes>"
      ]
     },
     "metadata": {
      "needs_background": "light"
     },
     "output_type": "display_data"
    },
    {
     "name": "stdout",
     "output_type": "stream",
     "text": [
      "600\n",
      "iteration 3\n",
      "2400 2400\n",
      "slope:  6.407470882669093e-06 \n",
      "intercept:  -1.1030374213582845e-05 \n",
      "r^2 value:  0.9999690977442408 \n",
      "p value:  0.0 \n",
      "std error:  7.273841839992409e-10\n"
     ]
    },
    {
     "data": {
      "image/png": "[encoded data removed]",
      "text/plain": [
       "<Figure size 432x288 with 1 Axes>"
      ]
     },
     "metadata": {
      "needs_background": "light"
     },
     "output_type": "display_data"
    }
   ],
   "source": [
    "# load initial data from yang 2010\n",
    "t_mult = 1.0\n",
    "p_mult = 1e0\n",
    "temp = [525, 550, 575, 600]\n",
    "modified_temps = [\n",
    "    525*t_mult, \n",
    "    550*t_mult, \n",
    "    575*t_mult, \n",
    "    600*t_mult\n",
    "]\n",
    "meoh_ln_rate = [\n",
    "    -6.691144708,\n",
    "    -5.978401728,\n",
    "    -4.48812095,\n",
    "    -3.894168467,\n",
    "]\n",
    "\n",
    "rwgs_ln_rate = [\n",
    "    -0.578342066,\n",
    "    0.572607525,\n",
    "    1.171517945,\n",
    "    2.072487534,\n",
    "]\n",
    "\n",
    "# convert to molecules/cm^2/sec\n",
    "meoh_rates_cm = np.exp(meoh_ln_rate)*10**15\n",
    "meoh_rates = dict(zip(temp, meoh_rates_cm))\n",
    "\n",
    "rwgs_rates_cm = np.exp(rwgs_ln_rate)*10**15\n",
    "rwgs_rates = dict(zip(temp, rwgs_rates_cm))\n",
    "\n",
    "# get yang site density from reported rates\n",
    "meoh_rate_tof = 6.3e-3\n",
    "rwgs_rate_tof = 1.8\n",
    "meoh_rate_cm = meoh_rates[575]\n",
    "rwgs_rate_cm = rwgs_rates[575]\n",
    "yang_site_density = np.mean([meoh_rate_cm/meoh_rate_tof, rwgs_rate_cm/rwgs_rate_tof])\n",
    "\n",
    "# yang TOFs\n",
    "meoh_rates_tof = {temp:rate/yang_site_density for temp,rate in meoh_rates.items()}\n",
    "rwgs_rates_tof = {temp:rate/yang_site_density for temp,rate in rwgs_rates.items()}\n",
    "\n",
    "# convert yang pressures to pascals\n",
    "p_co2 = 0.5 * ct.one_atm*p_mult\n",
    "p_h2 =  4.5 * ct.one_atm*p_mult\n",
    "p_total = p_co2+p_h2\n",
    "\n",
    "# get total pressure at initial CO2/H2 temp using ig law pv = nrt\n",
    "initial_temp = 300 #[k]\n",
    "p_total_at_temp = np.array(temp)*p_total/initial_temp\n",
    "\n",
    "x_co2 = p_co2/p_total\n",
    "x_h2 = p_h2/p_total\n",
    "\n",
    "# create thermo phases\n",
    "toy_mech = False\n",
    "\n",
    "# specify cat area. should be somewhat arbitrary but test to be sure.\n",
    "# set to 1cm^2 per campbell paper\n",
    "cat_area = 1e-4\n",
    "\n",
    "\n",
    "if toy_mech: \n",
    "    yaml_file = \"../../External_data/park_et_al_model_reconstruction/park_mech.cti\"\n",
    "\n",
    "    gas = ct.Solution(yaml_file, \"gas\")\n",
    "    surf = ct.Interface(yaml_file,\"surface1\", [gas])\n",
    "    surf.coverages = {'*':1.0}\n",
    "\n",
    "    for name in gas.species_names:\n",
    "        if name.startswith(\"CO2\"):\n",
    "            co2_str = name\n",
    "        if name.startswith(\"H2\"):\n",
    "            h2_str = name\n",
    "        if name.startswith(\"CH3OH\"):\n",
    "            meoh_str = name\n",
    "    surf_site_str = '*'\n",
    "else: \n",
    "    yaml_file = \"/work/westgroup/ChrisB/_01_MeOH_repos/meOH-synthesis/base/cantera/chem_annotated.cti\"\n",
    "    gas = ct.Solution(yaml_file, \"gas\")\n",
    "    surf = ct.Interface(yaml_file,\"surface1\", [gas])\n",
    "\n",
    "    for name in gas.species_names:\n",
    "        if name.startswith(\"CO2(\"):\n",
    "            co2_str = name\n",
    "        if name.startswith(\"H2(\"):\n",
    "            h2_str = name\n",
    "        if name.startswith(\"CH3OH(\"):\n",
    "            meoh_str = name\n",
    "    surf_site_str = 'X(1)'\n",
    "\n",
    "\n",
    "mole_fractions = {co2_str:x_co2,h2_str:x_h2}\n",
    "\n",
    "# molecular weights for mass flow calculations\n",
    "mw_co = 28.01e-3  # [kg/mol]\n",
    "mw_co2 = 44.01e-3  # [kg/mol]\n",
    "mw_h2 = 2.016e-3  # [kg/mol]\n",
    "mw_h2o = 18.01528e-3  # [kg/mol]\n",
    "\n",
    "# run the yang batch reactor\n",
    "nspecies = len(gas.species_names)\n",
    "meoh_gas_index = gas.kinetics_species_index(meoh_str)\n",
    "meoh_surf_index = surf.kinetics_species_index(meoh_str)\n",
    "\n",
    "# data from all runs \n",
    "meoh_rop_dict = {}  \n",
    "meoh_moles_norm_dict = {}\n",
    "temps_dict = {}\n",
    "press_dict = {}\n",
    "times_dict = {}\n",
    "conversions_dict = {}\n",
    "meoh_slope_dict = {}\n",
    "\n",
    "reactime = 200*60\n",
    "dt = 5.0\n",
    "\n",
    "for i in range(len(temp)):\n",
    "    print(temp[i])\n",
    "    print(\"iteration\", i)\n",
    "    \n",
    "    # data for this run\n",
    "    meoh_rop = []  \n",
    "    meoh_moles_norm = []\n",
    "    temps = []\n",
    "    press = []\n",
    "    times = []\n",
    "    conversions = []\n",
    "    \n",
    "    # get total pressure at initial CO2/H2 temp using ig law pv = nrt\n",
    "    initial_temp = 300 #[k]\n",
    "    p_total_at_temp = np.array(temp)*p_total/initial_temp\n",
    "\n",
    "    x_co2 = p_co2/p_total\n",
    "    x_h2 = p_h2/p_total\n",
    "\n",
    "    # set the thermophase (maybe there is a faster way to set this up each time)\n",
    "#     gas.TPX = temp[i], p_total_at_temp[i], mole_fractions\n",
    "    gas.TPX = 300, p_total_at_temp[i], mole_fractions\n",
    "    surf.TP = temp[i], p_total_at_temp[i]\n",
    "    surf.coverages = {surf_site_str:1.0}\n",
    "    r = ct.IdealGasReactor(gas, energy=\"off\")\n",
    "    r.volume = 3e-5 # from cambell at al paper, 30 mL microreactor? \n",
    "    rsurf = ct.ReactorSurface(surf, r, A=cat_area)\n",
    "\n",
    "    # initialize reactor network\n",
    "    sim = ct.ReactorNet([r])\n",
    "    sim.atol = 1e-15\n",
    "    sim.rtol = 1e-13\n",
    "\n",
    "    # see if the Rop is constant\n",
    "    conversion = 0\n",
    "    t = 0\n",
    "    while t < reactime and conversion < 0.05:\n",
    "        t += dt\n",
    "        sim.advance(t)\n",
    "        meoh_total_rop = gas.net_production_rates[meoh_gas_index] + surf.net_production_rates[meoh_surf_index]\n",
    "        meoh_total_rop = meoh_total_rop/surf.site_density\n",
    "        meoh_rop.append(meoh_total_rop)\n",
    "        times.append(sim.time/60) # time in minutes\n",
    "        temps.append(gas.T)\n",
    "        press.append(gas.P)\n",
    "\n",
    "        moles_co2_initial = p_co2*r.volume/(ct.gas_constant*initial_temp) # Pco2*v/RT\n",
    "        moles_meoh = (gas[meoh_str].X*gas.P*r.volume)/(ct.gas_constant*gas.T) # mole frac*total moles\n",
    "        moles_co2 = (gas[co2_str].X*gas.P*r.volume)/(ct.gas_constant*gas.T) # mole frac*total moles\n",
    "        \n",
    "        \n",
    "        # calculate conversion:\n",
    "        # (moles meoh possible (starting moles co2)-moles meoh current)/moles co2 initial\n",
    "        conversion = (moles_co2_initial - moles_co2)/moles_co2_initial\n",
    "        conversions.append(conversion)\n",
    "\n",
    "        # calculate the moles methanol normalized\n",
    "        # to the number of surface sites\n",
    "        meoh_moles_norm.append(float(moles_meoh/(surf.site_density*cat_area))) \n",
    "\n",
    "    meoh_rop_dict[temp[i]] = meoh_rop\n",
    "    meoh_moles_norm_dict[temp[i]] = meoh_moles_norm\n",
    "    temps_dict[temp[i]] = temps\n",
    "    press_dict[temp[i]] = press\n",
    "    times_dict[temp[i]] = times\n",
    "    conversions_dict[temp[i]] = conversions\n",
    "\n",
    "    print(len(times), len(meoh_moles_norm))\n",
    "    meoh_slope, intercept, r_value, p_value, std_err = stats.linregress(times,meoh_moles_norm)\n",
    "    meoh_slope_dict[temp[i]] = meoh_slope\n",
    "    print(\n",
    "        \"slope: \", meoh_slope,\n",
    "        \"\\nintercept: \", intercept, \n",
    "        \"\\nr^2 value: \", r_value**2, \n",
    "        \"\\np value: \", p_value, \n",
    "        \"\\nstd error: \", std_err \n",
    "    )\n",
    "    plt.plot(times,conversions)\n",
    "    plt.show()\n",
    "\n",
    "    \n",
    "# build_and_run_yang()"
   ]
  },
  {
   "cell_type": "code",
   "execution_count": 17,
   "id": "0e62e5b7",
   "metadata": {},
   "outputs": [
    {
     "data": {
      "text/plain": [
       "{525: 5.843346660770979e-06,\n",
       " 550: 6.035826726779019e-06,\n",
       " 575: 6.2237757504673055e-06,\n",
       " 600: 6.407470882669093e-06}"
      ]
     },
     "execution_count": 17,
     "metadata": {},
     "output_type": "execute_result"
    }
   ],
   "source": [
    "meoh_slope_dict"
   ]
  },
  {
   "cell_type": "code",
   "execution_count": 18,
   "id": "3aa33899",
   "metadata": {},
   "outputs": [
    {
     "data": {
      "text/plain": [
       "<matplotlib.legend.Legend at 0x2b3082207910>"
      ]
     },
     "execution_count": 18,
     "metadata": {},
     "output_type": "execute_result"
    },
    {
     "data": {
      "image/png": "[encoded data removed]",
      "text/plain": [
       "<Figure size 432x288 with 1 Axes>"
      ]
     },
     "metadata": {
      "needs_background": "light"
     },
     "output_type": "display_data"
    }
   ],
   "source": [
    "plt.plot(times_dict[525],meoh_moles_norm_dict[525], label = 525)\n",
    "plt.plot(times_dict[550],meoh_moles_norm_dict[550], label = 550)\n",
    "plt.plot(times_dict[575],meoh_moles_norm_dict[575], label = 575)\n",
    "plt.plot(times_dict[600],meoh_moles_norm_dict[600], label = 600)\n",
    "plt.legend()"
   ]
  },
  {
   "cell_type": "code",
   "execution_count": 19,
   "id": "e414512e",
   "metadata": {},
   "outputs": [
    {
     "data": {
      "text/plain": [
       "<matplotlib.legend.Legend at 0x2b3082024a90>"
      ]
     },
     "execution_count": 19,
     "metadata": {},
     "output_type": "execute_result"
    },
    {
     "data": {
      "image/png": "[encoded data removed]",
      "text/plain": [
       "<Figure size 432x288 with 1 Axes>"
      ]
     },
     "metadata": {
      "needs_background": "light"
     },
     "output_type": "display_data"
    }
   ],
   "source": [
    "plt.plot(times_dict[525],press_dict[525], label = 525)\n",
    "plt.plot(times_dict[550],press_dict[550], label = 550)\n",
    "plt.plot(times_dict[575],press_dict[575], label = 575)\n",
    "plt.plot(times_dict[600],press_dict[600], label = 600)\n",
    "plt.legend()"
   ]
  },
  {
   "cell_type": "code",
   "execution_count": 20,
   "id": "18154cce",
   "metadata": {},
   "outputs": [
    {
     "data": {
      "text/plain": [
       "<matplotlib.legend.Legend at 0x2b3082031090>"
      ]
     },
     "execution_count": 20,
     "metadata": {},
     "output_type": "execute_result"
    },
    {
     "data": {
      "image/png": "[encoded data removed]",
      "text/plain": [
       "<Figure size 432x288 with 1 Axes>"
      ]
     },
     "metadata": {
      "needs_background": "light"
     },
     "output_type": "display_data"
    }
   ],
   "source": [
    "plt.plot(times_dict[525],meoh_rop_dict[525], label = 525)\n",
    "plt.plot(times_dict[550],meoh_rop_dict[550], label = 550)\n",
    "plt.plot(times_dict[575],meoh_rop_dict[575], label = 575)\n",
    "plt.plot(times_dict[600],meoh_rop_dict[600], label = 600)\n",
    "plt.legend()"
   ]
  },
  {
   "cell_type": "markdown",
   "id": "8c17a7a6",
   "metadata": {},
   "source": [
    "## baseline model has negative temperature dependence for rate vs temp (rate decreases as temp increases)."
   ]
  },
  {
   "cell_type": "code",
   "execution_count": 21,
   "id": "d926f413",
   "metadata": {},
   "outputs": [
    {
     "data": {
      "text/plain": [
       "{'N2': 0.0,\n",
       " 'Ne': 0.0,\n",
       " 'H2(2)': 0.8999999796713123,\n",
       " 'CO(3)': 2.086425205675977e-11,\n",
       " 'CO2(4)': 0.10000001967179774,\n",
       " 'H2O(5)': 3.28508263917899e-10,\n",
       " 'CH2O(6)': 2.8321776735581146e-20,\n",
       " 'HCOOH(7)': 4.3773833935719554e-15,\n",
       " 'CH3OH(8)': 3.0751334387184664e-10,\n",
       " 'HCOOCH3(9)': 4.369610990297018e-23,\n",
       " 'CH4(24)': 6.409028557539884e-45}"
      ]
     },
     "execution_count": 21,
     "metadata": {},
     "output_type": "execute_result"
    }
   ],
   "source": [
    "dict(zip(gas.species_names, gas.X))"
   ]
  },
  {
   "cell_type": "code",
   "execution_count": 22,
   "id": "64871e47",
   "metadata": {},
   "outputs": [
    {
     "data": {
      "text/plain": [
       "{'X(1)': 0.16340081010601054,\n",
       " 'H*(10)': 0.021911470254290827,\n",
       " 'O*(11)': 4.3485383596462435e-10,\n",
       " 'OH*(12)': 1.0167820593353745e-21,\n",
       " 'H2O*(13)': 3.850424418645762e-11,\n",
       " 'CO*(14)': 5.283693158447452e-07,\n",
       " 'CO2*(15)': 2.4421838547523304e-07,\n",
       " 'HCO*(16)': 4.4009225063384985e-13,\n",
       " 'HCOO*(17)': 4.118487177389385e-17,\n",
       " 'COOH*(18)': 2.0588706989736365e-17,\n",
       " 'HCOOH*(19)': 7.15278991805719e-14,\n",
       " 'CH2O*(20)': 3.1780554988931803e-15,\n",
       " 'CH3O*(21)': 4.4954355777449786e-20,\n",
       " 'CH3O2*(22)': 3.800266678766431e-25,\n",
       " 'CH3OH*(23)': 1.3635085944963489e-08,\n",
       " 'H2X(53)': 0.8146869329430384}"
      ]
     },
     "execution_count": 22,
     "metadata": {},
     "output_type": "execute_result"
    }
   ],
   "source": [
    "dict(zip(surf.species_names, surf.X))"
   ]
  },
  {
   "cell_type": "code",
   "execution_count": 23,
   "id": "32606f92",
   "metadata": {},
   "outputs": [
    {
     "data": {
      "text/plain": [
       "{525: 0.0006943354237582917,\n",
       " 550: 0.001416151334630445,\n",
       " 575: 0.006285363285118115,\n",
       " 600: 0.011383627345307495}"
      ]
     },
     "execution_count": 23,
     "metadata": {},
     "output_type": "execute_result"
    }
   ],
   "source": [
    "meoh_rates_tof"
   ]
  },
  {
   "cell_type": "code",
   "execution_count": 24,
   "id": "25546e25",
   "metadata": {},
   "outputs": [
    {
     "name": "stdout",
     "output_type": "stream",
     "text": [
      "2400 2400\n"
     ]
    }
   ],
   "source": [
    "print(\n",
    "    len(times_dict[575]),\n",
    "    len(meoh_moles_norm_dict[525])\n",
    ")"
   ]
  },
  {
   "cell_type": "code",
   "execution_count": 25,
   "id": "6a8672d3",
   "metadata": {},
   "outputs": [
    {
     "data": {
      "text/plain": [
       "[<matplotlib.lines.Line2D at 0x2b3081ec6250>]"
      ]
     },
     "execution_count": 25,
     "metadata": {},
     "output_type": "execute_result"
    },
    {
     "data": {
      "image/png": "[encoded data removed]",
      "text/plain": [
       "<Figure size 432x288 with 1 Axes>"
      ]
     },
     "metadata": {
      "needs_background": "light"
     },
     "output_type": "display_data"
    }
   ],
   "source": [
    "plt.plot(meoh_slope_dict.keys(), meoh_slope_dict.values())\n",
    "plt.plot(meoh_rates_tof.keys(), meoh_rates_tof.values())"
   ]
  },
  {
   "cell_type": "code",
   "execution_count": 26,
   "id": "26a4aae0",
   "metadata": {},
   "outputs": [
    {
     "data": {
      "text/plain": [
       "[<matplotlib.lines.Line2D at 0x2b30822bc490>]"
      ]
     },
     "execution_count": 26,
     "metadata": {},
     "output_type": "execute_result"
    },
    {
     "data": {
      "image/png": "[encoded data removed]",
      "text/plain": [
       "<Figure size 432x288 with 1 Axes>"
      ]
     },
     "metadata": {
      "needs_background": "light"
     },
     "output_type": "display_data"
    }
   ],
   "source": [
    "plt.plot(meoh_rates_tof.keys(), meoh_rates_tof.values())"
   ]
  },
  {
   "cell_type": "code",
   "execution_count": 27,
   "id": "5f54a4fb",
   "metadata": {},
   "outputs": [
    {
     "ename": "NameError",
     "evalue": "name 'self' is not defined",
     "output_type": "error",
     "traceback": [
      "\u001b[0;31m---------------------------------------------------------------------------\u001b[0m",
      "\u001b[0;31mNameError\u001b[0m                                 Traceback (most recent call last)",
      "\u001b[0;32m<ipython-input-27-6e10ffb2c8f2>\u001b[0m in \u001b[0;36m<module>\u001b[0;34m\u001b[0m\n\u001b[0;32m----> 1\u001b[0;31m \u001b[0msurf_ROP_str\u001b[0m \u001b[0;34m=\u001b[0m \u001b[0;34m[\u001b[0m\u001b[0mi\u001b[0m \u001b[0;34m+\u001b[0m \u001b[0;34m\" ROP [kmol/m^2 s]\"\u001b[0m \u001b[0;32mfor\u001b[0m \u001b[0mi\u001b[0m \u001b[0;32min\u001b[0m \u001b[0mself\u001b[0m\u001b[0;34m.\u001b[0m\u001b[0mgas\u001b[0m\u001b[0;34m.\u001b[0m\u001b[0mspecies_names\u001b[0m\u001b[0;34m]\u001b[0m\u001b[0;34m\u001b[0m\u001b[0;34m\u001b[0m\u001b[0m\n\u001b[0m\u001b[1;32m      2\u001b[0m \u001b[0;34m\u001b[0m\u001b[0m\n\u001b[1;32m      3\u001b[0m \u001b[0;34m\u001b[0m\u001b[0m\n\u001b[1;32m      4\u001b[0m \u001b[0;34m\u001b[0m\u001b[0m\n\u001b[1;32m      5\u001b[0m \u001b[0msurf\u001b[0m\u001b[0;34m.\u001b[0m\u001b[0mkinetics_species_index\u001b[0m\u001b[0;34m(\u001b[0m\u001b[0;36m0\u001b[0m\u001b[0;34m,\u001b[0m \u001b[0msurf\u001b[0m\u001b[0;34m.\u001b[0m\u001b[0mphase_index\u001b[0m\u001b[0;34m(\u001b[0m\u001b[0msurf\u001b[0m\u001b[0;34m)\u001b[0m\u001b[0;34m)\u001b[0m\u001b[0;34m\u001b[0m\u001b[0;34m\u001b[0m\u001b[0m\n",
      "\u001b[0;31mNameError\u001b[0m: name 'self' is not defined"
     ]
    }
   ],
   "source": [
    "surf_ROP_str = [i + \" ROP [kmol/m^2 s]\" for i in self.gas.species_names]\n",
    "\n",
    "\n",
    "\n",
    "surf.kinetics_species_index(0, surf.phase_index(surf))"
   ]
  },
  {
   "cell_type": "code",
   "execution_count": 31,
   "id": "cb6b043a",
   "metadata": {},
   "outputs": [
    {
     "data": {
      "text/plain": [
       "11"
      ]
     },
     "execution_count": 31,
     "metadata": {},
     "output_type": "execute_result"
    }
   ],
   "source": [
    "surf.kinetics_species_index(0, surf.phase_index(surf))"
   ]
  },
  {
   "cell_type": "code",
   "execution_count": 30,
   "id": "1c966923",
   "metadata": {
    "scrolled": false
   },
   "outputs": [
    {
     "data": {
      "text/plain": [
       "['DP',\n",
       " 'DPX',\n",
       " 'DPY',\n",
       " 'HP',\n",
       " 'HPX',\n",
       " 'HPY',\n",
       " 'ID',\n",
       " 'P',\n",
       " 'P_sat',\n",
       " 'SP',\n",
       " 'SPX',\n",
       " 'SPY',\n",
       " 'SV',\n",
       " 'SVX',\n",
       " 'SVY',\n",
       " 'T',\n",
       " 'TD',\n",
       " 'TDX',\n",
       " 'TDY',\n",
       " 'TP',\n",
       " 'TPX',\n",
       " 'TPY',\n",
       " 'T_sat',\n",
       " 'UV',\n",
       " 'UVX',\n",
       " 'UVY',\n",
       " 'X',\n",
       " 'Y',\n",
       " '__call__',\n",
       " '__class__',\n",
       " '__copy__',\n",
       " '__delattr__',\n",
       " '__dir__',\n",
       " '__doc__',\n",
       " '__eq__',\n",
       " '__format__',\n",
       " '__ge__',\n",
       " '__getattribute__',\n",
       " '__getitem__',\n",
       " '__gt__',\n",
       " '__hash__',\n",
       " '__init__',\n",
       " '__init_subclass__',\n",
       " '__le__',\n",
       " '__lt__',\n",
       " '__module__',\n",
       " '__ne__',\n",
       " '__new__',\n",
       " '__pyx_vtable__',\n",
       " '__reduce__',\n",
       " '__reduce_ex__',\n",
       " '__repr__',\n",
       " '__setattr__',\n",
       " '__sizeof__',\n",
       " '__slots__',\n",
       " '__str__',\n",
       " '__subclasshook__',\n",
       " '_check_kinetics_species_index',\n",
       " '_check_phase_index',\n",
       " '_check_reaction_index',\n",
       " '_full_states',\n",
       " '_init_cti_xml',\n",
       " '_init_parts',\n",
       " '_phase_indices',\n",
       " '_phase_slice',\n",
       " '_references',\n",
       " 'activities',\n",
       " 'activity_coefficients',\n",
       " 'add_reaction',\n",
       " 'add_species',\n",
       " 'advance_coverages',\n",
       " 'atomic_weight',\n",
       " 'atomic_weights',\n",
       " 'basis',\n",
       " 'chemical_potentials',\n",
       " 'concentrations',\n",
       " 'coverages',\n",
       " 'cp',\n",
       " 'cp_mass',\n",
       " 'cp_mole',\n",
       " 'creation_rates',\n",
       " 'critical_density',\n",
       " 'critical_pressure',\n",
       " 'critical_temperature',\n",
       " 'cv',\n",
       " 'cv_mass',\n",
       " 'cv_mole',\n",
       " 'delta_enthalpy',\n",
       " 'delta_entropy',\n",
       " 'delta_gibbs',\n",
       " 'delta_standard_enthalpy',\n",
       " 'delta_standard_entropy',\n",
       " 'delta_standard_gibbs',\n",
       " 'density',\n",
       " 'density_mass',\n",
       " 'density_mole',\n",
       " 'destruction_rates',\n",
       " 'electric_potential',\n",
       " 'electrochemical_potentials',\n",
       " 'element_index',\n",
       " 'element_name',\n",
       " 'element_names',\n",
       " 'element_potentials',\n",
       " 'elemental_mass_fraction',\n",
       " 'elemental_mole_fraction',\n",
       " 'enthalpy_mass',\n",
       " 'enthalpy_mole',\n",
       " 'entropy_mass',\n",
       " 'entropy_mole',\n",
       " 'equilibrate',\n",
       " 'equilibrium_constants',\n",
       " 'forward_rate_constants',\n",
       " 'forward_rates_of_progress',\n",
       " 'g',\n",
       " 'get_creation_rates',\n",
       " 'get_destruction_rates',\n",
       " 'get_equivalence_ratio',\n",
       " 'get_net_production_rates',\n",
       " 'gibbs_mass',\n",
       " 'gibbs_mole',\n",
       " 'h',\n",
       " 'int_energy_mass',\n",
       " 'int_energy_mole',\n",
       " 'is_reversible',\n",
       " 'isothermal_compressibility',\n",
       " 'kinetics_species_index',\n",
       " 'mass_fraction_dict',\n",
       " 'max_temp',\n",
       " 'mean_molecular_weight',\n",
       " 'min_temp',\n",
       " 'modify_reaction',\n",
       " 'modify_species',\n",
       " 'mole_fraction_dict',\n",
       " 'molecular_weights',\n",
       " 'multiplier',\n",
       " 'n_atoms',\n",
       " 'n_elements',\n",
       " 'n_phases',\n",
       " 'n_reactions',\n",
       " 'n_selected_species',\n",
       " 'n_species',\n",
       " 'n_total_species',\n",
       " 'name',\n",
       " 'net_production_rates',\n",
       " 'net_rates_of_progress',\n",
       " 'partial_molar_cp',\n",
       " 'partial_molar_enthalpies',\n",
       " 'partial_molar_entropies',\n",
       " 'partial_molar_int_energies',\n",
       " 'partial_molar_volumes',\n",
       " 'phase_index',\n",
       " 'product_stoich_coeff',\n",
       " 'product_stoich_coeffs',\n",
       " 'products',\n",
       " 'reactant_stoich_coeff',\n",
       " 'reactant_stoich_coeffs',\n",
       " 'reactants',\n",
       " 'reaction',\n",
       " 'reaction_equation',\n",
       " 'reaction_equations',\n",
       " 'reaction_phase_index',\n",
       " 'reaction_type',\n",
       " 'reactions',\n",
       " 'reference_pressure',\n",
       " 'report',\n",
       " 'reverse_rate_constants',\n",
       " 'reverse_rates_of_progress',\n",
       " 's',\n",
       " 'selected_species',\n",
       " 'set_equivalence_ratio',\n",
       " 'set_multiplier',\n",
       " 'set_unnormalized_coverages',\n",
       " 'set_unnormalized_mass_fractions',\n",
       " 'set_unnormalized_mole_fractions',\n",
       " 'site_density',\n",
       " 'species',\n",
       " 'species_index',\n",
       " 'species_name',\n",
       " 'species_names',\n",
       " 'standard_cp_R',\n",
       " 'standard_enthalpies_RT',\n",
       " 'standard_entropies_R',\n",
       " 'standard_gibbs_RT',\n",
       " 'standard_int_energies_RT',\n",
       " 'state',\n",
       " 'thermal_expansion_coeff',\n",
       " 'u',\n",
       " 'v',\n",
       " 'volume_mass',\n",
       " 'volume_mole']"
      ]
     },
     "execution_count": 30,
     "metadata": {},
     "output_type": "execute_result"
    }
   ],
   "source": [
    "dir(surf)"
   ]
  },
  {
   "cell_type": "code",
   "execution_count": null,
   "id": "dcd5d754",
   "metadata": {},
   "outputs": [],
   "source": []
  },
  {
   "cell_type": "code",
   "execution_count": null,
   "id": "b6351236",
   "metadata": {},
   "outputs": [],
   "source": []
  }
 ],
 "metadata": {
  "kernelspec": {
   "display_name": "rmg_julia_env",
   "language": "python",
   "name": "rmg_julia_env"
  },
  "language_info": {
   "codemirror_mode": {
    "name": "ipython",
    "version": 3
   },
   "file_extension": ".py",
   "mimetype": "text/x-python",
   "name": "python",
   "nbconvert_exporter": "python",
   "pygments_lexer": "ipython3",
   "version": "3.7.11"
  }
 },
 "nbformat": 4,
 "nbformat_minor": 5
}
