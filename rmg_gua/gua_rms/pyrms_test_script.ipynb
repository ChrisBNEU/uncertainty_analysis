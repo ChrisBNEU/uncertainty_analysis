{
 "cells": [
  {
   "cell_type": "markdown",
   "id": "d3163c75-25a4-454f-bf21-d2a93f2a4d38",
   "metadata": {},
   "source": [
    "## PyRMS test script"
   ]
  },
  {
   "cell_type": "markdown",
   "id": "6bd19049-ff84-4b0e-b616-c1fbc51e6268",
   "metadata": {},
   "source": [
    "simple test script for executing rms from python, for use in the uncertainty pipeline. rms does sensitivities faster\n"
   ]
  },
  {
   "cell_type": "code",
   "execution_count": 28,
   "id": "0b89be26-cbe1-4887-9efb-88a25606f700",
   "metadata": {},
   "outputs": [],
   "source": [
    "from pyrms import rms\n",
    "from diffeqpy import de\n",
    "from julia import Main\n",
    "import yaml\n",
    "from julia import Sundials\n",
    "from diffeqpy import de\n",
    "import time \n",
    "import matplotlib\n",
    "from copy import deepcopy\n",
    "from rmgpy.chemkin import load_chemkin_file\n",
    "from rmgpy.rmg.model import ReactionModel\n",
    "from rmgpy.species import Species\n",
    "from rmgpy.kinetics import StickingCoefficientBEP, StickingCoefficient, SurfaceArrheniusBEP, SurfaceArrhenius\n",
    "from rmgpy.data.kinetics.database import KineticsDatabase\n",
    "import os\n",
    "import copy\n",
    "%matplotlib inline"
   ]
  },
  {
   "cell_type": "code",
   "execution_count": 29,
   "id": "61a678ee-9be4-4027-a7da-10bbbcca614d",
   "metadata": {},
   "outputs": [],
   "source": [
    "file_dir = \"/Users/blais.ch/Documents/_01_code/05_Project_repos_Github/meOH_repos/uncertainty_analysis/rmg_gua/baseline/rms/chem53.rms\"\n",
    "phase_dict = rms.readinput(file_dir)"
   ]
  },
  {
   "cell_type": "code",
   "execution_count": 30,
   "id": "dfdb16e0",
   "metadata": {},
   "outputs": [],
   "source": [
    "base_path = \"/\".join(file_dir.split(\"/\")[:-2])\n",
    "base_path = os.path.join(base_path, \"chemkin\")\n",
    "cmkn_path = os.path.join(base_path, \"chem_annotated-gas.inp\")\n",
    "cmkn_surf_path = os.path.join(base_path, \"chem_annotated-surface.inp\")\n",
    "cmkn_dict_path = os.path.join(base_path, \"species_dictionary.txt\")\n",
    "# file_dir.replace(file_dir.split(\"/\")[-1], \"/chemkin\")"
   ]
  },
  {
   "cell_type": "code",
   "execution_count": 31,
   "id": "01a4ab34-1e9b-40a9-ab40-71d936a67689",
   "metadata": {},
   "outputs": [],
   "source": [
    "expt_condts = \"/Users/blais.ch/Documents/_01_code/05_Project_repos_Github/meOH_repos/uncertainty_analysis/rmg_gua/gua_cantera/all_experiments_reorg_sbr.yaml\"\n",
    "\n",
    "with open(expt_condts, 'r') as file:\n",
    "    data = yaml.safe_load(file)\n",
    "\n",
    "# pick just one experiment for example \n",
    "conditions = data[2]\n",
    "\n",
    "# convert volume flow to molar flow\n",
    "conditions[\"volume_flowrate\"]\n",
    "\n",
    "FC_temp = 293.15\n",
    "conditions[\"molar_flow\"] = conditions[\"volume_flowrate\"] * 1.01325e5 / (8.3145 * FC_temp) "
   ]
  },
  {
   "cell_type": "code",
   "execution_count": 32,
   "id": "bc8a85a8-3b5b-4f55-a601-113e92e8b434",
   "metadata": {},
   "outputs": [],
   "source": [
    "intfc_key = list(phase_dict.keys())[0]\n",
    "\n",
    "# mechanism dictionaries index:  phase_dict[phasename][\"Species\" or \"Reactions\"]\n",
    "gasspcs = phase_dict[\"gas\"][\"Species\"]\n",
    "gasrxns = phase_dict[\"gas\"][\"Reactions\"]\n",
    "surfacespcs = phase_dict[\"surface\"][\"Species\"]\n",
    "surfacerxns = phase_dict[\"surface\"][\"Reactions\"]\n",
    "interfacerxns = phase_dict[intfc_key][\"Reactions\"]"
   ]
  },
  {
   "cell_type": "code",
   "execution_count": 33,
   "id": "c84d1585-47b8-4771-ab41-138eba944824",
   "metadata": {},
   "outputs": [],
   "source": [
    "#Define the phase (how species thermodynamic and kinetic properties calculated)\n",
    "ig = rms.IdealGas(gasspcs,gasrxns,name=\"gas\") \n",
    "cat = rms.IdealSurface(surfacespcs, surfacerxns, 2.943e-5, name=\"surface\")"
   ]
  },
  {
   "cell_type": "code",
   "execution_count": 34,
   "id": "91f278d5-702b-4414-bda7-cb048d9a8601",
   "metadata": {},
   "outputs": [],
   "source": [
    "# Set simulation gas Initial Temp and Pressure\n",
    "initialcondsgas = {\n",
    "        \"T\":conditions[\"temperature\"],\n",
    "        \"P\":conditions[\"pressure\"],\n",
    "        \"CO\":conditions[\"species\"][\"CO\"],\n",
    "        \"CO2\":conditions[\"species\"][\"CO2\"],\n",
    "        \"H2\":conditions[\"species\"][\"H2\"],\n",
    "} \n",
    "# Define the domain (encodes how system thermodynamic properties calculated)\n",
    "domaingas,y0gas,pgas = rms.ConstantTPDomain(phase=ig,initialconds=initialcondsgas,sensitivity=True)"
   ]
  },
  {
   "cell_type": "code",
   "execution_count": 35,
   "id": "5d1b8cdc-9b48-4bc9-b0a0-feadf9f35557",
   "metadata": {},
   "outputs": [],
   "source": [
    "# Set simulation surf Initial Temp and Pressure\n",
    "V = conditions[\"volume\"]\n",
    "A = conditions[\"catalyst_area\"]\n",
    "initialconds = {\n",
    "        \"T\":conditions[\"temperature\"],\n",
    "        \"A\":conditions[\"catalyst_area\"],\n",
    "        \"X\":cat.sitedensity*A\n",
    "} \n",
    "# Define the domain (encodes how system thermodynamic properties calculated)\n",
    "domaincat,y0cat,pcat = rms.ConstantTAPhiDomain(phase=cat,initialconds=initialconds,sensitivity=True);"
   ]
  },
  {
   "cell_type": "markdown",
   "id": "c7c65c66-3f35-49bd-aca6-866306b48e7d",
   "metadata": {
    "tags": []
   },
   "source": [
    "## make reactor, inlet and outlet\n",
    "- makes an anonymous function x->42, is that velocity in? need to check if it is velocity or volume flowrate\n",
    "- also, I think the ```phi``` refers to chemical potential, but I should check, I think constantTPhi is just const T for our case. "
   ]
  },
  {
   "cell_type": "code",
   "execution_count": 36,
   "id": "586493c0-f506-4b69-81c8-0fdfbd0a7dfc",
   "metadata": {},
   "outputs": [],
   "source": [
    "initialcondsinlet = {\n",
    "        \"T\":conditions[\"temperature\"],\n",
    "        \"P\":conditions[\"pressure\"],\n",
    "        \"CO\":conditions[\"species\"][\"CO\"],\n",
    "        \"CO2\":conditions[\"species\"][\"CO2\"],\n",
    "        \"H2\":conditions[\"species\"][\"H2\"],\n",
    "    }\n",
    "\n",
    "# construct reactor\n",
    "inter,pinter = rms.ReactiveInternalInterfaceConstantTPhi(domaingas,domaincat,interfacerxns,initialcondsinlet[\"T\"],A);\n",
    "\n",
    "# make inlet and outlet\n",
    "inletgas = rms.Inlet(domaingas,initialcondsinlet,Main.eval(\"x->\"+str(conditions[\"molar_flow\"])))\n",
    "outletgas = rms.Outlet(domaingas,Main.eval(\"x->\"+str(conditions[\"molar_flow\"])))"
   ]
  },
  {
   "cell_type": "code",
   "execution_count": 37,
   "id": "da30c2a1-23d9-49d7-b9f9-1e1aba1c4063",
   "metadata": {},
   "outputs": [],
   "source": [
    "# Define domains and interfaces\n",
    "domains = (domaingas,domaincat)\n",
    "interfaces = [inter,inletgas,outletgas]\n",
    "\n",
    "# create a reactor for the system\n",
    "react,y0,p = rms.Reactor(domains,(y0gas,y0cat),(0.0,100),interfaces,(pgas,pcat,pinter)) # Create the reactor object"
   ]
  },
  {
   "cell_type": "code",
   "execution_count": 38,
   "id": "a67b362b-4e3c-4f68-b17b-db3b247991f2",
   "metadata": {},
   "outputs": [
    {
     "name": "stdout",
     "output_type": "stream",
     "text": [
      "elapsed time for sim:  0.25319600105285645\n"
     ]
    }
   ],
   "source": [
    "# run the simulation\n",
    "t1 = time.time()\n",
    "sol = de.solve(react.ode,de.CVODE_BDF(),abstol=1e-20,reltol=1e-8)\n",
    "t2 = time.time()\n",
    "print(\"elapsed time for sim: \", t2-t1)"
   ]
  },
  {
   "cell_type": "code",
   "execution_count": 39,
   "id": "abe90bc8-41ef-4045-98ae-22a830ad8e6f",
   "metadata": {},
   "outputs": [],
   "source": [
    "ssys = rms.SystemSimulation(sol,domains,interfaces,p)"
   ]
  },
  {
   "cell_type": "code",
   "execution_count": 40,
   "id": "761236d1",
   "metadata": {},
   "outputs": [],
   "source": [
    "results = {}\n",
    "gas_names = ssys.sims[0].names\n",
    "gas_moles = rms.molefractions(ssys.sims[0], 100)\n",
    "for (name, moles) in zip(gas_names, gas_moles):\n",
    "    results[name] = moles\n",
    "\n",
    "# surface\n",
    "surf_names = ssys.sims[1].names\n",
    "surf_moles = rms.molefractions(ssys.sims[1],  100)\n",
    "for (name, moles) in zip(surf_names, surf_moles):\n",
    "    results[name] = moles\n"
   ]
  },
  {
   "cell_type": "code",
   "execution_count": 41,
   "id": "278b2260",
   "metadata": {},
   "outputs": [
    {
     "data": {
      "text/plain": [
       "True"
      ]
     },
     "execution_count": 41,
     "metadata": {},
     "output_type": "execute_result"
    }
   ],
   "source": [
    "len(gas_moles) ==len(gas_names)"
   ]
  },
  {
   "cell_type": "code",
   "execution_count": 42,
   "id": "aca72ad3",
   "metadata": {},
   "outputs": [
    {
     "data": {
      "text/plain": [
       "{'N2': 0.0,\n",
       " 'Ne': 0.0,\n",
       " 'H2': 0.04164883545722103,\n",
       " 'CO': 0.1000626484453466,\n",
       " 'CO2': 0.13237922193777105,\n",
       " 'H2O': 0.5386249256880566,\n",
       " 'CH2O': 7.469821028233595e-11,\n",
       " 'HCOOH': 3.725676036147179e-08,\n",
       " 'CH3OH': 4.129487972930393e-07,\n",
       " 'HCOOCH3': 3.482633031606602e-13,\n",
       " 'CC(=O)O': 5.375587579443266e-08,\n",
       " 'CCO': 8.388932811780068e-09,\n",
       " 'CC=O': 4.0429323559552495e-10,\n",
       " 'CC': 0.08082790603336504,\n",
       " 'CH4': 0.10645594960853413,\n",
       " 'X': 0.6162868580762426,\n",
       " 'H*': 0.006040081325182351,\n",
       " 'O*': 7.695385081732824e-09,\n",
       " 'OH*': 9.586582536897821e-11,\n",
       " 'H2O*': 0.02794832949289395,\n",
       " 'CO*': 0.00029843758194912537,\n",
       " 'CO2*': 0.035734537881668034,\n",
       " 'HCO*': 8.351686310992187e-07,\n",
       " 'HCOO*': 4.859161343805154e-05,\n",
       " 'COOH*': 1.4116742462032423e-06,\n",
       " 'HCOOH*': 3.888306812386699e-06,\n",
       " 'CH2O*': 3.772078494818949e-08,\n",
       " 'CH3O*': 2.029480818852885e-13,\n",
       " 'CH3O2*': 3.1241916626860184e-16,\n",
       " 'CH3OH*': 2.5011860810508693e-07,\n",
       " 'OC[Pt]': 3.476696631820763e-07,\n",
       " 'O=COC[Pt]': 2.1529639012023253e-14,\n",
       " 'OCOC[Pt]': 2.625217907632552e-18,\n",
       " 'COCO[Pt]': 9.233332760190499e-20,\n",
       " 'COC=O.[Pt]': 1.84950026204777e-10,\n",
       " 'CC(=O)[Pt]': 3.160589333901229e-05,\n",
       " 'C=C=O.[Pt]': 2.1642487854335883e-08,\n",
       " 'C=C(O)O[Pt]': 3.272920665105898e-09,\n",
       " 'C=CO[Pt]': 9.30617699527152e-10,\n",
       " 'CC(=O)O.[Pt]': 4.089787314579024e-07,\n",
       " 'CC(O)O[Pt]': 1.0262600871071814e-15,\n",
       " 'CH3X': 1.26017904110014e-09,\n",
       " 'CCO.[Pt]': 7.191649763311786e-12,\n",
       " 'CC(=O)O[Pt]': 1.3922776679332866e-14,\n",
       " 'CC=O.[Pt]': 5.1364031246810104e-08,\n",
       " 'CC(O)[Pt]': 2.165408792279849e-12,\n",
       " 'CCO[Pt]': 1.940074672424397e-13,\n",
       " 'CC.[Pt]': 0.313604290844842,\n",
       " 'CC[Pt]': 4.9921786562969804e-11,\n",
       " 'CH2X': 9.683239943174157e-17,\n",
       " 'O=C([Pt])CO': 1.8933822748486988e-16,\n",
       " 'O=C=C[Pt]': 1.1444407218152788e-09,\n",
       " 'OCO.[Pt]': 2.3763100299150006e-12}"
      ]
     },
     "execution_count": 42,
     "metadata": {},
     "output_type": "execute_result"
    }
   ],
   "source": [
    "results"
   ]
  },
  {
   "cell_type": "code",
   "execution_count": 43,
   "id": "3e1bad91",
   "metadata": {},
   "outputs": [
    {
     "data": {
      "text/plain": [
       "0.1000626484453466"
      ]
     },
     "execution_count": 43,
     "metadata": {},
     "output_type": "execute_result"
    }
   ],
   "source": [
    "rms.molefractions(ssys.sims[0], \"CO\", 100)"
   ]
  },
  {
   "cell_type": "code",
   "execution_count": 44,
   "id": "6fcc72c1",
   "metadata": {},
   "outputs": [],
   "source": [
    "# load the chemkin file for the mechanism\n",
    "chemkin_file = \"/Users/blais.ch/Documents/_01_code/05_Project_repos_Github/meOH_repos/uncertainty_analysis/rmg_gua/baseline/chemkin/chem_annotated-gas.inp\"\n",
    "chemkin_surf_file = \"/Users/blais.ch/Documents/_01_code/05_Project_repos_Github/meOH_repos/uncertainty_analysis/rmg_gua/baseline/chemkin/chem_annotated-surface.inp\"\n",
    "chemkin_dict = \"/Users/blais.ch/Documents/_01_code/05_Project_repos_Github/meOH_repos/uncertainty_analysis/rmg_gua/baseline/chemkin/species_dictionary.txt\"\n",
    "model = ReactionModel()\n",
    "\n",
    "model.species, model.reactions = load_chemkin_file(\n",
    "    chemkin_file,\n",
    "    chemkin_dict, \n",
    "    surface_path=chemkin_surf_file,\n",
    "    )"
   ]
  },
  {
   "cell_type": "code",
   "execution_count": 45,
   "id": "8e01d149",
   "metadata": {},
   "outputs": [],
   "source": [
    "def make_spc(spc): \n",
    "    \"\"\"\n",
    "    make an RMG object from the rms object\n",
    "    \n",
    "    \"\"\"\n",
    "    if len(spc.adjlist) > 0:\n",
    "        rmg_spc = Species().from_adjacency_list(spc.adjlist)\n",
    "    else: \n",
    "        rmg_spc = Species().from_smiles(spc.smiles)\n",
    "\n",
    "    return rmg_spc"
   ]
  },
  {
   "cell_type": "code",
   "execution_count": 46,
   "id": "70c2e82f",
   "metadata": {},
   "outputs": [
    {
     "name": "stdout",
     "output_type": "stream",
     "text": [
      "CH3X+CC(=O)O.[Pt]<=>CH3OH*+CC(=O)[Pt] 3\n",
      "X+CH3OH*<=>H*+OC[Pt] 4\n",
      "H*+CH3OH*<=>H2O*+CH3X 32\n",
      "CH2O*+OC[Pt]<=>X+OCOC[Pt] 36\n",
      "HCO*+CH3OH*<=>H*+COC=O.[Pt] 125\n",
      "H*+COC=O.[Pt]<=>X+COCO[Pt] 294\n",
      "CH3X+OCO.[Pt]<=>OC[Pt]+CH3OH* 630\n",
      "CO*+CH3OH*<=>HCO*+OC[Pt] 648\n",
      "CO*+CH3OH*<=>COOH*+CH3X 704\n",
      "HCOOH*+OC[Pt]<=>HCOO*+CH3OH* 726\n",
      "CO*+CH3OH*<=>OH*+CC(=O)[Pt] 1300\n",
      "OH*+CC(=O)O.[Pt]<=>COOH*+CH3OH* 1728\n",
      "CH3OH*+CC[Pt]<=>OC[Pt]+CC.[Pt] 2556\n",
      "CO*+CH3OH*<=>H*+O=C([Pt])CO 4116\n",
      "CH2O*+OC[Pt]<=>HCO*+CH3OH* 4225\n",
      "X+H2O*<=>H*+OH* 4761\n",
      "OH*+C=C=O.[Pt]<=>X+C=C(O)O[Pt] 4828\n",
      "OH*+HCOOH*<=>H2O*+COOH* 4970\n",
      "H2O*+CC[Pt]<=>OH*+CC.[Pt] 5396\n",
      "OH*+C=C=O.[Pt]<=>X+O=C([Pt])CO 6674\n",
      "O*+COOH*<=>OH*+CO2* 7290\n",
      "OH*+CC=O.[Pt]<=>H2O*+CC(=O)[Pt] 8236\n",
      "CH2O*+CH3OH*<=>H*+OCOC[Pt] 10584\n",
      "HCO*+CH3OH*<=>HCOOH*+CH3X 10648\n",
      "HCOOH*+CC[Pt]<=>HCOO*+CC.[Pt] 10792\n",
      "H*+CO2*<=>X+COOH* 10800\n",
      "COOH*+CH3OH*<=>HCOOH*+OC[Pt] 10816\n",
      "X+HCO*<=>H*+CO* 11322\n",
      "CH2O*+CC[Pt]<=>HCO*+CC.[Pt] 12638\n",
      "H2O*+C=C=O.[Pt]<=>H*+C=C(O)O[Pt] 13064\n",
      "CO*+CC.[Pt]<=>CH3X+CC(=O)[Pt] 13454\n",
      "H*+CH2O*<=>X+OC[Pt] 14079\n",
      "OH*+OC[Pt]<=>H2O*+CH2O* 14976\n",
      "OH*+HCOOH*<=>H2O*+HCOO* 17952\n",
      "OH*+CH3OH*<=>H2O*+OC[Pt] 21964\n",
      "OH*+COOH*<=>H2O*+CO2* 24500\n",
      "HCO*+CH2O*<=>X+O=COC[Pt] 25600\n",
      "OC[Pt]+CC=O.[Pt]<=>CH3OH*+CC(=O)[Pt] 34080\n",
      "CH2O*+CH3X<=>X+CCO[Pt] 39701\n",
      "CH3X+CH3OH*<=>H*+CCO.[Pt] 43452\n",
      "OH*+CH2O*<=>X+CH3O2* 52111\n",
      "H2O*+CO*<=>OH*+HCO* 52272\n",
      "CH2O*+CH2O*<=>H*+O=COC[Pt] 57024\n",
      "OH*+CH2O*<=>H*+HCOOH* 59168\n",
      "CH2O*+CH3OH*<=>H*+COCO[Pt] 59248\n",
      "X+HCOOH*<=>H*+COOH* 62092\n",
      "H*+CC=O.[Pt]<=>X+CCO[Pt] 63000\n",
      "X+CC=O.[Pt]<=>H*+CC(=O)[Pt] 63504\n",
      "H2O*+CO*<=>H*+COOH* 66270\n",
      "CH3X+CC(=O)O.[Pt]<=>COOH*+CC.[Pt] 67068\n",
      "X+CH2O*<=>H*+HCO* 70560\n",
      "OH*+CH2O*<=>H2O*+HCO* 82944\n",
      "H*+CCO.[Pt]<=>OH*+CC.[Pt] 88750\n",
      "H2O*+CC=O.[Pt]<=>H*+CC(O)O[Pt] 89600\n",
      "H*+HCOOH*<=>X+CH3O2* 105644\n",
      "CH2O*+CH3O*<=>X+COCO[Pt] 111328\n",
      "H*+CO2*<=>X+HCOO* 117117\n",
      "CH3X+CH3OH*<=>OH*+CC.[Pt] 119422\n",
      "O*+CC.[Pt]<=>H*+CCO[Pt] 119475\n",
      "HCOOH*+CH3X<=>X+CC(O)O[Pt] 143748\n",
      "OH*+CC=O.[Pt]<=>X+CC(O)O[Pt] 145350\n",
      "CH2O*+CH3X<=>H*+CC=O.[Pt] 166698\n",
      "X+C=C=O.[Pt]<=>CO*+CH2X 188416\n",
      "H*+C=C=O.[Pt]<=>X+CC(=O)[Pt] 202248\n",
      "H2O*+CH2X<=>H*+OC[Pt] 226981\n",
      "H*+CH2O*<=>X+CH3O* 227136\n",
      "H*+CC(=O)O.[Pt]<=>H2O*+CC(=O)[Pt] 230640\n",
      "X+CH2O*<=>O*+CH2X 241968\n",
      "CO*+COC=O.[Pt]<=>HCOO*+CC(=O)[Pt] 254113\n",
      "CH3X+COC=O.[Pt]<=>HCOO*+CC.[Pt] 282807\n",
      "HCOOH*+CH3X<=>H*+COC=O.[Pt] 285120\n",
      "O*+CH2O*<=>H*+HCOO* 303800\n",
      "H*+CCO.[Pt]<=>H2O*+CC[Pt] 309600\n",
      "H*+CC(=O)O.[Pt]<=>X+CC(O)O[Pt] 316875\n",
      "CC(=O)O.[Pt]+CC[Pt]<=>CC(=O)[Pt]+CCO.[Pt] 362100\n",
      "CO*+HCOOH*<=>HCO*+HCOO* 376119\n",
      "H*+CH2X<=>X+CH3X 377856\n",
      "HCO*+CC(=O)O.[Pt]<=>COOH*+CC=O.[Pt] 432160\n",
      "CH3X+CC=O.[Pt]<=>HCO*+CC.[Pt] 453180\n",
      "CO*+OCO.[Pt]<=>COOH*+OC[Pt] 511920\n",
      "CO*+CC.[Pt]<=>HCO*+CC[Pt] 518518\n",
      "H2O*+HCO*<=>H*+HCOOH* 531222\n",
      "HCOO*<=>COOH* 585565\n",
      "H*+OCO.[Pt]<=>H2O*+OC[Pt] 642224\n",
      "CO*+CCO.[Pt]<=>COOH*+CC[Pt] 656608\n",
      "H2O*+CH2O*<=>H*+CH3O2* 660192\n",
      "O*+CC(=O)O.[Pt]<=>COOH*+CH3O* 689216\n",
      "CO*+CCO.[Pt]<=>OC[Pt]+CC(=O)[Pt] 712530\n",
      "OCO.[Pt]+CC[Pt]<=>OC[Pt]+CCO.[Pt] 767084\n",
      "HCO*+HCOOH*<=>HCOO*+CH2O* 767125\n",
      "HCO*+COC=O.[Pt]<=>HCOO*+CC=O.[Pt] 768732\n",
      "CH3X+CCO.[Pt]<=>OC[Pt]+CC.[Pt] 798750\n",
      "CO*+CH2O*<=>HCO*+HCO* 813006\n",
      "CH2O*+CH3O*<=>H*+COC=O.[Pt] 820192\n",
      "H*+CC=O.[Pt]<=>X+CC(O)[Pt] 852852\n",
      "X+CCO.[Pt]<=>H*+CC(O)[Pt] 875004\n",
      "H2O*+C=C=O.[Pt]<=>H*+O=C([Pt])CO 893172\n",
      "COOH*+CH2O*<=>HCO*+HCOOH* 900000\n",
      "CH2X+CC(=O)O.[Pt]<=>OC[Pt]+CC(=O)[Pt] 920160\n",
      "O*+CC.[Pt]<=>CH3X+CH3O* 943164\n",
      "X+C=C=O.[Pt]<=>H*+O=C=C[Pt] 978096\n",
      "X+COC=O.[Pt]<=>H*+O=COC[Pt] 1038020\n",
      "HCO*+CC(=O)O.[Pt]<=>HCOOH*+CC(=O)[Pt] 1149500\n",
      "X+CC.[Pt]<=>H*+CC[Pt] 1162980\n",
      "H*+CH3X<=>X+X+CH4 1322500\n",
      "HCOOH*+O=COC[Pt]<=>HCOO*+COC=O.[Pt] 1336078\n",
      "X+OH*+CH4<=>H2O*+CH3X 1359056\n",
      "CC(O)[Pt]<=>CCO[Pt] 1391742\n",
      "X+O*+CH4<=>OH*+CH3X 1396278\n",
      "X+X+CC<=>H*+CC[Pt] 1434172\n",
      "X+X+CCO<=>OH*+CC[Pt] 1472744\n",
      "COOH*+CC=O.[Pt]<=>HCOOH*+CC(=O)[Pt] 1505910\n",
      "X+CC<=>CC.[Pt] 1512000\n",
      "X+X+CC<=>CH3X+CH3X 1551946\n",
      "X+CC=O<=>CC=O.[Pt] 1592588\n",
      "HCOOH*+CC(O)[Pt]<=>HCOO*+CCO.[Pt] 1595512\n",
      "HCO*+OCO.[Pt]<=>HCOOH*+OC[Pt] 1625758\n",
      "X+X+CC=O<=>HCO*+CH3X 1633932\n",
      "CO*+C=C=O.[Pt]<=>HCO*+O=C=C[Pt] 1656288\n",
      "X+CCO<=>CCO.[Pt] 1675984\n",
      "HCO*+CCO.[Pt]<=>OC[Pt]+CC=O.[Pt] 1687102\n",
      "X+X+CCO<=>CH3X+OC[Pt] 1718750\n",
      "X+X+CC(=O)O<=>COOH*+CH3X 1762236\n",
      "X+X+HCOOCH3<=>HCOO*+CH3X 1806448\n",
      "X+X+CH3OH<=>OH*+CH3X 1851392\n",
      "X+CC(=O)O<=>CC(=O)O.[Pt] 1897074\n",
      "X+X+CC(=O)O<=>OH*+CC(=O)[Pt] 1943500\n",
      "X+HCOOCH3<=>COC=O.[Pt] 1990676\n",
      "X+X+CH3OH<=>H*+OC[Pt] 2038608\n",
      "X+X+HCOOCH3<=>HCO*+CH3O* 2087302\n",
      "X+X+HCOOH<=>H*+HCOO* 2136764\n",
      "X+X+HCOOH<=>OH*+HCO* 2187000\n",
      "X+X+CO2<=>O*+CO* 2238016\n",
      "X+CH3OH<=>CH3OH* 2289818\n",
      "X+HCOOH<=>HCOOH* 2342412\n",
      "X+CO2<=>CO2* 2395804\n",
      "X+H2O<=>H2O* 2450000\n",
      "X+X+H2<=>H*+H* 2505006\n",
      "O*+HCOOH*<=>OH*+HCOO* 7027800\n",
      "CO*+HCOOH*<=>HCO*+COOH* 12660537513012480\n",
      "CO*+CC(=O)O.[Pt]<=>COOH*+CC(=O)[Pt] 2151215275812474009600\n",
      "CO*+CC=O.[Pt]<=>HCO*+CC(=O)[Pt] 2317142965390181794381824\n"
     ]
    }
   ],
   "source": [
    "sens_times = [1e-2, 3e-2, 100]\n",
    "sens_rxn_dict = {}\n",
    "max_len = 0\n",
    "# get the ordering of reactions that are sensitive to CH3OH at different time scales. \n",
    "# our ordering is from highest sensitivity to low. so, start at one. if it is \n",
    "# found to be the first most sensitive at the first time value, then the 5th most sensitive at the \n",
    "# second time value, then the tenth at the third time value then the score it gets is \n",
    "# 1*5*10 = 50\n",
    "\n",
    "for time in sens_times:\n",
    "    sens_rxns, rxn_sens = rms.getrxntransitorysensitivities(ssys, \"CH3OH\", time, tol = 0)\n",
    "    counter = 1\n",
    "    for (rxn, sens) in zip(sens_rxns, rxn_sens):\n",
    "        if rms.getrxnstr(rxn) in sens_rxn_dict.keys():\n",
    "            old_sens = sens_rxn_dict[rms.getrxnstr(rxn)][0]\n",
    "            sens_rxn_dict[rms.getrxnstr(rxn)][0] = counter*old_sens\n",
    "            sens_rxn_dict[rms.getrxnstr(rxn)][1].append(sens)\n",
    "            sens_rxn_dict[rms.getrxnstr(rxn)][2].append(counter)\n",
    "        else:\n",
    "            # print(\"reac str: \", rms.getrxnstr(rxn))\n",
    "            # rxn_adj = rms.getrxnadjlist(rxn)\n",
    "            # rxn_smiles = rms.getrxnsmiles(rxn)\n",
    "            # print(rxn_smiles)\n",
    "            reac_spec = [make_spc(reac) for reac in rxn.reactants]\n",
    "            prod_spec = [make_spc(prod) for prod in rxn.products]\n",
    "            sens_rxn_dict[rms.getrxnstr(rxn)] = [counter, [sens],[counter], reac_spec, prod_spec]\n",
    "\n",
    "        counter +=1\n",
    "    if len(sens_rxns) > max_len:\n",
    "        max_len = len(sens_rxns)\n",
    "    \n",
    "# go through values in sens rxn dict that have fewer than len(sens_times) values \n",
    "# and multiply by max_len + 1. \n",
    "# penalizing for only being sensitive at one time point\n",
    "for rxn in sens_rxn_dict.keys():\n",
    "    if len(sens_rxn_dict[rxn][1]) < len(sens_times):\n",
    "        sens_rxn_dict[rxn][0] *= (max_len + 1)\n",
    "        for i in range(len(sens_times) - len(sens_rxn_dict[rxn][1])):\n",
    "            sens_rxn_dict[rxn][1].append(0)\n",
    "            sens_rxn_dict[rxn][2].append(max_len + 1)\n",
    "            \n",
    "# sort the dictionary by the score\n",
    "sens_rxn_dict = {k: v for k, v in sorted(sens_rxn_dict.items(), key=lambda item: item[1][0])}\n",
    "\n",
    "# print the dict: \n",
    "for rxn_str, entry in sens_rxn_dict.items():\n",
    "    print(rxn_str, entry[0])"
   ]
  },
  {
   "cell_type": "code",
   "execution_count": 47,
   "id": "1b4d5dde",
   "metadata": {},
   "outputs": [
    {
     "name": "stdout",
     "output_type": "stream",
     "text": [
      "match :  CH3X+CC(=O)O.[Pt]<=>CH3OH*+CC(=O)[Pt] 0\n",
      "match :  X+CH3OH*<=>H*+OC[Pt] 0\n",
      "match :  H*+CH3OH*<=>H2O*+CH3X 0\n",
      "match :  CH2O*+OC[Pt]<=>X+OCOC[Pt] 0\n",
      "match :  HCO*+CH3OH*<=>H*+COC=O.[Pt] 0\n",
      "match :  H*+COC=O.[Pt]<=>X+COCO[Pt] 0\n",
      "match :  CH3X+OCO.[Pt]<=>OC[Pt]+CH3OH* 0\n",
      "match :  CO*+CH3OH*<=>HCO*+OC[Pt] 0\n",
      "match :  CO*+CH3OH*<=>COOH*+CH3X 0\n",
      "match :  HCOOH*+OC[Pt]<=>HCOO*+CH3OH* 0\n",
      "match :  CO*+CH3OH*<=>OH*+CC(=O)[Pt] 0\n",
      "match :  OH*+CC(=O)O.[Pt]<=>COOH*+CH3OH* 0\n",
      "match :  CH3OH*+CC[Pt]<=>OC[Pt]+CC.[Pt] 0\n",
      "match :  CO*+CH3OH*<=>H*+O=C([Pt])CO 0\n",
      "match :  CH2O*+OC[Pt]<=>HCO*+CH3OH* 0\n",
      "match :  X+H2O*<=>H*+OH* 0\n",
      "match :  OH*+C=C=O.[Pt]<=>X+C=C(O)O[Pt] 0\n",
      "match :  OH*+HCOOH*<=>H2O*+COOH* 0\n",
      "match :  H2O*+CC[Pt]<=>OH*+CC.[Pt] 0\n",
      "match :  OH*+C=C=O.[Pt]<=>X+O=C([Pt])CO 0\n",
      "match :  O*+COOH*<=>OH*+CO2* 0\n",
      "match :  OH*+CC=O.[Pt]<=>H2O*+CC(=O)[Pt] 0\n",
      "match :  CH2O*+CH3OH*<=>H*+OCOC[Pt] 0\n",
      "match :  HCO*+CH3OH*<=>HCOOH*+CH3X 0\n",
      "match :  HCOOH*+CC[Pt]<=>HCOO*+CC.[Pt] 0\n",
      "match :  H*+CO2*<=>X+COOH* 0\n",
      "match :  COOH*+CH3OH*<=>HCOOH*+OC[Pt] 0\n",
      "match :  X+HCO*<=>H*+CO* 0\n",
      "match :  CH2O*+CC[Pt]<=>HCO*+CC.[Pt] 0\n",
      "match :  H2O*+C=C=O.[Pt]<=>H*+C=C(O)O[Pt] 0\n",
      "match :  CO*+CC.[Pt]<=>CH3X+CC(=O)[Pt] 0\n",
      "match :  H*+CH2O*<=>X+OC[Pt] 0\n",
      "match :  OH*+OC[Pt]<=>H2O*+CH2O* 0\n",
      "match :  OH*+HCOOH*<=>H2O*+HCOO* 0\n",
      "match :  OH*+CH3OH*<=>H2O*+OC[Pt] 0\n",
      "match :  OH*+COOH*<=>H2O*+CO2* 0\n",
      "match :  HCO*+CH2O*<=>X+O=COC[Pt] 0\n",
      "match :  OC[Pt]+CC=O.[Pt]<=>CH3OH*+CC(=O)[Pt] 0\n",
      "match :  CH2O*+CH3X<=>X+CCO[Pt] 0\n",
      "match :  CH3X+CH3OH*<=>H*+CCO.[Pt] 0\n",
      "match :  OH*+CH2O*<=>X+CH3O2* 0\n",
      "match :  H2O*+CO*<=>OH*+HCO* 0\n",
      "match :  CH2O*+CH2O*<=>H*+O=COC[Pt] 0\n",
      "match :  OH*+CH2O*<=>H*+HCOOH* 0\n",
      "match :  CH2O*+CH3OH*<=>H*+COCO[Pt] 0\n",
      "match :  X+HCOOH*<=>H*+COOH* 0\n",
      "match :  H*+CC=O.[Pt]<=>X+CCO[Pt] 0\n",
      "match :  X+CC=O.[Pt]<=>H*+CC(=O)[Pt] 0\n",
      "match :  H2O*+CO*<=>H*+COOH* 0\n",
      "match :  CH3X+CC(=O)O.[Pt]<=>COOH*+CC.[Pt] 0\n",
      "match :  X+CH2O*<=>H*+HCO* 0\n",
      "match :  OH*+CH2O*<=>H2O*+HCO* 0\n",
      "match :  H*+CCO.[Pt]<=>OH*+CC.[Pt] 0\n",
      "match :  H2O*+CC=O.[Pt]<=>H*+CC(O)O[Pt] 0\n",
      "match :  H*+HCOOH*<=>X+CH3O2* 0\n",
      "match :  CH2O*+CH3O*<=>X+COCO[Pt] 0\n",
      "match :  H*+CO2*<=>X+HCOO* 0\n",
      "match :  CH3X+CH3OH*<=>OH*+CC.[Pt] 0\n",
      "match :  O*+CC.[Pt]<=>H*+CCO[Pt] 0\n",
      "match :  HCOOH*+CH3X<=>X+CC(O)O[Pt] 0\n",
      "match :  OH*+CC=O.[Pt]<=>X+CC(O)O[Pt] 0\n",
      "match :  CH2O*+CH3X<=>H*+CC=O.[Pt] 0\n",
      "match :  X+C=C=O.[Pt]<=>CO*+CH2X 0\n",
      "match :  H*+C=C=O.[Pt]<=>X+CC(=O)[Pt] 0\n",
      "match :  H2O*+CH2X<=>H*+OC[Pt] 0\n",
      "match :  H*+CH2O*<=>X+CH3O* 0\n",
      "match :  H*+CC(=O)O.[Pt]<=>H2O*+CC(=O)[Pt] 0\n",
      "match :  X+CH2O*<=>O*+CH2X 0\n",
      "match :  CO*+COC=O.[Pt]<=>HCOO*+CC(=O)[Pt] 0\n",
      "match :  CH3X+COC=O.[Pt]<=>HCOO*+CC.[Pt] 0\n",
      "match :  HCOOH*+CH3X<=>H*+COC=O.[Pt] 0\n",
      "match :  O*+CH2O*<=>H*+HCOO* 0\n",
      "match :  H*+CCO.[Pt]<=>H2O*+CC[Pt] 0\n",
      "match :  H*+CC(=O)O.[Pt]<=>X+CC(O)O[Pt] 0\n",
      "match :  CC(=O)O.[Pt]+CC[Pt]<=>CC(=O)[Pt]+CCO.[Pt] 0\n",
      "match :  CO*+HCOOH*<=>HCO*+HCOO* 0\n",
      "match :  H*+CH2X<=>X+CH3X 0\n",
      "match :  HCO*+CC(=O)O.[Pt]<=>COOH*+CC=O.[Pt] 0\n",
      "match :  CH3X+CC=O.[Pt]<=>HCO*+CC.[Pt] 0\n",
      "match :  CO*+OCO.[Pt]<=>COOH*+OC[Pt] 0\n",
      "match :  CO*+CC.[Pt]<=>HCO*+CC[Pt] 0\n",
      "match :  H2O*+HCO*<=>H*+HCOOH* 0\n",
      "match :  HCOO*<=>COOH* 0\n",
      "match :  H*+OCO.[Pt]<=>H2O*+OC[Pt] 0\n",
      "match :  CO*+CCO.[Pt]<=>COOH*+CC[Pt] 0\n",
      "match :  H2O*+CH2O*<=>H*+CH3O2* 0\n",
      "match :  O*+CC(=O)O.[Pt]<=>COOH*+CH3O* 0\n",
      "match :  CO*+CCO.[Pt]<=>OC[Pt]+CC(=O)[Pt] 0\n",
      "match :  OCO.[Pt]+CC[Pt]<=>OC[Pt]+CCO.[Pt] 0\n",
      "match :  HCO*+HCOOH*<=>HCOO*+CH2O* 0\n",
      "match :  HCO*+COC=O.[Pt]<=>HCOO*+CC=O.[Pt] 0\n",
      "match :  CH3X+CCO.[Pt]<=>OC[Pt]+CC.[Pt] 0\n",
      "match :  CO*+CH2O*<=>HCO*+HCO* 0\n",
      "match :  CH2O*+CH3O*<=>H*+COC=O.[Pt] 0\n",
      "match :  H*+CC=O.[Pt]<=>X+CC(O)[Pt] 0\n",
      "match :  X+CCO.[Pt]<=>H*+CC(O)[Pt] 0\n",
      "match :  H2O*+C=C=O.[Pt]<=>H*+O=C([Pt])CO 0\n",
      "match :  COOH*+CH2O*<=>HCO*+HCOOH* 0\n",
      "match :  CH2X+CC(=O)O.[Pt]<=>OC[Pt]+CC(=O)[Pt] 0\n",
      "match :  O*+CC.[Pt]<=>CH3X+CH3O* 0\n",
      "match :  X+C=C=O.[Pt]<=>H*+O=C=C[Pt] 0\n",
      "match :  X+COC=O.[Pt]<=>H*+O=COC[Pt] 0\n",
      "match :  HCO*+CC(=O)O.[Pt]<=>HCOOH*+CC(=O)[Pt] 0\n",
      "match :  X+CC.[Pt]<=>H*+CC[Pt] 0\n",
      "match :  H*+CH3X<=>X+X+CH4 0\n",
      "match :  HCOOH*+O=COC[Pt]<=>HCOO*+COC=O.[Pt] 0\n",
      "match :  X+OH*+CH4<=>H2O*+CH3X 0\n",
      "match :  CC(O)[Pt]<=>CCO[Pt] 0\n",
      "match :  X+O*+CH4<=>OH*+CH3X 0\n",
      "match :  X+X+CC<=>H*+CC[Pt] 0\n",
      "match :  X+X+CCO<=>OH*+CC[Pt] 0\n",
      "match :  COOH*+CC=O.[Pt]<=>HCOOH*+CC(=O)[Pt] 0\n",
      "match :  X+CC<=>CC.[Pt] 0\n",
      "match :  X+X+CC<=>CH3X+CH3X 0\n",
      "match :  X+CC=O<=>CC=O.[Pt] 0\n",
      "match :  HCOOH*+CC(O)[Pt]<=>HCOO*+CCO.[Pt] 0\n",
      "match :  HCO*+OCO.[Pt]<=>HCOOH*+OC[Pt] 0\n",
      "match :  X+X+CC=O<=>HCO*+CH3X 0\n",
      "match :  CO*+C=C=O.[Pt]<=>HCO*+O=C=C[Pt] 0\n",
      "match :  X+CCO<=>CCO.[Pt] 0\n",
      "match :  HCO*+CCO.[Pt]<=>OC[Pt]+CC=O.[Pt] 0\n",
      "match :  X+X+CCO<=>CH3X+OC[Pt] 0\n",
      "match :  X+X+CC(=O)O<=>COOH*+CH3X 0\n",
      "match :  X+X+HCOOCH3<=>HCOO*+CH3X 0\n",
      "match :  X+X+CH3OH<=>OH*+CH3X 0\n",
      "match :  X+CC(=O)O<=>CC(=O)O.[Pt] 0\n",
      "match :  X+X+CC(=O)O<=>OH*+CC(=O)[Pt] 0\n",
      "match :  X+HCOOCH3<=>COC=O.[Pt] 0\n",
      "match :  X+X+CH3OH<=>H*+OC[Pt] 0\n",
      "match :  X+X+HCOOCH3<=>HCO*+CH3O* 0\n",
      "match :  X+X+HCOOH<=>H*+HCOO* 0\n",
      "match :  X+X+HCOOH<=>OH*+HCO* 0\n",
      "match :  X+X+CO2<=>O*+CO* 0\n",
      "match :  X+CH3OH<=>CH3OH* 0\n",
      "match :  X+HCOOH<=>HCOOH* 0\n",
      "match :  X+CO2<=>CO2* 0\n",
      "match :  X+H2O<=>H2O* 0\n",
      "match :  X+X+H2<=>H*+H* 0\n",
      "match :  O*+HCOOH*<=>OH*+HCOO* 0\n",
      "match :  O*+HCOOH*<=>OH*+HCOO* 0\n",
      "match :  O*+HCOOH*<=>OH*+HCOO* 0\n",
      "match :  O*+HCOOH*<=>OH*+HCOO* 0\n",
      "match :  CO*+HCOOH*<=>HCO*+COOH* 0\n",
      "match :  CO*+HCOOH*<=>HCO*+COOH* 0\n",
      "match :  CO*+HCOOH*<=>HCO*+COOH* 0\n",
      "match :  CO*+HCOOH*<=>HCO*+COOH* 0\n",
      "match :  CO*+CC(=O)O.[Pt]<=>COOH*+CC(=O)[Pt] 0\n",
      "match :  CO*+CC(=O)O.[Pt]<=>COOH*+CC(=O)[Pt] 0\n",
      "match :  CO*+CC(=O)O.[Pt]<=>COOH*+CC(=O)[Pt] 0\n",
      "match :  CO*+CC(=O)O.[Pt]<=>COOH*+CC(=O)[Pt] 0\n",
      "match :  CO*+CC=O.[Pt]<=>HCO*+CC(=O)[Pt] 0\n",
      "match :  CO*+CC=O.[Pt]<=>HCO*+CC(=O)[Pt] 0\n",
      "match :  CO*+CC=O.[Pt]<=>HCO*+CC(=O)[Pt] 0\n",
      "match :  CO*+CC=O.[Pt]<=>HCO*+CC(=O)[Pt] 0\n"
     ]
    }
   ],
   "source": [
    "# now match up the rms reaction sensitivities with the actual rxn in chemkin\n",
    "# match species does forward and reverse. if there are multiple matches, it will\n",
    "# print a warning.\n",
    "match_list = []\n",
    "sens_cmkn_dict = {}\n",
    "for rxn_str, entry in sens_rxn_dict.items():\n",
    "    for rxn in model.reactions:\n",
    "        counter = 0\n",
    "        if rxn.matches_species(entry[3],entry[4]):\n",
    "            print(\"match : \", rxn_str, counter)\n",
    "            match_list.append(rxn_str)\n",
    "            sens_cmkn_dict[rxn_str] = (entry[0], rxn)\n",
    "        counter += 1\n",
    "        if counter >=2: \n",
    "            print(\"more than 1 match found for \", rxn_str)\n",
    "if len(match_list) == len(sens_rxn_dict.keys()):\n",
    "    print(\"all matches found\")\n",
    "else: \n",
    "    for rxn_str, entry in sens_rxn_dict.items():\n",
    "        if rxn_str not in match_list:\n",
    "            print(\"no match found for \", rxn_str)"
   ]
  },
  {
   "cell_type": "code",
   "execution_count": 48,
   "id": "1d07edb5",
   "metadata": {},
   "outputs": [],
   "source": [
    "min_key = min(sens_cmkn_dict, key=sens_cmkn_dict.get)\n",
    "most_sens_rxn = sens_cmkn_dict[min_key][1]"
   ]
  },
  {
   "cell_type": "code",
   "execution_count": 49,
   "id": "c357f2d3",
   "metadata": {},
   "outputs": [
    {
     "data": {
      "text/plain": [
       "SurfaceArrhenius(A=(4.18e+21,'cm^2/(mol*s)'), n=0, Ea=(9.084,'kcal/mol'), T0=(1,'K'), comment=\"\"\"Estimated using template [Donating;Abstracting] for rate rule [C-OH;*C-3R]\n",
       "Euclidian distance = 3.605551275463989\n",
       "family: Surface_Abstraction_Single_vdW\"\"\")"
      ]
     },
     "execution_count": 49,
     "metadata": {},
     "output_type": "execute_result"
    }
   ],
   "source": [
    "most_sens_rxn.kinetics"
   ]
  },
  {
   "cell_type": "code",
   "execution_count": 49,
   "id": "4a206151",
   "metadata": {},
   "outputs": [
    {
     "name": "stdout",
     "output_type": "stream",
     "text": [
      "key not found\n"
     ]
    }
   ],
   "source": [
    "most_sens_rxn_copy = copy.deepcopy(sens_cmkn_dict)\n",
    "most_sens_rxn_copy.pop(min_key)\n",
    "\n",
    "try: \n",
    "    popped_key = most_sens_rxn_copy[min_key]\n",
    "except KeyError:\n",
    "    print(\"key not found\")"
   ]
  },
  {
   "cell_type": "code",
   "execution_count": 50,
   "id": "0ead0a82",
   "metadata": {},
   "outputs": [
    {
     "name": "stdout",
     "output_type": "stream",
     "text": [
      "CH3X+CC(=O)O.[Pt]<=>CH3OH*+CC(=O)[Pt] 3 CH3X(33) + CC(=O)O.[Pt](110) <=> CH3OH*(23) + CC(=O)[Pt](97)\n",
      "X+CH3OH*<=>H*+OC[Pt] 4 X(1) + CH3OH*(23) <=> H*(10) + OC[Pt](49)\n",
      "H*+CH3OH*<=>H2O*+CH3X 32 H*(10) + CH3OH*(23) <=> H2O*(13) + CH3X(33)\n",
      "CH2O*+OC[Pt]<=>X+OCOC[Pt] 36 CH2O*(20) + OC[Pt](49) <=> X(1) + OCOC[Pt](115)\n",
      "HCO*+CH3OH*<=>H*+COC=O.[Pt] 125 HCO*(16) + CH3OH*(23) <=> H*(10) + COC=O.[Pt](62)\n",
      "H*+COC=O.[Pt]<=>X+COCO[Pt] 294 H*(10) + COC=O.[Pt](62) <=> X(1) + COCO[Pt](76)\n",
      "CH3X+OCO.[Pt]<=>OC[Pt]+CH3OH* 630 CH3X(33) + OCO.[Pt](82) <=> OC[Pt](49) + CH3OH*(23)\n",
      "CO*+CH3OH*<=>HCO*+OC[Pt] 648 CO*(14) + CH3OH*(23) <=> HCO*(16) + OC[Pt](49)\n",
      "CO*+CH3OH*<=>COOH*+CH3X 704 CO*(14) + CH3OH*(23) <=> COOH*(18) + CH3X(33)\n",
      "HCOOH*+OC[Pt]<=>HCOO*+CH3OH* 726 HCOOH*(19) + OC[Pt](49) <=> HCOO*(17) + CH3OH*(23)\n",
      "CO*+CH3OH*<=>OH*+CC(=O)[Pt] 1300 CO*(14) + CH3OH*(23) <=> OH*(12) + CC(=O)[Pt](97)\n",
      "OH*+CC(=O)O.[Pt]<=>COOH*+CH3OH* 1728 OH*(12) + CC(=O)O.[Pt](110) <=> COOH*(18) + CH3OH*(23)\n",
      "CH3OH*+CC[Pt]<=>OC[Pt]+CC.[Pt] 2556 CH3OH*(23) + CC[Pt](188) <=> OC[Pt](49) + CC.[Pt](179)\n",
      "CO*+CH3OH*<=>H*+O=C([Pt])CO 4116 CO*(14) + CH3OH*(23) <=> H*(10) + O=C([Pt])CO(100)\n",
      "CH2O*+OC[Pt]<=>HCO*+CH3OH* 4225 CH2O*(20) + OC[Pt](49) <=> HCO*(16) + CH3OH*(23)\n",
      "X+H2O*<=>H*+OH* 4761 X(1) + H2O*(13) <=> H*(10) + OH*(12)\n",
      "OH*+C=C=O.[Pt]<=>X+C=C(O)O[Pt] 4828 OH*(12) + C=C=O.[Pt](131) <=> X(1) + C=C(O)O[Pt](147)\n",
      "OH*+HCOOH*<=>H2O*+COOH* 4970 OH*(12) + HCOOH*(19) <=> H2O*(13) + COOH*(18)\n",
      "H2O*+CC[Pt]<=>OH*+CC.[Pt] 5396 H2O*(13) + CC[Pt](188) <=> OH*(12) + CC.[Pt](179)\n",
      "OH*+C=C=O.[Pt]<=>X+O=C([Pt])CO 6674 OH*(12) + C=C=O.[Pt](131) <=> X(1) + O=C([Pt])CO(100)\n",
      "O*+COOH*<=>OH*+CO2* 7290 O*(11) + COOH*(18) <=> OH*(12) + CO2*(15)\n",
      "OH*+CC=O.[Pt]<=>H2O*+CC(=O)[Pt] 8236 OH*(12) + CC=O.[Pt](105) <=> H2O*(13) + CC(=O)[Pt](97)\n",
      "CH2O*+CH3OH*<=>H*+OCOC[Pt] 10584 CH2O*(20) + CH3OH*(23) <=> H*(10) + OCOC[Pt](115)\n",
      "HCO*+CH3OH*<=>HCOOH*+CH3X 10648 HCO*(16) + CH3OH*(23) <=> HCOOH*(19) + CH3X(33)\n",
      "HCOOH*+CC[Pt]<=>HCOO*+CC.[Pt] 10792 HCOOH*(19) + CC[Pt](188) <=> HCOO*(17) + CC.[Pt](179)\n",
      "H*+CO2*<=>X+COOH* 10800 H*(10) + CO2*(15) <=> X(1) + COOH*(18)\n",
      "COOH*+CH3OH*<=>HCOOH*+OC[Pt] 10816 COOH*(18) + CH3OH*(23) <=> HCOOH*(19) + OC[Pt](49)\n",
      "X+HCO*<=>H*+CO* 11322 X(1) + HCO*(16) <=> H*(10) + CO*(14)\n",
      "CH2O*+CC[Pt]<=>HCO*+CC.[Pt] 12638 CH2O*(20) + CC[Pt](188) <=> HCO*(16) + CC.[Pt](179)\n",
      "H2O*+C=C=O.[Pt]<=>H*+C=C(O)O[Pt] 13064 H2O*(13) + C=C=O.[Pt](131) <=> H*(10) + C=C(O)O[Pt](147)\n",
      "CO*+CC.[Pt]<=>CH3X+CC(=O)[Pt] 13454 CO*(14) + CC.[Pt](179) <=> CH3X(33) + CC(=O)[Pt](97)\n",
      "H*+CH2O*<=>X+OC[Pt] 14079 H*(10) + CH2O*(20) <=> X(1) + OC[Pt](49)\n",
      "OH*+OC[Pt]<=>H2O*+CH2O* 14976 OH*(12) + OC[Pt](49) <=> H2O*(13) + CH2O*(20)\n",
      "OH*+HCOOH*<=>H2O*+HCOO* 17952 OH*(12) + HCOOH*(19) <=> H2O*(13) + HCOO*(17)\n",
      "OH*+CH3OH*<=>H2O*+OC[Pt] 21964 OH*(12) + CH3OH*(23) <=> H2O*(13) + OC[Pt](49)\n",
      "OH*+COOH*<=>H2O*+CO2* 24500 OH*(12) + COOH*(18) <=> H2O*(13) + CO2*(15)\n",
      "HCO*+CH2O*<=>X+O=COC[Pt] 25600 HCO*(16) + CH2O*(20) <=> X(1) + O=COC[Pt](59)\n",
      "OC[Pt]+CC=O.[Pt]<=>CH3OH*+CC(=O)[Pt] 34080 OC[Pt](49) + CC=O.[Pt](105) <=> CH3OH*(23) + CC(=O)[Pt](97)\n",
      "CH2O*+CH3X<=>X+CCO[Pt] 39701 CH2O*(20) + CH3X(33) <=> X(1) + CCO[Pt](112)\n",
      "CH3X+CH3OH*<=>H*+CCO.[Pt] 43452 CH3X(33) + CH3OH*(23) <=> H*(10) + CCO.[Pt](121)\n",
      "OH*+CH2O*<=>X+CH3O2* 52111 OH*(12) + CH2O*(20) <=> X(1) + CH3O2*(22)\n",
      "H2O*+CO*<=>OH*+HCO* 52272 H2O*(13) + CO*(14) <=> OH*(12) + HCO*(16)\n",
      "CH2O*+CH2O*<=>H*+O=COC[Pt] 57024 CH2O*(20) + CH2O*(20) <=> H*(10) + O=COC[Pt](59)\n",
      "OH*+CH2O*<=>H*+HCOOH* 59168 OH*(12) + CH2O*(20) <=> H*(10) + HCOOH*(19)\n",
      "CH2O*+CH3OH*<=>H*+COCO[Pt] 59248 CH2O*(20) + CH3OH*(23) <=> H*(10) + COCO[Pt](76)\n",
      "X+HCOOH*<=>H*+COOH* 62092 X(1) + HCOOH*(19) <=> H*(10) + COOH*(18)\n",
      "H*+CC=O.[Pt]<=>X+CCO[Pt] 63000 H*(10) + CC=O.[Pt](105) <=> X(1) + CCO[Pt](112)\n",
      "X+CC=O.[Pt]<=>H*+CC(=O)[Pt] 63504 X(1) + CC=O.[Pt](105) <=> H*(10) + CC(=O)[Pt](97)\n",
      "H2O*+CO*<=>H*+COOH* 66270 H2O*(13) + CO*(14) <=> H*(10) + COOH*(18)\n",
      "CH3X+CC(=O)O.[Pt]<=>COOH*+CC.[Pt] 67068 CH3X(33) + CC(=O)O.[Pt](110) <=> COOH*(18) + CC.[Pt](179)\n",
      "X+CH2O*<=>H*+HCO* 70560 X(1) + CH2O*(20) <=> H*(10) + HCO*(16)\n",
      "OH*+CH2O*<=>H2O*+HCO* 82944 OH*(12) + CH2O*(20) <=> H2O*(13) + HCO*(16)\n",
      "H*+CCO.[Pt]<=>OH*+CC.[Pt] 88750 H*(10) + CCO.[Pt](121) <=> OH*(12) + CC.[Pt](179)\n",
      "H2O*+CC=O.[Pt]<=>H*+CC(O)O[Pt] 89600 H2O*(13) + CC=O.[Pt](105) <=> H*(10) + CC(O)O[Pt](111)\n",
      "H*+HCOOH*<=>X+CH3O2* 105644 H*(10) + HCOOH*(19) <=> X(1) + CH3O2*(22)\n",
      "CH2O*+CH3O*<=>X+COCO[Pt] 111328 CH2O*(20) + CH3O*(21) <=> X(1) + COCO[Pt](76)\n",
      "H*+CO2*<=>X+HCOO* 117117 H*(10) + CO2*(15) <=> X(1) + HCOO*(17)\n",
      "CH3X+CH3OH*<=>OH*+CC.[Pt] 119422 CH3X(33) + CH3OH*(23) <=> OH*(12) + CC.[Pt](179)\n",
      "O*+CC.[Pt]<=>H*+CCO[Pt] 119475 O*(11) + CC.[Pt](179) <=> H*(10) + CCO[Pt](112)\n",
      "HCOOH*+CH3X<=>X+CC(O)O[Pt] 143748 HCOOH*(19) + CH3X(33) <=> X(1) + CC(O)O[Pt](111)\n",
      "OH*+CC=O.[Pt]<=>X+CC(O)O[Pt] 145350 OH*(12) + CC=O.[Pt](105) <=> X(1) + CC(O)O[Pt](111)\n",
      "CH2O*+CH3X<=>H*+CC=O.[Pt] 166698 CH2O*(20) + CH3X(33) <=> H*(10) + CC=O.[Pt](105)\n",
      "X+C=C=O.[Pt]<=>CO*+CH2X 188416 X(1) + C=C=O.[Pt](131) <=> CO*(14) + CH2X(35)\n",
      "H*+C=C=O.[Pt]<=>X+CC(=O)[Pt] 202248 H*(10) + C=C=O.[Pt](131) <=> X(1) + CC(=O)[Pt](97)\n",
      "H2O*+CH2X<=>H*+OC[Pt] 226981 H2O*(13) + CH2X(35) <=> H*(10) + OC[Pt](49)\n",
      "H*+CH2O*<=>X+CH3O* 227136 H*(10) + CH2O*(20) <=> X(1) + CH3O*(21)\n",
      "H*+CC(=O)O.[Pt]<=>H2O*+CC(=O)[Pt] 230640 H*(10) + CC(=O)O.[Pt](110) <=> H2O*(13) + CC(=O)[Pt](97)\n",
      "X+CH2O*<=>O*+CH2X 241968 X(1) + CH2O*(20) <=> O*(11) + CH2X(35)\n",
      "CO*+COC=O.[Pt]<=>HCOO*+CC(=O)[Pt] 254113 CO*(14) + COC=O.[Pt](62) <=> HCOO*(17) + CC(=O)[Pt](97)\n",
      "CH3X+COC=O.[Pt]<=>HCOO*+CC.[Pt] 282807 CH3X(33) + COC=O.[Pt](62) <=> HCOO*(17) + CC.[Pt](179)\n",
      "HCOOH*+CH3X<=>H*+COC=O.[Pt] 285120 HCOOH*(19) + CH3X(33) <=> H*(10) + COC=O.[Pt](62)\n",
      "O*+CH2O*<=>H*+HCOO* 303800 O*(11) + CH2O*(20) <=> H*(10) + HCOO*(17)\n",
      "H*+CCO.[Pt]<=>H2O*+CC[Pt] 309600 H*(10) + CCO.[Pt](121) <=> H2O*(13) + CC[Pt](188)\n",
      "H*+CC(=O)O.[Pt]<=>X+CC(O)O[Pt] 316875 H*(10) + CC(=O)O.[Pt](110) <=> X(1) + CC(O)O[Pt](111)\n",
      "CC(=O)O.[Pt]+CC[Pt]<=>CC(=O)[Pt]+CCO.[Pt] 362100 CC(=O)O.[Pt](110) + CC[Pt](188) <=> CC(=O)[Pt](97) + CCO.[Pt](121)\n",
      "CO*+HCOOH*<=>HCO*+HCOO* 376119 CO*(14) + HCOOH*(19) <=> HCO*(16) + HCOO*(17)\n",
      "H*+CH2X<=>X+CH3X 377856 H*(10) + CH2X(35) <=> X(1) + CH3X(33)\n",
      "HCO*+CC(=O)O.[Pt]<=>COOH*+CC=O.[Pt] 432160 HCO*(16) + CC(=O)O.[Pt](110) <=> COOH*(18) + CC=O.[Pt](105)\n",
      "CH3X+CC=O.[Pt]<=>HCO*+CC.[Pt] 453180 CH3X(33) + CC=O.[Pt](105) <=> HCO*(16) + CC.[Pt](179)\n",
      "CO*+OCO.[Pt]<=>COOH*+OC[Pt] 511920 CO*(14) + OCO.[Pt](82) <=> COOH*(18) + OC[Pt](49)\n",
      "CO*+CC.[Pt]<=>HCO*+CC[Pt] 518518 CO*(14) + CC.[Pt](179) <=> HCO*(16) + CC[Pt](188)\n",
      "H2O*+HCO*<=>H*+HCOOH* 531222 H2O*(13) + HCO*(16) <=> H*(10) + HCOOH*(19)\n",
      "HCOO*<=>COOH* 585565 HCOO*(17) <=> COOH*(18)\n",
      "H*+OCO.[Pt]<=>H2O*+OC[Pt] 642224 H*(10) + OCO.[Pt](82) <=> H2O*(13) + OC[Pt](49)\n",
      "CO*+CCO.[Pt]<=>COOH*+CC[Pt] 656608 CO*(14) + CCO.[Pt](121) <=> COOH*(18) + CC[Pt](188)\n",
      "H2O*+CH2O*<=>H*+CH3O2* 660192 H2O*(13) + CH2O*(20) <=> H*(10) + CH3O2*(22)\n",
      "O*+CC(=O)O.[Pt]<=>COOH*+CH3O* 689216 O*(11) + CC(=O)O.[Pt](110) <=> COOH*(18) + CH3O*(21)\n",
      "CO*+CCO.[Pt]<=>OC[Pt]+CC(=O)[Pt] 712530 CO*(14) + CCO.[Pt](121) <=> OC[Pt](49) + CC(=O)[Pt](97)\n",
      "OCO.[Pt]+CC[Pt]<=>OC[Pt]+CCO.[Pt] 767084 OCO.[Pt](82) + CC[Pt](188) <=> OC[Pt](49) + CCO.[Pt](121)\n",
      "HCO*+HCOOH*<=>HCOO*+CH2O* 767125 HCO*(16) + HCOOH*(19) <=> HCOO*(17) + CH2O*(20)\n",
      "HCO*+COC=O.[Pt]<=>HCOO*+CC=O.[Pt] 768732 HCO*(16) + COC=O.[Pt](62) <=> HCOO*(17) + CC=O.[Pt](105)\n",
      "CH3X+CCO.[Pt]<=>OC[Pt]+CC.[Pt] 798750 CH3X(33) + CCO.[Pt](121) <=> OC[Pt](49) + CC.[Pt](179)\n",
      "CO*+CH2O*<=>HCO*+HCO* 813006 CO*(14) + CH2O*(20) <=> HCO*(16) + HCO*(16)\n",
      "CH2O*+CH3O*<=>H*+COC=O.[Pt] 820192 CH2O*(20) + CH3O*(21) <=> H*(10) + COC=O.[Pt](62)\n",
      "H*+CC=O.[Pt]<=>X+CC(O)[Pt] 852852 H*(10) + CC=O.[Pt](105) <=> X(1) + CC(O)[Pt](174)\n",
      "X+CCO.[Pt]<=>H*+CC(O)[Pt] 875004 X(1) + CCO.[Pt](121) <=> H*(10) + CC(O)[Pt](174)\n",
      "H2O*+C=C=O.[Pt]<=>H*+O=C([Pt])CO 893172 H2O*(13) + C=C=O.[Pt](131) <=> H*(10) + O=C([Pt])CO(100)\n",
      "COOH*+CH2O*<=>HCO*+HCOOH* 900000 COOH*(18) + CH2O*(20) <=> HCO*(16) + HCOOH*(19)\n",
      "CH2X+CC(=O)O.[Pt]<=>OC[Pt]+CC(=O)[Pt] 920160 CH2X(35) + CC(=O)O.[Pt](110) <=> OC[Pt](49) + CC(=O)[Pt](97)\n",
      "O*+CC.[Pt]<=>CH3X+CH3O* 943164 O*(11) + CC.[Pt](179) <=> CH3X(33) + CH3O*(21)\n",
      "X+C=C=O.[Pt]<=>H*+O=C=C[Pt] 978096 X(1) + C=C=O.[Pt](131) <=> H*(10) + O=C=C[Pt](141)\n",
      "X+COC=O.[Pt]<=>H*+O=COC[Pt] 1038020 X(1) + COC=O.[Pt](62) <=> H*(10) + O=COC[Pt](59)\n",
      "HCO*+CC(=O)O.[Pt]<=>HCOOH*+CC(=O)[Pt] 1149500 HCO*(16) + CC(=O)O.[Pt](110) <=> HCOOH*(19) + CC(=O)[Pt](97)\n",
      "X+CC.[Pt]<=>H*+CC[Pt] 1162980 X(1) + CC.[Pt](179) <=> H*(10) + CC[Pt](188)\n",
      "H*+CH3X<=>X+X+CH4 1322500 H*(10) + CH3X(33) <=> X(1) + X(1) + CH4(32)\n",
      "HCOOH*+O=COC[Pt]<=>HCOO*+COC=O.[Pt] 1336078 HCOOH*(19) + O=COC[Pt](59) <=> HCOO*(17) + COC=O.[Pt](62)\n",
      "X+OH*+CH4<=>H2O*+CH3X 1359056 X(1) + OH*(12) + CH4(32) <=> H2O*(13) + CH3X(33)\n",
      "CC(O)[Pt]<=>CCO[Pt] 1391742 CC(O)[Pt](174) <=> CCO[Pt](112)\n",
      "X+O*+CH4<=>OH*+CH3X 1396278 X(1) + O*(11) + CH4(32) <=> OH*(12) + CH3X(33)\n",
      "X+X+CC<=>H*+CC[Pt] 1434172 X(1) + X(1) + CC(182) <=> H*(10) + CC[Pt](188)\n",
      "X+X+CCO<=>OH*+CC[Pt] 1472744 X(1) + X(1) + CCO(181) <=> OH*(12) + CC[Pt](188)\n",
      "COOH*+CC=O.[Pt]<=>HCOOH*+CC(=O)[Pt] 1505910 COOH*(18) + CC=O.[Pt](105) <=> HCOOH*(19) + CC(=O)[Pt](97)\n",
      "X+CC<=>CC.[Pt] 1512000 X(1) + CC(182) <=> CC.[Pt](179)\n",
      "X+X+CC<=>CH3X+CH3X 1551946 X(1) + X(1) + CC(182) <=> CH3X(33) + CH3X(33)\n",
      "X+CC=O<=>CC=O.[Pt] 1592588 X(1) + CC=O(136) <=> CC=O.[Pt](105)\n",
      "HCOOH*+CC(O)[Pt]<=>HCOO*+CCO.[Pt] 1595512 HCOOH*(19) + CC(O)[Pt](174) <=> HCOO*(17) + CCO.[Pt](121)\n",
      "HCO*+OCO.[Pt]<=>HCOOH*+OC[Pt] 1625758 HCO*(16) + OCO.[Pt](82) <=> HCOOH*(19) + OC[Pt](49)\n",
      "X+X+CC=O<=>HCO*+CH3X 1633932 X(1) + X(1) + CC=O(136) <=> HCO*(16) + CH3X(33)\n",
      "CO*+C=C=O.[Pt]<=>HCO*+O=C=C[Pt] 1656288 CO*(14) + C=C=O.[Pt](131) <=> HCO*(16) + O=C=C[Pt](141)\n",
      "X+CCO<=>CCO.[Pt] 1675984 X(1) + CCO(181) <=> CCO.[Pt](121)\n",
      "HCO*+CCO.[Pt]<=>OC[Pt]+CC=O.[Pt] 1687102 HCO*(16) + CCO.[Pt](121) <=> OC[Pt](49) + CC=O.[Pt](105)\n",
      "X+X+CCO<=>CH3X+OC[Pt] 1718750 X(1) + X(1) + CCO(181) <=> CH3X(33) + OC[Pt](49)\n",
      "X+X+CC(=O)O<=>COOH*+CH3X 1762236 X(1) + X(1) + CC(=O)O(138) <=> COOH*(18) + CH3X(33)\n",
      "X+X+HCOOCH3<=>HCOO*+CH3X 1806448 X(1) + X(1) + HCOOCH3(9) <=> HCOO*(17) + CH3X(33)\n",
      "X+X+CH3OH<=>OH*+CH3X 1851392 X(1) + X(1) + CH3OH(8) <=> OH*(12) + CH3X(33)\n",
      "X+CC(=O)O<=>CC(=O)O.[Pt] 1897074 X(1) + CC(=O)O(138) <=> CC(=O)O.[Pt](110)\n",
      "X+X+CC(=O)O<=>OH*+CC(=O)[Pt] 1943500 X(1) + X(1) + CC(=O)O(138) <=> OH*(12) + CC(=O)[Pt](97)\n",
      "X+HCOOCH3<=>COC=O.[Pt] 1990676 X(1) + HCOOCH3(9) <=> COC=O.[Pt](62)\n",
      "X+X+CH3OH<=>H*+OC[Pt] 2038608 X(1) + X(1) + CH3OH(8) <=> H*(10) + OC[Pt](49)\n",
      "X+X+HCOOCH3<=>HCO*+CH3O* 2087302 X(1) + X(1) + HCOOCH3(9) <=> HCO*(16) + CH3O*(21)\n",
      "X+X+HCOOH<=>H*+HCOO* 2136764 X(1) + X(1) + HCOOH(7) <=> H*(10) + HCOO*(17)\n",
      "X+X+HCOOH<=>OH*+HCO* 2187000 X(1) + X(1) + HCOOH(7) <=> OH*(12) + HCO*(16)\n",
      "X+X+CO2<=>O*+CO* 2238016 X(1) + X(1) + CO2(4) <=> O*(11) + CO*(14)\n",
      "X+CH3OH<=>CH3OH* 2289818 X(1) + CH3OH(8) <=> CH3OH*(23)\n",
      "X+HCOOH<=>HCOOH* 2342412 X(1) + HCOOH(7) <=> HCOOH*(19)\n",
      "X+CO2<=>CO2* 2395804 X(1) + CO2(4) <=> CO2*(15)\n",
      "X+H2O<=>H2O* 2450000 X(1) + H2O(5) <=> H2O*(13)\n",
      "X+X+H2<=>H*+H* 2505006 X(1) + X(1) + H2(2) <=> H*(10) + H*(10)\n",
      "O*+HCOOH*<=>OH*+HCOO* 7027800 O*(11) + HCOOH*(19) <=> OH*(12) + HCOO*(17)\n",
      "CO*+HCOOH*<=>HCO*+COOH* 12660537513012480 CO*(14) + HCOOH*(19) <=> HCO*(16) + COOH*(18)\n",
      "CO*+CC(=O)O.[Pt]<=>COOH*+CC(=O)[Pt] 2151215275812474009600 CO*(14) + CC(=O)O.[Pt](110) <=> COOH*(18) + CC(=O)[Pt](97)\n",
      "CO*+CC=O.[Pt]<=>HCO*+CC(=O)[Pt] 2317142965390181794381824 CO*(14) + CC=O.[Pt](105) <=> HCO*(16) + CC(=O)[Pt](97)\n"
     ]
    }
   ],
   "source": [
    "for rxn_str, entry in sens_cmkn_dict.items():\n",
    "    print(rxn_str, entry[0], entry[1])"
   ]
  },
  {
   "cell_type": "code",
   "execution_count": 38,
   "id": "422e0ff8",
   "metadata": {},
   "outputs": [
    {
     "name": "stdout",
     "output_type": "stream",
     "text": [
      "most sensitive reaction is an estimate\n"
     ]
    }
   ],
   "source": [
    "if most_sens_rxn.kinetics.comment.startswith(\"Estimated\"):\n",
    "    print(\"most sensitive reaction is an estimate\")"
   ]
  },
  {
   "cell_type": "code",
   "execution_count": 51,
   "id": "a85f1509",
   "metadata": {},
   "outputs": [],
   "source": [
    "# get the specific node for the sensitive reaction. find out the highest populated parent node \n",
    "\n",
    "# load the kinetics database\n",
    "RMG_db_folder= \"/Users/blais.ch/Documents/_01_code/RMG_env_1/RMG-database/\"\n",
    "# Specify the path to the families\n",
    "families_dir = os.path.join(RMG_db_folder,\"input\",\"kinetics\",\"families\")\n",
    "if not os.path.exists(families_dir):\n",
    "    raise OSError(f'Path to rules does not exist:\\n{families_dir}')\n",
    "\n",
    "# Specify the path to the libraries\n",
    "kinetic_libraries_dir = os.path.join(RMG_db_folder,\"input\",\"kinetics\",\"libraries\",\"Surface\")\n",
    "if not os.path.exists(kinetic_libraries_dir):\n",
    "    raise OSError(f'Path to kinetic libraries does not exist:\\n{kinetic_libraries_dir}')\n",
    "\n",
    "# do not load training, this will create more rules. in future, may want to \n",
    "# create those rules for perturbation, not sure. \n",
    "kinetics_families = ['all']\n",
    "kinetics_database = KineticsDatabase()\n",
    "kinetics_database.load_families(\n",
    "        path=families_dir,\n",
    "        families=kinetics_families,)"
   ]
  },
  {
   "cell_type": "code",
   "execution_count": 73,
   "id": "3e837eb8",
   "metadata": {},
   "outputs": [],
   "source": [
    "# breadcrumb cjb need to determine which sensitive reactions we should make rules for. \n",
    "# start with only one. add a test for most sensitive reaction, if a rule already exists, go for second most sensitive.\n",
    "\n",
    "from rmgpy.data.kinetics.family import TemplateReaction\n",
    "# test for reaction: get the nodes that would generate this rxn\n",
    "rxn = model.reactions[30]\n",
    "family = rxn.get_source()\n",
    "template = rxn.template\n",
    "\n",
    "# kinetics_database.families[family].get_labeled_reactants_and_products(rxn.reactants, rxn.products)\n",
    "kinetics_database.families[family].add_atom_labels_for_reaction(rxn)\n",
    "template = kinetics_database.families[family].get_reaction_template(rxn)\n",
    "# kinetics_database.families[family].add_entry()\n",
    "# kinetics_database.families[family].has_rate_rule(template)\n",
    "source_info = kinetics_database.families[family].extract_source_from_comments(rxn)\n",
    "# new_rule = kinetics_database.families[family].get_kinetics_for_template(template)\n",
    "parent = source_info[1][1][\"rules\"][0][0]\n",
    "grp = rxn\n",
    "name = 'O-C;VacantSite1;VacantSite2'\n",
    "# kinetics_database.families[family].add_entry(parent, grp, name)\n",
    "\n",
    "rank = parent.rank + 1"
   ]
  },
  {
   "cell_type": "code",
   "execution_count": 62,
   "id": "f49c2269",
   "metadata": {},
   "outputs": [
    {
     "data": {
      "text/plain": [
       "2"
      ]
     },
     "execution_count": 62,
     "metadata": {},
     "output_type": "execute_result"
    }
   ],
   "source": [
    "kinetics_database.families[family].rules.entries[\"H2;VacantSite1;VacantSite2\"][0].index"
   ]
  },
  {
   "cell_type": "code",
   "execution_count": 72,
   "id": "1ae727f7",
   "metadata": {},
   "outputs": [
    {
     "name": "stdout",
     "output_type": "stream",
     "text": [
      "<class 'str'>\n",
      "<class 'str'>\n"
     ]
    },
    {
     "data": {
      "text/plain": [
       "2"
      ]
     },
     "execution_count": 72,
     "metadata": {},
     "output_type": "execute_result"
    }
   ],
   "source": [
    "for entry in kinetics_database.families[family].rules.entries:\n",
    "    index = kinetics_database.families[family].rules.entries[entry][0].index\n",
    "    print(type(entry))\n",
    "index"
   ]
  },
  {
   "cell_type": "code",
   "execution_count": 63,
   "id": "6b4a48df",
   "metadata": {},
   "outputs": [
    {
     "ename": "TypeError",
     "evalue": "'>' not supported between instances of 'builtin_function_or_method' and 'int'",
     "output_type": "error",
     "traceback": [
      "\u001b[0;31m---------------------------------------------------------------------------\u001b[0m",
      "\u001b[0;31mTypeError\u001b[0m                                 Traceback (most recent call last)",
      "\u001b[0;32m<ipython-input-63-91673099e964>\u001b[0m in \u001b[0;36m<module>\u001b[0;34m\u001b[0m\n\u001b[1;32m      2\u001b[0m \u001b[0;32mfor\u001b[0m \u001b[0mentry\u001b[0m \u001b[0;32min\u001b[0m \u001b[0mkinetics_database\u001b[0m\u001b[0;34m.\u001b[0m\u001b[0mfamilies\u001b[0m\u001b[0;34m[\u001b[0m\u001b[0mfamily\u001b[0m\u001b[0;34m]\u001b[0m\u001b[0;34m.\u001b[0m\u001b[0mrules\u001b[0m\u001b[0;34m.\u001b[0m\u001b[0mentries\u001b[0m\u001b[0;34m:\u001b[0m\u001b[0;34m\u001b[0m\u001b[0;34m\u001b[0m\u001b[0m\n\u001b[1;32m      3\u001b[0m     \u001b[0mindex\u001b[0m \u001b[0;34m=\u001b[0m \u001b[0mentry\u001b[0m\u001b[0;34m[\u001b[0m\u001b[0;36m0\u001b[0m\u001b[0;34m]\u001b[0m\u001b[0;34m.\u001b[0m\u001b[0mindex\u001b[0m\u001b[0;34m\u001b[0m\u001b[0;34m\u001b[0m\u001b[0m\n\u001b[0;32m----> 4\u001b[0;31m     \u001b[0;32mif\u001b[0m \u001b[0mindex\u001b[0m \u001b[0;34m>\u001b[0m \u001b[0mlast_index\u001b[0m\u001b[0;34m:\u001b[0m\u001b[0;34m\u001b[0m\u001b[0;34m\u001b[0m\u001b[0m\n\u001b[0m\u001b[1;32m      5\u001b[0m \u001b[0;34m\u001b[0m\u001b[0m\n\u001b[1;32m      6\u001b[0m         \u001b[0mlast_index\u001b[0m \u001b[0;34m=\u001b[0m \u001b[0mindex\u001b[0m\u001b[0;34m\u001b[0m\u001b[0;34m\u001b[0m\u001b[0m\n",
      "\u001b[0;31mTypeError\u001b[0m: '>' not supported between instances of 'builtin_function_or_method' and 'int'"
     ]
    }
   ],
   "source": [
    "last_index = 0\n",
    "for entry in kinetics_database.families[family].rules.entries: \n",
    "    index = entry[0].index\n",
    "    if index > last_index:\n",
    "\n",
    "        last_index = index\n",
    "new_index = last_index + 1\n",
    "new_index\n"
   ]
  },
  {
   "cell_type": "code",
   "execution_count": 24,
   "metadata": {},
   "outputs": [
    {
     "data": {
      "text/plain": [
       "StickingCoefficientBEP(A=0.1, n=0, alpha=0, E0=(6.912,'kcal/mol'))"
      ]
     },
     "execution_count": 24,
     "metadata": {},
     "output_type": "execute_result"
    }
   ],
   "source": [
    "\n",
    "data = model.reactions[30].kinetics\n",
    "\n",
    "if isinstance(data, StickingCoefficient):\n",
    "    data = StickingCoefficientBEP(\n",
    "        # todo: perhaps make a method StickingCoefficient.StickingCoefficientBEP\n",
    "        #  analogous to Arrhenius.to_arrhenius_ep\n",
    "        A=deepcopy(data.A),\n",
    "        n=deepcopy(data.n),\n",
    "        alpha=0,\n",
    "        E0=deepcopy(data.Ea),\n",
    "        Tmin=deepcopy(data.Tmin),\n",
    "        Tmax=deepcopy(data.Tmax),\n",
    "        coverage_dependence=deepcopy(data.coverage_dependence),\n",
    "    )\n",
    "elif isinstance(data, SurfaceArrhenius):\n",
    "    data = SurfaceArrheniusBEP(\n",
    "        # todo: perhaps make a method SurfaceArrhenius.toSurfaceArrheniusBEP\n",
    "        #  analogous to Arrhenius.to_arrhenius_ep\n",
    "        A=deepcopy(data.A),\n",
    "        n=deepcopy(data.n),\n",
    "        alpha=0,\n",
    "        E0=deepcopy(data.Ea),\n",
    "        Tmin=deepcopy(data.Tmin),\n",
    "        Tmax=deepcopy(data.Tmax),\n",
    "        coverage_dependence=deepcopy(data.coverage_dependence),\n",
    "    )\n",
    "data"
   ]
  },
  {
   "cell_type": "code",
   "execution_count": 25,
   "id": "cf791374",
   "metadata": {},
   "outputs": [],
   "source": [
    "from rmgpy.data.base import Entry\n",
    "from rmgpy.reaction import Reaction\n",
    "\n",
    "index = 3\n",
    "data = data\n",
    "\n",
    "new_entry = Entry(\n",
    "    index=index,\n",
    "    label=';'.join([g.label for g in template]),\n",
    "    item=Reaction(reactants=[g.item for g in template], products=[]),\n",
    "    data=data,\n",
    "    rank=rank,\n",
    "    short_desc=\"Rate rule generated for uncertainty\",\n",
    "    long_desc=\"Rate rule generated for uncertainty\",\n",
    ")\n",
    "# new_entry.data.comment = \"From training reaction {1} used for {0}\".format(\n",
    "#     ';'.join([g.label for g in template]), entry.index)\n",
    "\n",
    "# new_entry.data.A.value_si /= entry.item.degeneracy\n",
    "try:\n",
    "    kinetics_database.families[family].rules.entries[new_entry.label].append(new_entry)\n",
    "except KeyError:\n",
    "    print(\"key already exists, updating entry\")\n",
    "    kinetics_database.families[family].rules.entries[new_entry.label] = [new_entry]\n",
    "# index += 1"
   ]
  },
  {
   "cell_type": "code",
   "execution_count": 26,
   "id": "889bac63",
   "metadata": {},
   "outputs": [
    {
     "data": {
      "text/plain": [
       "OrderedDict([('Adsorbate;VacantSite1;VacantSite2',\n",
       "              [<Entry index=1 label=\"Adsorbate;VacantSite1;VacantSite2\">]),\n",
       "             ('H2;VacantSite1;VacantSite2',\n",
       "              [<Entry index=2 label=\"H2;VacantSite1;VacantSite2\">]),\n",
       "             ('O-C;VacantSite1;VacantSite2',\n",
       "              [<Entry index=3 label=\"O-C;VacantSite1;VacantSite2\">])])"
      ]
     },
     "execution_count": 26,
     "metadata": {},
     "output_type": "execute_result"
    }
   ],
   "source": [
    "kinetics_database.families[family].rules.entries"
   ]
  },
  {
   "cell_type": "code",
   "execution_count": 27,
   "id": "10ee6c80",
   "metadata": {},
   "outputs": [],
   "source": [
    "\n",
    "kinetics_database.families[family].rules.save(os.path.join(families_dir, family, 'rules_' + 'test' + '.py'))"
   ]
  },
  {
   "cell_type": "code",
   "execution_count": 28,
   "id": "4c81f91b",
   "metadata": {},
   "outputs": [
    {
     "data": {
      "text/plain": [
       "OrderedDict([('Adsorbate', <Entry index=1 label=\"Adsorbate\">),\n",
       "             ('VacantSite1', <Entry index=2 label=\"VacantSite1\">),\n",
       "             ('VacantSite2', <Entry index=3 label=\"VacantSite2\">),\n",
       "             ('H2', <Entry index=4 label=\"H2\">),\n",
       "             ('O', <Entry index=5 label=\"O\">),\n",
       "             ('O-H', <Entry index=6 label=\"O-H\">),\n",
       "             ('H2O', <Entry index=7 label=\"H2O\">),\n",
       "             ('O-N', <Entry index=9 label=\"O-N\">),\n",
       "             ('O-C', <Entry index=10 label=\"O-C\">),\n",
       "             ('N', <Entry index=11 label=\"N\">),\n",
       "             ('N-C', <Entry index=12 label=\"N-C\">),\n",
       "             ('N-H', <Entry index=13 label=\"N-H\">),\n",
       "             ('C-H', <Entry index=14 label=\"C-H\">),\n",
       "             ('Adsorbed1', <Entry index=-1 label=\"Adsorbed1\">),\n",
       "             ('Adsorbed2', <Entry index=-1 label=\"Adsorbed2\">)])"
      ]
     },
     "execution_count": 28,
     "metadata": {},
     "output_type": "execute_result"
    }
   ],
   "source": [
    "kinetics_database.families[family].groups.entries"
   ]
  },
  {
   "cell_type": "code",
   "execution_count": 29,
   "id": "d688ca9c",
   "metadata": {},
   "outputs": [],
   "source": [
    "for i in dir(model.reactions[30]):\n",
    "    if \"Reaction\" in i:\n",
    "        print(i)"
   ]
  },
  {
   "cell_type": "code",
   "execution_count": 3,
   "id": "a6a8add2",
   "metadata": {},
   "outputs": [
    {
     "ename": "NameError",
     "evalue": "name 'chemkin_surf_file' is not defined",
     "output_type": "error",
     "traceback": [
      "\u001b[0;31m---------------------------------------------------------------------------\u001b[0m",
      "\u001b[0;31mNameError\u001b[0m                                 Traceback (most recent call last)",
      "\u001b[0;32m<ipython-input-3-7b7121034339>\u001b[0m in \u001b[0;36m<module>\u001b[0;34m\u001b[0m\n\u001b[0;32m----> 1\u001b[0;31m \u001b[0mchemkin_surf_file\u001b[0m\u001b[0;34m\u001b[0m\u001b[0;34m\u001b[0m\u001b[0m\n\u001b[0m",
      "\u001b[0;31mNameError\u001b[0m: name 'chemkin_surf_file' is not defined"
     ]
    }
   ],
   "source": [
    "chemkin_surf_file\n"
   ]
  },
  {
   "cell_type": "code",
   "execution_count": 18,
   "id": "eb5074fe",
   "metadata": {},
   "outputs": [
    {
     "name": "stdout",
     "output_type": "stream",
     "text": [
      "['SITE   SDEN', '2.9430E-09', ' ! mol', 'cm^2\\n']\n",
      "2.9429999999999998e-05\n"
     ]
    }
   ],
   "source": [
    "with open(chemkin_surf_file, 'r') as f:\n",
    "    chemkin_surf_file_lines = f.readlines()\n",
    "    for line in chemkin_surf_file_lines:\n",
    "        if line.startswith(\"SITE\"):\n",
    "            site_density = float(line.split(\"/\")[1])\n",
    "            site_density = site_density * 1e4 # convert from mol/cm2 to mol/m2\n",
    "            break"
   ]
  },
  {
   "cell_type": "code",
   "execution_count": 21,
   "id": "c9afee45",
   "metadata": {},
   "outputs": [],
   "source": [
    "from sbr import rms_sbr\n"
   ]
  },
  {
   "cell_type": "code",
   "execution_count": 1,
   "id": "4b1460d9",
   "metadata": {},
   "outputs": [],
   "source": [
    "import yaml\n",
    "from sbr import rms_sbr\n",
    "\n",
    "# testing for local computer before using discovery\n",
    "file_path = \"/Users/blais.ch/Documents/_01_code/05_Project_repos_Github/meOH_repos/uncertainty_analysis/rmg_gua/baseline/rms/chem53.rms\"\n",
    "rmg_db_folder = \"/Users/blais.ch/Documents/_01_code/RMG_env_1/RMG-database/\"\n",
    "expt_condts = \"/Users/blais.ch/Documents/_01_code/05_Project_repos_Github/meOH_repos/uncertainty_analysis/rmg_gua/gua_cantera/all_experiments_reorg_sbr.yaml\"\n",
    "\n",
    "with open(expt_condts, 'r') as file:\n",
    "    data = yaml.safe_load(file)\n",
    "\n",
    "# pick just one experiment for example\n",
    "conditions = data[2]\n",
    "\n",
    "test_sbr = rms_sbr(\n",
    "    file_path,\n",
    "    reac_config=conditions,\n",
    "    rtol=1.0e-11,\n",
    "    atol=1.0e-22,\n",
    ")\n",
    "results = test_sbr.run_simulation()\n"
   ]
  },
  {
   "cell_type": "code",
   "execution_count": 5,
   "id": "39336ae7",
   "metadata": {},
   "outputs": [],
   "source": [
    "for key, val in test_sbr.graaf_mole_fracs.items(): \n",
    "    results[\"graaf moles\" + key] = val"
   ]
  },
  {
   "cell_type": "code",
   "execution_count": 7,
   "id": "cb9b765c",
   "metadata": {},
   "outputs": [],
   "source": [
    "species = list(test_sbr.graaf_mole_fracs.keys())"
   ]
  },
  {
   "cell_type": "code",
   "execution_count": 15,
   "id": "3b651eaa",
   "metadata": {},
   "outputs": [
    {
     "name": "stdout",
     "output_type": "stream",
     "text": [
      "MSE for CH3OH is 0.9999741013209418  Graaf:  0.0078  RMG:  2.020096966544339e-07\n",
      "MSE for CO is 0.4553622480083891  Graaf:  0.067  RMG:  0.09750927061656207\n",
      "MSE for CO2 is 0.44244377604817536  Graaf:  0.2538  RMG:  0.1415077696389731\n",
      "MSE for H2 is 0.9544735216958216  Graaf:  0.6636  RMG:  0.03021137100265276\n",
      "MSE for H2O is 63.07990261406577  Graaf:  0.0078  RMG:  0.499823240389713\n"
     ]
    }
   ],
   "source": [
    "# calculate MSE\n",
    "for spec in species:\n",
    "    results[\"MSE \" + spec] = abs(results[\"graaf moles\" + spec] - \n",
    "    results[spec])/results[\"graaf moles\" + spec]\n",
    "    print(\"MSE for \" + spec + \" is \" + str(results[\"MSE \" + spec]), \" Graaf: \", results[\"graaf moles\" + spec], \" RMG: \", results[spec])"
   ]
  },
  {
   "cell_type": "code",
   "execution_count": 1,
   "id": "41895748",
   "metadata": {},
   "outputs": [
    {
     "data": {
      "text/plain": [
       "{'CH2O*+CH3O*<=>HCO*+CH3OH*': (2,\n",
       "  TemplateReaction(index=104, reactants=[Species(index=20, label=\"CH2O*\", thermo=NASA(polynomials=[NASAPolynomial(coeffs=[-1.46696,0.041387,-8.87611e-05,9.10103e-08,-3.36603e-11,-20300.2,15.7178], Tmin=(100,'K'), Tmax=(879.32,'K')), NASAPolynomial(coeffs=[-0.892954,0.0166197,-8.71599e-06,1.66817e-09,-1.12505e-13,-19544.6,17.893], Tmin=(879.32,'K'), Tmax=(5000,'K'))], Tmin=(100,'K'), Tmax=(5000,'K'), comment=\"\"\"Thermo library: surfaceThermoPt111 Binding energy corrected by LSR () from Pt111\"\"\"), molecule=[Molecule(smiles=\"C=O.[Pt]\")], molecular_weight=(30.026,'amu')), Species(index=21, label=\"CH3O*\", thermo=NASA(polynomials=[NASAPolynomial(coeffs=[-1.68422,0.0428024,-7.50785e-05,7.03684e-08,-2.50921e-11,-22313.7,7.76424], Tmin=(100,'K'), Tmax=(857.66,'K')), NASAPolynomial(coeffs=[1.14794,0.0171345,-8.39641e-06,1.59809e-09,-1.08976e-13,-22341.3,-2.79304], Tmin=(857.66,'K'), Tmax=(5000,'K'))], Tmin=(100,'K'), Tmax=(5000,'K'), comment=\"\"\"Thermo library: surfaceThermoPt111 Binding energy corrected by LSR (0.50O) from Pt111\"\"\"), molecule=[Molecule(smiles=\"CO[Pt]\")], molecular_weight=(31.034,'amu'))], products=[Species(index=16, label=\"HCO*\", thermo=NASA(polynomials=[NASAPolynomial(coeffs=[-1.43681,0.0369246,-7.17912e-05,6.73544e-08,-2.35184e-11,-21694.8,8.27567], Tmin=(100,'K'), Tmax=(873.21,'K')), NASAPolynomial(coeffs=[1.83284,0.0100778,-5.28529e-06,1.01351e-09,-6.85176e-14,-21813.3,-4.46413], Tmin=(873.21,'K'), Tmax=(5000,'K'))], Tmin=(100,'K'), Tmax=(5000,'K'), comment=\"\"\"Thermo library: surfaceThermoPt111 Binding energy corrected by LSR (0.25C) from Pt111\"\"\"), molecule=[Molecule(smiles=\"O=C[Pt]\")], molecular_weight=(29.018,'amu')), Species(index=23, label=\"CH3OH*\", thermo=NASA(polynomials=[NASAPolynomial(coeffs=[-1.64013,0.040998,-6.66179e-05,6.12132e-08,-2.17744e-11,-30508.7,13.8246], Tmin=(100,'K'), Tmax=(850.39,'K')), NASAPolynomial(coeffs=[1.01843,0.0182965,-8.58971e-06,1.6223e-09,-1.10731e-13,-30592.2,3.59723], Tmin=(850.39,'K'), Tmax=(5000,'K'))], Tmin=(100,'K'), Tmax=(5000,'K'), comment=\"\"\"Thermo library: surfaceThermoPt111 Binding energy corrected by LSR () from Pt111\"\"\"), molecule=[Molecule(smiles=\"CO.[Pt]\")], molecular_weight=(32.0419,'amu'))], kinetics=SurfaceArrhenius(A=(8.36e+21,'cm^2/(mol*s)'), n=0, Ea=(4.656,'kcal/mol'), T0=(1,'K'), comment=\"\"\"Estimated using template [Donating;Abstracting] for rate rule [C-R;*O]\n",
       "  Euclidian distance = 1.4142135623730951\n",
       "  Multiplied by reaction path degeneracy 2.0\n",
       "  family: Surface_Abstraction_Single_vdW\"\"\"), degeneracy=2.0, pairs=[(Species(index=21, label=\"CH3O*\", thermo=NASA(polynomials=[NASAPolynomial(coeffs=[-1.68422,0.0428024,-7.50785e-05,7.03684e-08,-2.50921e-11,-22313.7,7.76424], Tmin=(100,'K'), Tmax=(857.66,'K')), NASAPolynomial(coeffs=[1.14794,0.0171345,-8.39641e-06,1.59809e-09,-1.08976e-13,-22341.3,-2.79304], Tmin=(857.66,'K'), Tmax=(5000,'K'))], Tmin=(100,'K'), Tmax=(5000,'K'), comment=\"\"\"Thermo library: surfaceThermoPt111 Binding energy corrected by LSR (0.50O) from Pt111\"\"\"), molecule=[Molecule(smiles=\"CO[Pt]\")], molecular_weight=(31.034,'amu')), Species(index=23, label=\"CH3OH*\", thermo=NASA(polynomials=[NASAPolynomial(coeffs=[-1.64013,0.040998,-6.66179e-05,6.12132e-08,-2.17744e-11,-30508.7,13.8246], Tmin=(100,'K'), Tmax=(850.39,'K')), NASAPolynomial(coeffs=[1.01843,0.0182965,-8.58971e-06,1.6223e-09,-1.10731e-13,-30592.2,3.59723], Tmin=(850.39,'K'), Tmax=(5000,'K'))], Tmin=(100,'K'), Tmax=(5000,'K'), comment=\"\"\"Thermo library: surfaceThermoPt111 Binding energy corrected by LSR () from Pt111\"\"\"), molecule=[Molecule(smiles=\"CO.[Pt]\")], molecular_weight=(32.0419,'amu'))), (Species(index=20, label=\"CH2O*\", thermo=NASA(polynomials=[NASAPolynomial(coeffs=[-1.46696,0.041387,-8.87611e-05,9.10103e-08,-3.36603e-11,-20300.2,15.7178], Tmin=(100,'K'), Tmax=(879.32,'K')), NASAPolynomial(coeffs=[-0.892954,0.0166197,-8.71599e-06,1.66817e-09,-1.12505e-13,-19544.6,17.893], Tmin=(879.32,'K'), Tmax=(5000,'K'))], Tmin=(100,'K'), Tmax=(5000,'K'), comment=\"\"\"Thermo library: surfaceThermoPt111 Binding energy corrected by LSR () from Pt111\"\"\"), molecule=[Molecule(smiles=\"C=O.[Pt]\")], molecular_weight=(30.026,'amu')), Species(index=16, label=\"HCO*\", thermo=NASA(polynomials=[NASAPolynomial(coeffs=[-1.43681,0.0369246,-7.17912e-05,6.73544e-08,-2.35184e-11,-21694.8,8.27567], Tmin=(100,'K'), Tmax=(873.21,'K')), NASAPolynomial(coeffs=[1.83284,0.0100778,-5.28529e-06,1.01351e-09,-6.85176e-14,-21813.3,-4.46413], Tmin=(873.21,'K'), Tmax=(5000,'K'))], Tmin=(100,'K'), Tmax=(5000,'K'), comment=\"\"\"Thermo library: surfaceThermoPt111 Binding energy corrected by LSR (0.25C) from Pt111\"\"\"), molecule=[Molecule(smiles=\"O=C[Pt]\")], molecular_weight=(29.018,'amu')))], family='Surface_Abstraction_Single_vdW', template=['C-R', '*O'])),\n",
       " 'HCOOH*+CH3O*<=>HCOO*+CH3OH*': (9,\n",
       "  TemplateReaction(index=110, reactants=[Species(index=19, label=\"HCOOH*\", thermo=NASA(polynomials=[NASAPolynomial(coeffs=[-1.86631,0.0464163,-8.23154e-05,7.46389e-08,-2.57972e-11,-53276.8,17.2793], Tmin=(100,'K'), Tmax=(855.72,'K')), NASAPolynomial(coeffs=[2.69761,0.0143101,-7.15296e-06,1.37054e-09,-9.36325e-14,-53663.5,-1.7233], Tmin=(855.72,'K'), Tmax=(5000,'K'))], Tmin=(100,'K'), Tmax=(5000,'K'), comment=\"\"\"Thermo library: surfaceThermoPt111 Binding energy corrected by LSR () from Pt111\"\"\"), molecule=[Molecule(smiles=\"O=CO.[Pt]\")], molecular_weight=(46.0254,'amu')), Species(index=21, label=\"CH3O*\", thermo=NASA(polynomials=[NASAPolynomial(coeffs=[-1.68422,0.0428024,-7.50785e-05,7.03684e-08,-2.50921e-11,-22313.7,7.76424], Tmin=(100,'K'), Tmax=(857.66,'K')), NASAPolynomial(coeffs=[1.14794,0.0171345,-8.39641e-06,1.59809e-09,-1.08976e-13,-22341.3,-2.79304], Tmin=(857.66,'K'), Tmax=(5000,'K'))], Tmin=(100,'K'), Tmax=(5000,'K'), comment=\"\"\"Thermo library: surfaceThermoPt111 Binding energy corrected by LSR (0.50O) from Pt111\"\"\"), molecule=[Molecule(smiles=\"CO[Pt]\")], molecular_weight=(31.034,'amu'))], products=[Species(index=17, label=\"HCOO*\", thermo=NASA(polynomials=[NASAPolynomial(coeffs=[-1.7623,0.0429177,-7.40772e-05,6.53474e-08,-2.23044e-11,-56036.4,6.20759], Tmin=(100,'K'), Tmax=(830.08,'K')), NASAPolynomial(coeffs=[3.26723,0.0120318,-6.24856e-06,1.22139e-09,-8.47331e-14,-56642.3,-15.7404], Tmin=(830.08,'K'), Tmax=(5000,'K'))], Tmin=(100,'K'), Tmax=(5000,'K'), comment=\"\"\"Thermo library: surfaceThermoPt111 Binding energy corrected by LSR (0.50O) from Pt111\"\"\"), molecule=[Molecule(smiles=\"O=CO[Pt]\")], molecular_weight=(45.0174,'amu')), Species(index=23, label=\"CH3OH*\", thermo=NASA(polynomials=[NASAPolynomial(coeffs=[-1.64013,0.040998,-6.66179e-05,6.12132e-08,-2.17744e-11,-30508.7,13.8246], Tmin=(100,'K'), Tmax=(850.39,'K')), NASAPolynomial(coeffs=[1.01843,0.0182965,-8.58971e-06,1.6223e-09,-1.10731e-13,-30592.2,3.59723], Tmin=(850.39,'K'), Tmax=(5000,'K'))], Tmin=(100,'K'), Tmax=(5000,'K'), comment=\"\"\"Thermo library: surfaceThermoPt111 Binding energy corrected by LSR () from Pt111\"\"\"), molecule=[Molecule(smiles=\"CO.[Pt]\")], molecular_weight=(32.0419,'amu'))], kinetics=SurfaceArrhenius(A=(4.18e+21,'cm^2/(mol*s)'), n=0, Ea=(3.124,'kcal/mol'), T0=(1,'K'), comment=\"\"\"Estimated using template [Donating;Abstracting] for rate rule [O-H;*O]\n",
       "  Euclidian distance = 2.23606797749979\n",
       "  family: Surface_Abstraction_Single_vdW\"\"\"), pairs=[(Species(index=19, label=\"HCOOH*\", thermo=NASA(polynomials=[NASAPolynomial(coeffs=[-1.86631,0.0464163,-8.23154e-05,7.46389e-08,-2.57972e-11,-53276.8,17.2793], Tmin=(100,'K'), Tmax=(855.72,'K')), NASAPolynomial(coeffs=[2.69761,0.0143101,-7.15296e-06,1.37054e-09,-9.36325e-14,-53663.5,-1.7233], Tmin=(855.72,'K'), Tmax=(5000,'K'))], Tmin=(100,'K'), Tmax=(5000,'K'), comment=\"\"\"Thermo library: surfaceThermoPt111 Binding energy corrected by LSR () from Pt111\"\"\"), molecule=[Molecule(smiles=\"O=CO.[Pt]\")], molecular_weight=(46.0254,'amu')), Species(index=17, label=\"HCOO*\", thermo=NASA(polynomials=[NASAPolynomial(coeffs=[-1.7623,0.0429177,-7.40772e-05,6.53474e-08,-2.23044e-11,-56036.4,6.20759], Tmin=(100,'K'), Tmax=(830.08,'K')), NASAPolynomial(coeffs=[3.26723,0.0120318,-6.24856e-06,1.22139e-09,-8.47331e-14,-56642.3,-15.7404], Tmin=(830.08,'K'), Tmax=(5000,'K'))], Tmin=(100,'K'), Tmax=(5000,'K'), comment=\"\"\"Thermo library: surfaceThermoPt111 Binding energy corrected by LSR (0.50O) from Pt111\"\"\"), molecule=[Molecule(smiles=\"O=CO[Pt]\")], molecular_weight=(45.0174,'amu'))), (Species(index=21, label=\"CH3O*\", thermo=NASA(polynomials=[NASAPolynomial(coeffs=[-1.68422,0.0428024,-7.50785e-05,7.03684e-08,-2.50921e-11,-22313.7,7.76424], Tmin=(100,'K'), Tmax=(857.66,'K')), NASAPolynomial(coeffs=[1.14794,0.0171345,-8.39641e-06,1.59809e-09,-1.08976e-13,-22341.3,-2.79304], Tmin=(857.66,'K'), Tmax=(5000,'K'))], Tmin=(100,'K'), Tmax=(5000,'K'), comment=\"\"\"Thermo library: surfaceThermoPt111 Binding energy corrected by LSR (0.50O) from Pt111\"\"\"), molecule=[Molecule(smiles=\"CO[Pt]\")], molecular_weight=(31.034,'amu')), Species(index=23, label=\"CH3OH*\", thermo=NASA(polynomials=[NASAPolynomial(coeffs=[-1.64013,0.040998,-6.66179e-05,6.12132e-08,-2.17744e-11,-30508.7,13.8246], Tmin=(100,'K'), Tmax=(850.39,'K')), NASAPolynomial(coeffs=[1.01843,0.0182965,-8.58971e-06,1.6223e-09,-1.10731e-13,-30592.2,3.59723], Tmin=(850.39,'K'), Tmax=(5000,'K'))], Tmin=(100,'K'), Tmax=(5000,'K'), comment=\"\"\"Thermo library: surfaceThermoPt111 Binding energy corrected by LSR () from Pt111\"\"\"), molecule=[Molecule(smiles=\"CO.[Pt]\")], molecular_weight=(32.0419,'amu')))], family='Surface_Abstraction_Single_vdW', template=['O-H', '*O'])),\n",
       " 'CO*+CH3OH*<=>HCO*+CH3O*': (12,\n",
       "  TemplateReaction(index=88, reactants=[Species(index=14, label=\"CO*\", thermo=NASA(polynomials=[NASAPolynomial(coeffs=[-1.3822,0.0375313,-8.29789e-05,8.09746e-08,-2.85492e-11,-22537,4.3547], Tmin=(100,'K'), Tmax=(891.31,'K')), NASAPolynomial(coeffs=[1.38107,0.0080569,-4.64292e-06,8.9113e-10,-5.90014e-14,-22351.4,-4.85409], Tmin=(891.31,'K'), Tmax=(5000,'K'))], Tmin=(100,'K'), Tmax=(5000,'K'), comment=\"\"\"Thermo library: surfaceThermoPt111 Binding energy corrected by LSR (0.50C) from Pt111\"\"\"), molecule=[Molecule(smiles=\"O=C=[Pt]\")], molecular_weight=(28.01,'amu')), Species(index=23, label=\"CH3OH*\", thermo=NASA(polynomials=[NASAPolynomial(coeffs=[-1.64013,0.040998,-6.66179e-05,6.12132e-08,-2.17744e-11,-30508.7,13.8246], Tmin=(100,'K'), Tmax=(850.39,'K')), NASAPolynomial(coeffs=[1.01843,0.0182965,-8.58971e-06,1.6223e-09,-1.10731e-13,-30592.2,3.59723], Tmin=(850.39,'K'), Tmax=(5000,'K'))], Tmin=(100,'K'), Tmax=(5000,'K'), comment=\"\"\"Thermo library: surfaceThermoPt111 Binding energy corrected by LSR () from Pt111\"\"\"), molecule=[Molecule(smiles=\"CO.[Pt]\")], molecular_weight=(32.0419,'amu'))], products=[Species(index=16, label=\"HCO*\", thermo=NASA(polynomials=[NASAPolynomial(coeffs=[-1.43681,0.0369246,-7.17912e-05,6.73544e-08,-2.35184e-11,-21694.8,8.27567], Tmin=(100,'K'), Tmax=(873.21,'K')), NASAPolynomial(coeffs=[1.83284,0.0100778,-5.28529e-06,1.01351e-09,-6.85176e-14,-21813.3,-4.46413], Tmin=(873.21,'K'), Tmax=(5000,'K'))], Tmin=(100,'K'), Tmax=(5000,'K'), comment=\"\"\"Thermo library: surfaceThermoPt111 Binding energy corrected by LSR (0.25C) from Pt111\"\"\"), molecule=[Molecule(smiles=\"O=C[Pt]\")], molecular_weight=(29.018,'amu')), Species(index=21, label=\"CH3O*\", thermo=NASA(polynomials=[NASAPolynomial(coeffs=[-1.68422,0.0428024,-7.50785e-05,7.03684e-08,-2.50921e-11,-22313.7,7.76424], Tmin=(100,'K'), Tmax=(857.66,'K')), NASAPolynomial(coeffs=[1.14794,0.0171345,-8.39641e-06,1.59809e-09,-1.08976e-13,-22341.3,-2.79304], Tmin=(857.66,'K'), Tmax=(5000,'K'))], Tmin=(100,'K'), Tmax=(5000,'K'), comment=\"\"\"Thermo library: surfaceThermoPt111 Binding energy corrected by LSR (0.50O) from Pt111\"\"\"), molecule=[Molecule(smiles=\"CO[Pt]\")], molecular_weight=(31.034,'amu'))], kinetics=SurfaceArrhenius(A=(4.18e+21,'cm^2/(mol*s)'), n=0, Ea=(25.902,'kcal/mol'), T0=(1,'K'), comment=\"\"\"Estimated using template [AdsorbateVdW;Adsorbate1] for rate rule [O-R;*=C=R]\n",
       "  Euclidian distance = 3.1622776601683795\n",
       "  family: Surface_Abstraction_vdW\"\"\"), pairs=[(Species(index=23, label=\"CH3OH*\", thermo=NASA(polynomials=[NASAPolynomial(coeffs=[-1.64013,0.040998,-6.66179e-05,6.12132e-08,-2.17744e-11,-30508.7,13.8246], Tmin=(100,'K'), Tmax=(850.39,'K')), NASAPolynomial(coeffs=[1.01843,0.0182965,-8.58971e-06,1.6223e-09,-1.10731e-13,-30592.2,3.59723], Tmin=(850.39,'K'), Tmax=(5000,'K'))], Tmin=(100,'K'), Tmax=(5000,'K'), comment=\"\"\"Thermo library: surfaceThermoPt111 Binding energy corrected by LSR () from Pt111\"\"\"), molecule=[Molecule(smiles=\"CO.[Pt]\")], molecular_weight=(32.0419,'amu')), Species(index=21, label=\"CH3O*\", thermo=NASA(polynomials=[NASAPolynomial(coeffs=[-1.68422,0.0428024,-7.50785e-05,7.03684e-08,-2.50921e-11,-22313.7,7.76424], Tmin=(100,'K'), Tmax=(857.66,'K')), NASAPolynomial(coeffs=[1.14794,0.0171345,-8.39641e-06,1.59809e-09,-1.08976e-13,-22341.3,-2.79304], Tmin=(857.66,'K'), Tmax=(5000,'K'))], Tmin=(100,'K'), Tmax=(5000,'K'), comment=\"\"\"Thermo library: surfaceThermoPt111 Binding energy corrected by LSR (0.50O) from Pt111\"\"\"), molecule=[Molecule(smiles=\"CO[Pt]\")], molecular_weight=(31.034,'amu'))), (Species(index=14, label=\"CO*\", thermo=NASA(polynomials=[NASAPolynomial(coeffs=[-1.3822,0.0375313,-8.29789e-05,8.09746e-08,-2.85492e-11,-22537,4.3547], Tmin=(100,'K'), Tmax=(891.31,'K')), NASAPolynomial(coeffs=[1.38107,0.0080569,-4.64292e-06,8.9113e-10,-5.90014e-14,-22351.4,-4.85409], Tmin=(891.31,'K'), Tmax=(5000,'K'))], Tmin=(100,'K'), Tmax=(5000,'K'), comment=\"\"\"Thermo library: surfaceThermoPt111 Binding energy corrected by LSR (0.50C) from Pt111\"\"\"), molecule=[Molecule(smiles=\"O=C=[Pt]\")], molecular_weight=(28.01,'amu')), Species(index=16, label=\"HCO*\", thermo=NASA(polynomials=[NASAPolynomial(coeffs=[-1.43681,0.0369246,-7.17912e-05,6.73544e-08,-2.35184e-11,-21694.8,8.27567], Tmin=(100,'K'), Tmax=(873.21,'K')), NASAPolynomial(coeffs=[1.83284,0.0100778,-5.28529e-06,1.01351e-09,-6.85176e-14,-21813.3,-4.46413], Tmin=(873.21,'K'), Tmax=(5000,'K'))], Tmin=(100,'K'), Tmax=(5000,'K'), comment=\"\"\"Thermo library: surfaceThermoPt111 Binding energy corrected by LSR (0.25C) from Pt111\"\"\"), molecule=[Molecule(smiles=\"O=C[Pt]\")], molecular_weight=(29.018,'amu')))], family='Surface_Abstraction_vdW', template=['O-R', '*=C=R'])),\n",
       " 'X+CH2O*<=>H*+HCO*': (140,\n",
       "  TemplateReaction(index=44, reactants=[Species(index=1, label=\"X\", thermo=NASA(polynomials=[NASAPolynomial(coeffs=[0.00710134,-4.25614e-05,8.98519e-08,-7.80181e-11,2.32462e-14,-0.876099,-0.0311209], Tmin=(100,'K'), Tmax=(1554.81,'K')), NASAPolynomial(coeffs=[0.160301,-0.000252238,1.14182e-07,-1.21474e-11,3.85809e-16,-70.8109,-0.909537], Tmin=(1554.81,'K'), Tmax=(5000,'K'))], Tmin=(100,'K'), Tmax=(5000,'K'), comment=\"\"\"Thermo library: surfaceThermoPt111 Binding energy corrected by LSR () from Pt111\"\"\"), molecule=[Molecule(smiles=\"[Pt]\")], molecular_weight=(0,'amu')), Species(index=20, label=\"CH2O*\", thermo=NASA(polynomials=[NASAPolynomial(coeffs=[-1.46696,0.041387,-8.87611e-05,9.10103e-08,-3.36603e-11,-20300.2,15.7178], Tmin=(100,'K'), Tmax=(879.32,'K')), NASAPolynomial(coeffs=[-0.892954,0.0166197,-8.71599e-06,1.66817e-09,-1.12505e-13,-19544.6,17.893], Tmin=(879.32,'K'), Tmax=(5000,'K'))], Tmin=(100,'K'), Tmax=(5000,'K'), comment=\"\"\"Thermo library: surfaceThermoPt111 Binding energy corrected by LSR () from Pt111\"\"\"), molecule=[Molecule(smiles=\"C=O.[Pt]\")], molecular_weight=(30.026,'amu'))], products=[Species(index=10, label=\"H*\", thermo=NASA(polynomials=[NASAPolynomial(coeffs=[-0.380966,0.00547229,2.60912e-06,-9.6496e-09,4.63946e-12,-1405.57,1.01726], Tmin=(100,'K'), Tmax=(952.91,'K')), NASAPolynomial(coeffs=[2.8034,-0.000541049,4.99509e-07,-7.54966e-11,3.06774e-15,-2346.32,-15.9437], Tmin=(952.91,'K'), Tmax=(5000,'K'))], Tmin=(100,'K'), Tmax=(5000,'K'), comment=\"\"\"Thermo library: surfaceThermoPt111 Binding energy corrected by LSR (1.00H) from Pt111\"\"\"), molecule=[Molecule(smiles=\"[Pt]\")], molecular_weight=(1.00797,'amu')), Species(index=16, label=\"HCO*\", thermo=NASA(polynomials=[NASAPolynomial(coeffs=[-1.43681,0.0369246,-7.17912e-05,6.73544e-08,-2.35184e-11,-21694.8,8.27567], Tmin=(100,'K'), Tmax=(873.21,'K')), NASAPolynomial(coeffs=[1.83284,0.0100778,-5.28529e-06,1.01351e-09,-6.85176e-14,-21813.3,-4.46413], Tmin=(873.21,'K'), Tmax=(5000,'K'))], Tmin=(100,'K'), Tmax=(5000,'K'), comment=\"\"\"Thermo library: surfaceThermoPt111 Binding energy corrected by LSR (0.25C) from Pt111\"\"\"), molecule=[Molecule(smiles=\"O=C[Pt]\")], molecular_weight=(29.018,'amu'))], kinetics=SurfaceArrhenius(A=(4.18e+21,'cm^2/(mol*s)'), n=0, Ea=(14.875,'kcal/mol'), T0=(1,'K'), comment=\"\"\"Exact match found for rate rule [CH2R;VacantSite]\n",
       "  Euclidian distance = 0\n",
       "  Multiplied by reaction path degeneracy 2.0\n",
       "  family: Surface_Dissociation_vdW\"\"\"), degeneracy=2.0, pairs=[(Species(index=20, label=\"CH2O*\", thermo=NASA(polynomials=[NASAPolynomial(coeffs=[-1.46696,0.041387,-8.87611e-05,9.10103e-08,-3.36603e-11,-20300.2,15.7178], Tmin=(100,'K'), Tmax=(879.32,'K')), NASAPolynomial(coeffs=[-0.892954,0.0166197,-8.71599e-06,1.66817e-09,-1.12505e-13,-19544.6,17.893], Tmin=(879.32,'K'), Tmax=(5000,'K'))], Tmin=(100,'K'), Tmax=(5000,'K'), comment=\"\"\"Thermo library: surfaceThermoPt111 Binding energy corrected by LSR () from Pt111\"\"\"), molecule=[Molecule(smiles=\"C=O.[Pt]\")], molecular_weight=(30.026,'amu')), Species(index=16, label=\"HCO*\", thermo=NASA(polynomials=[NASAPolynomial(coeffs=[-1.43681,0.0369246,-7.17912e-05,6.73544e-08,-2.35184e-11,-21694.8,8.27567], Tmin=(100,'K'), Tmax=(873.21,'K')), NASAPolynomial(coeffs=[1.83284,0.0100778,-5.28529e-06,1.01351e-09,-6.85176e-14,-21813.3,-4.46413], Tmin=(873.21,'K'), Tmax=(5000,'K'))], Tmin=(100,'K'), Tmax=(5000,'K'), comment=\"\"\"Thermo library: surfaceThermoPt111 Binding energy corrected by LSR (0.25C) from Pt111\"\"\"), molecule=[Molecule(smiles=\"O=C[Pt]\")], molecular_weight=(29.018,'amu'))), (Species(index=20, label=\"CH2O*\", thermo=NASA(polynomials=[NASAPolynomial(coeffs=[-1.46696,0.041387,-8.87611e-05,9.10103e-08,-3.36603e-11,-20300.2,15.7178], Tmin=(100,'K'), Tmax=(879.32,'K')), NASAPolynomial(coeffs=[-0.892954,0.0166197,-8.71599e-06,1.66817e-09,-1.12505e-13,-19544.6,17.893], Tmin=(879.32,'K'), Tmax=(5000,'K'))], Tmin=(100,'K'), Tmax=(5000,'K'), comment=\"\"\"Thermo library: surfaceThermoPt111 Binding energy corrected by LSR () from Pt111\"\"\"), molecule=[Molecule(smiles=\"C=O.[Pt]\")], molecular_weight=(30.026,'amu')), Species(index=10, label=\"H*\", thermo=NASA(polynomials=[NASAPolynomial(coeffs=[-0.380966,0.00547229,2.60912e-06,-9.6496e-09,4.63946e-12,-1405.57,1.01726], Tmin=(100,'K'), Tmax=(952.91,'K')), NASAPolynomial(coeffs=[2.8034,-0.000541049,4.99509e-07,-7.54966e-11,3.06774e-15,-2346.32,-15.9437], Tmin=(952.91,'K'), Tmax=(5000,'K'))], Tmin=(100,'K'), Tmax=(5000,'K'), comment=\"\"\"Thermo library: surfaceThermoPt111 Binding energy corrected by LSR (1.00H) from Pt111\"\"\"), molecule=[Molecule(smiles=\"[Pt]\")], molecular_weight=(1.00797,'amu')))], family='Surface_Dissociation_vdW', template=['CH2R', 'VacantSite'])),\n",
       " 'X+HCO*<=>H*+CO*': (144,\n",
       "  TemplateReaction(index=36, reactants=[Species(index=1, label=\"X\", thermo=NASA(polynomials=[NASAPolynomial(coeffs=[0.00710134,-4.25614e-05,8.98519e-08,-7.80181e-11,2.32462e-14,-0.876099,-0.0311209], Tmin=(100,'K'), Tmax=(1554.81,'K')), NASAPolynomial(coeffs=[0.160301,-0.000252238,1.14182e-07,-1.21474e-11,3.85809e-16,-70.8109,-0.909537], Tmin=(1554.81,'K'), Tmax=(5000,'K'))], Tmin=(100,'K'), Tmax=(5000,'K'), comment=\"\"\"Thermo library: surfaceThermoPt111 Binding energy corrected by LSR () from Pt111\"\"\"), molecule=[Molecule(smiles=\"[Pt]\")], molecular_weight=(0,'amu')), Species(index=16, label=\"HCO*\", thermo=NASA(polynomials=[NASAPolynomial(coeffs=[-1.43681,0.0369246,-7.17912e-05,6.73544e-08,-2.35184e-11,-21694.8,8.27567], Tmin=(100,'K'), Tmax=(873.21,'K')), NASAPolynomial(coeffs=[1.83284,0.0100778,-5.28529e-06,1.01351e-09,-6.85176e-14,-21813.3,-4.46413], Tmin=(873.21,'K'), Tmax=(5000,'K'))], Tmin=(100,'K'), Tmax=(5000,'K'), comment=\"\"\"Thermo library: surfaceThermoPt111 Binding energy corrected by LSR (0.25C) from Pt111\"\"\"), molecule=[Molecule(smiles=\"O=C[Pt]\")], molecular_weight=(29.018,'amu'))], products=[Species(index=10, label=\"H*\", thermo=NASA(polynomials=[NASAPolynomial(coeffs=[-0.380966,0.00547229,2.60912e-06,-9.6496e-09,4.63946e-12,-1405.57,1.01726], Tmin=(100,'K'), Tmax=(952.91,'K')), NASAPolynomial(coeffs=[2.8034,-0.000541049,4.99509e-07,-7.54966e-11,3.06774e-15,-2346.32,-15.9437], Tmin=(952.91,'K'), Tmax=(5000,'K'))], Tmin=(100,'K'), Tmax=(5000,'K'), comment=\"\"\"Thermo library: surfaceThermoPt111 Binding energy corrected by LSR (1.00H) from Pt111\"\"\"), molecule=[Molecule(smiles=\"[Pt]\")], molecular_weight=(1.00797,'amu')), Species(index=14, label=\"CO*\", thermo=NASA(polynomials=[NASAPolynomial(coeffs=[-1.3822,0.0375313,-8.29789e-05,8.09746e-08,-2.85492e-11,-22537,4.3547], Tmin=(100,'K'), Tmax=(891.31,'K')), NASAPolynomial(coeffs=[1.38107,0.0080569,-4.64292e-06,8.9113e-10,-5.90014e-14,-22351.4,-4.85409], Tmin=(891.31,'K'), Tmax=(5000,'K'))], Tmin=(100,'K'), Tmax=(5000,'K'), comment=\"\"\"Thermo library: surfaceThermoPt111 Binding energy corrected by LSR (0.50C) from Pt111\"\"\"), molecule=[Molecule(smiles=\"O=C=[Pt]\")], molecular_weight=(28.01,'amu'))], kinetics=SurfaceArrhenius(A=(4.18e+21,'cm^2/(mol*s)'), n=0, Ea=(15.57,'kcal/mol'), T0=(1,'K'), comment=\"\"\"Exact match found for rate rule [C-H;VacantSite]\n",
       "  Euclidian distance = 0\n",
       "  family: Surface_Dissociation\"\"\"), pairs=[(Species(index=16, label=\"HCO*\", thermo=NASA(polynomials=[NASAPolynomial(coeffs=[-1.43681,0.0369246,-7.17912e-05,6.73544e-08,-2.35184e-11,-21694.8,8.27567], Tmin=(100,'K'), Tmax=(873.21,'K')), NASAPolynomial(coeffs=[1.83284,0.0100778,-5.28529e-06,1.01351e-09,-6.85176e-14,-21813.3,-4.46413], Tmin=(873.21,'K'), Tmax=(5000,'K'))], Tmin=(100,'K'), Tmax=(5000,'K'), comment=\"\"\"Thermo library: surfaceThermoPt111 Binding energy corrected by LSR (0.25C) from Pt111\"\"\"), molecule=[Molecule(smiles=\"O=C[Pt]\")], molecular_weight=(29.018,'amu')), Species(index=14, label=\"CO*\", thermo=NASA(polynomials=[NASAPolynomial(coeffs=[-1.3822,0.0375313,-8.29789e-05,8.09746e-08,-2.85492e-11,-22537,4.3547], Tmin=(100,'K'), Tmax=(891.31,'K')), NASAPolynomial(coeffs=[1.38107,0.0080569,-4.64292e-06,8.9113e-10,-5.90014e-14,-22351.4,-4.85409], Tmin=(891.31,'K'), Tmax=(5000,'K'))], Tmin=(100,'K'), Tmax=(5000,'K'), comment=\"\"\"Thermo library: surfaceThermoPt111 Binding energy corrected by LSR (0.50C) from Pt111\"\"\"), molecule=[Molecule(smiles=\"O=C=[Pt]\")], molecular_weight=(28.01,'amu'))), (Species(index=16, label=\"HCO*\", thermo=NASA(polynomials=[NASAPolynomial(coeffs=[-1.43681,0.0369246,-7.17912e-05,6.73544e-08,-2.35184e-11,-21694.8,8.27567], Tmin=(100,'K'), Tmax=(873.21,'K')), NASAPolynomial(coeffs=[1.83284,0.0100778,-5.28529e-06,1.01351e-09,-6.85176e-14,-21813.3,-4.46413], Tmin=(873.21,'K'), Tmax=(5000,'K'))], Tmin=(100,'K'), Tmax=(5000,'K'), comment=\"\"\"Thermo library: surfaceThermoPt111 Binding energy corrected by LSR (0.25C) from Pt111\"\"\"), molecule=[Molecule(smiles=\"O=C[Pt]\")], molecular_weight=(29.018,'amu')), Species(index=10, label=\"H*\", thermo=NASA(polynomials=[NASAPolynomial(coeffs=[-0.380966,0.00547229,2.60912e-06,-9.6496e-09,4.63946e-12,-1405.57,1.01726], Tmin=(100,'K'), Tmax=(952.91,'K')), NASAPolynomial(coeffs=[2.8034,-0.000541049,4.99509e-07,-7.54966e-11,3.06774e-15,-2346.32,-15.9437], Tmin=(952.91,'K'), Tmax=(5000,'K'))], Tmin=(100,'K'), Tmax=(5000,'K'), comment=\"\"\"Thermo library: surfaceThermoPt111 Binding energy corrected by LSR (1.00H) from Pt111\"\"\"), molecule=[Molecule(smiles=\"[Pt]\")], molecular_weight=(1.00797,'amu')))], family='Surface_Dissociation', template=['C-H', 'VacantSite'])),\n",
       " 'HCOOH*+CH3O*<=>COOH*+CH3OH*': (200,\n",
       "  TemplateReaction(index=113, reactants=[Species(index=19, label=\"HCOOH*\", thermo=NASA(polynomials=[NASAPolynomial(coeffs=[-1.86631,0.0464163,-8.23154e-05,7.46389e-08,-2.57972e-11,-53276.8,17.2793], Tmin=(100,'K'), Tmax=(855.72,'K')), NASAPolynomial(coeffs=[2.69761,0.0143101,-7.15296e-06,1.37054e-09,-9.36325e-14,-53663.5,-1.7233], Tmin=(855.72,'K'), Tmax=(5000,'K'))], Tmin=(100,'K'), Tmax=(5000,'K'), comment=\"\"\"Thermo library: surfaceThermoPt111 Binding energy corrected by LSR () from Pt111\"\"\"), molecule=[Molecule(smiles=\"O=CO.[Pt]\")], molecular_weight=(46.0254,'amu')), Species(index=21, label=\"CH3O*\", thermo=NASA(polynomials=[NASAPolynomial(coeffs=[-1.68422,0.0428024,-7.50785e-05,7.03684e-08,-2.50921e-11,-22313.7,7.76424], Tmin=(100,'K'), Tmax=(857.66,'K')), NASAPolynomial(coeffs=[1.14794,0.0171345,-8.39641e-06,1.59809e-09,-1.08976e-13,-22341.3,-2.79304], Tmin=(857.66,'K'), Tmax=(5000,'K'))], Tmin=(100,'K'), Tmax=(5000,'K'), comment=\"\"\"Thermo library: surfaceThermoPt111 Binding energy corrected by LSR (0.50O) from Pt111\"\"\"), molecule=[Molecule(smiles=\"CO[Pt]\")], molecular_weight=(31.034,'amu'))], products=[Species(index=18, label=\"COOH*\", thermo=NASA(polynomials=[NASAPolynomial(coeffs=[-1.63327,0.0387824,-6.41967e-05,5.36653e-08,-1.74576e-11,-51554,11.9828], Tmin=(100,'K'), Tmax=(816.9,'K')), NASAPolynomial(coeffs=[3.9072,0.00895137,-4.45969e-06,8.65653e-10,-6.00138e-14,-52369,-13.0745], Tmin=(816.9,'K'), Tmax=(5000,'K'))], Tmin=(100,'K'), Tmax=(5000,'K'), comment=\"\"\"Thermo library: surfaceThermoPt111 Binding energy corrected by LSR (0.25C) from Pt111\"\"\"), molecule=[Molecule(smiles=\"O=C(O)[Pt]\")], molecular_weight=(45.0174,'amu')), Species(index=23, label=\"CH3OH*\", thermo=NASA(polynomials=[NASAPolynomial(coeffs=[-1.64013,0.040998,-6.66179e-05,6.12132e-08,-2.17744e-11,-30508.7,13.8246], Tmin=(100,'K'), Tmax=(850.39,'K')), NASAPolynomial(coeffs=[1.01843,0.0182965,-8.58971e-06,1.6223e-09,-1.10731e-13,-30592.2,3.59723], Tmin=(850.39,'K'), Tmax=(5000,'K'))], Tmin=(100,'K'), Tmax=(5000,'K'), comment=\"\"\"Thermo library: surfaceThermoPt111 Binding energy corrected by LSR () from Pt111\"\"\"), molecule=[Molecule(smiles=\"CO.[Pt]\")], molecular_weight=(32.0419,'amu'))], kinetics=SurfaceArrhenius(A=(4.18e+21,'cm^2/(mol*s)'), n=0, Ea=(8.112,'kcal/mol'), T0=(1,'K'), comment=\"\"\"Estimated using template [Donating;Abstracting] for rate rule [C-R;*O]\n",
       "  Euclidian distance = 1.4142135623730951\n",
       "  family: Surface_Abstraction_Single_vdW\"\"\"), pairs=[(Species(index=19, label=\"HCOOH*\", thermo=NASA(polynomials=[NASAPolynomial(coeffs=[-1.86631,0.0464163,-8.23154e-05,7.46389e-08,-2.57972e-11,-53276.8,17.2793], Tmin=(100,'K'), Tmax=(855.72,'K')), NASAPolynomial(coeffs=[2.69761,0.0143101,-7.15296e-06,1.37054e-09,-9.36325e-14,-53663.5,-1.7233], Tmin=(855.72,'K'), Tmax=(5000,'K'))], Tmin=(100,'K'), Tmax=(5000,'K'), comment=\"\"\"Thermo library: surfaceThermoPt111 Binding energy corrected by LSR () from Pt111\"\"\"), molecule=[Molecule(smiles=\"O=CO.[Pt]\")], molecular_weight=(46.0254,'amu')), Species(index=18, label=\"COOH*\", thermo=NASA(polynomials=[NASAPolynomial(coeffs=[-1.63327,0.0387824,-6.41967e-05,5.36653e-08,-1.74576e-11,-51554,11.9828], Tmin=(100,'K'), Tmax=(816.9,'K')), NASAPolynomial(coeffs=[3.9072,0.00895137,-4.45969e-06,8.65653e-10,-6.00138e-14,-52369,-13.0745], Tmin=(816.9,'K'), Tmax=(5000,'K'))], Tmin=(100,'K'), Tmax=(5000,'K'), comment=\"\"\"Thermo library: surfaceThermoPt111 Binding energy corrected by LSR (0.25C) from Pt111\"\"\"), molecule=[Molecule(smiles=\"O=C(O)[Pt]\")], molecular_weight=(45.0174,'amu'))), (Species(index=21, label=\"CH3O*\", thermo=NASA(polynomials=[NASAPolynomial(coeffs=[-1.68422,0.0428024,-7.50785e-05,7.03684e-08,-2.50921e-11,-22313.7,7.76424], Tmin=(100,'K'), Tmax=(857.66,'K')), NASAPolynomial(coeffs=[1.14794,0.0171345,-8.39641e-06,1.59809e-09,-1.08976e-13,-22341.3,-2.79304], Tmin=(857.66,'K'), Tmax=(5000,'K'))], Tmin=(100,'K'), Tmax=(5000,'K'), comment=\"\"\"Thermo library: surfaceThermoPt111 Binding energy corrected by LSR (0.50O) from Pt111\"\"\"), molecule=[Molecule(smiles=\"CO[Pt]\")], molecular_weight=(31.034,'amu')), Species(index=23, label=\"CH3OH*\", thermo=NASA(polynomials=[NASAPolynomial(coeffs=[-1.64013,0.040998,-6.66179e-05,6.12132e-08,-2.17744e-11,-30508.7,13.8246], Tmin=(100,'K'), Tmax=(850.39,'K')), NASAPolynomial(coeffs=[1.01843,0.0182965,-8.58971e-06,1.6223e-09,-1.10731e-13,-30592.2,3.59723], Tmin=(850.39,'K'), Tmax=(5000,'K'))], Tmin=(100,'K'), Tmax=(5000,'K'), comment=\"\"\"Thermo library: surfaceThermoPt111 Binding energy corrected by LSR () from Pt111\"\"\"), molecule=[Molecule(smiles=\"CO.[Pt]\")], molecular_weight=(32.0419,'amu')))], family='Surface_Abstraction_Single_vdW', template=['C-R', '*O'])),\n",
       " 'H2O*+CO*<=>H*+COOH*': (210,\n",
       "  TemplateReaction(index=50, reactants=[Species(index=13, label=\"H2O*\", thermo=NASA(polynomials=[NASAPolynomial(coeffs=[-1.3434,0.0366695,-7.9948e-05,7.74125e-08,-2.68665e-11,-32349,11.0238], Tmin=(100,'K'), Tmax=(912.85,'K')), NASAPolynomial(coeffs=[1.12159,0.0081664,-4.02358e-06,7.20421e-10,-4.51443e-14,-32061.5,3.39616], Tmin=(912.85,'K'), Tmax=(5000,'K'))], Tmin=(100,'K'), Tmax=(5000,'K'), comment=\"\"\"Thermo library: surfaceThermoPt111 Binding energy corrected by LSR () from Pt111\"\"\"), molecule=[Molecule(smiles=\"O.[Pt]\")], molecular_weight=(18.0153,'amu')), Species(index=14, label=\"CO*\", thermo=NASA(polynomials=[NASAPolynomial(coeffs=[-1.3822,0.0375313,-8.29789e-05,8.09746e-08,-2.85492e-11,-22537,4.3547], Tmin=(100,'K'), Tmax=(891.31,'K')), NASAPolynomial(coeffs=[1.38107,0.0080569,-4.64292e-06,8.9113e-10,-5.90014e-14,-22351.4,-4.85409], Tmin=(891.31,'K'), Tmax=(5000,'K'))], Tmin=(100,'K'), Tmax=(5000,'K'), comment=\"\"\"Thermo library: surfaceThermoPt111 Binding energy corrected by LSR (0.50C) from Pt111\"\"\"), molecule=[Molecule(smiles=\"O=C=[Pt]\")], molecular_weight=(28.01,'amu'))], products=[Species(index=10, label=\"H*\", thermo=NASA(polynomials=[NASAPolynomial(coeffs=[-0.380966,0.00547229,2.60912e-06,-9.6496e-09,4.63946e-12,-1405.57,1.01726], Tmin=(100,'K'), Tmax=(952.91,'K')), NASAPolynomial(coeffs=[2.8034,-0.000541049,4.99509e-07,-7.54966e-11,3.06774e-15,-2346.32,-15.9437], Tmin=(952.91,'K'), Tmax=(5000,'K'))], Tmin=(100,'K'), Tmax=(5000,'K'), comment=\"\"\"Thermo library: surfaceThermoPt111 Binding energy corrected by LSR (1.00H) from Pt111\"\"\"), molecule=[Molecule(smiles=\"[Pt]\")], molecular_weight=(1.00797,'amu')), Species(index=18, label=\"COOH*\", thermo=NASA(polynomials=[NASAPolynomial(coeffs=[-1.63327,0.0387824,-6.41967e-05,5.36653e-08,-1.74576e-11,-51554,11.9828], Tmin=(100,'K'), Tmax=(816.9,'K')), NASAPolynomial(coeffs=[3.9072,0.00895137,-4.45969e-06,8.65653e-10,-6.00138e-14,-52369,-13.0745], Tmin=(816.9,'K'), Tmax=(5000,'K'))], Tmin=(100,'K'), Tmax=(5000,'K'), comment=\"\"\"Thermo library: surfaceThermoPt111 Binding energy corrected by LSR (0.25C) from Pt111\"\"\"), molecule=[Molecule(smiles=\"O=C(O)[Pt]\")], molecular_weight=(45.0174,'amu'))], kinetics=SurfaceArrhenius(A=(8.36e+21,'cm^2/(mol*s)'), n=0, Ea=(17.316,'kcal/mol'), T0=(1,'K'), comment=\"\"\"Estimated using template [AdsorbateVdW;Adsorbate1] for rate rule [AdsorbateVdW;*=C=R]\n",
       "  Euclidian distance = 3.0\n",
       "  Multiplied by reaction path degeneracy 2.0\n",
       "  family: Surface_Abstraction_vdW\"\"\"), degeneracy=2.0, pairs=[(Species(index=14, label=\"CO*\", thermo=NASA(polynomials=[NASAPolynomial(coeffs=[-1.3822,0.0375313,-8.29789e-05,8.09746e-08,-2.85492e-11,-22537,4.3547], Tmin=(100,'K'), Tmax=(891.31,'K')), NASAPolynomial(coeffs=[1.38107,0.0080569,-4.64292e-06,8.9113e-10,-5.90014e-14,-22351.4,-4.85409], Tmin=(891.31,'K'), Tmax=(5000,'K'))], Tmin=(100,'K'), Tmax=(5000,'K'), comment=\"\"\"Thermo library: surfaceThermoPt111 Binding energy corrected by LSR (0.50C) from Pt111\"\"\"), molecule=[Molecule(smiles=\"O=C=[Pt]\")], molecular_weight=(28.01,'amu')), Species(index=18, label=\"COOH*\", thermo=NASA(polynomials=[NASAPolynomial(coeffs=[-1.63327,0.0387824,-6.41967e-05,5.36653e-08,-1.74576e-11,-51554,11.9828], Tmin=(100,'K'), Tmax=(816.9,'K')), NASAPolynomial(coeffs=[3.9072,0.00895137,-4.45969e-06,8.65653e-10,-6.00138e-14,-52369,-13.0745], Tmin=(816.9,'K'), Tmax=(5000,'K'))], Tmin=(100,'K'), Tmax=(5000,'K'), comment=\"\"\"Thermo library: surfaceThermoPt111 Binding energy corrected by LSR (0.25C) from Pt111\"\"\"), molecule=[Molecule(smiles=\"O=C(O)[Pt]\")], molecular_weight=(45.0174,'amu'))), (Species(index=13, label=\"H2O*\", thermo=NASA(polynomials=[NASAPolynomial(coeffs=[-1.3434,0.0366695,-7.9948e-05,7.74125e-08,-2.68665e-11,-32349,11.0238], Tmin=(100,'K'), Tmax=(912.85,'K')), NASAPolynomial(coeffs=[1.12159,0.0081664,-4.02358e-06,7.20421e-10,-4.51443e-14,-32061.5,3.39616], Tmin=(912.85,'K'), Tmax=(5000,'K'))], Tmin=(100,'K'), Tmax=(5000,'K'), comment=\"\"\"Thermo library: surfaceThermoPt111 Binding energy corrected by LSR () from Pt111\"\"\"), molecule=[Molecule(smiles=\"O.[Pt]\")], molecular_weight=(18.0153,'amu')), Species(index=10, label=\"H*\", thermo=NASA(polynomials=[NASAPolynomial(coeffs=[-0.380966,0.00547229,2.60912e-06,-9.6496e-09,4.63946e-12,-1405.57,1.01726], Tmin=(100,'K'), Tmax=(952.91,'K')), NASAPolynomial(coeffs=[2.8034,-0.000541049,4.99509e-07,-7.54966e-11,3.06774e-15,-2346.32,-15.9437], Tmin=(952.91,'K'), Tmax=(5000,'K'))], Tmin=(100,'K'), Tmax=(5000,'K'), comment=\"\"\"Thermo library: surfaceThermoPt111 Binding energy corrected by LSR (1.00H) from Pt111\"\"\"), molecule=[Molecule(smiles=\"[Pt]\")], molecular_weight=(1.00797,'amu')))], family='Surface_Abstraction_vdW', template=['AdsorbateVdW', '*=C=R'])),\n",
       " 'CO*+HCOOH*<=>HCO*+HCOO*': (504,\n",
       "  TemplateReaction(index=81, reactants=[Species(index=14, label=\"CO*\", thermo=NASA(polynomials=[NASAPolynomial(coeffs=[-1.3822,0.0375313,-8.29789e-05,8.09746e-08,-2.85492e-11,-22537,4.3547], Tmin=(100,'K'), Tmax=(891.31,'K')), NASAPolynomial(coeffs=[1.38107,0.0080569,-4.64292e-06,8.9113e-10,-5.90014e-14,-22351.4,-4.85409], Tmin=(891.31,'K'), Tmax=(5000,'K'))], Tmin=(100,'K'), Tmax=(5000,'K'), comment=\"\"\"Thermo library: surfaceThermoPt111 Binding energy corrected by LSR (0.50C) from Pt111\"\"\"), molecule=[Molecule(smiles=\"O=C=[Pt]\")], molecular_weight=(28.01,'amu')), Species(index=19, label=\"HCOOH*\", thermo=NASA(polynomials=[NASAPolynomial(coeffs=[-1.86631,0.0464163,-8.23154e-05,7.46389e-08,-2.57972e-11,-53276.8,17.2793], Tmin=(100,'K'), Tmax=(855.72,'K')), NASAPolynomial(coeffs=[2.69761,0.0143101,-7.15296e-06,1.37054e-09,-9.36325e-14,-53663.5,-1.7233], Tmin=(855.72,'K'), Tmax=(5000,'K'))], Tmin=(100,'K'), Tmax=(5000,'K'), comment=\"\"\"Thermo library: surfaceThermoPt111 Binding energy corrected by LSR () from Pt111\"\"\"), molecule=[Molecule(smiles=\"O=CO.[Pt]\")], molecular_weight=(46.0254,'amu'))], products=[Species(index=16, label=\"HCO*\", thermo=NASA(polynomials=[NASAPolynomial(coeffs=[-1.43681,0.0369246,-7.17912e-05,6.73544e-08,-2.35184e-11,-21694.8,8.27567], Tmin=(100,'K'), Tmax=(873.21,'K')), NASAPolynomial(coeffs=[1.83284,0.0100778,-5.28529e-06,1.01351e-09,-6.85176e-14,-21813.3,-4.46413], Tmin=(873.21,'K'), Tmax=(5000,'K'))], Tmin=(100,'K'), Tmax=(5000,'K'), comment=\"\"\"Thermo library: surfaceThermoPt111 Binding energy corrected by LSR (0.25C) from Pt111\"\"\"), molecule=[Molecule(smiles=\"O=C[Pt]\")], molecular_weight=(29.018,'amu')), Species(index=17, label=\"HCOO*\", thermo=NASA(polynomials=[NASAPolynomial(coeffs=[-1.7623,0.0429177,-7.40772e-05,6.53474e-08,-2.23044e-11,-56036.4,6.20759], Tmin=(100,'K'), Tmax=(830.08,'K')), NASAPolynomial(coeffs=[3.26723,0.0120318,-6.24856e-06,1.22139e-09,-8.47331e-14,-56642.3,-15.7404], Tmin=(830.08,'K'), Tmax=(5000,'K'))], Tmin=(100,'K'), Tmax=(5000,'K'), comment=\"\"\"Thermo library: surfaceThermoPt111 Binding energy corrected by LSR (0.50O) from Pt111\"\"\"), molecule=[Molecule(smiles=\"O=CO[Pt]\")], molecular_weight=(45.0174,'amu'))], kinetics=SurfaceArrhenius(A=(4.18e+21,'cm^2/(mol*s)'), n=0, Ea=(13.406,'kcal/mol'), T0=(1,'K'), comment=\"\"\"Estimated using template [AdsorbateVdW;Adsorbate1] for rate rule [O-R;*=C=R]\n",
       "  Euclidian distance = 3.1622776601683795\n",
       "  family: Surface_Abstraction_vdW\"\"\"), pairs=[(Species(index=19, label=\"HCOOH*\", thermo=NASA(polynomials=[NASAPolynomial(coeffs=[-1.86631,0.0464163,-8.23154e-05,7.46389e-08,-2.57972e-11,-53276.8,17.2793], Tmin=(100,'K'), Tmax=(855.72,'K')), NASAPolynomial(coeffs=[2.69761,0.0143101,-7.15296e-06,1.37054e-09,-9.36325e-14,-53663.5,-1.7233], Tmin=(855.72,'K'), Tmax=(5000,'K'))], Tmin=(100,'K'), Tmax=(5000,'K'), comment=\"\"\"Thermo library: surfaceThermoPt111 Binding energy corrected by LSR () from Pt111\"\"\"), molecule=[Molecule(smiles=\"O=CO.[Pt]\")], molecular_weight=(46.0254,'amu')), Species(index=17, label=\"HCOO*\", thermo=NASA(polynomials=[NASAPolynomial(coeffs=[-1.7623,0.0429177,-7.40772e-05,6.53474e-08,-2.23044e-11,-56036.4,6.20759], Tmin=(100,'K'), Tmax=(830.08,'K')), NASAPolynomial(coeffs=[3.26723,0.0120318,-6.24856e-06,1.22139e-09,-8.47331e-14,-56642.3,-15.7404], Tmin=(830.08,'K'), Tmax=(5000,'K'))], Tmin=(100,'K'), Tmax=(5000,'K'), comment=\"\"\"Thermo library: surfaceThermoPt111 Binding energy corrected by LSR (0.50O) from Pt111\"\"\"), molecule=[Molecule(smiles=\"O=CO[Pt]\")], molecular_weight=(45.0174,'amu'))), (Species(index=14, label=\"CO*\", thermo=NASA(polynomials=[NASAPolynomial(coeffs=[-1.3822,0.0375313,-8.29789e-05,8.09746e-08,-2.85492e-11,-22537,4.3547], Tmin=(100,'K'), Tmax=(891.31,'K')), NASAPolynomial(coeffs=[1.38107,0.0080569,-4.64292e-06,8.9113e-10,-5.90014e-14,-22351.4,-4.85409], Tmin=(891.31,'K'), Tmax=(5000,'K'))], Tmin=(100,'K'), Tmax=(5000,'K'), comment=\"\"\"Thermo library: surfaceThermoPt111 Binding energy corrected by LSR (0.50C) from Pt111\"\"\"), molecule=[Molecule(smiles=\"O=C=[Pt]\")], molecular_weight=(28.01,'amu')), Species(index=16, label=\"HCO*\", thermo=NASA(polynomials=[NASAPolynomial(coeffs=[-1.43681,0.0369246,-7.17912e-05,6.73544e-08,-2.35184e-11,-21694.8,8.27567], Tmin=(100,'K'), Tmax=(873.21,'K')), NASAPolynomial(coeffs=[1.83284,0.0100778,-5.28529e-06,1.01351e-09,-6.85176e-14,-21813.3,-4.46413], Tmin=(873.21,'K'), Tmax=(5000,'K'))], Tmin=(100,'K'), Tmax=(5000,'K'), comment=\"\"\"Thermo library: surfaceThermoPt111 Binding energy corrected by LSR (0.25C) from Pt111\"\"\"), molecule=[Molecule(smiles=\"O=C[Pt]\")], molecular_weight=(29.018,'amu')))], family='Surface_Abstraction_vdW', template=['O-R', '*=C=R'])),\n",
       " 'OH*+CH2O*<=>H2O*+HCO*': (988,\n",
       "  TemplateReaction(index=73, reactants=[Species(index=12, label=\"OH*\", thermo=NASA(polynomials=[NASAPolynomial(coeffs=[-1.29515,0.0336477,-7.07723e-05,6.54322e-08,-2.19413e-11,-21645.4,4.37628], Tmin=(100,'K'), Tmax=(914.58,'K')), NASAPolynomial(coeffs=[2.43519,0.0046464,-2.40011e-06,4.26409e-10,-2.60655e-14,-21797.2,-10.3867], Tmin=(914.58,'K'), Tmax=(5000,'K'))], Tmin=(100,'K'), Tmax=(5000,'K'), comment=\"\"\"Thermo library: surfaceThermoPt111 Binding energy corrected by LSR (0.50O) from Pt111\"\"\"), molecule=[Molecule(smiles=\"O[Pt]\")], molecular_weight=(17.0074,'amu')), Species(index=20, label=\"CH2O*\", thermo=NASA(polynomials=[NASAPolynomial(coeffs=[-1.46696,0.041387,-8.87611e-05,9.10103e-08,-3.36603e-11,-20300.2,15.7178], Tmin=(100,'K'), Tmax=(879.32,'K')), NASAPolynomial(coeffs=[-0.892954,0.0166197,-8.71599e-06,1.66817e-09,-1.12505e-13,-19544.6,17.893], Tmin=(879.32,'K'), Tmax=(5000,'K'))], Tmin=(100,'K'), Tmax=(5000,'K'), comment=\"\"\"Thermo library: surfaceThermoPt111 Binding energy corrected by LSR () from Pt111\"\"\"), molecule=[Molecule(smiles=\"C=O.[Pt]\")], molecular_weight=(30.026,'amu'))], products=[Species(index=13, label=\"H2O*\", thermo=NASA(polynomials=[NASAPolynomial(coeffs=[-1.3434,0.0366695,-7.9948e-05,7.74125e-08,-2.68665e-11,-32349,11.0238], Tmin=(100,'K'), Tmax=(912.85,'K')), NASAPolynomial(coeffs=[1.12159,0.0081664,-4.02358e-06,7.20421e-10,-4.51443e-14,-32061.5,3.39616], Tmin=(912.85,'K'), Tmax=(5000,'K'))], Tmin=(100,'K'), Tmax=(5000,'K'), comment=\"\"\"Thermo library: surfaceThermoPt111 Binding energy corrected by LSR () from Pt111\"\"\"), molecule=[Molecule(smiles=\"O.[Pt]\")], molecular_weight=(18.0153,'amu')), Species(index=16, label=\"HCO*\", thermo=NASA(polynomials=[NASAPolynomial(coeffs=[-1.43681,0.0369246,-7.17912e-05,6.73544e-08,-2.35184e-11,-21694.8,8.27567], Tmin=(100,'K'), Tmax=(873.21,'K')), NASAPolynomial(coeffs=[1.83284,0.0100778,-5.28529e-06,1.01351e-09,-6.85176e-14,-21813.3,-4.46413], Tmin=(873.21,'K'), Tmax=(5000,'K'))], Tmin=(100,'K'), Tmax=(5000,'K'), comment=\"\"\"Thermo library: surfaceThermoPt111 Binding energy corrected by LSR (0.25C) from Pt111\"\"\"), molecule=[Molecule(smiles=\"O=C[Pt]\")], molecular_weight=(29.018,'amu'))], kinetics=SurfaceArrhenius(A=(8.36e+21,'cm^2/(mol*s)'), n=0, Ea=(1.892,'kcal/mol'), T0=(1,'K'), comment=\"\"\"Estimated using template [Donating;Abstracting] for rate rule [C-R;*O-H]\n",
       "  Euclidian distance = 2.23606797749979\n",
       "  Multiplied by reaction path degeneracy 2.0\n",
       "  family: Surface_Abstraction_Single_vdW\"\"\"), degeneracy=2.0, pairs=[(Species(index=20, label=\"CH2O*\", thermo=NASA(polynomials=[NASAPolynomial(coeffs=[-1.46696,0.041387,-8.87611e-05,9.10103e-08,-3.36603e-11,-20300.2,15.7178], Tmin=(100,'K'), Tmax=(879.32,'K')), NASAPolynomial(coeffs=[-0.892954,0.0166197,-8.71599e-06,1.66817e-09,-1.12505e-13,-19544.6,17.893], Tmin=(879.32,'K'), Tmax=(5000,'K'))], Tmin=(100,'K'), Tmax=(5000,'K'), comment=\"\"\"Thermo library: surfaceThermoPt111 Binding energy corrected by LSR () from Pt111\"\"\"), molecule=[Molecule(smiles=\"C=O.[Pt]\")], molecular_weight=(30.026,'amu')), Species(index=16, label=\"HCO*\", thermo=NASA(polynomials=[NASAPolynomial(coeffs=[-1.43681,0.0369246,-7.17912e-05,6.73544e-08,-2.35184e-11,-21694.8,8.27567], Tmin=(100,'K'), Tmax=(873.21,'K')), NASAPolynomial(coeffs=[1.83284,0.0100778,-5.28529e-06,1.01351e-09,-6.85176e-14,-21813.3,-4.46413], Tmin=(873.21,'K'), Tmax=(5000,'K'))], Tmin=(100,'K'), Tmax=(5000,'K'), comment=\"\"\"Thermo library: surfaceThermoPt111 Binding energy corrected by LSR (0.25C) from Pt111\"\"\"), molecule=[Molecule(smiles=\"O=C[Pt]\")], molecular_weight=(29.018,'amu'))), (Species(index=12, label=\"OH*\", thermo=NASA(polynomials=[NASAPolynomial(coeffs=[-1.29515,0.0336477,-7.07723e-05,6.54322e-08,-2.19413e-11,-21645.4,4.37628], Tmin=(100,'K'), Tmax=(914.58,'K')), NASAPolynomial(coeffs=[2.43519,0.0046464,-2.40011e-06,4.26409e-10,-2.60655e-14,-21797.2,-10.3867], Tmin=(914.58,'K'), Tmax=(5000,'K'))], Tmin=(100,'K'), Tmax=(5000,'K'), comment=\"\"\"Thermo library: surfaceThermoPt111 Binding energy corrected by LSR (0.50O) from Pt111\"\"\"), molecule=[Molecule(smiles=\"O[Pt]\")], molecular_weight=(17.0074,'amu')), Species(index=13, label=\"H2O*\", thermo=NASA(polynomials=[NASAPolynomial(coeffs=[-1.3434,0.0366695,-7.9948e-05,7.74125e-08,-2.68665e-11,-32349,11.0238], Tmin=(100,'K'), Tmax=(912.85,'K')), NASAPolynomial(coeffs=[1.12159,0.0081664,-4.02358e-06,7.20421e-10,-4.51443e-14,-32061.5,3.39616], Tmin=(912.85,'K'), Tmax=(5000,'K'))], Tmin=(100,'K'), Tmax=(5000,'K'), comment=\"\"\"Thermo library: surfaceThermoPt111 Binding energy corrected by LSR () from Pt111\"\"\"), molecule=[Molecule(smiles=\"O.[Pt]\")], molecular_weight=(18.0153,'amu')))], family='Surface_Abstraction_Single_vdW', template=['C-R', '*O-H'])),\n",
       " 'X+H2O*<=>H*+OH*': (988,\n",
       "  LibraryReaction(index=13, reactants=[Species(index=1, label=\"X\", thermo=NASA(polynomials=[NASAPolynomial(coeffs=[0.00710134,-4.25614e-05,8.98519e-08,-7.80181e-11,2.32462e-14,-0.876099,-0.0311209], Tmin=(100,'K'), Tmax=(1554.81,'K')), NASAPolynomial(coeffs=[0.160301,-0.000252238,1.14182e-07,-1.21474e-11,3.85809e-16,-70.8109,-0.909537], Tmin=(1554.81,'K'), Tmax=(5000,'K'))], Tmin=(100,'K'), Tmax=(5000,'K'), comment=\"\"\"Thermo library: surfaceThermoPt111 Binding energy corrected by LSR () from Pt111\"\"\"), molecule=[Molecule(smiles=\"[Pt]\")], molecular_weight=(0,'amu')), Species(index=13, label=\"H2O*\", thermo=NASA(polynomials=[NASAPolynomial(coeffs=[-1.3434,0.0366695,-7.9948e-05,7.74125e-08,-2.68665e-11,-32349,11.0238], Tmin=(100,'K'), Tmax=(912.85,'K')), NASAPolynomial(coeffs=[1.12159,0.0081664,-4.02358e-06,7.20421e-10,-4.51443e-14,-32061.5,3.39616], Tmin=(912.85,'K'), Tmax=(5000,'K'))], Tmin=(100,'K'), Tmax=(5000,'K'), comment=\"\"\"Thermo library: surfaceThermoPt111 Binding energy corrected by LSR () from Pt111\"\"\"), molecule=[Molecule(smiles=\"O.[Pt]\")], molecular_weight=(18.0153,'amu'))], products=[Species(index=10, label=\"H*\", thermo=NASA(polynomials=[NASAPolynomial(coeffs=[-0.380966,0.00547229,2.60912e-06,-9.6496e-09,4.63946e-12,-1405.57,1.01726], Tmin=(100,'K'), Tmax=(952.91,'K')), NASAPolynomial(coeffs=[2.8034,-0.000541049,4.99509e-07,-7.54966e-11,3.06774e-15,-2346.32,-15.9437], Tmin=(952.91,'K'), Tmax=(5000,'K'))], Tmin=(100,'K'), Tmax=(5000,'K'), comment=\"\"\"Thermo library: surfaceThermoPt111 Binding energy corrected by LSR (1.00H) from Pt111\"\"\"), molecule=[Molecule(smiles=\"[Pt]\")], molecular_weight=(1.00797,'amu')), Species(index=12, label=\"OH*\", thermo=NASA(polynomials=[NASAPolynomial(coeffs=[-1.29515,0.0336477,-7.07723e-05,6.54322e-08,-2.19413e-11,-21645.4,4.37628], Tmin=(100,'K'), Tmax=(914.58,'K')), NASAPolynomial(coeffs=[2.43519,0.0046464,-2.40011e-06,4.26409e-10,-2.60655e-14,-21797.2,-10.3867], Tmin=(914.58,'K'), Tmax=(5000,'K'))], Tmin=(100,'K'), Tmax=(5000,'K'), comment=\"\"\"Thermo library: surfaceThermoPt111 Binding energy corrected by LSR (0.50O) from Pt111\"\"\"), molecule=[Molecule(smiles=\"O[Pt]\")], molecular_weight=(17.0074,'amu'))], kinetics=SurfaceArrhenius(A=(1.15e+19,'cm^2/(mol*s)'), n=0, Ea=(24.235,'kcal/mol'), T0=(1,'K')), pairs=[(Species(index=13, label=\"H2O*\", thermo=NASA(polynomials=[NASAPolynomial(coeffs=[-1.3434,0.0366695,-7.9948e-05,7.74125e-08,-2.68665e-11,-32349,11.0238], Tmin=(100,'K'), Tmax=(912.85,'K')), NASAPolynomial(coeffs=[1.12159,0.0081664,-4.02358e-06,7.20421e-10,-4.51443e-14,-32061.5,3.39616], Tmin=(912.85,'K'), Tmax=(5000,'K'))], Tmin=(100,'K'), Tmax=(5000,'K'), comment=\"\"\"Thermo library: surfaceThermoPt111 Binding energy corrected by LSR () from Pt111\"\"\"), molecule=[Molecule(smiles=\"O.[Pt]\")], molecular_weight=(18.0153,'amu')), Species(index=12, label=\"OH*\", thermo=NASA(polynomials=[NASAPolynomial(coeffs=[-1.29515,0.0336477,-7.07723e-05,6.54322e-08,-2.19413e-11,-21645.4,4.37628], Tmin=(100,'K'), Tmax=(914.58,'K')), NASAPolynomial(coeffs=[2.43519,0.0046464,-2.40011e-06,4.26409e-10,-2.60655e-14,-21797.2,-10.3867], Tmin=(914.58,'K'), Tmax=(5000,'K'))], Tmin=(100,'K'), Tmax=(5000,'K'), comment=\"\"\"Thermo library: surfaceThermoPt111 Binding energy corrected by LSR (0.50O) from Pt111\"\"\"), molecule=[Molecule(smiles=\"O[Pt]\")], molecular_weight=(17.0074,'amu'))), (Species(index=1, label=\"X\", thermo=NASA(polynomials=[NASAPolynomial(coeffs=[0.00710134,-4.25614e-05,8.98519e-08,-7.80181e-11,2.32462e-14,-0.876099,-0.0311209], Tmin=(100,'K'), Tmax=(1554.81,'K')), NASAPolynomial(coeffs=[0.160301,-0.000252238,1.14182e-07,-1.21474e-11,3.85809e-16,-70.8109,-0.909537], Tmin=(1554.81,'K'), Tmax=(5000,'K'))], Tmin=(100,'K'), Tmax=(5000,'K'), comment=\"\"\"Thermo library: surfaceThermoPt111 Binding energy corrected by LSR () from Pt111\"\"\"), molecule=[Molecule(smiles=\"[Pt]\")], molecular_weight=(0,'amu')), Species(index=10, label=\"H*\", thermo=NASA(polynomials=[NASAPolynomial(coeffs=[-0.380966,0.00547229,2.60912e-06,-9.6496e-09,4.63946e-12,-1405.57,1.01726], Tmin=(100,'K'), Tmax=(952.91,'K')), NASAPolynomial(coeffs=[2.8034,-0.000541049,4.99509e-07,-7.54966e-11,3.06774e-15,-2346.32,-15.9437], Tmin=(952.91,'K'), Tmax=(5000,'K'))], Tmin=(100,'K'), Tmax=(5000,'K'), comment=\"\"\"Thermo library: surfaceThermoPt111 Binding energy corrected by LSR (1.00H) from Pt111\"\"\"), molecule=[Molecule(smiles=\"[Pt]\")], molecular_weight=(1.00797,'amu')))])),\n",
       " 'OH*+CH2O*<=>H*+HCOOH*': (1026,\n",
       "  TemplateReaction(index=51, reactants=[Species(index=12, label=\"OH*\", thermo=NASA(polynomials=[NASAPolynomial(coeffs=[-1.29515,0.0336477,-7.07723e-05,6.54322e-08,-2.19413e-11,-21645.4,4.37628], Tmin=(100,'K'), Tmax=(914.58,'K')), NASAPolynomial(coeffs=[2.43519,0.0046464,-2.40011e-06,4.26409e-10,-2.60655e-14,-21797.2,-10.3867], Tmin=(914.58,'K'), Tmax=(5000,'K'))], Tmin=(100,'K'), Tmax=(5000,'K'), comment=\"\"\"Thermo library: surfaceThermoPt111 Binding energy corrected by LSR (0.50O) from Pt111\"\"\"), molecule=[Molecule(smiles=\"O[Pt]\")], molecular_weight=(17.0074,'amu')), Species(index=20, label=\"CH2O*\", thermo=NASA(polynomials=[NASAPolynomial(coeffs=[-1.46696,0.041387,-8.87611e-05,9.10103e-08,-3.36603e-11,-20300.2,15.7178], Tmin=(100,'K'), Tmax=(879.32,'K')), NASAPolynomial(coeffs=[-0.892954,0.0166197,-8.71599e-06,1.66817e-09,-1.12505e-13,-19544.6,17.893], Tmin=(879.32,'K'), Tmax=(5000,'K'))], Tmin=(100,'K'), Tmax=(5000,'K'), comment=\"\"\"Thermo library: surfaceThermoPt111 Binding energy corrected by LSR () from Pt111\"\"\"), molecule=[Molecule(smiles=\"C=O.[Pt]\")], molecular_weight=(30.026,'amu'))], products=[Species(index=10, label=\"H*\", thermo=NASA(polynomials=[NASAPolynomial(coeffs=[-0.380966,0.00547229,2.60912e-06,-9.6496e-09,4.63946e-12,-1405.57,1.01726], Tmin=(100,'K'), Tmax=(952.91,'K')), NASAPolynomial(coeffs=[2.8034,-0.000541049,4.99509e-07,-7.54966e-11,3.06774e-15,-2346.32,-15.9437], Tmin=(952.91,'K'), Tmax=(5000,'K'))], Tmin=(100,'K'), Tmax=(5000,'K'), comment=\"\"\"Thermo library: surfaceThermoPt111 Binding energy corrected by LSR (1.00H) from Pt111\"\"\"), molecule=[Molecule(smiles=\"[Pt]\")], molecular_weight=(1.00797,'amu')), Species(index=19, label=\"HCOOH*\", thermo=NASA(polynomials=[NASAPolynomial(coeffs=[-1.86631,0.0464163,-8.23154e-05,7.46389e-08,-2.57972e-11,-53276.8,17.2793], Tmin=(100,'K'), Tmax=(855.72,'K')), NASAPolynomial(coeffs=[2.69761,0.0143101,-7.15296e-06,1.37054e-09,-9.36325e-14,-53663.5,-1.7233], Tmin=(855.72,'K'), Tmax=(5000,'K'))], Tmin=(100,'K'), Tmax=(5000,'K'), comment=\"\"\"Thermo library: surfaceThermoPt111 Binding energy corrected by LSR () from Pt111\"\"\"), molecule=[Molecule(smiles=\"O=CO.[Pt]\")], molecular_weight=(46.0254,'amu'))], kinetics=SurfaceArrhenius(A=(8.36e+21,'cm^2/(mol*s)'), n=0, Ea=(0.814,'kcal/mol'), T0=(1,'K'), comment=\"\"\"Estimated using template [Donating;Abstracting] for rate rule [Donating;*O-H]\n",
       "  Euclidian distance = 2.0\n",
       "  Multiplied by reaction path degeneracy 2.0\n",
       "  family: Surface_Abstraction_Single_vdW\"\"\"), degeneracy=2.0, pairs=[(Species(index=20, label=\"CH2O*\", thermo=NASA(polynomials=[NASAPolynomial(coeffs=[-1.46696,0.041387,-8.87611e-05,9.10103e-08,-3.36603e-11,-20300.2,15.7178], Tmin=(100,'K'), Tmax=(879.32,'K')), NASAPolynomial(coeffs=[-0.892954,0.0166197,-8.71599e-06,1.66817e-09,-1.12505e-13,-19544.6,17.893], Tmin=(879.32,'K'), Tmax=(5000,'K'))], Tmin=(100,'K'), Tmax=(5000,'K'), comment=\"\"\"Thermo library: surfaceThermoPt111 Binding energy corrected by LSR () from Pt111\"\"\"), molecule=[Molecule(smiles=\"C=O.[Pt]\")], molecular_weight=(30.026,'amu')), Species(index=19, label=\"HCOOH*\", thermo=NASA(polynomials=[NASAPolynomial(coeffs=[-1.86631,0.0464163,-8.23154e-05,7.46389e-08,-2.57972e-11,-53276.8,17.2793], Tmin=(100,'K'), Tmax=(855.72,'K')), NASAPolynomial(coeffs=[2.69761,0.0143101,-7.15296e-06,1.37054e-09,-9.36325e-14,-53663.5,-1.7233], Tmin=(855.72,'K'), Tmax=(5000,'K'))], Tmin=(100,'K'), Tmax=(5000,'K'), comment=\"\"\"Thermo library: surfaceThermoPt111 Binding energy corrected by LSR () from Pt111\"\"\"), molecule=[Molecule(smiles=\"O=CO.[Pt]\")], molecular_weight=(46.0254,'amu'))), (Species(index=12, label=\"OH*\", thermo=NASA(polynomials=[NASAPolynomial(coeffs=[-1.29515,0.0336477,-7.07723e-05,6.54322e-08,-2.19413e-11,-21645.4,4.37628], Tmin=(100,'K'), Tmax=(914.58,'K')), NASAPolynomial(coeffs=[2.43519,0.0046464,-2.40011e-06,4.26409e-10,-2.60655e-14,-21797.2,-10.3867], Tmin=(914.58,'K'), Tmax=(5000,'K'))], Tmin=(100,'K'), Tmax=(5000,'K'), comment=\"\"\"Thermo library: surfaceThermoPt111 Binding energy corrected by LSR (0.50O) from Pt111\"\"\"), molecule=[Molecule(smiles=\"O[Pt]\")], molecular_weight=(17.0074,'amu')), Species(index=10, label=\"H*\", thermo=NASA(polynomials=[NASAPolynomial(coeffs=[-0.380966,0.00547229,2.60912e-06,-9.6496e-09,4.63946e-12,-1405.57,1.01726], Tmin=(100,'K'), Tmax=(952.91,'K')), NASAPolynomial(coeffs=[2.8034,-0.000541049,4.99509e-07,-7.54966e-11,3.06774e-15,-2346.32,-15.9437], Tmin=(952.91,'K'), Tmax=(5000,'K'))], Tmin=(100,'K'), Tmax=(5000,'K'), comment=\"\"\"Thermo library: surfaceThermoPt111 Binding energy corrected by LSR (1.00H) from Pt111\"\"\"), molecule=[Molecule(smiles=\"[Pt]\")], molecular_weight=(1.00797,'amu')))], family='Surface_Abstraction_Single_vdW', template=['Donating', '*O-H'])),\n",
       " 'H*+CH2O*<=>X+CH3O*': (1080,\n",
       "  TemplateReaction(index=45, reactants=[Species(index=10, label=\"H*\", thermo=NASA(polynomials=[NASAPolynomial(coeffs=[-0.380966,0.00547229,2.60912e-06,-9.6496e-09,4.63946e-12,-1405.57,1.01726], Tmin=(100,'K'), Tmax=(952.91,'K')), NASAPolynomial(coeffs=[2.8034,-0.000541049,4.99509e-07,-7.54966e-11,3.06774e-15,-2346.32,-15.9437], Tmin=(952.91,'K'), Tmax=(5000,'K'))], Tmin=(100,'K'), Tmax=(5000,'K'), comment=\"\"\"Thermo library: surfaceThermoPt111 Binding energy corrected by LSR (1.00H) from Pt111\"\"\"), molecule=[Molecule(smiles=\"[Pt]\")], molecular_weight=(1.00797,'amu')), Species(index=20, label=\"CH2O*\", thermo=NASA(polynomials=[NASAPolynomial(coeffs=[-1.46696,0.041387,-8.87611e-05,9.10103e-08,-3.36603e-11,-20300.2,15.7178], Tmin=(100,'K'), Tmax=(879.32,'K')), NASAPolynomial(coeffs=[-0.892954,0.0166197,-8.71599e-06,1.66817e-09,-1.12505e-13,-19544.6,17.893], Tmin=(879.32,'K'), Tmax=(5000,'K'))], Tmin=(100,'K'), Tmax=(5000,'K'), comment=\"\"\"Thermo library: surfaceThermoPt111 Binding energy corrected by LSR () from Pt111\"\"\"), molecule=[Molecule(smiles=\"C=O.[Pt]\")], molecular_weight=(30.026,'amu'))], products=[Species(index=1, label=\"X\", thermo=NASA(polynomials=[NASAPolynomial(coeffs=[0.00710134,-4.25614e-05,8.98519e-08,-7.80181e-11,2.32462e-14,-0.876099,-0.0311209], Tmin=(100,'K'), Tmax=(1554.81,'K')), NASAPolynomial(coeffs=[0.160301,-0.000252238,1.14182e-07,-1.21474e-11,3.85809e-16,-70.8109,-0.909537], Tmin=(1554.81,'K'), Tmax=(5000,'K'))], Tmin=(100,'K'), Tmax=(5000,'K'), comment=\"\"\"Thermo library: surfaceThermoPt111 Binding energy corrected by LSR () from Pt111\"\"\"), molecule=[Molecule(smiles=\"[Pt]\")], molecular_weight=(0,'amu')), Species(index=21, label=\"CH3O*\", thermo=NASA(polynomials=[NASAPolynomial(coeffs=[-1.68422,0.0428024,-7.50785e-05,7.03684e-08,-2.50921e-11,-22313.7,7.76424], Tmin=(100,'K'), Tmax=(857.66,'K')), NASAPolynomial(coeffs=[1.14794,0.0171345,-8.39641e-06,1.59809e-09,-1.08976e-13,-22341.3,-2.79304], Tmin=(857.66,'K'), Tmax=(5000,'K'))], Tmin=(100,'K'), Tmax=(5000,'K'), comment=\"\"\"Thermo library: surfaceThermoPt111 Binding energy corrected by LSR (0.50O) from Pt111\"\"\"), molecule=[Molecule(smiles=\"CO[Pt]\")], molecular_weight=(31.034,'amu'))], kinetics=SurfaceArrhenius(A=(4.18e+21,'cm^2/(mol*s)'), n=0, Ea=(4.343,'kcal/mol'), T0=(1,'K'), comment=\"\"\"Estimated using template [AdsorbateVdW;Adsorbate1] for rate rule [O=C;H*]\n",
       "  Euclidian distance = 2.23606797749979\n",
       "  family: Surface_Addition_Single_vdW\"\"\"), pairs=[(Species(index=20, label=\"CH2O*\", thermo=NASA(polynomials=[NASAPolynomial(coeffs=[-1.46696,0.041387,-8.87611e-05,9.10103e-08,-3.36603e-11,-20300.2,15.7178], Tmin=(100,'K'), Tmax=(879.32,'K')), NASAPolynomial(coeffs=[-0.892954,0.0166197,-8.71599e-06,1.66817e-09,-1.12505e-13,-19544.6,17.893], Tmin=(879.32,'K'), Tmax=(5000,'K'))], Tmin=(100,'K'), Tmax=(5000,'K'), comment=\"\"\"Thermo library: surfaceThermoPt111 Binding energy corrected by LSR () from Pt111\"\"\"), molecule=[Molecule(smiles=\"C=O.[Pt]\")], molecular_weight=(30.026,'amu')), Species(index=21, label=\"CH3O*\", thermo=NASA(polynomials=[NASAPolynomial(coeffs=[-1.68422,0.0428024,-7.50785e-05,7.03684e-08,-2.50921e-11,-22313.7,7.76424], Tmin=(100,'K'), Tmax=(857.66,'K')), NASAPolynomial(coeffs=[1.14794,0.0171345,-8.39641e-06,1.59809e-09,-1.08976e-13,-22341.3,-2.79304], Tmin=(857.66,'K'), Tmax=(5000,'K'))], Tmin=(100,'K'), Tmax=(5000,'K'), comment=\"\"\"Thermo library: surfaceThermoPt111 Binding energy corrected by LSR (0.50O) from Pt111\"\"\"), molecule=[Molecule(smiles=\"CO[Pt]\")], molecular_weight=(31.034,'amu'))), (Species(index=10, label=\"H*\", thermo=NASA(polynomials=[NASAPolynomial(coeffs=[-0.380966,0.00547229,2.60912e-06,-9.6496e-09,4.63946e-12,-1405.57,1.01726], Tmin=(100,'K'), Tmax=(952.91,'K')), NASAPolynomial(coeffs=[2.8034,-0.000541049,4.99509e-07,-7.54966e-11,3.06774e-15,-2346.32,-15.9437], Tmin=(952.91,'K'), Tmax=(5000,'K'))], Tmin=(100,'K'), Tmax=(5000,'K'), comment=\"\"\"Thermo library: surfaceThermoPt111 Binding energy corrected by LSR (1.00H) from Pt111\"\"\"), molecule=[Molecule(smiles=\"[Pt]\")], molecular_weight=(1.00797,'amu')), Species(index=21, label=\"CH3O*\", thermo=NASA(polynomials=[NASAPolynomial(coeffs=[-1.68422,0.0428024,-7.50785e-05,7.03684e-08,-2.50921e-11,-22313.7,7.76424], Tmin=(100,'K'), Tmax=(857.66,'K')), NASAPolynomial(coeffs=[1.14794,0.0171345,-8.39641e-06,1.59809e-09,-1.08976e-13,-22341.3,-2.79304], Tmin=(857.66,'K'), Tmax=(5000,'K'))], Tmin=(100,'K'), Tmax=(5000,'K'), comment=\"\"\"Thermo library: surfaceThermoPt111 Binding energy corrected by LSR (0.50O) from Pt111\"\"\"), molecule=[Molecule(smiles=\"CO[Pt]\")], molecular_weight=(31.034,'amu')))], family='Surface_Addition_Single_vdW', template=['O=C', 'H*'])),\n",
       " 'X+X+CH3OH<=>H*+CH3O*': (1102,\n",
       "  TemplateReaction(index=34, reactants=[Species(index=1, label=\"X\", thermo=NASA(polynomials=[NASAPolynomial(coeffs=[0.00710134,-4.25614e-05,8.98519e-08,-7.80181e-11,2.32462e-14,-0.876099,-0.0311209], Tmin=(100,'K'), Tmax=(1554.81,'K')), NASAPolynomial(coeffs=[0.160301,-0.000252238,1.14182e-07,-1.21474e-11,3.85809e-16,-70.8109,-0.909537], Tmin=(1554.81,'K'), Tmax=(5000,'K'))], Tmin=(100,'K'), Tmax=(5000,'K'), comment=\"\"\"Thermo library: surfaceThermoPt111 Binding energy corrected by LSR () from Pt111\"\"\"), molecule=[Molecule(smiles=\"[Pt]\")], molecular_weight=(0,'amu')), Species(index=1, label=\"X\", thermo=NASA(polynomials=[NASAPolynomial(coeffs=[0.00710134,-4.25614e-05,8.98519e-08,-7.80181e-11,2.32462e-14,-0.876099,-0.0311209], Tmin=(100,'K'), Tmax=(1554.81,'K')), NASAPolynomial(coeffs=[0.160301,-0.000252238,1.14182e-07,-1.21474e-11,3.85809e-16,-70.8109,-0.909537], Tmin=(1554.81,'K'), Tmax=(5000,'K'))], Tmin=(100,'K'), Tmax=(5000,'K'), comment=\"\"\"Thermo library: surfaceThermoPt111 Binding energy corrected by LSR () from Pt111\"\"\"), molecule=[Molecule(smiles=\"[Pt]\")], molecular_weight=(0,'amu')), Species(index=8, label=\"CH3OH\", thermo=NASA(polynomials=[NASAPolynomial(coeffs=[3.84006,0.00138239,1.91668e-05,-2.0157e-08,6.39108e-12,-25608.3,5.90977], Tmin=(100,'K'), Tmax=(1035.75,'K')), NASAPolynomial(coeffs=[2.79183,0.0115828,-4.51553e-06,8.2121e-10,-5.67066e-14,-25721.2,9.41069], Tmin=(1035.75,'K'), Tmax=(5000,'K'))], Tmin=(100,'K'), Tmax=(5000,'K'), comment=\"\"\"Thermo library: thermo_DFT_CCSDTF12_BAC\"\"\"), molecule=[Molecule(smiles=\"CO\")], molecular_weight=(32.0419,'amu'))], products=[Species(index=10, label=\"H*\", thermo=NASA(polynomials=[NASAPolynomial(coeffs=[-0.380966,0.00547229,2.60912e-06,-9.6496e-09,4.63946e-12,-1405.57,1.01726], Tmin=(100,'K'), Tmax=(952.91,'K')), NASAPolynomial(coeffs=[2.8034,-0.000541049,4.99509e-07,-7.54966e-11,3.06774e-15,-2346.32,-15.9437], Tmin=(952.91,'K'), Tmax=(5000,'K'))], Tmin=(100,'K'), Tmax=(5000,'K'), comment=\"\"\"Thermo library: surfaceThermoPt111 Binding energy corrected by LSR (1.00H) from Pt111\"\"\"), molecule=[Molecule(smiles=\"[Pt]\")], molecular_weight=(1.00797,'amu')), Species(index=21, label=\"CH3O*\", thermo=NASA(polynomials=[NASAPolynomial(coeffs=[-1.68422,0.0428024,-7.50785e-05,7.03684e-08,-2.50921e-11,-22313.7,7.76424], Tmin=(100,'K'), Tmax=(857.66,'K')), NASAPolynomial(coeffs=[1.14794,0.0171345,-8.39641e-06,1.59809e-09,-1.08976e-13,-22341.3,-2.79304], Tmin=(857.66,'K'), Tmax=(5000,'K'))], Tmin=(100,'K'), Tmax=(5000,'K'), comment=\"\"\"Thermo library: surfaceThermoPt111 Binding energy corrected by LSR (0.50O) from Pt111\"\"\"), molecule=[Molecule(smiles=\"CO[Pt]\")], molecular_weight=(31.034,'amu'))], kinetics=StickingCoefficient(A=0.1, n=0, Ea=(27.914,'kcal/mol'), T0=(1,'K'), comment=\"\"\"Exact match found for rate rule [O-H;VacantSite1;VacantSite2]\n",
       "  Euclidian distance = 0\n",
       "  family: Surface_Adsorption_Dissociative\"\"\"), pairs=[(Species(index=8, label=\"CH3OH\", thermo=NASA(polynomials=[NASAPolynomial(coeffs=[3.84006,0.00138239,1.91668e-05,-2.0157e-08,6.39108e-12,-25608.3,5.90977], Tmin=(100,'K'), Tmax=(1035.75,'K')), NASAPolynomial(coeffs=[2.79183,0.0115828,-4.51553e-06,8.2121e-10,-5.67066e-14,-25721.2,9.41069], Tmin=(1035.75,'K'), Tmax=(5000,'K'))], Tmin=(100,'K'), Tmax=(5000,'K'), comment=\"\"\"Thermo library: thermo_DFT_CCSDTF12_BAC\"\"\"), molecule=[Molecule(smiles=\"CO\")], molecular_weight=(32.0419,'amu')), Species(index=21, label=\"CH3O*\", thermo=NASA(polynomials=[NASAPolynomial(coeffs=[-1.68422,0.0428024,-7.50785e-05,7.03684e-08,-2.50921e-11,-22313.7,7.76424], Tmin=(100,'K'), Tmax=(857.66,'K')), NASAPolynomial(coeffs=[1.14794,0.0171345,-8.39641e-06,1.59809e-09,-1.08976e-13,-22341.3,-2.79304], Tmin=(857.66,'K'), Tmax=(5000,'K'))], Tmin=(100,'K'), Tmax=(5000,'K'), comment=\"\"\"Thermo library: surfaceThermoPt111 Binding energy corrected by LSR (0.50O) from Pt111\"\"\"), molecule=[Molecule(smiles=\"CO[Pt]\")], molecular_weight=(31.034,'amu'))), (Species(index=1, label=\"X\", thermo=NASA(polynomials=[NASAPolynomial(coeffs=[0.00710134,-4.25614e-05,8.98519e-08,-7.80181e-11,2.32462e-14,-0.876099,-0.0311209], Tmin=(100,'K'), Tmax=(1554.81,'K')), NASAPolynomial(coeffs=[0.160301,-0.000252238,1.14182e-07,-1.21474e-11,3.85809e-16,-70.8109,-0.909537], Tmin=(1554.81,'K'), Tmax=(5000,'K'))], Tmin=(100,'K'), Tmax=(5000,'K'), comment=\"\"\"Thermo library: surfaceThermoPt111 Binding energy corrected by LSR () from Pt111\"\"\"), molecule=[Molecule(smiles=\"[Pt]\")], molecular_weight=(0,'amu')), Species(index=10, label=\"H*\", thermo=NASA(polynomials=[NASAPolynomial(coeffs=[-0.380966,0.00547229,2.60912e-06,-9.6496e-09,4.63946e-12,-1405.57,1.01726], Tmin=(100,'K'), Tmax=(952.91,'K')), NASAPolynomial(coeffs=[2.8034,-0.000541049,4.99509e-07,-7.54966e-11,3.06774e-15,-2346.32,-15.9437], Tmin=(952.91,'K'), Tmax=(5000,'K'))], Tmin=(100,'K'), Tmax=(5000,'K'), comment=\"\"\"Thermo library: surfaceThermoPt111 Binding energy corrected by LSR (1.00H) from Pt111\"\"\"), molecule=[Molecule(smiles=\"[Pt]\")], molecular_weight=(1.00797,'amu'))), (Species(index=1, label=\"X\", thermo=NASA(polynomials=[NASAPolynomial(coeffs=[0.00710134,-4.25614e-05,8.98519e-08,-7.80181e-11,2.32462e-14,-0.876099,-0.0311209], Tmin=(100,'K'), Tmax=(1554.81,'K')), NASAPolynomial(coeffs=[0.160301,-0.000252238,1.14182e-07,-1.21474e-11,3.85809e-16,-70.8109,-0.909537], Tmin=(1554.81,'K'), Tmax=(5000,'K'))], Tmin=(100,'K'), Tmax=(5000,'K'), comment=\"\"\"Thermo library: surfaceThermoPt111 Binding energy corrected by LSR () from Pt111\"\"\"), molecule=[Molecule(smiles=\"[Pt]\")], molecular_weight=(0,'amu')), Species(index=10, label=\"H*\", thermo=NASA(polynomials=[NASAPolynomial(coeffs=[-0.380966,0.00547229,2.60912e-06,-9.6496e-09,4.63946e-12,-1405.57,1.01726], Tmin=(100,'K'), Tmax=(952.91,'K')), NASAPolynomial(coeffs=[2.8034,-0.000541049,4.99509e-07,-7.54966e-11,3.06774e-15,-2346.32,-15.9437], Tmin=(952.91,'K'), Tmax=(5000,'K'))], Tmin=(100,'K'), Tmax=(5000,'K'), comment=\"\"\"Thermo library: surfaceThermoPt111 Binding energy corrected by LSR (1.00H) from Pt111\"\"\"), molecule=[Molecule(smiles=\"[Pt]\")], molecular_weight=(1.00797,'amu')))], family='Surface_Adsorption_Dissociative', template=['O-H', 'VacantSite1', 'VacantSite2'])),\n",
       " 'X+X+HCOOH<=>H*+HCOO*': (1140,\n",
       "  TemplateReaction(index=32, reactants=[Species(index=1, label=\"X\", thermo=NASA(polynomials=[NASAPolynomial(coeffs=[0.00710134,-4.25614e-05,8.98519e-08,-7.80181e-11,2.32462e-14,-0.876099,-0.0311209], Tmin=(100,'K'), Tmax=(1554.81,'K')), NASAPolynomial(coeffs=[0.160301,-0.000252238,1.14182e-07,-1.21474e-11,3.85809e-16,-70.8109,-0.909537], Tmin=(1554.81,'K'), Tmax=(5000,'K'))], Tmin=(100,'K'), Tmax=(5000,'K'), comment=\"\"\"Thermo library: surfaceThermoPt111 Binding energy corrected by LSR () from Pt111\"\"\"), molecule=[Molecule(smiles=\"[Pt]\")], molecular_weight=(0,'amu')), Species(index=1, label=\"X\", thermo=NASA(polynomials=[NASAPolynomial(coeffs=[0.00710134,-4.25614e-05,8.98519e-08,-7.80181e-11,2.32462e-14,-0.876099,-0.0311209], Tmin=(100,'K'), Tmax=(1554.81,'K')), NASAPolynomial(coeffs=[0.160301,-0.000252238,1.14182e-07,-1.21474e-11,3.85809e-16,-70.8109,-0.909537], Tmin=(1554.81,'K'), Tmax=(5000,'K'))], Tmin=(100,'K'), Tmax=(5000,'K'), comment=\"\"\"Thermo library: surfaceThermoPt111 Binding energy corrected by LSR () from Pt111\"\"\"), molecule=[Molecule(smiles=\"[Pt]\")], molecular_weight=(0,'amu')), Species(index=7, label=\"HCOOH\", thermo=NASA(polynomials=[NASAPolynomial(coeffs=[3.76241,-0.000943944,3.38782e-05,-4.04988e-08,1.43988e-11,-46821.2,7.63273], Tmin=(100,'K'), Tmax=(993.73,'K')), NASAPolynomial(coeffs=[5.64497,0.00755187,-3.20854e-06,6.58926e-10,-5.05061e-14,-47989,-5.43087], Tmin=(993.73,'K'), Tmax=(5000,'K'))], Tmin=(100,'K'), Tmax=(5000,'K'), comment=\"\"\"Thermo library: thermo_DFT_CCSDTF12_BAC\"\"\"), molecule=[Molecule(smiles=\"O=CO\")], molecular_weight=(46.0254,'amu'))], products=[Species(index=10, label=\"H*\", thermo=NASA(polynomials=[NASAPolynomial(coeffs=[-0.380966,0.00547229,2.60912e-06,-9.6496e-09,4.63946e-12,-1405.57,1.01726], Tmin=(100,'K'), Tmax=(952.91,'K')), NASAPolynomial(coeffs=[2.8034,-0.000541049,4.99509e-07,-7.54966e-11,3.06774e-15,-2346.32,-15.9437], Tmin=(952.91,'K'), Tmax=(5000,'K'))], Tmin=(100,'K'), Tmax=(5000,'K'), comment=\"\"\"Thermo library: surfaceThermoPt111 Binding energy corrected by LSR (1.00H) from Pt111\"\"\"), molecule=[Molecule(smiles=\"[Pt]\")], molecular_weight=(1.00797,'amu')), Species(index=17, label=\"HCOO*\", thermo=NASA(polynomials=[NASAPolynomial(coeffs=[-1.7623,0.0429177,-7.40772e-05,6.53474e-08,-2.23044e-11,-56036.4,6.20759], Tmin=(100,'K'), Tmax=(830.08,'K')), NASAPolynomial(coeffs=[3.26723,0.0120318,-6.24856e-06,1.22139e-09,-8.47331e-14,-56642.3,-15.7404], Tmin=(830.08,'K'), Tmax=(5000,'K'))], Tmin=(100,'K'), Tmax=(5000,'K'), comment=\"\"\"Thermo library: surfaceThermoPt111 Binding energy corrected by LSR (0.50O) from Pt111\"\"\"), molecule=[Molecule(smiles=\"O=CO[Pt]\")], molecular_weight=(45.0174,'amu'))], kinetics=StickingCoefficient(A=0.1, n=0, Ea=(10.781,'kcal/mol'), T0=(1,'K'), comment=\"\"\"Exact match found for rate rule [O-H;VacantSite1;VacantSite2]\n",
       "  Euclidian distance = 0\n",
       "  family: Surface_Adsorption_Dissociative\"\"\"), pairs=[(Species(index=7, label=\"HCOOH\", thermo=NASA(polynomials=[NASAPolynomial(coeffs=[3.76241,-0.000943944,3.38782e-05,-4.04988e-08,1.43988e-11,-46821.2,7.63273], Tmin=(100,'K'), Tmax=(993.73,'K')), NASAPolynomial(coeffs=[5.64497,0.00755187,-3.20854e-06,6.58926e-10,-5.05061e-14,-47989,-5.43087], Tmin=(993.73,'K'), Tmax=(5000,'K'))], Tmin=(100,'K'), Tmax=(5000,'K'), comment=\"\"\"Thermo library: thermo_DFT_CCSDTF12_BAC\"\"\"), molecule=[Molecule(smiles=\"O=CO\")], molecular_weight=(46.0254,'amu')), Species(index=17, label=\"HCOO*\", thermo=NASA(polynomials=[NASAPolynomial(coeffs=[-1.7623,0.0429177,-7.40772e-05,6.53474e-08,-2.23044e-11,-56036.4,6.20759], Tmin=(100,'K'), Tmax=(830.08,'K')), NASAPolynomial(coeffs=[3.26723,0.0120318,-6.24856e-06,1.22139e-09,-8.47331e-14,-56642.3,-15.7404], Tmin=(830.08,'K'), Tmax=(5000,'K'))], Tmin=(100,'K'), Tmax=(5000,'K'), comment=\"\"\"Thermo library: surfaceThermoPt111 Binding energy corrected by LSR (0.50O) from Pt111\"\"\"), molecule=[Molecule(smiles=\"O=CO[Pt]\")], molecular_weight=(45.0174,'amu'))), (Species(index=1, label=\"X\", thermo=NASA(polynomials=[NASAPolynomial(coeffs=[0.00710134,-4.25614e-05,8.98519e-08,-7.80181e-11,2.32462e-14,-0.876099,-0.0311209], Tmin=(100,'K'), Tmax=(1554.81,'K')), NASAPolynomial(coeffs=[0.160301,-0.000252238,1.14182e-07,-1.21474e-11,3.85809e-16,-70.8109,-0.909537], Tmin=(1554.81,'K'), Tmax=(5000,'K'))], Tmin=(100,'K'), Tmax=(5000,'K'), comment=\"\"\"Thermo library: surfaceThermoPt111 Binding energy corrected by LSR () from Pt111\"\"\"), molecule=[Molecule(smiles=\"[Pt]\")], molecular_weight=(0,'amu')), Species(index=10, label=\"H*\", thermo=NASA(polynomials=[NASAPolynomial(coeffs=[-0.380966,0.00547229,2.60912e-06,-9.6496e-09,4.63946e-12,-1405.57,1.01726], Tmin=(100,'K'), Tmax=(952.91,'K')), NASAPolynomial(coeffs=[2.8034,-0.000541049,4.99509e-07,-7.54966e-11,3.06774e-15,-2346.32,-15.9437], Tmin=(952.91,'K'), Tmax=(5000,'K'))], Tmin=(100,'K'), Tmax=(5000,'K'), comment=\"\"\"Thermo library: surfaceThermoPt111 Binding energy corrected by LSR (1.00H) from Pt111\"\"\"), molecule=[Molecule(smiles=\"[Pt]\")], molecular_weight=(1.00797,'amu'))), (Species(index=1, label=\"X\", thermo=NASA(polynomials=[NASAPolynomial(coeffs=[0.00710134,-4.25614e-05,8.98519e-08,-7.80181e-11,2.32462e-14,-0.876099,-0.0311209], Tmin=(100,'K'), Tmax=(1554.81,'K')), NASAPolynomial(coeffs=[0.160301,-0.000252238,1.14182e-07,-1.21474e-11,3.85809e-16,-70.8109,-0.909537], Tmin=(1554.81,'K'), Tmax=(5000,'K'))], Tmin=(100,'K'), Tmax=(5000,'K'), comment=\"\"\"Thermo library: surfaceThermoPt111 Binding energy corrected by LSR () from Pt111\"\"\"), molecule=[Molecule(smiles=\"[Pt]\")], molecular_weight=(0,'amu')), Species(index=10, label=\"H*\", thermo=NASA(polynomials=[NASAPolynomial(coeffs=[-0.380966,0.00547229,2.60912e-06,-9.6496e-09,4.63946e-12,-1405.57,1.01726], Tmin=(100,'K'), Tmax=(952.91,'K')), NASAPolynomial(coeffs=[2.8034,-0.000541049,4.99509e-07,-7.54966e-11,3.06774e-15,-2346.32,-15.9437], Tmin=(952.91,'K'), Tmax=(5000,'K'))], Tmin=(100,'K'), Tmax=(5000,'K'), comment=\"\"\"Thermo library: surfaceThermoPt111 Binding energy corrected by LSR (1.00H) from Pt111\"\"\"), molecule=[Molecule(smiles=\"[Pt]\")], molecular_weight=(1.00797,'amu')))], family='Surface_Adsorption_Dissociative', template=['O-H', 'VacantSite1', 'VacantSite2'])),\n",
       " 'H*+HCOOH*<=>X+CH3O2*': (1331,\n",
       "  TemplateReaction(index=47, reactants=[Species(index=10, label=\"H*\", thermo=NASA(polynomials=[NASAPolynomial(coeffs=[-0.380966,0.00547229,2.60912e-06,-9.6496e-09,4.63946e-12,-1405.57,1.01726], Tmin=(100,'K'), Tmax=(952.91,'K')), NASAPolynomial(coeffs=[2.8034,-0.000541049,4.99509e-07,-7.54966e-11,3.06774e-15,-2346.32,-15.9437], Tmin=(952.91,'K'), Tmax=(5000,'K'))], Tmin=(100,'K'), Tmax=(5000,'K'), comment=\"\"\"Thermo library: surfaceThermoPt111 Binding energy corrected by LSR (1.00H) from Pt111\"\"\"), molecule=[Molecule(smiles=\"[Pt]\")], molecular_weight=(1.00797,'amu')), Species(index=19, label=\"HCOOH*\", thermo=NASA(polynomials=[NASAPolynomial(coeffs=[-1.86631,0.0464163,-8.23154e-05,7.46389e-08,-2.57972e-11,-53276.8,17.2793], Tmin=(100,'K'), Tmax=(855.72,'K')), NASAPolynomial(coeffs=[2.69761,0.0143101,-7.15296e-06,1.37054e-09,-9.36325e-14,-53663.5,-1.7233], Tmin=(855.72,'K'), Tmax=(5000,'K'))], Tmin=(100,'K'), Tmax=(5000,'K'), comment=\"\"\"Thermo library: surfaceThermoPt111 Binding energy corrected by LSR () from Pt111\"\"\"), molecule=[Molecule(smiles=\"O=CO.[Pt]\")], molecular_weight=(46.0254,'amu'))], products=[Species(index=1, label=\"X\", thermo=NASA(polynomials=[NASAPolynomial(coeffs=[0.00710134,-4.25614e-05,8.98519e-08,-7.80181e-11,2.32462e-14,-0.876099,-0.0311209], Tmin=(100,'K'), Tmax=(1554.81,'K')), NASAPolynomial(coeffs=[0.160301,-0.000252238,1.14182e-07,-1.21474e-11,3.85809e-16,-70.8109,-0.909537], Tmin=(1554.81,'K'), Tmax=(5000,'K'))], Tmin=(100,'K'), Tmax=(5000,'K'), comment=\"\"\"Thermo library: surfaceThermoPt111 Binding energy corrected by LSR () from Pt111\"\"\"), molecule=[Molecule(smiles=\"[Pt]\")], molecular_weight=(0,'amu')), Species(index=22, label=\"CH3O2*\", thermo=NASA(polynomials=[NASAPolynomial(coeffs=[3.21915,0.0067174,3.72265e-05,-5.73625e-08,2.36257e-11,-47489.4,-6.14513], Tmin=(100,'K'), Tmax=(932.27,'K')), NASAPolynomial(coeffs=[10.3103,0.00304289,9.71226e-08,-3.19377e-11,-2.1338e-15,-49974,-46.0931], Tmin=(932.27,'K'), Tmax=(5000,'K'))], Tmin=(100,'K'), Tmax=(5000,'K'), comment=\"\"\"Gas phase thermo for HOCH2O from Thermo library: DFT_QCI_thermo. Adsorption correction: + Thermo group additivity estimation: adsorptionPt111(O-*R)\n",
       "  Binding energy corrected by LSR (0.50O) from Pt111\"\"\"), molecule=[Molecule(smiles=\"OCO[Pt]\")], molecular_weight=(47.0334,'amu'))], kinetics=SurfaceArrhenius(A=(4.18e+21,'cm^2/(mol*s)'), n=0, Ea=(15.158,'kcal/mol'), T0=(1,'K'), comment=\"\"\"Estimated using template [AdsorbateVdW;Adsorbate1] for rate rule [O=C;H*]\n",
       "  Euclidian distance = 2.23606797749979\n",
       "  family: Surface_Addition_Single_vdW\"\"\"), pairs=[(Species(index=19, label=\"HCOOH*\", thermo=NASA(polynomials=[NASAPolynomial(coeffs=[-1.86631,0.0464163,-8.23154e-05,7.46389e-08,-2.57972e-11,-53276.8,17.2793], Tmin=(100,'K'), Tmax=(855.72,'K')), NASAPolynomial(coeffs=[2.69761,0.0143101,-7.15296e-06,1.37054e-09,-9.36325e-14,-53663.5,-1.7233], Tmin=(855.72,'K'), Tmax=(5000,'K'))], Tmin=(100,'K'), Tmax=(5000,'K'), comment=\"\"\"Thermo library: surfaceThermoPt111 Binding energy corrected by LSR () from Pt111\"\"\"), molecule=[Molecule(smiles=\"O=CO.[Pt]\")], molecular_weight=(46.0254,'amu')), Species(index=22, label=\"CH3O2*\", thermo=NASA(polynomials=[NASAPolynomial(coeffs=[3.21915,0.0067174,3.72265e-05,-5.73625e-08,2.36257e-11,-47489.4,-6.14513], Tmin=(100,'K'), Tmax=(932.27,'K')), NASAPolynomial(coeffs=[10.3103,0.00304289,9.71226e-08,-3.19377e-11,-2.1338e-15,-49974,-46.0931], Tmin=(932.27,'K'), Tmax=(5000,'K'))], Tmin=(100,'K'), Tmax=(5000,'K'), comment=\"\"\"Gas phase thermo for HOCH2O from Thermo library: DFT_QCI_thermo. Adsorption correction: + Thermo group additivity estimation: adsorptionPt111(O-*R)\n",
       "  Binding energy corrected by LSR (0.50O) from Pt111\"\"\"), molecule=[Molecule(smiles=\"OCO[Pt]\")], molecular_weight=(47.0334,'amu'))), (Species(index=10, label=\"H*\", thermo=NASA(polynomials=[NASAPolynomial(coeffs=[-0.380966,0.00547229,2.60912e-06,-9.6496e-09,4.63946e-12,-1405.57,1.01726], Tmin=(100,'K'), Tmax=(952.91,'K')), NASAPolynomial(coeffs=[2.8034,-0.000541049,4.99509e-07,-7.54966e-11,3.06774e-15,-2346.32,-15.9437], Tmin=(952.91,'K'), Tmax=(5000,'K'))], Tmin=(100,'K'), Tmax=(5000,'K'), comment=\"\"\"Thermo library: surfaceThermoPt111 Binding energy corrected by LSR (1.00H) from Pt111\"\"\"), molecule=[Molecule(smiles=\"[Pt]\")], molecular_weight=(1.00797,'amu')), Species(index=22, label=\"CH3O2*\", thermo=NASA(polynomials=[NASAPolynomial(coeffs=[3.21915,0.0067174,3.72265e-05,-5.73625e-08,2.36257e-11,-47489.4,-6.14513], Tmin=(100,'K'), Tmax=(932.27,'K')), NASAPolynomial(coeffs=[10.3103,0.00304289,9.71226e-08,-3.19377e-11,-2.1338e-15,-49974,-46.0931], Tmin=(932.27,'K'), Tmax=(5000,'K'))], Tmin=(100,'K'), Tmax=(5000,'K'), comment=\"\"\"Gas phase thermo for HOCH2O from Thermo library: DFT_QCI_thermo. Adsorption correction: + Thermo group additivity estimation: adsorptionPt111(O-*R)\n",
       "  Binding energy corrected by LSR (0.50O) from Pt111\"\"\"), molecule=[Molecule(smiles=\"OCO[Pt]\")], molecular_weight=(47.0334,'amu')))], family='Surface_Addition_Single_vdW', template=['O=C', 'H*'])),\n",
       " 'X+HCOOH*<=>H*+COOH*': (1404,\n",
       "  TemplateReaction(index=43, reactants=[Species(index=1, label=\"X\", thermo=NASA(polynomials=[NASAPolynomial(coeffs=[0.00710134,-4.25614e-05,8.98519e-08,-7.80181e-11,2.32462e-14,-0.876099,-0.0311209], Tmin=(100,'K'), Tmax=(1554.81,'K')), NASAPolynomial(coeffs=[0.160301,-0.000252238,1.14182e-07,-1.21474e-11,3.85809e-16,-70.8109,-0.909537], Tmin=(1554.81,'K'), Tmax=(5000,'K'))], Tmin=(100,'K'), Tmax=(5000,'K'), comment=\"\"\"Thermo library: surfaceThermoPt111 Binding energy corrected by LSR () from Pt111\"\"\"), molecule=[Molecule(smiles=\"[Pt]\")], molecular_weight=(0,'amu')), Species(index=19, label=\"HCOOH*\", thermo=NASA(polynomials=[NASAPolynomial(coeffs=[-1.86631,0.0464163,-8.23154e-05,7.46389e-08,-2.57972e-11,-53276.8,17.2793], Tmin=(100,'K'), Tmax=(855.72,'K')), NASAPolynomial(coeffs=[2.69761,0.0143101,-7.15296e-06,1.37054e-09,-9.36325e-14,-53663.5,-1.7233], Tmin=(855.72,'K'), Tmax=(5000,'K'))], Tmin=(100,'K'), Tmax=(5000,'K'), comment=\"\"\"Thermo library: surfaceThermoPt111 Binding energy corrected by LSR () from Pt111\"\"\"), molecule=[Molecule(smiles=\"O=CO.[Pt]\")], molecular_weight=(46.0254,'amu'))], products=[Species(index=10, label=\"H*\", thermo=NASA(polynomials=[NASAPolynomial(coeffs=[-0.380966,0.00547229,2.60912e-06,-9.6496e-09,4.63946e-12,-1405.57,1.01726], Tmin=(100,'K'), Tmax=(952.91,'K')), NASAPolynomial(coeffs=[2.8034,-0.000541049,4.99509e-07,-7.54966e-11,3.06774e-15,-2346.32,-15.9437], Tmin=(952.91,'K'), Tmax=(5000,'K'))], Tmin=(100,'K'), Tmax=(5000,'K'), comment=\"\"\"Thermo library: surfaceThermoPt111 Binding energy corrected by LSR (1.00H) from Pt111\"\"\"), molecule=[Molecule(smiles=\"[Pt]\")], molecular_weight=(1.00797,'amu')), Species(index=18, label=\"COOH*\", thermo=NASA(polynomials=[NASAPolynomial(coeffs=[-1.63327,0.0387824,-6.41967e-05,5.36653e-08,-1.74576e-11,-51554,11.9828], Tmin=(100,'K'), Tmax=(816.9,'K')), NASAPolynomial(coeffs=[3.9072,0.00895137,-4.45969e-06,8.65653e-10,-6.00138e-14,-52369,-13.0745], Tmin=(816.9,'K'), Tmax=(5000,'K'))], Tmin=(100,'K'), Tmax=(5000,'K'), comment=\"\"\"Thermo library: surfaceThermoPt111 Binding energy corrected by LSR (0.25C) from Pt111\"\"\"), molecule=[Molecule(smiles=\"O=C(O)[Pt]\")], molecular_weight=(45.0174,'amu'))], kinetics=SurfaceArrhenius(A=(4.18e+21,'cm^2/(mol*s)'), n=0, Ea=(18.332,'kcal/mol'), T0=(1,'K'), comment=\"\"\"Exact match found for rate rule [C-H;VacantSite]\n",
       "  Euclidian distance = 0\n",
       "  family: Surface_Dissociation_vdW\"\"\"), pairs=[(Species(index=19, label=\"HCOOH*\", thermo=NASA(polynomials=[NASAPolynomial(coeffs=[-1.86631,0.0464163,-8.23154e-05,7.46389e-08,-2.57972e-11,-53276.8,17.2793], Tmin=(100,'K'), Tmax=(855.72,'K')), NASAPolynomial(coeffs=[2.69761,0.0143101,-7.15296e-06,1.37054e-09,-9.36325e-14,-53663.5,-1.7233], Tmin=(855.72,'K'), Tmax=(5000,'K'))], Tmin=(100,'K'), Tmax=(5000,'K'), comment=\"\"\"Thermo library: surfaceThermoPt111 Binding energy corrected by LSR () from Pt111\"\"\"), molecule=[Molecule(smiles=\"O=CO.[Pt]\")], molecular_weight=(46.0254,'amu')), Species(index=18, label=\"COOH*\", thermo=NASA(polynomials=[NASAPolynomial(coeffs=[-1.63327,0.0387824,-6.41967e-05,5.36653e-08,-1.74576e-11,-51554,11.9828], Tmin=(100,'K'), Tmax=(816.9,'K')), NASAPolynomial(coeffs=[3.9072,0.00895137,-4.45969e-06,8.65653e-10,-6.00138e-14,-52369,-13.0745], Tmin=(816.9,'K'), Tmax=(5000,'K'))], Tmin=(100,'K'), Tmax=(5000,'K'), comment=\"\"\"Thermo library: surfaceThermoPt111 Binding energy corrected by LSR (0.25C) from Pt111\"\"\"), molecule=[Molecule(smiles=\"O=C(O)[Pt]\")], molecular_weight=(45.0174,'amu'))), (Species(index=19, label=\"HCOOH*\", thermo=NASA(polynomials=[NASAPolynomial(coeffs=[-1.86631,0.0464163,-8.23154e-05,7.46389e-08,-2.57972e-11,-53276.8,17.2793], Tmin=(100,'K'), Tmax=(855.72,'K')), NASAPolynomial(coeffs=[2.69761,0.0143101,-7.15296e-06,1.37054e-09,-9.36325e-14,-53663.5,-1.7233], Tmin=(855.72,'K'), Tmax=(5000,'K'))], Tmin=(100,'K'), Tmax=(5000,'K'), comment=\"\"\"Thermo library: surfaceThermoPt111 Binding energy corrected by LSR () from Pt111\"\"\"), molecule=[Molecule(smiles=\"O=CO.[Pt]\")], molecular_weight=(46.0254,'amu')), Species(index=10, label=\"H*\", thermo=NASA(polynomials=[NASAPolynomial(coeffs=[-0.380966,0.00547229,2.60912e-06,-9.6496e-09,4.63946e-12,-1405.57,1.01726], Tmin=(100,'K'), Tmax=(952.91,'K')), NASAPolynomial(coeffs=[2.8034,-0.000541049,4.99509e-07,-7.54966e-11,3.06774e-15,-2346.32,-15.9437], Tmin=(952.91,'K'), Tmax=(5000,'K'))], Tmin=(100,'K'), Tmax=(5000,'K'), comment=\"\"\"Thermo library: surfaceThermoPt111 Binding energy corrected by LSR (1.00H) from Pt111\"\"\"), molecule=[Molecule(smiles=\"[Pt]\")], molecular_weight=(1.00797,'amu')))], family='Surface_Dissociation_vdW', template=['C-H', 'VacantSite'])),\n",
       " 'H2O*+HCO*<=>H*+HCOOH*': (2400,\n",
       "  TemplateReaction(index=52, reactants=[Species(index=13, label=\"H2O*\", thermo=NASA(polynomials=[NASAPolynomial(coeffs=[-1.3434,0.0366695,-7.9948e-05,7.74125e-08,-2.68665e-11,-32349,11.0238], Tmin=(100,'K'), Tmax=(912.85,'K')), NASAPolynomial(coeffs=[1.12159,0.0081664,-4.02358e-06,7.20421e-10,-4.51443e-14,-32061.5,3.39616], Tmin=(912.85,'K'), Tmax=(5000,'K'))], Tmin=(100,'K'), Tmax=(5000,'K'), comment=\"\"\"Thermo library: surfaceThermoPt111 Binding energy corrected by LSR () from Pt111\"\"\"), molecule=[Molecule(smiles=\"O.[Pt]\")], molecular_weight=(18.0153,'amu')), Species(index=16, label=\"HCO*\", thermo=NASA(polynomials=[NASAPolynomial(coeffs=[-1.43681,0.0369246,-7.17912e-05,6.73544e-08,-2.35184e-11,-21694.8,8.27567], Tmin=(100,'K'), Tmax=(873.21,'K')), NASAPolynomial(coeffs=[1.83284,0.0100778,-5.28529e-06,1.01351e-09,-6.85176e-14,-21813.3,-4.46413], Tmin=(873.21,'K'), Tmax=(5000,'K'))], Tmin=(100,'K'), Tmax=(5000,'K'), comment=\"\"\"Thermo library: surfaceThermoPt111 Binding energy corrected by LSR (0.25C) from Pt111\"\"\"), molecule=[Molecule(smiles=\"O=C[Pt]\")], molecular_weight=(29.018,'amu'))], products=[Species(index=10, label=\"H*\", thermo=NASA(polynomials=[NASAPolynomial(coeffs=[-0.380966,0.00547229,2.60912e-06,-9.6496e-09,4.63946e-12,-1405.57,1.01726], Tmin=(100,'K'), Tmax=(952.91,'K')), NASAPolynomial(coeffs=[2.8034,-0.000541049,4.99509e-07,-7.54966e-11,3.06774e-15,-2346.32,-15.9437], Tmin=(952.91,'K'), Tmax=(5000,'K'))], Tmin=(100,'K'), Tmax=(5000,'K'), comment=\"\"\"Thermo library: surfaceThermoPt111 Binding energy corrected by LSR (1.00H) from Pt111\"\"\"), molecule=[Molecule(smiles=\"[Pt]\")], molecular_weight=(1.00797,'amu')), Species(index=19, label=\"HCOOH*\", thermo=NASA(polynomials=[NASAPolynomial(coeffs=[-1.86631,0.0464163,-8.23154e-05,7.46389e-08,-2.57972e-11,-53276.8,17.2793], Tmin=(100,'K'), Tmax=(855.72,'K')), NASAPolynomial(coeffs=[2.69761,0.0143101,-7.15296e-06,1.37054e-09,-9.36325e-14,-53663.5,-1.7233], Tmin=(855.72,'K'), Tmax=(5000,'K'))], Tmin=(100,'K'), Tmax=(5000,'K'), comment=\"\"\"Thermo library: surfaceThermoPt111 Binding energy corrected by LSR () from Pt111\"\"\"), molecule=[Molecule(smiles=\"O=CO.[Pt]\")], molecular_weight=(46.0254,'amu'))], kinetics=SurfaceArrhenius(A=(8.36e+21,'cm^2/(mol*s)'), n=0, Ea=(14.542,'kcal/mol'), T0=(1,'K'), comment=\"\"\"Estimated using template [Donating;Abstracting] for rate rule [Donating;*C=R]\n",
       "  Euclidian distance = 2.0\n",
       "  Multiplied by reaction path degeneracy 2.0\n",
       "  family: Surface_Abstraction_Single_vdW\"\"\"), degeneracy=2.0, pairs=[(Species(index=16, label=\"HCO*\", thermo=NASA(polynomials=[NASAPolynomial(coeffs=[-1.43681,0.0369246,-7.17912e-05,6.73544e-08,-2.35184e-11,-21694.8,8.27567], Tmin=(100,'K'), Tmax=(873.21,'K')), NASAPolynomial(coeffs=[1.83284,0.0100778,-5.28529e-06,1.01351e-09,-6.85176e-14,-21813.3,-4.46413], Tmin=(873.21,'K'), Tmax=(5000,'K'))], Tmin=(100,'K'), Tmax=(5000,'K'), comment=\"\"\"Thermo library: surfaceThermoPt111 Binding energy corrected by LSR (0.25C) from Pt111\"\"\"), molecule=[Molecule(smiles=\"O=C[Pt]\")], molecular_weight=(29.018,'amu')), Species(index=19, label=\"HCOOH*\", thermo=NASA(polynomials=[NASAPolynomial(coeffs=[-1.86631,0.0464163,-8.23154e-05,7.46389e-08,-2.57972e-11,-53276.8,17.2793], Tmin=(100,'K'), Tmax=(855.72,'K')), NASAPolynomial(coeffs=[2.69761,0.0143101,-7.15296e-06,1.37054e-09,-9.36325e-14,-53663.5,-1.7233], Tmin=(855.72,'K'), Tmax=(5000,'K'))], Tmin=(100,'K'), Tmax=(5000,'K'), comment=\"\"\"Thermo library: surfaceThermoPt111 Binding energy corrected by LSR () from Pt111\"\"\"), molecule=[Molecule(smiles=\"O=CO.[Pt]\")], molecular_weight=(46.0254,'amu'))), (Species(index=13, label=\"H2O*\", thermo=NASA(polynomials=[NASAPolynomial(coeffs=[-1.3434,0.0366695,-7.9948e-05,7.74125e-08,-2.68665e-11,-32349,11.0238], Tmin=(100,'K'), Tmax=(912.85,'K')), NASAPolynomial(coeffs=[1.12159,0.0081664,-4.02358e-06,7.20421e-10,-4.51443e-14,-32061.5,3.39616], Tmin=(912.85,'K'), Tmax=(5000,'K'))], Tmin=(100,'K'), Tmax=(5000,'K'), comment=\"\"\"Thermo library: surfaceThermoPt111 Binding energy corrected by LSR () from Pt111\"\"\"), molecule=[Molecule(smiles=\"O.[Pt]\")], molecular_weight=(18.0153,'amu')), Species(index=10, label=\"H*\", thermo=NASA(polynomials=[NASAPolynomial(coeffs=[-0.380966,0.00547229,2.60912e-06,-9.6496e-09,4.63946e-12,-1405.57,1.01726], Tmin=(100,'K'), Tmax=(952.91,'K')), NASAPolynomial(coeffs=[2.8034,-0.000541049,4.99509e-07,-7.54966e-11,3.06774e-15,-2346.32,-15.9437], Tmin=(952.91,'K'), Tmax=(5000,'K'))], Tmin=(100,'K'), Tmax=(5000,'K'), comment=\"\"\"Thermo library: surfaceThermoPt111 Binding energy corrected by LSR (1.00H) from Pt111\"\"\"), molecule=[Molecule(smiles=\"[Pt]\")], molecular_weight=(1.00797,'amu')))], family='Surface_Abstraction_Single_vdW', template=['Donating', '*C=R'])),\n",
       " 'H*+CO2*<=>X+COOH*': (3520,\n",
       "  TemplateReaction(index=39, reactants=[Species(index=10, label=\"H*\", thermo=NASA(polynomials=[NASAPolynomial(coeffs=[-0.380966,0.00547229,2.60912e-06,-9.6496e-09,4.63946e-12,-1405.57,1.01726], Tmin=(100,'K'), Tmax=(952.91,'K')), NASAPolynomial(coeffs=[2.8034,-0.000541049,4.99509e-07,-7.54966e-11,3.06774e-15,-2346.32,-15.9437], Tmin=(952.91,'K'), Tmax=(5000,'K'))], Tmin=(100,'K'), Tmax=(5000,'K'), comment=\"\"\"Thermo library: surfaceThermoPt111 Binding energy corrected by LSR (1.00H) from Pt111\"\"\"), molecule=[Molecule(smiles=\"[Pt]\")], molecular_weight=(1.00797,'amu')), Species(index=15, label=\"CO2*\", thermo=NASA(polynomials=[NASAPolynomial(coeffs=[-1.46243,0.0378466,-7.61204e-05,7.18293e-08,-2.50671e-11,-52421.8,12.0603], Tmin=(100,'K'), Tmax=(875.19,'K')), NASAPolynomial(coeffs=[2.04184,0.00907415,-4.94344e-06,9.56512e-10,-6.46927e-14,-52546.6,-1.5876], Tmin=(875.19,'K'), Tmax=(5000,'K'))], Tmin=(100,'K'), Tmax=(5000,'K'), comment=\"\"\"Thermo library: surfaceThermoPt111 Binding energy corrected by LSR () from Pt111\"\"\"), molecule=[Molecule(smiles=\"O=C=O.[Pt]\")], molecular_weight=(44.0094,'amu'))], products=[Species(index=1, label=\"X\", thermo=NASA(polynomials=[NASAPolynomial(coeffs=[0.00710134,-4.25614e-05,8.98519e-08,-7.80181e-11,2.32462e-14,-0.876099,-0.0311209], Tmin=(100,'K'), Tmax=(1554.81,'K')), NASAPolynomial(coeffs=[0.160301,-0.000252238,1.14182e-07,-1.21474e-11,3.85809e-16,-70.8109,-0.909537], Tmin=(1554.81,'K'), Tmax=(5000,'K'))], Tmin=(100,'K'), Tmax=(5000,'K'), comment=\"\"\"Thermo library: surfaceThermoPt111 Binding energy corrected by LSR () from Pt111\"\"\"), molecule=[Molecule(smiles=\"[Pt]\")], molecular_weight=(0,'amu')), Species(index=18, label=\"COOH*\", thermo=NASA(polynomials=[NASAPolynomial(coeffs=[-1.63327,0.0387824,-6.41967e-05,5.36653e-08,-1.74576e-11,-51554,11.9828], Tmin=(100,'K'), Tmax=(816.9,'K')), NASAPolynomial(coeffs=[3.9072,0.00895137,-4.45969e-06,8.65653e-10,-6.00138e-14,-52369,-13.0745], Tmin=(816.9,'K'), Tmax=(5000,'K'))], Tmin=(100,'K'), Tmax=(5000,'K'), comment=\"\"\"Thermo library: surfaceThermoPt111 Binding energy corrected by LSR (0.25C) from Pt111\"\"\"), molecule=[Molecule(smiles=\"O=C(O)[Pt]\")], molecular_weight=(45.0174,'amu'))], kinetics=SurfaceArrhenius(A=(8.36e+21,'cm^2/(mol*s)'), n=0, Ea=(7.187,'kcal/mol'), T0=(1,'K'), comment=\"\"\"Estimated using template [AdsorbateVdW;Adsorbate1] for rate rule [CO2;H*]\n",
       "  Euclidian distance = 4.123105625617661\n",
       "  Multiplied by reaction path degeneracy 2.0\n",
       "  family: Surface_Addition_Single_vdW\"\"\"), degeneracy=2.0, pairs=[(Species(index=15, label=\"CO2*\", thermo=NASA(polynomials=[NASAPolynomial(coeffs=[-1.46243,0.0378466,-7.61204e-05,7.18293e-08,-2.50671e-11,-52421.8,12.0603], Tmin=(100,'K'), Tmax=(875.19,'K')), NASAPolynomial(coeffs=[2.04184,0.00907415,-4.94344e-06,9.56512e-10,-6.46927e-14,-52546.6,-1.5876], Tmin=(875.19,'K'), Tmax=(5000,'K'))], Tmin=(100,'K'), Tmax=(5000,'K'), comment=\"\"\"Thermo library: surfaceThermoPt111 Binding energy corrected by LSR () from Pt111\"\"\"), molecule=[Molecule(smiles=\"O=C=O.[Pt]\")], molecular_weight=(44.0094,'amu')), Species(index=18, label=\"COOH*\", thermo=NASA(polynomials=[NASAPolynomial(coeffs=[-1.63327,0.0387824,-6.41967e-05,5.36653e-08,-1.74576e-11,-51554,11.9828], Tmin=(100,'K'), Tmax=(816.9,'K')), NASAPolynomial(coeffs=[3.9072,0.00895137,-4.45969e-06,8.65653e-10,-6.00138e-14,-52369,-13.0745], Tmin=(816.9,'K'), Tmax=(5000,'K'))], Tmin=(100,'K'), Tmax=(5000,'K'), comment=\"\"\"Thermo library: surfaceThermoPt111 Binding energy corrected by LSR (0.25C) from Pt111\"\"\"), molecule=[Molecule(smiles=\"O=C(O)[Pt]\")], molecular_weight=(45.0174,'amu'))), (Species(index=10, label=\"H*\", thermo=NASA(polynomials=[NASAPolynomial(coeffs=[-0.380966,0.00547229,2.60912e-06,-9.6496e-09,4.63946e-12,-1405.57,1.01726], Tmin=(100,'K'), Tmax=(952.91,'K')), NASAPolynomial(coeffs=[2.8034,-0.000541049,4.99509e-07,-7.54966e-11,3.06774e-15,-2346.32,-15.9437], Tmin=(952.91,'K'), Tmax=(5000,'K'))], Tmin=(100,'K'), Tmax=(5000,'K'), comment=\"\"\"Thermo library: surfaceThermoPt111 Binding energy corrected by LSR (1.00H) from Pt111\"\"\"), molecule=[Molecule(smiles=\"[Pt]\")], molecular_weight=(1.00797,'amu')), Species(index=18, label=\"COOH*\", thermo=NASA(polynomials=[NASAPolynomial(coeffs=[-1.63327,0.0387824,-6.41967e-05,5.36653e-08,-1.74576e-11,-51554,11.9828], Tmin=(100,'K'), Tmax=(816.9,'K')), NASAPolynomial(coeffs=[3.9072,0.00895137,-4.45969e-06,8.65653e-10,-6.00138e-14,-52369,-13.0745], Tmin=(816.9,'K'), Tmax=(5000,'K'))], Tmin=(100,'K'), Tmax=(5000,'K'), comment=\"\"\"Thermo library: surfaceThermoPt111 Binding energy corrected by LSR (0.25C) from Pt111\"\"\"), molecule=[Molecule(smiles=\"O=C(O)[Pt]\")], molecular_weight=(45.0174,'amu')))], family='Surface_Addition_Single_vdW', template=['CO2', 'H*'])),\n",
       " 'CO*+CH2O*<=>HCO*+HCO*': (3800,\n",
       "  TemplateReaction(index=84, reactants=[Species(index=14, label=\"CO*\", thermo=NASA(polynomials=[NASAPolynomial(coeffs=[-1.3822,0.0375313,-8.29789e-05,8.09746e-08,-2.85492e-11,-22537,4.3547], Tmin=(100,'K'), Tmax=(891.31,'K')), NASAPolynomial(coeffs=[1.38107,0.0080569,-4.64292e-06,8.9113e-10,-5.90014e-14,-22351.4,-4.85409], Tmin=(891.31,'K'), Tmax=(5000,'K'))], Tmin=(100,'K'), Tmax=(5000,'K'), comment=\"\"\"Thermo library: surfaceThermoPt111 Binding energy corrected by LSR (0.50C) from Pt111\"\"\"), molecule=[Molecule(smiles=\"O=C=[Pt]\")], molecular_weight=(28.01,'amu')), Species(index=20, label=\"CH2O*\", thermo=NASA(polynomials=[NASAPolynomial(coeffs=[-1.46696,0.041387,-8.87611e-05,9.10103e-08,-3.36603e-11,-20300.2,15.7178], Tmin=(100,'K'), Tmax=(879.32,'K')), NASAPolynomial(coeffs=[-0.892954,0.0166197,-8.71599e-06,1.66817e-09,-1.12505e-13,-19544.6,17.893], Tmin=(879.32,'K'), Tmax=(5000,'K'))], Tmin=(100,'K'), Tmax=(5000,'K'), comment=\"\"\"Thermo library: surfaceThermoPt111 Binding energy corrected by LSR () from Pt111\"\"\"), molecule=[Molecule(smiles=\"C=O.[Pt]\")], molecular_weight=(30.026,'amu'))], products=[Species(index=16, label=\"HCO*\", thermo=NASA(polynomials=[NASAPolynomial(coeffs=[-1.43681,0.0369246,-7.17912e-05,6.73544e-08,-2.35184e-11,-21694.8,8.27567], Tmin=(100,'K'), Tmax=(873.21,'K')), NASAPolynomial(coeffs=[1.83284,0.0100778,-5.28529e-06,1.01351e-09,-6.85176e-14,-21813.3,-4.46413], Tmin=(873.21,'K'), Tmax=(5000,'K'))], Tmin=(100,'K'), Tmax=(5000,'K'), comment=\"\"\"Thermo library: surfaceThermoPt111 Binding energy corrected by LSR (0.25C) from Pt111\"\"\"), molecule=[Molecule(smiles=\"O=C[Pt]\")], molecular_weight=(29.018,'amu')), Species(index=16, label=\"HCO*\", thermo=NASA(polynomials=[NASAPolynomial(coeffs=[-1.43681,0.0369246,-7.17912e-05,6.73544e-08,-2.35184e-11,-21694.8,8.27567], Tmin=(100,'K'), Tmax=(873.21,'K')), NASAPolynomial(coeffs=[1.83284,0.0100778,-5.28529e-06,1.01351e-09,-6.85176e-14,-21813.3,-4.46413], Tmin=(873.21,'K'), Tmax=(5000,'K'))], Tmin=(100,'K'), Tmax=(5000,'K'), comment=\"\"\"Thermo library: surfaceThermoPt111 Binding energy corrected by LSR (0.25C) from Pt111\"\"\"), molecule=[Molecule(smiles=\"O=C[Pt]\")], molecular_weight=(29.018,'amu'))], kinetics=SurfaceArrhenius(A=(8.36e+21,'cm^2/(mol*s)'), n=0, Ea=(14.937,'kcal/mol'), T0=(1,'K'), comment=\"\"\"Estimated using template [AdsorbateVdW;Adsorbate1] for rate rule [C-R;*=C=R]\n",
       "  Euclidian distance = 3.1622776601683795\n",
       "  Multiplied by reaction path degeneracy 2.0\n",
       "  family: Surface_Abstraction_vdW\"\"\"), degeneracy=2.0, pairs=[(Species(index=20, label=\"CH2O*\", thermo=NASA(polynomials=[NASAPolynomial(coeffs=[-1.46696,0.041387,-8.87611e-05,9.10103e-08,-3.36603e-11,-20300.2,15.7178], Tmin=(100,'K'), Tmax=(879.32,'K')), NASAPolynomial(coeffs=[-0.892954,0.0166197,-8.71599e-06,1.66817e-09,-1.12505e-13,-19544.6,17.893], Tmin=(879.32,'K'), Tmax=(5000,'K'))], Tmin=(100,'K'), Tmax=(5000,'K'), comment=\"\"\"Thermo library: surfaceThermoPt111 Binding energy corrected by LSR () from Pt111\"\"\"), molecule=[Molecule(smiles=\"C=O.[Pt]\")], molecular_weight=(30.026,'amu')), Species(index=16, label=\"HCO*\", thermo=NASA(polynomials=[NASAPolynomial(coeffs=[-1.43681,0.0369246,-7.17912e-05,6.73544e-08,-2.35184e-11,-21694.8,8.27567], Tmin=(100,'K'), Tmax=(873.21,'K')), NASAPolynomial(coeffs=[1.83284,0.0100778,-5.28529e-06,1.01351e-09,-6.85176e-14,-21813.3,-4.46413], Tmin=(873.21,'K'), Tmax=(5000,'K'))], Tmin=(100,'K'), Tmax=(5000,'K'), comment=\"\"\"Thermo library: surfaceThermoPt111 Binding energy corrected by LSR (0.25C) from Pt111\"\"\"), molecule=[Molecule(smiles=\"O=C[Pt]\")], molecular_weight=(29.018,'amu'))), (Species(index=14, label=\"CO*\", thermo=NASA(polynomials=[NASAPolynomial(coeffs=[-1.3822,0.0375313,-8.29789e-05,8.09746e-08,-2.85492e-11,-22537,4.3547], Tmin=(100,'K'), Tmax=(891.31,'K')), NASAPolynomial(coeffs=[1.38107,0.0080569,-4.64292e-06,8.9113e-10,-5.90014e-14,-22351.4,-4.85409], Tmin=(891.31,'K'), Tmax=(5000,'K'))], Tmin=(100,'K'), Tmax=(5000,'K'), comment=\"\"\"Thermo library: surfaceThermoPt111 Binding energy corrected by LSR (0.50C) from Pt111\"\"\"), molecule=[Molecule(smiles=\"O=C=[Pt]\")], molecular_weight=(28.01,'amu')), Species(index=16, label=\"HCO*\", thermo=NASA(polynomials=[NASAPolynomial(coeffs=[-1.43681,0.0369246,-7.17912e-05,6.73544e-08,-2.35184e-11,-21694.8,8.27567], Tmin=(100,'K'), Tmax=(873.21,'K')), NASAPolynomial(coeffs=[1.83284,0.0100778,-5.28529e-06,1.01351e-09,-6.85176e-14,-21813.3,-4.46413], Tmin=(873.21,'K'), Tmax=(5000,'K'))], Tmin=(100,'K'), Tmax=(5000,'K'), comment=\"\"\"Thermo library: surfaceThermoPt111 Binding energy corrected by LSR (0.25C) from Pt111\"\"\"), molecule=[Molecule(smiles=\"O=C[Pt]\")], molecular_weight=(29.018,'amu')))], family='Surface_Abstraction_vdW', template=['C-R', '*=C=R'])),\n",
       " 'O*+CH2O*<=>H*+HCOO*': (4446,\n",
       "  TemplateReaction(index=49, reactants=[Species(index=11, label=\"O*\", thermo=NASA(polynomials=[NASAPolynomial(coeffs=[-0.759011,0.0189868,-3.82473e-05,3.43557e-08,-1.13974e-11,-21835.6,1.76017], Tmin=(100,'K'), Tmax=(888.26,'K')), NASAPolynomial(coeffs=[1.89893,0.00203297,-1.19977e-06,2.32682e-10,-1.5351e-14,-22111.2,-9.64101], Tmin=(888.26,'K'), Tmax=(5000,'K'))], Tmin=(100,'K'), Tmax=(5000,'K'), comment=\"\"\"Thermo library: surfaceThermoPt111 Binding energy corrected by LSR (1.00O) from Pt111\"\"\"), molecule=[Molecule(smiles=\"O=[Pt]\")], molecular_weight=(15.9994,'amu')), Species(index=20, label=\"CH2O*\", thermo=NASA(polynomials=[NASAPolynomial(coeffs=[-1.46696,0.041387,-8.87611e-05,9.10103e-08,-3.36603e-11,-20300.2,15.7178], Tmin=(100,'K'), Tmax=(879.32,'K')), NASAPolynomial(coeffs=[-0.892954,0.0166197,-8.71599e-06,1.66817e-09,-1.12505e-13,-19544.6,17.893], Tmin=(879.32,'K'), Tmax=(5000,'K'))], Tmin=(100,'K'), Tmax=(5000,'K'), comment=\"\"\"Thermo library: surfaceThermoPt111 Binding energy corrected by LSR () from Pt111\"\"\"), molecule=[Molecule(smiles=\"C=O.[Pt]\")], molecular_weight=(30.026,'amu'))], products=[Species(index=10, label=\"H*\", thermo=NASA(polynomials=[NASAPolynomial(coeffs=[-0.380966,0.00547229,2.60912e-06,-9.6496e-09,4.63946e-12,-1405.57,1.01726], Tmin=(100,'K'), Tmax=(952.91,'K')), NASAPolynomial(coeffs=[2.8034,-0.000541049,4.99509e-07,-7.54966e-11,3.06774e-15,-2346.32,-15.9437], Tmin=(952.91,'K'), Tmax=(5000,'K'))], Tmin=(100,'K'), Tmax=(5000,'K'), comment=\"\"\"Thermo library: surfaceThermoPt111 Binding energy corrected by LSR (1.00H) from Pt111\"\"\"), molecule=[Molecule(smiles=\"[Pt]\")], molecular_weight=(1.00797,'amu')), Species(index=17, label=\"HCOO*\", thermo=NASA(polynomials=[NASAPolynomial(coeffs=[-1.7623,0.0429177,-7.40772e-05,6.53474e-08,-2.23044e-11,-56036.4,6.20759], Tmin=(100,'K'), Tmax=(830.08,'K')), NASAPolynomial(coeffs=[3.26723,0.0120318,-6.24856e-06,1.22139e-09,-8.47331e-14,-56642.3,-15.7404], Tmin=(830.08,'K'), Tmax=(5000,'K'))], Tmin=(100,'K'), Tmax=(5000,'K'), comment=\"\"\"Thermo library: surfaceThermoPt111 Binding energy corrected by LSR (0.50O) from Pt111\"\"\"), molecule=[Molecule(smiles=\"O=CO[Pt]\")], molecular_weight=(45.0174,'amu'))], kinetics=SurfaceArrhenius(A=(8.36e+21,'cm^2/(mol*s)'), n=0, Ea=(0,'kcal/mol'), T0=(1,'K'), comment=\"\"\"Estimated using template [AdsorbateVdW;Adsorbate1] for rate rule [AdsorbateVdW;*=O]\n",
       "  Euclidian distance = 1.0\n",
       "  Multiplied by reaction path degeneracy 2.0\n",
       "  family: Surface_Abstraction_vdW\"\"\"), degeneracy=2.0, pairs=[(Species(index=20, label=\"CH2O*\", thermo=NASA(polynomials=[NASAPolynomial(coeffs=[-1.46696,0.041387,-8.87611e-05,9.10103e-08,-3.36603e-11,-20300.2,15.7178], Tmin=(100,'K'), Tmax=(879.32,'K')), NASAPolynomial(coeffs=[-0.892954,0.0166197,-8.71599e-06,1.66817e-09,-1.12505e-13,-19544.6,17.893], Tmin=(879.32,'K'), Tmax=(5000,'K'))], Tmin=(100,'K'), Tmax=(5000,'K'), comment=\"\"\"Thermo library: surfaceThermoPt111 Binding energy corrected by LSR () from Pt111\"\"\"), molecule=[Molecule(smiles=\"C=O.[Pt]\")], molecular_weight=(30.026,'amu')), Species(index=17, label=\"HCOO*\", thermo=NASA(polynomials=[NASAPolynomial(coeffs=[-1.7623,0.0429177,-7.40772e-05,6.53474e-08,-2.23044e-11,-56036.4,6.20759], Tmin=(100,'K'), Tmax=(830.08,'K')), NASAPolynomial(coeffs=[3.26723,0.0120318,-6.24856e-06,1.22139e-09,-8.47331e-14,-56642.3,-15.7404], Tmin=(830.08,'K'), Tmax=(5000,'K'))], Tmin=(100,'K'), Tmax=(5000,'K'), comment=\"\"\"Thermo library: surfaceThermoPt111 Binding energy corrected by LSR (0.50O) from Pt111\"\"\"), molecule=[Molecule(smiles=\"O=CO[Pt]\")], molecular_weight=(45.0174,'amu'))), (Species(index=11, label=\"O*\", thermo=NASA(polynomials=[NASAPolynomial(coeffs=[-0.759011,0.0189868,-3.82473e-05,3.43557e-08,-1.13974e-11,-21835.6,1.76017], Tmin=(100,'K'), Tmax=(888.26,'K')), NASAPolynomial(coeffs=[1.89893,0.00203297,-1.19977e-06,2.32682e-10,-1.5351e-14,-22111.2,-9.64101], Tmin=(888.26,'K'), Tmax=(5000,'K'))], Tmin=(100,'K'), Tmax=(5000,'K'), comment=\"\"\"Thermo library: surfaceThermoPt111 Binding energy corrected by LSR (1.00O) from Pt111\"\"\"), molecule=[Molecule(smiles=\"O=[Pt]\")], molecular_weight=(15.9994,'amu')), Species(index=10, label=\"H*\", thermo=NASA(polynomials=[NASAPolynomial(coeffs=[-0.380966,0.00547229,2.60912e-06,-9.6496e-09,4.63946e-12,-1405.57,1.01726], Tmin=(100,'K'), Tmax=(952.91,'K')), NASAPolynomial(coeffs=[2.8034,-0.000541049,4.99509e-07,-7.54966e-11,3.06774e-15,-2346.32,-15.9437], Tmin=(952.91,'K'), Tmax=(5000,'K'))], Tmin=(100,'K'), Tmax=(5000,'K'), comment=\"\"\"Thermo library: surfaceThermoPt111 Binding energy corrected by LSR (1.00H) from Pt111\"\"\"), molecule=[Molecule(smiles=\"[Pt]\")], molecular_weight=(1.00797,'amu')))], family='Surface_Abstraction_vdW', template=['AdsorbateVdW', '*=O'])),\n",
       " 'HCO*+HCOOH*<=>HCOO*+CH2O*': (5508,\n",
       "  TemplateReaction(index=99, reactants=[Species(index=16, label=\"HCO*\", thermo=NASA(polynomials=[NASAPolynomial(coeffs=[-1.43681,0.0369246,-7.17912e-05,6.73544e-08,-2.35184e-11,-21694.8,8.27567], Tmin=(100,'K'), Tmax=(873.21,'K')), NASAPolynomial(coeffs=[1.83284,0.0100778,-5.28529e-06,1.01351e-09,-6.85176e-14,-21813.3,-4.46413], Tmin=(873.21,'K'), Tmax=(5000,'K'))], Tmin=(100,'K'), Tmax=(5000,'K'), comment=\"\"\"Thermo library: surfaceThermoPt111 Binding energy corrected by LSR (0.25C) from Pt111\"\"\"), molecule=[Molecule(smiles=\"O=C[Pt]\")], molecular_weight=(29.018,'amu')), Species(index=19, label=\"HCOOH*\", thermo=NASA(polynomials=[NASAPolynomial(coeffs=[-1.86631,0.0464163,-8.23154e-05,7.46389e-08,-2.57972e-11,-53276.8,17.2793], Tmin=(100,'K'), Tmax=(855.72,'K')), NASAPolynomial(coeffs=[2.69761,0.0143101,-7.15296e-06,1.37054e-09,-9.36325e-14,-53663.5,-1.7233], Tmin=(855.72,'K'), Tmax=(5000,'K'))], Tmin=(100,'K'), Tmax=(5000,'K'), comment=\"\"\"Thermo library: surfaceThermoPt111 Binding energy corrected by LSR () from Pt111\"\"\"), molecule=[Molecule(smiles=\"O=CO.[Pt]\")], molecular_weight=(46.0254,'amu'))], products=[Species(index=17, label=\"HCOO*\", thermo=NASA(polynomials=[NASAPolynomial(coeffs=[-1.7623,0.0429177,-7.40772e-05,6.53474e-08,-2.23044e-11,-56036.4,6.20759], Tmin=(100,'K'), Tmax=(830.08,'K')), NASAPolynomial(coeffs=[3.26723,0.0120318,-6.24856e-06,1.22139e-09,-8.47331e-14,-56642.3,-15.7404], Tmin=(830.08,'K'), Tmax=(5000,'K'))], Tmin=(100,'K'), Tmax=(5000,'K'), comment=\"\"\"Thermo library: surfaceThermoPt111 Binding energy corrected by LSR (0.50O) from Pt111\"\"\"), molecule=[Molecule(smiles=\"O=CO[Pt]\")], molecular_weight=(45.0174,'amu')), Species(index=20, label=\"CH2O*\", thermo=NASA(polynomials=[NASAPolynomial(coeffs=[-1.46696,0.041387,-8.87611e-05,9.10103e-08,-3.36603e-11,-20300.2,15.7178], Tmin=(100,'K'), Tmax=(879.32,'K')), NASAPolynomial(coeffs=[-0.892954,0.0166197,-8.71599e-06,1.66817e-09,-1.12505e-13,-19544.6,17.893], Tmin=(879.32,'K'), Tmax=(5000,'K'))], Tmin=(100,'K'), Tmax=(5000,'K'), comment=\"\"\"Thermo library: surfaceThermoPt111 Binding energy corrected by LSR () from Pt111\"\"\"), molecule=[Molecule(smiles=\"C=O.[Pt]\")], molecular_weight=(30.026,'amu'))], kinetics=SurfaceArrhenius(A=(4.18e+21,'cm^2/(mol*s)'), n=0, Ea=(14.089,'kcal/mol'), T0=(1,'K'), comment=\"\"\"Estimated using template [Donating;Abstracting] for rate rule [O-H;*C=R]\n",
       "  Euclidian distance = 2.8284271247461903\n",
       "  family: Surface_Abstraction_Single_vdW\"\"\"), pairs=[(Species(index=19, label=\"HCOOH*\", thermo=NASA(polynomials=[NASAPolynomial(coeffs=[-1.86631,0.0464163,-8.23154e-05,7.46389e-08,-2.57972e-11,-53276.8,17.2793], Tmin=(100,'K'), Tmax=(855.72,'K')), NASAPolynomial(coeffs=[2.69761,0.0143101,-7.15296e-06,1.37054e-09,-9.36325e-14,-53663.5,-1.7233], Tmin=(855.72,'K'), Tmax=(5000,'K'))], Tmin=(100,'K'), Tmax=(5000,'K'), comment=\"\"\"Thermo library: surfaceThermoPt111 Binding energy corrected by LSR () from Pt111\"\"\"), molecule=[Molecule(smiles=\"O=CO.[Pt]\")], molecular_weight=(46.0254,'amu')), Species(index=17, label=\"HCOO*\", thermo=NASA(polynomials=[NASAPolynomial(coeffs=[-1.7623,0.0429177,-7.40772e-05,6.53474e-08,-2.23044e-11,-56036.4,6.20759], Tmin=(100,'K'), Tmax=(830.08,'K')), NASAPolynomial(coeffs=[3.26723,0.0120318,-6.24856e-06,1.22139e-09,-8.47331e-14,-56642.3,-15.7404], Tmin=(830.08,'K'), Tmax=(5000,'K'))], Tmin=(100,'K'), Tmax=(5000,'K'), comment=\"\"\"Thermo library: surfaceThermoPt111 Binding energy corrected by LSR (0.50O) from Pt111\"\"\"), molecule=[Molecule(smiles=\"O=CO[Pt]\")], molecular_weight=(45.0174,'amu'))), (Species(index=16, label=\"HCO*\", thermo=NASA(polynomials=[NASAPolynomial(coeffs=[-1.43681,0.0369246,-7.17912e-05,6.73544e-08,-2.35184e-11,-21694.8,8.27567], Tmin=(100,'K'), Tmax=(873.21,'K')), NASAPolynomial(coeffs=[1.83284,0.0100778,-5.28529e-06,1.01351e-09,-6.85176e-14,-21813.3,-4.46413], Tmin=(873.21,'K'), Tmax=(5000,'K'))], Tmin=(100,'K'), Tmax=(5000,'K'), comment=\"\"\"Thermo library: surfaceThermoPt111 Binding energy corrected by LSR (0.25C) from Pt111\"\"\"), molecule=[Molecule(smiles=\"O=C[Pt]\")], molecular_weight=(29.018,'amu')), Species(index=20, label=\"CH2O*\", thermo=NASA(polynomials=[NASAPolynomial(coeffs=[-1.46696,0.041387,-8.87611e-05,9.10103e-08,-3.36603e-11,-20300.2,15.7178], Tmin=(100,'K'), Tmax=(879.32,'K')), NASAPolynomial(coeffs=[-0.892954,0.0166197,-8.71599e-06,1.66817e-09,-1.12505e-13,-19544.6,17.893], Tmin=(879.32,'K'), Tmax=(5000,'K'))], Tmin=(100,'K'), Tmax=(5000,'K'), comment=\"\"\"Thermo library: surfaceThermoPt111 Binding energy corrected by LSR () from Pt111\"\"\"), molecule=[Molecule(smiles=\"C=O.[Pt]\")], molecular_weight=(30.026,'amu')))], family='Surface_Abstraction_Single_vdW', template=['O-H', '*C=R'])),\n",
       " 'COOH*+CH2O*<=>HCO*+HCOOH*': (8820,\n",
       "  TemplateReaction(index=100, reactants=[Species(index=18, label=\"COOH*\", thermo=NASA(polynomials=[NASAPolynomial(coeffs=[-1.63327,0.0387824,-6.41967e-05,5.36653e-08,-1.74576e-11,-51554,11.9828], Tmin=(100,'K'), Tmax=(816.9,'K')), NASAPolynomial(coeffs=[3.9072,0.00895137,-4.45969e-06,8.65653e-10,-6.00138e-14,-52369,-13.0745], Tmin=(816.9,'K'), Tmax=(5000,'K'))], Tmin=(100,'K'), Tmax=(5000,'K'), comment=\"\"\"Thermo library: surfaceThermoPt111 Binding energy corrected by LSR (0.25C) from Pt111\"\"\"), molecule=[Molecule(smiles=\"O=C(O)[Pt]\")], molecular_weight=(45.0174,'amu')), Species(index=20, label=\"CH2O*\", thermo=NASA(polynomials=[NASAPolynomial(coeffs=[-1.46696,0.041387,-8.87611e-05,9.10103e-08,-3.36603e-11,-20300.2,15.7178], Tmin=(100,'K'), Tmax=(879.32,'K')), NASAPolynomial(coeffs=[-0.892954,0.0166197,-8.71599e-06,1.66817e-09,-1.12505e-13,-19544.6,17.893], Tmin=(879.32,'K'), Tmax=(5000,'K'))], Tmin=(100,'K'), Tmax=(5000,'K'), comment=\"\"\"Thermo library: surfaceThermoPt111 Binding energy corrected by LSR () from Pt111\"\"\"), molecule=[Molecule(smiles=\"C=O.[Pt]\")], molecular_weight=(30.026,'amu'))], products=[Species(index=16, label=\"HCO*\", thermo=NASA(polynomials=[NASAPolynomial(coeffs=[-1.43681,0.0369246,-7.17912e-05,6.73544e-08,-2.35184e-11,-21694.8,8.27567], Tmin=(100,'K'), Tmax=(873.21,'K')), NASAPolynomial(coeffs=[1.83284,0.0100778,-5.28529e-06,1.01351e-09,-6.85176e-14,-21813.3,-4.46413], Tmin=(873.21,'K'), Tmax=(5000,'K'))], Tmin=(100,'K'), Tmax=(5000,'K'), comment=\"\"\"Thermo library: surfaceThermoPt111 Binding energy corrected by LSR (0.25C) from Pt111\"\"\"), molecule=[Molecule(smiles=\"O=C[Pt]\")], molecular_weight=(29.018,'amu')), Species(index=19, label=\"HCOOH*\", thermo=NASA(polynomials=[NASAPolynomial(coeffs=[-1.86631,0.0464163,-8.23154e-05,7.46389e-08,-2.57972e-11,-53276.8,17.2793], Tmin=(100,'K'), Tmax=(855.72,'K')), NASAPolynomial(coeffs=[2.69761,0.0143101,-7.15296e-06,1.37054e-09,-9.36325e-14,-53663.5,-1.7233], Tmin=(855.72,'K'), Tmax=(5000,'K'))], Tmin=(100,'K'), Tmax=(5000,'K'), comment=\"\"\"Thermo library: surfaceThermoPt111 Binding energy corrected by LSR () from Pt111\"\"\"), molecule=[Molecule(smiles=\"O=CO.[Pt]\")], molecular_weight=(46.0254,'amu'))], kinetics=SurfaceArrhenius(A=(8.36e+21,'cm^2/(mol*s)'), n=0, Ea=(12.163,'kcal/mol'), T0=(1,'K'), comment=\"\"\"Estimated using template [Donating;Abstracting] for rate rule [C-R;*C=R]\n",
       "  Euclidian distance = 2.23606797749979\n",
       "  Multiplied by reaction path degeneracy 2.0\n",
       "  family: Surface_Abstraction_Single_vdW\"\"\"), degeneracy=2.0, pairs=[(Species(index=18, label=\"COOH*\", thermo=NASA(polynomials=[NASAPolynomial(coeffs=[-1.63327,0.0387824,-6.41967e-05,5.36653e-08,-1.74576e-11,-51554,11.9828], Tmin=(100,'K'), Tmax=(816.9,'K')), NASAPolynomial(coeffs=[3.9072,0.00895137,-4.45969e-06,8.65653e-10,-6.00138e-14,-52369,-13.0745], Tmin=(816.9,'K'), Tmax=(5000,'K'))], Tmin=(100,'K'), Tmax=(5000,'K'), comment=\"\"\"Thermo library: surfaceThermoPt111 Binding energy corrected by LSR (0.25C) from Pt111\"\"\"), molecule=[Molecule(smiles=\"O=C(O)[Pt]\")], molecular_weight=(45.0174,'amu')), Species(index=19, label=\"HCOOH*\", thermo=NASA(polynomials=[NASAPolynomial(coeffs=[-1.86631,0.0464163,-8.23154e-05,7.46389e-08,-2.57972e-11,-53276.8,17.2793], Tmin=(100,'K'), Tmax=(855.72,'K')), NASAPolynomial(coeffs=[2.69761,0.0143101,-7.15296e-06,1.37054e-09,-9.36325e-14,-53663.5,-1.7233], Tmin=(855.72,'K'), Tmax=(5000,'K'))], Tmin=(100,'K'), Tmax=(5000,'K'), comment=\"\"\"Thermo library: surfaceThermoPt111 Binding energy corrected by LSR () from Pt111\"\"\"), molecule=[Molecule(smiles=\"O=CO.[Pt]\")], molecular_weight=(46.0254,'amu'))), (Species(index=20, label=\"CH2O*\", thermo=NASA(polynomials=[NASAPolynomial(coeffs=[-1.46696,0.041387,-8.87611e-05,9.10103e-08,-3.36603e-11,-20300.2,15.7178], Tmin=(100,'K'), Tmax=(879.32,'K')), NASAPolynomial(coeffs=[-0.892954,0.0166197,-8.71599e-06,1.66817e-09,-1.12505e-13,-19544.6,17.893], Tmin=(879.32,'K'), Tmax=(5000,'K'))], Tmin=(100,'K'), Tmax=(5000,'K'), comment=\"\"\"Thermo library: surfaceThermoPt111 Binding energy corrected by LSR () from Pt111\"\"\"), molecule=[Molecule(smiles=\"C=O.[Pt]\")], molecular_weight=(30.026,'amu')), Species(index=16, label=\"HCO*\", thermo=NASA(polynomials=[NASAPolynomial(coeffs=[-1.43681,0.0369246,-7.17912e-05,6.73544e-08,-2.35184e-11,-21694.8,8.27567], Tmin=(100,'K'), Tmax=(873.21,'K')), NASAPolynomial(coeffs=[1.83284,0.0100778,-5.28529e-06,1.01351e-09,-6.85176e-14,-21813.3,-4.46413], Tmin=(873.21,'K'), Tmax=(5000,'K'))], Tmin=(100,'K'), Tmax=(5000,'K'), comment=\"\"\"Thermo library: surfaceThermoPt111 Binding energy corrected by LSR (0.25C) from Pt111\"\"\"), molecule=[Molecule(smiles=\"O=C[Pt]\")], molecular_weight=(29.018,'amu')))], family='Surface_Abstraction_Single_vdW', template=['C-R', '*C=R'])),\n",
       " 'H2O*+CH2O*<=>H*+CH3O2*': (10626,\n",
       "  TemplateReaction(index=54, reactants=[Species(index=13, label=\"H2O*\", thermo=NASA(polynomials=[NASAPolynomial(coeffs=[-1.3434,0.0366695,-7.9948e-05,7.74125e-08,-2.68665e-11,-32349,11.0238], Tmin=(100,'K'), Tmax=(912.85,'K')), NASAPolynomial(coeffs=[1.12159,0.0081664,-4.02358e-06,7.20421e-10,-4.51443e-14,-32061.5,3.39616], Tmin=(912.85,'K'), Tmax=(5000,'K'))], Tmin=(100,'K'), Tmax=(5000,'K'), comment=\"\"\"Thermo library: surfaceThermoPt111 Binding energy corrected by LSR () from Pt111\"\"\"), molecule=[Molecule(smiles=\"O.[Pt]\")], molecular_weight=(18.0153,'amu')), Species(index=20, label=\"CH2O*\", thermo=NASA(polynomials=[NASAPolynomial(coeffs=[-1.46696,0.041387,-8.87611e-05,9.10103e-08,-3.36603e-11,-20300.2,15.7178], Tmin=(100,'K'), Tmax=(879.32,'K')), NASAPolynomial(coeffs=[-0.892954,0.0166197,-8.71599e-06,1.66817e-09,-1.12505e-13,-19544.6,17.893], Tmin=(879.32,'K'), Tmax=(5000,'K'))], Tmin=(100,'K'), Tmax=(5000,'K'), comment=\"\"\"Thermo library: surfaceThermoPt111 Binding energy corrected by LSR () from Pt111\"\"\"), molecule=[Molecule(smiles=\"C=O.[Pt]\")], molecular_weight=(30.026,'amu'))], products=[Species(index=10, label=\"H*\", thermo=NASA(polynomials=[NASAPolynomial(coeffs=[-0.380966,0.00547229,2.60912e-06,-9.6496e-09,4.63946e-12,-1405.57,1.01726], Tmin=(100,'K'), Tmax=(952.91,'K')), NASAPolynomial(coeffs=[2.8034,-0.000541049,4.99509e-07,-7.54966e-11,3.06774e-15,-2346.32,-15.9437], Tmin=(952.91,'K'), Tmax=(5000,'K'))], Tmin=(100,'K'), Tmax=(5000,'K'), comment=\"\"\"Thermo library: surfaceThermoPt111 Binding energy corrected by LSR (1.00H) from Pt111\"\"\"), molecule=[Molecule(smiles=\"[Pt]\")], molecular_weight=(1.00797,'amu')), Species(index=22, label=\"CH3O2*\", thermo=NASA(polynomials=[NASAPolynomial(coeffs=[3.21915,0.0067174,3.72265e-05,-5.73625e-08,2.36257e-11,-47489.4,-6.14513], Tmin=(100,'K'), Tmax=(932.27,'K')), NASAPolynomial(coeffs=[10.3103,0.00304289,9.71226e-08,-3.19377e-11,-2.1338e-15,-49974,-46.0931], Tmin=(932.27,'K'), Tmax=(5000,'K'))], Tmin=(100,'K'), Tmax=(5000,'K'), comment=\"\"\"Gas phase thermo for HOCH2O from Thermo library: DFT_QCI_thermo. Adsorption correction: + Thermo group additivity estimation: adsorptionPt111(O-*R)\n",
       "  Binding energy corrected by LSR (0.50O) from Pt111\"\"\"), molecule=[Molecule(smiles=\"OCO[Pt]\")], molecular_weight=(47.0334,'amu'))], kinetics=SurfaceArrhenius(A=(8.36e+21,'cm^2/(mol*s)'), n=0, Ea=(7.524,'kcal/mol'), T0=(1,'K'), comment=\"\"\"Estimated using template [Adsorbate1;Adsorbate2] for rate rule [O=C;Adsorbate2]\n",
       "  Euclidian distance = 2.0\n",
       "  Multiplied by reaction path degeneracy 2.0\n",
       "  family: Surface_Dual_Adsorption_vdW\n",
       "  Ea raised from 0.0 to 31.5 kJ/mol to match endothermicity of reaction.\"\"\"), degeneracy=2.0, pairs=[(Species(index=20, label=\"CH2O*\", thermo=NASA(polynomials=[NASAPolynomial(coeffs=[-1.46696,0.041387,-8.87611e-05,9.10103e-08,-3.36603e-11,-20300.2,15.7178], Tmin=(100,'K'), Tmax=(879.32,'K')), NASAPolynomial(coeffs=[-0.892954,0.0166197,-8.71599e-06,1.66817e-09,-1.12505e-13,-19544.6,17.893], Tmin=(879.32,'K'), Tmax=(5000,'K'))], Tmin=(100,'K'), Tmax=(5000,'K'), comment=\"\"\"Thermo library: surfaceThermoPt111 Binding energy corrected by LSR () from Pt111\"\"\"), molecule=[Molecule(smiles=\"C=O.[Pt]\")], molecular_weight=(30.026,'amu')), Species(index=22, label=\"CH3O2*\", thermo=NASA(polynomials=[NASAPolynomial(coeffs=[3.21915,0.0067174,3.72265e-05,-5.73625e-08,2.36257e-11,-47489.4,-6.14513], Tmin=(100,'K'), Tmax=(932.27,'K')), NASAPolynomial(coeffs=[10.3103,0.00304289,9.71226e-08,-3.19377e-11,-2.1338e-15,-49974,-46.0931], Tmin=(932.27,'K'), Tmax=(5000,'K'))], Tmin=(100,'K'), Tmax=(5000,'K'), comment=\"\"\"Gas phase thermo for HOCH2O from Thermo library: DFT_QCI_thermo. Adsorption correction: + Thermo group additivity estimation: adsorptionPt111(O-*R)\n",
       "  Binding energy corrected by LSR (0.50O) from Pt111\"\"\"), molecule=[Molecule(smiles=\"OCO[Pt]\")], molecular_weight=(47.0334,'amu'))), (Species(index=13, label=\"H2O*\", thermo=NASA(polynomials=[NASAPolynomial(coeffs=[-1.3434,0.0366695,-7.9948e-05,7.74125e-08,-2.68665e-11,-32349,11.0238], Tmin=(100,'K'), Tmax=(912.85,'K')), NASAPolynomial(coeffs=[1.12159,0.0081664,-4.02358e-06,7.20421e-10,-4.51443e-14,-32061.5,3.39616], Tmin=(912.85,'K'), Tmax=(5000,'K'))], Tmin=(100,'K'), Tmax=(5000,'K'), comment=\"\"\"Thermo library: surfaceThermoPt111 Binding energy corrected by LSR () from Pt111\"\"\"), molecule=[Molecule(smiles=\"O.[Pt]\")], molecular_weight=(18.0153,'amu')), Species(index=10, label=\"H*\", thermo=NASA(polynomials=[NASAPolynomial(coeffs=[-0.380966,0.00547229,2.60912e-06,-9.6496e-09,4.63946e-12,-1405.57,1.01726], Tmin=(100,'K'), Tmax=(952.91,'K')), NASAPolynomial(coeffs=[2.8034,-0.000541049,4.99509e-07,-7.54966e-11,3.06774e-15,-2346.32,-15.9437], Tmin=(952.91,'K'), Tmax=(5000,'K'))], Tmin=(100,'K'), Tmax=(5000,'K'), comment=\"\"\"Thermo library: surfaceThermoPt111 Binding energy corrected by LSR (1.00H) from Pt111\"\"\"), molecule=[Molecule(smiles=\"[Pt]\")], molecular_weight=(1.00797,'amu')))], family='Surface_Dual_Adsorption_vdW', template=['O=C', 'Adsorbate2'])),\n",
       " 'H*+CO2*<=>X+HCOO*': (11875,\n",
       "  TemplateReaction(index=37, reactants=[Species(index=10, label=\"H*\", thermo=NASA(polynomials=[NASAPolynomial(coeffs=[-0.380966,0.00547229,2.60912e-06,-9.6496e-09,4.63946e-12,-1405.57,1.01726], Tmin=(100,'K'), Tmax=(952.91,'K')), NASAPolynomial(coeffs=[2.8034,-0.000541049,4.99509e-07,-7.54966e-11,3.06774e-15,-2346.32,-15.9437], Tmin=(952.91,'K'), Tmax=(5000,'K'))], Tmin=(100,'K'), Tmax=(5000,'K'), comment=\"\"\"Thermo library: surfaceThermoPt111 Binding energy corrected by LSR (1.00H) from Pt111\"\"\"), molecule=[Molecule(smiles=\"[Pt]\")], molecular_weight=(1.00797,'amu')), Species(index=15, label=\"CO2*\", thermo=NASA(polynomials=[NASAPolynomial(coeffs=[-1.46243,0.0378466,-7.61204e-05,7.18293e-08,-2.50671e-11,-52421.8,12.0603], Tmin=(100,'K'), Tmax=(875.19,'K')), NASAPolynomial(coeffs=[2.04184,0.00907415,-4.94344e-06,9.56512e-10,-6.46927e-14,-52546.6,-1.5876], Tmin=(875.19,'K'), Tmax=(5000,'K'))], Tmin=(100,'K'), Tmax=(5000,'K'), comment=\"\"\"Thermo library: surfaceThermoPt111 Binding energy corrected by LSR () from Pt111\"\"\"), molecule=[Molecule(smiles=\"O=C=O.[Pt]\")], molecular_weight=(44.0094,'amu'))], products=[Species(index=1, label=\"X\", thermo=NASA(polynomials=[NASAPolynomial(coeffs=[0.00710134,-4.25614e-05,8.98519e-08,-7.80181e-11,2.32462e-14,-0.876099,-0.0311209], Tmin=(100,'K'), Tmax=(1554.81,'K')), NASAPolynomial(coeffs=[0.160301,-0.000252238,1.14182e-07,-1.21474e-11,3.85809e-16,-70.8109,-0.909537], Tmin=(1554.81,'K'), Tmax=(5000,'K'))], Tmin=(100,'K'), Tmax=(5000,'K'), comment=\"\"\"Thermo library: surfaceThermoPt111 Binding energy corrected by LSR () from Pt111\"\"\"), molecule=[Molecule(smiles=\"[Pt]\")], molecular_weight=(0,'amu')), Species(index=17, label=\"HCOO*\", thermo=NASA(polynomials=[NASAPolynomial(coeffs=[-1.7623,0.0429177,-7.40772e-05,6.53474e-08,-2.23044e-11,-56036.4,6.20759], Tmin=(100,'K'), Tmax=(830.08,'K')), NASAPolynomial(coeffs=[3.26723,0.0120318,-6.24856e-06,1.22139e-09,-8.47331e-14,-56642.3,-15.7404], Tmin=(830.08,'K'), Tmax=(5000,'K'))], Tmin=(100,'K'), Tmax=(5000,'K'), comment=\"\"\"Thermo library: surfaceThermoPt111 Binding energy corrected by LSR (0.50O) from Pt111\"\"\"), molecule=[Molecule(smiles=\"O=CO[Pt]\")], molecular_weight=(45.0174,'amu'))], kinetics=SurfaceArrhenius(A=(8.36e+21,'cm^2/(mol*s)'), n=0, Ea=(2.812,'kcal/mol'), T0=(1,'K'), comment=\"\"\"Estimated using template [AdsorbateVdW;Adsorbate1] for rate rule [O=C=O;H*]\n",
       "  Euclidian distance = 3.1622776601683795\n",
       "  Multiplied by reaction path degeneracy 2.0\n",
       "  family: Surface_Addition_Single_vdW\"\"\"), degeneracy=2.0, pairs=[(Species(index=15, label=\"CO2*\", thermo=NASA(polynomials=[NASAPolynomial(coeffs=[-1.46243,0.0378466,-7.61204e-05,7.18293e-08,-2.50671e-11,-52421.8,12.0603], Tmin=(100,'K'), Tmax=(875.19,'K')), NASAPolynomial(coeffs=[2.04184,0.00907415,-4.94344e-06,9.56512e-10,-6.46927e-14,-52546.6,-1.5876], Tmin=(875.19,'K'), Tmax=(5000,'K'))], Tmin=(100,'K'), Tmax=(5000,'K'), comment=\"\"\"Thermo library: surfaceThermoPt111 Binding energy corrected by LSR () from Pt111\"\"\"), molecule=[Molecule(smiles=\"O=C=O.[Pt]\")], molecular_weight=(44.0094,'amu')), Species(index=17, label=\"HCOO*\", thermo=NASA(polynomials=[NASAPolynomial(coeffs=[-1.7623,0.0429177,-7.40772e-05,6.53474e-08,-2.23044e-11,-56036.4,6.20759], Tmin=(100,'K'), Tmax=(830.08,'K')), NASAPolynomial(coeffs=[3.26723,0.0120318,-6.24856e-06,1.22139e-09,-8.47331e-14,-56642.3,-15.7404], Tmin=(830.08,'K'), Tmax=(5000,'K'))], Tmin=(100,'K'), Tmax=(5000,'K'), comment=\"\"\"Thermo library: surfaceThermoPt111 Binding energy corrected by LSR (0.50O) from Pt111\"\"\"), molecule=[Molecule(smiles=\"O=CO[Pt]\")], molecular_weight=(45.0174,'amu'))), (Species(index=10, label=\"H*\", thermo=NASA(polynomials=[NASAPolynomial(coeffs=[-0.380966,0.00547229,2.60912e-06,-9.6496e-09,4.63946e-12,-1405.57,1.01726], Tmin=(100,'K'), Tmax=(952.91,'K')), NASAPolynomial(coeffs=[2.8034,-0.000541049,4.99509e-07,-7.54966e-11,3.06774e-15,-2346.32,-15.9437], Tmin=(952.91,'K'), Tmax=(5000,'K'))], Tmin=(100,'K'), Tmax=(5000,'K'), comment=\"\"\"Thermo library: surfaceThermoPt111 Binding energy corrected by LSR (1.00H) from Pt111\"\"\"), molecule=[Molecule(smiles=\"[Pt]\")], molecular_weight=(1.00797,'amu')), Species(index=17, label=\"HCOO*\", thermo=NASA(polynomials=[NASAPolynomial(coeffs=[-1.7623,0.0429177,-7.40772e-05,6.53474e-08,-2.23044e-11,-56036.4,6.20759], Tmin=(100,'K'), Tmax=(830.08,'K')), NASAPolynomial(coeffs=[3.26723,0.0120318,-6.24856e-06,1.22139e-09,-8.47331e-14,-56642.3,-15.7404], Tmin=(830.08,'K'), Tmax=(5000,'K'))], Tmin=(100,'K'), Tmax=(5000,'K'), comment=\"\"\"Thermo library: surfaceThermoPt111 Binding energy corrected by LSR (0.50O) from Pt111\"\"\"), molecule=[Molecule(smiles=\"O=CO[Pt]\")], molecular_weight=(45.0174,'amu')))], family='Surface_Addition_Single_vdW', template=['O=C=O', 'H*'])),\n",
       " 'OH*+CH2O*<=>X+CH3O2*': (12696,\n",
       "  TemplateReaction(index=46, reactants=[Species(index=12, label=\"OH*\", thermo=NASA(polynomials=[NASAPolynomial(coeffs=[-1.29515,0.0336477,-7.07723e-05,6.54322e-08,-2.19413e-11,-21645.4,4.37628], Tmin=(100,'K'), Tmax=(914.58,'K')), NASAPolynomial(coeffs=[2.43519,0.0046464,-2.40011e-06,4.26409e-10,-2.60655e-14,-21797.2,-10.3867], Tmin=(914.58,'K'), Tmax=(5000,'K'))], Tmin=(100,'K'), Tmax=(5000,'K'), comment=\"\"\"Thermo library: surfaceThermoPt111 Binding energy corrected by LSR (0.50O) from Pt111\"\"\"), molecule=[Molecule(smiles=\"O[Pt]\")], molecular_weight=(17.0074,'amu')), Species(index=20, label=\"CH2O*\", thermo=NASA(polynomials=[NASAPolynomial(coeffs=[-1.46696,0.041387,-8.87611e-05,9.10103e-08,-3.36603e-11,-20300.2,15.7178], Tmin=(100,'K'), Tmax=(879.32,'K')), NASAPolynomial(coeffs=[-0.892954,0.0166197,-8.71599e-06,1.66817e-09,-1.12505e-13,-19544.6,17.893], Tmin=(879.32,'K'), Tmax=(5000,'K'))], Tmin=(100,'K'), Tmax=(5000,'K'), comment=\"\"\"Thermo library: surfaceThermoPt111 Binding energy corrected by LSR () from Pt111\"\"\"), molecule=[Molecule(smiles=\"C=O.[Pt]\")], molecular_weight=(30.026,'amu'))], products=[Species(index=1, label=\"X\", thermo=NASA(polynomials=[NASAPolynomial(coeffs=[0.00710134,-4.25614e-05,8.98519e-08,-7.80181e-11,2.32462e-14,-0.876099,-0.0311209], Tmin=(100,'K'), Tmax=(1554.81,'K')), NASAPolynomial(coeffs=[0.160301,-0.000252238,1.14182e-07,-1.21474e-11,3.85809e-16,-70.8109,-0.909537], Tmin=(1554.81,'K'), Tmax=(5000,'K'))], Tmin=(100,'K'), Tmax=(5000,'K'), comment=\"\"\"Thermo library: surfaceThermoPt111 Binding energy corrected by LSR () from Pt111\"\"\"), molecule=[Molecule(smiles=\"[Pt]\")], molecular_weight=(0,'amu')), Species(index=22, label=\"CH3O2*\", thermo=NASA(polynomials=[NASAPolynomial(coeffs=[3.21915,0.0067174,3.72265e-05,-5.73625e-08,2.36257e-11,-47489.4,-6.14513], Tmin=(100,'K'), Tmax=(932.27,'K')), NASAPolynomial(coeffs=[10.3103,0.00304289,9.71226e-08,-3.19377e-11,-2.1338e-15,-49974,-46.0931], Tmin=(932.27,'K'), Tmax=(5000,'K'))], Tmin=(100,'K'), Tmax=(5000,'K'), comment=\"\"\"Gas phase thermo for HOCH2O from Thermo library: DFT_QCI_thermo. Adsorption correction: + Thermo group additivity estimation: adsorptionPt111(O-*R)\n",
       "  Binding energy corrected by LSR (0.50O) from Pt111\"\"\"), molecule=[Molecule(smiles=\"OCO[Pt]\")], molecular_weight=(47.0334,'amu'))], kinetics=SurfaceArrhenius(A=(4.18e+21,'cm^2/(mol*s)'), n=0, Ea=(0,'kcal/mol'), T0=(1,'K'), comment=\"\"\"Estimated using template [AdsorbateVdW;Adsorbate1] for rate rule [O=C;HO*]\n",
       "  Euclidian distance = 2.8284271247461903\n",
       "  family: Surface_Addition_Single_vdW\"\"\"), pairs=[(Species(index=20, label=\"CH2O*\", thermo=NASA(polynomials=[NASAPolynomial(coeffs=[-1.46696,0.041387,-8.87611e-05,9.10103e-08,-3.36603e-11,-20300.2,15.7178], Tmin=(100,'K'), Tmax=(879.32,'K')), NASAPolynomial(coeffs=[-0.892954,0.0166197,-8.71599e-06,1.66817e-09,-1.12505e-13,-19544.6,17.893], Tmin=(879.32,'K'), Tmax=(5000,'K'))], Tmin=(100,'K'), Tmax=(5000,'K'), comment=\"\"\"Thermo library: surfaceThermoPt111 Binding energy corrected by LSR () from Pt111\"\"\"), molecule=[Molecule(smiles=\"C=O.[Pt]\")], molecular_weight=(30.026,'amu')), Species(index=22, label=\"CH3O2*\", thermo=NASA(polynomials=[NASAPolynomial(coeffs=[3.21915,0.0067174,3.72265e-05,-5.73625e-08,2.36257e-11,-47489.4,-6.14513], Tmin=(100,'K'), Tmax=(932.27,'K')), NASAPolynomial(coeffs=[10.3103,0.00304289,9.71226e-08,-3.19377e-11,-2.1338e-15,-49974,-46.0931], Tmin=(932.27,'K'), Tmax=(5000,'K'))], Tmin=(100,'K'), Tmax=(5000,'K'), comment=\"\"\"Gas phase thermo for HOCH2O from Thermo library: DFT_QCI_thermo. Adsorption correction: + Thermo group additivity estimation: adsorptionPt111(O-*R)\n",
       "  Binding energy corrected by LSR (0.50O) from Pt111\"\"\"), molecule=[Molecule(smiles=\"OCO[Pt]\")], molecular_weight=(47.0334,'amu'))), (Species(index=12, label=\"OH*\", thermo=NASA(polynomials=[NASAPolynomial(coeffs=[-1.29515,0.0336477,-7.07723e-05,6.54322e-08,-2.19413e-11,-21645.4,4.37628], Tmin=(100,'K'), Tmax=(914.58,'K')), NASAPolynomial(coeffs=[2.43519,0.0046464,-2.40011e-06,4.26409e-10,-2.60655e-14,-21797.2,-10.3867], Tmin=(914.58,'K'), Tmax=(5000,'K'))], Tmin=(100,'K'), Tmax=(5000,'K'), comment=\"\"\"Thermo library: surfaceThermoPt111 Binding energy corrected by LSR (0.50O) from Pt111\"\"\"), molecule=[Molecule(smiles=\"O[Pt]\")], molecular_weight=(17.0074,'amu')), Species(index=22, label=\"CH3O2*\", thermo=NASA(polynomials=[NASAPolynomial(coeffs=[3.21915,0.0067174,3.72265e-05,-5.73625e-08,2.36257e-11,-47489.4,-6.14513], Tmin=(100,'K'), Tmax=(932.27,'K')), NASAPolynomial(coeffs=[10.3103,0.00304289,9.71226e-08,-3.19377e-11,-2.1338e-15,-49974,-46.0931], Tmin=(932.27,'K'), Tmax=(5000,'K'))], Tmin=(100,'K'), Tmax=(5000,'K'), comment=\"\"\"Gas phase thermo for HOCH2O from Thermo library: DFT_QCI_thermo. Adsorption correction: + Thermo group additivity estimation: adsorptionPt111(O-*R)\n",
       "  Binding energy corrected by LSR (0.50O) from Pt111\"\"\"), molecule=[Molecule(smiles=\"OCO[Pt]\")], molecular_weight=(47.0334,'amu')))], family='Surface_Addition_Single_vdW', template=['O=C', 'HO*'])),\n",
       " 'HCOO*<=>COOH*': (15444,\n",
       "  TemplateReaction(index=20, reactants=[Species(index=17, label=\"HCOO*\", thermo=NASA(polynomials=[NASAPolynomial(coeffs=[-1.7623,0.0429177,-7.40772e-05,6.53474e-08,-2.23044e-11,-56036.4,6.20759], Tmin=(100,'K'), Tmax=(830.08,'K')), NASAPolynomial(coeffs=[3.26723,0.0120318,-6.24856e-06,1.22139e-09,-8.47331e-14,-56642.3,-15.7404], Tmin=(830.08,'K'), Tmax=(5000,'K'))], Tmin=(100,'K'), Tmax=(5000,'K'), comment=\"\"\"Thermo library: surfaceThermoPt111 Binding energy corrected by LSR (0.50O) from Pt111\"\"\"), molecule=[Molecule(smiles=\"O=CO[Pt]\")], molecular_weight=(45.0174,'amu'))], products=[Species(index=18, label=\"COOH*\", thermo=NASA(polynomials=[NASAPolynomial(coeffs=[-1.63327,0.0387824,-6.41967e-05,5.36653e-08,-1.74576e-11,-51554,11.9828], Tmin=(100,'K'), Tmax=(816.9,'K')), NASAPolynomial(coeffs=[3.9072,0.00895137,-4.45969e-06,8.65653e-10,-6.00138e-14,-52369,-13.0745], Tmin=(816.9,'K'), Tmax=(5000,'K'))], Tmin=(100,'K'), Tmax=(5000,'K'), comment=\"\"\"Thermo library: surfaceThermoPt111 Binding energy corrected by LSR (0.25C) from Pt111\"\"\"), molecule=[Molecule(smiles=\"O=C(O)[Pt]\")], molecular_weight=(45.0174,'amu'))], kinetics=SurfaceArrhenius(A=(1e+13,'s^-1'), n=0, Ea=(11.95,'kcal/mol'), T0=(1,'K'), comment=\"\"\"Exact match found for rate rule [Adsorbate1]\n",
       "  Euclidian distance = 0\n",
       "  family: Surface_Migration\"\"\"), pairs=[(Species(index=17, label=\"HCOO*\", thermo=NASA(polynomials=[NASAPolynomial(coeffs=[-1.7623,0.0429177,-7.40772e-05,6.53474e-08,-2.23044e-11,-56036.4,6.20759], Tmin=(100,'K'), Tmax=(830.08,'K')), NASAPolynomial(coeffs=[3.26723,0.0120318,-6.24856e-06,1.22139e-09,-8.47331e-14,-56642.3,-15.7404], Tmin=(830.08,'K'), Tmax=(5000,'K'))], Tmin=(100,'K'), Tmax=(5000,'K'), comment=\"\"\"Thermo library: surfaceThermoPt111 Binding energy corrected by LSR (0.50O) from Pt111\"\"\"), molecule=[Molecule(smiles=\"O=CO[Pt]\")], molecular_weight=(45.0174,'amu')), Species(index=18, label=\"COOH*\", thermo=NASA(polynomials=[NASAPolynomial(coeffs=[-1.63327,0.0387824,-6.41967e-05,5.36653e-08,-1.74576e-11,-51554,11.9828], Tmin=(100,'K'), Tmax=(816.9,'K')), NASAPolynomial(coeffs=[3.9072,0.00895137,-4.45969e-06,8.65653e-10,-6.00138e-14,-52369,-13.0745], Tmin=(816.9,'K'), Tmax=(5000,'K'))], Tmin=(100,'K'), Tmax=(5000,'K'), comment=\"\"\"Thermo library: surfaceThermoPt111 Binding energy corrected by LSR (0.25C) from Pt111\"\"\"), molecule=[Molecule(smiles=\"O=C(O)[Pt]\")], molecular_weight=(45.0174,'amu')))], family='Surface_Migration', template=['Adsorbate1'])),\n",
       " 'X+X+HCOOCH3<=>HCO*+CH3O*': (21168,\n",
       "  TemplateReaction(index=35, reactants=[Species(index=1, label=\"X\", thermo=NASA(polynomials=[NASAPolynomial(coeffs=[0.00710134,-4.25614e-05,8.98519e-08,-7.80181e-11,2.32462e-14,-0.876099,-0.0311209], Tmin=(100,'K'), Tmax=(1554.81,'K')), NASAPolynomial(coeffs=[0.160301,-0.000252238,1.14182e-07,-1.21474e-11,3.85809e-16,-70.8109,-0.909537], Tmin=(1554.81,'K'), Tmax=(5000,'K'))], Tmin=(100,'K'), Tmax=(5000,'K'), comment=\"\"\"Thermo library: surfaceThermoPt111 Binding energy corrected by LSR () from Pt111\"\"\"), molecule=[Molecule(smiles=\"[Pt]\")], molecular_weight=(0,'amu')), Species(index=1, label=\"X\", thermo=NASA(polynomials=[NASAPolynomial(coeffs=[0.00710134,-4.25614e-05,8.98519e-08,-7.80181e-11,2.32462e-14,-0.876099,-0.0311209], Tmin=(100,'K'), Tmax=(1554.81,'K')), NASAPolynomial(coeffs=[0.160301,-0.000252238,1.14182e-07,-1.21474e-11,3.85809e-16,-70.8109,-0.909537], Tmin=(1554.81,'K'), Tmax=(5000,'K'))], Tmin=(100,'K'), Tmax=(5000,'K'), comment=\"\"\"Thermo library: surfaceThermoPt111 Binding energy corrected by LSR () from Pt111\"\"\"), molecule=[Molecule(smiles=\"[Pt]\")], molecular_weight=(0,'amu')), Species(index=9, label=\"HCOOCH3\", thermo=NASA(polynomials=[NASAPolynomial(coeffs=[3.28123,0.0113181,1.84478e-05,-2.41945e-08,7.75136e-12,-44672.6,12.0364], Tmin=(100,'K'), Tmax=(1141.77,'K')), NASAPolynomial(coeffs=[4.90989,0.018753,-8.58329e-06,1.66847e-09,-1.18612e-13,-45901,0.212198], Tmin=(1141.77,'K'), Tmax=(5000,'K'))], Tmin=(100,'K'), Tmax=(5000,'K'), comment=\"\"\"Thermo library: DFT_QCI_thermo\"\"\"), molecule=[Molecule(smiles=\"COC=O\")], molecular_weight=(60.052,'amu'))], products=[Species(index=16, label=\"HCO*\", thermo=NASA(polynomials=[NASAPolynomial(coeffs=[-1.43681,0.0369246,-7.17912e-05,6.73544e-08,-2.35184e-11,-21694.8,8.27567], Tmin=(100,'K'), Tmax=(873.21,'K')), NASAPolynomial(coeffs=[1.83284,0.0100778,-5.28529e-06,1.01351e-09,-6.85176e-14,-21813.3,-4.46413], Tmin=(873.21,'K'), Tmax=(5000,'K'))], Tmin=(100,'K'), Tmax=(5000,'K'), comment=\"\"\"Thermo library: surfaceThermoPt111 Binding energy corrected by LSR (0.25C) from Pt111\"\"\"), molecule=[Molecule(smiles=\"O=C[Pt]\")], molecular_weight=(29.018,'amu')), Species(index=21, label=\"CH3O*\", thermo=NASA(polynomials=[NASAPolynomial(coeffs=[-1.68422,0.0428024,-7.50785e-05,7.03684e-08,-2.50921e-11,-22313.7,7.76424], Tmin=(100,'K'), Tmax=(857.66,'K')), NASAPolynomial(coeffs=[1.14794,0.0171345,-8.39641e-06,1.59809e-09,-1.08976e-13,-22341.3,-2.79304], Tmin=(857.66,'K'), Tmax=(5000,'K'))], Tmin=(100,'K'), Tmax=(5000,'K'), comment=\"\"\"Thermo library: surfaceThermoPt111 Binding energy corrected by LSR (0.50O) from Pt111\"\"\"), molecule=[Molecule(smiles=\"CO[Pt]\")], molecular_weight=(31.034,'amu'))], kinetics=StickingCoefficient(A=0.1, n=0, Ea=(1.248,'kcal/mol'), T0=(1,'K'), comment=\"\"\"Estimated using template [Adsorbate;VacantSite1;VacantSite2] for rate rule [O-C;VacantSite1;VacantSite2]\n",
       "  Euclidian distance = 2.0\n",
       "  family: Surface_Adsorption_Dissociative\"\"\"), pairs=[(Species(index=9, label=\"HCOOCH3\", thermo=NASA(polynomials=[NASAPolynomial(coeffs=[3.28123,0.0113181,1.84478e-05,-2.41945e-08,7.75136e-12,-44672.6,12.0364], Tmin=(100,'K'), Tmax=(1141.77,'K')), NASAPolynomial(coeffs=[4.90989,0.018753,-8.58329e-06,1.66847e-09,-1.18612e-13,-45901,0.212198], Tmin=(1141.77,'K'), Tmax=(5000,'K'))], Tmin=(100,'K'), Tmax=(5000,'K'), comment=\"\"\"Thermo library: DFT_QCI_thermo\"\"\"), molecule=[Molecule(smiles=\"COC=O\")], molecular_weight=(60.052,'amu')), Species(index=21, label=\"CH3O*\", thermo=NASA(polynomials=[NASAPolynomial(coeffs=[-1.68422,0.0428024,-7.50785e-05,7.03684e-08,-2.50921e-11,-22313.7,7.76424], Tmin=(100,'K'), Tmax=(857.66,'K')), NASAPolynomial(coeffs=[1.14794,0.0171345,-8.39641e-06,1.59809e-09,-1.08976e-13,-22341.3,-2.79304], Tmin=(857.66,'K'), Tmax=(5000,'K'))], Tmin=(100,'K'), Tmax=(5000,'K'), comment=\"\"\"Thermo library: surfaceThermoPt111 Binding energy corrected by LSR (0.50O) from Pt111\"\"\"), molecule=[Molecule(smiles=\"CO[Pt]\")], molecular_weight=(31.034,'amu'))), (Species(index=1, label=\"X\", thermo=NASA(polynomials=[NASAPolynomial(coeffs=[0.00710134,-4.25614e-05,8.98519e-08,-7.80181e-11,2.32462e-14,-0.876099,-0.0311209], Tmin=(100,'K'), Tmax=(1554.81,'K')), NASAPolynomial(coeffs=[0.160301,-0.000252238,1.14182e-07,-1.21474e-11,3.85809e-16,-70.8109,-0.909537], Tmin=(1554.81,'K'), Tmax=(5000,'K'))], Tmin=(100,'K'), Tmax=(5000,'K'), comment=\"\"\"Thermo library: surfaceThermoPt111 Binding energy corrected by LSR () from Pt111\"\"\"), molecule=[Molecule(smiles=\"[Pt]\")], molecular_weight=(0,'amu')), Species(index=16, label=\"HCO*\", thermo=NASA(polynomials=[NASAPolynomial(coeffs=[-1.43681,0.0369246,-7.17912e-05,6.73544e-08,-2.35184e-11,-21694.8,8.27567], Tmin=(100,'K'), Tmax=(873.21,'K')), NASAPolynomial(coeffs=[1.83284,0.0100778,-5.28529e-06,1.01351e-09,-6.85176e-14,-21813.3,-4.46413], Tmin=(873.21,'K'), Tmax=(5000,'K'))], Tmin=(100,'K'), Tmax=(5000,'K'), comment=\"\"\"Thermo library: surfaceThermoPt111 Binding energy corrected by LSR (0.25C) from Pt111\"\"\"), molecule=[Molecule(smiles=\"O=C[Pt]\")], molecular_weight=(29.018,'amu'))), (Species(index=1, label=\"X\", thermo=NASA(polynomials=[NASAPolynomial(coeffs=[0.00710134,-4.25614e-05,8.98519e-08,-7.80181e-11,2.32462e-14,-0.876099,-0.0311209], Tmin=(100,'K'), Tmax=(1554.81,'K')), NASAPolynomial(coeffs=[0.160301,-0.000252238,1.14182e-07,-1.21474e-11,3.85809e-16,-70.8109,-0.909537], Tmin=(1554.81,'K'), Tmax=(5000,'K'))], Tmin=(100,'K'), Tmax=(5000,'K'), comment=\"\"\"Thermo library: surfaceThermoPt111 Binding energy corrected by LSR () from Pt111\"\"\"), molecule=[Molecule(smiles=\"[Pt]\")], molecular_weight=(0,'amu')), Species(index=16, label=\"HCO*\", thermo=NASA(polynomials=[NASAPolynomial(coeffs=[-1.43681,0.0369246,-7.17912e-05,6.73544e-08,-2.35184e-11,-21694.8,8.27567], Tmin=(100,'K'), Tmax=(873.21,'K')), NASAPolynomial(coeffs=[1.83284,0.0100778,-5.28529e-06,1.01351e-09,-6.85176e-14,-21813.3,-4.46413], Tmin=(873.21,'K'), Tmax=(5000,'K'))], Tmin=(100,'K'), Tmax=(5000,'K'), comment=\"\"\"Thermo library: surfaceThermoPt111 Binding energy corrected by LSR (0.25C) from Pt111\"\"\"), molecule=[Molecule(smiles=\"O=C[Pt]\")], molecular_weight=(29.018,'amu')))], family='Surface_Adsorption_Dissociative', template=['O-C', 'VacantSite1', 'VacantSite2'])),\n",
       " 'H2O*+CO*<=>OH*+HCO*': (21888,\n",
       "  TemplateReaction(index=66, reactants=[Species(index=13, label=\"H2O*\", thermo=NASA(polynomials=[NASAPolynomial(coeffs=[-1.3434,0.0366695,-7.9948e-05,7.74125e-08,-2.68665e-11,-32349,11.0238], Tmin=(100,'K'), Tmax=(912.85,'K')), NASAPolynomial(coeffs=[1.12159,0.0081664,-4.02358e-06,7.20421e-10,-4.51443e-14,-32061.5,3.39616], Tmin=(912.85,'K'), Tmax=(5000,'K'))], Tmin=(100,'K'), Tmax=(5000,'K'), comment=\"\"\"Thermo library: surfaceThermoPt111 Binding energy corrected by LSR () from Pt111\"\"\"), molecule=[Molecule(smiles=\"O.[Pt]\")], molecular_weight=(18.0153,'amu')), Species(index=14, label=\"CO*\", thermo=NASA(polynomials=[NASAPolynomial(coeffs=[-1.3822,0.0375313,-8.29789e-05,8.09746e-08,-2.85492e-11,-22537,4.3547], Tmin=(100,'K'), Tmax=(891.31,'K')), NASAPolynomial(coeffs=[1.38107,0.0080569,-4.64292e-06,8.9113e-10,-5.90014e-14,-22351.4,-4.85409], Tmin=(891.31,'K'), Tmax=(5000,'K'))], Tmin=(100,'K'), Tmax=(5000,'K'), comment=\"\"\"Thermo library: surfaceThermoPt111 Binding energy corrected by LSR (0.50C) from Pt111\"\"\"), molecule=[Molecule(smiles=\"O=C=[Pt]\")], molecular_weight=(28.01,'amu'))], products=[Species(index=12, label=\"OH*\", thermo=NASA(polynomials=[NASAPolynomial(coeffs=[-1.29515,0.0336477,-7.07723e-05,6.54322e-08,-2.19413e-11,-21645.4,4.37628], Tmin=(100,'K'), Tmax=(914.58,'K')), NASAPolynomial(coeffs=[2.43519,0.0046464,-2.40011e-06,4.26409e-10,-2.60655e-14,-21797.2,-10.3867], Tmin=(914.58,'K'), Tmax=(5000,'K'))], Tmin=(100,'K'), Tmax=(5000,'K'), comment=\"\"\"Thermo library: surfaceThermoPt111 Binding energy corrected by LSR (0.50O) from Pt111\"\"\"), molecule=[Molecule(smiles=\"O[Pt]\")], molecular_weight=(17.0074,'amu')), Species(index=16, label=\"HCO*\", thermo=NASA(polynomials=[NASAPolynomial(coeffs=[-1.43681,0.0369246,-7.17912e-05,6.73544e-08,-2.35184e-11,-21694.8,8.27567], Tmin=(100,'K'), Tmax=(873.21,'K')), NASAPolynomial(coeffs=[1.83284,0.0100778,-5.28529e-06,1.01351e-09,-6.85176e-14,-21813.3,-4.46413], Tmin=(873.21,'K'), Tmax=(5000,'K'))], Tmin=(100,'K'), Tmax=(5000,'K'), comment=\"\"\"Thermo library: surfaceThermoPt111 Binding energy corrected by LSR (0.25C) from Pt111\"\"\"), molecule=[Molecule(smiles=\"O=C[Pt]\")], molecular_weight=(29.018,'amu'))], kinetics=SurfaceArrhenius(A=(8.36e+21,'cm^2/(mol*s)'), n=0, Ea=(28.665,'kcal/mol'), T0=(1,'K'), comment=\"\"\"Estimated using template [AdsorbateVdW;Adsorbate1] for rate rule [O-R;*=C=R]\n",
       "  Euclidian distance = 3.1622776601683795\n",
       "  Multiplied by reaction path degeneracy 2.0\n",
       "  family: Surface_Abstraction_vdW\"\"\"), degeneracy=2.0, pairs=[(Species(index=14, label=\"CO*\", thermo=NASA(polynomials=[NASAPolynomial(coeffs=[-1.3822,0.0375313,-8.29789e-05,8.09746e-08,-2.85492e-11,-22537,4.3547], Tmin=(100,'K'), Tmax=(891.31,'K')), NASAPolynomial(coeffs=[1.38107,0.0080569,-4.64292e-06,8.9113e-10,-5.90014e-14,-22351.4,-4.85409], Tmin=(891.31,'K'), Tmax=(5000,'K'))], Tmin=(100,'K'), Tmax=(5000,'K'), comment=\"\"\"Thermo library: surfaceThermoPt111 Binding energy corrected by LSR (0.50C) from Pt111\"\"\"), molecule=[Molecule(smiles=\"O=C=[Pt]\")], molecular_weight=(28.01,'amu')), Species(index=16, label=\"HCO*\", thermo=NASA(polynomials=[NASAPolynomial(coeffs=[-1.43681,0.0369246,-7.17912e-05,6.73544e-08,-2.35184e-11,-21694.8,8.27567], Tmin=(100,'K'), Tmax=(873.21,'K')), NASAPolynomial(coeffs=[1.83284,0.0100778,-5.28529e-06,1.01351e-09,-6.85176e-14,-21813.3,-4.46413], Tmin=(873.21,'K'), Tmax=(5000,'K'))], Tmin=(100,'K'), Tmax=(5000,'K'), comment=\"\"\"Thermo library: surfaceThermoPt111 Binding energy corrected by LSR (0.25C) from Pt111\"\"\"), molecule=[Molecule(smiles=\"O=C[Pt]\")], molecular_weight=(29.018,'amu'))), (Species(index=13, label=\"H2O*\", thermo=NASA(polynomials=[NASAPolynomial(coeffs=[-1.3434,0.0366695,-7.9948e-05,7.74125e-08,-2.68665e-11,-32349,11.0238], Tmin=(100,'K'), Tmax=(912.85,'K')), NASAPolynomial(coeffs=[1.12159,0.0081664,-4.02358e-06,7.20421e-10,-4.51443e-14,-32061.5,3.39616], Tmin=(912.85,'K'), Tmax=(5000,'K'))], Tmin=(100,'K'), Tmax=(5000,'K'), comment=\"\"\"Thermo library: surfaceThermoPt111 Binding energy corrected by LSR () from Pt111\"\"\"), molecule=[Molecule(smiles=\"O.[Pt]\")], molecular_weight=(18.0153,'amu')), Species(index=12, label=\"OH*\", thermo=NASA(polynomials=[NASAPolynomial(coeffs=[-1.29515,0.0336477,-7.07723e-05,6.54322e-08,-2.19413e-11,-21645.4,4.37628], Tmin=(100,'K'), Tmax=(914.58,'K')), NASAPolynomial(coeffs=[2.43519,0.0046464,-2.40011e-06,4.26409e-10,-2.60655e-14,-21797.2,-10.3867], Tmin=(914.58,'K'), Tmax=(5000,'K'))], Tmin=(100,'K'), Tmax=(5000,'K'), comment=\"\"\"Thermo library: surfaceThermoPt111 Binding energy corrected by LSR (0.50O) from Pt111\"\"\"), molecule=[Molecule(smiles=\"O[Pt]\")], molecular_weight=(17.0074,'amu')))], family='Surface_Abstraction_vdW', template=['O-R', '*=C=R'])),\n",
       " 'X+X+CO2<=>O*+CO*': (26970,\n",
       "  TemplateReaction(index=28, reactants=[Species(index=1, label=\"X\", thermo=NASA(polynomials=[NASAPolynomial(coeffs=[0.00710134,-4.25614e-05,8.98519e-08,-7.80181e-11,2.32462e-14,-0.876099,-0.0311209], Tmin=(100,'K'), Tmax=(1554.81,'K')), NASAPolynomial(coeffs=[0.160301,-0.000252238,1.14182e-07,-1.21474e-11,3.85809e-16,-70.8109,-0.909537], Tmin=(1554.81,'K'), Tmax=(5000,'K'))], Tmin=(100,'K'), Tmax=(5000,'K'), comment=\"\"\"Thermo library: surfaceThermoPt111 Binding energy corrected by LSR () from Pt111\"\"\"), molecule=[Molecule(smiles=\"[Pt]\")], molecular_weight=(0,'amu')), Species(index=1, label=\"X\", thermo=NASA(polynomials=[NASAPolynomial(coeffs=[0.00710134,-4.25614e-05,8.98519e-08,-7.80181e-11,2.32462e-14,-0.876099,-0.0311209], Tmin=(100,'K'), Tmax=(1554.81,'K')), NASAPolynomial(coeffs=[0.160301,-0.000252238,1.14182e-07,-1.21474e-11,3.85809e-16,-70.8109,-0.909537], Tmin=(1554.81,'K'), Tmax=(5000,'K'))], Tmin=(100,'K'), Tmax=(5000,'K'), comment=\"\"\"Thermo library: surfaceThermoPt111 Binding energy corrected by LSR () from Pt111\"\"\"), molecule=[Molecule(smiles=\"[Pt]\")], molecular_weight=(0,'amu')), Species(index=4, label=\"CO2\", thermo=NASA(polynomials=[NASAPolynomial(coeffs=[3.28084,0.00250197,8.08152e-06,-1.20505e-08,4.66519e-12,-48400.8,6.00085], Tmin=(100,'K'), Tmax=(978.23,'K')), NASAPolynomial(coeffs=[4.67431,0.00260957,-9.85649e-07,1.95704e-10,-1.49828e-14,-48951.2,-2.11097], Tmin=(978.23,'K'), Tmax=(5000,'K'))], Tmin=(100,'K'), Tmax=(5000,'K'), comment=\"\"\"Thermo library: thermo_DFT_CCSDTF12_BAC\"\"\"), molecule=[Molecule(smiles=\"O=C=O\")], molecular_weight=(44.0094,'amu'))], products=[Species(index=11, label=\"O*\", thermo=NASA(polynomials=[NASAPolynomial(coeffs=[-0.759011,0.0189868,-3.82473e-05,3.43557e-08,-1.13974e-11,-21835.6,1.76017], Tmin=(100,'K'), Tmax=(888.26,'K')), NASAPolynomial(coeffs=[1.89893,0.00203297,-1.19977e-06,2.32682e-10,-1.5351e-14,-22111.2,-9.64101], Tmin=(888.26,'K'), Tmax=(5000,'K'))], Tmin=(100,'K'), Tmax=(5000,'K'), comment=\"\"\"Thermo library: surfaceThermoPt111 Binding energy corrected by LSR (1.00O) from Pt111\"\"\"), molecule=[Molecule(smiles=\"O=[Pt]\")], molecular_weight=(15.9994,'amu')), Species(index=14, label=\"CO*\", thermo=NASA(polynomials=[NASAPolynomial(coeffs=[-1.3822,0.0375313,-8.29789e-05,8.09746e-08,-2.85492e-11,-22537,4.3547], Tmin=(100,'K'), Tmax=(891.31,'K')), NASAPolynomial(coeffs=[1.38107,0.0080569,-4.64292e-06,8.9113e-10,-5.90014e-14,-22351.4,-4.85409], Tmin=(891.31,'K'), Tmax=(5000,'K'))], Tmin=(100,'K'), Tmax=(5000,'K'), comment=\"\"\"Thermo library: surfaceThermoPt111 Binding energy corrected by LSR (0.50C) from Pt111\"\"\"), molecule=[Molecule(smiles=\"O=C=[Pt]\")], molecular_weight=(28.01,'amu'))], kinetics=StickingCoefficient(A=0.02, n=0, Ea=(10,'kcal/mol'), T0=(1,'K'), comment=\"\"\"Estimated using template [Adsorbate;VacantSite1;VacantSite2] for rate rule [CO2;VacantSite1;VacantSite2]\n",
       "  Euclidian distance = 2.0\n",
       "  Multiplied by reaction path degeneracy 2.0\n",
       "  family: Surface_Adsorption_Dissociative_Double\"\"\"), degeneracy=2.0, pairs=[(Species(index=4, label=\"CO2\", thermo=NASA(polynomials=[NASAPolynomial(coeffs=[3.28084,0.00250197,8.08152e-06,-1.20505e-08,4.66519e-12,-48400.8,6.00085], Tmin=(100,'K'), Tmax=(978.23,'K')), NASAPolynomial(coeffs=[4.67431,0.00260957,-9.85649e-07,1.95704e-10,-1.49828e-14,-48951.2,-2.11097], Tmin=(978.23,'K'), Tmax=(5000,'K'))], Tmin=(100,'K'), Tmax=(5000,'K'), comment=\"\"\"Thermo library: thermo_DFT_CCSDTF12_BAC\"\"\"), molecule=[Molecule(smiles=\"O=C=O\")], molecular_weight=(44.0094,'amu')), Species(index=14, label=\"CO*\", thermo=NASA(polynomials=[NASAPolynomial(coeffs=[-1.3822,0.0375313,-8.29789e-05,8.09746e-08,-2.85492e-11,-22537,4.3547], Tmin=(100,'K'), Tmax=(891.31,'K')), NASAPolynomial(coeffs=[1.38107,0.0080569,-4.64292e-06,8.9113e-10,-5.90014e-14,-22351.4,-4.85409], Tmin=(891.31,'K'), Tmax=(5000,'K'))], Tmin=(100,'K'), Tmax=(5000,'K'), comment=\"\"\"Thermo library: surfaceThermoPt111 Binding energy corrected by LSR (0.50C) from Pt111\"\"\"), molecule=[Molecule(smiles=\"O=C=[Pt]\")], molecular_weight=(28.01,'amu'))), (Species(index=1, label=\"X\", thermo=NASA(polynomials=[NASAPolynomial(coeffs=[0.00710134,-4.25614e-05,8.98519e-08,-7.80181e-11,2.32462e-14,-0.876099,-0.0311209], Tmin=(100,'K'), Tmax=(1554.81,'K')), NASAPolynomial(coeffs=[0.160301,-0.000252238,1.14182e-07,-1.21474e-11,3.85809e-16,-70.8109,-0.909537], Tmin=(1554.81,'K'), Tmax=(5000,'K'))], Tmin=(100,'K'), Tmax=(5000,'K'), comment=\"\"\"Thermo library: surfaceThermoPt111 Binding energy corrected by LSR () from Pt111\"\"\"), molecule=[Molecule(smiles=\"[Pt]\")], molecular_weight=(0,'amu')), Species(index=11, label=\"O*\", thermo=NASA(polynomials=[NASAPolynomial(coeffs=[-0.759011,0.0189868,-3.82473e-05,3.43557e-08,-1.13974e-11,-21835.6,1.76017], Tmin=(100,'K'), Tmax=(888.26,'K')), NASAPolynomial(coeffs=[1.89893,0.00203297,-1.19977e-06,2.32682e-10,-1.5351e-14,-22111.2,-9.64101], Tmin=(888.26,'K'), Tmax=(5000,'K'))], Tmin=(100,'K'), Tmax=(5000,'K'), comment=\"\"\"Thermo library: surfaceThermoPt111 Binding energy corrected by LSR (1.00O) from Pt111\"\"\"), molecule=[Molecule(smiles=\"O=[Pt]\")], molecular_weight=(15.9994,'amu'))), (Species(index=1, label=\"X\", thermo=NASA(polynomials=[NASAPolynomial(coeffs=[0.00710134,-4.25614e-05,8.98519e-08,-7.80181e-11,2.32462e-14,-0.876099,-0.0311209], Tmin=(100,'K'), Tmax=(1554.81,'K')), NASAPolynomial(coeffs=[0.160301,-0.000252238,1.14182e-07,-1.21474e-11,3.85809e-16,-70.8109,-0.909537], Tmin=(1554.81,'K'), Tmax=(5000,'K'))], Tmin=(100,'K'), Tmax=(5000,'K'), comment=\"\"\"Thermo library: surfaceThermoPt111 Binding energy corrected by LSR () from Pt111\"\"\"), molecule=[Molecule(smiles=\"[Pt]\")], molecular_weight=(0,'amu')), Species(index=11, label=\"O*\", thermo=NASA(polynomials=[NASAPolynomial(coeffs=[-0.759011,0.0189868,-3.82473e-05,3.43557e-08,-1.13974e-11,-21835.6,1.76017], Tmin=(100,'K'), Tmax=(888.26,'K')), NASAPolynomial(coeffs=[1.89893,0.00203297,-1.19977e-06,2.32682e-10,-1.5351e-14,-22111.2,-9.64101], Tmin=(888.26,'K'), Tmax=(5000,'K'))], Tmin=(100,'K'), Tmax=(5000,'K'), comment=\"\"\"Thermo library: surfaceThermoPt111 Binding energy corrected by LSR (1.00O) from Pt111\"\"\"), molecule=[Molecule(smiles=\"O=[Pt]\")], molecular_weight=(15.9994,'amu')))], family='Surface_Adsorption_Dissociative_Double', template=['CO2', 'VacantSite1', 'VacantSite2'])),\n",
       " 'X+CH3OH<=>CH3OH*': (29760,\n",
       "  TemplateReaction(index=27, reactants=[Species(index=1, label=\"X\", thermo=NASA(polynomials=[NASAPolynomial(coeffs=[0.00710134,-4.25614e-05,8.98519e-08,-7.80181e-11,2.32462e-14,-0.876099,-0.0311209], Tmin=(100,'K'), Tmax=(1554.81,'K')), NASAPolynomial(coeffs=[0.160301,-0.000252238,1.14182e-07,-1.21474e-11,3.85809e-16,-70.8109,-0.909537], Tmin=(1554.81,'K'), Tmax=(5000,'K'))], Tmin=(100,'K'), Tmax=(5000,'K'), comment=\"\"\"Thermo library: surfaceThermoPt111 Binding energy corrected by LSR () from Pt111\"\"\"), molecule=[Molecule(smiles=\"[Pt]\")], molecular_weight=(0,'amu')), Species(index=8, label=\"CH3OH\", thermo=NASA(polynomials=[NASAPolynomial(coeffs=[3.84006,0.00138239,1.91668e-05,-2.0157e-08,6.39108e-12,-25608.3,5.90977], Tmin=(100,'K'), Tmax=(1035.75,'K')), NASAPolynomial(coeffs=[2.79183,0.0115828,-4.51553e-06,8.2121e-10,-5.67066e-14,-25721.2,9.41069], Tmin=(1035.75,'K'), Tmax=(5000,'K'))], Tmin=(100,'K'), Tmax=(5000,'K'), comment=\"\"\"Thermo library: thermo_DFT_CCSDTF12_BAC\"\"\"), molecule=[Molecule(smiles=\"CO\")], molecular_weight=(32.0419,'amu'))], products=[Species(index=23, label=\"CH3OH*\", thermo=NASA(polynomials=[NASAPolynomial(coeffs=[-1.64013,0.040998,-6.66179e-05,6.12132e-08,-2.17744e-11,-30508.7,13.8246], Tmin=(100,'K'), Tmax=(850.39,'K')), NASAPolynomial(coeffs=[1.01843,0.0182965,-8.58971e-06,1.6223e-09,-1.10731e-13,-30592.2,3.59723], Tmin=(850.39,'K'), Tmax=(5000,'K'))], Tmin=(100,'K'), Tmax=(5000,'K'), comment=\"\"\"Thermo library: surfaceThermoPt111 Binding energy corrected by LSR () from Pt111\"\"\"), molecule=[Molecule(smiles=\"CO.[Pt]\")], molecular_weight=(32.0419,'amu'))], kinetics=StickingCoefficient(A=0.1, n=0, Ea=(0,'kcal/mol'), T0=(1,'K'), comment=\"\"\"Estimated using template [Adsorbate;VacantSite] for rate rule [O-H;VacantSite]\n",
       "  Euclidian distance = 2.0\n",
       "  family: Surface_Adsorption_vdW\"\"\"), pairs=[(Species(index=8, label=\"CH3OH\", thermo=NASA(polynomials=[NASAPolynomial(coeffs=[3.84006,0.00138239,1.91668e-05,-2.0157e-08,6.39108e-12,-25608.3,5.90977], Tmin=(100,'K'), Tmax=(1035.75,'K')), NASAPolynomial(coeffs=[2.79183,0.0115828,-4.51553e-06,8.2121e-10,-5.67066e-14,-25721.2,9.41069], Tmin=(1035.75,'K'), Tmax=(5000,'K'))], Tmin=(100,'K'), Tmax=(5000,'K'), comment=\"\"\"Thermo library: thermo_DFT_CCSDTF12_BAC\"\"\"), molecule=[Molecule(smiles=\"CO\")], molecular_weight=(32.0419,'amu')), Species(index=23, label=\"CH3OH*\", thermo=NASA(polynomials=[NASAPolynomial(coeffs=[-1.64013,0.040998,-6.66179e-05,6.12132e-08,-2.17744e-11,-30508.7,13.8246], Tmin=(100,'K'), Tmax=(850.39,'K')), NASAPolynomial(coeffs=[1.01843,0.0182965,-8.58971e-06,1.6223e-09,-1.10731e-13,-30592.2,3.59723], Tmin=(850.39,'K'), Tmax=(5000,'K'))], Tmin=(100,'K'), Tmax=(5000,'K'), comment=\"\"\"Thermo library: surfaceThermoPt111 Binding energy corrected by LSR () from Pt111\"\"\"), molecule=[Molecule(smiles=\"CO.[Pt]\")], molecular_weight=(32.0419,'amu'))), (Species(index=1, label=\"X\", thermo=NASA(polynomials=[NASAPolynomial(coeffs=[0.00710134,-4.25614e-05,8.98519e-08,-7.80181e-11,2.32462e-14,-0.876099,-0.0311209], Tmin=(100,'K'), Tmax=(1554.81,'K')), NASAPolynomial(coeffs=[0.160301,-0.000252238,1.14182e-07,-1.21474e-11,3.85809e-16,-70.8109,-0.909537], Tmin=(1554.81,'K'), Tmax=(5000,'K'))], Tmin=(100,'K'), Tmax=(5000,'K'), comment=\"\"\"Thermo library: surfaceThermoPt111 Binding energy corrected by LSR () from Pt111\"\"\"), molecule=[Molecule(smiles=\"[Pt]\")], molecular_weight=(0,'amu')), Species(index=23, label=\"CH3OH*\", thermo=NASA(polynomials=[NASAPolynomial(coeffs=[-1.64013,0.040998,-6.66179e-05,6.12132e-08,-2.17744e-11,-30508.7,13.8246], Tmin=(100,'K'), Tmax=(850.39,'K')), NASAPolynomial(coeffs=[1.01843,0.0182965,-8.58971e-06,1.6223e-09,-1.10731e-13,-30592.2,3.59723], Tmin=(850.39,'K'), Tmax=(5000,'K'))], Tmin=(100,'K'), Tmax=(5000,'K'), comment=\"\"\"Thermo library: surfaceThermoPt111 Binding energy corrected by LSR () from Pt111\"\"\"), molecule=[Molecule(smiles=\"CO.[Pt]\")], molecular_weight=(32.0419,'amu')))], family='Surface_Adsorption_vdW', template=['O-H', 'VacantSite'])),\n",
       " 'X+X+HCOOH<=>OH*+HCO*': (30856,\n",
       "  TemplateReaction(index=31, reactants=[Species(index=1, label=\"X\", thermo=NASA(polynomials=[NASAPolynomial(coeffs=[0.00710134,-4.25614e-05,8.98519e-08,-7.80181e-11,2.32462e-14,-0.876099,-0.0311209], Tmin=(100,'K'), Tmax=(1554.81,'K')), NASAPolynomial(coeffs=[0.160301,-0.000252238,1.14182e-07,-1.21474e-11,3.85809e-16,-70.8109,-0.909537], Tmin=(1554.81,'K'), Tmax=(5000,'K'))], Tmin=(100,'K'), Tmax=(5000,'K'), comment=\"\"\"Thermo library: surfaceThermoPt111 Binding energy corrected by LSR () from Pt111\"\"\"), molecule=[Molecule(smiles=\"[Pt]\")], molecular_weight=(0,'amu')), Species(index=1, label=\"X\", thermo=NASA(polynomials=[NASAPolynomial(coeffs=[0.00710134,-4.25614e-05,8.98519e-08,-7.80181e-11,2.32462e-14,-0.876099,-0.0311209], Tmin=(100,'K'), Tmax=(1554.81,'K')), NASAPolynomial(coeffs=[0.160301,-0.000252238,1.14182e-07,-1.21474e-11,3.85809e-16,-70.8109,-0.909537], Tmin=(1554.81,'K'), Tmax=(5000,'K'))], Tmin=(100,'K'), Tmax=(5000,'K'), comment=\"\"\"Thermo library: surfaceThermoPt111 Binding energy corrected by LSR () from Pt111\"\"\"), molecule=[Molecule(smiles=\"[Pt]\")], molecular_weight=(0,'amu')), Species(index=7, label=\"HCOOH\", thermo=NASA(polynomials=[NASAPolynomial(coeffs=[3.76241,-0.000943944,3.38782e-05,-4.04988e-08,1.43988e-11,-46821.2,7.63273], Tmin=(100,'K'), Tmax=(993.73,'K')), NASAPolynomial(coeffs=[5.64497,0.00755187,-3.20854e-06,6.58926e-10,-5.05061e-14,-47989,-5.43087], Tmin=(993.73,'K'), Tmax=(5000,'K'))], Tmin=(100,'K'), Tmax=(5000,'K'), comment=\"\"\"Thermo library: thermo_DFT_CCSDTF12_BAC\"\"\"), molecule=[Molecule(smiles=\"O=CO\")], molecular_weight=(46.0254,'amu'))], products=[Species(index=12, label=\"OH*\", thermo=NASA(polynomials=[NASAPolynomial(coeffs=[-1.29515,0.0336477,-7.07723e-05,6.54322e-08,-2.19413e-11,-21645.4,4.37628], Tmin=(100,'K'), Tmax=(914.58,'K')), NASAPolynomial(coeffs=[2.43519,0.0046464,-2.40011e-06,4.26409e-10,-2.60655e-14,-21797.2,-10.3867], Tmin=(914.58,'K'), Tmax=(5000,'K'))], Tmin=(100,'K'), Tmax=(5000,'K'), comment=\"\"\"Thermo library: surfaceThermoPt111 Binding energy corrected by LSR (0.50O) from Pt111\"\"\"), molecule=[Molecule(smiles=\"O[Pt]\")], molecular_weight=(17.0074,'amu')), Species(index=16, label=\"HCO*\", thermo=NASA(polynomials=[NASAPolynomial(coeffs=[-1.43681,0.0369246,-7.17912e-05,6.73544e-08,-2.35184e-11,-21694.8,8.27567], Tmin=(100,'K'), Tmax=(873.21,'K')), NASAPolynomial(coeffs=[1.83284,0.0100778,-5.28529e-06,1.01351e-09,-6.85176e-14,-21813.3,-4.46413], Tmin=(873.21,'K'), Tmax=(5000,'K'))], Tmin=(100,'K'), Tmax=(5000,'K'), comment=\"\"\"Thermo library: surfaceThermoPt111 Binding energy corrected by LSR (0.25C) from Pt111\"\"\"), molecule=[Molecule(smiles=\"O=C[Pt]\")], molecular_weight=(29.018,'amu'))], kinetics=StickingCoefficient(A=0.1, n=0, Ea=(6.912,'kcal/mol'), T0=(1,'K'), comment=\"\"\"Estimated using template [Adsorbate;VacantSite1;VacantSite2] for rate rule [O-C;VacantSite1;VacantSite2]\n",
       "  Euclidian distance = 2.0\n",
       "  family: Surface_Adsorption_Dissociative\"\"\"), pairs=[(Species(index=7, label=\"HCOOH\", thermo=NASA(polynomials=[NASAPolynomial(coeffs=[3.76241,-0.000943944,3.38782e-05,-4.04988e-08,1.43988e-11,-46821.2,7.63273], Tmin=(100,'K'), Tmax=(993.73,'K')), NASAPolynomial(coeffs=[5.64497,0.00755187,-3.20854e-06,6.58926e-10,-5.05061e-14,-47989,-5.43087], Tmin=(993.73,'K'), Tmax=(5000,'K'))], Tmin=(100,'K'), Tmax=(5000,'K'), comment=\"\"\"Thermo library: thermo_DFT_CCSDTF12_BAC\"\"\"), molecule=[Molecule(smiles=\"O=CO\")], molecular_weight=(46.0254,'amu')), Species(index=16, label=\"HCO*\", thermo=NASA(polynomials=[NASAPolynomial(coeffs=[-1.43681,0.0369246,-7.17912e-05,6.73544e-08,-2.35184e-11,-21694.8,8.27567], Tmin=(100,'K'), Tmax=(873.21,'K')), NASAPolynomial(coeffs=[1.83284,0.0100778,-5.28529e-06,1.01351e-09,-6.85176e-14,-21813.3,-4.46413], Tmin=(873.21,'K'), Tmax=(5000,'K'))], Tmin=(100,'K'), Tmax=(5000,'K'), comment=\"\"\"Thermo library: surfaceThermoPt111 Binding energy corrected by LSR (0.25C) from Pt111\"\"\"), molecule=[Molecule(smiles=\"O=C[Pt]\")], molecular_weight=(29.018,'amu'))), (Species(index=1, label=\"X\", thermo=NASA(polynomials=[NASAPolynomial(coeffs=[0.00710134,-4.25614e-05,8.98519e-08,-7.80181e-11,2.32462e-14,-0.876099,-0.0311209], Tmin=(100,'K'), Tmax=(1554.81,'K')), NASAPolynomial(coeffs=[0.160301,-0.000252238,1.14182e-07,-1.21474e-11,3.85809e-16,-70.8109,-0.909537], Tmin=(1554.81,'K'), Tmax=(5000,'K'))], Tmin=(100,'K'), Tmax=(5000,'K'), comment=\"\"\"Thermo library: surfaceThermoPt111 Binding energy corrected by LSR () from Pt111\"\"\"), molecule=[Molecule(smiles=\"[Pt]\")], molecular_weight=(0,'amu')), Species(index=12, label=\"OH*\", thermo=NASA(polynomials=[NASAPolynomial(coeffs=[-1.29515,0.0336477,-7.07723e-05,6.54322e-08,-2.19413e-11,-21645.4,4.37628], Tmin=(100,'K'), Tmax=(914.58,'K')), NASAPolynomial(coeffs=[2.43519,0.0046464,-2.40011e-06,4.26409e-10,-2.60655e-14,-21797.2,-10.3867], Tmin=(914.58,'K'), Tmax=(5000,'K'))], Tmin=(100,'K'), Tmax=(5000,'K'), comment=\"\"\"Thermo library: surfaceThermoPt111 Binding energy corrected by LSR (0.50O) from Pt111\"\"\"), molecule=[Molecule(smiles=\"O[Pt]\")], molecular_weight=(17.0074,'amu'))), (Species(index=1, label=\"X\", thermo=NASA(polynomials=[NASAPolynomial(coeffs=[0.00710134,-4.25614e-05,8.98519e-08,-7.80181e-11,2.32462e-14,-0.876099,-0.0311209], Tmin=(100,'K'), Tmax=(1554.81,'K')), NASAPolynomial(coeffs=[0.160301,-0.000252238,1.14182e-07,-1.21474e-11,3.85809e-16,-70.8109,-0.909537], Tmin=(1554.81,'K'), Tmax=(5000,'K'))], Tmin=(100,'K'), Tmax=(5000,'K'), comment=\"\"\"Thermo library: surfaceThermoPt111 Binding energy corrected by LSR () from Pt111\"\"\"), molecule=[Molecule(smiles=\"[Pt]\")], molecular_weight=(0,'amu')), Species(index=12, label=\"OH*\", thermo=NASA(polynomials=[NASAPolynomial(coeffs=[-1.29515,0.0336477,-7.07723e-05,6.54322e-08,-2.19413e-11,-21645.4,4.37628], Tmin=(100,'K'), Tmax=(914.58,'K')), NASAPolynomial(coeffs=[2.43519,0.0046464,-2.40011e-06,4.26409e-10,-2.60655e-14,-21797.2,-10.3867], Tmin=(914.58,'K'), Tmax=(5000,'K'))], Tmin=(100,'K'), Tmax=(5000,'K'), comment=\"\"\"Thermo library: surfaceThermoPt111 Binding energy corrected by LSR (0.50O) from Pt111\"\"\"), molecule=[Molecule(smiles=\"O[Pt]\")], molecular_weight=(17.0074,'amu')))], family='Surface_Adsorption_Dissociative', template=['O-C', 'VacantSite1', 'VacantSite2'])),\n",
       " 'X+CH2O<=>CH2O*': (32736,\n",
       "  TemplateReaction(index=23, reactants=[Species(index=1, label=\"X\", thermo=NASA(polynomials=[NASAPolynomial(coeffs=[0.00710134,-4.25614e-05,8.98519e-08,-7.80181e-11,2.32462e-14,-0.876099,-0.0311209], Tmin=(100,'K'), Tmax=(1554.81,'K')), NASAPolynomial(coeffs=[0.160301,-0.000252238,1.14182e-07,-1.21474e-11,3.85809e-16,-70.8109,-0.909537], Tmin=(1554.81,'K'), Tmax=(5000,'K'))], Tmin=(100,'K'), Tmax=(5000,'K'), comment=\"\"\"Thermo library: surfaceThermoPt111 Binding energy corrected by LSR () from Pt111\"\"\"), molecule=[Molecule(smiles=\"[Pt]\")], molecular_weight=(0,'amu')), Species(index=6, label=\"CH2O\", thermo=NASA(polynomials=[NASAPolynomial(coeffs=[4.12927,-0.00408397,2.03228e-05,-1.83522e-08,5.37968e-12,-14429.5,3.2242], Tmin=(100,'K'), Tmax=(1070.44,'K')), NASAPolynomial(coeffs=[2.21175,0.00794262,-3.34191e-06,6.28467e-10,-4.40428e-14,-14297.5,11.3048], Tmin=(1070.44,'K'), Tmax=(5000,'K'))], Tmin=(100,'K'), Tmax=(5000,'K'), comment=\"\"\"Thermo library: thermo_DFT_CCSDTF12_BAC\"\"\"), molecule=[Molecule(smiles=\"C=O\")], molecular_weight=(30.026,'amu'))], products=[Species(index=20, label=\"CH2O*\", thermo=NASA(polynomials=[NASAPolynomial(coeffs=[-1.46696,0.041387,-8.87611e-05,9.10103e-08,-3.36603e-11,-20300.2,15.7178], Tmin=(100,'K'), Tmax=(879.32,'K')), NASAPolynomial(coeffs=[-0.892954,0.0166197,-8.71599e-06,1.66817e-09,-1.12505e-13,-19544.6,17.893], Tmin=(879.32,'K'), Tmax=(5000,'K'))], Tmin=(100,'K'), Tmax=(5000,'K'), comment=\"\"\"Thermo library: surfaceThermoPt111 Binding energy corrected by LSR () from Pt111\"\"\"), molecule=[Molecule(smiles=\"C=O.[Pt]\")], molecular_weight=(30.026,'amu'))], kinetics=StickingCoefficient(A=0.1, n=0, Ea=(0,'kcal/mol'), T0=(1,'K'), comment=\"\"\"Estimated using template [Adsorbate;VacantSite] for rate rule [O;VacantSite]\n",
       "  Euclidian distance = 1.0\n",
       "  family: Surface_Adsorption_vdW\"\"\"), pairs=[(Species(index=6, label=\"CH2O\", thermo=NASA(polynomials=[NASAPolynomial(coeffs=[4.12927,-0.00408397,2.03228e-05,-1.83522e-08,5.37968e-12,-14429.5,3.2242], Tmin=(100,'K'), Tmax=(1070.44,'K')), NASAPolynomial(coeffs=[2.21175,0.00794262,-3.34191e-06,6.28467e-10,-4.40428e-14,-14297.5,11.3048], Tmin=(1070.44,'K'), Tmax=(5000,'K'))], Tmin=(100,'K'), Tmax=(5000,'K'), comment=\"\"\"Thermo library: thermo_DFT_CCSDTF12_BAC\"\"\"), molecule=[Molecule(smiles=\"C=O\")], molecular_weight=(30.026,'amu')), Species(index=20, label=\"CH2O*\", thermo=NASA(polynomials=[NASAPolynomial(coeffs=[-1.46696,0.041387,-8.87611e-05,9.10103e-08,-3.36603e-11,-20300.2,15.7178], Tmin=(100,'K'), Tmax=(879.32,'K')), NASAPolynomial(coeffs=[-0.892954,0.0166197,-8.71599e-06,1.66817e-09,-1.12505e-13,-19544.6,17.893], Tmin=(879.32,'K'), Tmax=(5000,'K'))], Tmin=(100,'K'), Tmax=(5000,'K'), comment=\"\"\"Thermo library: surfaceThermoPt111 Binding energy corrected by LSR () from Pt111\"\"\"), molecule=[Molecule(smiles=\"C=O.[Pt]\")], molecular_weight=(30.026,'amu'))), (Species(index=1, label=\"X\", thermo=NASA(polynomials=[NASAPolynomial(coeffs=[0.00710134,-4.25614e-05,8.98519e-08,-7.80181e-11,2.32462e-14,-0.876099,-0.0311209], Tmin=(100,'K'), Tmax=(1554.81,'K')), NASAPolynomial(coeffs=[0.160301,-0.000252238,1.14182e-07,-1.21474e-11,3.85809e-16,-70.8109,-0.909537], Tmin=(1554.81,'K'), Tmax=(5000,'K'))], Tmin=(100,'K'), Tmax=(5000,'K'), comment=\"\"\"Thermo library: surfaceThermoPt111 Binding energy corrected by LSR () from Pt111\"\"\"), molecule=[Molecule(smiles=\"[Pt]\")], molecular_weight=(0,'amu')), Species(index=20, label=\"CH2O*\", thermo=NASA(polynomials=[NASAPolynomial(coeffs=[-1.46696,0.041387,-8.87611e-05,9.10103e-08,-3.36603e-11,-20300.2,15.7178], Tmin=(100,'K'), Tmax=(879.32,'K')), NASAPolynomial(coeffs=[-0.892954,0.0166197,-8.71599e-06,1.66817e-09,-1.12505e-13,-19544.6,17.893], Tmin=(879.32,'K'), Tmax=(5000,'K'))], Tmin=(100,'K'), Tmax=(5000,'K'), comment=\"\"\"Thermo library: surfaceThermoPt111 Binding energy corrected by LSR () from Pt111\"\"\"), molecule=[Molecule(smiles=\"C=O.[Pt]\")], molecular_weight=(30.026,'amu')))], family='Surface_Adsorption_vdW', template=['O', 'VacantSite'])),\n",
       " 'X+HCOOH<=>HCOOH*': (35904,\n",
       "  TemplateReaction(index=22, reactants=[Species(index=1, label=\"X\", thermo=NASA(polynomials=[NASAPolynomial(coeffs=[0.00710134,-4.25614e-05,8.98519e-08,-7.80181e-11,2.32462e-14,-0.876099,-0.0311209], Tmin=(100,'K'), Tmax=(1554.81,'K')), NASAPolynomial(coeffs=[0.160301,-0.000252238,1.14182e-07,-1.21474e-11,3.85809e-16,-70.8109,-0.909537], Tmin=(1554.81,'K'), Tmax=(5000,'K'))], Tmin=(100,'K'), Tmax=(5000,'K'), comment=\"\"\"Thermo library: surfaceThermoPt111 Binding energy corrected by LSR () from Pt111\"\"\"), molecule=[Molecule(smiles=\"[Pt]\")], molecular_weight=(0,'amu')), Species(index=7, label=\"HCOOH\", thermo=NASA(polynomials=[NASAPolynomial(coeffs=[3.76241,-0.000943944,3.38782e-05,-4.04988e-08,1.43988e-11,-46821.2,7.63273], Tmin=(100,'K'), Tmax=(993.73,'K')), NASAPolynomial(coeffs=[5.64497,0.00755187,-3.20854e-06,6.58926e-10,-5.05061e-14,-47989,-5.43087], Tmin=(993.73,'K'), Tmax=(5000,'K'))], Tmin=(100,'K'), Tmax=(5000,'K'), comment=\"\"\"Thermo library: thermo_DFT_CCSDTF12_BAC\"\"\"), molecule=[Molecule(smiles=\"O=CO\")], molecular_weight=(46.0254,'amu'))], products=[Species(index=19, label=\"HCOOH*\", thermo=NASA(polynomials=[NASAPolynomial(coeffs=[-1.86631,0.0464163,-8.23154e-05,7.46389e-08,-2.57972e-11,-53276.8,17.2793], Tmin=(100,'K'), Tmax=(855.72,'K')), NASAPolynomial(coeffs=[2.69761,0.0143101,-7.15296e-06,1.37054e-09,-9.36325e-14,-53663.5,-1.7233], Tmin=(855.72,'K'), Tmax=(5000,'K'))], Tmin=(100,'K'), Tmax=(5000,'K'), comment=\"\"\"Thermo library: surfaceThermoPt111 Binding energy corrected by LSR () from Pt111\"\"\"), molecule=[Molecule(smiles=\"O=CO.[Pt]\")], molecular_weight=(46.0254,'amu'))], kinetics=StickingCoefficient(A=0.1, n=0, Ea=(0,'kcal/mol'), T0=(1,'K'), comment=\"\"\"Estimated using template [Adsorbate;VacantSite] for rate rule [O-H;VacantSite]\n",
       "  Euclidian distance = 2.0\n",
       "  family: Surface_Adsorption_vdW\"\"\"), pairs=[(Species(index=7, label=\"HCOOH\", thermo=NASA(polynomials=[NASAPolynomial(coeffs=[3.76241,-0.000943944,3.38782e-05,-4.04988e-08,1.43988e-11,-46821.2,7.63273], Tmin=(100,'K'), Tmax=(993.73,'K')), NASAPolynomial(coeffs=[5.64497,0.00755187,-3.20854e-06,6.58926e-10,-5.05061e-14,-47989,-5.43087], Tmin=(993.73,'K'), Tmax=(5000,'K'))], Tmin=(100,'K'), Tmax=(5000,'K'), comment=\"\"\"Thermo library: thermo_DFT_CCSDTF12_BAC\"\"\"), molecule=[Molecule(smiles=\"O=CO\")], molecular_weight=(46.0254,'amu')), Species(index=19, label=\"HCOOH*\", thermo=NASA(polynomials=[NASAPolynomial(coeffs=[-1.86631,0.0464163,-8.23154e-05,7.46389e-08,-2.57972e-11,-53276.8,17.2793], Tmin=(100,'K'), Tmax=(855.72,'K')), NASAPolynomial(coeffs=[2.69761,0.0143101,-7.15296e-06,1.37054e-09,-9.36325e-14,-53663.5,-1.7233], Tmin=(855.72,'K'), Tmax=(5000,'K'))], Tmin=(100,'K'), Tmax=(5000,'K'), comment=\"\"\"Thermo library: surfaceThermoPt111 Binding energy corrected by LSR () from Pt111\"\"\"), molecule=[Molecule(smiles=\"O=CO.[Pt]\")], molecular_weight=(46.0254,'amu'))), (Species(index=1, label=\"X\", thermo=NASA(polynomials=[NASAPolynomial(coeffs=[0.00710134,-4.25614e-05,8.98519e-08,-7.80181e-11,2.32462e-14,-0.876099,-0.0311209], Tmin=(100,'K'), Tmax=(1554.81,'K')), NASAPolynomial(coeffs=[0.160301,-0.000252238,1.14182e-07,-1.21474e-11,3.85809e-16,-70.8109,-0.909537], Tmin=(1554.81,'K'), Tmax=(5000,'K'))], Tmin=(100,'K'), Tmax=(5000,'K'), comment=\"\"\"Thermo library: surfaceThermoPt111 Binding energy corrected by LSR () from Pt111\"\"\"), molecule=[Molecule(smiles=\"[Pt]\")], molecular_weight=(0,'amu')), Species(index=19, label=\"HCOOH*\", thermo=NASA(polynomials=[NASAPolynomial(coeffs=[-1.86631,0.0464163,-8.23154e-05,7.46389e-08,-2.57972e-11,-53276.8,17.2793], Tmin=(100,'K'), Tmax=(855.72,'K')), NASAPolynomial(coeffs=[2.69761,0.0143101,-7.15296e-06,1.37054e-09,-9.36325e-14,-53663.5,-1.7233], Tmin=(855.72,'K'), Tmax=(5000,'K'))], Tmin=(100,'K'), Tmax=(5000,'K'), comment=\"\"\"Thermo library: surfaceThermoPt111 Binding energy corrected by LSR () from Pt111\"\"\"), molecule=[Molecule(smiles=\"O=CO.[Pt]\")], molecular_weight=(46.0254,'amu')))], family='Surface_Adsorption_vdW', template=['O-H', 'VacantSite'])),\n",
       " 'X+CO2<=>CO2*': (39270,\n",
       "  LibraryReaction(index=16, reactants=[Species(index=1, label=\"X\", thermo=NASA(polynomials=[NASAPolynomial(coeffs=[0.00710134,-4.25614e-05,8.98519e-08,-7.80181e-11,2.32462e-14,-0.876099,-0.0311209], Tmin=(100,'K'), Tmax=(1554.81,'K')), NASAPolynomial(coeffs=[0.160301,-0.000252238,1.14182e-07,-1.21474e-11,3.85809e-16,-70.8109,-0.909537], Tmin=(1554.81,'K'), Tmax=(5000,'K'))], Tmin=(100,'K'), Tmax=(5000,'K'), comment=\"\"\"Thermo library: surfaceThermoPt111 Binding energy corrected by LSR () from Pt111\"\"\"), molecule=[Molecule(smiles=\"[Pt]\")], molecular_weight=(0,'amu')), Species(index=4, label=\"CO2\", thermo=NASA(polynomials=[NASAPolynomial(coeffs=[3.28084,0.00250197,8.08152e-06,-1.20505e-08,4.66519e-12,-48400.8,6.00085], Tmin=(100,'K'), Tmax=(978.23,'K')), NASAPolynomial(coeffs=[4.67431,0.00260957,-9.85649e-07,1.95704e-10,-1.49828e-14,-48951.2,-2.11097], Tmin=(978.23,'K'), Tmax=(5000,'K'))], Tmin=(100,'K'), Tmax=(5000,'K'), comment=\"\"\"Thermo library: thermo_DFT_CCSDTF12_BAC\"\"\"), molecule=[Molecule(smiles=\"O=C=O\")], molecular_weight=(44.0094,'amu'))], products=[Species(index=15, label=\"CO2*\", thermo=NASA(polynomials=[NASAPolynomial(coeffs=[-1.46243,0.0378466,-7.61204e-05,7.18293e-08,-2.50671e-11,-52421.8,12.0603], Tmin=(100,'K'), Tmax=(875.19,'K')), NASAPolynomial(coeffs=[2.04184,0.00907415,-4.94344e-06,9.56512e-10,-6.46927e-14,-52546.6,-1.5876], Tmin=(875.19,'K'), Tmax=(5000,'K'))], Tmin=(100,'K'), Tmax=(5000,'K'), comment=\"\"\"Thermo library: surfaceThermoPt111 Binding energy corrected by LSR () from Pt111\"\"\"), molecule=[Molecule(smiles=\"O=C=O.[Pt]\")], molecular_weight=(44.0094,'amu'))], kinetics=StickingCoefficient(A=0.005, n=0, Ea=(0,'kcal/mol'), T0=(1,'K')), pairs=[(Species(index=1, label=\"X\", thermo=NASA(polynomials=[NASAPolynomial(coeffs=[0.00710134,-4.25614e-05,8.98519e-08,-7.80181e-11,2.32462e-14,-0.876099,-0.0311209], Tmin=(100,'K'), Tmax=(1554.81,'K')), NASAPolynomial(coeffs=[0.160301,-0.000252238,1.14182e-07,-1.21474e-11,3.85809e-16,-70.8109,-0.909537], Tmin=(1554.81,'K'), Tmax=(5000,'K'))], Tmin=(100,'K'), Tmax=(5000,'K'), comment=\"\"\"Thermo library: surfaceThermoPt111 Binding energy corrected by LSR () from Pt111\"\"\"), molecule=[Molecule(smiles=\"[Pt]\")], molecular_weight=(0,'amu')), Species(index=15, label=\"CO2*\", thermo=NASA(polynomials=[NASAPolynomial(coeffs=[-1.46243,0.0378466,-7.61204e-05,7.18293e-08,-2.50671e-11,-52421.8,12.0603], Tmin=(100,'K'), Tmax=(875.19,'K')), NASAPolynomial(coeffs=[2.04184,0.00907415,-4.94344e-06,9.56512e-10,-6.46927e-14,-52546.6,-1.5876], Tmin=(875.19,'K'), Tmax=(5000,'K'))], Tmin=(100,'K'), Tmax=(5000,'K'), comment=\"\"\"Thermo library: surfaceThermoPt111 Binding energy corrected by LSR () from Pt111\"\"\"), molecule=[Molecule(smiles=\"O=C=O.[Pt]\")], molecular_weight=(44.0094,'amu'))), (Species(index=4, label=\"CO2\", thermo=NASA(polynomials=[NASAPolynomial(coeffs=[3.28084,0.00250197,8.08152e-06,-1.20505e-08,4.66519e-12,-48400.8,6.00085], Tmin=(100,'K'), Tmax=(978.23,'K')), NASAPolynomial(coeffs=[4.67431,0.00260957,-9.85649e-07,1.95704e-10,-1.49828e-14,-48951.2,-2.11097], Tmin=(978.23,'K'), Tmax=(5000,'K'))], Tmin=(100,'K'), Tmax=(5000,'K'), comment=\"\"\"Thermo library: thermo_DFT_CCSDTF12_BAC\"\"\"), molecule=[Molecule(smiles=\"O=C=O\")], molecular_weight=(44.0094,'amu')), Species(index=15, label=\"CO2*\", thermo=NASA(polynomials=[NASAPolynomial(coeffs=[-1.46243,0.0378466,-7.61204e-05,7.18293e-08,-2.50671e-11,-52421.8,12.0603], Tmin=(100,'K'), Tmax=(875.19,'K')), NASAPolynomial(coeffs=[2.04184,0.00907415,-4.94344e-06,9.56512e-10,-6.46927e-14,-52546.6,-1.5876], Tmin=(875.19,'K'), Tmax=(5000,'K'))], Tmin=(100,'K'), Tmax=(5000,'K'), comment=\"\"\"Thermo library: surfaceThermoPt111 Binding energy corrected by LSR () from Pt111\"\"\"), molecule=[Molecule(smiles=\"O=C=O.[Pt]\")], molecular_weight=(44.0094,'amu')))])),\n",
       " 'X+H2O<=>H2O*': (42840,\n",
       "  LibraryReaction(index=12, reactants=[Species(index=1, label=\"X\", thermo=NASA(polynomials=[NASAPolynomial(coeffs=[0.00710134,-4.25614e-05,8.98519e-08,-7.80181e-11,2.32462e-14,-0.876099,-0.0311209], Tmin=(100,'K'), Tmax=(1554.81,'K')), NASAPolynomial(coeffs=[0.160301,-0.000252238,1.14182e-07,-1.21474e-11,3.85809e-16,-70.8109,-0.909537], Tmin=(1554.81,'K'), Tmax=(5000,'K'))], Tmin=(100,'K'), Tmax=(5000,'K'), comment=\"\"\"Thermo library: surfaceThermoPt111 Binding energy corrected by LSR () from Pt111\"\"\"), molecule=[Molecule(smiles=\"[Pt]\")], molecular_weight=(0,'amu')), Species(index=5, label=\"H2O\", thermo=NASA(polynomials=[NASAPolynomial(coeffs=[4.05764,-0.000787932,2.90876e-06,-1.47518e-09,2.12838e-13,-30281.6,-0.311363], Tmin=(100,'K'), Tmax=(1130.24,'K')), NASAPolynomial(coeffs=[2.84325,0.00275108,-7.8103e-07,1.07243e-10,-5.79389e-15,-29958.6,5.91041], Tmin=(1130.24,'K'), Tmax=(5000,'K'))], Tmin=(100,'K'), Tmax=(5000,'K'), comment=\"\"\"Thermo library: primaryThermoLibrary\"\"\"), molecule=[Molecule(smiles=\"O\")], molecular_weight=(18.0153,'amu'))], products=[Species(index=13, label=\"H2O*\", thermo=NASA(polynomials=[NASAPolynomial(coeffs=[-1.3434,0.0366695,-7.9948e-05,7.74125e-08,-2.68665e-11,-32349,11.0238], Tmin=(100,'K'), Tmax=(912.85,'K')), NASAPolynomial(coeffs=[1.12159,0.0081664,-4.02358e-06,7.20421e-10,-4.51443e-14,-32061.5,3.39616], Tmin=(912.85,'K'), Tmax=(5000,'K'))], Tmin=(100,'K'), Tmax=(5000,'K'), comment=\"\"\"Thermo library: surfaceThermoPt111 Binding energy corrected by LSR () from Pt111\"\"\"), molecule=[Molecule(smiles=\"O.[Pt]\")], molecular_weight=(18.0153,'amu'))], kinetics=StickingCoefficient(A=0.75, n=0, Ea=(0,'kcal/mol'), T0=(1,'K')), pairs=[(Species(index=1, label=\"X\", thermo=NASA(polynomials=[NASAPolynomial(coeffs=[0.00710134,-4.25614e-05,8.98519e-08,-7.80181e-11,2.32462e-14,-0.876099,-0.0311209], Tmin=(100,'K'), Tmax=(1554.81,'K')), NASAPolynomial(coeffs=[0.160301,-0.000252238,1.14182e-07,-1.21474e-11,3.85809e-16,-70.8109,-0.909537], Tmin=(1554.81,'K'), Tmax=(5000,'K'))], Tmin=(100,'K'), Tmax=(5000,'K'), comment=\"\"\"Thermo library: surfaceThermoPt111 Binding energy corrected by LSR () from Pt111\"\"\"), molecule=[Molecule(smiles=\"[Pt]\")], molecular_weight=(0,'amu')), Species(index=13, label=\"H2O*\", thermo=NASA(polynomials=[NASAPolynomial(coeffs=[-1.3434,0.0366695,-7.9948e-05,7.74125e-08,-2.68665e-11,-32349,11.0238], Tmin=(100,'K'), Tmax=(912.85,'K')), NASAPolynomial(coeffs=[1.12159,0.0081664,-4.02358e-06,7.20421e-10,-4.51443e-14,-32061.5,3.39616], Tmin=(912.85,'K'), Tmax=(5000,'K'))], Tmin=(100,'K'), Tmax=(5000,'K'), comment=\"\"\"Thermo library: surfaceThermoPt111 Binding energy corrected by LSR () from Pt111\"\"\"), molecule=[Molecule(smiles=\"O.[Pt]\")], molecular_weight=(18.0153,'amu'))), (Species(index=5, label=\"H2O\", thermo=NASA(polynomials=[NASAPolynomial(coeffs=[4.05764,-0.000787932,2.90876e-06,-1.47518e-09,2.12838e-13,-30281.6,-0.311363], Tmin=(100,'K'), Tmax=(1130.24,'K')), NASAPolynomial(coeffs=[2.84325,0.00275108,-7.8103e-07,1.07243e-10,-5.79389e-15,-29958.6,5.91041], Tmin=(1130.24,'K'), Tmax=(5000,'K'))], Tmin=(100,'K'), Tmax=(5000,'K'), comment=\"\"\"Thermo library: primaryThermoLibrary\"\"\"), molecule=[Molecule(smiles=\"O\")], molecular_weight=(18.0153,'amu')), Species(index=13, label=\"H2O*\", thermo=NASA(polynomials=[NASAPolynomial(coeffs=[-1.3434,0.0366695,-7.9948e-05,7.74125e-08,-2.68665e-11,-32349,11.0238], Tmin=(100,'K'), Tmax=(912.85,'K')), NASAPolynomial(coeffs=[1.12159,0.0081664,-4.02358e-06,7.20421e-10,-4.51443e-14,-32061.5,3.39616], Tmin=(912.85,'K'), Tmax=(5000,'K'))], Tmin=(100,'K'), Tmax=(5000,'K'), comment=\"\"\"Thermo library: surfaceThermoPt111 Binding energy corrected by LSR () from Pt111\"\"\"), molecule=[Molecule(smiles=\"O.[Pt]\")], molecular_weight=(18.0153,'amu')))])),\n",
       " 'X+X+H2<=>H*+H*': (46620,\n",
       "  LibraryReaction(index=10, reactants=[Species(index=1, label=\"X\", thermo=NASA(polynomials=[NASAPolynomial(coeffs=[0.00710134,-4.25614e-05,8.98519e-08,-7.80181e-11,2.32462e-14,-0.876099,-0.0311209], Tmin=(100,'K'), Tmax=(1554.81,'K')), NASAPolynomial(coeffs=[0.160301,-0.000252238,1.14182e-07,-1.21474e-11,3.85809e-16,-70.8109,-0.909537], Tmin=(1554.81,'K'), Tmax=(5000,'K'))], Tmin=(100,'K'), Tmax=(5000,'K'), comment=\"\"\"Thermo library: surfaceThermoPt111 Binding energy corrected by LSR () from Pt111\"\"\"), molecule=[Molecule(smiles=\"[Pt]\")], molecular_weight=(0,'amu')), Species(index=1, label=\"X\", thermo=NASA(polynomials=[NASAPolynomial(coeffs=[0.00710134,-4.25614e-05,8.98519e-08,-7.80181e-11,2.32462e-14,-0.876099,-0.0311209], Tmin=(100,'K'), Tmax=(1554.81,'K')), NASAPolynomial(coeffs=[0.160301,-0.000252238,1.14182e-07,-1.21474e-11,3.85809e-16,-70.8109,-0.909537], Tmin=(1554.81,'K'), Tmax=(5000,'K'))], Tmin=(100,'K'), Tmax=(5000,'K'), comment=\"\"\"Thermo library: surfaceThermoPt111 Binding energy corrected by LSR () from Pt111\"\"\"), molecule=[Molecule(smiles=\"[Pt]\")], molecular_weight=(0,'amu')), Species(index=2, label=\"H2\", thermo=NASA(polynomials=[NASAPolynomial(coeffs=[3.43536,0.000212712,-2.78628e-07,3.4027e-10,-7.76039e-14,-1031.36,-3.90842], Tmin=(100,'K'), Tmax=(1959.07,'K')), NASAPolynomial(coeffs=[2.78818,0.000587618,1.59021e-07,-5.52761e-11,4.34327e-15,-596.155,0.112626], Tmin=(1959.07,'K'), Tmax=(5000,'K'))], Tmin=(100,'K'), Tmax=(5000,'K'), comment=\"\"\"Thermo library: primaryThermoLibrary\"\"\"), molecule=[Molecule(smiles=\"[H][H]\")], molecular_weight=(2.01594,'amu'))], products=[Species(index=10, label=\"H*\", thermo=NASA(polynomials=[NASAPolynomial(coeffs=[-0.380966,0.00547229,2.60912e-06,-9.6496e-09,4.63946e-12,-1405.57,1.01726], Tmin=(100,'K'), Tmax=(952.91,'K')), NASAPolynomial(coeffs=[2.8034,-0.000541049,4.99509e-07,-7.54966e-11,3.06774e-15,-2346.32,-15.9437], Tmin=(952.91,'K'), Tmax=(5000,'K'))], Tmin=(100,'K'), Tmax=(5000,'K'), comment=\"\"\"Thermo library: surfaceThermoPt111 Binding energy corrected by LSR (1.00H) from Pt111\"\"\"), molecule=[Molecule(smiles=\"[Pt]\")], molecular_weight=(1.00797,'amu')), Species(index=10, label=\"H*\", thermo=NASA(polynomials=[NASAPolynomial(coeffs=[-0.380966,0.00547229,2.60912e-06,-9.6496e-09,4.63946e-12,-1405.57,1.01726], Tmin=(100,'K'), Tmax=(952.91,'K')), NASAPolynomial(coeffs=[2.8034,-0.000541049,4.99509e-07,-7.54966e-11,3.06774e-15,-2346.32,-15.9437], Tmin=(952.91,'K'), Tmax=(5000,'K'))], Tmin=(100,'K'), Tmax=(5000,'K'), comment=\"\"\"Thermo library: surfaceThermoPt111 Binding energy corrected by LSR (1.00H) from Pt111\"\"\"), molecule=[Molecule(smiles=\"[Pt]\")], molecular_weight=(1.00797,'amu'))], kinetics=StickingCoefficient(A=0.046, n=0, Ea=(0,'kcal/mol'), T0=(1,'K')), pairs=[(Species(index=2, label=\"H2\", thermo=NASA(polynomials=[NASAPolynomial(coeffs=[3.43536,0.000212712,-2.78628e-07,3.4027e-10,-7.76039e-14,-1031.36,-3.90842], Tmin=(100,'K'), Tmax=(1959.07,'K')), NASAPolynomial(coeffs=[2.78818,0.000587618,1.59021e-07,-5.52761e-11,4.34327e-15,-596.155,0.112626], Tmin=(1959.07,'K'), Tmax=(5000,'K'))], Tmin=(100,'K'), Tmax=(5000,'K'), comment=\"\"\"Thermo library: primaryThermoLibrary\"\"\"), molecule=[Molecule(smiles=\"[H][H]\")], molecular_weight=(2.01594,'amu')), Species(index=10, label=\"H*\", thermo=NASA(polynomials=[NASAPolynomial(coeffs=[-0.380966,0.00547229,2.60912e-06,-9.6496e-09,4.63946e-12,-1405.57,1.01726], Tmin=(100,'K'), Tmax=(952.91,'K')), NASAPolynomial(coeffs=[2.8034,-0.000541049,4.99509e-07,-7.54966e-11,3.06774e-15,-2346.32,-15.9437], Tmin=(952.91,'K'), Tmax=(5000,'K'))], Tmin=(100,'K'), Tmax=(5000,'K'), comment=\"\"\"Thermo library: surfaceThermoPt111 Binding energy corrected by LSR (1.00H) from Pt111\"\"\"), molecule=[Molecule(smiles=\"[Pt]\")], molecular_weight=(1.00797,'amu'))), (Species(index=1, label=\"X\", thermo=NASA(polynomials=[NASAPolynomial(coeffs=[0.00710134,-4.25614e-05,8.98519e-08,-7.80181e-11,2.32462e-14,-0.876099,-0.0311209], Tmin=(100,'K'), Tmax=(1554.81,'K')), NASAPolynomial(coeffs=[0.160301,-0.000252238,1.14182e-07,-1.21474e-11,3.85809e-16,-70.8109,-0.909537], Tmin=(1554.81,'K'), Tmax=(5000,'K'))], Tmin=(100,'K'), Tmax=(5000,'K'), comment=\"\"\"Thermo library: surfaceThermoPt111 Binding energy corrected by LSR () from Pt111\"\"\"), molecule=[Molecule(smiles=\"[Pt]\")], molecular_weight=(0,'amu')), Species(index=10, label=\"H*\", thermo=NASA(polynomials=[NASAPolynomial(coeffs=[-0.380966,0.00547229,2.60912e-06,-9.6496e-09,4.63946e-12,-1405.57,1.01726], Tmin=(100,'K'), Tmax=(952.91,'K')), NASAPolynomial(coeffs=[2.8034,-0.000541049,4.99509e-07,-7.54966e-11,3.06774e-15,-2346.32,-15.9437], Tmin=(952.91,'K'), Tmax=(5000,'K'))], Tmin=(100,'K'), Tmax=(5000,'K'), comment=\"\"\"Thermo library: surfaceThermoPt111 Binding energy corrected by LSR (1.00H) from Pt111\"\"\"), molecule=[Molecule(smiles=\"[Pt]\")], molecular_weight=(1.00797,'amu'))), (Species(index=1, label=\"X\", thermo=NASA(polynomials=[NASAPolynomial(coeffs=[0.00710134,-4.25614e-05,8.98519e-08,-7.80181e-11,2.32462e-14,-0.876099,-0.0311209], Tmin=(100,'K'), Tmax=(1554.81,'K')), NASAPolynomial(coeffs=[0.160301,-0.000252238,1.14182e-07,-1.21474e-11,3.85809e-16,-70.8109,-0.909537], Tmin=(1554.81,'K'), Tmax=(5000,'K'))], Tmin=(100,'K'), Tmax=(5000,'K'), comment=\"\"\"Thermo library: surfaceThermoPt111 Binding energy corrected by LSR () from Pt111\"\"\"), molecule=[Molecule(smiles=\"[Pt]\")], molecular_weight=(0,'amu')), Species(index=10, label=\"H*\", thermo=NASA(polynomials=[NASAPolynomial(coeffs=[-0.380966,0.00547229,2.60912e-06,-9.6496e-09,4.63946e-12,-1405.57,1.01726], Tmin=(100,'K'), Tmax=(952.91,'K')), NASAPolynomial(coeffs=[2.8034,-0.000541049,4.99509e-07,-7.54966e-11,3.06774e-15,-2346.32,-15.9437], Tmin=(952.91,'K'), Tmax=(5000,'K'))], Tmin=(100,'K'), Tmax=(5000,'K'), comment=\"\"\"Thermo library: surfaceThermoPt111 Binding energy corrected by LSR (1.00H) from Pt111\"\"\"), molecule=[Molecule(smiles=\"[Pt]\")], molecular_weight=(1.00797,'amu')))])),\n",
       " 'CO*+HCOOH*<=>HCO*+COOH*': (142514491392000,\n",
       "  TemplateReaction(index=98, reactants=[Species(index=14, label=\"CO*\", thermo=NASA(polynomials=[NASAPolynomial(coeffs=[-1.3822,0.0375313,-8.29789e-05,8.09746e-08,-2.85492e-11,-22537,4.3547], Tmin=(100,'K'), Tmax=(891.31,'K')), NASAPolynomial(coeffs=[1.38107,0.0080569,-4.64292e-06,8.9113e-10,-5.90014e-14,-22351.4,-4.85409], Tmin=(891.31,'K'), Tmax=(5000,'K'))], Tmin=(100,'K'), Tmax=(5000,'K'), comment=\"\"\"Thermo library: surfaceThermoPt111 Binding energy corrected by LSR (0.50C) from Pt111\"\"\"), molecule=[Molecule(smiles=\"O=C=[Pt]\")], molecular_weight=(28.01,'amu')), Species(index=19, label=\"HCOOH*\", thermo=NASA(polynomials=[NASAPolynomial(coeffs=[-1.86631,0.0464163,-8.23154e-05,7.46389e-08,-2.57972e-11,-53276.8,17.2793], Tmin=(100,'K'), Tmax=(855.72,'K')), NASAPolynomial(coeffs=[2.69761,0.0143101,-7.15296e-06,1.37054e-09,-9.36325e-14,-53663.5,-1.7233], Tmin=(855.72,'K'), Tmax=(5000,'K'))], Tmin=(100,'K'), Tmax=(5000,'K'), comment=\"\"\"Thermo library: surfaceThermoPt111 Binding energy corrected by LSR () from Pt111\"\"\"), molecule=[Molecule(smiles=\"O=CO.[Pt]\")], molecular_weight=(46.0254,'amu'))], products=[Species(index=16, label=\"HCO*\", thermo=NASA(polynomials=[NASAPolynomial(coeffs=[-1.43681,0.0369246,-7.17912e-05,6.73544e-08,-2.35184e-11,-21694.8,8.27567], Tmin=(100,'K'), Tmax=(873.21,'K')), NASAPolynomial(coeffs=[1.83284,0.0100778,-5.28529e-06,1.01351e-09,-6.85176e-14,-21813.3,-4.46413], Tmin=(873.21,'K'), Tmax=(5000,'K'))], Tmin=(100,'K'), Tmax=(5000,'K'), comment=\"\"\"Thermo library: surfaceThermoPt111 Binding energy corrected by LSR (0.25C) from Pt111\"\"\"), molecule=[Molecule(smiles=\"O=C[Pt]\")], molecular_weight=(29.018,'amu')), Species(index=18, label=\"COOH*\", thermo=NASA(polynomials=[NASAPolynomial(coeffs=[-1.63327,0.0387824,-6.41967e-05,5.36653e-08,-1.74576e-11,-51554,11.9828], Tmin=(100,'K'), Tmax=(816.9,'K')), NASAPolynomial(coeffs=[3.9072,0.00895137,-4.45969e-06,8.65653e-10,-6.00138e-14,-52369,-13.0745], Tmin=(816.9,'K'), Tmax=(5000,'K'))], Tmin=(100,'K'), Tmax=(5000,'K'), comment=\"\"\"Thermo library: surfaceThermoPt111 Binding energy corrected by LSR (0.25C) from Pt111\"\"\"), molecule=[Molecule(smiles=\"O=C(O)[Pt]\")], molecular_weight=(45.0174,'amu'))], kinetics=SurfaceArrhenius(A=(4.18e+21,'cm^2/(mol*s)'), n=0, Ea=(18.394,'kcal/mol'), T0=(1,'K'), comment=\"\"\"Estimated using template [AdsorbateVdW;Adsorbate1] for rate rule [C-R;*=C=R]\n",
       "  Euclidian distance = 3.1622776601683795\n",
       "  family: Surface_Abstraction_vdW\"\"\"), duplicate=True, pairs=[(Species(index=19, label=\"HCOOH*\", thermo=NASA(polynomials=[NASAPolynomial(coeffs=[-1.86631,0.0464163,-8.23154e-05,7.46389e-08,-2.57972e-11,-53276.8,17.2793], Tmin=(100,'K'), Tmax=(855.72,'K')), NASAPolynomial(coeffs=[2.69761,0.0143101,-7.15296e-06,1.37054e-09,-9.36325e-14,-53663.5,-1.7233], Tmin=(855.72,'K'), Tmax=(5000,'K'))], Tmin=(100,'K'), Tmax=(5000,'K'), comment=\"\"\"Thermo library: surfaceThermoPt111 Binding energy corrected by LSR () from Pt111\"\"\"), molecule=[Molecule(smiles=\"O=CO.[Pt]\")], molecular_weight=(46.0254,'amu')), Species(index=18, label=\"COOH*\", thermo=NASA(polynomials=[NASAPolynomial(coeffs=[-1.63327,0.0387824,-6.41967e-05,5.36653e-08,-1.74576e-11,-51554,11.9828], Tmin=(100,'K'), Tmax=(816.9,'K')), NASAPolynomial(coeffs=[3.9072,0.00895137,-4.45969e-06,8.65653e-10,-6.00138e-14,-52369,-13.0745], Tmin=(816.9,'K'), Tmax=(5000,'K'))], Tmin=(100,'K'), Tmax=(5000,'K'), comment=\"\"\"Thermo library: surfaceThermoPt111 Binding energy corrected by LSR (0.25C) from Pt111\"\"\"), molecule=[Molecule(smiles=\"O=C(O)[Pt]\")], molecular_weight=(45.0174,'amu'))), (Species(index=14, label=\"CO*\", thermo=NASA(polynomials=[NASAPolynomial(coeffs=[-1.3822,0.0375313,-8.29789e-05,8.09746e-08,-2.85492e-11,-22537,4.3547], Tmin=(100,'K'), Tmax=(891.31,'K')), NASAPolynomial(coeffs=[1.38107,0.0080569,-4.64292e-06,8.9113e-10,-5.90014e-14,-22351.4,-4.85409], Tmin=(891.31,'K'), Tmax=(5000,'K'))], Tmin=(100,'K'), Tmax=(5000,'K'), comment=\"\"\"Thermo library: surfaceThermoPt111 Binding energy corrected by LSR (0.50C) from Pt111\"\"\"), molecule=[Molecule(smiles=\"O=C=[Pt]\")], molecular_weight=(28.01,'amu')), Species(index=16, label=\"HCO*\", thermo=NASA(polynomials=[NASAPolynomial(coeffs=[-1.43681,0.0369246,-7.17912e-05,6.73544e-08,-2.35184e-11,-21694.8,8.27567], Tmin=(100,'K'), Tmax=(873.21,'K')), NASAPolynomial(coeffs=[1.83284,0.0100778,-5.28529e-06,1.01351e-09,-6.85176e-14,-21813.3,-4.46413], Tmin=(873.21,'K'), Tmax=(5000,'K'))], Tmin=(100,'K'), Tmax=(5000,'K'), comment=\"\"\"Thermo library: surfaceThermoPt111 Binding energy corrected by LSR (0.25C) from Pt111\"\"\"), molecule=[Molecule(smiles=\"O=C[Pt]\")], molecular_weight=(29.018,'amu')))], family='Surface_Abstraction_vdW', template=['C-R', '*=C=R']))}"
      ]
     },
     "execution_count": 1,
     "metadata": {},
     "output_type": "execute_result"
    }
   ],
   "source": [
    "import pickle\n",
    "\n",
    "with open(\"../baseline/sens_cmkn_dict.pickle\", \"rb\") as f:\n",
    "    sens_dict = pickle.load(f)\n",
    "sens_dict\n"
   ]
  },
  {
   "cell_type": "code",
   "execution_count": 4,
   "id": "dfd75d91",
   "metadata": {},
   "outputs": [
    {
     "ename": "TypeError",
     "evalue": "'TemplateReaction' object is not subscriptable",
     "output_type": "error",
     "traceback": [
      "\u001b[0;31m---------------------------------------------------------------------------\u001b[0m",
      "\u001b[0;31mTypeError\u001b[0m                                 Traceback (most recent call last)",
      "\u001b[0;32m<ipython-input-4-759b098ab3dd>\u001b[0m in \u001b[0;36m<module>\u001b[0;34m\u001b[0m\n\u001b[1;32m      1\u001b[0m \u001b[0;32mfor\u001b[0m \u001b[0mkey\u001b[0m\u001b[0;34m,\u001b[0m \u001b[0mval\u001b[0m \u001b[0;32min\u001b[0m \u001b[0msens_dict\u001b[0m\u001b[0;34m.\u001b[0m\u001b[0mvalues\u001b[0m\u001b[0;34m(\u001b[0m\u001b[0;34m)\u001b[0m\u001b[0;34m:\u001b[0m\u001b[0;34m\u001b[0m\u001b[0;34m\u001b[0m\u001b[0m\n\u001b[0;32m----> 2\u001b[0;31m     \u001b[0mprint\u001b[0m\u001b[0;34m(\u001b[0m\u001b[0mkey\u001b[0m\u001b[0;34m,\u001b[0m \u001b[0mval\u001b[0m\u001b[0;34m[\u001b[0m\u001b[0;36m2\u001b[0m\u001b[0;34m]\u001b[0m\u001b[0;34m)\u001b[0m\u001b[0;34m\u001b[0m\u001b[0;34m\u001b[0m\u001b[0m\n\u001b[0m",
      "\u001b[0;31mTypeError\u001b[0m: 'TemplateReaction' object is not subscriptable"
     ]
    }
   ],
   "source": [
    "for key, val in sens_dict.values():\n",
    "    print(key, val[2])"
   ]
  },
  {
   "cell_type": "code",
   "execution_count": 27,
   "id": "de151fa7",
   "metadata": {},
   "outputs": [
    {
     "data": {
      "text/plain": [
       "'Surface_Abstraction_Single_vdW'"
      ]
     },
     "execution_count": 27,
     "metadata": {},
     "output_type": "execute_result"
    }
   ],
   "source": [
    "# min_key = min(sens_dict, key=sens_dict[0].get)\n",
    "most_sens_id = min(sens_dict.items(), key=lambda k: k[0][0])[0]\n",
    "sens_dict[most_sens_id][1].family"
   ]
  },
  {
   "cell_type": "code",
   "execution_count": null,
   "id": "4d5e0a77",
   "metadata": {},
   "outputs": [],
   "source": [
    "# open the chemkin sensitivity file \n",
    "with open("
   ]
  },
  {
   "cell_type": "code",
   "execution_count": null,
   "id": "5323c600",
   "metadata": {},
   "outputs": [],
   "source": []
  },
  {
   "cell_type": "code",
   "execution_count": null,
   "id": "e4264d4d",
   "metadata": {},
   "outputs": [],
   "source": []
  },
  {
   "cell_type": "code",
   "execution_count": null,
   "id": "0e6f011b",
   "metadata": {},
   "outputs": [],
   "source": []
  },
  {
   "cell_type": "code",
   "execution_count": null,
   "id": "eb8b8b4c",
   "metadata": {},
   "outputs": [],
   "source": []
  },
  {
   "cell_type": "code",
   "execution_count": null,
   "id": "77cf86a4",
   "metadata": {},
   "outputs": [],
   "source": []
  },
  {
   "cell_type": "code",
   "execution_count": null,
   "id": "50ee0cf5",
   "metadata": {},
   "outputs": [],
   "source": []
  },
  {
   "cell_type": "code",
   "execution_count": null,
   "id": "2cb82cc8",
   "metadata": {},
   "outputs": [],
   "source": []
  },
  {
   "cell_type": "code",
   "execution_count": null,
   "id": "cfab775a",
   "metadata": {},
   "outputs": [],
   "source": []
  },
  {
   "cell_type": "code",
   "execution_count": null,
   "id": "469a1f80",
   "metadata": {},
   "outputs": [],
   "source": []
  },
  {
   "cell_type": "code",
   "execution_count": null,
   "id": "559c6e92",
   "metadata": {},
   "outputs": [],
   "source": []
  }
 ],
 "metadata": {
  "kernelspec": {
   "display_name": "rmg_env",
   "language": "python",
   "name": "rmg_env"
  },
  "language_info": {
   "codemirror_mode": {
    "name": "ipython",
    "version": 3
   },
   "file_extension": ".py",
   "mimetype": "text/x-python",
   "name": "python",
   "nbconvert_exporter": "python",
   "pygments_lexer": "ipython3",
   "version": "3.7.11"
  }
 },
 "nbformat": 4,
 "nbformat_minor": 5
}
