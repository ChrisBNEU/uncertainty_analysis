{
 "cells": [
  {
   "cell_type": "markdown",
   "id": "d3163c75-25a4-454f-bf21-d2a93f2a4d38",
   "metadata": {},
   "source": [
    "## PyRMS test script"
   ]
  },
  {
   "cell_type": "markdown",
   "id": "6bd19049-ff84-4b0e-b616-c1fbc51e6268",
   "metadata": {},
   "source": [
    "simple test script for executing rms from python, for use in the uncertainty pipeline. rms does sensitivities faster\n"
   ]
  },
  {
   "cell_type": "code",
   "execution_count": 1,
   "id": "0b89be26-cbe1-4887-9efb-88a25606f700",
   "metadata": {},
   "outputs": [],
   "source": [
    "from pyrms import rms\n",
    "from diffeqpy import de\n",
    "from julia import Main\n",
    "import yaml\n",
    "from julia import Sundials\n",
    "from diffeqpy import de\n",
    "import time \n",
    "import matplotlib\n",
    "%matplotlib inline"
   ]
  },
  {
   "cell_type": "code",
   "execution_count": 2,
   "id": "61a678ee-9be4-4027-a7da-10bbbcca614d",
   "metadata": {},
   "outputs": [],
   "source": [
    "file_dir = \"/work/westgroup/ChrisB/_01_MeOH_repos/uncertainty_analysis/rmg_gua/baseline/rms/chem53.rms\"\n",
    "# file_dir = \"/work/westgroup/ChrisB/_01_MeOH_repos/meOH-synthesis/base/rms/chem27.rms\"\n",
    "# file_dir = \"./modified_rms.rms\"\n",
    "# phaseDict = readinput(file_dir); #load mechanism dictionaryb\n",
    "phase_dict = rms.readinput(file_dir)"
   ]
  },
  {
   "cell_type": "code",
   "execution_count": 3,
   "id": "01a4ab34-1e9b-40a9-ab40-71d936a67689",
   "metadata": {},
   "outputs": [],
   "source": [
    "expt_condts = \"/work/westgroup/ChrisB/_01_MeOH_repos/uncertainty_analysis/rmg_gua/gua_cantera/all_experiments_reorg_sbr.yaml\"\n",
    "\n",
    "with open(expt_condts, 'r') as file:\n",
    "    data = yaml.safe_load(file)\n",
    "# data = yaml.load_file(expt_condts)\n",
    "\n",
    "# pick just one experiment for example \n",
    "conditions = data[2]\n",
    "\n",
    "# convert volume flow to molar flow\n",
    "conditions[\"volume_flowrate\"]\n",
    "\n",
    "FC_temp = 293.15\n",
    "conditions[\"molar_flow\"] = conditions[\"volume_flowrate\"] * 1.01325e5 / (8.3145 * FC_temp) "
   ]
  },
  {
   "cell_type": "code",
   "execution_count": 4,
   "id": "bf190679-a808-4588-859a-26f61b55192f",
   "metadata": {},
   "outputs": [
    {
     "data": {
      "text/plain": [
       "PyCall.jlwrap"
      ]
     },
     "execution_count": 4,
     "metadata": {},
     "output_type": "execute_result"
    }
   ],
   "source": [
    "intfc_key = list(phase_dict.keys())[0]\n",
    "type(intfc_key)"
   ]
  },
  {
   "cell_type": "code",
   "execution_count": 5,
   "id": "bc8a85a8-3b5b-4f55-a601-113e92e8b434",
   "metadata": {},
   "outputs": [],
   "source": [
    "gasspcs = phase_dict[\"gas\"][\"Species\"] # mechanism dictionaries index:  phase_dict[phasename][\"Species\" or \"Reactions\"]\n",
    "gasrxns = phase_dict[\"gas\"][\"Reactions\"]\n",
    "surfacespcs = phase_dict[\"surface\"][\"Species\"]\n",
    "surfacerxns = phase_dict[\"surface\"][\"Reactions\"]\n",
    "interfacerxns = phase_dict[intfc_key][\"Reactions\"]"
   ]
  },
  {
   "cell_type": "code",
   "execution_count": 6,
   "id": "cdb695e2-ff4f-43ee-9c96-3b58fe0fb6fc",
   "metadata": {},
   "outputs": [
    {
     "data": {
      "text/plain": [
       "list"
      ]
     },
     "execution_count": 6,
     "metadata": {},
     "output_type": "execute_result"
    }
   ],
   "source": [
    "type(interfacerxns)"
   ]
  },
  {
   "cell_type": "code",
   "execution_count": 7,
   "id": "c84d1585-47b8-4771-ab41-138eba944824",
   "metadata": {},
   "outputs": [],
   "source": [
    "ig = rms.IdealGas(gasspcs,gasrxns,name=\"gas\") #Define the phase (how species thermodynamic and kinetic properties calculated)\n",
    "cat = rms.IdealSurface(surfacespcs, surfacerxns, 2.943e-5, name=\"surface\")"
   ]
  },
  {
   "cell_type": "code",
   "execution_count": 8,
   "id": "91f278d5-702b-4414-bda7-cb048d9a8601",
   "metadata": {},
   "outputs": [],
   "source": [
    "initialcondsgas = {\n",
    "        \"T\":conditions[\"temperature\"],\n",
    "        \"P\":conditions[\"pressure\"],\n",
    "        \"CO\":conditions[\"species\"][\"CO\"],\n",
    "        \"CO2\":conditions[\"species\"][\"CO2\"],\n",
    "        \"H2\":conditions[\"species\"][\"H2\"],\n",
    "} #Set simulation Initial Temp and Pressure\n",
    "# Define the domain (encodes how system thermodynamic properties calculated)\n",
    "domaingas,y0gas,pgas = rms.ConstantTPDomain(phase=ig,initialconds=initialcondsgas,sensitivity=True)"
   ]
  },
  {
   "cell_type": "code",
   "execution_count": 9,
   "id": "5d1b8cdc-9b48-4bc9-b0a0-feadf9f35557",
   "metadata": {},
   "outputs": [],
   "source": [
    "V = conditions[\"volume\"]\n",
    "A = conditions[\"catalyst_area\"]\n",
    "initialconds = {\n",
    "        \"T\":conditions[\"temperature\"],\n",
    "        \"A\":conditions[\"catalyst_area\"],\n",
    "        \"X\":cat.sitedensity*A\n",
    "} #Set simulation Initial Temp and Pressure\n",
    "# Define the domain (encodes how system thermodynamic properties calculated)\n",
    "domaincat,y0cat,pcat = rms.ConstantTAPhiDomain(phase=cat,initialconds=initialconds,sensitivity=True);"
   ]
  },
  {
   "cell_type": "markdown",
   "id": "c7c65c66-3f35-49bd-aca6-866306b48e7d",
   "metadata": {
    "tags": []
   },
   "source": [
    "## make reactor, inlet and outlet\n",
    "- makes an anonymous function x->42, is that velocity in? need to check if it is velocity or volume flowrate\n",
    "- also, I think the ```phi``` refers to chemical potential, but I should check, I think constantTPhi is just const T for our case. "
   ]
  },
  {
   "cell_type": "code",
   "execution_count": 10,
   "id": "586493c0-f506-4b69-81c8-0fdfbd0a7dfc",
   "metadata": {},
   "outputs": [],
   "source": [
    "initialcondsinlet = {\n",
    "        \"T\":conditions[\"temperature\"],\n",
    "        \"P\":conditions[\"pressure\"],\n",
    "        \"CO\":conditions[\"species\"][\"CO\"],\n",
    "        \"CO2\":conditions[\"species\"][\"CO2\"],\n",
    "        \"H2\":conditions[\"species\"][\"H2\"],\n",
    "    }\n",
    "\n",
    "# construct reactor\n",
    "inter,pinter = rms.ReactiveInternalInterfaceConstantTPhi(domaingas,domaincat,interfacerxns,initialcondsinlet[\"T\"],A);\n",
    "\n",
    "# make inlet and outlet\n",
    "inletgas = rms.Inlet(domaingas,initialcondsinlet,Main.eval(\"x->\"+str(conditions[\"molar_flow\"])))\n",
    "outletgas = rms.Outlet(domaingas,Main.eval(\"x->\"+str(conditions[\"molar_flow\"])))"
   ]
  },
  {
   "cell_type": "markdown",
   "id": "76ffe811-77a4-45f4-9fb4-5a631107189f",
   "metadata": {},
   "source": [
    "lets break these apart one by one: \n",
    "### ```react,y0,p = Reactor(domains,(y0liq,y0gas),(0.0,tf),interfaces,(pcat,pgas,pinter));```\n",
    "- react = reactor object, returned from Reactor() function call\n",
    "- y0 = initial values of all mole fractions, plus last index is... Temperature? \n",
    "- p - phases? "
   ]
  },
  {
   "cell_type": "markdown",
   "id": "efda8d2c-7f90-45e2-add3-a3b57ce1aeaa",
   "metadata": {},
   "source": [
    "## unconverted  \\\\|/"
   ]
  },
  {
   "cell_type": "code",
   "execution_count": 11,
   "id": "da30c2a1-23d9-49d7-b9f9-1e1aba1c4063",
   "metadata": {},
   "outputs": [],
   "source": [
    "# Define domains and interfaces\n",
    "domains = (domaingas,domaincat)\n",
    "interfaces = [inter,inletgas,outletgas]\n",
    "\n",
    "# create a reactor for the system\n",
    "react,y0,p = rms.Reactor(domains,(y0gas,y0cat),(0.0,100),interfaces,(pgas,pcat,pinter)) # Create the reactor object"
   ]
  },
  {
   "cell_type": "code",
   "execution_count": 12,
   "id": "a67b362b-4e3c-4f68-b17b-db3b247991f2",
   "metadata": {},
   "outputs": [],
   "source": [
    "t1 = time.time()\n",
    "sol = de.solve(react.ode,de.CVODE_BDF(),abstol=1e-20,reltol=1e-8)\n",
    "t2 = time.time()"
   ]
  },
  {
   "cell_type": "code",
   "execution_count": 13,
   "id": "abe90bc8-41ef-4045-98ae-22a830ad8e6f",
   "metadata": {},
   "outputs": [],
   "source": [
    "ssys = rms.SystemSimulation(sol,domains,interfaces,p)"
   ]
  },
  {
   "cell_type": "code",
   "execution_count": 14,
   "id": "f53aecb0-543d-4362-91f2-14415a16c2b4",
   "metadata": {},
   "outputs": [
    {
     "data": {
      "text/plain": [
       "Text(0, 0.5, 'Mole Fraction')"
      ]
     },
     "execution_count": 14,
     "metadata": {},
     "output_type": "execute_result"
    },
    {
     "data": {
      "image/png": "[encoded data removed]",
      "text/plain": [
       "<Figure size 432x288 with 1 Axes>"
      ]
     },
     "metadata": {
      "needs_background": "light"
     },
     "output_type": "display_data"
    }
   ],
   "source": [
    "rms.plotmolefractions(ssys.sims[1],tol=0.001)"
   ]
  },
  {
   "cell_type": "code",
   "execution_count": 15,
   "id": "05ae5187-138e-4027-adec-c3dc517f5679",
   "metadata": {
    "tags": []
   },
   "outputs": [
    {
     "data": {
      "image/png": "[encoded data removed]",
      "text/plain": [
       "<Figure size 432x288 with 1 Axes>"
      ]
     },
     "metadata": {
      "needs_background": "light"
     },
     "output_type": "display_data"
    }
   ],
   "source": [
    "rms.plotrxntransitorysensitivities(ssys, \"CC\", 100)"
   ]
  },
  {
   "cell_type": "markdown",
   "id": "b3879df2-a9b6-4fa8-a243-ec05432bea92",
   "metadata": {},
   "source": [
    "we need to extract the reaction objects from julia. the sensitivities are just the second index in the tuple, but the first index is the julia reaction objects. I need to spit out a reaction equation for the spreadsheet. during postprocessing, I need to get the sensitivities and trace them back to their originating family"
   ]
  },
  {
   "cell_type": "code",
   "execution_count": 16,
   "id": "aac3e7db-f33e-4506-ba73-cdf737063eaa",
   "metadata": {
    "tags": []
   },
   "outputs": [
    {
     "data": {
      "text/plain": [
       "PyCall.jlwrap"
      ]
     },
     "execution_count": 16,
     "metadata": {},
     "output_type": "execute_result"
    }
   ],
   "source": [
    "senss = rms.getrxntransitorysensitivities(ssys, \"CC\", 100)"
   ]
  },
  {
   "cell_type": "code",
   "execution_count": 26,
   "id": "c0a10740-ba40-427c-b12b-7880b9acb297",
   "metadata": {},
   "outputs": [
    {
     "data": {
      "text/plain": [
       "2"
      ]
     },
     "execution_count": 26,
     "metadata": {},
     "output_type": "execute_result"
    }
   ],
   "source": [
    "len(senss)"
   ]
  },
  {
   "cell_type": "code",
   "execution_count": 28,
   "id": "f03d9334-19e9-4248-ad8b-3399e5948f53",
   "metadata": {},
   "outputs": [
    {
     "name": "stdout",
     "output_type": "stream",
     "text": [
      "CO*+CC.[Pt]<=>HCO*+CC[Pt]\n",
      "HCOOH*+CC[Pt]<=>HCOO*+CC.[Pt]\n",
      "CO*+CC.[Pt]<=>CH3X+CC(=O)[Pt]\n",
      "H2O*+CO*<=>H*+COOH*\n",
      "H2O*+CC[Pt]<=>OH*+CC.[Pt]\n",
      "CH3X+CC(=O)O.[Pt]<=>COOH*+CC.[Pt]\n",
      "X+CH3OH*<=>H*+OC[Pt]\n",
      "X+H2O*<=>H*+OH*\n",
      "H*+CH2O*<=>X+OC[Pt]\n",
      "CH3OH*+CC[Pt]<=>OC[Pt]+CC.[Pt]\n",
      "O*+COOH*<=>OH*+CO2*\n",
      "X+HCO*<=>H*+CO*\n",
      "X+CH2O*<=>H*+HCO*\n",
      "H*+CCO.[Pt]<=>H2O*+CC[Pt]\n",
      "H*+HCOOH*<=>X+CH3O2*\n",
      "X+HCOOH*<=>H*+COOH*\n",
      "H*+CO2*<=>X+COOH*\n",
      "X+CC=O.[Pt]<=>H*+CC(=O)[Pt]\n",
      "CH2O*+CC[Pt]<=>HCO*+CC.[Pt]\n",
      "CH2O*+CH2O*<=>H*+O=COC[Pt]\n",
      "H2O*+CC=O.[Pt]<=>H*+CC(O)O[Pt]\n",
      "O*+CC.[Pt]<=>H*+CCO[Pt]\n",
      "H*+CC(=O)O.[Pt]<=>H2O*+CC(=O)[Pt]\n",
      "OH*+HCOOH*<=>H2O*+HCOO*\n",
      "O*+CH2O*<=>H*+HCOO*\n",
      "OH*+COOH*<=>H2O*+CO2*\n",
      "HCO*+CH2O*<=>X+O=COC[Pt]\n",
      "CO*+CC(=O)O.[Pt]<=>COOH*+CC(=O)[Pt]\n",
      "CO*+CC(=O)O.[Pt]<=>COOH*+CC(=O)[Pt]\n",
      "CO*+CC(=O)O.[Pt]<=>COOH*+CC(=O)[Pt]\n",
      "CO*+CC(=O)O.[Pt]<=>COOH*+CC(=O)[Pt]\n",
      "CH2O*+OC[Pt]<=>X+OCOC[Pt]\n",
      "H2O*+HCO*<=>H*+HCOOH*\n"
     ]
    }
   ],
   "source": [
    "for index, rxn in enumerate(senss[0]): \n",
    "    print(rms.getrxnstr(rxn))\n"
   ]
  },
  {
   "cell_type": "code",
   "execution_count": null,
   "id": "182757da-3b05-41ea-9467-6c6994324900",
   "metadata": {},
   "outputs": [],
   "source": []
  }
 ],
 "metadata": {
  "kernelspec": {
   "display_name": "Python 3 (ipykernel)",
   "language": "python",
   "name": "python3"
  },
  "language_info": {
   "codemirror_mode": {
    "name": "ipython",
    "version": 3
   },
   "file_extension": ".py",
   "mimetype": "text/x-python",
   "name": "python",
   "nbconvert_exporter": "python",
   "pygments_lexer": "ipython3",
   "version": "3.7.12"
  }
 },
 "nbformat": 4,
 "nbformat_minor": 5
}
