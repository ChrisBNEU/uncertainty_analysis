{
 "cells": [
  {
   "cell_type": "code",
   "execution_count": 1,
   "id": "4044ed2e-6836-49e8-994e-5e1af5253a0e",
   "metadata": {},
   "outputs": [],
   "source": [
    "import yaml\n",
    "import sys\n",
    "import pandas as pd\n",
    "import numpy as np\n",
    "import matplotlib.pyplot as plt \n",
    "path = \"/work/westgroup/ChrisB/_01_MeOH_repos/uncertainty_analysis/\"\n",
    "if path not in sys.path: \n",
    "    sys.path.append(\"/work/westgroup/ChrisB/_01_MeOH_repos/uncertainty_analysis/\")\n",
    "from rmg_gua.gua_cantera.Spinning_basket_reactor.sbr import MinSBR\n"
   ]
  },
  {
   "cell_type": "code",
   "execution_count": 2,
   "id": "5ad02be3-1630-40d5-a102-93478a9d0c5f",
   "metadata": {},
   "outputs": [],
   "source": [
    "expt_condts = f\"{path}rmg_gua/gua_cantera/all_experiments_reorg_sbr.yaml\"\n",
    "with open(expt_condts, \"r\") as f: \n",
    "    data = yaml.safe_load(f)\n",
    "conditions = data[73]"
   ]
  },
  {
   "cell_type": "code",
   "execution_count": 3,
   "id": "bd07415e-d300-40b5-bc8a-30ca36b884e6",
   "metadata": {},
   "outputs": [],
   "source": [
    "conditions[\"volume_flowrate\"]\n",
    "\n",
    "FC_temp = 293.15\n",
    "conditions[\"molar_flow\"] = conditions[\"volume_flowrate\"] * 1.01325e5 / (8.3145 * FC_temp) "
   ]
  },
  {
   "cell_type": "code",
   "execution_count": 4,
   "id": "7cff3305-5dec-4431-95d6-d71126bbe53b",
   "metadata": {},
   "outputs": [
    {
     "data": {
      "text/plain": [
       "0.0002860085488581988"
      ]
     },
     "execution_count": 4,
     "metadata": {},
     "output_type": "execute_result"
    }
   ],
   "source": [
    "conditions[\"molar_flow\"] "
   ]
  },
  {
   "cell_type": "code",
   "execution_count": 5,
   "id": "c8b73222-0a58-434b-a2d1-1e8bdd17e5da",
   "metadata": {},
   "outputs": [
    {
     "data": {
      "text/plain": [
       "6.879999999999999e-06"
      ]
     },
     "execution_count": 5,
     "metadata": {},
     "output_type": "execute_result"
    }
   ],
   "source": [
    "conditions[\"volume_flowrate\"]"
   ]
  },
  {
   "cell_type": "code",
   "execution_count": 6,
   "id": "e96a6160-bd76-4e6f-9c11-c0c3b7361035",
   "metadata": {},
   "outputs": [],
   "source": [
    "cti_file = f\"{path}rmg_gua/baseline/cantera/chem_annotated.cti\"\n",
    "\n",
    "reactor = MinSBR(\n",
    "    cti_file,\n",
    "    conditions,\n",
    "    reactor_type =3,\n",
    "    time=600, \n",
    ")"
   ]
  },
  {
   "cell_type": "code",
   "execution_count": 11,
   "id": "2dbdb40c-9bbf-4588-92dd-596b8798ecca",
   "metadata": {},
   "outputs": [],
   "source": [
    "time = 0.1\n",
    "times = np.logspace(-8, -1, num=100)"
   ]
  },
  {
   "cell_type": "code",
   "execution_count": 12,
   "id": "c21eb187-586f-41a7-bb2e-f610733a6fde",
   "metadata": {},
   "outputs": [],
   "source": [
    "results = {}\n",
    "for time in times: \n",
    "    reactor.sim.advance(time)\n",
    "    for i in range(0, len(reactor.gas.X)):\n",
    "        if reactor.gas.species_names[i] not in results.keys():\n",
    "            results[reactor.gas.species_names[i]] = [reactor.gas.X[i]]\n",
    "        else: \n",
    "            results[reactor.gas.species_names[i]].append(reactor.gas.X[i])\n",
    "    for i in range(0, len(reactor.surf.X)):\n",
    "        if reactor.surf.species_names[i] not in results.keys():\n",
    "            results[reactor.surf.species_names[i]] = [reactor.surf.X[i]]\n",
    "        else: \n",
    "            results[reactor.surf.species_names[i]].append(reactor.surf.X[i])"
   ]
  },
  {
   "cell_type": "code",
   "execution_count": 13,
   "id": "b72b10a8-12c3-4913-99aa-29818dd69dba",
   "metadata": {},
   "outputs": [
    {
     "data": {
      "text/plain": [
       "dict_keys(['N2', 'Ne', 'H2(2)', 'CO(3)', 'CO2(4)', 'H2O(5)', 'CH2O(6)', 'HCOOH(7)', 'CH3OH(8)', 'HCOOCH3(9)', 'CH4(32)', 'X(1)', 'H*(10)', 'O*(11)', 'OH*(12)', 'H2O*(13)', 'CO*(14)', 'CO2*(15)', 'HCO*(16)', 'HCOO*(17)', 'COOH*(18)', 'HCOOH*(19)', 'CH2O*(20)', 'CH3O*(21)', 'CH3O2*(22)', 'CH3OH*(23)', 'CH3X(33)', 'CH3OX(49)'])"
      ]
     },
     "execution_count": 13,
     "metadata": {},
     "output_type": "execute_result"
    }
   ],
   "source": [
    "results.keys()"
   ]
  },
  {
   "cell_type": "markdown",
   "id": "3d5a986c-3028-4236-ad29-1db5b3abe98e",
   "metadata": {},
   "source": [
    "## plot gases: "
   ]
  },
  {
   "cell_type": "code",
   "execution_count": 14,
   "id": "fb906980-4815-41bb-bd53-ebba481cc33f",
   "metadata": {},
   "outputs": [
    {
     "data": {
      "text/plain": [
       "Text(0, 0.5, 'mole fraction')"
      ]
     },
     "execution_count": 14,
     "metadata": {},
     "output_type": "execute_result"
    },
    {
     "data": {
      "image/png": "[encoded data removed]",
      "text/plain": [
       "<Figure size 432x288 with 1 Axes>"
      ]
     },
     "metadata": {
      "needs_background": "light"
     },
     "output_type": "display_data"
    }
   ],
   "source": [
    "gas_specs = [\"CH3OH(8)\", \"CH4(32)\"]\n",
    "for spec in gas_specs:\n",
    "    plt.plot(times, results[spec], label = spec)\n",
    "plt.legend()\n",
    "plt.xlim(0,0.1)\n",
    "plt.ylim(0,0.7)\n",
    "plt.xlabel(\"time (s)\")\n",
    "plt.ylabel(\"mole fraction\")"
   ]
  },
  {
   "cell_type": "code",
   "execution_count": 15,
   "id": "9b65c628-b672-4d07-af03-742556bc7566",
   "metadata": {},
   "outputs": [
    {
     "data": {
      "text/plain": [
       "Text(0, 0.5, 'mole fraction')"
      ]
     },
     "execution_count": 15,
     "metadata": {},
     "output_type": "execute_result"
    },
    {
     "data": {
      "image/png": "[encoded data removed]",
      "text/plain": [
       "<Figure size 432x288 with 1 Axes>"
      ]
     },
     "metadata": {
      "needs_background": "light"
     },
     "output_type": "display_data"
    }
   ],
   "source": [
    "gas_specs = [\"H2(2)\",\"CO(3)\",\"CO2(4)\", \"H2O(5)\", \"CH4(32)\"]\n",
    "for spec in gas_specs:\n",
    "    plt.plot(times, results[spec], label = spec)\n",
    "plt.legend()\n",
    "plt.xlim(0,0.1)\n",
    "plt.ylim(0,0.7)\n",
    "plt.xlabel(\"time (s)\")\n",
    "plt.ylabel(\"mole fraction\")"
   ]
  },
  {
   "cell_type": "markdown",
   "id": "1643fb68-76e0-46a8-b2f8-248b56b741bf",
   "metadata": {},
   "source": [
    "## plot surface species"
   ]
  },
  {
   "cell_type": "code",
   "execution_count": 16,
   "id": "142ac5c1-9e3d-4aa8-839a-187a4613d6cd",
   "metadata": {},
   "outputs": [
    {
     "data": {
      "text/plain": [
       "<matplotlib.legend.Legend at 0x2b114e730dd0>"
      ]
     },
     "execution_count": 16,
     "metadata": {},
     "output_type": "execute_result"
    },
    {
     "data": {
      "image/png": "[encoded data removed]",
      "text/plain": [
       "<Figure size 432x288 with 1 Axes>"
      ]
     },
     "metadata": {
      "needs_background": "light"
     },
     "output_type": "display_data"
    }
   ],
   "source": [
    "surf_specs = [\"X(1)\",\"H*(10)\",\"H2O*(13)\",\"CO*(14)\"]\n",
    "for spec in surf_specs:\n",
    "    plt.plot(times, results[spec], label = spec)\n",
    "plt.xlim(0,0.1)\n",
    "plt.ylim(0,1.0)\n",
    "plt.xlabel(\"time (s)\")\n",
    "plt.ylabel(\"mole fraction\")\n",
    "plt.legend()"
   ]
  },
  {
   "cell_type": "markdown",
   "id": "6f5b9598-965d-4798-9741-5e57a3af6b5f",
   "metadata": {},
   "source": [
    "# get sensitivity of time to output"
   ]
  },
  {
   "cell_type": "code",
   "execution_count": 1,
   "id": "ec2f04d6-8e27-4dc4-a3d5-d91566ba1838",
   "metadata": {},
   "outputs": [],
   "source": [
    "import yaml\n",
    "import sys\n",
    "import pandas as pd\n",
    "import numpy as np\n",
    "import matplotlib.pyplot as plt \n",
    "path = \"/work/westgroup/ChrisB/_01_MeOH_repos/uncertainty_analysis/\"\n",
    "if path not in sys.path: \n",
    "    sys.path.append(\"/work/westgroup/ChrisB/_01_MeOH_repos/uncertainty_analysis/\")\n",
    "from rmg_gua.gua_cantera.Spinning_basket_reactor.sbr import MinSBR\n",
    "\n",
    "expt_condts = f\"{path}rmg_gua/gua_cantera/all_experiments_reorg_sbr.yaml\"\n",
    "with open(expt_condts, \"r\") as f: \n",
    "    data = yaml.safe_load(f)\n",
    "conditions = data[73]\n",
    "\n",
    "conditions[\"volume_flowrate\"]\n",
    "\n",
    "FC_temp = 293.15\n",
    "conditions[\"molar_flow\"] = conditions[\"volume_flowrate\"] * 1.01325e5 / (8.3145 * FC_temp) "
   ]
  },
  {
   "cell_type": "code",
   "execution_count": 16,
   "id": "c759c355-ff86-4318-9cd2-b549a23baaff",
   "metadata": {},
   "outputs": [
    {
     "name": "stdout",
     "output_type": "stream",
     "text": [
      "time 599 H2O TOF 9.16e-02 1/s\n",
      "time 599 MeOH TOF 1.74e-08 1/s\n",
      "time 599 CH3OH mol frac 7.97e-08\n",
      "time 599 H2O mol frac 4.19e-01\n",
      "time 599 cantera MeOH ROP TOF -9.21e-07 1/s\n",
      "time 599 cantera H2O ROP TOF 1.90e+02 1/s\n",
      "********************\n",
      "time 600 H2O TOF 9.16e-02 1/s\n",
      "time 600 MeOH TOF 1.74e-08 1/s\n",
      "time 600 CH3OH mol frac 7.97e-08\n",
      "time 600 H2O mol frac 4.19e-01\n",
      "time 600 cantera MeOH ROP TOF -2.99e-07 1/s\n",
      "time 600 cantera H2O ROP TOF 6.52e+01 1/s\n",
      "********************\n",
      "time 699 H2O TOF 9.16e-02 1/s\n",
      "time 699 MeOH TOF 1.74e-08 1/s\n",
      "time 699 CH3OH mol frac 7.97e-08\n",
      "time 699 H2O mol frac 4.19e-01\n",
      "time 699 cantera MeOH ROP TOF 1.03e-06 1/s\n",
      "time 699 cantera H2O ROP TOF 8.84e+02 1/s\n",
      "********************\n"
     ]
    }
   ],
   "source": [
    "times = [599, 600, 699]\n",
    "for time in times:\n",
    "    cti_file = f\"{path}rmg_gua/baseline/cantera/chem_annotated.cti\"\n",
    "    reactor = MinSBR(\n",
    "        cti_file,\n",
    "        conditions,\n",
    "        reactor_type=1,\n",
    "        time=time, \n",
    "    )\n",
    "    results = reactor.run_reactor_ss_memory()\n",
    "    unreliable_tof_meoh = reactor.rsurf.kinetics.net_production_rates[reactor.gas.species_index(reactor.ch3oh_str)]/reactor.surf.site_density\n",
    "    unreliable_tof_meoh += reactor.r.kinetics.net_production_rates[reactor.gas.species_index(reactor.ch3oh_str)]/reactor.surf.site_density\n",
    "    unreliable_tof_h2o = reactor.rsurf.kinetics.net_production_rates[reactor.gas.species_index(reactor.h2o_str)]/reactor.surf.site_density\n",
    "    unreliable_tof_h2o += reactor.r.kinetics.net_production_rates[reactor.gas.species_index(reactor.h2o_str)]/reactor.surf.site_density\n",
    "    print(\"time {0} H2O TOF {1:.2e} 1/s\".format(time, results[\"RMG H2O TOF 1/s\"]))\n",
    "    print(\"time {0} MeOH TOF {1:.2e} 1/s\".format(time, results[\"RMG MeOH TOF 1/s\"]))\n",
    "    print(\"time {0} CH3OH mol frac {1:.2e}\".format(time, results[\"CH3OH(8)\"]))\n",
    "    print(\"time {0} H2O mol frac {1:.2e}\".format(time, results[\"H2O(5)\"]))\n",
    "    print(\"time {0} cantera MeOH ROP TOF {1:.2e} 1/s\".format(time, unreliable_tof_meoh))\n",
    "    print(\"time {0} cantera H2O ROP TOF {1:.2e} 1/s\".format(time, unreliable_tof_h2o))\n",
    "    print(\"*\"*20)"
   ]
  },
  {
   "cell_type": "code",
   "execution_count": 5,
   "id": "e57ed1cf-f65a-42dd-998c-1c0a2e11f724",
   "metadata": {},
   "outputs": [
    {
     "data": {
      "text/plain": [
       "array([0.00000000e+00, 0.00000000e+00, 4.91975995e-02, 3.12208612e-01,\n",
       "       1.05014224e-02, 4.18689310e-01, 3.21315005e-11, 6.84814569e-09,\n",
       "       7.96827872e-08, 1.73114716e-14, 2.09346861e-01, 2.92570285e-12,\n",
       "       1.39416724e-10, 5.95908578e-11, 5.61092494e-05])"
      ]
     },
     "execution_count": 5,
     "metadata": {},
     "output_type": "execute_result"
    }
   ],
   "source": [
    "type(reactor("
   ]
  },
  {
   "cell_type": "code",
   "execution_count": 6,
   "id": "5fa73dac-7869-48cb-aa5a-fdbd885346ee",
   "metadata": {},
   "outputs": [
    {
     "data": {
      "text/plain": [
       "0.418689309620083"
      ]
     },
     "execution_count": 6,
     "metadata": {},
     "output_type": "execute_result"
    }
   ],
   "source": [
    "results[\"H2O(5)\"]"
   ]
  },
  {
   "cell_type": "code",
   "execution_count": 5,
   "id": "e8d1d7f7-f7e9-46e8-8132-90f965e0a147",
   "metadata": {},
   "outputs": [
    {
     "data": {
      "text/plain": [
       "{'catalyst_area': 44.424193000339805,\n",
       " 'experiment_type': 'sbr',\n",
       " 'expt_name': 'graaf_1988',\n",
       " 'output': {'CH3OH': 0.010996734498125502, 'H2O': 0.0015494420427887203},\n",
       " 'pressure': 5000000.0,\n",
       " 'run_num': 74.0,\n",
       " 'species': {'CO': 0.22, 'CO2': 0.155, 'H2': 0.625},\n",
       " 'temperature': 516.7,\n",
       " 'use_for_opt': False,\n",
       " 'volume': 0.0001346957850226624,\n",
       " 'volume_flowrate': 6.879999999999999e-06,\n",
       " 'molar_flow': 0.0002860085488581988}"
      ]
     },
     "execution_count": 5,
     "metadata": {},
     "output_type": "execute_result"
    }
   ],
   "source": [
    "conditions"
   ]
  },
  {
   "cell_type": "code",
   "execution_count": 6,
   "id": "730fbf34-f1bc-4eab-a0cf-9b6868edb36d",
   "metadata": {},
   "outputs": [
    {
     "data": {
      "text/plain": [
       "2.943e-08"
      ]
     },
     "execution_count": 6,
     "metadata": {},
     "output_type": "execute_result"
    }
   ],
   "source": [
    "reactor.surf.site_density"
   ]
  },
  {
   "cell_type": "code",
   "execution_count": null,
   "id": "4b53e4f7-278f-425d-8559-bd2bae7113da",
   "metadata": {},
   "outputs": [],
   "source": [
    "results[\"H2O(5)\"]*"
   ]
  },
  {
   "cell_type": "code",
   "execution_count": 12,
   "id": "3f687670-f5d8-43ef-bf4b-c4452739a9c0",
   "metadata": {},
   "outputs": [
    {
     "name": "stdout",
     "output_type": "stream",
     "text": [
      "0.00011974872186688103  moles/s\n"
     ]
    }
   ],
   "source": [
    "moles_h2o_out = results[\"H2O(5)\"] * conditions[\"molar_flow\"]\n",
    "print(moles_h2o_out, \" moles/s\")"
   ]
  },
  {
   "cell_type": "code",
   "execution_count": 13,
   "id": "8c30aa54-638e-432c-9706-2835e71162c9",
   "metadata": {},
   "outputs": [
    {
     "name": "stdout",
     "output_type": "stream",
     "text": [
      "1.3074040000000005e-06  kmoles sites\n"
     ]
    }
   ],
   "source": [
    "kmoles_sites = reactor.surf.site_density * conditions[\"catalyst_area\"]\n",
    "moles_sites = \n",
    "print(kmoles_sites, \" kmoles sites\")\n",
    "print"
   ]
  },
  {
   "cell_type": "code",
   "execution_count": null,
   "id": "f221e1cf-d9ad-4f07-a308-fc570c5e68ed",
   "metadata": {},
   "outputs": [],
   "source": [
    "TOF = moles_h2o_out/(kmoles_sites*1000)"
   ]
  },
  {
   "cell_type": "code",
   "execution_count": null,
   "id": "c16ce5f8-154b-4946-b6e7-5e04a8ae3cc7",
   "metadata": {},
   "outputs": [],
   "source": []
  }
 ],
 "metadata": {
  "kernelspec": {
   "display_name": "Python 3 (ipykernel)",
   "language": "python",
   "name": "python3"
  },
  "language_info": {
   "codemirror_mode": {
    "name": "ipython",
    "version": 3
   },
   "file_extension": ".py",
   "mimetype": "text/x-python",
   "name": "python",
   "nbconvert_exporter": "python",
   "pygments_lexer": "ipython3",
   "version": "3.7.12"
  }
 },
 "nbformat": 4,
 "nbformat_minor": 5
}
