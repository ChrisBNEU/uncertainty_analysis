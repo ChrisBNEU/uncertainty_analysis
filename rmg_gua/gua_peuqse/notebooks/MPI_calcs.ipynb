{
 "cells": [
  {
   "cell_type": "code",
   "execution_count": 1,
   "id": "943edf3c-b4d5-419d-8b73-7e4b5d92106a",
   "metadata": {
    "tags": []
   },
   "outputs": [],
   "source": [
    "import cantera as ct"
   ]
  },
  {
   "cell_type": "markdown",
   "id": "337ba8a5-eeea-4008-afe6-177f5d120778",
   "metadata": {},
   "source": [
    "# calcs for MPI: \n",
    "1 need 20,000 runs to do 2 points. "
   ]
  },
  {
   "cell_type": "code",
   "execution_count": 1,
   "id": "00d3ac05-f23c-4f65-bec6-a6764280a699",
   "metadata": {
    "tags": []
   },
   "outputs": [
    {
     "name": "stdout",
     "output_type": "stream",
     "text": [
      "total time to run all jobs is 0.3333333333333333 hours\n"
     ]
    }
   ],
   "source": [
    "# total samples\n",
    "tot_samp = 20000\n",
    "\n",
    "# if I can get 500 processors: \n",
    "n_cpu = 1000\n",
    "\n",
    "# each run takes 5 minutes, say\n",
    "time = 1\n",
    "time_h = time/60\n",
    "\n",
    "# num of jobs in series for each cpu\n",
    "n_jobs_series = tot_samp/n_cpu\n",
    "\n",
    "# total time to run all of them\n",
    "tot_time = n_jobs_series*time_h\n",
    "\n",
    "print(f\"total time to run all jobs is {tot_time} hours\")"
   ]
  },
  {
   "cell_type": "code",
   "execution_count": null,
   "id": "37b0627b-e806-485e-a283-f1879e967697",
   "metadata": {},
   "outputs": [],
   "source": []
  }
 ],
 "metadata": {
  "kernelspec": {
   "display_name": "Python 3 (ipykernel)",
   "language": "python",
   "name": "python3"
  },
  "language_info": {
   "codemirror_mode": {
    "name": "ipython",
    "version": 3
   },
   "file_extension": ".py",
   "mimetype": "text/x-python",
   "name": "python",
   "nbconvert_exporter": "python",
   "pygments_lexer": "ipython3",
   "version": "3.7.12"
  }
 },
 "nbformat": 4,
 "nbformat_minor": 5
}
