{
 "cells": [
  {
   "cell_type": "code",
   "execution_count": 5,
   "metadata": {
    "tags": []
   },
   "outputs": [],
   "source": [
    "import os\n",
    "import shutil\n",
    "import yaml\n",
    "import cantera as ct\n"
   ]
  },
  {
   "cell_type": "code",
   "execution_count": 6,
   "metadata": {
    "tags": []
   },
   "outputs": [],
   "source": [
    "def initial_val_unc(kinetics, num): \n",
    "    \"\"\" \n",
    "    return the initial value, an estimate of parameter uncertainty, and upper\n",
    "     as a tuple\n",
    "    A-factors: if not sticking coeffient, +/- 1, return LogA. else, +/- 0.5\n",
    "    Ea: +/- 0.3 eV. \n",
    "\n",
    "    Limits: \n",
    "    A (upper):  - 1 for sticking coefficient, 1e25 for others\n",
    "    A (lower):  - 0 for sticking coefficient, 0 for others\n",
    "    E (upper):  - 400 kJ/mol\n",
    "    E (lower):  - 0 kj/mol\n",
    "    \"\"\" \n",
    "    # logA if it is not sticking coefficient\n",
    "    if kinetics[\"A\"] > 1: \n",
    "        A = math.log10(kinetics[\"A\"])\n",
    "        A_unc = 1\n",
    "        A_lb = 0\n",
    "        A_ub = 25\n",
    "        label_A = f\"A_log_{num}\"\n",
    "    elif kinetics[\"A\"] <= 1: \n",
    "        A = kinetics[\"A\"]\n",
    "        A_unc = 1\n",
    "        A_lb = 0\n",
    "        A_ub = 1\n",
    "        label_A = f\"A_stick_{num}\"\n",
    "    \n",
    "    E = kinetics[\"Ea\"]\n",
    "    E_unc = 30000\n",
    "    E_lb = 0\n",
    "    E_ub = 400000\n",
    "    label_E = f\"E_{num}\"\n",
    "    \n",
    "    return (A, E), (A_unc, E_unc), (A_lb, E_lb), (A_ub, E_ub), (label_A, label_E)"
   ]
  },
  {
   "cell_type": "code",
   "execution_count": null,
   "metadata": {},
   "outputs": [],
   "source": [
    "!cti2yaml \"../baseline/cantera/chem_annotated.cti\" "
   ]
  },
  {
   "cell_type": "code",
   "execution_count": 7,
   "metadata": {
    "tags": []
   },
   "outputs": [],
   "source": [
    "yaml_file = \"../baseline/cantera/chem_annotated.yaml\" \n",
    "with open(yaml_file, \"r\") as f:\n",
    "    mech_yaml = yaml.load(f, Loader=yaml.FullLoader)"
   ]
  },
  {
   "cell_type": "code",
   "execution_count": 9,
   "metadata": {
    "tags": []
   },
   "outputs": [
    {
     "data": {
      "text/plain": [
       "{'equation': 'X(1) + CH3OH*(23) <=> OH*(12) + CH3X(33)',\n",
       " 'id': 'surface1-149',\n",
       " 'rate-constant': {'A': 1.781e+21, 'b': 0.0, 'Ea': 37.589}}"
      ]
     },
     "execution_count": 9,
     "metadata": {},
     "output_type": "execute_result"
    }
   ],
   "source": [
    "mech_yaml[\"surface1-reactions\"][148]"
   ]
  },
  {
   "cell_type": "code",
   "execution_count": 32,
   "metadata": {},
   "outputs": [
    {
     "data": {
      "text/plain": [
       "'/work/westgroup/ChrisB/_01_MeOH_repos/uncertainty_analysis/rmg_gua/gua_peuqse'"
      ]
     },
     "execution_count": 32,
     "metadata": {},
     "output_type": "execute_result"
    }
   ],
   "source": [
    "os.getcwd()"
   ]
  },
  {
   "cell_type": "code",
   "execution_count": 1,
   "metadata": {
    "tags": []
   },
   "outputs": [
    {
     "data": {
      "text/plain": [
       "<cantera.composite.Solution at 0x2ad858bd4230>"
      ]
     },
     "execution_count": 1,
     "metadata": {},
     "output_type": "execute_result"
    }
   ],
   "source": [
    "import cantera as ct\n",
    "ct.Solution(\"../baseline/cantera/chem_annotated_new.yaml\")"
   ]
  },
  {
   "cell_type": "code",
   "execution_count": 2,
   "metadata": {
    "tags": []
   },
   "outputs": [
    {
     "name": "stdout",
     "output_type": "stream",
     "text": [
      "/work/westgroup/ChrisB/_01_MeOH_repos/uncertainty_analysis/peuquse_env/bin/conda\n"
     ]
    }
   ],
   "source": [
    "! which conda"
   ]
  },
  {
   "cell_type": "code",
   "execution_count": 11,
   "metadata": {
    "tags": []
   },
   "outputs": [
    {
     "ename": "AttributeError",
     "evalue": "module 'cantera' has no attribute 'units'",
     "output_type": "error",
     "traceback": [
      "\u001b[0;31m---------------------------------------------------------------------------\u001b[0m",
      "\u001b[0;31mAttributeError\u001b[0m                            Traceback (most recent call last)",
      "\u001b[0;32m/tmp/ipykernel_5808/2589936752.py\u001b[0m in \u001b[0;36m<module>\u001b[0;34m\u001b[0m\n\u001b[1;32m      1\u001b[0m \u001b[0;31m# rate = ReactionRate.from_yaml(\"rate-constant: {A: 38.7, b: 2.7, Ea: 6260.0 cal/mol}\")\u001b[0m\u001b[0;34m\u001b[0m\u001b[0;34m\u001b[0m\u001b[0;34m\u001b[0m\u001b[0m\n\u001b[1;32m      2\u001b[0m \u001b[0;34m\u001b[0m\u001b[0m\n\u001b[0;32m----> 3\u001b[0;31m \u001b[0mct\u001b[0m\u001b[0;34m.\u001b[0m\u001b[0munits\u001b[0m\u001b[0;34m\u001b[0m\u001b[0;34m\u001b[0m\u001b[0m\n\u001b[0m",
      "\u001b[0;31mAttributeError\u001b[0m: module 'cantera' has no attribute 'units'"
     ]
    }
   ],
   "source": [
    "# rate = ReactionRate.from_yaml(\"rate-constant: {A: 38.7, b: 2.7, Ea: 6260.0 cal/mol}\")\n",
    "\n",
    "ct."
   ]
  },
  {
   "cell_type": "code",
   "execution_count": null,
   "metadata": {},
   "outputs": [],
   "source": []
  }
 ],
 "metadata": {
  "kernelspec": {
   "display_name": "Python 3 (ipykernel)",
   "language": "python",
   "name": "python3"
  },
  "language_info": {
   "codemirror_mode": {
    "name": "ipython",
    "version": 3
   },
   "file_extension": ".py",
   "mimetype": "text/x-python",
   "name": "python",
   "nbconvert_exporter": "python",
   "pygments_lexer": "ipython3",
   "version": "3.7.12"
  },
  "vscode": {
   "interpreter": {
    "hash": "761e29b0df9c3d9c34f317b21f9cc637e60a87b96f31ef43d364a03406750816"
   }
  }
 },
 "nbformat": 4,
 "nbformat_minor": 4
}
