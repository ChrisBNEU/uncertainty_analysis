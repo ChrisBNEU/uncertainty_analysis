{
 "cells": [
  {
   "cell_type": "code",
   "execution_count": 20,
   "metadata": {},
   "outputs": [
    {
     "ename": "FileNotFoundError",
     "evalue": "[Errno 2] No such file or directory: './rule_list.yaml'",
     "output_type": "error",
     "traceback": [
      "\u001b[0;31m---------------------------------------------------------------------------\u001b[0m",
      "\u001b[0;31mFileNotFoundError\u001b[0m                         Traceback (most recent call last)",
      "\u001b[0;32m/var/folders/bn/dbr8lwvj63n6nd0_j0blp8s80000gp/T/ipykernel_99197/588170213.py\u001b[0m in \u001b[0;36m<module>\u001b[0;34m\u001b[0m\n\u001b[1;32m     22\u001b[0m \u001b[0mconditions\u001b[0m \u001b[0;34m=\u001b[0m \u001b[0mdata\u001b[0m\u001b[0;34m[\u001b[0m\u001b[0;36m2\u001b[0m\u001b[0;34m]\u001b[0m\u001b[0;34m\u001b[0m\u001b[0;34m\u001b[0m\u001b[0m\n\u001b[1;32m     23\u001b[0m \u001b[0;34m\u001b[0m\u001b[0m\n\u001b[0;32m---> 24\u001b[0;31m \u001b[0;32mwith\u001b[0m \u001b[0mopen\u001b[0m\u001b[0;34m(\u001b[0m\u001b[0mrule_list_path\u001b[0m\u001b[0;34m,\u001b[0m \u001b[0;34m'r'\u001b[0m\u001b[0;34m)\u001b[0m \u001b[0;32mas\u001b[0m \u001b[0mfile\u001b[0m\u001b[0;34m:\u001b[0m\u001b[0;34m\u001b[0m\u001b[0;34m\u001b[0m\u001b[0m\n\u001b[0m\u001b[1;32m     25\u001b[0m     \u001b[0mrule_list\u001b[0m \u001b[0;34m=\u001b[0m \u001b[0myaml\u001b[0m\u001b[0;34m.\u001b[0m\u001b[0msafe_load\u001b[0m\u001b[0;34m(\u001b[0m\u001b[0mfile\u001b[0m\u001b[0;34m)\u001b[0m\u001b[0;34m\u001b[0m\u001b[0;34m\u001b[0m\u001b[0m\n\u001b[1;32m     26\u001b[0m \u001b[0;31m# conditions[\"pressure\"] = 101325\u001b[0m\u001b[0;34m\u001b[0m\u001b[0;34m\u001b[0m\u001b[0;34m\u001b[0m\u001b[0m\n",
      "\u001b[0;31mFileNotFoundError\u001b[0m: [Errno 2] No such file or directory: './rule_list.yaml'"
     ]
    }
   ],
   "source": [
    "# test the sbr class \n",
    "import os\n",
    "import sys\n",
    "import yaml\n",
    "import cantera as ct\n",
    "if os.path.exists(\"/work\"):\n",
    "    prefix = \"/work/westgroup/ChrisB/_01_MeOH_repos/uncertainty_analysis/\"\n",
    "    rmg_prefix = prefix\n",
    "else:\n",
    "    prefix = \"/Users/blais.ch/Documents/_01_code/05_Project_repos_Github/meOH_repos/uncertainty_analysis/\"\n",
    "    rmg_prefix = \"/Users/blais.ch/Documents/_01_code/RMG_env_1\"\n",
    "sys.path.append(prefix)\n",
    "\n",
    "from rmg_gua.gua_cantera.Spinning_basket_reactor.sbr import MinSBR\n",
    "file_path = \"../../baseline/cantera/chem_annotated.cti\"\n",
    "kin_par_path = \"./ct_initial_small.yaml\"\n",
    "expt_condts = \"../../gua_cantera/experiments_reorg_onlyopt.yaml\"\n",
    "rule_list_path = \"./rule_list.yaml\"\n",
    "\n",
    "with open(expt_condts, 'r') as file:\n",
    "    data = yaml.safe_load(file)\n",
    "conditions = data[2]\n",
    "\n",
    "with open(rule_list_path, 'r') as file:\n",
    "    rule_list = yaml.safe_load(file)\n",
    "# conditions[\"pressure\"] = 101325\n",
    "# conditions[\"temperature\"] = 298.15\n",
    "test_sbr = MinSBR(\n",
    "    file_path,\n",
    "    reac_config=conditions,\n",
    "    rtol=1.0e-11,\n",
    "    atol=1.0e-22,\n",
    "    reaction_list=rule_list\n",
    "\n",
    ")\n"
   ]
  },
  {
   "cell_type": "code",
   "execution_count": 1,
   "metadata": {},
   "outputs": [
    {
     "ename": "TypeError",
     "evalue": "make_test_pert_list() got an unexpected keyword argument 'write_out'",
     "output_type": "error",
     "traceback": [
      "\u001b[0;31m---------------------------------------------------------------------------\u001b[0m",
      "\u001b[0;31mTypeError\u001b[0m                                 Traceback (most recent call last)",
      "\u001b[0;32m/var/folders/bn/dbr8lwvj63n6nd0_j0blp8s80000gp/T/ipykernel_26220/1904536171.py\u001b[0m in \u001b[0;36m<module>\u001b[0;34m\u001b[0m\n\u001b[1;32m      6\u001b[0m \u001b[0;34m\u001b[0m\u001b[0m\n\u001b[1;32m      7\u001b[0m \u001b[0mtsbr\u001b[0m \u001b[0;34m=\u001b[0m \u001b[0mTestSBR\u001b[0m\u001b[0;34m(\u001b[0m\u001b[0;34m)\u001b[0m\u001b[0;34m\u001b[0m\u001b[0;34m\u001b[0m\u001b[0m\n\u001b[0;32m----> 8\u001b[0;31m \u001b[0mtsbr\u001b[0m\u001b[0;34m.\u001b[0m\u001b[0msetup_test\u001b[0m\u001b[0;34m(\u001b[0m\u001b[0mbe_pert\u001b[0m\u001b[0;34m=\u001b[0m\u001b[0;32mFalse\u001b[0m\u001b[0;34m)\u001b[0m\u001b[0;34m\u001b[0m\u001b[0;34m\u001b[0m\u001b[0m\n\u001b[0m",
      "\u001b[0;32m~/Documents/_01_code/05_Project_repos_Github/meOH_repos/uncertainty_analysis/rmg_gua/gua_cantera/Spinning_basket_reactor/sbrTest.py\u001b[0m in \u001b[0;36msetup_test\u001b[0;34m(self, be_pert)\u001b[0m\n\u001b[1;32m     24\u001b[0m         self.current_dir = os.path.join(\n\u001b[1;32m     25\u001b[0m             self.repo_dir, \"rmg_gua\", \"gua_cantera\", \"Spinning_basket_reactor\") \n\u001b[0;32m---> 26\u001b[0;31m         \u001b[0mself\u001b[0m\u001b[0;34m.\u001b[0m\u001b[0mpert_list\u001b[0m \u001b[0;34m=\u001b[0m \u001b[0mself\u001b[0m\u001b[0;34m.\u001b[0m\u001b[0mmake_test_pert_list\u001b[0m\u001b[0;34m(\u001b[0m\u001b[0mwrite_out\u001b[0m\u001b[0;34m=\u001b[0m\u001b[0;32mFalse\u001b[0m\u001b[0;34m,\u001b[0m \u001b[0mno_be_pert\u001b[0m\u001b[0;34m=\u001b[0m\u001b[0;32mFalse\u001b[0m\u001b[0;34m)\u001b[0m\u001b[0;34m\u001b[0m\u001b[0;34m\u001b[0m\u001b[0m\n\u001b[0m\u001b[1;32m     27\u001b[0m \u001b[0;34m\u001b[0m\u001b[0m\n\u001b[1;32m     28\u001b[0m         \u001b[0;31m# load the chemkin reaction config\u001b[0m\u001b[0;34m\u001b[0m\u001b[0;34m\u001b[0m\u001b[0;34m\u001b[0m\u001b[0m\n",
      "\u001b[0;31mTypeError\u001b[0m: make_test_pert_list() got an unexpected keyword argument 'write_out'"
     ]
    }
   ],
   "source": [
    "import os\n",
    "import sys\n",
    "sys.path.append(\"/Users/blais.ch/Documents/_01_code/05_Project_repos_Github/meOH_repos/uncertainty_analysis/\")\n",
    "from rmg_gua.gua_cantera.Spinning_basket_reactor.sbrTest import TestSBR\n",
    "\n",
    "\n",
    "tsbr = TestSBR()\n",
    "tsbr.setup_test(be_pert=False)"
   ]
  },
  {
   "cell_type": "code",
   "execution_count": 3,
   "metadata": {},
   "outputs": [
    {
     "name": "stdout",
     "output_type": "stream",
     "text": [
      "/Users/blais.ch/opt/anaconda3/envs/rmg_env/bin:/Users/blais.ch/opt/anaconda3/condabin:/Applications/Julia-1.6.app/Contents/Resources/julia/bin:/Users/blais.ch/Documents/_01_code/RMG_env_1/RMG-Py:/opt/local/bin:/opt/local/sbin:/usr/local/bin:/usr/bin:/bin:/usr/sbin:/sbin:/Library/TeX/texbin:/opt/X11/bin:/Library/Apple/usr/bin:/Applications/Wireshark.app/Contents/MacOS\n"
     ]
    }
   ],
   "source": []
  },
  {
   "cell_type": "code",
   "execution_count": null,
   "metadata": {},
   "outputs": [],
   "source": []
  }
 ],
 "metadata": {
  "kernelspec": {
   "display_name": "rmg_env",
   "language": "python",
   "name": "rmg_env"
  },
  "language_info": {
   "codemirror_mode": {
    "name": "ipython",
    "version": 3
   },
   "file_extension": ".py",
   "mimetype": "text/x-python",
   "name": "python",
   "nbconvert_exporter": "python",
   "pygments_lexer": "ipython3",
   "version": "3.7.16"
  },
  "orig_nbformat": 4
 },
 "nbformat": 4,
 "nbformat_minor": 2
}
