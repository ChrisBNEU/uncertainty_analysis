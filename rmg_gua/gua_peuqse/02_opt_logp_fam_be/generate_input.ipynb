{
 "cells": [
  {
   "cell_type": "code",
   "execution_count": 1,
   "metadata": {},
   "outputs": [],
   "source": [
    "import collections\n",
    "import sys\n",
    "import os\n",
    "import time\n",
    "import yaml\n",
    "import pandas as pd\n",
    "import math\n",
    "import re\n",
    "import logging\n",
    "import numpy as np \n",
    "from copy import deepcopy\n",
    "from rmgpy.chemkin import load_chemkin_file\n",
    "from rmgpy.rmg.model import ReactionModel\n",
    "from rmgpy.species import Species\n",
    "from rmgpy.kinetics import StickingCoefficientBEP, StickingCoefficient, SurfaceArrheniusBEP, SurfaceArrhenius\n",
    "# get type of reaction\n",
    "from rmgpy.data.kinetics.family import TemplateReaction\n",
    "from rmgpy.data.kinetics.library import LibraryReaction \n",
    "from rmgpy.data.kinetics.database import KineticsDatabase\n",
    "import cantera as ct\n",
    "from matplotlib import pyplot as plt\n",
    "\n",
    "if os.path.exists(\"/work\"):\n",
    "    prefix = \"/work/westgroup/ChrisB/_01_MeOH_repos/uncertainty_analysis/\"\n",
    "    rmg_prefix = prefix\n",
    "else:\n",
    "    prefix = \"/Users/blais.ch/Documents/_01_code/05_Project_repos_Github/meOH_repos/uncertainty_analysis/\"\n",
    "    rmg_prefix = \"/Users/blais.ch/Documents/_01_code/RMG_env_1\"\n",
    "sys.path.append(prefix)\n",
    "from rmg_gua.gua_peuqse.peuqse_utilities import *\n"
   ]
  },
  {
   "cell_type": "code",
   "execution_count": 12,
   "metadata": {},
   "outputs": [
    {
     "ename": "IndexError",
     "evalue": "1",
     "output_type": "error",
     "traceback": [
      "\u001b[0;31m---------------------------------------------------------------------------\u001b[0m",
      "\u001b[0;31mIndexError\u001b[0m                                Traceback (most recent call last)",
      "\u001b[0;32m/var/folders/bn/dbr8lwvj63n6nd0_j0blp8s80000gp/T/ipykernel_98548/1142191011.py\u001b[0m in \u001b[0;36m<module>\u001b[0;34m\u001b[0m\n\u001b[1;32m      1\u001b[0m \u001b[0;32mfrom\u001b[0m \u001b[0mpathlib\u001b[0m \u001b[0;32mimport\u001b[0m \u001b[0mPath\u001b[0m\u001b[0;34m\u001b[0m\u001b[0;34m\u001b[0m\u001b[0m\n\u001b[0;32m----> 2\u001b[0;31m \u001b[0mprefix\u001b[0m \u001b[0;34m=\u001b[0m \u001b[0mPath\u001b[0m\u001b[0;34m(\u001b[0m\u001b[0;34m\"./\"\u001b[0m\u001b[0;34m)\u001b[0m\u001b[0;34m.\u001b[0m\u001b[0mparents\u001b[0m\u001b[0;34m[\u001b[0m\u001b[0;36m1\u001b[0m\u001b[0;34m]\u001b[0m\u001b[0;34m\u001b[0m\u001b[0;34m\u001b[0m\u001b[0m\n\u001b[0m",
      "\u001b[0;32m~/opt/anaconda3/envs/rmg_env/lib/python3.7/pathlib.py\u001b[0m in \u001b[0;36m__getitem__\u001b[0;34m(self, idx)\u001b[0m\n\u001b[1;32m    610\u001b[0m     \u001b[0;32mdef\u001b[0m \u001b[0m__getitem__\u001b[0m\u001b[0;34m(\u001b[0m\u001b[0mself\u001b[0m\u001b[0;34m,\u001b[0m \u001b[0midx\u001b[0m\u001b[0;34m)\u001b[0m\u001b[0;34m:\u001b[0m\u001b[0;34m\u001b[0m\u001b[0;34m\u001b[0m\u001b[0m\n\u001b[1;32m    611\u001b[0m         \u001b[0;32mif\u001b[0m \u001b[0midx\u001b[0m \u001b[0;34m<\u001b[0m \u001b[0;36m0\u001b[0m \u001b[0;32mor\u001b[0m \u001b[0midx\u001b[0m \u001b[0;34m>=\u001b[0m \u001b[0mlen\u001b[0m\u001b[0;34m(\u001b[0m\u001b[0mself\u001b[0m\u001b[0;34m)\u001b[0m\u001b[0;34m:\u001b[0m\u001b[0;34m\u001b[0m\u001b[0;34m\u001b[0m\u001b[0m\n\u001b[0;32m--> 612\u001b[0;31m             \u001b[0;32mraise\u001b[0m \u001b[0mIndexError\u001b[0m\u001b[0;34m(\u001b[0m\u001b[0midx\u001b[0m\u001b[0;34m)\u001b[0m\u001b[0;34m\u001b[0m\u001b[0;34m\u001b[0m\u001b[0m\n\u001b[0m\u001b[1;32m    613\u001b[0m         return self._pathcls._from_parsed_parts(self._drv, self._root,\n\u001b[1;32m    614\u001b[0m                                                 self._parts[:-idx - 1])\n",
      "\u001b[0;31mIndexError\u001b[0m: 1"
     ]
    }
   ],
   "source": [
    "from pathlib import Path\n",
    "prefix = Path(\"./\").parents[1]"
   ]
  },
  {
   "cell_type": "code",
   "execution_count": 2,
   "metadata": {},
   "outputs": [
    {
     "name": "stderr",
     "output_type": "stream",
     "text": [
      "WARNING:root:Only Arrhenius and PDepArrhenius kinetics supported for duplicate reactions.\n",
      "WARNING:root:Only Arrhenius and PDepArrhenius kinetics supported for duplicate reactions.\n",
      "WARNING:root:Only Arrhenius and PDepArrhenius kinetics supported for duplicate reactions.\n",
      "WARNING:root:Only Arrhenius and PDepArrhenius kinetics supported for duplicate reactions.\n",
      "WARNING:root:Only Arrhenius and PDepArrhenius kinetics supported for duplicate reactions.\n",
      "WARNING:root:Only Arrhenius and PDepArrhenius kinetics supported for duplicate reactions.\n",
      "WARNING:root:Only Arrhenius and PDepArrhenius kinetics supported for duplicate reactions.\n",
      "WARNING:root:Only Arrhenius and PDepArrhenius kinetics supported for duplicate reactions.\n",
      "WARNING:root:Only Arrhenius and PDepArrhenius kinetics supported for duplicate reactions.\n",
      "WARNING:root:Only Arrhenius and PDepArrhenius kinetics supported for duplicate reactions.\n",
      "WARNING:root:Only Arrhenius and PDepArrhenius kinetics supported for duplicate reactions.\n",
      "WARNING:root:Only Arrhenius and PDepArrhenius kinetics supported for duplicate reactions.\n",
      "WARNING:root:Only Arrhenius and PDepArrhenius kinetics supported for duplicate reactions.\n",
      "WARNING:root:Only Arrhenius and PDepArrhenius kinetics supported for duplicate reactions.\n",
      "WARNING:root:Only Arrhenius and PDepArrhenius kinetics supported for duplicate reactions.\n",
      "WARNING:root:Only Arrhenius and PDepArrhenius kinetics supported for duplicate reactions.\n",
      "WARNING:root:Only Arrhenius and PDepArrhenius kinetics supported for duplicate reactions.\n",
      "WARNING:root:Only Arrhenius and PDepArrhenius kinetics supported for duplicate reactions.\n",
      "WARNING:root:Only Arrhenius and PDepArrhenius kinetics supported for duplicate reactions.\n",
      "WARNING:root:Only Arrhenius and PDepArrhenius kinetics supported for duplicate reactions.\n",
      "WARNING:root:Only Arrhenius and PDepArrhenius kinetics supported for duplicate reactions.\n",
      "WARNING:root:Only Arrhenius and PDepArrhenius kinetics supported for duplicate reactions.\n",
      "WARNING:root:Only Arrhenius and PDepArrhenius kinetics supported for duplicate reactions.\n",
      "WARNING:root:Only Arrhenius and PDepArrhenius kinetics supported for duplicate reactions.\n",
      "WARNING:root:Only Arrhenius and PDepArrhenius kinetics supported for duplicate reactions.\n",
      "WARNING:root:Only Arrhenius and PDepArrhenius kinetics supported for duplicate reactions.\n",
      "WARNING:root:Only Arrhenius and PDepArrhenius kinetics supported for duplicate reactions.\n",
      "WARNING:root:Only Arrhenius and PDepArrhenius kinetics supported for duplicate reactions.\n",
      "WARNING:root:Only Arrhenius and PDepArrhenius kinetics supported for duplicate reactions.\n",
      "WARNING:root:Only Arrhenius and PDepArrhenius kinetics supported for duplicate reactions.\n",
      "WARNING:root:Only Arrhenius and PDepArrhenius kinetics supported for duplicate reactions.\n",
      "WARNING:root:Only Arrhenius and PDepArrhenius kinetics supported for duplicate reactions.\n",
      "WARNING:root:Only Arrhenius and PDepArrhenius kinetics supported for duplicate reactions.\n",
      "WARNING:root:Only Arrhenius and PDepArrhenius kinetics supported for duplicate reactions.\n",
      "WARNING:root:Only Arrhenius and PDepArrhenius kinetics supported for duplicate reactions.\n",
      "WARNING:root:Only Arrhenius and PDepArrhenius kinetics supported for duplicate reactions.\n",
      "WARNING:root:Only Arrhenius and PDepArrhenius kinetics supported for duplicate reactions.\n",
      "WARNING:root:Only Arrhenius and PDepArrhenius kinetics supported for duplicate reactions.\n",
      "WARNING:root:Only Arrhenius and PDepArrhenius kinetics supported for duplicate reactions.\n",
      "WARNING:root:Only Arrhenius and PDepArrhenius kinetics supported for duplicate reactions.\n",
      "WARNING:root:Only Arrhenius and PDepArrhenius kinetics supported for duplicate reactions.\n",
      "WARNING:root:Only Arrhenius and PDepArrhenius kinetics supported for duplicate reactions.\n",
      "WARNING:root:Only Arrhenius and PDepArrhenius kinetics supported for duplicate reactions.\n",
      "WARNING:root:Only Arrhenius and PDepArrhenius kinetics supported for duplicate reactions.\n",
      "WARNING:root:Only Arrhenius and PDepArrhenius kinetics supported for duplicate reactions.\n",
      "WARNING:root:Only Arrhenius and PDepArrhenius kinetics supported for duplicate reactions.\n",
      "WARNING:root:Only Arrhenius and PDepArrhenius kinetics supported for duplicate reactions.\n",
      "WARNING:root:Only Arrhenius and PDepArrhenius kinetics supported for duplicate reactions.\n",
      "WARNING:root:Only Arrhenius and PDepArrhenius kinetics supported for duplicate reactions.\n",
      "WARNING:root:Only Arrhenius and PDepArrhenius kinetics supported for duplicate reactions.\n",
      "WARNING:root:Only Arrhenius and PDepArrhenius kinetics supported for duplicate reactions.\n",
      "WARNING:root:Only Arrhenius and PDepArrhenius kinetics supported for duplicate reactions.\n",
      "WARNING:root:Only Arrhenius and PDepArrhenius kinetics supported for duplicate reactions.\n",
      "WARNING:root:Only Arrhenius and PDepArrhenius kinetics supported for duplicate reactions.\n",
      "WARNING:root:Only Arrhenius and PDepArrhenius kinetics supported for duplicate reactions.\n",
      "WARNING:root:Only Arrhenius and PDepArrhenius kinetics supported for duplicate reactions.\n",
      "WARNING:root:Only Arrhenius and PDepArrhenius kinetics supported for duplicate reactions.\n",
      "WARNING:root:Only Arrhenius and PDepArrhenius kinetics supported for duplicate reactions.\n",
      "WARNING:root:Only Arrhenius and PDepArrhenius kinetics supported for duplicate reactions.\n"
     ]
    }
   ],
   "source": [
    "# load rmg database\n",
    "kdb_path = os.path.join(rmg_prefix, \"RMG-database\", \"input\", \"kinetics\")\n",
    "kdb = KineticsDatabase()\n",
    "kdb.load(kdb_path, families='surface', depositories=False)"
   ]
  },
  {
   "attachments": {},
   "cell_type": "markdown",
   "metadata": {},
   "source": [
    "### Pull rule values from rmg-db"
   ]
  },
  {
   "cell_type": "code",
   "execution_count": 3,
   "metadata": {},
   "outputs": [
    {
     "data": {
      "text/plain": [
       "{'Surface_Abstraction : Abstracting;Donating': {'A': 17.621176281775035,\n",
       "  'E0': 99300.0,\n",
       "  'alpha': 0.37},\n",
       " 'Surface_Abstraction : Abstracting;*R-H': {'A': 17.621176281775035,\n",
       "  'E0': 99300.0,\n",
       "  'alpha': 0.37},\n",
       " 'Surface_Abstraction : O;*C-H': {'A': 17.621176281775035,\n",
       "  'E0': 129300.00000000001,\n",
       "  'alpha': 0.94},\n",
       " 'Surface_Abstraction : O;*OH': {'A': 17.621176281775035,\n",
       "  'E0': 15400.0,\n",
       "  'alpha': 0.65},\n",
       " 'Surface_Abstraction : C;*C-H': {'A': 17.621176281775035,\n",
       "  'E0': 99300.0,\n",
       "  'alpha': 0.37},\n",
       " 'Surface_Abstraction : O;*=CH-H': {'A': 17.320146286111054,\n",
       "  'E0': 129300.00000000001,\n",
       "  'alpha': 0.94},\n",
       " 'Surface_Abstraction : O;*-CH-H': {'A': 17.320146286111054,\n",
       "  'E0': 129300.00000000001,\n",
       "  'alpha': 0.94},\n",
       " 'Surface_Abstraction : C;*-CH-H': {'A': 17.320146286111054,\n",
       "  'E0': 99300.0,\n",
       "  'alpha': 0.37},\n",
       " 'Surface_Abstraction : C;*=CH-H': {'A': 17.320146286111054,\n",
       "  'E0': 99300.0,\n",
       "  'alpha': 0.37},\n",
       " 'Surface_Abstraction : C;*-CH2-H': {'A': 17.143951116423963,\n",
       "  'E0': 99300.0,\n",
       "  'alpha': 0.37},\n",
       " 'Surface_Abstraction : O;*-CH2-H': {'A': 17.143951116423963,\n",
       "  'E0': 129300.00000000001,\n",
       "  'alpha': 0.94},\n",
       " 'Surface_Abstraction_Beta : Abstracting;Donating': {'A': 17.621176281775035,\n",
       "  'E0': 129300.00000000001,\n",
       "  'alpha': 0.94},\n",
       " 'Surface_Abstraction_Beta : O;R-C-H': {'A': 17.621176281775035,\n",
       "  'E0': 129300.00000000001,\n",
       "  'alpha': 0.94},\n",
       " 'Surface_Abstraction_Beta : O;R-O-H': {'A': 17.621176281775035,\n",
       "  'E0': 15400.0,\n",
       "  'alpha': 0.65},\n",
       " 'Surface_Abstraction_Beta : O;R-CH3': {'A': 17.143951116423963,\n",
       "  'E0': 129300.00000000001,\n",
       "  'alpha': 0.94},\n",
       " 'Surface_Abstraction_Beta : Abstracting;R-CH3': {'A': 17.143951116423963,\n",
       "  'E0': 129300.00000000001,\n",
       "  'alpha': 0.94},\n",
       " 'Surface_Abstraction_Beta_double_vdW : Abstracting;Donating': {'A': 17.621176281775035,\n",
       "  'E0': 106100.0,\n",
       "  'alpha': 0.68},\n",
       " 'Surface_Abstraction_Beta_double_vdW : OH;R-C-H': {'A': 17.621176281775035,\n",
       "  'E0': 106100.0,\n",
       "  'alpha': 0.68},\n",
       " 'Surface_Abstraction_Beta_double_vdW : OH;R-O-H': {'A': 17.621176281775035,\n",
       "  'E0': 1900.0,\n",
       "  'alpha': 0.02},\n",
       " 'Surface_Abstraction_Beta_double_vdW : Abstracting;R-CH3': {'A': 17.143951116423963,\n",
       "  'E0': 106100.0,\n",
       "  'alpha': 0.68},\n",
       " 'Surface_Abstraction_Beta_double_vdW : OH;R-CH3': {'A': 17.143951116423963,\n",
       "  'E0': 106100.0,\n",
       "  'alpha': 0.68},\n",
       " 'Surface_Abstraction_Beta_vdW : Abstracting;Donating': {'A': 17.621176281775035,\n",
       "  'E0': 129300.00000000001,\n",
       "  'alpha': 0.94},\n",
       " 'Surface_Abstraction_Beta_vdW : O;R-C-H': {'A': 17.621176281775035,\n",
       "  'E0': 129300.00000000001,\n",
       "  'alpha': 0.94},\n",
       " 'Surface_Abstraction_Beta_vdW : O;R-O-H': {'A': 17.621176281775035,\n",
       "  'E0': 15400.0,\n",
       "  'alpha': 0.65},\n",
       " 'Surface_Abstraction_Beta_vdW : Abstracting;R-CH3': {'A': 17.143951116423963,\n",
       "  'E0': 129300.00000000001,\n",
       "  'alpha': 0.94},\n",
       " 'Surface_Abstraction_Beta_vdW : O;R-CH3': {'A': 17.143951116423963,\n",
       "  'E0': 129300.00000000001,\n",
       "  'alpha': 0.94},\n",
       " 'Surface_Abstraction_Single_vdW : Donating;Abstracting': {'A': 13.0,\n",
       "  'E0': 0.0,\n",
       "  'alpha': 0.5},\n",
       " 'Surface_Abstraction_vdW : AdsorbateVdW;Adsorbate1': {'A': 13.0,\n",
       "  'E0': 0.0,\n",
       "  'alpha': 0.5},\n",
       " 'Surface_Addition_Single_vdW : AdsorbateVdW;Adsorbate1': {'A': 13.0,\n",
       "  'E0': 20920.0,\n",
       "  'alpha': 0.5},\n",
       " 'Surface_Adsorption_Bidentate : Adsorbate;VacantSite1;VacantSite2': {'A': 0.2,\n",
       "  'E0': 0.0,\n",
       "  'alpha': 0.0},\n",
       " 'Surface_Adsorption_Dissociative : Adsorbate;VacantSite1;VacantSite2': {'A': 0.1,\n",
       "  'E0': 107900.0,\n",
       "  'alpha': 0.69},\n",
       " 'Surface_Adsorption_Dissociative : H2;VacantSite1;VacantSite2': {'A': 0.1,\n",
       "  'E0': 3800.0,\n",
       "  'alpha': 0.0},\n",
       " 'Surface_Adsorption_Dissociative : CH4;VacantSite1;VacantSite2': {'A': 0.17897694729316943,\n",
       "  'E0': 58000.0,\n",
       "  'alpha': 0.0},\n",
       " 'Surface_Adsorption_Dissociative : C2H6;VacantSite1;VacantSite2': {'A': 0.342,\n",
       "  'E0': 42700.0,\n",
       "  'alpha': 0.0},\n",
       " 'Surface_Adsorption_Dissociative : C3H8;VacantSite1;VacantSite2': {'A': 0.198,\n",
       "  'E0': 33600.0,\n",
       "  'alpha': 0.0},\n",
       " 'Surface_Adsorption_Dissociative : C-H;VacantSite1;VacantSite2': {'A': 0.1,\n",
       "  'E0': 107900.0,\n",
       "  'alpha': 0.69},\n",
       " 'Surface_Adsorption_Dissociative : O-H;VacantSite1;VacantSite2': {'A': 0.1,\n",
       "  'E0': 107900.0,\n",
       "  'alpha': 0.69},\n",
       " 'Surface_Adsorption_Dissociative : CH3OH;VacantSite1;VacantSite2': {'A': 0.033,\n",
       "  'E0': 107100.0,\n",
       "  'alpha': 0.76},\n",
       " 'Surface_Adsorption_Dissociative : C2H4;VacantSite1;VacantSite2': {'A': 0.025,\n",
       "  'E0': 107900.0,\n",
       "  'alpha': 0.69},\n",
       " 'Surface_Adsorption_Dissociative_Double : Adsorbate;VacantSite1;VacantSite2': {'A': 0.01,\n",
       "  'E0': 41840.0,\n",
       "  'alpha': 0.0},\n",
       " 'Surface_Adsorption_Single : Adsorbate;VacantSite': {'A': 0.1,\n",
       "  'E0': 0.0,\n",
       "  'alpha': 0.0},\n",
       " 'Surface_Adsorption_vdW : Adsorbate;VacantSite': {'A': 0.1,\n",
       "  'E0': 0.0,\n",
       "  'alpha': 0.0},\n",
       " 'Surface_Bidentate_Dissociation : Combined': {'A': 12.07445071895459,\n",
       "  'E0': 145686.88,\n",
       "  'alpha': 0.842},\n",
       " 'Surface_Dissociation : Combined;VacantSite': {'A': 17.621176281775035,\n",
       "  'E0': 185142.0,\n",
       "  'alpha': 0.84},\n",
       " 'Surface_Dissociation : C-H_Bidentate;VacantSite': {'A': 16.860338006570995,\n",
       "  'E0': 93596.08,\n",
       "  'alpha': 0.961},\n",
       " 'Surface_Dissociation : C-O;VacantSite': {'A': 17.621176281775035,\n",
       "  'E0': 142800.0,\n",
       "  'alpha': 0.77},\n",
       " 'Surface_Dissociation : C-H;VacantSite': {'A': 17.621176281775035,\n",
       "  'E0': 75300.0,\n",
       "  'alpha': 0.57},\n",
       " 'Surface_Dissociation : O-H;VacantSite': {'A': 17.621176281775035,\n",
       "  'E0': 73300.0,\n",
       "  'alpha': 0.26},\n",
       " 'Surface_Dissociation : C-OH;VacantSite': {'A': 17.621176281775035,\n",
       "  'E0': 117700.0,\n",
       "  'alpha': 0.58},\n",
       " 'Surface_Dissociation : C-C;VacantSite': {'A': 17.621176281775035,\n",
       "  'E0': 126400.0,\n",
       "  'alpha': 0.72},\n",
       " 'Surface_Dissociation : CH2;VacantSite': {'A': 17.320146286111054,\n",
       "  'E0': 75300.0,\n",
       "  'alpha': 0.57},\n",
       " 'Surface_Dissociation : CH3;VacantSite': {'A': 17.143014800254097,\n",
       "  'E0': 75300.0,\n",
       "  'alpha': 0.57},\n",
       " 'Surface_Dissociation : CH2R;VacantSite': {'A': 17.320146286111054,\n",
       "  'E0': 75300.0,\n",
       "  'alpha': 0.57},\n",
       " 'Surface_Dissociation : CHR;VacantSite': {'A': 17.621176281775035,\n",
       "  'E0': 75300.0,\n",
       "  'alpha': 0.57},\n",
       " 'Surface_Dissociation_Beta : Combined;VacantSite': {'A': 17.621176281775035,\n",
       "  'E0': 185100.0,\n",
       "  'alpha': 0.84},\n",
       " 'Surface_Dissociation_Beta : C-H;VacantSite': {'A': 17.621176281775035,\n",
       "  'E0': 112900.0,\n",
       "  'alpha': 0.58},\n",
       " 'Surface_Dissociation_Beta : O-H;VacantSite': {'A': 17.621176281775035,\n",
       "  'E0': 73300.0,\n",
       "  'alpha': 0.26},\n",
       " 'Surface_Dissociation_Beta : CH3;VacantSite': {'A': 17.143951116423963,\n",
       "  'E0': 112900.0,\n",
       "  'alpha': 0.58},\n",
       " 'Surface_Dissociation_Beta_vdW : Combined;VacantSite': {'A': 17.621176281775035,\n",
       "  'E0': 112900.0,\n",
       "  'alpha': 0.58},\n",
       " 'Surface_Dissociation_Beta_vdW : C-H;VacantSite': {'A': 17.621176281775035,\n",
       "  'E0': 112900.0,\n",
       "  'alpha': 0.58},\n",
       " 'Surface_Dissociation_Beta_vdW : O-H;VacantSite': {'A': 17.621176281775035,\n",
       "  'E0': 73300.0,\n",
       "  'alpha': 0.26},\n",
       " 'Surface_Dissociation_Beta_vdW : CH3;VacantSite': {'A': 17.143951116423963,\n",
       "  'E0': 112900.0,\n",
       "  'alpha': 0.58},\n",
       " 'Surface_Dissociation_Double : Combined;VacantSite': {'A': 17.621176281775035,\n",
       "  'E0': 185100.0,\n",
       "  'alpha': 0.84},\n",
       " 'Surface_Dissociation_Double : C=O;VacantSite': {'A': 17.621176281775035,\n",
       "  'E0': 142800.0,\n",
       "  'alpha': 0.77},\n",
       " 'Surface_Dissociation_Double : C=C;VacantSite': {'A': 17.621176281775035,\n",
       "  'E0': 126400.0,\n",
       "  'alpha': 0.72},\n",
       " 'Surface_Dissociation_Double_vdW : AdsorbateVdW;VacantSite': {'A': 13.0,\n",
       "  'E0': 0.0,\n",
       "  'alpha': 0.44},\n",
       " 'Surface_Dissociation_to_Bidentate : Combined;VacantSite1;VacantSite2': {'A': 21.75785134368558,\n",
       "  'E0': 50668.24,\n",
       "  'alpha': 0.0824},\n",
       " 'Surface_Dissociation_vdW : Combined;VacantSite': {'A': 17.621176281775035,\n",
       "  'E0': 185100.0,\n",
       "  'alpha': 0.84},\n",
       " 'Surface_Dissociation_vdW : H2O;VacantSite': {'A': 17.320146286111054,\n",
       "  'E0': 97500.0,\n",
       "  'alpha': 0.51},\n",
       " 'Surface_Dissociation_vdW : C-OH;VacantSite': {'A': 17.621176281775035,\n",
       "  'E0': 117700.0,\n",
       "  'alpha': 0.58},\n",
       " 'Surface_Dissociation_vdW : C-H;VacantSite': {'A': 17.621176281775035,\n",
       "  'E0': 75250.0,\n",
       "  'alpha': 0.57},\n",
       " 'Surface_Dissociation_vdW : CH4;VacantSite': {'A': 17.019116290447073,\n",
       "  'E0': 75250.0,\n",
       "  'alpha': 0.57},\n",
       " 'Surface_Dissociation_vdW : CH3R;VacantSite': {'A': 17.143014800254097,\n",
       "  'E0': 75250.0,\n",
       "  'alpha': 0.57},\n",
       " 'Surface_Dissociation_vdW : CH2R;VacantSite': {'A': 17.320146286111054,\n",
       "  'E0': 75250.0,\n",
       "  'alpha': 0.57},\n",
       " 'Surface_Dissociation_vdW : C-C;VacantSite': {'A': 17.320146286111054,\n",
       "  'E0': 126390.0,\n",
       "  'alpha': 0.72},\n",
       " 'Surface_Dissociation_vdW : C2H6;VacantSite': {'A': 16.838849090737256,\n",
       "  'E0': 75250.0,\n",
       "  'alpha': 0.57},\n",
       " 'Surface_Dissociation_vdW : C2H4;VacantSite': {'A': 17.019116290447073,\n",
       "  'E0': 75250.0,\n",
       "  'alpha': 0.57},\n",
       " 'Surface_DoubleBond_to_Bidentate : Combined;VacantSite': {'A': 15.630427875025024,\n",
       "  'E0': 4184.0,\n",
       "  'alpha': 0.0},\n",
       " 'Surface_Dual_Adsorption_vdW : Adsorbate1;Adsorbate2': {'A': 13.0,\n",
       "  'E0': 0.0,\n",
       "  'alpha': 0.0},\n",
       " 'Surface_EleyRideal_Addition_Multiple_Bond : Adsorbate1;Gas': {'A': 5e-06,\n",
       "  'E0': 68660.0,\n",
       "  'alpha': 0.0},\n",
       " 'Surface_Migration : Adsorbate1': {'A': 13.0, 'E0': 50000.0, 'alpha': 0.0},\n",
       " 'Surface_vdW_to_Bidentate : Combined;VacantSite': {'A': 17.0,\n",
       "  'E0': 29288.0,\n",
       "  'alpha': 0.0}}"
      ]
     },
     "execution_count": 3,
     "metadata": {},
     "output_type": "execute_result"
    }
   ],
   "source": [
    "# first get the values for A, E0, and Alpha from all of the surface families\n",
    "rule_dict = {}\n",
    "for fname, family in kdb.families.items(): \n",
    "    for rule_name, rule in family.rules.entries.items():\n",
    "        entry = rule[0].data\n",
    "        if entry.A.value_si > 1.0: \n",
    "            A_val = math.log10(entry.A.value_si)\n",
    "        else:\n",
    "            A_val = entry.A.value_si\n",
    "        rule_dict[fname + \" : \" +  rule_name] = {\n",
    "            'A': A_val, \n",
    "            'E0': entry.E0.value_si, \n",
    "            'alpha': entry.alpha.value_si\n",
    "            }  \n",
    "rule_config_file = os.path.join(prefix, \"rmg_gua\", \"gua_peuqse\", \"02_opt_logp_fam_be\", \"rule_config.yaml\")\n",
    "with open(rule_config_file, 'w') as f:\n",
    "    yaml.safe_dump(rule_dict, f, sort_keys=False)\n",
    "rule_dict"
   ]
  },
  {
   "cell_type": "code",
   "execution_count": 4,
   "metadata": {},
   "outputs": [],
   "source": [
    "rule_list = []\n",
    "for rule, vals in rule_dict.items():\n",
    "    rule_list.extend([vals[\"A\"], vals[\"E0\"], vals[\"alpha\"]])\n",
    "rule_list_file = os.path.join(prefix, \"rmg_gua\", \"gua_peuqse\", \"02_opt_logp_fam_be\", \"rule_list.yaml\")\n",
    "with open(rule_list_file, 'w') as f:\n",
    "    yaml.safe_dump(rule_list, f, sort_keys=False)"
   ]
  },
  {
   "cell_type": "code",
   "execution_count": 5,
   "metadata": {},
   "outputs": [],
   "source": [
    "rule_dict_2 = deepcopy(rule_dict)\n",
    "count = 0\n",
    "for rule, vals in rule_dict.items():\n",
    "    rule_dict_2[rule][\"A\"] = rule_list[count]\n",
    "    count += 1\n",
    "    rule_dict_2[rule][\"E0\"] = rule_list[count]\n",
    "    count += 1\n",
    "    rule_dict_2[rule][\"alpha\"] = rule_list[count]\n",
    "    count += 1\n",
    "\n",
    "    # verify that rule_dict == rule_dict_2\n",
    "    assert rule_dict[rule][\"A\"] == rule_dict_2[rule][\"A\"]\n",
    "    assert rule_dict[rule][\"E0\"] == rule_dict_2[rule][\"E0\"]\n",
    "    assert rule_dict[rule][\"alpha\"] == rule_dict_2[rule][\"alpha\"]"
   ]
  },
  {
   "attachments": {},
   "cell_type": "markdown",
   "metadata": {},
   "source": [
    "### construct the chemkin dictionary"
   ]
  },
  {
   "cell_type": "code",
   "execution_count": 6,
   "metadata": {},
   "outputs": [],
   "source": [
    "# def make_ct_peuq_input_all(path, overwrite=True):\n",
    "\"\"\"\n",
    "generate the input required for the kinetic model parameters in peuqse.\n",
    "\"\"\"\n",
    "# now load the sensitive reactions\n",
    "path = os.path.join(prefix, \"rmg_gua\", \"baseline\")\n",
    "\n",
    "# load the chemkin file\n",
    "chemkin_file = os.path.join(path, \"chemkin\", \"chem_annotated-gas.inp\")\n",
    "chemkin_surf_file = os.path.join(path, \"chemkin\", \"chem_annotated-surface.inp\")\n",
    "chemkin_dict = os.path.join(path, \"chemkin\", \"species_dictionary.txt\")\n",
    "\n",
    "# load the chemkin file\n",
    "model = ReactionModel()\n",
    "model.species, model.reactions = load_chemkin_file(\n",
    "    chemkin_file,\n",
    "    dictionary_path=chemkin_dict,\n",
    "    surface_path=chemkin_surf_file,\n",
    "    use_chemkin_names=True,\n",
    ")"
   ]
  },
  {
   "cell_type": "code",
   "execution_count": 7,
   "metadata": {},
   "outputs": [],
   "source": [
    "ck_rule_dict = []\n",
    "for rxn in model.reactions:\n",
    "    if rxn.is_surface_reaction():\n",
    "        if isinstance(rxn, TemplateReaction):\n",
    "\n",
    "            comment = rxn.kinetics.comment\n",
    "            if \"Estimated using template\" in comment: \n",
    "                if \"Average of\" in comment:\n",
    "                    template_str = re.search(r'Average of \\[(.+?)\\]', comment).group(1)\n",
    "                else:\n",
    "                    template_str = re.search(r'Estimated using template \\[(.+?)\\]', comment).group(1)\n",
    "            elif \"Estimated using an average for rate rule\" in comment:\n",
    "                template_str = re.search(r'Estimated using an average for rate rule \\[(.+?)\\]', comment).group(1)\n",
    "            elif \"Exact match found for rate rule\" in comment:\n",
    "                template_str = re.search(r'Exact match found for rate rule \\[(.+?)\\]', comment).group(1)\n",
    "            else:\n",
    "                print(f\"no template found for {rxn.to_labeled_str(use_index=True)}\")\n",
    "\n",
    "            # get rxn path degeneracy\n",
    "            if \"Multiplied by reaction path degeneracy\" in comment:\n",
    "                deg = float(re.search(r'Multiplied by reaction path degeneracy (.+?)\\.', comment).group(1))\n",
    "            else:\n",
    "                deg = 1.0\n",
    "            \n",
    "            if rxn.kinetics.A.value_si <=1.0:\n",
    "                A_val = rxn.kinetics.A.value_si\n",
    "                rtype = \"stick\"\n",
    "            else: \n",
    "                A_val = math.log10(rxn.kinetics.A.value_si)\n",
    "                rtype = \"arrhenius\"\n",
    "            Ea_val = rxn.kinetics.Ea.value_si\n",
    "\n",
    "            reac_dict = {\n",
    "                \"A\":A_val,\n",
    "                \"Ea\":Ea_val,\n",
    "            }\n",
    "\n",
    "            dhrxn = rxn.get_enthalpy_of_reaction(298)\n",
    "            source_str = rxn.family + \" : \" + template_str\n",
    "            reactants = [f\"{spc.label}({spc.index})\" for spc in rxn.reactants]\n",
    "            products = [f\"{spc.label}({spc.index})\" for spc in rxn.products]\n",
    "            # make a list \n",
    "            ck_rule_dict.append({rxn.to_labeled_str(use_index=True):{\n",
    "                \"reactants\": reactants, \"products\":products ,\"source\": source_str, \n",
    "                \"dHrxn\": dhrxn, \"reac_dict\": reac_dict, \"rtype\":rtype, \"deg\":deg}})\n",
    "            # ck_rule_dict[rxn.to_labeled_str(use_index=True)] = {\n",
    "            #     \"reactants\": reactants, \"products\":products ,\"source\": source_str, \n",
    "            #     \"dHrxn\": dhrxn, \"reac_dict\": reac_dict, \"rtype\":rtype, \"deg\":deg}\n",
    "            # print(rxn.family)\n",
    "            # print(rxn.template, template_str)\n",
    "ck_rule_dict_path = os.path.join(prefix, \"rmg_gua\", \"gua_peuqse\", \"02_opt_logp_fam_be\", \"ck_rule_dict.yaml\")\n",
    "with open(ck_rule_dict_path, 'w') as f:\n",
    "    yaml.dump(ck_rule_dict, f)"
   ]
  },
  {
   "attachments": {},
   "cell_type": "markdown",
   "metadata": {},
   "source": [
    "### get the number of sites and what atom each species contains"
   ]
  },
  {
   "cell_type": "code",
   "execution_count": 8,
   "metadata": {},
   "outputs": [
    {
     "ename": "NameError",
     "evalue": "name 'spec' is not defined",
     "output_type": "error",
     "traceback": [
      "\u001b[0;31m---------------------------------------------------------------------------\u001b[0m",
      "\u001b[0;31mNameError\u001b[0m                                 Traceback (most recent call last)",
      "\u001b[0;32m/var/folders/bn/dbr8lwvj63n6nd0_j0blp8s80000gp/T/ipykernel_98548/3816865815.py\u001b[0m in \u001b[0;36m<module>\u001b[0;34m\u001b[0m\n\u001b[0;32m----> 1\u001b[0;31m \u001b[0mdir\u001b[0m\u001b[0;34m(\u001b[0m\u001b[0mspec\u001b[0m\u001b[0;34m)\u001b[0m\u001b[0;34m\u001b[0m\u001b[0;34m\u001b[0m\u001b[0m\n\u001b[0m",
      "\u001b[0;31mNameError\u001b[0m: name 'spec' is not defined"
     ]
    }
   ],
   "source": [
    "dir(spec)"
   ]
  },
  {
   "attachments": {},
   "cell_type": "markdown",
   "metadata": {},
   "source": [
    "### change the binding energy for CHON and vdw species\n",
    "save the bond order dict and the original binding energies. we will perturb the BE for copper\n"
   ]
  },
  {
   "cell_type": "code",
   "execution_count": null,
   "metadata": {},
   "outputs": [
    {
     "data": {
      "text/plain": [
       "{'H': (-2.58383,'eV/molecule'),\n",
       " 'C': (-4.96034,'eV/molecule'),\n",
       " 'N': (-3.58447,'eV/molecule'),\n",
       " 'O': (-4.20764,'eV/molecule'),\n",
       " 'vdw': (0.0, 'eV/molecule')}"
      ]
     },
     "execution_count": 24,
     "metadata": {},
     "output_type": "execute_result"
    }
   ],
   "source": [
    "# load the metal database\n",
    "from rmgpy.data.surface import MetalDatabase\n",
    "\n",
    "mdb = MetalDatabase()\n",
    "mdb.load(os.path.join(rmg_prefix, \"RMG-database\", \"input\", \"surface\"))\n",
    "\n",
    "# platinum binding energies\n",
    "platinum_binding_energies = mdb.get_binding_energies(\"Pt111\")\n",
    "platinum_binding_energies[\"vdw\"] = (0.0, \"eV/molecule\")\n",
    "# copper binding energies\n",
    "copper_binding_energies = mdb.get_binding_energies(\"Cu111\")\n",
    "copper_binding_energies[\"vdw\"] = (0.0, \"eV/molecule\")\n"
   ]
  },
  {
   "cell_type": "code",
   "execution_count": 9,
   "metadata": {},
   "outputs": [
    {
     "name": "stdout",
     "output_type": "stream",
     "text": [
      "N2(-1) is a gas phase species\n",
      "Ne(-1) is a gas phase species\n",
      "H2(2) is a gas phase species\n",
      "CO(3) is a gas phase species\n",
      "CO2(4) is a gas phase species\n",
      "H2O(5) is a gas phase species\n",
      "CH2O(6) is a gas phase species\n",
      "HCOOH(7) is a gas phase species\n",
      "CH3OH(8) is a gas phase species\n",
      "HCOOCH3(9) is a gas phase species\n",
      "C(40) is a gas phase species\n",
      "empty surface site, skipping\n"
     ]
    },
    {
     "data": {
      "image/png": "[encoded data removed]",
      "text/plain": [
       "Species(index=1, label=\"X\", thermo=NASA(polynomials=[NASAPolynomial(coeffs=[0.00710129,-4.2561e-05,8.98507e-08,-7.8017e-11,2.32458e-14,-0.876097,-0.0311207], Tmin=(100,'K'), Tmax=(1554.81,'K')), NASAPolynomial(coeffs=[0.160303,-0.00025224,1.14183e-07,-1.21476e-11,3.85826e-16,-70.8117,-0.909545], Tmin=(1554.81,'K'), Tmax=(5000,'K'))], Tmin=(100,'K'), Tmax=(5000,'K'), comment=\"\"\"Thermo library: surfaceThermoPt111 Binding energy corrected by LSR () from Pt111\"\"\"), molecule=[Molecule(smiles=\"[Pt]\")], molecular_weight=(0,'amu'))"
      ]
     },
     "metadata": {},
     "output_type": "display_data"
    },
    {
     "name": "stdout",
     "output_type": "stream",
     "text": [
      "X(1) bond orders:{'C': 0.0, 'O': 0.0, 'N': 0.0, 'H': 0.0, 'vdw': 0.0}\n"
     ]
    },
    {
     "data": {
      "image/png": "[encoded data removed]",
      "text/plain": [
       "Species(index=10, label=\"H*\", thermo=NASA(polynomials=[NASAPolynomial(coeffs=[-0.380945,0.00547204,2.61004e-06,-9.65087e-09,4.64002e-12,-1405.57,1.01718], Tmin=(100,'K'), Tmax=(952.9,'K')), NASAPolynomial(coeffs=[2.80333,-0.000540929,4.99439e-07,-7.548e-11,3.06636e-15,-2346.29,-15.9433], Tmin=(952.9,'K'), Tmax=(5000,'K'))], Tmin=(100,'K'), Tmax=(5000,'K'), comment=\"\"\"Thermo library: surfaceThermoPt111 Binding energy corrected by LSR (1.00H) from Pt111\"\"\"), molecule=[Molecule(smiles=\"[Pt]\")], molecular_weight=(1.00797,'amu'))"
      ]
     },
     "metadata": {},
     "output_type": "display_data"
    },
    {
     "name": "stdout",
     "output_type": "stream",
     "text": [
      "H*(10) bond orders:{'C': 0.0, 'O': 0.0, 'N': 0.0, 'H': 1.0, 'vdw': 0.0}\n"
     ]
    },
    {
     "data": {
      "image/png": "[encoded data removed]",
      "text/plain": [
       "Species(index=11, label=\"O*\", thermo=NASA(polynomials=[NASAPolynomial(coeffs=[-0.759013,0.0189868,-3.82474e-05,3.43558e-08,-1.13974e-11,-21835.6,1.76017], Tmin=(100,'K'), Tmax=(888.26,'K')), NASAPolynomial(coeffs=[1.89894,0.00203295,-1.19977e-06,2.32681e-10,-1.53508e-14,-22111.2,-9.64104], Tmin=(888.26,'K'), Tmax=(5000,'K'))], Tmin=(100,'K'), Tmax=(5000,'K'), comment=\"\"\"Thermo library: surfaceThermoPt111 Binding energy corrected by LSR (1.00O) from Pt111\"\"\"), molecule=[Molecule(smiles=\"O=[Pt]\")], molecular_weight=(15.9994,'amu'))"
      ]
     },
     "metadata": {},
     "output_type": "display_data"
    },
    {
     "name": "stdout",
     "output_type": "stream",
     "text": [
      "O*(11) bond orders:{'C': 0.0, 'O': 1.0, 'N': 0.0, 'H': 0.0, 'vdw': 0.0}\n"
     ]
    },
    {
     "data": {
      "image/png": "[encoded data removed]",
      "text/plain": [
       "Species(index=12, label=\"OH*\", thermo=NASA(polynomials=[NASAPolynomial(coeffs=[-1.29518,0.0336481,-7.07736e-05,6.54341e-08,-2.19422e-11,-21645.4,4.37639], Tmin=(100,'K'), Tmax=(914.56,'K')), NASAPolynomial(coeffs=[2.43527,0.00464626,-2.40003e-06,4.26388e-10,-2.60639e-14,-21797.2,-10.3871], Tmin=(914.56,'K'), Tmax=(5000,'K'))], Tmin=(100,'K'), Tmax=(5000,'K'), comment=\"\"\"Thermo library: surfaceThermoPt111 Binding energy corrected by LSR (0.50O) from Pt111\"\"\"), molecule=[Molecule(smiles=\"O[Pt]\")], molecular_weight=(17.0074,'amu'))"
      ]
     },
     "metadata": {},
     "output_type": "display_data"
    },
    {
     "name": "stdout",
     "output_type": "stream",
     "text": [
      "OH*(12) bond orders:{'C': 0.0, 'O': 0.5, 'N': 0.0, 'H': 0.0, 'vdw': 0.0}\n"
     ]
    },
    {
     "data": {
      "image/png": "[encoded data removed]",
      "text/plain": [
       "Species(index=13, label=\"H2O*\", thermo=NASA(polynomials=[NASAPolynomial(coeffs=[-1.34341,0.0366697,-7.99484e-05,7.7413e-08,-2.68668e-11,-32349,11.0238], Tmin=(100,'K'), Tmax=(912.85,'K')), NASAPolynomial(coeffs=[1.12161,0.00816635,-4.02356e-06,7.20415e-10,-4.51438e-14,-32061.5,3.39603], Tmin=(912.85,'K'), Tmax=(5000,'K'))], Tmin=(100,'K'), Tmax=(5000,'K'), comment=\"\"\"Thermo library: surfaceThermoPt111 Binding energy corrected by LSR () from Pt111\"\"\"), molecule=[Molecule(smiles=\"O.[Pt]\")], molecular_weight=(18.0153,'amu'))"
      ]
     },
     "metadata": {},
     "output_type": "display_data"
    },
    {
     "name": "stdout",
     "output_type": "stream",
     "text": [
      "H2O*(13) bond orders:{'C': 0.0, 'O': 0.0, 'N': 0.0, 'H': 0.0, 'vdw': 1.0}\n"
     ]
    },
    {
     "data": {
      "image/png": "[encoded data removed]",
      "text/plain": [
       "Species(index=14, label=\"CO*\", thermo=NASA(polynomials=[NASAPolynomial(coeffs=[-1.38214,0.0375305,-8.29758e-05,8.09702e-08,-2.85471e-11,-22537,4.35448], Tmin=(100,'K'), Tmax=(891.33,'K')), NASAPolynomial(coeffs=[1.38091,0.00805719,-4.64309e-06,8.91171e-10,-5.90048e-14,-22351.3,-4.85318], Tmin=(891.33,'K'), Tmax=(5000,'K'))], Tmin=(100,'K'), Tmax=(5000,'K'), comment=\"\"\"Thermo library: surfaceThermoPt111 Binding energy corrected by LSR (0.50C) from Pt111\"\"\"), molecule=[Molecule(smiles=\"O=C=[Pt]\")], molecular_weight=(28.01,'amu'))"
      ]
     },
     "metadata": {},
     "output_type": "display_data"
    },
    {
     "name": "stdout",
     "output_type": "stream",
     "text": [
      "CO*(14) bond orders:{'C': 0.5, 'O': 0.0, 'N': 0.0, 'H': 0.0, 'vdw': 0.0}\n"
     ]
    },
    {
     "data": {
      "image/png": "[encoded data removed]",
      "text/plain": [
       "Species(index=15, label=\"CO2*\", thermo=NASA(polynomials=[NASAPolynomial(coeffs=[-1.46246,0.0378469,-7.61216e-05,7.1831e-08,-2.50679e-11,-52421.8,12.0604], Tmin=(100,'K'), Tmax=(875.18,'K')), NASAPolynomial(coeffs=[2.0419,0.00907405,-4.94339e-06,9.56497e-10,-6.46915e-14,-52546.6,-1.58791], Tmin=(875.18,'K'), Tmax=(5000,'K'))], Tmin=(100,'K'), Tmax=(5000,'K'), comment=\"\"\"Thermo library: surfaceThermoPt111 Binding energy corrected by LSR () from Pt111\"\"\"), molecule=[Molecule(smiles=\"O=C=O.[Pt]\")], molecular_weight=(44.0094,'amu'))"
      ]
     },
     "metadata": {},
     "output_type": "display_data"
    },
    {
     "name": "stdout",
     "output_type": "stream",
     "text": [
      "CO2*(15) bond orders:{'C': 0.0, 'O': 0.0, 'N': 0.0, 'H': 0.0, 'vdw': 1.0}\n"
     ]
    },
    {
     "data": {
      "image/png": "[encoded data removed]",
      "text/plain": [
       "Species(index=16, label=\"HCO*\", thermo=NASA(polynomials=[NASAPolynomial(coeffs=[-1.43677,0.036924,-7.17891e-05,6.73513e-08,-2.35169e-11,-21694.8,8.27552], Tmin=(100,'K'), Tmax=(873.23,'K')), NASAPolynomial(coeffs=[1.83274,0.010078,-5.2854e-06,1.01354e-09,-6.85198e-14,-21813.3,-4.46357], Tmin=(873.23,'K'), Tmax=(5000,'K'))], Tmin=(100,'K'), Tmax=(5000,'K'), comment=\"\"\"Thermo library: surfaceThermoPt111 Binding energy corrected by LSR (0.25C) from Pt111\"\"\"), molecule=[Molecule(smiles=\"O=C[Pt]\")], molecular_weight=(29.018,'amu'))"
      ]
     },
     "metadata": {},
     "output_type": "display_data"
    },
    {
     "name": "stdout",
     "output_type": "stream",
     "text": [
      "HCO*(16) bond orders:{'C': 0.25, 'O': 0.0, 'N': 0.0, 'H': 0.0, 'vdw': 0.0}\n"
     ]
    },
    {
     "data": {
      "image/png": "[encoded data removed]",
      "text/plain": [
       "Species(index=17, label=\"HCOO*\", thermo=NASA(polynomials=[NASAPolynomial(coeffs=[-1.76227,0.0429174,-7.4076e-05,6.53456e-08,-2.23035e-11,-56036.4,6.20751], Tmin=(100,'K'), Tmax=(830.1,'K')), NASAPolynomial(coeffs=[3.26719,0.0120319,-6.24861e-06,1.2214e-09,-8.47341e-14,-56642.3,-15.7401], Tmin=(830.1,'K'), Tmax=(5000,'K'))], Tmin=(100,'K'), Tmax=(5000,'K'), comment=\"\"\"Thermo library: surfaceThermoPt111 Binding energy corrected by LSR (0.50O) from Pt111\"\"\"), molecule=[Molecule(smiles=\"O=CO[Pt]\")], molecular_weight=(45.0174,'amu'))"
      ]
     },
     "metadata": {},
     "output_type": "display_data"
    },
    {
     "name": "stdout",
     "output_type": "stream",
     "text": [
      "HCOO*(17) bond orders:{'C': 0.0, 'O': 0.5, 'N': 0.0, 'H': 0.0, 'vdw': 0.0}\n"
     ]
    },
    {
     "data": {
      "image/png": "[encoded data removed]",
      "text/plain": [
       "Species(index=18, label=\"COOH*\", thermo=NASA(polynomials=[NASAPolynomial(coeffs=[-1.63327,0.0387824,-6.41967e-05,5.36653e-08,-1.74576e-11,-51554,11.9828], Tmin=(100,'K'), Tmax=(816.9,'K')), NASAPolynomial(coeffs=[3.9072,0.00895137,-4.45969e-06,8.65653e-10,-6.00138e-14,-52369,-13.0745], Tmin=(816.9,'K'), Tmax=(5000,'K'))], Tmin=(100,'K'), Tmax=(5000,'K'), comment=\"\"\"Thermo library: surfaceThermoPt111 Binding energy corrected by LSR (0.25C) from Pt111\"\"\"), molecule=[Molecule(smiles=\"O=C(O)[Pt]\")], molecular_weight=(45.0174,'amu'))"
      ]
     },
     "metadata": {},
     "output_type": "display_data"
    },
    {
     "name": "stdout",
     "output_type": "stream",
     "text": [
      "COOH*(18) bond orders:{'C': 0.25, 'O': 0.0, 'N': 0.0, 'H': 0.0, 'vdw': 0.0}\n"
     ]
    },
    {
     "data": {
      "image/png": "[encoded data removed]",
      "text/plain": [
       "Species(index=19, label=\"HCOOH*\", thermo=NASA(polynomials=[NASAPolynomial(coeffs=[-1.86634,0.0464166,-8.23167e-05,7.46408e-08,-2.57981e-11,-53276.8,17.2794], Tmin=(100,'K'), Tmax=(855.7,'K')), NASAPolynomial(coeffs=[2.69766,0.01431,-7.1529e-06,1.37052e-09,-9.36313e-14,-53663.5,-1.72361], Tmin=(855.7,'K'), Tmax=(5000,'K'))], Tmin=(100,'K'), Tmax=(5000,'K'), comment=\"\"\"Thermo library: surfaceThermoPt111 Binding energy corrected by LSR () from Pt111\"\"\"), molecule=[Molecule(smiles=\"O=CO.[Pt]\")], molecular_weight=(46.0254,'amu'))"
      ]
     },
     "metadata": {},
     "output_type": "display_data"
    },
    {
     "name": "stdout",
     "output_type": "stream",
     "text": [
      "HCOOH*(19) bond orders:{'C': 0.0, 'O': 0.0, 'N': 0.0, 'H': 0.0, 'vdw': 1.0}\n"
     ]
    },
    {
     "data": {
      "image/png": "[encoded data removed]",
      "text/plain": [
       "Species(index=20, label=\"CH2O*\", thermo=NASA(polynomials=[NASAPolynomial(coeffs=[-1.467,0.0413875,-8.87629e-05,9.10129e-08,-3.36616e-11,-20300.2,15.7179], Tmin=(100,'K'), Tmax=(879.31,'K')), NASAPolynomial(coeffs=[-0.892866,0.0166195,-8.7159e-06,1.66815e-09,-1.12503e-13,-19544.7,17.8925], Tmin=(879.31,'K'), Tmax=(5000,'K'))], Tmin=(100,'K'), Tmax=(5000,'K'), comment=\"\"\"Thermo library: surfaceThermoPt111 Binding energy corrected by LSR () from Pt111\"\"\"), molecule=[Molecule(smiles=\"C=O.[Pt]\")], molecular_weight=(30.026,'amu'))"
      ]
     },
     "metadata": {},
     "output_type": "display_data"
    },
    {
     "name": "stdout",
     "output_type": "stream",
     "text": [
      "CH2O*(20) bond orders:{'C': 0.0, 'O': 0.0, 'N': 0.0, 'H': 0.0, 'vdw': 1.0}\n"
     ]
    },
    {
     "data": {
      "image/png": "[encoded data removed]",
      "text/plain": [
       "Species(index=21, label=\"CH3O*\", thermo=NASA(polynomials=[NASAPolynomial(coeffs=[-1.68419,0.0428019,-7.50767e-05,7.03657e-08,-2.50908e-11,-22313.7,7.76412], Tmin=(100,'K'), Tmax=(857.67,'K')), NASAPolynomial(coeffs=[1.14787,0.0171346,-8.39649e-06,1.59811e-09,-1.08978e-13,-22341.3,-2.79261], Tmin=(857.67,'K'), Tmax=(5000,'K'))], Tmin=(100,'K'), Tmax=(5000,'K'), comment=\"\"\"Thermo library: surfaceThermoPt111 Binding energy corrected by LSR (0.50O) from Pt111\"\"\"), molecule=[Molecule(smiles=\"CO[Pt]\")], molecular_weight=(31.034,'amu'))"
      ]
     },
     "metadata": {},
     "output_type": "display_data"
    },
    {
     "name": "stdout",
     "output_type": "stream",
     "text": [
      "CH3O*(21) bond orders:{'C': 0.0, 'O': 0.5, 'N': 0.0, 'H': 0.0, 'vdw': 0.0}\n"
     ]
    },
    {
     "data": {
      "image/png": "[encoded data removed]",
      "text/plain": [
       "Species(index=22, label=\"CH3O2*\", thermo=NASA(polynomials=[NASAPolynomial(coeffs=[3.21916,0.00671722,3.72272e-05,-5.73634e-08,2.36261e-11,-47489.4,-6.14518], Tmin=(100,'K'), Tmax=(932.26,'K')), NASAPolynomial(coeffs=[10.3102,0.00304297,9.70765e-08,-3.19267e-11,-2.13473e-15,-49974,-46.0929], Tmin=(932.26,'K'), Tmax=(5000,'K'))], Tmin=(100,'K'), Tmax=(5000,'K'), comment=\"\"\"Gas phase thermo for HOCH2O from Thermo library: DFT_QCI_thermo. Adsorption correction: + Thermo group additivity estimation: adsorptionPt111(O-*R)\n",
       "Binding energy corrected by LSR (0.50O) from Pt111\"\"\"), molecule=[Molecule(smiles=\"OCO[Pt]\")], molecular_weight=(47.0334,'amu'))"
      ]
     },
     "metadata": {},
     "output_type": "display_data"
    },
    {
     "name": "stdout",
     "output_type": "stream",
     "text": [
      "CH3O2*(22) bond orders:{'C': 0.0, 'O': 0.5, 'N': 0.0, 'H': 0.0, 'vdw': 0.0}\n"
     ]
    },
    {
     "data": {
      "image/png": "[encoded data removed]",
      "text/plain": [
       "Species(index=23, label=\"CH3OH*\", thermo=NASA(polynomials=[NASAPolynomial(coeffs=[-1.64007,0.0409972,-6.66149e-05,6.12087e-08,-2.17722e-11,-30508.7,13.8244], Tmin=(100,'K'), Tmax=(850.42,'K')), NASAPolynomial(coeffs=[1.0183,0.0182967,-8.58984e-06,1.62233e-09,-1.10734e-13,-30592.2,3.59793], Tmin=(850.42,'K'), Tmax=(5000,'K'))], Tmin=(100,'K'), Tmax=(5000,'K'), comment=\"\"\"Thermo library: surfaceThermoPt111 Binding energy corrected by LSR () from Pt111\"\"\"), molecule=[Molecule(smiles=\"CO.[Pt]\")], molecular_weight=(32.0419,'amu'))"
      ]
     },
     "metadata": {},
     "output_type": "display_data"
    },
    {
     "name": "stdout",
     "output_type": "stream",
     "text": [
      "CH3OH*(23) bond orders:{'C': 0.0, 'O': 0.0, 'N': 0.0, 'H': 0.0, 'vdw': 1.0}\n"
     ]
    },
    {
     "data": {
      "image/png": "[encoded data removed]",
      "text/plain": [
       "Species(index=45, label=\"CH3OX\", thermo=NASA(polynomials=[NASAPolynomial(coeffs=[-1.68231,0.0397248,-5.96102e-05,4.86913e-08,-1.58045e-11,-29160.8,8.26684], Tmin=(100,'K'), Tmax=(813.96,'K')), NASAPolynomial(coeffs=[3.25577,0.0130435,-5.99161e-06,1.13139e-09,-7.77154e-14,-29884.7,-14.0488], Tmin=(813.96,'K'), Tmax=(5000,'K'))], Tmin=(100,'K'), Tmax=(5000,'K'), comment=\"\"\"Thermo library: surfaceThermoPt111 Binding energy corrected by LSR (0.25C) from Pt111\"\"\"), molecule=[Molecule(smiles=\"OC[Pt]\")], molecular_weight=(31.034,'amu'))"
      ]
     },
     "metadata": {},
     "output_type": "display_data"
    },
    {
     "name": "stdout",
     "output_type": "stream",
     "text": [
      "CH3OX(45) bond orders:{'C': 0.25, 'O': 0.0, 'N': 0.0, 'H': 0.0, 'vdw': 0.0}\n"
     ]
    },
    {
     "data": {
      "image/png": "[encoded data removed]",
      "text/plain": [
       "Species(index=55, label=\"CH3X\", thermo=NASA(polynomials=[NASAPolynomial(coeffs=[-1.21089,0.0292388,-4.49002e-05,3.85996e-08,-1.30354e-11,-129.919,6.80933], Tmin=(100,'K'), Tmax=(848.32,'K')), NASAPolynomial(coeffs=[1.62287,0.0112988,-5.08321e-06,9.46844e-10,-6.42894e-14,-445.968,-5.42479], Tmin=(848.32,'K'), Tmax=(5000,'K'))], Tmin=(100,'K'), Tmax=(5000,'K'), comment=\"\"\"Thermo library: surfaceThermoPt111 Binding energy corrected by LSR (0.25C) from Pt111\"\"\"), molecule=[Molecule(smiles=\"C[Pt]\")], molecular_weight=(15.0346,'amu'))"
      ]
     },
     "metadata": {},
     "output_type": "display_data"
    },
    {
     "name": "stdout",
     "output_type": "stream",
     "text": [
      "CH3X(55) bond orders:{'C': 0.25, 'O': 0.0, 'N': 0.0, 'H': 0.0, 'vdw': 0.0}\n"
     ]
    }
   ],
   "source": [
    "\n",
    "\"\"\"\n",
    "\"\"\" \n",
    "# get the bond order and original BE\n",
    "bond_orders = {}\n",
    "\n",
    "# We want a test species for each element w/ 2 different bond orders\n",
    "test_spec = {\n",
    "    \"vdw\": \"\",\n",
    "    \"CS\": \"\", \n",
    "    \"CD\": \"\",\n",
    "    \"CT\": \"\",\n",
    "    \"OS\": \"\", \n",
    "    \"OD\": \"\",\n",
    "    \"NS\": \"\",\n",
    "    \"ND\": \"\",\n",
    "    \"HS\": \"\",\n",
    "}\n",
    "original_be = {}\n",
    "for spec in model.species: \n",
    "    if spec.contains_surface_site():\n",
    "\n",
    "        adatoms = spec.molecule[0].get_adatoms()\n",
    "        surface_sites = []\n",
    "        isvdw = False\n",
    "        for atom in spec.molecule[0].atoms:\n",
    "            if atom.is_surface_site():\n",
    "                surface_sites.append(atom)\n",
    "        normalized_bonds = {'C': 0., 'O': 0., 'N': 0., 'H': 0., 'vdw': 0.}\n",
    "        max_bond_order = {'C': 4., 'O': 2., 'N': 3., 'H': 1.,} \n",
    "        \n",
    "\n",
    "        for site in surface_sites:\n",
    "            numbonds = len(site.bonds)\n",
    "            if numbonds == 0 and len(spec.molecule[0].atoms) > 1:\n",
    "                isvdw = True\n",
    "                normalized_bonds['vdw'] = 1.\n",
    "                pass\n",
    "            elif numbonds == 0 and len(spec.molecule[0].atoms) == 1:\n",
    "                print(\"empty surface site, skipping\")\n",
    "                pass\n",
    "            else:\n",
    "                assert len(site.bonds) == 1, \"Each surface site can only be bonded to 1 atom\"\n",
    "                bonded_atom = list(site.bonds.keys())[0]\n",
    "                bond = site.bonds[bonded_atom]\n",
    "                if bond.is_single():\n",
    "                    bond_order = 1.\n",
    "                elif bond.is_double():\n",
    "                    bond_order = 2.\n",
    "                elif bond.is_triple():\n",
    "                    bond_order = 3.\n",
    "                elif bond.is_quadruple():\n",
    "                    bond_order = 4.\n",
    "\n",
    "                normalized_bonds[bonded_atom.symbol] += bond_order / max_bond_order[bonded_atom.symbol]\n",
    "\n",
    "\n",
    "        spec_ct_label = f\"{spec.label}({spec.index})\"\n",
    "        bond_orders[spec_ct_label] = normalized_bonds\n",
    "        display(spec)\n",
    "        print(f\"{spec.label}({spec.index}) bond orders:{bond_orders[spec_ct_label]}\")\n",
    "        \n",
    "        # test species\n",
    "        if normalized_bonds['vdw'] == 1. and len(test_spec['vdw']) == 0:\n",
    "            test_spec['vdw'] = spec_ct_label\n",
    "        elif normalized_bonds['C'] == 0.25 and len(test_spec['CS']) == 0:\n",
    "            test_spec['CS'] = spec_ct_label\n",
    "        elif normalized_bonds['C'] == 0.5 and len(test_spec['CD']) == 0:\n",
    "            test_spec['CD'] = spec_ct_label\n",
    "        elif normalized_bonds['C'] == 0.75 and len(test_spec['CT']) == 0:\n",
    "            test_spec['CT'] = spec_ct_label\n",
    "        elif normalized_bonds['O'] == 0.5 and len(test_spec['OS']) == 0:\n",
    "            test_spec['OS'] = spec_ct_label\n",
    "        elif normalized_bonds['O'] == 1. and len(test_spec['OD']) == 0:\n",
    "            test_spec['OD'] = spec_ct_label\n",
    "        elif np.isclose(normalized_bonds['N'], 0.3) and len(test_spec['NS']) == 0:\n",
    "            test_spec['NS'] = spec_ct_label\n",
    "        elif normalized_bonds['N'] == 1. and len(test_spec['ND']) == 0:\n",
    "            test_spec['ND'] = spec_ct_label\n",
    "        elif normalized_bonds['H'] == 1. and len(test_spec['HS']) == 0:\n",
    "            test_spec['HS'] = spec_ct_label\n",
    "\n",
    "    else: \n",
    "        print(f\"{spec.label}({spec.index}) is a gas phase species\")\n",
    "        pass\n",
    "# perturb each species BE via lsr\n",
    "thermo_pert_file = os.path.join(prefix, \"rmg_gua\", \"gua_peuqse\", \"02_opt_logp_fam_be\", \"thermo_pert.yaml\")\n",
    "with open(thermo_pert_file, 'w') as f:\n",
    "    yaml.safe_dump(bond_orders, f, sort_keys=False)\n",
    "\n",
    "# make the last values of the pert_dict the original BE\n",
    "if len(rule_list) ==\n",
    "    rule_list.extend([0,0,0,0,0])\n",
    "\n"
   ]
  },
  {
   "cell_type": "code",
   "execution_count": null,
   "metadata": {},
   "outputs": [
    {
     "name": "stdout",
     "output_type": "stream",
     "text": [
      "perts kj/mol:  {'C': -30.0, 'O': -20.0, 'N': 10.0, 'H': 10.0, 'vdw': 20.0}\n",
      "X(1)\n",
      "old h298: H*(10) -10.557342306971785\n",
      "new h298:  -0.5573423069717843\n",
      "diff:  10.0\n",
      "old h298: O*(11) -178.7060982439154\n",
      "new h298:  -198.70609824391542\n",
      "diff:  -20.00000000000003\n",
      "old h298: OH*(12) -174.95560243281275\n",
      "new h298:  -184.95560243281273\n",
      "diff:  -9.999999999999972\n",
      "old h298: H2O*(13) -263.45003347211446\n",
      "new h298:  -243.45003347211448\n",
      "diff:  19.99999999999997\n",
      "old h298: CO*(14) -181.81664416005242\n",
      "new h298:  -196.81664416005242\n",
      "diff:  -15.0\n",
      "old h298: HCO*(16) -174.55637161010625\n",
      "new h298:  -182.05637161010628\n",
      "diff:  -7.500000000000028\n",
      "compare vdw pert to actual pert for H2O*(13)\n",
      "diff:  19.99999999999997\n",
      "expected diff:  20.0\n",
      "compare CS pert to actual pert for HCO*(16)\n",
      "diff:  -7.500000000000028\n",
      "expected diff:  -7.5\n",
      "compare CD pert to actual pert for CO*(14)\n",
      "diff:  -15.0\n",
      "expected diff:  -15.0\n",
      "compare OS pert to actual pert for OH*(12)\n",
      "diff:  -9.999999999999972\n",
      "expected diff:  -10.0\n",
      "compare OD pert to actual pert for O*(11)\n",
      "diff:  -20.00000000000003\n",
      "expected diff:  -20.0\n",
      "compare HS pert to actual pert for H*(10)\n",
      "diff:  10.0\n",
      "expected diff:  10.0\n"
     ]
    }
   ],
   "source": [
    "# make list of perturbations\n",
    "import numpy as np\n",
    "thermo_pert_list = [-3e7,-2e7,1e7,1e7,2e7] \n",
    "\n",
    "# load in the perts to a dict\n",
    "thermo_pert_dict = {'C': 0., 'O': 0., 'N': 0., 'H': 0., 'vdw': 0.}\n",
    "for num, (key, value) in enumerate(thermo_pert_dict.items()):\n",
    "    thermo_pert_dict[key] = thermo_pert_list[num]\n",
    "\n",
    "# now load the perturbations to the cantera thermo\n",
    "thermo_pert_file = os.path.join(prefix, \"rmg_gua\", \"gua_peuqse\", \"02_opt_logp_fam_be\", \"thermo_pert.yaml\")\n",
    "with open(thermo_pert_file, 'r') as f:\n",
    "    bond_orders = yaml.safe_load(f)\n",
    "\n",
    "# load the cantera mechanism\n",
    "cti_path = os.path.join(prefix, \"rmg_gua\", \"baseline\", \"cantera\", \"chem_annotated.cti\")\n",
    "gas = ct.Solution(cti_path, \"gas\")\n",
    "surf = ct.Interface(cti_path, \"surface1\", [gas])\n",
    "\n",
    "# dh is range of 0.3 eV, or 1e7 j/kmol\n",
    "kj_thermo_pert = {k: v/1e6 for k, v in thermo_pert_dict.items()}\n",
    "print(\"perts kj/mol: \", kj_thermo_pert)\n",
    "\n",
    "old_h298 = {}\n",
    "for spec in surf.species():\n",
    "    if spec.name == \"X(1)\":\n",
    "        print(spec.name)\n",
    "        pass\n",
    "    else:\n",
    "        dh = 0. \n",
    "\n",
    "        species = spec.name\n",
    "        if species in test_spec.values():\n",
    "            old_h298[species] = spec.thermo.h(298.15)/1e6\n",
    "        # calculate dh\n",
    "        bo_spec = bond_orders[species] \n",
    "        for atom, value in bo_spec.items():\n",
    "            dh += thermo_pert_dict[atom] * value\n",
    "\n",
    "        st_orig = spec.thermo\n",
    "\n",
    "        coeffs = st_orig.coeffs\n",
    "        coeffs[[6, 13]] += dh / ct.gas_constant\n",
    "        s_new = ct.NasaPoly2(st_orig.min_temp, st_orig.max_temp, st_orig.reference_pressure, coeffs)\n",
    "        spec.thermo = s_new\n",
    "        surf.modify_species(surf.species_index(species), spec)\n",
    "\n",
    "        if species in test_spec.values():\n",
    "            print(f\"old h298: {species}\", old_h298[species])\n",
    "            print(\"new h298: \", spec.thermo.h(298.15)/1e6)\n",
    "            diff = spec.thermo.h(298.15)/1e6 - old_h298[species]\n",
    "\n",
    "            print(\"diff: \", diff)\n",
    "\n",
    "            pert = dh/1e6\n",
    "\n",
    "            assert np.isclose(diff, pert, rtol=1e-3, atol=1e-3)\n",
    "# get thermo perturbations in kj/mol\n",
    "\n",
    "# test that perturbations are correct (should change by perturbation value at 298K)\n",
    "# does not acount for bidentates\n",
    "for bo, spec in test_spec.items():\n",
    "    if len(spec) > 0:\n",
    "        if bo == \"vdw\":\n",
    "            expected_diff = kj_thermo_pert[\"vdw\"]\n",
    "        elif bo == \"CS\":\n",
    "            expected_diff = kj_thermo_pert[\"C\"] * 0.25\n",
    "        elif bo == \"CD\":\n",
    "            expected_diff = kj_thermo_pert[\"C\"] * 0.5\n",
    "        elif bo == \"CT\":\n",
    "            expected_diff = kj_thermo_pert[\"C\"] * 0.75\n",
    "        elif bo == \"OS\":\n",
    "            expected_diff = kj_thermo_pert[\"O\"] * 0.5\n",
    "        elif bo == \"OD\":\n",
    "            expected_diff = kj_thermo_pert[\"O\"] * 1.0\n",
    "        elif bo == \"NS\":\n",
    "            expected_diff = kj_thermo_pert[\"N\"] / 3\n",
    "        elif bo == \"ND\":\n",
    "            expected_diff = kj_thermo_pert[\"N\"] *(2/3)\n",
    "        elif bo == \"HS\":\n",
    "            expected_diff = kj_thermo_pert[\"H\"] * 1.0\n",
    "\n",
    "        thermo_new = surf.species(surf.species_index(spec)).thermo\n",
    "        diff = thermo_new.h(298.15)/1e6 - old_h298[spec]\n",
    "        print(f\"compare {bo} pert to actual pert for {spec}\")\n",
    "        print(\"diff: \", diff)\n",
    "        print(\"expected diff: \", expected_diff)\n",
    "    \n",
    "        assert np.isclose(diff, expected_diff, rtol=1e-3, atol=1e-3), f\"{bo} perturbation is not correct\"\n"
   ]
  },
  {
   "cell_type": "code",
   "execution_count": 95,
   "metadata": {},
   "outputs": [
    {
     "data": {
      "text/plain": [
       "-243.45003347211448"
      ]
     },
     "execution_count": 95,
     "metadata": {},
     "output_type": "execute_result"
    }
   ],
   "source": [
    "thermo_new.h(298.15)/1e6"
   ]
  },
  {
   "cell_type": "code",
   "execution_count": 96,
   "metadata": {},
   "outputs": [
    {
     "data": {
      "text/plain": [
       "{'H*(10)': -10.557342306971785,\n",
       " 'O*(11)': -178.7060982439154,\n",
       " 'OH*(12)': -174.95560243281275,\n",
       " 'H2O*(13)': -263.45003347211446,\n",
       " 'CO*(14)': -181.81664416005242,\n",
       " 'HCO*(16)': -174.55637161010625}"
      ]
     },
     "execution_count": 96,
     "metadata": {},
     "output_type": "execute_result"
    }
   ],
   "source": [
    "old_h298"
   ]
  },
  {
   "attachments": {},
   "cell_type": "markdown",
   "metadata": {},
   "source": [
    "### Now change the cantera mechanism using values from the two dictionaries"
   ]
  },
  {
   "cell_type": "code",
   "execution_count": 9,
   "metadata": {},
   "outputs": [],
   "source": [
    "def get_ea(E0, alpha, hrxn):\n",
    "    \"\"\"\n",
    "    get the activation energy from the E0 and alpha values\n",
    "    \"\"\"\n",
    "    return float(E0 + alpha * hrxn)"
   ]
  },
  {
   "cell_type": "code",
   "execution_count": 25,
   "metadata": {},
   "outputs": [
    {
     "name": "stdout",
     "output_type": "stream",
     "text": [
      "duplicate reaction found X(1) + H2O(5) <=> H2O*(13), moving to next rxn\n",
      "duplicate reaction found X(1) + CO2(4) <=> CO2*(15), moving to next rxn\n",
      "duplicate reaction found H*(10) + CO2(4) <=> HCOO*(17), moving to next rxn\n",
      "duplicate reaction found HCOO*(17) <=> COOH*(18), moving to next rxn\n",
      "duplicate reaction found H*(10) + CO2(4) <=> COOH*(18), moving to next rxn\n",
      "duplicate reaction found X(1) + HCOOH(7) <=> HCOOH*(19), moving to next rxn\n",
      "duplicate reaction found X(1) + CH2O(6) <=> CH2O*(20), moving to next rxn\n",
      "duplicate reaction found H*(10) + CH2O(6) <=> CH3O*(21), moving to next rxn\n",
      "duplicate reaction found OH*(12) + CH2O(6) <=> CH3O2*(22), moving to next rxn\n",
      "duplicate reaction found H*(10) + HCOOH(7) <=> CH3O2*(22), moving to next rxn\n",
      "duplicate reaction found X(1) + CH3OH(8) <=> CH3OH*(23), moving to next rxn\n",
      "duplicate reaction found X(1) + X(1) + H2(2) <=> H*(10) + H*(10), moving to next rxn\n",
      "duplicate reaction found X(1) + X(1) + CO2(4) <=> O*(11) + CO*(14), moving to next rxn\n",
      "duplicate reaction found X(1) + X(1) + H2O(5) <=> H*(10) + OH*(12), moving to next rxn\n",
      "duplicate reaction found X(1) + X(1) + CH2O(6) <=> H*(10) + HCO*(16), moving to next rxn\n",
      "reaction HCOOH(7) + 2 X(1) <=> HCO*(16) + OH*(12) doesn't match Ea\n",
      "source:  Surface_Adsorption_Dissociative : Adsorbate;VacantSite1;VacantSite2\n",
      "oldrxn: A = 1.00e-01 Ea = 2.89e+07\n",
      "newrxn: A = 1.00e-01 Ea = 1.28e+08\n",
      "duplicate reaction found X(1) + X(1) + HCOOH(7) <=> H*(10) + HCOO*(17), moving to next rxn\n",
      "duplicate reaction found X(1) + X(1) + HCOOH(7) <=> H*(10) + COOH*(18), moving to next rxn\n",
      "duplicate reaction found X(1) + X(1) + CH3OH(8) <=> H*(10) + CH3O*(21), moving to next rxn\n",
      "reaction HCOOCH3(9) + 2 X(1) <=> CH3O*(21) + HCO*(16) doesn't match Ea\n",
      "source:  Surface_Adsorption_Dissociative : Adsorbate;VacantSite1;VacantSite2\n",
      "oldrxn: A = 1.00e-01 Ea = 5.22e+06\n",
      "newrxn: A = 1.00e-01 Ea = 1.12e+08\n",
      "duplicate reaction found X(1) + OH*(12) <=> O*(11) + H*(10), moving to next rxn\n",
      "duplicate reaction found X(1) + H2O*(13) <=> H*(10) + OH*(12), moving to next rxn\n",
      "reaction CO2*(15) + X(1) <=> CO*(14) + O*(11) doesn't match Ea\n",
      "source:  Surface_Dissociation_Double_vdW : AdsorbateVdW;VacantSite\n",
      "oldrxn: A = 2.00e+16 Ea = 6.68e+07\n",
      "newrxn: A = 2.00e+16 Ea = 3.06e+07\n",
      "duplicate reaction found X(1) + HCO*(16) <=> H*(10) + CO*(14), moving to next rxn\n",
      "duplicate reaction found H*(10) + CO2*(15) <=> X(1) + HCOO*(17), moving to next rxn\n",
      "duplicate reaction found X(1) + HCOO*(17) <=> O*(11) + HCO*(16), moving to next rxn\n",
      "duplicate reaction found H*(10) + CO2*(15) <=> X(1) + COOH*(18), moving to next rxn\n",
      "duplicate reaction found X(1) + COOH*(18) <=> OH*(12) + CO*(14), moving to next rxn\n",
      "duplicate reaction found X(1) + HCOOH*(19) <=> OH*(12) + HCO*(16), moving to next rxn\n",
      "duplicate reaction found X(1) + HCOOH*(19) <=> H*(10) + HCOO*(17), moving to next rxn\n",
      "duplicate reaction found X(1) + HCOOH*(19) <=> H*(10) + COOH*(18), moving to next rxn\n",
      "duplicate reaction found X(1) + CH2O*(20) <=> H*(10) + HCO*(16), moving to next rxn\n",
      "duplicate reaction found H*(10) + CH2O*(20) <=> X(1) + CH3O*(21), moving to next rxn\n",
      "duplicate reaction found OH*(12) + CH2O*(20) <=> X(1) + CH3O2*(22), moving to next rxn\n",
      "reaction H*(10) + HCOOH*(19) <=> CH3O2*(22) + X(1) doesn't match Ea\n",
      "source:  Surface_Addition_Single_vdW : AdsorbateVdW;Adsorbate1\n",
      "oldrxn: A = 1.00e+16 Ea = 6.34e+07\n",
      "newrxn: A = 1.00e+16 Ea = 5.26e+07\n",
      "duplicate reaction found X(1) + CH3OH*(23) <=> H*(10) + CH3O*(21), moving to next rxn\n",
      "duplicate reaction found O*(11) + CH2O*(20) <=> H*(10) + HCOO*(17), moving to next rxn\n",
      "reaction CO*(14) + H2O*(13) <=> COOH*(18) + H*(10) doesn't match Ea\n",
      "source:  Surface_Abstraction_vdW : AdsorbateVdW;Adsorbate1\n",
      "oldrxn: A = 2.00e+16 Ea = 1.61e+07\n",
      "newrxn: A = 2.00e+16 Ea = 6.21e+06\n",
      "duplicate reaction found OH*(12) + CH2O*(20) <=> H*(10) + HCOOH*(19), moving to next rxn\n",
      "duplicate reaction found H2O*(13) + HCO*(16) <=> H*(10) + HCOOH*(19), moving to next rxn\n",
      "reaction CH3OH*(23) + O*(11) <=> CH3O2*(22) + H*(10) doesn't match Ea\n",
      "source:  Surface_Abstraction_vdW : AdsorbateVdW;Adsorbate1\n",
      "oldrxn: A = 3.00e+16 Ea = 2.89e+07\n",
      "newrxn: A = 3.00e+16 Ea = 1.61e+07\n",
      "reaction CH2O*(20) + H2O*(13) <=> CH3O2*(22) + H*(10) doesn't match Ea\n",
      "source:  Surface_Dual_Adsorption_vdW : Adsorbate1;Adsorbate2\n",
      "oldrxn: A = 2.00e+16 Ea = 3.15e+07\n",
      "newrxn: A = 2.00e+16 Ea = 0.00e+00\n",
      "reaction H2O*(13) + O*(11) <=> 2 OH*(12) doesn't match Ea\n",
      "source:  Surface_Abstraction_vdW : AdsorbateVdW;Adsorbate1\n",
      "oldrxn: A = 2.00e+16 Ea = 9.04e+07\n",
      "newrxn: A = 2.00e+16 Ea = 4.61e+07\n",
      "duplicate reaction found O*(11) + HCO*(16) <=> OH*(12) + CO*(14), moving to next rxn\n",
      "duplicate reaction found O*(11) + HCOO*(17) <=> OH*(12) + CO2*(15), moving to next rxn\n",
      "duplicate reaction found O*(11) + COOH*(18) <=> OH*(12) + CO2*(15), moving to next rxn\n",
      "duplicate reaction found O*(11) + HCOOH*(19) <=> OH*(12) + HCOO*(17), moving to next rxn\n",
      "duplicate reaction found O*(11) + HCOOH*(19) <=> OH*(12) + HCOO*(17), moving to next rxn\n",
      "duplicate reaction found O*(11) + HCOOH*(19) <=> OH*(12) + HCOO*(17), moving to next rxn\n",
      "duplicate reaction found O*(11) + HCOOH*(19) <=> OH*(12) + HCOO*(17), moving to next rxn\n",
      "duplicate reaction found O*(11) + HCOOH*(19) <=> OH*(12) + HCOO*(17), moving to next rxn\n",
      "duplicate reaction found O*(11) + HCOOH*(19) <=> OH*(12) + HCOO*(17), moving to next rxn\n",
      "duplicate reaction found O*(11) + HCOOH*(19) <=> OH*(12) + HCOO*(17), moving to next rxn\n",
      "duplicate reaction found O*(11) + HCOOH*(19) <=> OH*(12) + HCOO*(17), moving to next rxn\n",
      "reaction HCOOH*(19) + O*(11) <=> COOH*(18) + OH*(12) doesn't match Ea\n",
      "source:  Surface_Abstraction_vdW : AdsorbateVdW;Adsorbate1\n",
      "oldrxn: A = 1.00e+16 Ea = 1.58e+07\n",
      "newrxn: A = 1.00e+16 Ea = 8.43e+06\n",
      "duplicate reaction found O*(11) + CH2O*(20) <=> OH*(12) + HCO*(16), moving to next rxn\n",
      "duplicate reaction found O*(11) + CH3O*(21) <=> OH*(12) + CH2O*(20), moving to next rxn\n",
      "duplicate reaction found O*(11) + CH3O2*(22) <=> OH*(12) + HCOOH*(19), moving to next rxn\n",
      "reaction CH3OH*(23) + O*(11) <=> CH3O*(21) + OH*(12) doesn't match Ea\n",
      "source:  Surface_Abstraction_vdW : AdsorbateVdW;Adsorbate1\n",
      "oldrxn: A = 1.00e+16 Ea = 6.96e+07\n",
      "newrxn: A = 1.00e+16 Ea = 3.60e+07\n",
      "reaction CH3OH*(23) + O*(11) <=> CH3O*(21) + OH*(12) doesn't match Ea\n",
      "source:  Surface_Abstraction_vdW : AdsorbateVdW;Adsorbate1\n",
      "oldrxn: A = 1.00e+16 Ea = 6.96e+07\n",
      "newrxn: A = 1.00e+16 Ea = 3.60e+07\n",
      "reaction CH3OH*(23) + O*(11) <=> CH3O*(21) + OH*(12) doesn't match Ea\n",
      "source:  Surface_Abstraction_vdW : AdsorbateVdW;Adsorbate1\n",
      "oldrxn: A = 1.00e+16 Ea = 6.96e+07\n",
      "newrxn: A = 1.00e+16 Ea = 3.60e+07\n",
      "reaction CH3OH*(23) + O*(11) <=> CH3O*(21) + OH*(12) doesn't match Ea\n",
      "source:  Surface_Abstraction_vdW : AdsorbateVdW;Adsorbate1\n",
      "oldrxn: A = 1.00e+16 Ea = 6.96e+07\n",
      "newrxn: A = 1.00e+16 Ea = 3.60e+07\n",
      "duplicate reaction found O*(11) + CH3OH*(23) <=> OH*(12) + CH3O*(21), moving to next rxn\n",
      "duplicate reaction found O*(11) + CH3OH*(23) <=> OH*(12) + CH3O*(21), moving to next rxn\n",
      "duplicate reaction found O*(11) + CH3OH*(23) <=> OH*(12) + CH3O*(21), moving to next rxn\n",
      "duplicate reaction found O*(11) + CH3OH*(23) <=> OH*(12) + CH3O*(21), moving to next rxn\n",
      "reaction CO*(14) + H2O*(13) <=> HCO*(16) + OH*(12) doesn't match Ea\n",
      "source:  Surface_Abstraction_vdW : AdsorbateVdW;Adsorbate1\n",
      "oldrxn: A = 2.00e+16 Ea = 9.60e+07\n",
      "newrxn: A = 2.00e+16 Ea = 4.79e+07\n",
      "duplicate reaction found OH*(12) + HCOO*(17) <=> H2O*(13) + CO2*(15), moving to next rxn\n",
      "duplicate reaction found O*(11) + HCOOH*(19) <=> OH*(12) + HCOO*(17), moving to next rxn\n",
      "duplicate reaction found O*(11) + HCOOH*(19) <=> OH*(12) + HCOO*(17), moving to next rxn\n",
      "duplicate reaction found O*(11) + HCOOH*(19) <=> OH*(12) + HCOO*(17), moving to next rxn\n",
      "duplicate reaction found O*(11) + HCOOH*(19) <=> OH*(12) + HCOO*(17), moving to next rxn\n",
      "duplicate reaction found O*(11) + HCOOH*(19) <=> OH*(12) + HCOO*(17), moving to next rxn\n",
      "duplicate reaction found O*(11) + HCOOH*(19) <=> OH*(12) + HCOO*(17), moving to next rxn\n",
      "duplicate reaction found O*(11) + HCOOH*(19) <=> OH*(12) + HCOO*(17), moving to next rxn\n",
      "duplicate reaction found O*(11) + HCOOH*(19) <=> OH*(12) + HCOO*(17), moving to next rxn\n",
      "duplicate reaction found OH*(12) + COOH*(18) <=> H2O*(13) + CO2*(15), moving to next rxn\n",
      "duplicate reaction found OH*(12) + HCOOH*(19) <=> H2O*(13) + HCOO*(17), moving to next rxn\n",
      "duplicate reaction found OH*(12) + HCOOH*(19) <=> H2O*(13) + COOH*(18), moving to next rxn\n",
      "duplicate reaction found OH*(12) + CH2O*(20) <=> H2O*(13) + HCO*(16), moving to next rxn\n",
      "duplicate reaction found OH*(12) + CH3O*(21) <=> H2O*(13) + CH2O*(20), moving to next rxn\n",
      "duplicate reaction found O*(11) + CH3OH*(23) <=> OH*(12) + CH3O*(21), moving to next rxn\n",
      "duplicate reaction found O*(11) + CH3OH*(23) <=> OH*(12) + CH3O*(21), moving to next rxn\n",
      "duplicate reaction found O*(11) + CH3OH*(23) <=> OH*(12) + CH3O*(21), moving to next rxn\n",
      "duplicate reaction found O*(11) + CH3OH*(23) <=> OH*(12) + CH3O*(21), moving to next rxn\n",
      "duplicate reaction found O*(11) + CH3OH*(23) <=> OH*(12) + CH3O*(21), moving to next rxn\n",
      "duplicate reaction found O*(11) + CH3OH*(23) <=> OH*(12) + CH3O*(21), moving to next rxn\n",
      "duplicate reaction found O*(11) + CH3OH*(23) <=> OH*(12) + CH3O*(21), moving to next rxn\n",
      "duplicate reaction found O*(11) + CH3OH*(23) <=> OH*(12) + CH3O*(21), moving to next rxn\n",
      "duplicate reaction found OH*(12) + CH3O2*(22) <=> H2O*(13) + HCOOH*(19), moving to next rxn\n",
      "duplicate reaction found OH*(12) + CH3OH*(23) <=> H2O*(13) + CH3O*(21), moving to next rxn\n",
      "duplicate reaction found CO*(14) + HCOO*(17) <=> CO2*(15) + HCO*(16), moving to next rxn\n",
      "duplicate reaction found CO*(14) + COOH*(18) <=> CO2*(15) + HCO*(16), moving to next rxn\n",
      "duplicate reaction found CO*(14) + HCOOH*(19) <=> HCO*(16) + HCOO*(17), moving to next rxn\n",
      "reaction CO*(14) + HCOOH*(19) <=> COOH*(18) + HCO*(16) doesn't match Ea\n",
      "source:  Surface_Abstraction_vdW : AdsorbateVdW;Adsorbate1\n",
      "oldrxn: A = 1.00e+16 Ea = 2.13e+07\n",
      "newrxn: A = 1.00e+16 Ea = 1.02e+07\n",
      "reaction CO*(14) + HCOOH*(19) <=> COOH*(18) + HCO*(16) doesn't match Ea\n",
      "source:  Surface_Abstraction_vdW : AdsorbateVdW;Adsorbate1\n",
      "oldrxn: A = 1.00e+16 Ea = 2.13e+07\n",
      "newrxn: A = 1.00e+16 Ea = 1.02e+07\n",
      "reaction CO*(14) + HCOOH*(19) <=> COOH*(18) + HCO*(16) doesn't match Ea\n",
      "source:  Surface_Abstraction_vdW : AdsorbateVdW;Adsorbate1\n",
      "oldrxn: A = 1.00e+16 Ea = 2.13e+07\n",
      "newrxn: A = 1.00e+16 Ea = 1.02e+07\n",
      "reaction CO*(14) + HCOOH*(19) <=> COOH*(18) + HCO*(16) doesn't match Ea\n",
      "source:  Surface_Abstraction_vdW : AdsorbateVdW;Adsorbate1\n",
      "oldrxn: A = 1.00e+16 Ea = 2.13e+07\n",
      "newrxn: A = 1.00e+16 Ea = 1.02e+07\n",
      "duplicate reaction found CO*(14) + HCOOH*(19) <=> HCO*(16) + COOH*(18), moving to next rxn\n",
      "duplicate reaction found CO*(14) + HCOOH*(19) <=> HCO*(16) + COOH*(18), moving to next rxn\n",
      "duplicate reaction found CO*(14) + HCOOH*(19) <=> HCO*(16) + COOH*(18), moving to next rxn\n",
      "duplicate reaction found CO*(14) + HCOOH*(19) <=> HCO*(16) + COOH*(18), moving to next rxn\n",
      "duplicate reaction found CO*(14) + CH2O*(20) <=> HCO*(16) + HCO*(16), moving to next rxn\n",
      "duplicate reaction found CO*(14) + CH3O*(21) <=> HCO*(16) + CH2O*(20), moving to next rxn\n",
      "duplicate reaction found CO*(14) + CH3O2*(22) <=> COOH*(18) + CH2O*(20), moving to next rxn\n",
      "duplicate reaction found CO*(14) + CH3O2*(22) <=> HCO*(16) + HCOOH*(19), moving to next rxn\n",
      "reaction CH3OH*(23) + CO*(14) <=> CH3O*(21) + HCO*(16) doesn't match Ea\n",
      "source:  Surface_Abstraction_vdW : AdsorbateVdW;Adsorbate1\n",
      "oldrxn: A = 1.00e+16 Ea = 7.51e+07\n",
      "newrxn: A = 1.00e+16 Ea = 3.77e+07\n",
      "duplicate reaction found HCOO*(17) + HCOO*(17) <=> CO2*(15) + HCOOH*(19), moving to next rxn\n",
      "duplicate reaction found COOH*(18) + HCOO*(17) <=> CO2*(15) + HCOOH*(19), moving to next rxn\n",
      "duplicate reaction found COOH*(18) + HCOO*(17) <=> CO2*(15) + HCOOH*(19), moving to next rxn\n",
      "duplicate reaction found COOH*(18) + HCOO*(17) <=> CO2*(15) + HCOOH*(19), moving to next rxn\n",
      "duplicate reaction found COOH*(18) + HCOO*(17) <=> CO2*(15) + HCOOH*(19), moving to next rxn\n",
      "duplicate reaction found COOH*(18) + HCOO*(17) <=> CO2*(15) + HCOOH*(19), moving to next rxn\n",
      "duplicate reaction found COOH*(18) + HCOO*(17) <=> CO2*(15) + HCOOH*(19), moving to next rxn\n",
      "duplicate reaction found COOH*(18) + HCOO*(17) <=> CO2*(15) + HCOOH*(19), moving to next rxn\n",
      "duplicate reaction found COOH*(18) + HCOO*(17) <=> CO2*(15) + HCOOH*(19), moving to next rxn\n",
      "duplicate reaction found COOH*(18) + COOH*(18) <=> CO2*(15) + HCOOH*(19), moving to next rxn\n",
      "duplicate reaction found HCO*(16) + HCOO*(17) <=> CO2*(15) + CH2O*(20), moving to next rxn\n",
      "duplicate reaction found HCO*(16) + COOH*(18) <=> CO2*(15) + CH2O*(20), moving to next rxn\n",
      "duplicate reaction found HCOO*(17) + CH3O*(21) <=> CO2*(15) + CH3OH*(23), moving to next rxn\n",
      "duplicate reaction found COOH*(18) + CH3O*(21) <=> CO2*(15) + CH3OH*(23), moving to next rxn\n",
      "duplicate reaction found CO*(14) + HCOOH*(19) <=> HCO*(16) + COOH*(18), moving to next rxn\n",
      "duplicate reaction found CO*(14) + HCOOH*(19) <=> HCO*(16) + COOH*(18), moving to next rxn\n",
      "duplicate reaction found CO*(14) + HCOOH*(19) <=> HCO*(16) + COOH*(18), moving to next rxn\n",
      "duplicate reaction found CO*(14) + HCOOH*(19) <=> HCO*(16) + COOH*(18), moving to next rxn\n",
      "duplicate reaction found CO*(14) + HCOOH*(19) <=> HCO*(16) + COOH*(18), moving to next rxn\n",
      "duplicate reaction found CO*(14) + HCOOH*(19) <=> HCO*(16) + COOH*(18), moving to next rxn\n",
      "duplicate reaction found CO*(14) + HCOOH*(19) <=> HCO*(16) + COOH*(18), moving to next rxn\n",
      "duplicate reaction found CO*(14) + HCOOH*(19) <=> HCO*(16) + COOH*(18), moving to next rxn\n",
      "duplicate reaction found HCO*(16) + HCOOH*(19) <=> HCOO*(17) + CH2O*(20), moving to next rxn\n",
      "duplicate reaction found COOH*(18) + CH2O*(20) <=> HCO*(16) + HCOOH*(19), moving to next rxn\n",
      "duplicate reaction found HCO*(16) + CH3O*(21) <=> CH2O*(20) + CH2O*(20), moving to next rxn\n",
      "duplicate reaction found HCO*(16) + CH3O2*(22) <=> CH2O*(20) + HCOOH*(19), moving to next rxn\n",
      "duplicate reaction found HCO*(16) + CH3O2*(22) <=> CH2O*(20) + HCOOH*(19), moving to next rxn\n",
      "reaction CH3O2*(22) + HCO*(16) <=> CH2O*(20) + HCOOH*(19) doesn't match A\n",
      "source:  Surface_Abstraction_Beta_double_vdW : Abstracting;Donating\n",
      "oldrxn:  8.36e+20 78500208.0\n",
      "newrxn:  4.1800000000000026e+20 78494674.64614722\n",
      "duplicate reaction found HCO*(16) + CH3O2*(22) <=> CH2O*(20) + HCOOH*(19), moving to next rxn\n",
      "duplicate reaction found HCO*(16) + CH3O2*(22) <=> CH2O*(20) + HCOOH*(19), moving to next rxn\n",
      "duplicate reaction found HCO*(16) + CH3O2*(22) <=> CH2O*(20) + HCOOH*(19), moving to next rxn\n",
      "duplicate reaction found HCO*(16) + CH3O2*(22) <=> CH2O*(20) + HCOOH*(19), moving to next rxn\n",
      "duplicate reaction found CH2O*(20) + CH3O*(21) <=> HCO*(16) + CH3OH*(23), moving to next rxn\n",
      "duplicate reaction found COOH*(18) + HCOO*(17) <=> CO2*(15) + HCOOH*(19), moving to next rxn\n",
      "duplicate reaction found COOH*(18) + HCOO*(17) <=> CO2*(15) + HCOOH*(19), moving to next rxn\n",
      "duplicate reaction found COOH*(18) + HCOO*(17) <=> CO2*(15) + HCOOH*(19), moving to next rxn\n",
      "duplicate reaction found COOH*(18) + HCOO*(17) <=> CO2*(15) + HCOOH*(19), moving to next rxn\n",
      "duplicate reaction found COOH*(18) + HCOO*(17) <=> CO2*(15) + HCOOH*(19), moving to next rxn\n",
      "duplicate reaction found COOH*(18) + HCOO*(17) <=> CO2*(15) + HCOOH*(19), moving to next rxn\n",
      "duplicate reaction found COOH*(18) + HCOO*(17) <=> CO2*(15) + HCOOH*(19), moving to next rxn\n",
      "duplicate reaction found COOH*(18) + HCOO*(17) <=> CO2*(15) + HCOOH*(19), moving to next rxn\n",
      "duplicate reaction found COOH*(18) + HCOOH*(19) <=> HCOO*(17) + HCOOH*(19), moving to next rxn\n",
      "duplicate reaction found HCOO*(17) + CH3O*(21) <=> CH2O*(20) + HCOOH*(19), moving to next rxn\n",
      "duplicate reaction found HCOO*(17) + CH3O2*(22) <=> HCOOH*(19) + HCOOH*(19), moving to next rxn\n",
      "duplicate reaction found HCOOH*(19) + CH3O*(21) <=> HCOO*(17) + CH3OH*(23), moving to next rxn\n",
      "duplicate reaction found COOH*(18) + CH3O*(21) <=> CH2O*(20) + HCOOH*(19), moving to next rxn\n",
      "duplicate reaction found COOH*(18) + CH3O2*(22) <=> HCOOH*(19) + HCOOH*(19), moving to next rxn\n",
      "duplicate reaction found HCOOH*(19) + CH3O*(21) <=> COOH*(18) + CH3OH*(23), moving to next rxn\n",
      "duplicate reaction found HCO*(16) + CH3O2*(22) <=> CH2O*(20) + HCOOH*(19), moving to next rxn\n",
      "duplicate reaction found HCO*(16) + CH3O2*(22) <=> CH2O*(20) + HCOOH*(19), moving to next rxn\n",
      "duplicate reaction found HCO*(16) + CH3O2*(22) <=> CH2O*(20) + HCOOH*(19), moving to next rxn\n",
      "duplicate reaction found HCO*(16) + CH3O2*(22) <=> CH2O*(20) + HCOOH*(19), moving to next rxn\n",
      "duplicate reaction found HCO*(16) + CH3O2*(22) <=> CH2O*(20) + HCOOH*(19), moving to next rxn\n",
      "duplicate reaction found HCO*(16) + CH3O2*(22) <=> CH2O*(20) + HCOOH*(19), moving to next rxn\n",
      "duplicate reaction found HCO*(16) + CH3O2*(22) <=> CH2O*(20) + HCOOH*(19), moving to next rxn\n",
      "duplicate reaction found HCO*(16) + CH3O2*(22) <=> CH2O*(20) + HCOOH*(19), moving to next rxn\n",
      "duplicate reaction found CH3O*(21) + CH3O2*(22) <=> HCOOH*(19) + CH3OH*(23), moving to next rxn\n",
      "duplicate reaction found CH3O*(21) + CH3O*(21) <=> CH2O*(20) + CH3OH*(23), moving to next rxn\n",
      "duplicate reaction found CH3O*(21) <=> CH3OX(45), moving to next rxn\n",
      "duplicate reaction found X(1) + X(1) + CH3OH(8) <=> H*(10) + CH3OX(45), moving to next rxn\n",
      "duplicate reaction found X(1) + CH3O2*(22) <=> O*(11) + CH3OX(45), moving to next rxn\n",
      "duplicate reaction found X(1) + CH3OH*(23) <=> H*(10) + CH3OX(45), moving to next rxn\n",
      "duplicate reaction found H*(10) + CH2O(6) <=> CH3OX(45), moving to next rxn\n",
      "duplicate reaction found H*(10) + CH2O*(20) <=> X(1) + CH3OX(45), moving to next rxn\n",
      "reaction CH3OH*(23) + O*(11) <=> CH3OX(45) + OH*(12) doesn't match Ea\n",
      "source:  Surface_Abstraction_vdW : AdsorbateVdW;Adsorbate1\n",
      "oldrxn: A = 3.00e+16 Ea = 1.26e+07\n",
      "newrxn: A = 3.00e+16 Ea = 7.37e+06\n",
      "reaction CH3OX(45) + O*(11) <=> CH2O*(20) + OH*(12) doesn't match Ea\n",
      "source:  Surface_Abstraction_Beta_vdW : O;R-O-H\n",
      "oldrxn: A = 4.18e+20 Ea = 7.71e+07\n",
      "newrxn: A = 4.18e+20 Ea = 6.55e+07\n",
      "duplicate reaction found OH*(12) + CH3OH*(23) <=> H2O*(13) + CH3OX(45), moving to next rxn\n",
      "reaction CH3OX(45) + OH*(12) <=> CH2O*(20) + H2O*(13) doesn't match Ea\n",
      "source:  Surface_Abstraction_Beta_double_vdW : OH;R-O-H\n",
      "oldrxn: A = 4.18e+20 Ea = 1.59e+06\n",
      "newrxn: A = 4.18e+20 Ea = 1.60e+06\n",
      "reaction CH3OH*(23) + CO*(14) <=> CH3OX(45) + HCO*(16) doesn't match Ea\n",
      "source:  Surface_Abstraction_vdW : AdsorbateVdW;Adsorbate1\n",
      "oldrxn: A = 3.00e+16 Ea = 1.82e+07\n",
      "newrxn: A = 3.00e+16 Ea = 9.12e+06\n",
      "duplicate reaction found HCOO*(17) + CH3OX(45) <=> CO2*(15) + CH3OH*(23), moving to next rxn\n",
      "duplicate reaction found COOH*(18) + CH3OX(45) <=> CO2*(15) + CH3OH*(23), moving to next rxn\n",
      "duplicate reaction found CO*(14) + CH3OX(45) <=> HCO*(16) + CH2O*(20), moving to next rxn\n",
      "duplicate reaction found CH2O*(20) + CH3OX(45) <=> HCO*(16) + CH3OH*(23), moving to next rxn\n",
      "duplicate reaction found HCOOH*(19) + CH3OX(45) <=> HCOO*(17) + CH3OH*(23), moving to next rxn\n",
      "duplicate reaction found COOH*(18) + CH3OH*(23) <=> HCOOH*(19) + CH3OX(45), moving to next rxn\n",
      "duplicate reaction found HCOO*(17) + CH3OX(45) <=> CH2O*(20) + HCOOH*(19), moving to next rxn\n",
      "duplicate reaction found COOH*(18) + CH3OX(45) <=> CH2O*(20) + HCOOH*(19), moving to next rxn\n",
      "duplicate reaction found CH3OX(45) + CH3O2*(22) <=> HCOOH*(19) + CH3OH*(23), moving to next rxn\n",
      "duplicate reaction found HCO*(16) + CH3OX(45) <=> CH2O*(20) + CH2O*(20), moving to next rxn\n",
      "duplicate reaction found CH3O*(21) + CH3OX(45) <=> CH2O*(20) + CH3OH*(23), moving to next rxn\n",
      "duplicate reaction found CH3O*(21) + CH3OX(45) <=> CH2O*(20) + CH3OH*(23), moving to next rxn\n",
      "duplicate reaction found CH3O*(21) + CH3OX(45) <=> CH2O*(20) + CH3OH*(23), moving to next rxn\n",
      "duplicate reaction found CH3O*(21) + CH3OX(45) <=> CH2O*(20) + CH3OH*(23), moving to next rxn\n",
      "duplicate reaction found CH3O*(21) + CH3OX(45) <=> CH2O*(20) + CH3OH*(23), moving to next rxn\n",
      "duplicate reaction found CH3O*(21) + CH3OX(45) <=> CH2O*(20) + CH3OH*(23), moving to next rxn\n",
      "duplicate reaction found CH3O*(21) + CH3OX(45) <=> CH2O*(20) + CH3OH*(23), moving to next rxn\n",
      "duplicate reaction found CH3O*(21) + CH3OX(45) <=> CH2O*(20) + CH3OH*(23), moving to next rxn\n",
      "duplicate reaction found CH3OX(45) + CH3OX(45) <=> CH2O*(20) + CH3OH*(23), moving to next rxn\n",
      "duplicate reaction found CH3O*(21) + CH3OH*(23) <=> CH3OX(45) + CH3OH*(23), moving to next rxn\n",
      "duplicate reaction found CH3O*(21) + CH3OX(45) <=> CH2O*(20) + CH3OH*(23), moving to next rxn\n",
      "duplicate reaction found CH3O*(21) + CH3OX(45) <=> CH2O*(20) + CH3OH*(23), moving to next rxn\n",
      "duplicate reaction found CH3O*(21) + CH3OX(45) <=> CH2O*(20) + CH3OH*(23), moving to next rxn\n",
      "duplicate reaction found CH3O*(21) + CH3OX(45) <=> CH2O*(20) + CH3OH*(23), moving to next rxn\n",
      "duplicate reaction found CH3O*(21) + CH3OX(45) <=> CH2O*(20) + CH3OH*(23), moving to next rxn\n",
      "duplicate reaction found CH3O*(21) + CH3OX(45) <=> CH2O*(20) + CH3OH*(23), moving to next rxn\n",
      "duplicate reaction found CH3O*(21) + CH3OX(45) <=> CH2O*(20) + CH3OH*(23), moving to next rxn\n",
      "duplicate reaction found CH3O*(21) + CH3OX(45) <=> CH2O*(20) + CH3OH*(23), moving to next rxn\n",
      "reaction CH3OH(8) + 2 X(1) <=> CH3X(55) + OH*(12) doesn't match Ea\n",
      "source:  Surface_Adsorption_Dissociative : Adsorbate;VacantSite1;VacantSite2\n",
      "oldrxn: A = 1.00e-01 Ea = 3.13e+07\n",
      "newrxn: A = 1.00e-01 Ea = 1.29e+08\n",
      "reaction HCOOCH3(9) + 2 X(1) <=> CH3X(55) + HCOO*(17) doesn't match Ea\n",
      "source:  Surface_Adsorption_Dissociative : Adsorbate;VacantSite1;VacantSite2\n",
      "oldrxn: A = 1.00e-01 Ea = 3.80e+06\n",
      "newrxn: A = 1.00e-01 Ea = 4.12e+07\n",
      "duplicate reaction found X(1) + CH3O*(21) <=> O*(11) + CH3X(55), moving to next rxn\n",
      "duplicate reaction found X(1) + CH3OH*(23) <=> OH*(12) + CH3X(55), moving to next rxn\n",
      "duplicate reaction found H*(10) + CH3OH*(23) <=> H2O*(13) + CH3X(55), moving to next rxn\n",
      "reaction CH3OH*(23) + CO*(14) <=> CH3X(55) + COOH*(18) doesn't match Ea\n",
      "source:  Surface_Abstraction_vdW : AdsorbateVdW;Adsorbate1\n",
      "oldrxn: A = 1.00e+16 Ea = 1.13e+07\n",
      "newrxn: A = 1.00e+16 Ea = 5.05e+06\n",
      "duplicate reaction found HCO*(16) + CH3OH*(23) <=> HCOOH*(19) + CH3X(55), moving to next rxn\n",
      "duplicate reaction found CH3X(55) + CH3O2*(22) <=> CH2O*(20) + CH3OH*(23), moving to next rxn\n",
      "reaction C(40) + 2 X(1) <=> CH3X(55) + H*(10) doesn't match Ea\n",
      "source:  Surface_Adsorption_Dissociative : CH4;VacantSite1;VacantSite2\n",
      "oldrxn: A = 3.02e+00 Ea = 7.12e+07\n",
      "newrxn: A = 3.02e+00 Ea = 5.80e+07\n"
     ]
    }
   ],
   "source": [
    "# load the cantera mechanism\n",
    "ck_rule_dict_path = os.path.join(prefix, \"rmg_gua\", \"gua_peuqse\", \"02_opt_logp_fam_be\", \"ck_rule_dict.yaml\")\n",
    "cti_path = os.path.join(prefix, \"rmg_gua\", \"baseline\", \"cantera\", \"chem_annotated.cti\")\n",
    "gas = ct.Solution(cti_path, \"gas\")\n",
    "surf = ct.Interface(cti_path, \"surface1\", [gas])\n",
    "\n",
    "\"\"\"\n",
    "find the template for a given reaction\n",
    "for now, we don't really care about gas phase rxns\n",
    "\"\"\"\n",
    "ck_rule_dict_path = os.path.join(prefix, \"rmg_gua\", \"gua_peuqse\", \"02_opt_logp_fam_be\", \"ck_rule_dict.yaml\")\n",
    "with open(ck_rule_dict_path, 'r') as f:\n",
    "    ck_rule_dict = yaml.load(f, Loader=yaml.FullLoader)\n",
    "\n",
    "rule_config_file = os.path.join(prefix, \"rmg_gua\", \"gua_peuqse\", \"02_opt_logp_fam_be\", \"rule_config.yaml\")\n",
    "with open(rule_config_file, \"r\") as f:\n",
    "    rule_dict = yaml.safe_load(f)\n",
    "bad_rxns = 0\n",
    "for ck_items in ck_rule_dict:\n",
    "    ck_rxn = list(ck_items.keys())[0] \n",
    "    ck_data = list(ck_items.values())[0]\n",
    "    ck_reac = collections.Counter(ck_data[\"reactants\"])\n",
    "    ck_prod = collections.Counter(ck_data[\"products\"])\n",
    "    for num, rxn in enumerate(surf.reactions()):\n",
    "        reaclist = []\n",
    "        prodlist = []\n",
    "        for reac, stoic in rxn.reactants.items():\n",
    "            if stoic > 1:\n",
    "                reaclist.extend([reac]*int(stoic))\n",
    "            else:\n",
    "                reaclist.append(reac)\n",
    "\n",
    "        for reac, stoic in rxn.products.items():\n",
    "            if stoic > 1:\n",
    "                prodlist.extend([reac]*int(stoic))\n",
    "            else:\n",
    "                prodlist.append(reac)\n",
    "\n",
    "        reactants = collections.Counter(reaclist)\n",
    "        products = collections.Counter(prodlist)\n",
    "\n",
    "        fwd = reactants == ck_reac and products == ck_prod\n",
    "        rev = reactants == ck_prod and products == ck_reac\n",
    "\n",
    "        # if we have a match, write the A, Ea to the ct rxn\n",
    "        if fwd:\n",
    "            if num in ck_matches.keys():\n",
    "                print(f\"duplicate reaction found {ck_rxn}, moving to next rxn\")\n",
    "                pass\n",
    "            else: \n",
    "                new_rxn = surf.reactions()[num]\n",
    "                # print(\"oldrxn: \", surf.reactions()[num].rate)\n",
    "\n",
    "                A_old = surf.reactions()[num].rate.pre_exponential_factor\n",
    "                Ea_old = surf.reactions()[num].rate.activation_energy\n",
    "\n",
    "                # pull the A, Ea from the chemkin file\n",
    "                A_src = rule_dict[ck_data[\"source\"]][\"A\"]\n",
    "                E0_src = rule_dict[ck_data[\"source\"]][\"E0\"]\n",
    "                alpha_src = rule_dict[ck_data[\"source\"]][\"alpha\"]\n",
    "                hrxn = surf.delta_standard_enthalpy[num] \n",
    "\n",
    "                # get nreactants for A unit consistency\n",
    "                n_reactants = len(ck_data[\"reactants\"])\n",
    "\n",
    "                # record initial values from cantera\n",
    "                A_i = surf.reactions()[num].rate.pre_exponential_factor\n",
    "                Ea_i = surf.reactions()[num].rate.activation_energy\n",
    "                b_i = surf.reactions()[num].rate.temperature_exponent\n",
    "                \n",
    "                if ck_data[\"rtype\"] == \"arrhenius\":\n",
    "                    A_i = 10**float(A_src)\n",
    "                    # for bimolecular reactions we have m^2/mol*s in chemkin, \n",
    "                    # but m^2/kmol*s in cantera. all others are either sticking \n",
    "                    # (trimolecular dissociative rxns) or unimolecular (units 1/s)\n",
    "                    if n_reactants == 2:\n",
    "                        A_i = A_i*1e3\n",
    "                elif ck_data[\"rtype\"] == \"stick\":\n",
    "                    A_i = float(A_src)\n",
    "                else:\n",
    "                    raise Exception(\"reaction type not recognized\")\n",
    "                \n",
    "                # account for rxn path degeneracy\n",
    "                if ck_data[\"deg\"] > 1.0:\n",
    "                    A_i = A_i * ck_data[\"deg\"]\n",
    "                \n",
    "                # units j/mol in chemkin, j/kmol in cantera\n",
    "                E0_src = E0_src*1e3\n",
    "                Ea_i = get_ea(E0_src, alpha_src, hrxn)\n",
    "\n",
    "                # set to 0 if negative\n",
    "                if Ea_i < 0:\n",
    "                    Ea_i = 0.0\n",
    "\n",
    "                    \n",
    "                rate = ct.Arrhenius(A = A_i, E = Ea_i, b = b_i)\n",
    "                new_rxn.rate = rate\n",
    "                # print(\"new rxn rate\", rate)\n",
    "                surf.modify_reaction(num, new_rxn)\n",
    "                a_match = np.isclose(A_old, A_i, rtol=1e-3)\n",
    "                e_match = np.isclose(Ea_old, Ea_i, rtol=1e-3)\n",
    "                ck_matches[num] = ck_num\n",
    "                if not a_match and not e_match:\n",
    "                    print(f\"reaction {rxn.equation} doesn't match A or Ea\")\n",
    "                    print(\"source: \", ck_data[\"source\"])\n",
    "                    print(\"oldrxn: \", A_old, Ea_old)\n",
    "                    print(\"newrxn: \", \n",
    "                    surf.reactions()[num].rate.pre_exponential_factor, surf.reactions()[num].rate.activation_energy)\n",
    "                    bad_rxns += 1\n",
    "                elif not a_match and e_match:\n",
    "                    print(f\"reaction {rxn.equation} doesn't match A\")\n",
    "                    print(\"source: \", ck_data[\"source\"])\n",
    "                    print(\"oldrxn: \", A_old, Ea_old)\n",
    "                    print(\"newrxn: \", \n",
    "                    surf.reactions()[num].rate.pre_exponential_factor, surf.reactions()[num].rate.activation_energy) \n",
    "                    bad_rxns += 1\n",
    "                elif a_match and not e_match:\n",
    "                    print(f\"reaction {rxn.equation} doesn't match Ea\")\n",
    "                    print(\"source: \", ck_data[\"source\"])\n",
    "                    print(\"oldrxn: A = {:.2e} Ea = {:.2e}\".format(A_old, Ea_old))\n",
    "                    print(\"newrxn: A = {:.2e} Ea = {:.2e}\".format(\n",
    "                        surf.reactions()[num].rate.pre_exponential_factor, \n",
    "                        surf.reactions()[num].rate.activation_energy))\n",
    "                    bad_rxns += 1\n",
    "        if rev: \n",
    "            raise Exception(\"reverse of chemkin reaction found in ct\")\n",
    "        \n",
    "\n",
    "            \n",
    "# # rule config in db\n",
    "# rule_config\n",
    "\n",
    "# # family and node info from ck\n",
    "# ck_rule_dict_path\n"
   ]
  },
  {
   "attachments": {},
   "cell_type": "markdown",
   "metadata": {},
   "source": [
    "# below is a test, put it in a separate script before running "
   ]
  },
  {
   "cell_type": "code",
   "execution_count": 26,
   "metadata": {},
   "outputs": [
    {
     "name": "stdout",
     "output_type": "stream",
     "text": [
      "duplicate reaction found, moving to next rxn\n",
      "duplicate reaction found, moving to next rxn\n",
      "duplicate reaction found, moving to next rxn\n",
      "duplicate reaction found, moving to next rxn\n",
      "duplicate reaction found, moving to next rxn\n",
      "duplicate reaction found, moving to next rxn\n",
      "duplicate reaction found, moving to next rxn\n",
      "duplicate reaction found, moving to next rxn\n",
      "duplicate reaction found, moving to next rxn\n",
      "duplicate reaction found, moving to next rxn\n",
      "duplicate reaction found, moving to next rxn\n",
      "duplicate reaction found, moving to next rxn\n",
      "duplicate reaction found, moving to next rxn\n",
      "duplicate reaction found, moving to next rxn\n",
      "duplicate reaction found, moving to next rxn\n",
      "duplicate reaction found, moving to next rxn\n",
      "duplicate reaction found, moving to next rxn\n",
      "duplicate reaction found, moving to next rxn\n",
      "duplicate reaction found, moving to next rxn\n",
      "duplicate reaction found, moving to next rxn\n",
      "duplicate reaction found, moving to next rxn\n",
      "duplicate reaction found, moving to next rxn\n",
      "duplicate reaction found, moving to next rxn\n"
     ]
    }
   ],
   "source": [
    "# iterate through chemkin and cantera reactions again\n",
    "# check for exact matches, since duplicates are all out of order\n",
    "# load the cantera mechanism\n",
    "ck_rule_dict_path = os.path.join(prefix, \"rmg_gua\", \"gua_peuqse\", \"02_opt_logp_fam_be\", \"ck_rule_dict.yaml\")\n",
    "cti_path = os.path.join(prefix, \"rmg_gua\", \"baseline\", \"cantera\", \"chem_annotated.cti\")\n",
    "# gas = ct.Solution(cti_path, \"gas\")\n",
    "# surf = ct.Interface(cti_path, \"surface1\", [gas])\n",
    "\n",
    "\"\"\"\n",
    "find the template for a given reaction\n",
    "for now, we don't really care about gas phase rxns\n",
    "\"\"\"\n",
    "ck_rule_dict_path = os.path.join(prefix, \"rmg_gua\", \"gua_peuqse\", \"02_opt_logp_fam_be\", \"ck_rule_dict.yaml\")\n",
    "with open(ck_rule_dict_path, 'r') as f:\n",
    "    ck_rule_dict = yaml.load(f, Loader=yaml.FullLoader)\n",
    "\n",
    "rule_config_file = os.path.join(prefix, \"rmg_gua\", \"gua_peuqse\", \"02_opt_logp_fam_be\", \"rule_config.yaml\")\n",
    "with open(rule_config_file, \"r\") as f:\n",
    "    rule_dict = yaml.safe_load(f)\n",
    "ck_matches = {}\n",
    "ck_no_match = []\n",
    "for ck_num, ck_items in enumerate(ck_rule_dict):\n",
    "    ck_rxn = list(ck_items.keys())[0] \n",
    "    ck_data = list(ck_items.values())[0]\n",
    "    ck_reac = collections.Counter(ck_data[\"reactants\"])\n",
    "    ck_prod = collections.Counter(ck_data[\"products\"])\n",
    "    for num, rxn in enumerate(surf.reactions()):\n",
    "        reaclist = []\n",
    "        prodlist = []\n",
    "        for reac, stoic in rxn.reactants.items():\n",
    "            if stoic > 1:\n",
    "                reaclist.extend([reac]*int(stoic))\n",
    "            else:\n",
    "                reaclist.append(reac)\n",
    "\n",
    "        for reac, stoic in rxn.products.items():\n",
    "            if stoic > 1:\n",
    "                prodlist.extend([reac]*int(stoic))\n",
    "            else:\n",
    "                prodlist.append(reac)\n",
    "\n",
    "        reactants = collections.Counter(reaclist)\n",
    "        products = collections.Counter(prodlist)\n",
    "\n",
    "        fwd = reactants == ck_reac and products == ck_prod\n",
    "        rev = reactants == ck_prod and products == ck_reac\n",
    "\n",
    "        # if we have a match, write the A, Ea to the ct rxn\n",
    "        if fwd:\n",
    "            if num in ck_matches.keys():\n",
    "                print(\"duplicate reaction found, moving to next rxn\")\n",
    "                pass\n",
    "            # new_rxn = surf.reactions()[num]\n",
    "            # print(\"oldrxn: \", surf.reactions()[num].rate)\n",
    "\n",
    "            A_old = ck_data[\"reac_dict\"][\"A\"]\n",
    "            Ea_old = ck_data[\"reac_dict\"][\"Ea\"]\n",
    "\n",
    "            # record initial values from cantera\n",
    "            A_i = surf.reactions()[num].rate.pre_exponential_factor\n",
    "            Ea_i = surf.reactions()[num].rate.activation_energy\n",
    "\n",
    "            n_reactants = len(ck_data[\"reactants\"])\n",
    "\n",
    "            if ck_data[\"rtype\"] == \"arrhenius\":\n",
    "                A_old = 10**float(A_old)\n",
    "                # for bimolecular reactions we have m^2/mol*s in chemkin, \n",
    "                # but m^2/kmol*s in cantera. all others are either sticking \n",
    "                # (trimolecular dissociative rxns) or unimolecular (units 1/s)\n",
    "                if n_reactants == 2:\n",
    "                    A_old = A_old*1e3\n",
    "            elif ck_data[\"rtype\"] == \"stick\":\n",
    "                A_old = float(A_old)\n",
    "            else:\n",
    "                raise Exception(\"reaction type not recognized\")\n",
    "\n",
    "            # units j/mol in chemkin, j/kmol in cantera\n",
    "            Ea_old = Ea_old*1e3\n",
    "\n",
    "            # print(\"new rxn rate\", rate)\n",
    "            # surf.modify_reaction(num, new_rxn)\n",
    "            a_match = np.isclose(A_old, A_i, rtol=1e-3)\n",
    "            e_match = np.isclose(Ea_old, Ea_i, rtol=1e-3)\n",
    "\n",
    "            if a_match and e_match:\n",
    "                if num in ck_matches.keys():\n",
    "                    if num >= len(surf.reactions())-2: \n",
    "                        print(f\"reaction {rxn.equation} doesn't match A or Ea\")\n",
    "                        print(\"source: \", ck_data[\"source\"])\n",
    "                        print(\"oldrxn: \", A_old, Ea_old)\n",
    "                        print(\"newrxn: \", \n",
    "                        surf.reactions()[num].rate.pre_exponential_factor, surf.reactions()[num].rate.activation_energy)\n",
    "                        ck_no_match.append(ck_items)\n",
    "                    pass\n",
    "                else: \n",
    "                    ck_matches[num] = ck_num\n",
    "                    break\n",
    "\n",
    "        if rev: \n",
    "            raise Exception(\"reverse of chemkin reaction found in ct\")\n"
   ]
  },
  {
   "cell_type": "code",
   "execution_count": 27,
   "metadata": {},
   "outputs": [
    {
     "data": {
      "text/plain": [
       "[]"
      ]
     },
     "execution_count": 27,
     "metadata": {},
     "output_type": "execute_result"
    }
   ],
   "source": [
    "ck_no_match"
   ]
  },
  {
   "cell_type": "code",
   "execution_count": 28,
   "metadata": {},
   "outputs": [
    {
     "name": "stdout",
     "output_type": "stream",
     "text": [
      "CH3OH(8) + 2 X(1) <=> CH3X(55) + OH*(12) Arrhenius(A=0.1, b=0, E=1.29211e+08)\n",
      "HCOOCH3(9) + 2 X(1) <=> CH3X(55) + HCOO*(17) Arrhenius(A=0.1, b=0, E=4.11753e+07)\n",
      "CH3OH*(23) + CO*(14) <=> CH3X(55) + COOH*(18) Arrhenius(A=1e+16, b=0, E=5.05301e+06)\n",
      "C(40) + 2 X(1) <=> CH3X(55) + H*(10) Arrhenius(A=3.02, b=0, E=5.8e+07)\n",
      "HCOOH(7) + 2 X(1) <=> HCO*(16) + OH*(12) Arrhenius(A=0.1, b=0, E=1.27892e+08)\n",
      "HCOOCH3(9) + 2 X(1) <=> CH3O*(21) + HCO*(16) Arrhenius(A=0.1, b=0, E=1.11539e+08)\n",
      "CO2*(15) + X(1) <=> CO*(14) + O*(11) Arrhenius(A=2e+16, b=0, E=3.05863e+07)\n",
      "H*(10) + HCOOH*(19) <=> CH3O2*(22) + X(1) Arrhenius(A=1e+16, b=0, E=5.26255e+07)\n",
      "CO*(14) + H2O*(13) <=> COOH*(18) + H*(10) Arrhenius(A=2e+16, b=0, E=6.20872e+06)\n",
      "CH3OH*(23) + O*(11) <=> CH3O2*(22) + H*(10) Arrhenius(A=3e+16, b=0, E=1.60999e+07)\n",
      "CH2O*(20) + H2O*(13) <=> CH3O2*(22) + H*(10) Arrhenius(A=2e+16, b=0, E=0)\n",
      "H2O*(13) + O*(11) <=> 2 OH*(12) Arrhenius(A=2e+16, b=0, E=4.6133e+07)\n",
      "HCOOH*(19) + O*(11) <=> COOH*(18) + OH*(12) Arrhenius(A=1e+16, b=0, E=8.43112e+06)\n",
      "CH3OH*(23) + O*(11) <=> CH3O*(21) + OH*(12) Arrhenius(A=1e+16, b=0, E=3.59932e+07)\n",
      "CH3OH*(23) + O*(11) <=> CH3O*(21) + OH*(12) Arrhenius(A=1e+16, b=0, E=3.59932e+07)\n",
      "CO*(14) + H2O*(13) <=> HCO*(16) + OH*(12) Arrhenius(A=2e+16, b=0, E=4.78783e+07)\n",
      "CH3OH*(23) + O*(11) <=> CH3O*(21) + OH*(12) Arrhenius(A=1e+16, b=0, E=3.59932e+07)\n",
      "CH3OH*(23) + O*(11) <=> CH3O*(21) + OH*(12) Arrhenius(A=1e+16, b=0, E=3.59932e+07)\n",
      "CO*(14) + HCOOH*(19) <=> COOH*(18) + HCO*(16) Arrhenius(A=1e+16, b=0, E=1.01764e+07)\n",
      "CO*(14) + HCOOH*(19) <=> COOH*(18) + HCO*(16) Arrhenius(A=1e+16, b=0, E=1.01764e+07)\n",
      "CH3OH*(23) + CO*(14) <=> CH3O*(21) + HCO*(16) Arrhenius(A=1e+16, b=0, E=3.77385e+07)\n",
      "CO*(14) + HCOOH*(19) <=> COOH*(18) + HCO*(16) Arrhenius(A=1e+16, b=0, E=1.01764e+07)\n",
      "CO*(14) + HCOOH*(19) <=> COOH*(18) + HCO*(16) Arrhenius(A=1e+16, b=0, E=1.01764e+07)\n",
      "CH3O2*(22) + HCO*(16) <=> CH2O*(20) + HCOOH*(19) Arrhenius(A=4.18e+20, b=0, E=7.84947e+07)\n",
      "CH3OH*(23) + O*(11) <=> CH3OX(45) + OH*(12) Arrhenius(A=3e+16, b=0, E=7.37008e+06)\n",
      "CH3OX(45) + O*(11) <=> CH2O*(20) + OH*(12) Arrhenius(A=4.18e+20, b=0, E=6.54923e+07)\n",
      "CH3OX(45) + OH*(12) <=> CH2O*(20) + H2O*(13) Arrhenius(A=4.18e+20, b=0, E=1.59598e+06)\n",
      "CH3OH*(23) + CO*(14) <=> CH3OX(45) + HCO*(16) Arrhenius(A=3e+16, b=0, E=9.11539e+06)\n"
     ]
    }
   ],
   "source": [
    "no_match_ct = list(set(range(len(surf.reactions()))) - set(ck_matches.keys()))\n",
    "\n",
    "for i in no_match_ct:\n",
    "    print(surf.reactions()[i].equation, surf.reactions()[i].rate)"
   ]
  },
  {
   "cell_type": "code",
   "execution_count": 20,
   "metadata": {},
   "outputs": [
    {
     "data": {
      "text/plain": [
       "dict_keys(['X(1) + X(1) + CO2(4) <=> O*(11) + CO*(14)'])"
      ]
     },
     "execution_count": 20,
     "metadata": {},
     "output_type": "execute_result"
    }
   ],
   "source": [
    "ck_rule_dict[12].keys()"
   ]
  },
  {
   "cell_type": "code",
   "execution_count": 29,
   "metadata": {},
   "outputs": [],
   "source": [
    "for key, value in ck_matches.items():\n",
    "    rxstr = list(ck_rule_dict[value].keys())[0]\n",
    "    n_reactants = len(ck_rule_dict[value][rxstr][\"reactants\"])\n",
    "    ck_A = ck_rule_dict[value][rxstr][\"reac_dict\"][\"A\"]\n",
    "    ck_Ea = ck_rule_dict[value][rxstr][\"reac_dict\"][\"Ea\"]\n",
    "    ct_A = surf.reactions()[key].rate.pre_exponential_factor\n",
    "    ct_Ea = surf.reactions()[key].rate.activation_energy\n",
    "\n",
    "    ck_Ea = ck_Ea*1e3\n",
    "    if ct_A > 1.0: \n",
    "        ck_A = 10**ck_A\n",
    "        if n_reactants ==2:\n",
    "            ck_A = ck_A*1e3\n",
    "\n",
    "    if not np.isclose(ck_A, ct_A, rtol=1e-3):\n",
    "        print(f\"rxn {key}: {rxstr}\")\n",
    "        print(f\"ck: {ck_A}, {ck_Ea}\")\n",
    "        print(f\"ct: {ct_A}, {ct_Ea}\")\n",
    "    elif not np.isclose(ck_Ea, ct_Ea, rtol=1e-3):\n",
    "        print(f\"rxn {key}: {rxstr}\")\n",
    "        print(f\"ck: {ck_A}, {ck_Ea}\")\n",
    "        print(f\"ct: {ct_A}, {ct_Ea}\")\n"
   ]
  },
  {
   "cell_type": "markdown",
   "metadata": {},
   "source": [
    "### redo Ea calc from BEP to verify we get the same answer"
   ]
  },
  {
   "cell_type": "code",
   "execution_count": 15,
   "metadata": {},
   "outputs": [
    {
     "ename": "NameError",
     "evalue": "name 'ck_vals' is not defined",
     "output_type": "error",
     "traceback": [
      "\u001b[0;31m---------------------------------------------------------------------------\u001b[0m",
      "\u001b[0;31mNameError\u001b[0m                                 Traceback (most recent call last)",
      "\u001b[0;32m/var/folders/bn/dbr8lwvj63n6nd0_j0blp8s80000gp/T/ipykernel_9662/1036563181.py\u001b[0m in \u001b[0;36m<module>\u001b[0;34m\u001b[0m\n\u001b[1;32m      1\u001b[0m \u001b[0mrxn_str\u001b[0m \u001b[0;34m=\u001b[0m \u001b[0;34m\"OH*(12) + CH2O*(20) <=> H*(10) + HCOOH*(19)\"\u001b[0m\u001b[0;34m\u001b[0m\u001b[0;34m\u001b[0m\u001b[0m\n\u001b[0;32m----> 2\u001b[0;31m \u001b[0mck_source\u001b[0m \u001b[0;34m=\u001b[0m \u001b[0mck_vals\u001b[0m\u001b[0;34m[\u001b[0m\u001b[0;34m\"source\"\u001b[0m\u001b[0;34m]\u001b[0m\u001b[0;34m\u001b[0m\u001b[0;34m\u001b[0m\u001b[0m\n\u001b[0m\u001b[1;32m      3\u001b[0m \u001b[0mck_vals\u001b[0m \u001b[0;34m=\u001b[0m \u001b[0mck_rule_dict\u001b[0m\u001b[0;34m[\u001b[0m\u001b[0mrxn_str\u001b[0m\u001b[0;34m]\u001b[0m\u001b[0;34m\u001b[0m\u001b[0;34m\u001b[0m\u001b[0m\n\u001b[1;32m      4\u001b[0m \u001b[0mdHrxn\u001b[0m \u001b[0;34m=\u001b[0m \u001b[0mck_vals\u001b[0m\u001b[0;34m[\u001b[0m\u001b[0;34m\"dHrxn\"\u001b[0m\u001b[0;34m]\u001b[0m\u001b[0;34m\u001b[0m\u001b[0;34m\u001b[0m\u001b[0m\n\u001b[1;32m      5\u001b[0m \u001b[0;32mfor\u001b[0m \u001b[0mnum\u001b[0m\u001b[0;34m,\u001b[0m \u001b[0mrxn\u001b[0m \u001b[0;32min\u001b[0m \u001b[0menumerate\u001b[0m\u001b[0;34m(\u001b[0m\u001b[0msurf\u001b[0m\u001b[0;34m.\u001b[0m\u001b[0mreactions\u001b[0m\u001b[0;34m(\u001b[0m\u001b[0;34m)\u001b[0m\u001b[0;34m)\u001b[0m\u001b[0;34m:\u001b[0m\u001b[0;34m\u001b[0m\u001b[0;34m\u001b[0m\u001b[0m\n",
      "\u001b[0;31mNameError\u001b[0m: name 'ck_vals' is not defined"
     ]
    }
   ],
   "source": [
    "rxn_str = \"OH*(12) + CH2O*(20) <=> H*(10) + HCOOH*(19)\"\n",
    "ck_source = ck_vals[\"source\"]\n",
    "ck_vals = ck_rule_dict[rxn_str]\n",
    "dHrxn = ck_vals[\"dHrxn\"]\n",
    "for num, rxn in enumerate(surf.reactions()):\n",
    "    if \"OH*(12)\" in rxn.reactants and \"CH2O*(20)\" in rxn.reactants and \"H*(10)\" in rxn.products \\\n",
    "         and \"HCOOH*(19)\" in rxn.products: \n",
    "        print(surf.delta_standard_enthalpy[num]/1e3, dHrxn)"
   ]
  },
  {
   "cell_type": "code",
   "execution_count": null,
   "metadata": {},
   "outputs": [
    {
     "data": {
      "text/plain": [
       "142"
      ]
     },
     "execution_count": 254,
     "metadata": {},
     "output_type": "execute_result"
    }
   ],
   "source": []
  },
  {
   "cell_type": "code",
   "execution_count": null,
   "metadata": {},
   "outputs": [],
   "source": [
    "### redo Ea calc from BEP to verify we get the same answer\n",
    "rxn_str = \"OH*(12) + CH2O*(20) <=> H*(10) + HCOOH*(19)\"\n",
    "ck_source = ck_vals[\"source\"]\n",
    "ck_vals = ck_rule_dict[rxn_str]\n",
    "dHrxn = ck_vals[\"dHrxn\"]\n",
    "for num, rxn in enumerate(surf.reactions()):\n",
    "    if \"OH*(12)\" in rxn.reactants and \"CH2O*(20)\" in rxn.reactants and \"H*(10)\" in rxn.products \\\n",
    "         and \"HCOOH*(19)\" in rxn.products: \n",
    "        print(surf.delta_standard_enthalpy[num]/1e3, dHrxn)\n",
    "# get chemkin values\n",
    "rxn_str = \"OH*(12) + CH2O*(20) <=> H*(10) + HCOOH*(19)\"\n",
    "ck_source = ck_vals[\"source\"]\n",
    "ck_vals = ck_rule_dict[rxn_str]\n",
    "dHrxn = ck_vals[\"dHrxn\"]\n",
    "\n",
    "# get rmg rule db values\n",
    "E0 = rule_dict[ck_source][\"E0\"]\n",
    "alpha = rule_dict[ck_source][\"Alpha\"]\n",
    "Ea_calc = E0+alpha*(dHrxn)\n",
    "if Ea_calc < 0.0:\n",
    "    Ea_calc = 0.0\n",
    "Ea_calc, ck_vals[\"reac_dict\"][\"Ea\"], dHrxn"
   ]
  },
  {
   "cell_type": "code",
   "execution_count": null,
   "metadata": {},
   "outputs": [],
   "source": [
    "with open"
   ]
  }
 ],
 "metadata": {
  "kernelspec": {
   "display_name": "rmg_env",
   "language": "python",
   "name": "rmg_env"
  },
  "language_info": {
   "codemirror_mode": {
    "name": "ipython",
    "version": 3
   },
   "file_extension": ".py",
   "mimetype": "text/x-python",
   "name": "python",
   "nbconvert_exporter": "python",
   "pygments_lexer": "ipython3",
   "version": "3.7.16"
  },
  "orig_nbformat": 4
 },
 "nbformat": 4,
 "nbformat_minor": 2
}
