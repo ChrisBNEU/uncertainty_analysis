{
 "cells": [
  {
   "cell_type": "code",
   "execution_count": 1,
   "metadata": {},
   "outputs": [],
   "source": [
    "import os\n",
    "import sys\n",
    "sys.path.append(os.path.dirname(os.path.dirname(os.path.dirname(os.path.abspath(\"\")))))"
   ]
  },
  {
   "cell_type": "code",
   "execution_count": 2,
   "metadata": {},
   "outputs": [
    {
     "name": "stdout",
     "output_type": "stream",
     "text": [
      "/work/westgroup/ChrisB/_01_MeOH_repos/uncertainty_analysis\n"
     ]
    }
   ],
   "source": [
    "from rmg_gua.gua_peuqse.runtime_utilities import get_all_param_lists, make_exp_data_lists\n",
    "from rmg_gua.gua_peuqse.ct_simulation import simulationFunction"
   ]
  },
  {
   "cell_type": "code",
   "execution_count": 3,
   "metadata": {},
   "outputs": [
    {
     "data": {
      "text/plain": [
       "'/work/westgroup/ChrisB/_01_MeOH_repos/uncertainty_analysis'"
      ]
     },
     "execution_count": 3,
     "metadata": {},
     "output_type": "execute_result"
    }
   ],
   "source": [
    "os.path.dirname(os.path.dirname(os.path.dirname(os.path.abspath(\"\"))))"
   ]
  },
  {
   "cell_type": "code",
   "execution_count": null,
   "metadata": {},
   "outputs": [],
   "source": [
    "# modify one of the parameters (the reaction that makes methanol)\n"
   ]
  },
  {
   "cell_type": "code",
   "execution_count": 4,
   "metadata": {},
   "outputs": [
    {
     "name": "stdout",
     "output_type": "stream",
     "text": [
      "110\n",
      "110\n",
      "110\n",
      "110\n",
      "110\n"
     ]
    }
   ],
   "source": [
    "param_list = get_all_param_lists(\"./config\")\n",
    "for key in param_list.keys():\n",
    "    print(len(param_list[key]))"
   ]
  },
  {
   "cell_type": "code",
   "execution_count": 5,
   "metadata": {
    "tags": []
   },
   "outputs": [],
   "source": [
    "x,xa, y,yu = make_exp_data_lists(\"../../gua_cantera\", \"./config\", use_count=4)"
   ]
  },
  {
   "cell_type": "code",
   "execution_count": 6,
   "metadata": {},
   "outputs": [
    {
     "name": "stdout",
     "output_type": "stream",
     "text": [
      "input parameters:  [17.621176281775035, 129300.00000000001, 0.94, 17.621176281775035, 106100.0, 0.68, 17.621176281775035, 106100.0, 0.68, 17.621176281775035, 1900.0, 0.02, 17.143951116423963, 106100.0, 0.68, 17.143951116423963, 106100.0, 0.68, 17.621176281775035, 129300.00000000001, 0.94, 17.621176281775035, 129300.00000000001, 0.94, 17.621176281775035, 15400.0, 0.65, 17.143951116423963, 129300.00000000001, 0.94, 17.143951116423963, 129300.00000000001, 0.94, 13.0, 0.0, 0.5, 13.0, 0.0, 0.5, 13.0, 20920.0, 0.5, 0.1, 3800.0, 0.0, 0.17897694729316943, 58000.0, 0.0, 0.1, 107900.0, 0.69, 0.1, 107900.0, 0.69, 0.033, 107100.0, 0.76, 0.01, 41840.0, 0.0, 0.1, 0.0, 0.0, 17.621176281775035, 185142.0, 0.84, 17.621176281775035, 75300.0, 0.57, 17.621176281775035, 73300.0, 0.26, 17.621176281775035, 117700.0, 0.58, 13.0, 0.0, 0.44, 17.621176281775035, 185100.0, 0.84, 17.320146286111054, 97500.0, 0.51, 17.621176281775035, 117700.0, 0.58, 17.621176281775035, 75250.0, 0.57, 17.143014800254097, 75250.0, 0.57, 17.320146286111054, 75250.0, 0.57, 13.0, 0.0, 0.0, 5e-06, 68660.0, 0.0, 13.0, 50000.0, 0.0, 0.0, 0.0, 0.0, 0.0, 0.0]\n",
      "length is 4 in sim\n",
      "starting sim 0\n"
     ]
    },
    {
     "name": "stderr",
     "output_type": "stream",
     "text": [
      "/work/westgroup/ChrisB/_01_MeOH_repos/uncertainty_analysis/rmg_gua/gua_cantera/Spinning_basket_reactor/sbr.py:93: UserWarning: InterfaceReaction2::validate: \n",
      " Sticking coefficient is greater than 1 for reaction 'C(40) + 2 X(1) <=> CH3X(55) + H*(10)'\n",
      " at T = 10000.0\n",
      "\n",
      "  self.surf = ct.Interface(yaml_file, \"surface1\", [self.gas])\n"
     ]
    },
    {
     "name": "stdout",
     "output_type": "stream",
     "text": [
      "changing reactions\n",
      "X(1)\n",
      "starting sim 1\n",
      "changing reactions\n",
      "X(1)\n",
      "starting sim 2\n",
      "changing reactions\n",
      "X(1)\n",
      "starting sim 3\n",
      "changing reactions\n",
      "X(1)\n",
      "Results:\n",
      "\n",
      "CH3OH:  [2.6472940871847663e-08, 1.4761354823037989e-08, 2.978019256460928e-08, 5.019339263200844e-08]\n",
      "CO:  [0.09512979866411266, 0.0964904328480798, 0.0958524836027715, 0.09457922123179276]\n",
      "CO2:  [0.15019273742932807, 0.14515626509712407, 0.1475428270989096, 0.15223491898933003]\n",
      "H2:  [0.059847954014873674, 0.032847500889377976, 0.044922444964174434, 0.07073677506757514]\n",
      "H2O:  [0.4631910025634246, 0.4835919547397325, 0.4744358131285233, 0.45495682233963414]\n",
      "sim done\n",
      "start time: Tue Mar 21 09:21:11 2023\n",
      "end time: Tue Mar 21 09:21:16 2023\n",
      "elapsed: 5.400837182998657 seconds\n"
     ]
    }
   ],
   "source": [
    "test_sbr, ydata = simulationFunction(param_list[\"value_list\"], debug=True)"
   ]
  },
  {
   "cell_type": "code",
   "execution_count": null,
   "metadata": {},
   "outputs": [
    {
     "name": "stdout",
     "output_type": "stream",
     "text": [
      "running job\n",
      "length is 7 in main\n",
      "input parameters:  [1.76211763e+01 1.29300000e+05 9.40000000e-01 1.76211763e+01\n",
      " 1.06100000e+05 6.80000000e-01 1.76211763e+01 1.06100000e+05\n",
      " 6.80000000e-01 1.76211763e+01 1.90000000e+03 2.00000000e-02\n",
      " 1.71439511e+01 1.06100000e+05 6.80000000e-01 1.71439511e+01\n",
      " 1.06100000e+05 6.80000000e-01 1.76211763e+01 1.29300000e+05\n",
      " 9.40000000e-01 1.76211763e+01 1.29300000e+05 9.40000000e-01\n",
      " 1.76211763e+01 1.54000000e+04 6.50000000e-01 1.71439511e+01\n",
      " 1.29300000e+05 9.40000000e-01 1.71439511e+01 1.29300000e+05\n",
      " 9.40000000e-01 1.30000000e+01 0.00000000e+00 5.00000000e-01\n",
      " 1.30000000e+01 0.00000000e+00 5.00000000e-01 1.30000000e+01\n",
      " 2.09200000e+04 5.00000000e-01 1.00000000e-01 3.80000000e+03\n",
      " 0.00000000e+00 1.78976947e-01 5.80000000e+04 0.00000000e+00\n",
      " 1.00000000e-01 1.07900000e+05 6.90000000e-01 1.00000000e-01\n",
      " 1.07900000e+05 6.90000000e-01 3.30000000e-02 1.07100000e+05\n",
      " 7.60000000e-01 1.00000000e-02 4.18400000e+04 0.00000000e+00\n",
      " 1.00000000e-01 0.00000000e+00 0.00000000e+00 1.76211763e+01\n",
      " 1.85142000e+05 8.40000000e-01 1.76211763e+01 7.53000000e+04\n",
      " 5.70000000e-01 1.76211763e+01 7.33000000e+04 2.60000000e-01\n",
      " 1.76211763e+01 1.17700000e+05 5.80000000e-01 1.30000000e+01\n",
      " 0.00000000e+00 4.40000000e-01 1.76211763e+01 1.85100000e+05\n",
      " 8.40000000e-01 1.73201463e+01 9.75000000e+04 5.10000000e-01\n",
      " 1.76211763e+01 1.17700000e+05 5.80000000e-01 1.76211763e+01\n",
      " 7.52500000e+04 5.70000000e-01 1.71430148e+01 7.52500000e+04\n",
      " 5.70000000e-01 1.73201463e+01 7.52500000e+04 5.70000000e-01\n",
      " 1.30000000e+01 0.00000000e+00 0.00000000e+00 5.00000000e-06\n",
      " 6.86600000e+04 0.00000000e+00 1.30000000e+01 5.00000000e+04\n",
      " 0.00000000e+00 0.00000000e+00 0.00000000e+00 0.00000000e+00\n",
      " 0.00000000e+00 0.00000000e+00]\n",
      "length is 3 in sim\n",
      "starting sim 0\n"
     ]
    },
    {
     "name": "stderr",
     "output_type": "stream",
     "text": [
      "/work/westgroup/ChrisB/_01_MeOH_repos/uncertainty_analysis/rmg_gua/gua_cantera/Spinning_basket_reactor/sbr.py:93: UserWarning: InterfaceReaction2::validate: \n",
      " Sticking coefficient is greater than 1 for reaction 'C(40) + 2 X(1) <=> CH3X(55) + H*(10)'\n",
      " at T = 10000.0\n",
      "\n",
      "  self.surf = ct.Interface(yaml_file, \"surface1\", [self.gas])\n"
     ]
    },
    {
     "name": "stdout",
     "output_type": "stream",
     "text": [
      "changing reactions\n",
      "X(1)\n",
      "starting sim 1\n",
      "changing reactions\n",
      "X(1)\n",
      "starting sim 2\n",
      "changing reactions\n",
      "X(1)\n",
      "Results:\n",
      "\n",
      "CH3OH:  [2.6472940871847663e-08, 1.4761354823037989e-08, 2.978019256460928e-08]\n",
      "CO:  [0.09512979866411266, 0.0964904328480798, 0.0958524836027715]\n",
      "CO2:  [0.15019273742932807, 0.14515626509712407, 0.1475428270989096]\n",
      "H2:  [0.059847954014873674, 0.032847500889377976, 0.044922444964174434]\n",
      "H2O:  [0.4631910025634246, 0.4835919547397325, 0.4744358131285233]\n",
      "sim done\n",
      "start time: Tue Mar 21 09:50:02 2023\n",
      "end time: Tue Mar 21 09:50:06 2023\n",
      "elapsed: 3.3533263206481934 seconds\n",
      "Warning: CiteSoftLocal cannot make a consolidated log. Citations have been exported to CiteSoftwareCheckpointsLog.txt\n"
     ]
    }
   ],
   "source": [
    "import copy\n",
    "import pickle\n",
    "import shutil\n",
    "import os\n",
    "import math\n",
    "import yaml\n",
    "\n",
    "import numpy as np\n",
    "import PEUQSE as PEUQSE\n",
    "import PEUQSE.UserInput as UserInput\n",
    "import sys\n",
    "repo_dir = os.path.dirname(os.path.dirname(os.path.dirname(os.path.abspath(\"\"))))\n",
    "# repo_dir = os.path.dirname(os.path.dirname(os.path.dirname(os.path.dirname(os.path.abspath(__file__)))))\n",
    "sys.path.append(repo_dir)\n",
    "results_path = os.path.join(repo_dir, \"rmg_gua\", \"gua_peuqse\", \"02_opt_logp_fam_be\", \"config\")\n",
    "from rmg_gua.gua_peuqse.runtime_utilities import get_all_param_lists, make_exp_data_lists\n",
    "run_test = False\n",
    "\n",
    "\n",
    "import ct_simulation  # function for peuquse to optimize\n",
    "\n",
    "if __name__ == \"__main__\":\n",
    "    # Just a simple example. The user can also put the values in directly into the runfile or extract from a csv, for example.\n",
    "    print(\"running job\")\n",
    "\n",
    "    results_path = os.path.join(repo_dir, \"rmg_gua\", \"gua_peuqse\", \"02_opt_logp_fam_be\", \"config\")\n",
    "    # get the peuqse parameters\n",
    "    param_dict = get_all_param_lists(results_path=results_path)     \n",
    "\n",
    "    # load the exp data yaml\n",
    "    with open(\"expt_data.yaml\", \"r\") as f:\n",
    "        expt_data = yaml.load(f, Loader=yaml.FullLoader)\n",
    "        \n",
    "    # load uncertainty yaml. experimenting with different layout for X. \n",
    "    with open(\"expt_unc.yaml\", \"r\") as f:\n",
    "        expt_unc = yaml.load(f, Loader=yaml.FullLoader)\n",
    "    \n",
    "    data_path = os.path.join(repo_dir, \"rmg_gua\", \"gua_cantera\")\n",
    "    _, x_data, y_data, y_unc = make_exp_data_lists(data_path, results_path, use_count=3)\n",
    "    \n",
    "    x_data = np.array(x_data)\n",
    "    y_data = np.array(y_data)\n",
    "    y_unc = np.array(y_data)\n",
    "    print(f\"length is {len(x_data)} in main\")\n",
    "\n",
    "    # Provide the observed X values and Y values and uncertainties -- all should be arrays or lists with nesting like [[1,2,3]] or [[1,2,3,4],[4,5,6,6]]\n",
    "    UserInput.responses['responses_abscissa'] = x_data\n",
    "    UserInput.responses['responses_observed'] = y_data\n",
    "\n",
    "    # estimated graaf uncertainties. \n",
    "    UserInput.responses['responses_observed_uncertainties'] = y_unc\n",
    "\n",
    "    #Optional: provide labels for the responses axes and parameter names.\n",
    "    UserInput.simulated_response_plot_settings['x_label'] = [\n",
    "        \"catalyst_area\", \"pressure (Pa)\", \"mole frac CO\", \"mole frac CO2\", \"mole frac H2\", \"temperature (K)\", \"volume flowrate (m^3/s)\"]\n",
    "    UserInput.simulated_response_plot_settings['y_label'] = [\n",
    "        \"CH3OH mole Frac out\", \"CO mole Frac out\", \"CO2 mole Frac out\", \"H2 mole Frac out\", \"H2O mole Frac out\"]\n",
    "    UserInput.model['parameterNamesAndMathTypeExpressionsDict'] = param_dict[\"label_list\"]\n",
    "\n",
    "    #Provide the prior distribution and uncertainties of the individual parameters.\n",
    "    # prior expected values for a and b\n",
    "    UserInput.model['InputParameterPriorValues'] = param_dict[\"value_list\"]\n",
    "    # required. #If user wants to use a prior with covariance, then this must be a 2D array/ list. To assume no covariance, a 1D\n",
    "    UserInput.model['InputParametersPriorValuesUncertainties'] = param_dict[\"unc_list\"]\n",
    "    # UserInput.model['InputParameterInitialGuess'] = #Can optionally change the initial guess to be different from prior means.\n",
    "    UserInput.model['InputParameterPriorValues_lowerBounds'] = param_dict[\"lower_list\"]\n",
    "    UserInput.model['InputParameterPriorValues_upperBounds'] = param_dict[\"upper_list\"]\n",
    "    \n",
    "    UserInput.model['simulateByInputParametersOnlyFunction'] = ct_simulation.simulation_function_wrapper\n",
    "\n",
    "    UserInput.parameter_estimation_settings['mcmc_threshold_filter_samples'] = True\n",
    "\n",
    "    UserInput.parameter_estimation_settings['mcmc_random_seed'] = 0\n",
    "    UserInput.parameter_estimation_settings['multistart_searchType'] = 'doOptimizeLogP'\n",
    "    UserInput.parameter_estimation_settings['multistart_passThroughArgs'] = {'method':'BFGS'} #Here, BFGS is used. However, Nelder-Mead is usually what is recommended.\n",
    "    UserInput.parameter_estimation_settings['multistart_initialPointsDistributionType'] = 'grid'\n",
    "    UserInput.parameter_estimation_settings['multistart_exportLog'] = True\n",
    "    \n",
    "    #After making the UserInput, now we make a 'parameter_estimation' object from it.\n",
    "    PE_object = PEUQSE.parameter_estimation(UserInput)\n",
    "    \n",
    "    # run the model\n",
    "    PE_object.doMultiStart()\n",
    "    PE_object.createAllPlots() #This function calls each of the below functions so that the user does not have to.\n",
    "\n"
   ]
  },
  {
   "cell_type": "code",
   "execution_count": null,
   "metadata": {},
   "outputs": [],
   "source": []
  }
 ],
 "metadata": {
  "kernelspec": {
   "display_name": "peuqse_env",
   "language": "python",
   "name": "peuqse_env"
  },
  "language_info": {
   "codemirror_mode": {
    "name": "ipython",
    "version": 3
   },
   "file_extension": ".py",
   "mimetype": "text/x-python",
   "name": "python",
   "nbconvert_exporter": "python",
   "pygments_lexer": "ipython3",
   "version": "3.7.12"
  }
 },
 "nbformat": 4,
 "nbformat_minor": 4
}
