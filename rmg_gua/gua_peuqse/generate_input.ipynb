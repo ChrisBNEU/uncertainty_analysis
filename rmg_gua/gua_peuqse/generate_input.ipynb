{
 "cells": [
  {
   "cell_type": "code",
   "execution_count": 2,
   "metadata": {},
   "outputs": [],
   "source": [
    "import PEUQSE\n",
    "import numpy as np \n",
    "import pandas as pd \n",
    "import yaml"
   ]
  },
  {
   "cell_type": "code",
   "execution_count": null,
   "metadata": {},
   "outputs": [],
   "source": [
    "def initial_val_unc(kinetics): \n",
    "    \"\"\" \n",
    "    return the initial value, an estimate of parameter uncertainty, and upper\n",
    "     as a tuple\n",
    "    A-factors: if not sticking coeffient, +/- 1, return LogA. else, +/- 0.5\n",
    "    Ea: +/- 0.3 eV. \n",
    "\n",
    "    Limits: \n",
    "    A (upper):  - 1 for sticking coefficient, 1e25 for others\n",
    "    A (lower):  - 0 for sticking coefficient, 0 for others\n",
    "    E (upper):  - 200 eV\n",
    "    E (lower):  - 0 eV\n",
    "    \"\"\" \n"
   ]
  },
  {
   "cell_type": "code",
   "execution_count": 3,
   "metadata": {},
   "outputs": [],
   "source": [
    "# get the input parameter list. we need: \n",
    "# for A, Ea, etc: \n",
    "# 1. a list of the initial values\n",
    "# 2. a list of the uncertainties\n",
    "\n",
    "#for expt data\n",
    "# 3. x_data: the pressure, temp, etc for each experiment\n",
    "# 4. uncertainty data for the x_data\n",
    "# 4. y_data: the output mole fractions for CO, CO2, etc. \n",
    "# 6. Uncertainty data for the y_data\n",
    "rms_file = \"../baseline/rms/chem53.rms\"\n",
    "with open(rms_file, \"r\") as f: \n",
    "    rms_mech = yaml.load(f, Loader=yaml.FullLoader)\n",
    "\n",
    "initial_values = []\n",
    "uncertainties = []\n",
    "\n",
    "for num, rxn in enumerate(rms_file[\"Reactions\"]):\n",
    "    rxn.kinetics"
   ]
  },
  {
   "cell_type": "code",
   "execution_count": 8,
   "metadata": {},
   "outputs": [
    {
     "data": {
      "text/plain": [
       "7390000000000000.0"
      ]
     },
     "execution_count": 8,
     "metadata": {},
     "output_type": "execute_result"
    }
   ],
   "source": [
    "rms_mech[\"Reactions\"][1][\"kinetics\"][\"A\"]\n"
   ]
  },
  {
   "cell_type": "code",
   "execution_count": null,
   "metadata": {},
   "outputs": [],
   "source": []
  }
 ],
 "metadata": {
  "kernelspec": {
   "display_name": "base",
   "language": "python",
   "name": "python3"
  },
  "language_info": {
   "codemirror_mode": {
    "name": "ipython",
    "version": 3
   },
   "file_extension": ".py",
   "mimetype": "text/x-python",
   "name": "python",
   "nbconvert_exporter": "python",
   "pygments_lexer": "ipython3",
   "version": "3.7.11"
  },
  "orig_nbformat": 4,
  "vscode": {
   "interpreter": {
    "hash": "761e29b0df9c3d9c34f317b21f9cc637e60a87b96f31ef43d364a03406750816"
   }
  }
 },
 "nbformat": 4,
 "nbformat_minor": 2
}
