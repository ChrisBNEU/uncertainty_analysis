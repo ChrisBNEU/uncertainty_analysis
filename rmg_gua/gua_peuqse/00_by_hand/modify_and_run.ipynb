{
 "cells": [
  {
   "cell_type": "code",
   "execution_count": null,
   "id": "8f2eddb0-c39b-483e-a185-ca08d7fe045b",
   "metadata": {},
   "outputs": [
    {
     "data": {
      "text/plain": [
       "['/work/westgroup/ChrisB/_01_MeOH_repos/uncertainty_analysis/rmg_gua/baseline/rms/chem25.rms',\n",
       " '/work/westgroup/ChrisB/_01_MeOH_repos/uncertainty_analysis/rmg_gua/baseline/rms/chem26.rms',\n",
       " '/work/westgroup/ChrisB/_01_MeOH_repos/uncertainty_analysis/rmg_gua/baseline/rms/chem27.rms',\n",
       " '/work/westgroup/ChrisB/_01_MeOH_repos/uncertainty_analysis/rmg_gua/baseline/rms/chem28.rms',\n",
       " '/work/westgroup/ChrisB/_01_MeOH_repos/uncertainty_analysis/rmg_gua/baseline/rms/chem29.rms',\n",
       " '/work/westgroup/ChrisB/_01_MeOH_repos/uncertainty_analysis/rmg_gua/baseline/rms/chem30.rms',\n",
       " '/work/westgroup/ChrisB/_01_MeOH_repos/uncertainty_analysis/rmg_gua/baseline/rms/chem31.rms',\n",
       " '/work/westgroup/ChrisB/_01_MeOH_repos/uncertainty_analysis/rmg_gua/baseline/rms/chem32.rms']"
      ]
     },
     "execution_count": 19,
     "metadata": {},
     "output_type": "execute_result"
    }
   ],
   "source": [
    "import glob\n",
    "\n",
    "glob.glob(os.path.join(rms_path, \"chem*.rms\"))\n",
    "\n",
    "from rmg_gua.gua_peuqse.peuqse_utilities import get_highest_rms_file"
   ]
  },
  {
   "cell_type": "code",
   "execution_count": 7,
   "id": "2ddedb95-13bc-4488-9fc8-43b31135e3e0",
   "metadata": {},
   "outputs": [],
   "source": [
    "import os\n",
    "import sys\n",
    "import yaml\n",
    "sys.path.append(os.path.dirname(os.path.dirname(os.path.dirname(os.path.abspath(\"\")))))"
   ]
  },
  {
   "cell_type": "code",
   "execution_count": 8,
   "id": "5b0aad16-608b-483b-9582-6e1afe86d26c",
   "metadata": {},
   "outputs": [],
   "source": [
    "from rmg_gua.gua_peuqse.runtime_utilities import get_all_param_lists, make_exp_data_lists\n",
    "from rmg_gua.gua_peuqse.ct_simulation import simulationFunction"
   ]
  },
  {
   "cell_type": "code",
   "execution_count": 9,
   "id": "c852a9a5-8d3b-4289-ab3b-e0c7598f6ec2",
   "metadata": {},
   "outputs": [
    {
     "data": {
      "text/plain": [
       "'/work/westgroup/ChrisB/_01_MeOH_repos/uncertainty_analysis'"
      ]
     },
     "execution_count": 9,
     "metadata": {},
     "output_type": "execute_result"
    }
   ],
   "source": [
    "os.path.dirname(os.path.dirname(os.path.dirname(os.path.abspath(\"\"))))"
   ]
  },
  {
   "cell_type": "code",
   "execution_count": 20,
   "id": "5eabf343-63e6-4b48-898b-f3e5be18d2a0",
   "metadata": {},
   "outputs": [
    {
     "name": "stdout",
     "output_type": "stream",
     "text": [
      "Surface_Abstraction : O;*C-H\n",
      "Surface_Abstraction_Beta_double_vdW : Abstracting;Donating\n",
      "Surface_Abstraction_Beta_double_vdW : OH;R-C-H\n",
      "Surface_Abstraction_Beta_double_vdW : OH;R-O-H\n",
      "Surface_Abstraction_Beta_double_vdW : Abstracting;R-CH3\n",
      "Surface_Abstraction_Beta_double_vdW : OH;R-CH3\n",
      "Surface_Abstraction_Beta_vdW : Abstracting;Donating\n",
      "Surface_Abstraction_Beta_vdW : O;R-C-H\n",
      "Surface_Abstraction_Beta_vdW : O;R-O-H\n",
      "Surface_Abstraction_Beta_vdW : Abstracting;R-CH3\n",
      "Surface_Abstraction_Beta_vdW : O;R-CH3\n",
      "Surface_Abstraction_Single_vdW : Donating;Abstracting\n",
      "Surface_Abstraction_vdW : AdsorbateVdW;Adsorbate1\n"
     ]
    }
   ],
   "source": [
    "# modify certain reactions to see their affect on the output. \n",
    "with open(\"./config/rule_config.yaml\", \"r\") as f:\n",
    "    rule_config = yaml.safe_load(f)\n",
    "\n",
    "for key in rule_config.keys():\n",
    "    if \"Surface_Abstraction\" in key:\n",
    "        print(key)"
   ]
  },
  {
   "cell_type": "code",
   "execution_count": null,
   "id": "db3238c4-e400-4965-ab74-94e6a201c03c",
   "metadata": {},
   "outputs": [],
   "source": [
    "with open(\"./config/rule_config.yaml\", \"w\") as f:\n",
    "    yaml.safe_dump(rule_config, f, sort_keys=False)"
   ]
  },
  {
   "cell_type": "code",
   "execution_count": 4,
   "id": "f1b7157c-803b-48df-b887-0e04d92c9d6f",
   "metadata": {},
   "outputs": [],
   "source": [
    "param_list = get_all_param_lists(\"./config\")"
   ]
  },
  {
   "cell_type": "code",
   "execution_count": 5,
   "id": "c9787cd7-62b6-4c6e-aba4-b1eff212d60e",
   "metadata": {
    "tags": []
   },
   "outputs": [],
   "source": [
    "x,xa, y,yu = make_exp_data_lists(\"../../gua_cantera\", \"./config\", use_count=4)"
   ]
  },
  {
   "cell_type": "code",
   "execution_count": 6,
   "id": "4c73d155-b61a-446a-85cc-8d8e67e97140",
   "metadata": {},
   "outputs": [
    {
     "name": "stdout",
     "output_type": "stream",
     "text": [
      "input parameters:  [17.621176281775035, 129300.00000000001, 0.94, 17.621176281775035, 106100.0, 0.68, 17.621176281775035, 106100.0, 0.68, 17.621176281775035, 1900.0, 0.02, 17.143951116423963, 106100.0, 0.68, 17.143951116423963, 106100.0, 0.68, 17.621176281775035, 129300.00000000001, 0.94, 17.621176281775035, 129300.00000000001, 0.94, 17.621176281775035, 15400.0, 0.65, 17.143951116423963, 129300.00000000001, 0.94, 17.143951116423963, 129300.00000000001, 0.94, 13.0, 0.0, 0.5, 13.0, 0.0, 0.5, 13.0, 20920.0, 0.5, 0.1, 3800.0, 0.0, 0.17897694729316943, 58000.0, 0.0, 0.1, 107900.0, 0.69, 0.1, 107900.0, 0.69, 0.033, 107100.0, 0.76, 0.01, 41840.0, 0.0, 0.1, 0.0, 0.0, 17.621176281775035, 185142.0, 0.84, 17.621176281775035, 75300.0, 0.57, 17.621176281775035, 73300.0, 0.26, 17.621176281775035, 117700.0, 0.58, 13.0, 0.0, 0.44, 17.621176281775035, 185100.0, 0.84, 17.320146286111054, 97500.0, 0.51, 17.621176281775035, 117700.0, 0.58, 17.621176281775035, 75250.0, 0.57, 17.143014800254097, 75250.0, 0.57, 17.320146286111054, 75250.0, 0.57, 13.0, 0.0, 0.0, 5e-06, 68660.0, 0.0, 13.0, 50000.0, 0.0, 0.0, 0.0, 0.0, 0.0, 0.0]\n",
      "length is 4 in sim\n",
      "starting sim 0\n"
     ]
    },
    {
     "name": "stderr",
     "output_type": "stream",
     "text": [
      "/work/westgroup/ChrisB/_01_MeOH_repos/uncertainty_analysis/rmg_gua/gua_cantera/Spinning_basket_reactor/sbr.py:93: UserWarning: InterfaceReaction2::validate: \n",
      " Sticking coefficient is greater than 1 for reaction 'C(40) + 2 X(1) <=> CH3X(55) + H*(10)'\n",
      " at T = 10000.0\n",
      "\n",
      "  self.surf = ct.Interface(yaml_file, \"surface1\", [self.gas])\n"
     ]
    },
    {
     "name": "stdout",
     "output_type": "stream",
     "text": [
      "changing reactions\n",
      "X(1)\n",
      "starting sim 1\n",
      "changing reactions\n",
      "X(1)\n",
      "starting sim 2\n",
      "changing reactions\n",
      "X(1)\n",
      "starting sim 3\n",
      "changing reactions\n",
      "X(1)\n",
      "Results:\n",
      "\n",
      "CH3OH:  [2.6472940871847663e-08, 1.4761354823037989e-08, 2.978019256460928e-08, 5.019339263200844e-08]\n",
      "CO:  [0.09512979866411266, 0.0964904328480798, 0.0958524836027715, 0.09457922123179276]\n",
      "CO2:  [0.15019273742932807, 0.14515626509712407, 0.1475428270989096, 0.15223491898933003]\n",
      "H2:  [0.059847954014873674, 0.032847500889377976, 0.044922444964174434, 0.07073677506757514]\n",
      "H2O:  [0.4631910025634246, 0.4835919547397325, 0.4744358131285233, 0.45495682233963414]\n",
      "sim done\n",
      "start time: Tue Mar 21 09:21:11 2023\n",
      "end time: Tue Mar 21 09:21:16 2023\n",
      "elapsed: 5.400837182998657 seconds\n"
     ]
    }
   ],
   "source": [
    "test_sbr, ydata = simulationFunction(param_list[\"value_list\"], debug=True)"
   ]
  }
 ],
 "metadata": {
  "kernelspec": {
   "display_name": "Python 3 (ipykernel)",
   "language": "python",
   "name": "python3"
  },
  "language_info": {
   "codemirror_mode": {
    "name": "ipython",
    "version": 3
   },
   "file_extension": ".py",
   "mimetype": "text/x-python",
   "name": "python",
   "nbconvert_exporter": "python",
   "pygments_lexer": "ipython3",
   "version": "3.7.12"
  }
 },
 "nbformat": 4,
 "nbformat_minor": 5
}
