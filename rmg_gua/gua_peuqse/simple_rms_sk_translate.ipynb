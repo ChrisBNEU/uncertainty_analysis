{
 "cells": [
  {
   "cell_type": "code",
   "execution_count": 27,
   "metadata": {},
   "outputs": [],
   "source": [
    "import os\n",
    "from pyrms import rms\n",
    "from julia import Main\n",
    "import time \n",
    "import yaml\n",
    "import pandas as pd\n",
    "import math\n",
    "from copy import deepcopy\n",
    "from rmgpy.chemkin import load_chemkin_file\n",
    "from rmgpy.rmg.model import ReactionModel\n",
    "from rmgpy.species import Species\n",
    "from rmgpy.kinetics import StickingCoefficientBEP, StickingCoefficient, SurfaceArrheniusBEP, SurfaceArrhenius\n",
    "from rmgpy.data.kinetics.database import KineticsDatabase\n",
    "from matplotlib import pyplot as plt\n",
    "%matplotlib inline"
   ]
  },
  {
   "cell_type": "code",
   "execution_count": 186,
   "metadata": {},
   "outputs": [],
   "source": [
    "def make_spc(spc):\n",
    "    \"\"\"\n",
    "    make an RMG object from the rms object\n",
    "    \n",
    "    \"\"\"\n",
    "    if len(spc.adjlist) > 0:\n",
    "        rmg_spc = Species().from_adjacency_list(spc.adjlist)\n",
    "    else:\n",
    "        rmg_spc = Species().from_smiles(spc.smiles)\n",
    "\n",
    "    return rmg_spc\n",
    "\n",
    "def initial_val_unc(kinetics, num): \n",
    "    \"\"\" \n",
    "    return the initial value, an estimate of parameter uncertainty, and upper\n",
    "     as a tuple\n",
    "    A-factors: if not sticking coeffient, +/- 1, return LogA. else, +/- 0.5\n",
    "    Ea: +/- 0.3 eV. \n",
    "\n",
    "    Limits: \n",
    "    A (upper):  - 1 for sticking coefficient, 1e25 for others\n",
    "    A (lower):  - 0 for sticking coefficient, 0 for others\n",
    "    E (upper):  - 400 kJ/mol\n",
    "    E (lower):  - 0 kj/mol\n",
    "    \"\"\" \n",
    "    # logA if it is not sticking coefficient\n",
    "    if kinetics[\"A\"] > 1: \n",
    "        A = math.log10(kinetics[\"A\"])\n",
    "        A_unc = 1\n",
    "        A_lb = 0\n",
    "        A_ub = 25\n",
    "        label_A = f\"A_log_{num}\"\n",
    "    elif kinetics[\"A\"] <= 1: \n",
    "        A = kinetics[\"A\"]\n",
    "        A_unc = 1\n",
    "        A_lb = 0\n",
    "        A_ub = 1\n",
    "        label_A = f\"A_stick_{num}\"\n",
    "    \n",
    "    E = kinetics[\"Ea\"]\n",
    "    E_unc = 30000000 # J/kmol for cantera\n",
    "    E_lb = 0\n",
    "    E_ub = 400000000 # J/kmol\n",
    "    label_E = f\"E_{num}\"\n",
    "    \n",
    "    return (A, E), (A_unc, E_unc), (A_lb, E_lb), (A_ub, E_ub), (label_A, label_E)"
   ]
  },
  {
   "cell_type": "code",
   "execution_count": 13,
   "metadata": {},
   "outputs": [],
   "source": [
    "base_path = \"/work/westgroup/ChrisB/_01_MeOH_repos/uncertainty_analysis/rmg_gua/baseline\"\n",
    "# base_path = \"/Users/blais.ch/Documents/_01_code/05_Project_repos_Github/meOH_repos/uncertainty_analysis/rmg_gua/baseline\"\n",
    "\n",
    "# load rms model\n",
    "rms_path = os.path.join(base_path, \"rms\", \"chem32.rms\")\n",
    "phase_dict = rms.readinput(rms_path)\n",
    "\n",
    "# load chemkin files\n",
    "ck_path = os.path.join(base_path, \"chemkin\")\n",
    "cmkn_path = os.path.join(ck_path, \"chem_annotated-gas.inp\")\n",
    "cmkn_surf_path = os.path.join(ck_path, \"chem_annotated-surface.inp\")\n",
    "cmkn_dict_path = os.path.join(ck_path, \"species_dictionary.txt\")"
   ]
  },
  {
   "cell_type": "code",
   "execution_count": 14,
   "metadata": {},
   "outputs": [],
   "source": [
    "# get species from rms model\n",
    "gas_spec = phase_dict[\"gas\"][\"Species\"]\n",
    "surf_spec = phase_dict[\"surface\"][\"Species\"]"
   ]
  },
  {
   "cell_type": "code",
   "execution_count": 15,
   "metadata": {},
   "outputs": [],
   "source": [
    "# load the chemkin file for the mechanism\n",
    "model = ReactionModel()\n",
    "\n",
    "model.species, model.reactions = load_chemkin_file(\n",
    "    cmkn_path,\n",
    "    cmkn_dict_path,\n",
    "    surface_path=cmkn_surf_path,\n",
    ")"
   ]
  },
  {
   "cell_type": "code",
   "execution_count": 16,
   "metadata": {},
   "outputs": [],
   "source": [
    "# make a dict of rms species with name as key, rmg obj as value\n",
    "rms_spc_dict = {}\n",
    "for spc in gas_spec:\n",
    "    rmg_spc = make_spc(spc)\n",
    "    rms_spc_dict[spc.name] = rmg_spc\n",
    "for spe in surf_spec:\n",
    "    rmg_spc = make_spc(spe)\n",
    "    rms_spc_dict[spe.name] = rmg_spc"
   ]
  },
  {
   "cell_type": "code",
   "execution_count": 17,
   "metadata": {},
   "outputs": [],
   "source": [
    "# now make the species for the chemkin mechanism. \n",
    "# match each species string with it's chemkin counterpart\n",
    "rmg_2_ck_dict = {}\n",
    "for species in model.species:\n",
    "    for rms_name, spec in rms_spc_dict.items():\n",
    "        if species.is_isomorphic(spec):\n",
    "            ck_name = species.to_cantera(use_chemkin_identifier=True).name\n",
    "            rmg_2_ck_dict[rms_name] = ck_name\n",
    "with open(\"rmg_2_ck_dict.yaml\", \"w\") as f:\n",
    "    yaml.dump(rmg_2_ck_dict, f)"
   ]
  },
  {
   "cell_type": "code",
   "execution_count": 18,
   "metadata": {},
   "outputs": [],
   "source": [
    "# now load the sensitive reactions\n",
    "results_path = \"/work/westgroup/ChrisB/_01_MeOH_repos/uncertainty_analysis/rmg_gua/baseline/rms/rms_analysis.csv\"\n",
    "res_df = pd.read_csv(results_path)\n",
    "res_df = res_df[res_df[\"use_for_opt\"] == True]"
   ]
  },
  {
   "cell_type": "markdown",
   "metadata": {},
   "source": [
    "## get most sensitive values for sens_species"
   ]
  },
  {
   "cell_type": "code",
   "execution_count": 19,
   "metadata": {
    "tags": []
   },
   "outputs": [
    {
     "data": {
      "text/html": [
       "<div>\n",
       "<style scoped>\n",
       "    .dataframe tbody tr th:only-of-type {\n",
       "        vertical-align: middle;\n",
       "    }\n",
       "\n",
       "    .dataframe tbody tr th {\n",
       "        vertical-align: top;\n",
       "    }\n",
       "\n",
       "    .dataframe thead th {\n",
       "        text-align: right;\n",
       "    }\n",
       "</style>\n",
       "<table border=\"1\" class=\"dataframe\">\n",
       "  <thead>\n",
       "    <tr style=\"text-align: right;\">\n",
       "      <th></th>\n",
       "      <th>H*+CH3OH*&lt;=&gt;H2O*+CH3X sens to CH3OH</th>\n",
       "      <th>H*+OC[Pt]&lt;=&gt;X+CH3OH* sens to CH3OH</th>\n",
       "      <th>COOH*+CH3OH*&lt;=&gt;HCOOH*+OC[Pt] sens to CH3OH</th>\n",
       "      <th>H*+CH2O*&lt;=&gt;X+OC[Pt] sens to CH3OH</th>\n",
       "      <th>HCOOH*+OC[Pt]&lt;=&gt;HCOO*+CH3OH* sens to CH3OH</th>\n",
       "    </tr>\n",
       "  </thead>\n",
       "  <tbody>\n",
       "    <tr>\n",
       "      <th>0</th>\n",
       "      <td>-1390.102036</td>\n",
       "      <td>1371.853201</td>\n",
       "      <td>11.609749</td>\n",
       "      <td>5.636080</td>\n",
       "      <td>5.049337</td>\n",
       "    </tr>\n",
       "    <tr>\n",
       "      <th>2</th>\n",
       "      <td>-1942.132908</td>\n",
       "      <td>7.667782</td>\n",
       "      <td>0.141083</td>\n",
       "      <td>1849.941893</td>\n",
       "      <td>0.060971</td>\n",
       "    </tr>\n",
       "    <tr>\n",
       "      <th>3</th>\n",
       "      <td>-2403.045204</td>\n",
       "      <td>-3.039584</td>\n",
       "      <td>-0.077219</td>\n",
       "      <td>2306.882661</td>\n",
       "      <td>-0.034080</td>\n",
       "    </tr>\n",
       "    <tr>\n",
       "      <th>6</th>\n",
       "      <td>-155.215975</td>\n",
       "      <td>155.652313</td>\n",
       "      <td>0.565829</td>\n",
       "      <td>0.019619</td>\n",
       "      <td>0.244928</td>\n",
       "    </tr>\n",
       "    <tr>\n",
       "      <th>7</th>\n",
       "      <td>-1152.425221</td>\n",
       "      <td>890.898034</td>\n",
       "      <td>3.126900</td>\n",
       "      <td>262.177569</td>\n",
       "      <td>1.353510</td>\n",
       "    </tr>\n",
       "    <tr>\n",
       "      <th>...</th>\n",
       "      <td>...</td>\n",
       "      <td>...</td>\n",
       "      <td>...</td>\n",
       "      <td>...</td>\n",
       "      <td>...</td>\n",
       "    </tr>\n",
       "    <tr>\n",
       "      <th>195</th>\n",
       "      <td>-9342.795846</td>\n",
       "      <td>5634.400331</td>\n",
       "      <td>1.892261</td>\n",
       "      <td>3685.272035</td>\n",
       "      <td>0.818775</td>\n",
       "    </tr>\n",
       "    <tr>\n",
       "      <th>197</th>\n",
       "      <td>-9056.234444</td>\n",
       "      <td>9054.927493</td>\n",
       "      <td>0.843093</td>\n",
       "      <td>30.349014</td>\n",
       "      <td>0.364869</td>\n",
       "    </tr>\n",
       "    <tr>\n",
       "      <th>198</th>\n",
       "      <td>-10260.827065</td>\n",
       "      <td>10256.661224</td>\n",
       "      <td>1.711249</td>\n",
       "      <td>35.585819</td>\n",
       "      <td>0.740554</td>\n",
       "    </tr>\n",
       "    <tr>\n",
       "      <th>199</th>\n",
       "      <td>-11693.299174</td>\n",
       "      <td>11685.561908</td>\n",
       "      <td>2.726504</td>\n",
       "      <td>41.826941</td>\n",
       "      <td>1.179868</td>\n",
       "    </tr>\n",
       "    <tr>\n",
       "      <th>200</th>\n",
       "      <td>-6943.820980</td>\n",
       "      <td>6955.196500</td>\n",
       "      <td>2.209385</td>\n",
       "      <td>6.989093</td>\n",
       "      <td>0.956047</td>\n",
       "    </tr>\n",
       "  </tbody>\n",
       "</table>\n",
       "<p>74 rows × 5 columns</p>\n",
       "</div>"
      ],
      "text/plain": [
       "     H*+CH3OH*<=>H2O*+CH3X sens to CH3OH  H*+OC[Pt]<=>X+CH3OH* sens to CH3OH  \\\n",
       "0                           -1390.102036                         1371.853201   \n",
       "2                           -1942.132908                            7.667782   \n",
       "3                           -2403.045204                           -3.039584   \n",
       "6                            -155.215975                          155.652313   \n",
       "7                           -1152.425221                          890.898034   \n",
       "..                                   ...                                 ...   \n",
       "195                         -9342.795846                         5634.400331   \n",
       "197                         -9056.234444                         9054.927493   \n",
       "198                        -10260.827065                        10256.661224   \n",
       "199                        -11693.299174                        11685.561908   \n",
       "200                         -6943.820980                         6955.196500   \n",
       "\n",
       "     COOH*+CH3OH*<=>HCOOH*+OC[Pt] sens to CH3OH  \\\n",
       "0                                     11.609749   \n",
       "2                                      0.141083   \n",
       "3                                     -0.077219   \n",
       "6                                      0.565829   \n",
       "7                                      3.126900   \n",
       "..                                          ...   \n",
       "195                                    1.892261   \n",
       "197                                    0.843093   \n",
       "198                                    1.711249   \n",
       "199                                    2.726504   \n",
       "200                                    2.209385   \n",
       "\n",
       "     H*+CH2O*<=>X+OC[Pt] sens to CH3OH  \\\n",
       "0                             5.636080   \n",
       "2                          1849.941893   \n",
       "3                          2306.882661   \n",
       "6                             0.019619   \n",
       "7                           262.177569   \n",
       "..                                 ...   \n",
       "195                        3685.272035   \n",
       "197                          30.349014   \n",
       "198                          35.585819   \n",
       "199                          41.826941   \n",
       "200                           6.989093   \n",
       "\n",
       "     HCOOH*+OC[Pt]<=>HCOO*+CH3OH* sens to CH3OH  \n",
       "0                                      5.049337  \n",
       "2                                      0.060971  \n",
       "3                                     -0.034080  \n",
       "6                                      0.244928  \n",
       "7                                      1.353510  \n",
       "..                                          ...  \n",
       "195                                    0.818775  \n",
       "197                                    0.364869  \n",
       "198                                    0.740554  \n",
       "199                                    1.179868  \n",
       "200                                    0.956047  \n",
       "\n",
       "[74 rows x 5 columns]"
      ]
     },
     "execution_count": 19,
     "metadata": {},
     "output_type": "execute_result"
    }
   ],
   "source": [
    "# get columns for each secies sensitivity\n",
    "scols = {\n",
    "    \"CH3OH\" : res_df.filter(like='sens to CH3OH').columns, \n",
    "    \"CC\" : res_df.filter(like='sens to CC').columns,\n",
    "    \"CH4\" : res_df.filter(like='sens to CH4').columns, \n",
    "}\n",
    "res_df[scols[\"CH3OH\"][0:5]]"
   ]
  },
  {
   "cell_type": "markdown",
   "metadata": {},
   "source": [
    "### we want the reactions for each that are most sensitive over all experiments "
   ]
  },
  {
   "cell_type": "code",
   "execution_count": 20,
   "metadata": {},
   "outputs": [],
   "source": [
    "with open(\"../gua_cantera/all_experiments_reorg_sbr.yaml\", \"r\") as f:\n",
    "    expt_all = yaml.load(f, Loader=yaml.FullLoader)\n",
    "\n",
    "opt_expt_file = \"../gua_cantera/experiments_reorg_onlyopt.yaml\"\n",
    "expt_copy = []\n",
    "for expt in expt_all:\n",
    "    if \"use_for_opt\" in expt.keys() and expt[\"use_for_opt\"] == True:\n",
    "        expt_copy.append(expt)\n",
    "\n",
    "with open(opt_expt_file, \"w\") as f:\n",
    "    yaml.dump(expt_copy, f)\n",
    "    "
   ]
  },
  {
   "cell_type": "code",
   "execution_count": 21,
   "metadata": {
    "tags": []
   },
   "outputs": [],
   "source": [
    "# there are a number of empty cols, pd.dropna\n",
    "highest_sens_dict = {}\n",
    "for names, cols in scols.items():\n",
    "    \n",
    "    res_df_T = res_df[cols].T\n",
    "    sum_dict = {}\n",
    "    for name, row in res_df_T.iterrows():\n",
    "        total = row.abs().sum()\n",
    "        sum_dict[name] = total\n",
    "\n",
    "    # sort dict by value to get most sensitive\n",
    "    highest = max(sum_dict, key=sum_dict.get)\n",
    "    highest_sens_dict[names] = [highest, float(sum_dict[highest])]\n",
    "highest_sens_dict\n",
    "\n",
    "with open(\"highest_sens_rms.yaml\", \"w\") as f:\n",
    "    yaml.dump(highest_sens_dict, f)"
   ]
  },
  {
   "cell_type": "code",
   "execution_count": 22,
   "metadata": {},
   "outputs": [],
   "source": [
    "sens_rxn_str = highest_sens_dict[\"CH3OH\"][0].split(\" \")[0]\n",
    "sens_reac = sens_rxn_str.split(\"<=>\")[0].split(\"+\")\n",
    "sens_prod = sens_rxn_str.split(\"<=>\")[1].split(\"+\")"
   ]
  },
  {
   "cell_type": "code",
   "execution_count": 23,
   "metadata": {},
   "outputs": [
    {
     "data": {
      "text/plain": [
       "(['H*(10)', 'CH3OH*(23)'], ['H2O*(13)', 'CH3X(33)'])"
      ]
     },
     "execution_count": 23,
     "metadata": {},
     "output_type": "execute_result"
    }
   ],
   "source": [
    "with open(\"rmg_2_ck_dict.yaml\", \"r\") as f: \n",
    "    rms_2_ck = yaml.load(f, Loader=yaml.FullLoader)\n",
    "    \n",
    "sens_reac_ct = [rms_2_ck[name] for name in sens_reac]\n",
    "sens_prod_ct = [rms_2_ck[name] for name in sens_prod]\n",
    "sens_reac_ct, sens_prod_ct"
   ]
  },
  {
   "cell_type": "code",
   "execution_count": 24,
   "metadata": {},
   "outputs": [
    {
     "name": "stdout",
     "output_type": "stream",
     "text": [
      "Wrote YAML mechanism file to '../baseline/cantera/chem_annotated.yaml'.\n",
      "Mechanism contains 32 species and 3 reactions.\n",
      "Validating mechanism...\n",
      "/work/westgroup/ChrisB/_01_MeOH_repos/uncertainty_analysis/peuquse_env/lib/python3.7/site-packages/cantera/cti2yaml.py:1784: UserWarning: StickingRate::validate: \n",
      " Sticking coefficient is greater than 1 for reaction 'CC(134) + 2 X(1) <=> C2H5X(136) + H*(10)'\n",
      " at T = 10000.0\n",
      "\n",
      "  phase = ct.Interface(output_name, surf_name)\n",
      "PASSED\n"
     ]
    }
   ],
   "source": [
    "! source activate ../../peuquse_env ; cti2yaml \"../baseline/cantera/chem_annotated.cti\" "
   ]
  },
  {
   "cell_type": "code",
   "execution_count": 1,
   "metadata": {},
   "outputs": [
    {
     "name": "stderr",
     "output_type": "stream",
     "text": [
      "/work/westgroup/ChrisB/_01_MeOH_repos/uncertainty_analysis/peuquse_env/lib/python3.7/site-packages/ipykernel_launcher.py:2: DeprecationWarning: XML_Node::build: \n",
      "The CTI and XML input file formats are deprecated and will be removed in\n",
      "Cantera 3.0. Use 'cti2yaml.py' or 'ctml2yaml.py' to convert CTI or XML input\n",
      "files to the YAML format. See https://cantera.org/tutorials/legacy2yaml.html\n",
      "for more information.\n",
      "  \n",
      "/work/westgroup/ChrisB/_01_MeOH_repos/uncertainty_analysis/peuquse_env/lib/python3.7/site-packages/ipykernel_launcher.py:3: UserWarning: InterfaceReaction2::validate: \n",
      " Sticking coefficient is greater than 1 for reaction 'CC(134) + 2 X(1) <=> C2H5X(136) + H*(10)'\n",
      " at T = 10000.0\n",
      "\n",
      "  This is separate from the ipykernel package so we can avoid doing imports until\n"
     ]
    }
   ],
   "source": [
    "import cantera as ct\n",
    "gas = ct.Solution( \"../baseline/cantera/chem_annotated.cti\", \"gas\")\n",
    "surf = ct.Interface(\"../baseline/cantera/chem_annotated.cti\" , \"surface1\", [gas])"
   ]
  },
  {
   "cell_type": "code",
   "execution_count": 2,
   "metadata": {},
   "outputs": [
    {
     "data": {
      "text/plain": [
       "Arrhenius(A=0.046, b=0, E=0)"
      ]
     },
     "execution_count": 2,
     "metadata": {},
     "output_type": "execute_result"
    }
   ],
   "source": [
    "surf.reactions()[0].rate\n"
   ]
  },
  {
   "cell_type": "code",
   "execution_count": 3,
   "metadata": {},
   "outputs": [
    {
     "ename": "NameError",
     "evalue": "name 'sens_reac_ct' is not defined",
     "output_type": "error",
     "traceback": [
      "\u001b[0;31m---------------------------------------------------------------------------\u001b[0m",
      "\u001b[0;31mNameError\u001b[0m                                 Traceback (most recent call last)",
      "\u001b[0;32m/tmp/ipykernel_28049/2180637821.py\u001b[0m in \u001b[0;36m<module>\u001b[0;34m\u001b[0m\n\u001b[0;32m----> 1\u001b[0;31m \u001b[0msens_reac_ct\u001b[0m\u001b[0;34m\u001b[0m\u001b[0;34m\u001b[0m\u001b[0m\n\u001b[0m",
      "\u001b[0;31mNameError\u001b[0m: name 'sens_reac_ct' is not defined"
     ]
    }
   ],
   "source": [
    "sens_reac_ct"
   ]
  },
  {
   "cell_type": "code",
   "execution_count": null,
   "metadata": {},
   "outputs": [],
   "source": [
    "reactants"
   ]
  },
  {
   "cell_type": "code",
   "execution_count": 187,
   "metadata": {},
   "outputs": [],
   "source": [
    "# with open(\"../baseline/cantera/chem_annotated.yaml\", \"r\") as f: \n",
    "#     ct_mech = yaml.load(f, Loader=yaml.FullLoader)\n",
    "\n",
    "import collections\n",
    "\n",
    "ct_reac = collections.Counter(sens_reac_ct)\n",
    "ct_prod = collections.Counter(sens_prod_ct)\n",
    "\n",
    "# get the most sensitive reaction from cti mech\n",
    "for num, rxn in enumerate(surf.reactions()): \n",
    "    \n",
    "    reaclist = []\n",
    "    prodlist = []\n",
    "    for reac, stoic in rxn.reactants.items():\n",
    "        if stoic > 1: \n",
    "            reaclist.extend([reac]*int(stoic))\n",
    "        else: \n",
    "            reaclist.append(reac)\n",
    "            \n",
    "    for reac, stoic in rxn.products.items():\n",
    "        if stoic > 1: \n",
    "            prodlist.extend([reac]*int(stoic))\n",
    "        else: \n",
    "            prodlist.append(reac)\n",
    "    \n",
    "    \n",
    "    reactants = collections.Counter(reaclist)\n",
    "    products = collections.Counter(prodlist)\n",
    "    \n",
    "    fwd = reactants == ct_reac and products == ct_prod\n",
    "    rev = reactants == ct_prod and products == ct_reac\n",
    "\n",
    "    if rev or fwd: \n",
    "\n",
    "        reac_dict = {}\n",
    "        reac_dict[\"A\"] = rxn.rate.pre_exponential_factor\n",
    "        reac_dict[\"Ea\"] = rxn.rate.activation_energy\n",
    "        \n",
    "        (A, E), (A_unc, E_unc), (A_lb, E_lb), (A_ub, E_ub), (label_A, label_E ) =  initial_val_unc(reac_dict, num)"
   ]
  },
  {
   "cell_type": "code",
   "execution_count": 188,
   "metadata": {},
   "outputs": [],
   "source": [
    "ct_peuqyml = {}\n",
    "ct_peuqyml[\"initial_values\"] = [A, E]\n",
    "ct_peuqyml[\"labels\"] = [label_A, label_E]\n",
    "ct_peuqyml[\"lower_bounds\"] = [A_lb, E_lb]\n",
    "ct_peuqyml[\"uncertainties\"] = [A_unc, E_unc]\n",
    "ct_peuqyml[\"upper_bounds\"] = [A_ub, E_ub]\n",
    "\n",
    "with open(\"ct_initial_small.yaml\", \"w\") as f:\n",
    "    yaml.dump(ct_peuqyml, f)"
   ]
  },
  {
   "cell_type": "code",
   "execution_count": 117,
   "metadata": {},
   "outputs": [
    {
     "data": {
      "text/plain": [
       "{'equation': 'H*(10) + CH3OH*(23) <=> H2O*(13) + CH3X(33)',\n",
       " 'id': 'surface1-150',\n",
       " 'rate-constant': {'A': 1e+17, 'b': 0.0, 'Ea': 0.0}}"
      ]
     },
     "execution_count": 117,
     "metadata": {},
     "output_type": "execute_result"
    }
   ],
   "source": [
    "ct_mech[\"surface1-reactions\"][149]"
   ]
  },
  {
   "cell_type": "code",
   "execution_count": 37,
   "metadata": {},
   "outputs": [],
   "source": [
    "import cantera as ct"
   ]
  },
  {
   "cell_type": "code",
   "execution_count": 38,
   "metadata": {},
   "outputs": [
    {
     "name": "stdout",
     "output_type": "stream",
     "text": [
      "/work/westgroup/ChrisB/_01_MeOH_repos/uncertainty_analysis/rmg_gua/gua_peuqse\n"
     ]
    }
   ],
   "source": [
    "! pwd"
   ]
  },
  {
   "cell_type": "code",
   "execution_count": 93,
   "metadata": {},
   "outputs": [
    {
     "data": {
      "text/plain": [
       "Arrhenius(A=2, b=0, E=2)"
      ]
     },
     "execution_count": 93,
     "metadata": {},
     "output_type": "execute_result"
    }
   ],
   "source": [
    "rate = ct.Arrhenius(A = 2.0, \n",
    "                    E = 2, \n",
    "                   b = 0)\n",
    "new_rxn.rate = rate\n",
    "new_rxn.rate"
   ]
  },
  {
   "cell_type": "code",
   "execution_count": 4,
   "metadata": {},
   "outputs": [
    {
     "name": "stderr",
     "output_type": "stream",
     "text": [
      "/work/westgroup/ChrisB/_01_MeOH_repos/uncertainty_analysis/peuquse_env/lib/python3.7/site-packages/ipykernel_launcher.py:2: UserWarning: InterfaceReaction2::validate: \n",
      " Sticking coefficient is greater than 1 for reaction 'CC(134) + 2 X(1) <=> C2H5X(136) + H*(10)'\n",
      " at T = 10000.0\n",
      "\n",
      "  \n"
     ]
    }
   ],
   "source": [
    "gas = ct.Solution(\"../baseline/cantera/chem_annotated.cti\")\n",
    "surf = ct.Interface(\"../baseline/cantera/chem_annotated.cti\", \"surface1\", [gas])"
   ]
  },
  {
   "cell_type": "code",
   "execution_count": 7,
   "metadata": {},
   "outputs": [
    {
     "data": {
      "text/plain": [
       "Arrhenius(A=1e+16, b=0, E=0)"
      ]
     },
     "execution_count": 7,
     "metadata": {},
     "output_type": "execute_result"
    }
   ],
   "source": [
    "surf.reactions()[149].rate"
   ]
  },
  {
   "cell_type": "code",
   "execution_count": 8,
   "metadata": {},
   "outputs": [],
   "source": [
    "num = 0\n",
    "A = 1e17\n",
    "Ea = 2.0\n",
    "new_rxn = surf.reactions()[num]\n",
    "\n",
    "rate = ct.Arrhenius(A = A, \n",
    "                    E = Ea, \n",
    "                   b = 0\n",
    "                   )\n",
    "new_rxn.rate = rate\n"
   ]
  },
  {
   "cell_type": "code",
   "execution_count": 9,
   "metadata": {},
   "outputs": [],
   "source": [
    "surf.modify_reaction(num, new_rxn)"
   ]
  },
  {
   "cell_type": "code",
   "execution_count": 10,
   "metadata": {},
   "outputs": [
    {
     "data": {
      "text/plain": [
       "Arrhenius(A=1e+17, b=0, E=2)"
      ]
     },
     "execution_count": 10,
     "metadata": {},
     "output_type": "execute_result"
    }
   ],
   "source": [
    "surf.reactions()[0].rate"
   ]
  },
  {
   "cell_type": "code",
   "execution_count": 126,
   "metadata": {},
   "outputs": [
    {
     "data": {
      "text/plain": [
       "{'H2(2)': 1.0, 'X(1)': 2.0}"
      ]
     },
     "execution_count": 126,
     "metadata": {},
     "output_type": "execute_result"
    }
   ],
   "source": [
    "surf.reactions()[0].reactants"
   ]
  },
  {
   "cell_type": "code",
   "execution_count": 11,
   "metadata": {},
   "outputs": [
    {
     "data": {
      "text/plain": [
       "179"
      ]
     },
     "execution_count": 11,
     "metadata": {},
     "output_type": "execute_result"
    }
   ],
   "source": [
    "len(surf.reactions())"
   ]
  },
  {
   "cell_type": "code",
   "execution_count": null,
   "metadata": {},
   "outputs": [],
   "source": []
  }
 ],
 "metadata": {
  "kernelspec": {
   "display_name": "Python 3 (ipykernel)",
   "language": "python",
   "name": "python3"
  },
  "language_info": {
   "codemirror_mode": {
    "name": "ipython",
    "version": 3
   },
   "file_extension": ".py",
   "mimetype": "text/x-python",
   "name": "python",
   "nbconvert_exporter": "python",
   "pygments_lexer": "ipython3",
   "version": "3.7.12"
  }
 },
 "nbformat": 4,
 "nbformat_minor": 4
}
