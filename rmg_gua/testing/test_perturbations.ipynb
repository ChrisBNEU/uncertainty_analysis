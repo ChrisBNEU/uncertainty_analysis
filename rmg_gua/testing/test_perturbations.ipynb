{
 "cells": [
  {
   "cell_type": "markdown",
   "id": "e83596f4",
   "metadata": {},
   "source": [
    "# testing perturbations in correllated uncertainty"
   ]
  },
  {
   "cell_type": "code",
   "execution_count": 1,
   "id": "0a59338c",
   "metadata": {},
   "outputs": [],
   "source": [
    "import unittest as ut\n",
    "\n",
    "import cantera as ct\n",
    "import numpy as np\n",
    "from torch.quasirandom import SobolEngine\n",
    "from rmgpy.data.thermo import ThermoDatabase\n",
    "from rmgpy.data.kinetics.database import KineticsDatabase\n",
    "from rmgpy.data.surface import MetalDatabase\n",
    "\n",
    "from IPython.display import Image\n",
    "import seaborn as sns\n",
    "import pickle\n",
    "import os\n",
    "\n",
    "sns.set_palette('Dark2')"
   ]
  },
  {
   "cell_type": "code",
   "execution_count": 2,
   "id": "0e45ba28",
   "metadata": {},
   "outputs": [],
   "source": [
    "with open('../../uncertainty_output_folder/sobol_map.pickle', 'rb') as f:\n",
    "    sobol_map = pickle.load(f)"
   ]
  },
  {
   "cell_type": "code",
   "execution_count": 3,
   "id": "8858bddc",
   "metadata": {},
   "outputs": [],
   "source": [
    "# Perturbation ranges FOR values (reference value +/- value below)\n",
    "DELTA_ALPHA_MAX_KN = 0.15\n",
    "DELTA_E0_MAX_J_MOL_KN = 30000  # 3 eV is about 30000 J/mol\n",
    "DELTA_A_MAX_EXP_KN = 1\n",
    "DELTA_STICK_MAX_KN = 0.5 # for sticking coefficient, perturb from 0-1 but by exponent.\n",
    "DELTA_N_MAX_J_MOL_KN  = 1 \n",
    "\n",
    "# Perturbation ranges for unknown values (reference value +/- value below)\n",
    "DELTA_ALPHA_MAX_UNK = 0.5 #start value at 0.5 and perturb from 0-1\n",
    "DELTA_E0_MAX_J_MOL_UNK = 100000  # 1 eV is about 100,000 J/mol. make sure eV is never 0.\n",
    "DELTA_A_MAX_EXP_UNK = 4 # for sticking coefficient, perturb from 0-1 but by exponent. \n",
    "DELTA_STICK_MAX_UNK = 0.5 # for sticking coefficient\n",
    "DELTA_N_MAX_J_MOL_UNK  = 1  \n",
    "\n",
    "# Thermo Perturbations\n",
    "DELTA_E0_H = 30000\n",
    "DELTA_E0_C = 30000\n",
    "DELTA_E0_O = 30000\n",
    "DELTA_E0_N = 30000\n",
    "DELTA_E0_VDW = 20000"
   ]
  },
  {
   "cell_type": "markdown",
   "id": "05cf27cf",
   "metadata": {},
   "source": [
    "## sobol sequence testing"
   ]
  },
  {
   "cell_type": "code",
   "execution_count": 4,
   "id": "cb30d82c",
   "metadata": {},
   "outputs": [],
   "source": [
    "# Create the pseudo randoms\n",
    "N = 10\n",
    "sobol = SobolEngine(dimension=300, scramble=True, seed=100)\n",
    "x_sobol = sobol.draw(N)"
   ]
  },
  {
   "cell_type": "markdown",
   "id": "f5489300",
   "metadata": {},
   "source": [
    "### get perturbed values so we know we are applying them correctly"
   ]
  },
  {
   "cell_type": "code",
   "execution_count": 5,
   "id": "e29601bc",
   "metadata": {},
   "outputs": [
    {
     "name": "stdout",
     "output_type": "stream",
     "text": [
      "C: -0.2672578125\n",
      "O: -0.13855118815104167\n",
      "H: -0.18107861328125\n",
      "Vdw: 0.17109051513671875\n",
      "N: 0.14856981404622396\n"
     ]
    }
   ],
   "source": [
    "pert = 3\n",
    "perturb = f\"000{pert}\"\n",
    "\n",
    "E_0_c = float(DELTA_E0_C - 2.0 * x_sobol[pert,sobol_map[\"C\"][0]] * DELTA_E0_C)/9.6e4\n",
    "E_0_o = float(DELTA_E0_O - 2.0 * x_sobol[pert,sobol_map[\"O\"][0]] * DELTA_E0_H)/9.6e4\n",
    "E_0_h = float(DELTA_E0_H - 2.0 * x_sobol[pert,sobol_map[\"H\"][0]] * DELTA_E0_H)/9.6e4\n",
    "E_0_vdw = float(DELTA_E0_VDW  - 2.0 * x_sobol[pert, sobol_map[\"Vdw\"][0]] * DELTA_E0_VDW)/9.6e4\n",
    "E_0_n = float(DELTA_E0_N - 2.0 * x_sobol[pert,sobol_map[\"N\"][0]] * DELTA_E0_N)/9.6e4\n",
    "\n",
    "print(f\"C: {E_0_c}\\nO: {E_0_o}\\nH: {E_0_h}\\nVdw: {E_0_vdw}\\nN: {E_0_n}\")"
   ]
  },
  {
   "cell_type": "markdown",
   "id": "54f8b14a",
   "metadata": {},
   "source": [
    "### make sure our sobol_map matches"
   ]
  },
  {
   "cell_type": "code",
   "execution_count": 6,
   "id": "37b3a467",
   "metadata": {},
   "outputs": [
    {
     "name": "stdout",
     "output_type": "stream",
     "text": [
      "C: -2.6725779207481537e-06\n",
      "O: -1.3855118368155672e-06\n",
      "H: -1.8107863297700533e-06\n",
      "Vdw: 0.1710905134677887\n",
      "N: 1.4856982488709036e-06\n"
     ]
    }
   ],
   "source": [
    "E_0_c = sobol_map[\"C\"][1][pert]/9.6e4\n",
    "E_0_o = sobol_map[\"O\"][1][pert]/9.6e4\n",
    "E_0_h = sobol_map[\"H\"][1][pert]/9.6e4\n",
    "E_0_n = sobol_map[\"N\"][1][pert]/9.6e4\n",
    "E_0_vdw = sobol_map[\"Vdw\"][1][pert]/9.6e4\n",
    "\n",
    "\n",
    "print(f\"C: {E_0_c}\\nO: {E_0_o}\\nH: {E_0_h}\\nVdw: {E_0_vdw}\\nN: {E_0_n}\")"
   ]
  },
  {
   "cell_type": "code",
   "execution_count": 7,
   "id": "5282fd07",
   "metadata": {},
   "outputs": [
    {
     "data": {
      "text/plain": [
       "'/work/westgroup/ChrisB/_01_MeOH_repos/uncertainty_analysis/RMG-database/input/surface/libraries/metal_0001.py'"
      ]
     },
     "execution_count": 7,
     "metadata": {},
     "output_type": "execute_result"
    }
   ],
   "source": [
    "os.path.abspath(\"../../RMG-database/input/surface/libraries/metal_0001.py\")"
   ]
  },
  {
   "cell_type": "markdown",
   "id": "4fa2fd91",
   "metadata": {},
   "source": [
    "### Metal DB"
   ]
  },
  {
   "cell_type": "code",
   "execution_count": 8,
   "id": "f8f21b9e",
   "metadata": {},
   "outputs": [],
   "source": [
    "mdb_orig = MetalDatabase()\n",
    "mdb_orig.load(\"../../RMG-database/input/surface/\")"
   ]
  },
  {
   "cell_type": "code",
   "execution_count": 9,
   "id": "b2c3348d",
   "metadata": {},
   "outputs": [],
   "source": [
    "metal_library_path = f\"../../uncertainty_output_folder/db_{perturb}/input/surface/\"\n",
    "mdb_new = MetalDatabase()\n",
    "mdb_new.load(metal_library_path)"
   ]
  },
  {
   "cell_type": "code",
   "execution_count": 10,
   "id": "d0811738",
   "metadata": {},
   "outputs": [
    {
     "data": {
      "text/plain": [
       "{'H': (-2.58383,'eV/molecule'),\n",
       " 'C': (-4.96034,'eV/molecule'),\n",
       " 'N': (-3.58447,'eV/molecule'),\n",
       " 'O': (-4.20764,'eV/molecule')}"
      ]
     },
     "execution_count": 10,
     "metadata": {},
     "output_type": "execute_result"
    }
   ],
   "source": [
    "mdb_orig.find_binding_energies(\"Cu111\")"
   ]
  },
  {
   "cell_type": "code",
   "execution_count": 11,
   "id": "2af8fc44",
   "metadata": {},
   "outputs": [
    {
     "data": {
      "text/plain": [
       "{'H': (-2.75767,'eV/molecule'),\n",
       " 'C': (-5.21691,'eV/molecule'),\n",
       " 'N': (-3.44184,'eV/molecule'),\n",
       " 'O': (-4.34065,'eV/molecule')}"
      ]
     },
     "execution_count": 11,
     "metadata": {},
     "output_type": "execute_result"
    }
   ],
   "source": [
    "mdb_new.find_binding_energies(\"Cu111\")"
   ]
  },
  {
   "cell_type": "markdown",
   "id": "88e01da3",
   "metadata": {},
   "source": [
    "check metal BE perturbations and make sure they are correct"
   ]
  },
  {
   "cell_type": "markdown",
   "id": "d7ad67ee",
   "metadata": {},
   "source": [
    "### thermo base"
   ]
  },
  {
   "cell_type": "code",
   "execution_count": 13,
   "id": "707fa9a2",
   "metadata": {},
   "outputs": [],
   "source": [
    "rmg_thermo_pt111 = ThermoDatabase()\n",
    "library_path = \"../../RMG-database/input/thermo/\"\n",
    "thermo_libraries = [\"surfaceThermoPt111\"]\n",
    "rmg_thermo_pt111.load(\n",
    "    library_path,\n",
    "    libraries=thermo_libraries,\n",
    "    depository=False,\n",
    "    surface=True)\n",
    "thermo_pt_base = rmg_thermo_pt111.libraries[\"surfaceThermoPt111\"]"
   ]
  },
  {
   "cell_type": "markdown",
   "id": "11d4506c",
   "metadata": {},
   "source": [
    "### thermo perturbed "
   ]
  },
  {
   "cell_type": "code",
   "execution_count": 14,
   "id": "608a7703",
   "metadata": {},
   "outputs": [],
   "source": [
    "rmg_thermo_pt111_0001 = ThermoDatabase()\n",
    "library_path = f\"../../uncertainty_output_folder/db_{perturb}/input/thermo/\"\n",
    "thermo_libraries = [\"surfaceThermoPt111\"]\n",
    "\n",
    "rmg_thermo_pt111_0001.load(\n",
    "    library_path,\n",
    "    libraries=thermo_libraries,\n",
    "    depository=False,\n",
    "    surface=True)\n",
    "thermo_pt_0001 = rmg_thermo_pt111_0001.libraries[\"surfaceThermoPt111\"]"
   ]
  },
  {
   "cell_type": "code",
   "execution_count": 15,
   "id": "d39629f4",
   "metadata": {},
   "outputs": [],
   "source": [
    "thermo = thermo_pt_base"
   ]
  },
  {
   "cell_type": "code",
   "execution_count": 16,
   "id": "127a825a",
   "metadata": {},
   "outputs": [
    {
     "data": {
      "text/plain": [
       "['/work/westgroup/ChrisB/_01_MeOH_repos/uncertainty_analysis/RMG-database/input/kinetics/libraries/Surface/CPOX_Pt/Deutschmann2006_adjusted/reactions_0000.py']"
      ]
     },
     "execution_count": 16,
     "metadata": {},
     "output_type": "execute_result"
    }
   ],
   "source": [
    "import glob\n",
    "import os\n",
    "reference_db = \"/work/westgroup/ChrisB/_01_MeOH_repos/uncertainty_analysis/RMG-database/\"\n",
    "perturbed_kinetics_libs = glob.glob(os.path.join(reference_db, 'input', 'kinetics','libraries', 'Surface', '**', '*0000.py'), recursive=True)\n",
    "perturbed_kinetics_libs "
   ]
  },
  {
   "cell_type": "code",
   "execution_count": 17,
   "id": "a433d12e",
   "metadata": {},
   "outputs": [
    {
     "data": {
      "text/plain": [
       "'/work/westgroup/ChrisB/_01_MeOH_repos/uncertainty_analysis/RMG-database/input/kinetics/libraries/**/reactions_0000.py'"
      ]
     },
     "execution_count": 17,
     "metadata": {},
     "output_type": "execute_result"
    }
   ],
   "source": [
    "pth = os.path.join(reference_db, 'input', 'kinetics','libraries','**','reactions_0000.py')\n",
    "pth"
   ]
  },
  {
   "cell_type": "markdown",
   "id": "12d41526",
   "metadata": {},
   "source": [
    "### Specify kinetic families that were perturbed"
   ]
  },
  {
   "cell_type": "code",
   "execution_count": 18,
   "id": "503f643a",
   "metadata": {},
   "outputs": [],
   "source": [
    "kinetics_libraries = [\n",
    "    'CPOX_Pt/Deutschmann2006_adjusted',\n",
    "]\n",
    "\n",
    "kinetics_families_dict = { # list the families to perturb\n",
    "        \"Surface_Abstraction\":[],\n",
    "        \"Surface_Abstraction_Beta\":[],\n",
    "        \"Surface_Abstraction_Beta_double_vdW\":[],\n",
    "        \"Surface_Abstraction_Beta_vdW\":[],\n",
    "        \"Surface_Abstraction_Single_vdW\":[1,],\n",
    "        \"Surface_Abstraction_vdW\":[1,],\n",
    "        \"Surface_Addition_Single_vdW\":[1,],\n",
    "        \"Surface_Adsorption_Abstraction_vdW\":[1,],\n",
    "        \"Surface_Adsorption_Bidentate\":[1, ],\n",
    "        \"Surface_Adsorption_Dissociative\":[1, ], # top level node is a guess, but subnodes are slightly better\n",
    "        \"Surface_Adsorption_Dissociative_Double\":[1, ],\n",
    "        \"Surface_Adsorption_Double\":[1,],\n",
    "        \"Surface_Adsorption_Single\":[1,],\n",
    "        \"Surface_Adsorption_vdW\":[1,],\n",
    "        \"Surface_Bidentate_Dissociation\":[],\n",
    "        \"Surface_Dissociation\":[],\n",
    "        \"Surface_Dissociation_Beta\":[],\n",
    "        \"Surface_Dissociation_Beta_vdW\":[],\n",
    "        \"Surface_Dissociation_Double\":[],\n",
    "        \"Surface_Dissociation_Double_vdW\":[1, ],\n",
    "        \"Surface_Dissociation_vdW\":[],\n",
    "        \"Surface_DoubleBond_to_Bidentate\":[],\n",
    "        \"Surface_Dual_Adsorption_vdW\":[1,],\n",
    "        \"Surface_EleyRideal_Addition_Multiple_Bond\":[1,],\n",
    "        \"Surface_Migration\":[1,],\n",
    "        \"Surface_vdW_to_Bidentate\":[1,],\n",
    "}\n",
    "\n",
    "# make a list of just kinetics families for convenience\n",
    "kinetics_families = list(kinetics_families_dict.keys())"
   ]
  },
  {
   "cell_type": "markdown",
   "id": "2cff2a4a",
   "metadata": {},
   "source": [
    "### kinetic base "
   ]
  },
  {
   "cell_type": "code",
   "execution_count": 19,
   "id": "3fc7dc5e",
   "metadata": {},
   "outputs": [],
   "source": [
    "families_dir_base = \"../../RMG-database/input/kinetics/families/\"\n",
    "kinetic_libraries_dir_base = \"../../RMG-database/input/kinetics/libraries/Surface/\"\n",
    "\n",
    "kinetics_database_base = KineticsDatabase()\n",
    "kinetics_database_base.load_families(\n",
    "    path=families_dir_base,\n",
    "    families=kinetics_families,\n",
    ")\n",
    "kinetics_database_base.load_libraries(\n",
    "    kinetic_libraries_dir_base,\n",
    "    libraries=kinetics_libraries\n",
    ")"
   ]
  },
  {
   "cell_type": "markdown",
   "id": "cd95f88b",
   "metadata": {},
   "source": [
    "### kinetic perturbed"
   ]
  },
  {
   "cell_type": "code",
   "execution_count": 20,
   "id": "fd59afc1",
   "metadata": {},
   "outputs": [],
   "source": [
    "families_dir_pert = f\"../../uncertainty_output_folder/db_{perturb}/input/kinetics/families/\"\n",
    "kinetic_libraries_dir_pert = f\"../../uncertainty_output_folder/db_{perturb}/input/kinetics/libraries/Surface/\"\n",
    "\n",
    "kinetics_database_pert = KineticsDatabase()\n",
    "kinetics_database_pert.load_families(\n",
    "    path=families_dir_pert,\n",
    "    families=kinetics_families,\n",
    ")\n",
    "\n",
    "kinetics_database_pert.load_libraries(\n",
    "    kinetic_libraries_dir_pert,\n",
    "    libraries=kinetics_libraries\n",
    ")"
   ]
  },
  {
   "cell_type": "markdown",
   "id": "c59d2cd4",
   "metadata": {},
   "source": [
    "### compare Pt lib values"
   ]
  },
  {
   "cell_type": "markdown",
   "id": "3fa64808",
   "metadata": {},
   "source": [
    "#### vdw"
   ]
  },
  {
   "cell_type": "code",
   "execution_count": 21,
   "id": "84bceda0",
   "metadata": {},
   "outputs": [
    {
     "data": {
      "image/png": "[encoded data removed]",
      "text/plain": [
       "<IPython.core.display.Image object>"
      ]
     },
     "metadata": {},
     "output_type": "display_data"
    },
    {
     "name": "stdout",
     "output_type": "stream",
     "text": [
      "original in eV:  -0.06109337939279112\n",
      "perturbed in eV:  0.10999714872779898\n",
      "perturbation in eV:  0.17109052812059009\n"
     ]
    }
   ],
   "source": [
    "species = \"H2_ads\"\n",
    "file = species + \".png\"\n",
    "thermo.entries[species].item.draw(file)\n",
    "display((Image(filename=file)))\n",
    "\n",
    "h1 = thermo_pt_base.entries[species].data.get_enthalpy(298)\n",
    "h2 = thermo_pt_0001.entries[species].data.get_enthalpy(298)\n",
    "\n",
    "print(\"original in eV: \",(h1/9.6e4))\n",
    "print(\"perturbed in eV: \",(h2/9.6e4))\n",
    "print(\"perturbation in eV: \",(h2-h1)/9.6e4)\n",
    "\n",
    "assert np.isclose(E_0_vdw, (h2-h1)/9.6e4)"
   ]
  },
  {
   "cell_type": "code",
   "execution_count": 22,
   "id": "9e1734f5",
   "metadata": {},
   "outputs": [
    {
     "data": {
      "image/png": "[encoded data removed]",
      "text/plain": [
       "<IPython.core.display.Image object>"
      ]
     },
     "metadata": {},
     "output_type": "display_data"
    },
    {
     "name": "stdout",
     "output_type": "stream",
     "text": [
      "original in eV:  -2.7443305972034606\n",
      "perturbed in eV:  -2.57323909790175\n",
      "perturbation in eV:  0.17109149930171072\n"
     ]
    }
   ],
   "source": [
    "species = \"H2O_ads\"\n",
    "file = species + \".png\"\n",
    "thermo.entries[species].item.draw(file)\n",
    "display((Image(filename=file)))\n",
    "\n",
    "h1 = thermo_pt_base.entries[species].data.get_enthalpy(298)\n",
    "h2 = thermo_pt_0001.entries[species].data.get_enthalpy(298)\n",
    "\n",
    "print(\"original in eV: \",(h1)/9.6e4)\n",
    "print(\"perturbed in eV: \",(h2/9.6e4))\n",
    "print(\"perturbation in eV: \",(h2-h1)/9.6e4)\n",
    "vdw_perturb = (h2-h1)/9.6e4\n",
    "\n",
    "assert np.isclose(E_0_vdw, vdw_perturb)"
   ]
  },
  {
   "cell_type": "markdown",
   "id": "64745ea7",
   "metadata": {},
   "source": [
    "same for vdw species"
   ]
  },
  {
   "cell_type": "markdown",
   "id": "4949a0c4",
   "metadata": {},
   "source": [
    "#### carbon"
   ]
  },
  {
   "cell_type": "code",
   "execution_count": 23,
   "id": "a9aeb854",
   "metadata": {},
   "outputs": [
    {
     "data": {
      "image/png": "[encoded data removed]",
      "text/plain": [
       "<IPython.core.display.Image object>"
      ]
     },
     "metadata": {},
     "output_type": "display_data"
    },
    {
     "name": "stdout",
     "output_type": "stream",
     "text": [
      "perturbation in eV:  -2.9741160259770065e-07\n"
     ]
    },
    {
     "ename": "AssertionError",
     "evalue": "",
     "output_type": "error",
     "traceback": [
      "\u001b[0;31m---------------------------------------------------------------------------\u001b[0m",
      "\u001b[0;31mAssertionError\u001b[0m                            Traceback (most recent call last)",
      "\u001b[0;32m<ipython-input-23-427a0f2648b6>\u001b[0m in \u001b[0;36m<module>\u001b[0;34m\u001b[0m\n\u001b[1;32m      8\u001b[0m \u001b[0;34m\u001b[0m\u001b[0m\n\u001b[1;32m      9\u001b[0m \u001b[0mprint\u001b[0m\u001b[0;34m(\u001b[0m\u001b[0;34m\"perturbation in eV: \"\u001b[0m\u001b[0;34m,\u001b[0m\u001b[0;34m(\u001b[0m\u001b[0mh2\u001b[0m\u001b[0;34m-\u001b[0m\u001b[0mh1\u001b[0m\u001b[0;34m)\u001b[0m\u001b[0;34m/\u001b[0m\u001b[0;36m9.6e4\u001b[0m\u001b[0;34m)\u001b[0m\u001b[0;34m\u001b[0m\u001b[0;34m\u001b[0m\u001b[0m\n\u001b[0;32m---> 10\u001b[0;31m \u001b[0;32massert\u001b[0m \u001b[0mnp\u001b[0m\u001b[0;34m.\u001b[0m\u001b[0misclose\u001b[0m\u001b[0;34m(\u001b[0m\u001b[0mE_0_c\u001b[0m\u001b[0;34m,\u001b[0m \u001b[0;34m(\u001b[0m\u001b[0mh2\u001b[0m\u001b[0;34m-\u001b[0m\u001b[0mh1\u001b[0m\u001b[0;34m)\u001b[0m\u001b[0;34m/\u001b[0m\u001b[0;36m9.6e4\u001b[0m\u001b[0;34m)\u001b[0m\u001b[0;34m\u001b[0m\u001b[0;34m\u001b[0m\u001b[0m\n\u001b[0m",
      "\u001b[0;31mAssertionError\u001b[0m: "
     ]
    }
   ],
   "source": [
    "species = \"CH_ads\"\n",
    "file = species + \".png\"\n",
    "thermo.entries[species].item.draw(file)\n",
    "display((Image(filename=file)))\n",
    "\n",
    "h1 = thermo_pt_base.entries[species].data.get_enthalpy(298)\n",
    "h2 = thermo_pt_0001.entries[species].data.get_enthalpy(298)\n",
    "\n",
    "print(\"perturbation in eV: \",(h2-h1)/9.6e4)\n",
    "assert np.isclose(E_0_c, (h2-h1)/9.6e4)"
   ]
  },
  {
   "cell_type": "code",
   "execution_count": null,
   "id": "972c5b98",
   "metadata": {},
   "outputs": [],
   "source": [
    "species = \"C-CH2_ads\"\n",
    "file = species + \".png\"\n",
    "thermo.entries[species].item.draw(file)\n",
    "display((Image(filename=file)))\n",
    "\n",
    "h1 = thermo_pt_base.entries[species].data.get_enthalpy(298)\n",
    "h2 = thermo_pt_0001.entries[species].data.get_enthalpy(298)\n",
    "\n",
    "print(\"perturbation in eV: \",(h2-h1)/9.6e4)\n",
    "\n",
    "c_perturb = (h2-h1)/9.6e4\n",
    "\n",
    "assert np.isclose(E_0_c, (h2-h1)/9.6e4)"
   ]
  },
  {
   "cell_type": "markdown",
   "id": "6fbd6ec2",
   "metadata": {},
   "source": [
    "same for carbon species"
   ]
  },
  {
   "cell_type": "markdown",
   "id": "e76eae17",
   "metadata": {},
   "source": [
    "#### oxygen"
   ]
  },
  {
   "cell_type": "code",
   "execution_count": null,
   "id": "86cddcc9",
   "metadata": {},
   "outputs": [],
   "source": [
    "species = \"O_ads\"\n",
    "file = species + \".png\"\n",
    "thermo.entries[species].item.draw(file)\n",
    "display((Image(filename=file)))\n",
    "\n",
    "h1 = thermo_pt_base.entries[species].data.get_enthalpy(298)\n",
    "h2 = thermo_pt_0001.entries[species].data.get_enthalpy(298)\n",
    "\n",
    "print(\"perturbation in eV: \",(h2-h1)/9.6e4)"
   ]
  },
  {
   "cell_type": "code",
   "execution_count": null,
   "id": "0522c193",
   "metadata": {},
   "outputs": [],
   "source": [
    "species = \"OOH_ads\"\n",
    "file = species + \".png\"\n",
    "thermo.entries[species].item.draw(file)\n",
    "display((Image(filename=file)))\n",
    "\n",
    "h1 = thermo_pt_base.entries[species].data.get_enthalpy(298)\n",
    "h2 = thermo_pt_0001.entries[species].data.get_enthalpy(298)\n",
    "\n",
    "print(\"perturbation in eV: \",(h2-h1)/9.6e4)"
   ]
  },
  {
   "cell_type": "code",
   "execution_count": null,
   "id": "4f88f528",
   "metadata": {},
   "outputs": [],
   "source": [
    "species = \"O-CH3_ads\"\n",
    "file = species + \".png\"\n",
    "thermo.entries[species].item.draw(file)\n",
    "display((Image(filename=file)))\n",
    "\n",
    "h1 = thermo_pt_base.entries[species].data.get_enthalpy(298)\n",
    "h2 = thermo_pt_0001.entries[species].data.get_enthalpy(298)\n",
    "\n",
    "print(\"perturbation in eV: \",(h2-h1)/9.6e4)\n",
    "\n",
    "o_perturb = (h2-h1)/9.6e4"
   ]
  },
  {
   "cell_type": "markdown",
   "id": "c521396f",
   "metadata": {},
   "source": [
    "#### hydrogen (only one)"
   ]
  },
  {
   "cell_type": "code",
   "execution_count": null,
   "id": "01e6b446",
   "metadata": {},
   "outputs": [],
   "source": [
    "species = \"H_ads\"\n",
    "file = species + \".png\"\n",
    "thermo.entries[species].item.draw(file)\n",
    "display((Image(filename=file)))\n",
    "\n",
    "h1 = thermo_pt_base.entries[species].data.get_enthalpy(298)\n",
    "h2 = thermo_pt_0001.entries[species].data.get_enthalpy(298)\n",
    "\n",
    "print(\"perturbation in eV: \",(h2-h1)/9.6e4)"
   ]
  },
  {
   "cell_type": "markdown",
   "id": "5dcba278",
   "metadata": {},
   "source": [
    "### bidentates"
   ]
  },
  {
   "cell_type": "code",
   "execution_count": null,
   "id": "f21b9f1b",
   "metadata": {},
   "outputs": [],
   "source": [
    "species = \"CH-CH_ads\"\n",
    "file = species + \".png\"\n",
    "thermo.entries[species].item.draw(file)\n",
    "display((Image(filename=file)))\n",
    "\n",
    "h1 = thermo_pt_base.entries[species].data.get_enthalpy(298)\n",
    "h2 = thermo_pt_0001.entries[species].data.get_enthalpy(298)\n",
    "\n",
    "print(\"perturbation in eV: \",(h2-h1)/9.6e4)"
   ]
  },
  {
   "cell_type": "code",
   "execution_count": null,
   "id": "90eda7a2",
   "metadata": {},
   "outputs": [],
   "source": [
    "c_perturb*2"
   ]
  },
  {
   "cell_type": "code",
   "execution_count": null,
   "id": "9be8d5ec",
   "metadata": {},
   "outputs": [],
   "source": [
    "species = \"HCO-h_ads\"\n",
    "file = species + \".png\"\n",
    "thermo.entries[species].item.draw(file)\n",
    "display((Image(filename=file)))\n",
    "\n",
    "h1 = thermo_pt_base.entries[species].data.get_enthalpy(298)\n",
    "h2 = thermo_pt_0001.entries[species].data.get_enthalpy(298)\n",
    "\n",
    "print(\"perturbation in eV: \",(h2-h1)/9.6e4)"
   ]
  },
  {
   "cell_type": "code",
   "execution_count": null,
   "id": "e04be549",
   "metadata": {},
   "outputs": [],
   "source": [
    "c_perturb+o_perturb"
   ]
  },
  {
   "cell_type": "markdown",
   "id": "cbdaa386",
   "metadata": {},
   "source": [
    "### test groups"
   ]
  },
  {
   "cell_type": "code",
   "execution_count": null,
   "id": "e55d0b86",
   "metadata": {
    "scrolled": true
   },
   "outputs": [],
   "source": [
    "rmg_thermo_pt111_0001.groups['adsorptionPt111'].entries"
   ]
  },
  {
   "cell_type": "markdown",
   "id": "ccaab4aa",
   "metadata": {},
   "source": [
    "carbon"
   ]
  },
  {
   "cell_type": "code",
   "execution_count": null,
   "id": "97c519bb",
   "metadata": {},
   "outputs": [],
   "source": [
    "species = \"C#*R\"\n",
    "file = species + \".png\"\n",
    "with open(file, \"wb\") as img:\n",
    "    img.write(rmg_thermo_pt111_0001.groups['adsorptionPt111'].entries[species].item.draw('png'))\n",
    "    \n",
    "display((Image(filename=file)))\n",
    "\n",
    "h1 = rmg_thermo_pt111.groups['adsorptionPt111'].entries[species].data.H298.value_si\n",
    "h2 = rmg_thermo_pt111_0001.groups['adsorptionPt111'].entries[species].data.H298.value_si\n",
    "\n",
    "print(\"perturbation in eV: \",(h2-h1)/9.6e4)\n",
    "print(\"library perturbation, Carbon: \", c_perturb)"
   ]
  },
  {
   "cell_type": "code",
   "execution_count": null,
   "id": "6a2e5939",
   "metadata": {},
   "outputs": [],
   "source": [
    "species = \"O-*OR\"\n",
    "file = species + \".png\"\n",
    "with open(file, \"wb\") as img:\n",
    "    img.write(rmg_thermo_pt111_0001.groups['adsorptionPt111'].entries[species].item.draw('png'))\n",
    "    \n",
    "display((Image(filename=file)))\n",
    "\n",
    "h1 = rmg_thermo_pt111.groups['adsorptionPt111'].entries[species].data.H298.value_si\n",
    "h2 = rmg_thermo_pt111_0001.groups['adsorptionPt111'].entries[species].data.H298.value_si\n",
    "\n",
    "print(\"perturbation in eV: \",(h2-h1)/9.6e4)\n",
    "print(\"library perturbation, Oxygen: \", o_perturb)"
   ]
  },
  {
   "cell_type": "markdown",
   "id": "41c6a5b7",
   "metadata": {},
   "source": [
    "vdw"
   ]
  },
  {
   "cell_type": "code",
   "execution_count": null,
   "id": "5b9c1432",
   "metadata": {},
   "outputs": [],
   "source": [
    "species = \"(CRN)*\"\n",
    "file = species + \".png\"\n",
    "with open(file, \"wb\") as img:\n",
    "    img.write(rmg_thermo_pt111_0001.groups['adsorptionPt111'].entries[species].item.draw('png'))\n",
    "    \n",
    "display((Image(filename=file)))\n",
    "\n",
    "h1 = rmg_thermo_pt111.groups['adsorptionPt111'].entries[species].data.H298.value_si\n",
    "h2 = rmg_thermo_pt111_0001.groups['adsorptionPt111'].entries[species].data.H298.value_si\n",
    "\n",
    "print(\"perturbation in eV: \",(h2-h1)/9.6e4)\n",
    "print(\"library perturbation, vdW: \", vdw_perturb)"
   ]
  },
  {
   "cell_type": "markdown",
   "id": "8e5d5ef7",
   "metadata": {},
   "source": [
    "bidentate\n",
    "\n",
    "make sure we add perturbations per each bonded atom. probably not necessary since we don't have any in model"
   ]
  },
  {
   "cell_type": "code",
   "execution_count": null,
   "id": "7aeb8d48",
   "metadata": {},
   "outputs": [],
   "source": [
    "species = \"C-*RC=*\"\n",
    "file = species + \".png\"\n",
    "with open(file, \"wb\") as img:\n",
    "    img.write(rmg_thermo_pt111_0001.groups['adsorptionPt111'].entries[species].item.draw('png'))\n",
    "    \n",
    "display((Image(filename=file)))\n",
    "\n",
    "h1 = rmg_thermo_pt111.groups['adsorptionPt111'].entries[species].data.H298.value_si\n",
    "h2 = rmg_thermo_pt111_0001.groups['adsorptionPt111'].entries[species].data.H298.value_si\n",
    "\n",
    "print(\"perturbation in eV: \",(h2-h1)/9.6e4)\n",
    "print(\"perturbation from each bound c\", c_perturb*2)"
   ]
  },
  {
   "cell_type": "markdown",
   "id": "04d09686",
   "metadata": {},
   "source": [
    "averaged\n",
    "\n",
    "make sure that R\\*bidentate and R\\*single_chemisorbed are averaged properly"
   ]
  },
  {
   "cell_type": "code",
   "execution_count": null,
   "id": "f83390cc",
   "metadata": {},
   "outputs": [],
   "source": [
    "species = \"R*bidentate\"\n",
    "file = species + \".png\"\n",
    "with open(file, \"wb\") as img:\n",
    "    img.write(rmg_thermo_pt111_0001.groups['adsorptionPt111'].entries[species].item.draw('png'))\n",
    "    \n",
    "display((Image(filename=file)))\n",
    "\n",
    "h1 = rmg_thermo_pt111.groups['adsorptionPt111'].entries[species].data.H298.value_si\n",
    "h2 = rmg_thermo_pt111_0001.groups['adsorptionPt111'].entries[species].data.H298.value_si\n",
    "\n",
    "print(\"perturbation in eV: \",(h2-h1)/9.6e4)\n",
    "print(\"perturbation avg from C*3 and N in eV: \",np.average([E_0_c, E_0_c,E_0_c,E_0_n])*2)"
   ]
  },
  {
   "cell_type": "code",
   "execution_count": null,
   "id": "770f7a0f",
   "metadata": {},
   "outputs": [],
   "source": [
    "species = \"R*single_chemisorbed\"\n",
    "file = species + \".png\"\n",
    "with open(file, \"wb\") as img:\n",
    "    img.write(rmg_thermo_pt111_0001.groups['adsorptionPt111'].entries[species].item.draw('png'))\n",
    "    \n",
    "display((Image(filename=file)))\n",
    "\n",
    "h1 = rmg_thermo_pt111.groups['adsorptionPt111'].entries[species].data.H298.value_si\n",
    "h2 = rmg_thermo_pt111_0001.groups['adsorptionPt111'].entries[species].data.H298.value_si\n",
    "\n",
    "print(\"perturbation in eV: \",(h2-h1)/9.6e4)\n",
    "print(\"perturbation avg from C*3 and N in eV: \",np.average([E_0_c, E_0_o,E_0_n]))"
   ]
  },
  {
   "cell_type": "markdown",
   "id": "fecd0f7a",
   "metadata": {},
   "source": [
    "## load the cantera file and ensure that perturbation for species match what we expect"
   ]
  },
  {
   "cell_type": "code",
   "execution_count": null,
   "id": "f2a2bb65",
   "metadata": {},
   "outputs": [],
   "source": [
    "# cantera_file = f\"../../uncertainty_output_folder/run_{perturb}/cantera/chem_annotated.cti\"\n",
    "# gas = ct.Solution(cantera_file)\n",
    "# surf = ct.Interface(cantera_file, \"surface1\", [gas])"
   ]
  },
  {
   "cell_type": "markdown",
   "id": "97aed43b",
   "metadata": {},
   "source": [
    "enthalpies are in j/kmol in cantera, multiply by kmol/1e3 mol and divide by 9.6e4 J/eV"
   ]
  },
  {
   "cell_type": "code",
   "execution_count": null,
   "id": "e3761ea6",
   "metadata": {},
   "outputs": [],
   "source": [
    "# perturb"
   ]
  },
  {
   "cell_type": "code",
   "execution_count": null,
   "id": "0a824fec",
   "metadata": {},
   "outputs": [],
   "source": [
    "# species = \"CO-f_ads\"\n",
    "# file = species + \".png\"\n",
    "# thermo.entries[species].item.draw(file)\n",
    "# display((Image(filename=file)))\n",
    "\n",
    "# h1 = thermo_pt_base.entries[species].data.get_enthalpy(298)/9.6e4\n",
    "# h2 = surf.species(\"OCX(22)\").thermo.h(298)/1e3/9.6e4\n",
    "\n",
    "# print(\"perturbation in eV: \",(h2-h1))"
   ]
  },
  {
   "cell_type": "code",
   "execution_count": null,
   "id": "a947c970",
   "metadata": {},
   "outputs": [],
   "source": [
    "# def show_species_atoms(phase, spec):\n",
    "#     n_H = phase.n_atoms(spec, \"H\")\n",
    "#     n_C = phase.n_atoms(spec, \"C\")\n",
    "#     n_O = phase.n_atoms(spec, \"O\")\n",
    "#     n_X = phase.n_atoms(spec, \"X\")\n",
    "    \n",
    "#     atom_dict = {\n",
    "#         \"H\":n_H,\n",
    "#         \"C\":n_C,\n",
    "#         \"O\":n_O,\n",
    "#         \"X\":n_X,\n",
    "#     }\n",
    "    \n",
    "#     return atom_dict\n",
    "\n",
    "# atoms_spec = show_species_atoms(surf, \"OCX(22)\")\n",
    "# print(atoms_spec)"
   ]
  },
  {
   "cell_type": "code",
   "execution_count": null,
   "id": "3bed0a41",
   "metadata": {},
   "outputs": [],
   "source": [
    "# species = \"CO-f_ads\"\n",
    "# file = species + \".png\"\n",
    "# thermo.entries[species].item.draw(file)\n",
    "# display((Image(filename=file)))"
   ]
  },
  {
   "cell_type": "code",
   "execution_count": null,
   "id": "369ea4f6",
   "metadata": {},
   "outputs": [],
   "source": [
    "# thermo.entries"
   ]
  },
  {
   "cell_type": "code",
   "execution_count": null,
   "id": "d92bbe38",
   "metadata": {},
   "outputs": [],
   "source": [
    "# BE_o_pt = -3.81153\n",
    "# Be_o_cu = -4.20764\n"
   ]
  },
  {
   "cell_type": "code",
   "execution_count": null,
   "id": "56eec28b",
   "metadata": {},
   "outputs": [],
   "source": [
    "# species = \"O_ads\"\n",
    "# file = species + \".png\"\n",
    "# thermo.entries[species].item.draw(file)\n",
    "# display((Image(filename=file)))\n",
    "\n",
    "# h1 = thermo_pt_base.entries[species].data.get_enthalpy(298)/9.6e4\n",
    "# h2 = surf.species(\"O*(11)\").thermo.h(298)/1e3/9.6e4\n",
    "\n",
    "# print(\"perturbation in eV: \",(h2-h1))\n",
    "# h2"
   ]
  },
  {
   "cell_type": "code",
   "execution_count": null,
   "id": "f97cbfc8",
   "metadata": {},
   "outputs": [],
   "source": [
    "# species = \"H2O_ads\"\n",
    "# file = species + \".png\"\n",
    "# thermo.entries[species].item.draw(file)\n",
    "# display((Image(filename=file)))\n",
    "\n",
    "# h1 = thermo_pt_base.entries[species].data.get_enthalpy(298)/9.6e4\n",
    "# h2 = surf.species(\"H2O*(13)\").thermo.h(298)/1e3/9.6e4\n",
    "\n",
    "# print(\"original in eV: \",h1)\n",
    "# print(\"final in eV:    \",h2)\n",
    "# print(\"perturbation in eV: \",(h2-h1))"
   ]
  },
  {
   "cell_type": "code",
   "execution_count": null,
   "id": "b416cbd2",
   "metadata": {},
   "outputs": [],
   "source": [
    "# species = \"CO2_ads\"\n",
    "# file = species + \".png\"\n",
    "# thermo.entries[species].item.draw(file)\n",
    "# display((Image(filename=file)))\n",
    "\n",
    "# h1 = thermo_pt_base.entries[species].data.get_enthalpy(298)/9.6e4\n",
    "# h2 = surf.species(\"CO2*(15)\").thermo.h(298)/1e3/9.6e4\n",
    "\n",
    "# print(\"original in eV: \",h1)\n",
    "# print(\"final in eV:    \",h2)\n",
    "# print(\"perturbation in eV: \",(h2-h1))"
   ]
  },
  {
   "cell_type": "markdown",
   "id": "15ad0e90",
   "metadata": {},
   "source": [
    "## Kinetic perturbations"
   ]
  },
  {
   "cell_type": "markdown",
   "id": "8166f301",
   "metadata": {},
   "source": [
    "### check family values\n",
    "first, a known family with surfaceArrhenius values"
   ]
  },
  {
   "cell_type": "code",
   "execution_count": null,
   "id": "495f2af4",
   "metadata": {},
   "outputs": [],
   "source": [
    "def perturb_a(A,p):\n",
    "    DELTA_A_MAX_EXP = 1\n",
    "    delta_A0 = DELTA_A_MAX_EXP - 2.0 * p * DELTA_A_MAX_EXP\n",
    "    print(\"deltaA\", delta_A0)\n",
    "    A_perturbed = A*10**delta_A0\n",
    "    \n",
    "    return A_perturbed\n",
    "\n",
    "# first item is A - factor perturbation\n",
    "item = 1\n",
    "sobol_key = list(sobol_map.keys())[item]\n",
    "print(sobol_key)\n",
    "\n",
    "fam,grp,par = sobol_key.split(\"/\")\n",
    "A_ref = kinetics_database_base.families[fam].rules.entries[grp][0].data.A.value\n",
    "A_pert = kinetics_database_pert.families[fam].rules.entries[grp][0].data.A.value\n",
    "\n",
    "# check that our sobol map gives the right value: \n",
    "sobol_map_A_pert = sobol_map[sobol_key][1][pert]\n",
    "\n",
    "\n",
    "# check that the value reflects the sobol matrix and was not overwritten\n",
    "x_sobol_A_pert = perturb_a(A_ref,float(x_sobol[pert,item]))\n",
    "\n",
    "print(\"original A: \",\"{:2e}\".format(A_ref))\n",
    "print(\"final in A:    \",\"{:2e}\".format(A_pert))\n",
    "print(\"sobol_map A perturbed:\", \"{:2e}\".format(sobol_map_A_pert))\n",
    "print(\"sobol_map A perturbed:\", \"{:2e}\".format(x_sobol_A_pert))"
   ]
  },
  {
   "cell_type": "code",
   "execution_count": null,
   "id": "0113fa7e",
   "metadata": {},
   "outputs": [],
   "source": [
    "def perturb_E(E,p):\n",
    "    DELTA_E0_MAX_J_MOL = 30000 \n",
    "    delta_E0 = DELTA_E0_MAX_J_MOL - 2.0 * p * DELTA_E0_MAX_J_MOL\n",
    "    E_perturbed = E+delta_E0\n",
    "    print(\"delta_E0 : \",delta_E0 )\n",
    "    return E_perturbed\n",
    "\n",
    "# first item is A - factor perturbation\n",
    "item = 2\n",
    "sobol_key = list(sobol_map.keys())[item]\n",
    "print(sobol_key)\n",
    "\n",
    "fam,grp,par = sobol_key.split(\"/\")\n",
    "E_ref = kinetics_database_base.families[fam].rules.entries[grp][0].data.E0.value_si\n",
    "E_pert = kinetics_database_pert.families[fam].rules.entries[grp][0].data.E0.value_si\n",
    "\n",
    "# check that our sobol map gives the right value: \n",
    "sobol_map_E_pert = sobol_map[sobol_key][1][pert]\n",
    "\n",
    "\n",
    "# check that the value reflects the sobol matrix and was not overwritten\n",
    "x_sobol_E_pert = perturb_E(E_ref,float(x_sobol[pert,item]))\n",
    "\n",
    "print(\"original E: \",\"{:2e}\".format(E_ref))\n",
    "print(\"final E:    \",\"{:2e}\".format(E_pert))\n",
    "print(\"sobol_map E perturbed:\", \"{:2e}\".format(sobol_map_E_pert))\n",
    "print(\"sobol_map E perturbed:\", \"{:2e}\".format(x_sobol_E_pert))"
   ]
  },
  {
   "cell_type": "code",
   "execution_count": null,
   "id": "66d5d2f7",
   "metadata": {},
   "outputs": [],
   "source": [
    "item = 2\n",
    "sobol_key = list(sobol_map.keys())[item]\n",
    "print(sobol_key)"
   ]
  },
  {
   "cell_type": "code",
   "execution_count": null,
   "id": "3b8580c2",
   "metadata": {},
   "outputs": [],
   "source": [
    "def perturb_al(al,p):\n",
    "    DELTA_ALPHA_MAX = 0.15\n",
    "    delta_al = DELTA_ALPHA_MAX - 2.0 * p * DELTA_ALPHA_MAX\n",
    "    al_perturbed = al+delta_al\n",
    "    \n",
    "    return al_perturbed\n",
    "\n",
    "# first item is A - factor perturbation\n",
    "item = 3\n",
    "sobol_key = list(sobol_map.keys())[item]\n",
    "print(sobol_key)\n",
    "\n",
    "fam,grp,par = sobol_key.split(\"/\")\n",
    "al_ref = kinetics_database_base.families[fam].rules.entries[grp][0].data.alpha.value_si\n",
    "al_pert = kinetics_database_pert.families[fam].rules.entries[grp][0].data.alpha.value_si\n",
    "\n",
    "# check that our sobol map gives the right value: \n",
    "sobol_map_al_pert = sobol_map[sobol_key][1][pert]\n",
    "\n",
    "\n",
    "# check that the value reflects the sobol matrix and was not overwritten\n",
    "x_sobol_al_pert = perturb_al(al_ref,float(x_sobol[pert,item]))\n",
    "\n",
    "print(\"original alpha: \",\"{:2e}\".format(al_ref))\n",
    "print(\"final alpha:    \",\"{:2e}\".format(al_pert))\n",
    "print(\"sobol_map alpha perturbed:\", \"{:2e}\".format(sobol_map_al_pert))\n",
    "print(\"x_sobol alpha perturbed:\", \"{:2e}\".format(x_sobol_al_pert))"
   ]
  },
  {
   "cell_type": "markdown",
   "id": "01928c67",
   "metadata": {},
   "source": [
    "### check family values\n",
    "next, a unknown family with surface arrhenius A"
   ]
  },
  {
   "cell_type": "code",
   "execution_count": null,
   "id": "6deb4e53",
   "metadata": {},
   "outputs": [],
   "source": [
    "item = 74\n",
    "sobol_key = list(sobol_map.keys())[item]\n",
    "print(sobol_key)"
   ]
  },
  {
   "cell_type": "code",
   "execution_count": null,
   "id": "3807c9b0",
   "metadata": {},
   "outputs": [],
   "source": [
    "def perturb_a(A,p):\n",
    "    delta_A0 = DELTA_STICK_MAX_KN - 2.0 * p * DELTA_STICK_MAX_KN\n",
    "    print(\"deltaA\", delta_A0)\n",
    "    A_perturbed = A + delta_A0\n",
    "    \n",
    "    return A_perturbed\n",
    "\n",
    "# first item is A - factor perturbation\n",
    "item = 73\n",
    "sobol_key = list(sobol_map.keys())[item]\n",
    "print(sobol_key)\n",
    "\n",
    "fam,grp,par = sobol_key.split(\"/\")\n",
    "# A_ref = kinetics_database_base.families[fam].rules.entries[grp][0].data.A.value\n",
    "A_ref = 0.5\n",
    "A_pert = kinetics_database_pert.families[fam].rules.entries[grp][0].data.A.value\n",
    "\n",
    "# check that our sobol map gives the right value: \n",
    "sobol_map_A_pert = sobol_map[sobol_key][1][pert]\n",
    "\n",
    "\n",
    "# check that the value reflects the sobol matrix and was not overwritten\n",
    "x_sobol_A_pert = perturb_a(A_ref,float(x_sobol[pert,item]))\n",
    "\n",
    "print(\"original A: \",\"{:2e}\".format(A_ref))\n",
    "print(\"final in A:    \",\"{:2e}\".format(A_pert))\n",
    "print(\"sobol_map A perturbed:\", \"{:2e}\".format(sobol_map_A_pert))\n",
    "print(\"sobol_map A perturbed:\", \"{:2e}\".format(x_sobol_A_pert))"
   ]
  },
  {
   "cell_type": "markdown",
   "id": "e8424d90",
   "metadata": {},
   "source": [
    "now, an unknown alpha"
   ]
  },
  {
   "cell_type": "code",
   "execution_count": null,
   "id": "b4d78fe1",
   "metadata": {},
   "outputs": [],
   "source": [
    "def perturb_al(al,p):\n",
    "    delta_al = DELTA_ALPHA_MAX_UNK - 2.0 * p * DELTA_ALPHA_MAX_UNK\n",
    "    al_perturbed = al+delta_al\n",
    "    \n",
    "    return al_perturbed\n",
    "\n",
    "# first item is A - factor perturbation\n",
    "item = 72\n",
    "sobol_key = list(sobol_map.keys())[item]\n",
    "print(sobol_key)\n",
    "\n",
    "fam,grp,par = sobol_key.split(\"/\")\n",
    "al_ref = 0.5\n",
    "al_pert = kinetics_database_pert.families[fam].rules.entries[grp][0].data.alpha.value_si\n",
    "\n",
    "# check that our sobol map gives the right value: \n",
    "sobol_map_al_pert = sobol_map[sobol_key][1][pert]\n",
    "\n",
    "\n",
    "# check that the value reflects the sobol matrix and was not overwritten\n",
    "x_sobol_al_pert = perturb_al(al_ref,float(x_sobol[pert,item]))\n",
    "\n",
    "print(\"original alpha: \",\"{:2e}\".format(al_ref))\n",
    "print(\"final alpha:    \",\"{:2e}\".format(al_pert))\n",
    "print(\"sobol_map alpha perturbed:\", \"{:2e}\".format(sobol_map_al_pert))\n",
    "print(\"x_sobol alpha perturbed:\", \"{:2e}\".format(x_sobol_al_pert))"
   ]
  },
  {
   "cell_type": "markdown",
   "id": "49787d4e",
   "metadata": {},
   "source": [
    "now, an unknown E0"
   ]
  },
  {
   "cell_type": "code",
   "execution_count": null,
   "id": "87119c7e",
   "metadata": {},
   "outputs": [],
   "source": [
    "def perturb_E(E,p):\n",
    "    delta_E0 = DELTA_E0_MAX_J_MOL_UNK - 2.0 * p * DELTA_E0_MAX_J_MOL_UNK\n",
    "    E_perturbed = E+delta_E0\n",
    "    print(\"delta: \", delta_E0)\n",
    "    return E_perturbed\n",
    "\n",
    "# first item is A - factor perturbation\n",
    "item = 74\n",
    "sobol_key = list(sobol_map.keys())[item]\n",
    "print(sobol_key)\n",
    "\n",
    "fam,grp,par = sobol_key.split(\"/\")\n",
    "# E_ref = kinetics_database_base.families[fam].rules.entries[grp][0].data.E0.value_si\n",
    "E_ref = 100000\n",
    "E_pert = kinetics_database_pert.families[fam].rules.entries[grp][0].data.E0.value_si\n",
    "\n",
    "# check that our sobol map gives the right value: \n",
    "sobol_map_E_pert = sobol_map[sobol_key][1][pert]\n",
    "\n",
    "\n",
    "# check that the value reflects the sobol matrix and was not overwritten\n",
    "x_sobol_E_pert = perturb_E(E_ref,float(x_sobol[pert,item]))\n",
    "\n",
    "print(\"original E: \",\"{:2e}\".format(E_ref))\n",
    "print(\"final E:    \",\"{:2e}\".format(E_pert))\n",
    "print(\"sobol_map E perturbed:\", \"{:2e}\".format(sobol_map_E_pert))\n",
    "print(\"sobol_map E perturbed:\", \"{:2e}\".format(x_sobol_E_pert))"
   ]
  },
  {
   "cell_type": "markdown",
   "id": "33638bdd",
   "metadata": {},
   "source": [
    "### check library values"
   ]
  },
  {
   "cell_type": "code",
   "execution_count": null,
   "id": "c72c9e90",
   "metadata": {
    "scrolled": true
   },
   "outputs": [],
   "source": [
    "def perturb_a(A,p):\n",
    "    DELTA_A_MAX_EXP = 1\n",
    "    delta_A0 = DELTA_A_MAX_EXP - 2.0 * p * DELTA_A_MAX_EXP\n",
    "    print(\"deltaA: \", delta_A0)\n",
    "    A_perturbed = A*10**delta_A0\n",
    "    \n",
    "    return A_perturbed\n",
    "\n",
    "# first item is A - factor perturbation\n",
    "item = 166\n",
    "sobol_key = list(sobol_map.keys())[item]\n",
    "print(sobol_key)\n",
    "\n",
    "lib1, lib2, rxn_num, rxn, par, = sobol_key.split(\"/\")\n",
    "lib = lib1+ \"/\" + lib2\n",
    "rxn_num = int(rxn_num)\n",
    "\n",
    "A_ref = kinetics_database_base.libraries[lib].entries[rxn_num].data.A.value_si\n",
    "\n",
    "# the reaction labels get mixed around when you resave the database. \n",
    "for k, v in kinetics_database_pert.libraries[lib].entries.items():\n",
    "    if kinetics_database_base.libraries[lib].entries[rxn_num].label in v.label:\n",
    "        A_pert = kinetics_database_pert.libraries[lib].entries[k].data.A.value_si\n",
    "\n",
    "# check that our sobol map gives the right value: \n",
    "sobol_map_A_pert = sobol_map[sobol_key][1][pert]\n",
    "\n",
    "\n",
    "# check that the value reflects the sobol matrix and was not overwritten\n",
    "x_sobol_A_pert = perturb_a(A_ref,float(x_sobol[pert,item]))\n",
    "\n",
    "print(\"original A: \",\"{:2e}\".format(A_ref))\n",
    "print(\"final in A:    \",\"{:2e}\".format(A_pert))\n",
    "print(\"sobol_map A perturbed:\", \"{:2e}\".format(sobol_map_A_pert))\n",
    "print(\"x_sobol A perturbed:\", \"{:2e}\".format(x_sobol_A_pert))"
   ]
  },
  {
   "cell_type": "code",
   "execution_count": null,
   "id": "d5d4685d",
   "metadata": {},
   "outputs": [],
   "source": [
    "def perturb_E(E,p):\n",
    "    DELTA_E0_MAX_J_MOL = 30000 \n",
    "    delta_E0 = DELTA_E0_MAX_J_MOL - 2.0 * p * DELTA_E0_MAX_J_MOL\n",
    "    E_perturbed = E+delta_E0\n",
    "    \n",
    "    return E_perturbed\n",
    "\n",
    "# first item is A - factor perturbation\n",
    "item = 167\n",
    "sobol_key = list(sobol_map.keys())[item]\n",
    "print(sobol_key)\n",
    "\n",
    "lib1, lib2, rxn_num, rxn, par, = sobol_key.split(\"/\")\n",
    "lib = lib1+ \"/\" + lib2\n",
    "rxn_num = int(rxn_num)\n",
    "\n",
    "E_ref = kinetics_database_base.libraries[lib].entries[rxn_num].data.Ea.value_si\n",
    "\n",
    "# the reaction labels get mixed around when you resave the database. \n",
    "for k, v in kinetics_database_pert.libraries[lib].entries.items():\n",
    "    if kinetics_database_base.libraries[lib].entries[rxn_num].label in v.label:\n",
    "        E_pert = kinetics_database_pert.libraries[lib].entries[k].data.Ea.value_si\n",
    "\n",
    "\n",
    "# check that our sobol map gives the right value: \n",
    "sobol_map_E_pert = sobol_map[sobol_key][1][pert]\n",
    "\n",
    "\n",
    "# check that the value reflects the sobol matrix and was not overwritten\n",
    "x_sobol_E_pert = perturb_E(E_ref,float(x_sobol[pert,item]))\n",
    "\n",
    "print(\"original E: \",\"{:2e}\".format(E_ref))\n",
    "print(\"final in E:    \",\"{:2e}\".format(E_pert))\n",
    "print(\"sobol_map E perturbed:\", \"{:2e}\".format(sobol_map_E_pert))\n",
    "print(\"x_sobol E perturbed:\", \"{:2e}\".format(x_sobol_E_pert))"
   ]
  },
  {
   "cell_type": "markdown",
   "id": "6a428210",
   "metadata": {},
   "source": [
    "check sticking coefficient library A"
   ]
  },
  {
   "cell_type": "code",
   "execution_count": null,
   "id": "499c983e",
   "metadata": {},
   "outputs": [],
   "source": [
    "item = 154\n",
    "sobol_key = list(sobol_map.keys())[item]\n",
    "print(sobol_key)"
   ]
  },
  {
   "cell_type": "code",
   "execution_count": null,
   "id": "0306043d",
   "metadata": {},
   "outputs": [],
   "source": [
    "def perturb_a(A,p):\n",
    "    DELTA_A_MAX_EXP = 1\n",
    "    delta_A0 = DELTA_STICK_MAX_KN - 2.0 * p * DELTA_STICK_MAX_KN\n",
    "    print(\"deltaA: \", delta_A0)\n",
    "    A_perturbed = A+delta_A0\n",
    "    \n",
    "    return A_perturbed\n",
    "\n",
    "# first item is A - factor perturbation\n",
    "item = 154\n",
    "sobol_key = list(sobol_map.keys())[item]\n",
    "print(sobol_key)\n",
    "\n",
    "lib1, lib2, rxn_num, rxn, par, = sobol_key.split(\"/\")\n",
    "lib = lib1+ \"/\" + lib2\n",
    "rxn_num = int(rxn_num)\n",
    "\n",
    "# A_ref = kinetics_database_base.libraries[lib].entries[rxn_num].data.A.value_si\n",
    "A_ref = 0.5\n",
    "\n",
    "# the reaction labels get mixed around when you resave the database. \n",
    "for k, v in kinetics_database_pert.libraries[lib].entries.items():\n",
    "    if kinetics_database_base.libraries[lib].entries[rxn_num].label in v.label:\n",
    "        A_pert = kinetics_database_pert.libraries[lib].entries[k].data.A.value_si\n",
    "\n",
    "# check that our sobol map gives the right value: \n",
    "sobol_map_A_pert = sobol_map[sobol_key][1][pert]\n",
    "\n",
    "\n",
    "# check that the value reflects the sobol matrix and was not overwritten\n",
    "x_sobol_A_pert = perturb_a(A_ref,float(x_sobol[pert,item]))\n",
    "\n",
    "print(\"original A: \",\"{:2f}\".format(A_ref))\n",
    "print(\"final in A:    \",\"{:2f}\".format(A_pert))\n",
    "print(\"sobol_map A perturbed:\", \"{:2f}\".format(sobol_map_A_pert))\n",
    "print(\"x_sobol A perturbed:\", \"{:2f}\".format(x_sobol_A_pert))"
   ]
  },
  {
   "cell_type": "markdown",
   "id": "414046a6",
   "metadata": {},
   "source": [
    "### black box testing \n",
    "check output from RMG run in a chemkin file and ensure perturbs were applied correctly"
   ]
  },
  {
   "cell_type": "code",
   "execution_count": 13,
   "id": "29dc00c5",
   "metadata": {},
   "outputs": [],
   "source": [
    "import rmgpy.chemkin as chmkn"
   ]
  },
  {
   "cell_type": "code",
   "execution_count": 14,
   "id": "25a41150",
   "metadata": {},
   "outputs": [],
   "source": [
    "orig_chmkn_path = f\"../../uncertainty_output_folder/baseline/chemkin/\"\n",
    "orig_file_surf = orig_chmkn_path + \"chem_annotated-surface.inp\"\n",
    "orig_file_gas = orig_chmkn_path +  \"chem_annotated-gas.inp\"\n",
    "orig_file_dict = orig_chmkn_path +  \"species_dictionary.txt\"\n",
    "orig_model = chmkn.load_chemkin_file(orig_file_surf, dictionary_path=orig_file_dict)"
   ]
  },
  {
   "cell_type": "code",
   "execution_count": 15,
   "id": "669db0fd",
   "metadata": {},
   "outputs": [],
   "source": [
    "pert_chmkn_path = f\"../../uncertainty_output_folder/run_{perturb}/chemkin/\"\n",
    "pert_file_surf = pert_chmkn_path + \"chem_annotated-surface.inp\"\n",
    "pert_file_gas = pert_chmkn_path +  \"chem_annotated-gas.inp\"\n",
    "pert_file_dict = pert_chmkn_path +  \"species_dictionary.txt\"\n",
    "pert_model = chmkn.load_chemkin_file(pert_file_surf, dictionary_path=pert_file_dict)"
   ]
  },
  {
   "cell_type": "markdown",
   "id": "53a96eb8",
   "metadata": {},
   "source": [
    "first, take the h2 dissocation rxn (library, stickingcoefficient)"
   ]
  },
  {
   "cell_type": "code",
   "execution_count": 16,
   "id": "5741df63",
   "metadata": {},
   "outputs": [
    {
     "data": {
      "image/png": "[encoded data removed]",
      "text/plain": [
       "LibraryReaction(index=1, reactants=[Species(index=1, label=\"X\", thermo=NASA(polynomials=[NASAPolynomial(coeffs=[0.00710118,-4.25598e-05,8.98477e-08,-7.80141e-11,2.3245e-14,-0.876091,-0.0311203], Tmin=(100,'K'), Tmax=(1554.82,'K')), NASAPolynomial(coeffs=[0.160306,-0.000252245,1.14186e-07,-1.21482e-11,3.85868e-16,-70.8135,-0.909566], Tmin=(1554.82,'K'), Tmax=(5000,'K'))], Tmin=(100,'K'), Tmax=(5000,'K'), comment=\"\"\"Thermo library: surfaceThermoPt111 Binding energy corrected by LSR () from Pt111\"\"\"), molecule=[Molecule(smiles=\"[Pt]\")], molecular_weight=(0,'amu')), Species(index=1, label=\"X\", thermo=NASA(polynomials=[NASAPolynomial(coeffs=[0.00710118,-4.25598e-05,8.98477e-08,-7.80141e-11,2.3245e-14,-0.876091,-0.0311203], Tmin=(100,'K'), Tmax=(1554.82,'K')), NASAPolynomial(coeffs=[0.160306,-0.000252245,1.14186e-07,-1.21482e-11,3.85868e-16,-70.8135,-0.909566], Tmin=(1554.82,'K'), Tmax=(5000,'K'))], Tmin=(100,'K'), Tmax=(5000,'K'), comment=\"\"\"Thermo library: surfaceThermoPt111 Binding energy corrected by LSR () from Pt111\"\"\"), molecule=[Molecule(smiles=\"[Pt]\")], molecular_weight=(0,'amu')), Species(label=\"H2(2)\", molecule=[Molecule(smiles=\"[H][H]\")], molecular_weight=(2.01594,'amu'))], products=[Species(index=10, label=\"H*\", thermo=NASA(polynomials=[NASAPolynomial(coeffs=[-0.380966,0.00547229,2.6091e-06,-9.64958e-09,4.63945e-12,-1405.6,1.01726], Tmin=(100,'K'), Tmax=(952.91,'K')), NASAPolynomial(coeffs=[2.8034,-0.000541051,4.9951e-07,-7.54969e-11,3.06776e-15,-2346.35,-15.9437], Tmin=(952.91,'K'), Tmax=(5000,'K'))], Tmin=(100,'K'), Tmax=(5000,'K'), comment=\"\"\"Thermo library: surfaceThermoPt111 Binding energy corrected by LSR (1.00H) from Pt111\"\"\"), molecule=[Molecule(smiles=\"[Pt]\")], molecular_weight=(1.00797,'amu')), Species(index=10, label=\"H*\", thermo=NASA(polynomials=[NASAPolynomial(coeffs=[-0.380966,0.00547229,2.6091e-06,-9.64958e-09,4.63945e-12,-1405.6,1.01726], Tmin=(100,'K'), Tmax=(952.91,'K')), NASAPolynomial(coeffs=[2.8034,-0.000541051,4.9951e-07,-7.54969e-11,3.06776e-15,-2346.35,-15.9437], Tmin=(952.91,'K'), Tmax=(5000,'K'))], Tmin=(100,'K'), Tmax=(5000,'K'), comment=\"\"\"Thermo library: surfaceThermoPt111 Binding energy corrected by LSR (1.00H) from Pt111\"\"\"), molecule=[Molecule(smiles=\"[Pt]\")], molecular_weight=(1.00797,'amu'))], kinetics=StickingCoefficient(A=0.032, n=0, Ea=(0,'kcal/mol'), T0=(1,'K')), pairs=[(Species(label=\"H2(2)\", molecule=[Molecule(smiles=\"[H][H]\")], molecular_weight=(2.01594,'amu')), Species(index=10, label=\"H*\", thermo=NASA(polynomials=[NASAPolynomial(coeffs=[-0.380966,0.00547229,2.6091e-06,-9.64958e-09,4.63945e-12,-1405.6,1.01726], Tmin=(100,'K'), Tmax=(952.91,'K')), NASAPolynomial(coeffs=[2.8034,-0.000541051,4.9951e-07,-7.54969e-11,3.06776e-15,-2346.35,-15.9437], Tmin=(952.91,'K'), Tmax=(5000,'K'))], Tmin=(100,'K'), Tmax=(5000,'K'), comment=\"\"\"Thermo library: surfaceThermoPt111 Binding energy corrected by LSR (1.00H) from Pt111\"\"\"), molecule=[Molecule(smiles=\"[Pt]\")], molecular_weight=(1.00797,'amu'))), (Species(index=1, label=\"X\", thermo=NASA(polynomials=[NASAPolynomial(coeffs=[0.00710118,-4.25598e-05,8.98477e-08,-7.80141e-11,2.3245e-14,-0.876091,-0.0311203], Tmin=(100,'K'), Tmax=(1554.82,'K')), NASAPolynomial(coeffs=[0.160306,-0.000252245,1.14186e-07,-1.21482e-11,3.85868e-16,-70.8135,-0.909566], Tmin=(1554.82,'K'), Tmax=(5000,'K'))], Tmin=(100,'K'), Tmax=(5000,'K'), comment=\"\"\"Thermo library: surfaceThermoPt111 Binding energy corrected by LSR () from Pt111\"\"\"), molecule=[Molecule(smiles=\"[Pt]\")], molecular_weight=(0,'amu')), Species(index=10, label=\"H*\", thermo=NASA(polynomials=[NASAPolynomial(coeffs=[-0.380966,0.00547229,2.6091e-06,-9.64958e-09,4.63945e-12,-1405.6,1.01726], Tmin=(100,'K'), Tmax=(952.91,'K')), NASAPolynomial(coeffs=[2.8034,-0.000541051,4.9951e-07,-7.54969e-11,3.06776e-15,-2346.35,-15.9437], Tmin=(952.91,'K'), Tmax=(5000,'K'))], Tmin=(100,'K'), Tmax=(5000,'K'), comment=\"\"\"Thermo library: surfaceThermoPt111 Binding energy corrected by LSR (1.00H) from Pt111\"\"\"), molecule=[Molecule(smiles=\"[Pt]\")], molecular_weight=(1.00797,'amu'))), (Species(index=1, label=\"X\", thermo=NASA(polynomials=[NASAPolynomial(coeffs=[0.00710118,-4.25598e-05,8.98477e-08,-7.80141e-11,2.3245e-14,-0.876091,-0.0311203], Tmin=(100,'K'), Tmax=(1554.82,'K')), NASAPolynomial(coeffs=[0.160306,-0.000252245,1.14186e-07,-1.21482e-11,3.85868e-16,-70.8135,-0.909566], Tmin=(1554.82,'K'), Tmax=(5000,'K'))], Tmin=(100,'K'), Tmax=(5000,'K'), comment=\"\"\"Thermo library: surfaceThermoPt111 Binding energy corrected by LSR () from Pt111\"\"\"), molecule=[Molecule(smiles=\"[Pt]\")], molecular_weight=(0,'amu')), Species(index=10, label=\"H*\", thermo=NASA(polynomials=[NASAPolynomial(coeffs=[-0.380966,0.00547229,2.6091e-06,-9.64958e-09,4.63945e-12,-1405.6,1.01726], Tmin=(100,'K'), Tmax=(952.91,'K')), NASAPolynomial(coeffs=[2.8034,-0.000541051,4.9951e-07,-7.54969e-11,3.06776e-15,-2346.35,-15.9437], Tmin=(952.91,'K'), Tmax=(5000,'K'))], Tmin=(100,'K'), Tmax=(5000,'K'), comment=\"\"\"Thermo library: surfaceThermoPt111 Binding energy corrected by LSR (1.00H) from Pt111\"\"\"), molecule=[Molecule(smiles=\"[Pt]\")], molecular_weight=(1.00797,'amu')))])"
      ]
     },
     "metadata": {},
     "output_type": "display_data"
    },
    {
     "data": {
      "text/plain": [
       "True"
      ]
     },
     "execution_count": 16,
     "metadata": {},
     "output_type": "execute_result"
    }
   ],
   "source": [
    "# get first rxn from the mechanism\n",
    "rxn_index = 0\n",
    "display(orig_model[1][rxn_index])\n",
    "\n",
    "# ensure it is the same as the first one in the perturbed model\n",
    "pert_model[1][0].is_isomorphic(orig_model[1][0])"
   ]
  },
  {
   "cell_type": "markdown",
   "id": "d7cd32b5",
   "metadata": {},
   "source": [
    "check that the A-factor is perturbed to the correct value. for sticking coefficient reactions this means anywhere from 0-1, independent of original value"
   ]
  },
  {
   "cell_type": "code",
   "execution_count": 17,
   "id": "fdbecf58",
   "metadata": {},
   "outputs": [
    {
     "name": "stdout",
     "output_type": "stream",
     "text": [
      "original: 0.032 \n",
      "Perturbed: 0.8992 \n",
      "perturbation_value: 0.8991646766662598\n"
     ]
    }
   ],
   "source": [
    "a_orig = orig_model[1][rxn_index].kinetics.A\n",
    "a_pert = pert_model[1][rxn_index].kinetics.A\n",
    "sobol_pert = sobol_map[\"CPOX_Pt/Deutschmann2006_adjusted/1/H2 + Pt + Pt <=> HX + HX/A\"][1][pert]\n",
    "\n",
    "print(\"original: {0} \\nPerturbed: {1} \\nperturbation_value: {2}\".format(a_orig, a_pert, sobol_pert))"
   ]
  },
  {
   "cell_type": "markdown",
   "id": "70d3bd25",
   "metadata": {},
   "source": [
    "check that the E0 is perturbed correctly"
   ]
  },
  {
   "cell_type": "code",
   "execution_count": 18,
   "id": "59c03c31",
   "metadata": {},
   "outputs": [
    {
     "name": "stdout",
     "output_type": "stream",
     "text": [
      "original: 0.0 \n",
      "Perturbed: 18627.168 \n",
      "perturbation_value: 18627.94921875\n"
     ]
    }
   ],
   "source": [
    "Ea_orig = orig_model[1][rxn_index].kinetics.Ea.value_si\n",
    "Ea_pert = pert_model[1][rxn_index].kinetics.Ea.value_si\n",
    "sobol_pert = sobol_map[\"CPOX_Pt/Deutschmann2006_adjusted/1/H2 + Pt + Pt <=> HX + HX/Ea\"][1][pert]\n",
    "\n",
    "print(\"original: {0} \\nPerturbed: {1} \\nperturbation_value: {2}\".format(Ea_orig, Ea_pert, sobol_pert))"
   ]
  },
  {
   "cell_type": "markdown",
   "id": "5adb6d4b",
   "metadata": {},
   "source": [
    "library, surface arrhenius"
   ]
  },
  {
   "cell_type": "code",
   "execution_count": 19,
   "id": "977b7db3",
   "metadata": {
    "collapsed": true
   },
   "outputs": [
    {
     "ename": "AttributeError",
     "evalue": "'tuple' object has no attribute 'value'",
     "output_type": "error",
     "traceback": [
      "\u001b[0;31m---------------------------------------------------------------------------\u001b[0m",
      "\u001b[0;31mAttributeError\u001b[0m                            Traceback (most recent call last)",
      "\u001b[0;32m~/.conda/envs/rmg_julia_env/lib/python3.7/site-packages/IPython/core/formatters.py\u001b[0m in \u001b[0;36m__call__\u001b[0;34m(self, obj)\u001b[0m\n\u001b[1;32m    700\u001b[0m                 \u001b[0mtype_pprinters\u001b[0m\u001b[0;34m=\u001b[0m\u001b[0mself\u001b[0m\u001b[0;34m.\u001b[0m\u001b[0mtype_printers\u001b[0m\u001b[0;34m,\u001b[0m\u001b[0;34m\u001b[0m\u001b[0;34m\u001b[0m\u001b[0m\n\u001b[1;32m    701\u001b[0m                 deferred_pprinters=self.deferred_printers)\n\u001b[0;32m--> 702\u001b[0;31m             \u001b[0mprinter\u001b[0m\u001b[0;34m.\u001b[0m\u001b[0mpretty\u001b[0m\u001b[0;34m(\u001b[0m\u001b[0mobj\u001b[0m\u001b[0;34m)\u001b[0m\u001b[0;34m\u001b[0m\u001b[0;34m\u001b[0m\u001b[0m\n\u001b[0m\u001b[1;32m    703\u001b[0m             \u001b[0mprinter\u001b[0m\u001b[0;34m.\u001b[0m\u001b[0mflush\u001b[0m\u001b[0;34m(\u001b[0m\u001b[0;34m)\u001b[0m\u001b[0;34m\u001b[0m\u001b[0;34m\u001b[0m\u001b[0m\n\u001b[1;32m    704\u001b[0m             \u001b[0;32mreturn\u001b[0m \u001b[0mstream\u001b[0m\u001b[0;34m.\u001b[0m\u001b[0mgetvalue\u001b[0m\u001b[0;34m(\u001b[0m\u001b[0;34m)\u001b[0m\u001b[0;34m\u001b[0m\u001b[0;34m\u001b[0m\u001b[0m\n",
      "\u001b[0;32m~/.conda/envs/rmg_julia_env/lib/python3.7/site-packages/IPython/lib/pretty.py\u001b[0m in \u001b[0;36mpretty\u001b[0;34m(self, obj)\u001b[0m\n\u001b[1;32m    392\u001b[0m                         \u001b[0;32mif\u001b[0m \u001b[0mcls\u001b[0m \u001b[0;32mis\u001b[0m \u001b[0;32mnot\u001b[0m \u001b[0mobject\u001b[0m\u001b[0;31m \u001b[0m\u001b[0;31m\\\u001b[0m\u001b[0;34m\u001b[0m\u001b[0;34m\u001b[0m\u001b[0m\n\u001b[1;32m    393\u001b[0m                                 \u001b[0;32mand\u001b[0m \u001b[0mcallable\u001b[0m\u001b[0;34m(\u001b[0m\u001b[0mcls\u001b[0m\u001b[0;34m.\u001b[0m\u001b[0m__dict__\u001b[0m\u001b[0;34m.\u001b[0m\u001b[0mget\u001b[0m\u001b[0;34m(\u001b[0m\u001b[0;34m'__repr__'\u001b[0m\u001b[0;34m)\u001b[0m\u001b[0;34m)\u001b[0m\u001b[0;34m:\u001b[0m\u001b[0;34m\u001b[0m\u001b[0;34m\u001b[0m\u001b[0m\n\u001b[0;32m--> 394\u001b[0;31m                             \u001b[0;32mreturn\u001b[0m \u001b[0m_repr_pprint\u001b[0m\u001b[0;34m(\u001b[0m\u001b[0mobj\u001b[0m\u001b[0;34m,\u001b[0m \u001b[0mself\u001b[0m\u001b[0;34m,\u001b[0m \u001b[0mcycle\u001b[0m\u001b[0;34m)\u001b[0m\u001b[0;34m\u001b[0m\u001b[0;34m\u001b[0m\u001b[0m\n\u001b[0m\u001b[1;32m    395\u001b[0m \u001b[0;34m\u001b[0m\u001b[0m\n\u001b[1;32m    396\u001b[0m             \u001b[0;32mreturn\u001b[0m \u001b[0m_default_pprint\u001b[0m\u001b[0;34m(\u001b[0m\u001b[0mobj\u001b[0m\u001b[0;34m,\u001b[0m \u001b[0mself\u001b[0m\u001b[0;34m,\u001b[0m \u001b[0mcycle\u001b[0m\u001b[0;34m)\u001b[0m\u001b[0;34m\u001b[0m\u001b[0;34m\u001b[0m\u001b[0m\n",
      "\u001b[0;32m~/.conda/envs/rmg_julia_env/lib/python3.7/site-packages/IPython/lib/pretty.py\u001b[0m in \u001b[0;36m_repr_pprint\u001b[0;34m(obj, p, cycle)\u001b[0m\n\u001b[1;32m    698\u001b[0m     \u001b[0;34m\"\"\"A pprint that just redirects to the normal repr function.\"\"\"\u001b[0m\u001b[0;34m\u001b[0m\u001b[0;34m\u001b[0m\u001b[0m\n\u001b[1;32m    699\u001b[0m     \u001b[0;31m# Find newlines and replace them with p.break_()\u001b[0m\u001b[0;34m\u001b[0m\u001b[0;34m\u001b[0m\u001b[0;34m\u001b[0m\u001b[0m\n\u001b[0;32m--> 700\u001b[0;31m     \u001b[0moutput\u001b[0m \u001b[0;34m=\u001b[0m \u001b[0mrepr\u001b[0m\u001b[0;34m(\u001b[0m\u001b[0mobj\u001b[0m\u001b[0;34m)\u001b[0m\u001b[0;34m\u001b[0m\u001b[0;34m\u001b[0m\u001b[0m\n\u001b[0m\u001b[1;32m    701\u001b[0m     \u001b[0mlines\u001b[0m \u001b[0;34m=\u001b[0m \u001b[0moutput\u001b[0m\u001b[0;34m.\u001b[0m\u001b[0msplitlines\u001b[0m\u001b[0;34m(\u001b[0m\u001b[0;34m)\u001b[0m\u001b[0;34m\u001b[0m\u001b[0;34m\u001b[0m\u001b[0m\n\u001b[1;32m    702\u001b[0m     \u001b[0;32mwith\u001b[0m \u001b[0mp\u001b[0m\u001b[0;34m.\u001b[0m\u001b[0mgroup\u001b[0m\u001b[0;34m(\u001b[0m\u001b[0;34m)\u001b[0m\u001b[0;34m:\u001b[0m\u001b[0;34m\u001b[0m\u001b[0;34m\u001b[0m\u001b[0m\n",
      "\u001b[0;32m~/_02_RMG_envs/RMG_julia_env/RMG-Py/rmgpy/data/kinetics/library.py\u001b[0m in \u001b[0;36m__repr__\u001b[0;34m(self)\u001b[0m\n\u001b[1;32m    129\u001b[0m         \u001b[0;32mif\u001b[0m \u001b[0mself\u001b[0m\u001b[0;34m.\u001b[0m\u001b[0mproducts\u001b[0m \u001b[0;32mis\u001b[0m \u001b[0;32mnot\u001b[0m \u001b[0;32mNone\u001b[0m\u001b[0;34m:\u001b[0m \u001b[0mstring\u001b[0m \u001b[0;34m+=\u001b[0m \u001b[0;34m'products={0!r}, '\u001b[0m\u001b[0;34m.\u001b[0m\u001b[0mformat\u001b[0m\u001b[0;34m(\u001b[0m\u001b[0mself\u001b[0m\u001b[0;34m.\u001b[0m\u001b[0mproducts\u001b[0m\u001b[0;34m)\u001b[0m\u001b[0;34m\u001b[0m\u001b[0;34m\u001b[0m\u001b[0m\n\u001b[1;32m    130\u001b[0m         \u001b[0;32mif\u001b[0m \u001b[0mself\u001b[0m\u001b[0;34m.\u001b[0m\u001b[0mspecific_collider\u001b[0m \u001b[0;32mis\u001b[0m \u001b[0;32mnot\u001b[0m \u001b[0;32mNone\u001b[0m\u001b[0;34m:\u001b[0m \u001b[0mstring\u001b[0m \u001b[0;34m+=\u001b[0m \u001b[0;34m'specific_collider={0!r}, '\u001b[0m\u001b[0;34m.\u001b[0m\u001b[0mformat\u001b[0m\u001b[0;34m(\u001b[0m\u001b[0mself\u001b[0m\u001b[0;34m.\u001b[0m\u001b[0mspecific_collider\u001b[0m\u001b[0;34m)\u001b[0m\u001b[0;34m\u001b[0m\u001b[0;34m\u001b[0m\u001b[0m\n\u001b[0;32m--> 131\u001b[0;31m         \u001b[0;32mif\u001b[0m \u001b[0mself\u001b[0m\u001b[0;34m.\u001b[0m\u001b[0mkinetics\u001b[0m \u001b[0;32mis\u001b[0m \u001b[0;32mnot\u001b[0m \u001b[0;32mNone\u001b[0m\u001b[0;34m:\u001b[0m \u001b[0mstring\u001b[0m \u001b[0;34m+=\u001b[0m \u001b[0;34m'kinetics={0!r}, '\u001b[0m\u001b[0;34m.\u001b[0m\u001b[0mformat\u001b[0m\u001b[0;34m(\u001b[0m\u001b[0mself\u001b[0m\u001b[0;34m.\u001b[0m\u001b[0mkinetics\u001b[0m\u001b[0;34m)\u001b[0m\u001b[0;34m\u001b[0m\u001b[0;34m\u001b[0m\u001b[0m\n\u001b[0m\u001b[1;32m    132\u001b[0m         \u001b[0;32mif\u001b[0m \u001b[0;32mnot\u001b[0m \u001b[0mself\u001b[0m\u001b[0;34m.\u001b[0m\u001b[0mreversible\u001b[0m\u001b[0;34m:\u001b[0m \u001b[0mstring\u001b[0m \u001b[0;34m+=\u001b[0m \u001b[0;34m'reversible={0}, '\u001b[0m\u001b[0;34m.\u001b[0m\u001b[0mformat\u001b[0m\u001b[0;34m(\u001b[0m\u001b[0mself\u001b[0m\u001b[0;34m.\u001b[0m\u001b[0mreversible\u001b[0m\u001b[0;34m)\u001b[0m\u001b[0;34m\u001b[0m\u001b[0;34m\u001b[0m\u001b[0m\n\u001b[1;32m    133\u001b[0m         \u001b[0;32mif\u001b[0m \u001b[0mself\u001b[0m\u001b[0;34m.\u001b[0m\u001b[0mtransition_state\u001b[0m \u001b[0;32mis\u001b[0m \u001b[0;32mnot\u001b[0m \u001b[0;32mNone\u001b[0m\u001b[0;34m:\u001b[0m \u001b[0mstring\u001b[0m \u001b[0;34m+=\u001b[0m \u001b[0;34m'transition_state={0!r}, '\u001b[0m\u001b[0;34m.\u001b[0m\u001b[0mformat\u001b[0m\u001b[0;34m(\u001b[0m\u001b[0mself\u001b[0m\u001b[0;34m.\u001b[0m\u001b[0mtransition_state\u001b[0m\u001b[0;34m)\u001b[0m\u001b[0;34m\u001b[0m\u001b[0;34m\u001b[0m\u001b[0m\n",
      "\u001b[0;32m~/_02_RMG_envs/RMG_julia_env/RMG-Py/rmgpy/kinetics/surface.pyx\u001b[0m in \u001b[0;36mrmgpy.kinetics.surface.SurfaceArrhenius.__repr__\u001b[0;34m()\u001b[0m\n",
      "\u001b[0;31mAttributeError\u001b[0m: 'tuple' object has no attribute 'value'"
     ]
    },
    {
     "data": {
      "image/png": "[encoded data removed]"
     },
     "metadata": {},
     "output_type": "display_data"
    },
    {
     "name": "stdout",
     "output_type": "stream",
     "text": [
      "rxn_source: Surface/CPOX_Pt/Deutschmann2006_adjusted\n"
     ]
    }
   ],
   "source": [
    "# get first rxn from the mechanism\n",
    "rxn_index = 7\n",
    "display(orig_model[1][rxn_index])\n",
    "\n",
    "# ensure it is the same as the first one in the perturbed model\n",
    "pert_model[1][rxn_index].is_isomorphic(orig_model[1][rxn_index])\n",
    "\n",
    "print(\"rxn_source:\", pert_model[1][rxn_index].family)"
   ]
  },
  {
   "cell_type": "code",
   "execution_count": 20,
   "id": "6a7958df",
   "metadata": {
    "collapsed": true
   },
   "outputs": [
    {
     "data": {
      "text/plain": [
       "['BaseTestSuite',\n",
       " 'FunctionTestCase',\n",
       " 'SkipTest',\n",
       " 'TestCase',\n",
       " 'TestLoader',\n",
       " 'TestProgram',\n",
       " 'TestResult',\n",
       " 'TestSuite',\n",
       " 'TextTestResult',\n",
       " 'TextTestRunner',\n",
       " '_TextTestResult',\n",
       " '__all__',\n",
       " '__builtins__',\n",
       " '__cached__',\n",
       " '__doc__',\n",
       " '__file__',\n",
       " '__loader__',\n",
       " '__name__',\n",
       " '__package__',\n",
       " '__path__',\n",
       " '__spec__',\n",
       " '__unittest',\n",
       " 'case',\n",
       " 'defaultTestLoader',\n",
       " 'expectedFailure',\n",
       " 'findTestCases',\n",
       " 'getTestCaseNames',\n",
       " 'installHandler',\n",
       " 'load_tests',\n",
       " 'loader',\n",
       " 'main',\n",
       " 'makeSuite',\n",
       " 'registerResult',\n",
       " 'removeHandler',\n",
       " 'removeResult',\n",
       " 'result',\n",
       " 'runner',\n",
       " 'signals',\n",
       " 'skip',\n",
       " 'skipIf',\n",
       " 'skipUnless',\n",
       " 'suite',\n",
       " 'util']"
      ]
     },
     "execution_count": 20,
     "metadata": {},
     "output_type": "execute_result"
    }
   ],
   "source": [
    "dir(ut)"
   ]
  },
  {
   "cell_type": "code",
   "execution_count": 21,
   "id": "318d395a",
   "metadata": {},
   "outputs": [
    {
     "name": "stdout",
     "output_type": "stream",
     "text": [
      "original: 117599.688 \n",
      "Perturbed: 128791.888 \n",
      "perturbation_value: 128792.203125\n",
      "11192.19921875 11192.200000000012\n"
     ]
    }
   ],
   "source": [
    "sobol_col = 'CPOX_Pt/Deutschmann2006_adjusted/16/OCX + OX <=> CO2X + Pt/Ea'\n",
    "\n",
    "Ea_orig = orig_model[1][rxn_index].kinetics.Ea.value_si\n",
    "Ea_pert = pert_model[1][rxn_index].kinetics.Ea.value_si\n",
    "sobol_pert = sobol_map[sobol_col][1][pert]\n",
    "sobol_pert_value = x_sobol[pert,sobol_map[sobol_col][0]]\n",
    "delta_E0 = float(DELTA_E0_MAX_J_MOL_KN - 2.0 * sobol_pert_value * DELTA_E0_MAX_J_MOL_KN)\n",
    "\n",
    "print(\"original: {0} \\nPerturbed: {1} \\nperturbation_value: {2}\".format(Ea_orig, Ea_pert, sobol_pert))\n",
    "print(delta_E0, Ea_pert-Ea_orig)"
   ]
  },
  {
   "cell_type": "code",
   "execution_count": 22,
   "id": "24cf8959",
   "metadata": {},
   "outputs": [
    {
     "name": "stdout",
     "output_type": "stream",
     "text": [
      "original: 3.700000e+15 \n",
      "Perturbed: 9.729780e+15 \n",
      "perturbation_value: 9.729780e+17\n",
      "9729780334155516.0 6029780000000002.0\n",
      "3.7e+21 cm^3/(mol*s)\n",
      "9.72978e+21 cm^3/(mol*s)\n"
     ]
    }
   ],
   "source": [
    "sobol_col = 'CPOX_Pt/Deutschmann2006_adjusted/16/OCX + OX <=> CO2X + Pt/A'\n",
    "\n",
    "A_orig = orig_model[1][rxn_index].kinetics.A.value_si\n",
    "A_pert = pert_model[1][rxn_index].kinetics.A.value_si\n",
    "sobol_pert = sobol_map[sobol_col][1][pert]\n",
    "sobol_pert_value = x_sobol[pert,sobol_map[sobol_col][0]]\n",
    "delta_A = float(DELTA_A_MAX_EXP_KN - 2.0 * sobol_pert_value * DELTA_A_MAX_EXP_KN)\n",
    "A_perturbed = A_orig*10**delta_A\n",
    "\n",
    "print(\"original: {0:e} \\nPerturbed: {1:e} \\nperturbation_value: {2:e}\".format(A_orig, A_pert, sobol_pert))\n",
    "print(A_perturbed, A_pert-A_orig)\n",
    "print(orig_model[1][rxn_index].kinetics.A)\n",
    "print(pert_model[1][rxn_index].kinetics.A)"
   ]
  },
  {
   "cell_type": "code",
   "execution_count": 33,
   "id": "f555ec19",
   "metadata": {},
   "outputs": [
    {
     "data": {
      "text/plain": [
       "(3.7e+21,'cm^3/(mol*s)')"
      ]
     },
     "execution_count": 33,
     "metadata": {},
     "output_type": "execute_result"
    }
   ],
   "source": [
    "orig_model[1][rxn_index].kinetics.A"
   ]
  },
  {
   "cell_type": "code",
   "execution_count": 23,
   "id": "5015dfd7",
   "metadata": {},
   "outputs": [
    {
     "data": {
      "text/plain": [
       "'3.700000e+21'"
      ]
     },
     "execution_count": 23,
     "metadata": {},
     "output_type": "execute_result"
    }
   ],
   "source": [
    "\"{0:e}\".format(orig_model[1][rxn_index].kinetics.A.value)"
   ]
  },
  {
   "cell_type": "code",
   "execution_count": 24,
   "id": "4a7cc86c",
   "metadata": {},
   "outputs": [
    {
     "data": {
      "text/plain": [
       "tensor(0.2900)"
      ]
     },
     "execution_count": 24,
     "metadata": {},
     "output_type": "execute_result"
    }
   ],
   "source": [
    "sobol_pert_value"
   ]
  },
  {
   "cell_type": "code",
   "execution_count": 30,
   "id": "1b4e3c9f",
   "metadata": {},
   "outputs": [
    {
     "data": {
      "text/plain": [
       "170"
      ]
     },
     "execution_count": 30,
     "metadata": {},
     "output_type": "execute_result"
    }
   ],
   "source": [
    "sobol_map[sobol_col][0]"
   ]
  },
  {
   "cell_type": "code",
   "execution_count": 31,
   "id": "f0de287e",
   "metadata": {},
   "outputs": [
    {
     "data": {
      "text/plain": [
       "tensor([0.6556, 0.0540, 0.8710, 0.2900, 0.5993, 0.2009, 0.8760, 0.5270, 0.3350,\n",
       "        0.9991])"
      ]
     },
     "execution_count": 31,
     "metadata": {},
     "output_type": "execute_result"
    }
   ],
   "source": [
    "\n",
    "x_sobol[:,sobol_map[sobol_col][0]]"
   ]
  },
  {
   "cell_type": "code",
   "execution_count": 26,
   "id": "d734c643",
   "metadata": {
    "scrolled": true
   },
   "outputs": [
    {
     "data": {
      "text/plain": [
       "tensor([1.8070e+17, 2.8855e+18, 6.7012e+16, 9.7298e+17, 2.3425e+17, 1.4670e+18,\n",
       "        6.5481e+16, 3.2677e+17, 7.9108e+17, 3.7153e+16])"
      ]
     },
     "execution_count": 26,
     "metadata": {},
     "output_type": "execute_result"
    }
   ],
   "source": [
    "sobol_map[sobol_col][1]"
   ]
  },
  {
   "cell_type": "code",
   "execution_count": 90,
   "id": "48f12f6b",
   "metadata": {},
   "outputs": [
    {
     "data": {
      "text/plain": [
       "'9.729780e+15'"
      ]
     },
     "execution_count": 90,
     "metadata": {},
     "output_type": "execute_result"
    }
   ],
   "source": [
    "delta_A = float(DELTA_A_MAX_EXP_KN - 2.0 * sobol_pert_value * DELTA_A_MAX_EXP_KN)\n",
    "\"{0:e}\".format(A_orig*10**delta_A)"
   ]
  },
  {
   "cell_type": "code",
   "execution_count": null,
   "id": "1327cfff",
   "metadata": {},
   "outputs": [],
   "source": [
    "dir(rxn.kinetics.Ea.value_si)"
   ]
  },
  {
   "cell_type": "code",
   "execution_count": null,
   "id": "fc2163fd",
   "metadata": {},
   "outputs": [],
   "source": [
    "deut_str = \"Surface/CPOX_Pt/Deutschmann2006_adjusted\"\n",
    "for r_i, rxn in enumerate(orig_model[1]):\n",
    "    # get first rxn from the mechanism\n",
    "    if rxn.family == deut_str:\n",
    "        display(rxn)\n",
    "        \n",
    "        # ensure it is the same as the first one in the perturbed model\n",
    "        print(r_i, rxn.is_isomorphic(pert_model[1][r_i]), type(rxn.kinetics))"
   ]
  },
  {
   "cell_type": "code",
   "execution_count": 49,
   "id": "0ed2e617",
   "metadata": {},
   "outputs": [
    {
     "data": {
      "text/plain": [
       "169"
      ]
     },
     "execution_count": 49,
     "metadata": {},
     "output_type": "execute_result"
    }
   ],
   "source": [
    "sobol_map['CPOX_Pt/Deutschmann2006_adjusted/16/OCX + OX <=> CO2X + Pt/Ea'][0]"
   ]
  },
  {
   "cell_type": "code",
   "execution_count": 35,
   "id": "7e21e80b",
   "metadata": {},
   "outputs": [
    {
     "data": {
      "text/plain": [
       "['Surface_Abstraction/Abstracting;Donating/alpha',\n",
       " 'Surface_Abstraction/Abstracting;Donating/A',\n",
       " 'Surface_Abstraction/Abstracting;Donating/E0',\n",
       " 'Surface_Abstraction/Abstracting;*R-H/alpha',\n",
       " 'Surface_Abstraction/Abstracting;*R-H/A',\n",
       " 'Surface_Abstraction/Abstracting;*R-H/E0',\n",
       " 'Surface_Abstraction/O;*C-H/alpha',\n",
       " 'Surface_Abstraction/O;*C-H/A',\n",
       " 'Surface_Abstraction/O;*C-H/E0',\n",
       " 'Surface_Abstraction/O;*OH/alpha',\n",
       " 'Surface_Abstraction/O;*OH/A',\n",
       " 'Surface_Abstraction/O;*OH/E0',\n",
       " 'Surface_Abstraction/C;*C-H/alpha',\n",
       " 'Surface_Abstraction/C;*C-H/A',\n",
       " 'Surface_Abstraction/C;*C-H/E0',\n",
       " 'Surface_Abstraction_Beta/Combined;Adsorbate1/alpha',\n",
       " 'Surface_Abstraction_Beta/Combined;Adsorbate1/A',\n",
       " 'Surface_Abstraction_Beta/Combined;Adsorbate1/E0',\n",
       " 'Surface_Abstraction_Beta/C-H;O/alpha',\n",
       " 'Surface_Abstraction_Beta/C-H;O/A',\n",
       " 'Surface_Abstraction_Beta/C-H;O/E0',\n",
       " 'Surface_Abstraction_Beta/O-H;O/alpha',\n",
       " 'Surface_Abstraction_Beta/O-H;O/A',\n",
       " 'Surface_Abstraction_Beta/O-H;O/E0',\n",
       " 'Surface_Abstraction_Beta_double_vdW/Combined;Adsorbate1/alpha',\n",
       " 'Surface_Abstraction_Beta_double_vdW/Combined;Adsorbate1/A',\n",
       " 'Surface_Abstraction_Beta_double_vdW/Combined;Adsorbate1/E0',\n",
       " 'Surface_Abstraction_Beta_double_vdW/C-H;OH/alpha',\n",
       " 'Surface_Abstraction_Beta_double_vdW/C-H;OH/A',\n",
       " 'Surface_Abstraction_Beta_double_vdW/C-H;OH/E0',\n",
       " 'Surface_Abstraction_Beta_double_vdW/O-H;OH/alpha',\n",
       " 'Surface_Abstraction_Beta_double_vdW/O-H;OH/A',\n",
       " 'Surface_Abstraction_Beta_double_vdW/O-H;OH/E0',\n",
       " 'Surface_Abstraction_Beta_vdW/Combined;Adsorbate1/alpha',\n",
       " 'Surface_Abstraction_Beta_vdW/Combined;Adsorbate1/A',\n",
       " 'Surface_Abstraction_Beta_vdW/Combined;Adsorbate1/E0',\n",
       " 'Surface_Abstraction_Beta_vdW/C-H;O/alpha',\n",
       " 'Surface_Abstraction_Beta_vdW/C-H;O/A',\n",
       " 'Surface_Abstraction_Beta_vdW/C-H;O/E0',\n",
       " 'Surface_Abstraction_Beta_vdW/O-H;O/alpha',\n",
       " 'Surface_Abstraction_Beta_vdW/O-H;O/A',\n",
       " 'Surface_Abstraction_Beta_vdW/O-H;O/E0',\n",
       " 'Surface_Abstraction_Single_vdW/Donating;Abstracting/alpha',\n",
       " 'Surface_Abstraction_Single_vdW/Donating;Abstracting/A',\n",
       " 'Surface_Abstraction_Single_vdW/Donating;Abstracting/E0',\n",
       " 'Surface_Abstraction_vdW/AdsorbateVdW;Adsorbate1/alpha',\n",
       " 'Surface_Abstraction_vdW/AdsorbateVdW;Adsorbate1/A',\n",
       " 'Surface_Abstraction_vdW/AdsorbateVdW;Adsorbate1/E0',\n",
       " 'Surface_Addition_Single_vdW/AdsorbateVdW;Adsorbate1/alpha',\n",
       " 'Surface_Addition_Single_vdW/AdsorbateVdW;Adsorbate1/A',\n",
       " 'Surface_Addition_Single_vdW/AdsorbateVdW;Adsorbate1/E0',\n",
       " 'Surface_Adsorption_Abstraction_vdW/AdsorbateVdW;Adsorbate1/alpha',\n",
       " 'Surface_Adsorption_Abstraction_vdW/AdsorbateVdW;Adsorbate1/A',\n",
       " 'Surface_Adsorption_Abstraction_vdW/AdsorbateVdW;Adsorbate1/E0',\n",
       " 'Surface_Adsorption_Bidentate/Adsorbate;VacantSite1;VacantSite2/alpha',\n",
       " 'Surface_Adsorption_Bidentate/Adsorbate;VacantSite1;VacantSite2/A',\n",
       " 'Surface_Adsorption_Bidentate/Adsorbate;VacantSite1;VacantSite2/E0',\n",
       " 'Surface_Adsorption_Dissociative/Adsorbate;VacantSite1;VacantSite2/alpha',\n",
       " 'Surface_Adsorption_Dissociative/Adsorbate;VacantSite1;VacantSite2/A',\n",
       " 'Surface_Adsorption_Dissociative/Adsorbate;VacantSite1;VacantSite2/E0',\n",
       " 'Surface_Adsorption_Dissociative/H2;VacantSite1;VacantSite2/alpha',\n",
       " 'Surface_Adsorption_Dissociative/H2;VacantSite1;VacantSite2/A',\n",
       " 'Surface_Adsorption_Dissociative/H2;VacantSite1;VacantSite2/E0',\n",
       " 'Surface_Adsorption_Dissociative/CH4;VacantSite1;VacantSite2/alpha',\n",
       " 'Surface_Adsorption_Dissociative/CH4;VacantSite1;VacantSite2/A',\n",
       " 'Surface_Adsorption_Dissociative/CH4;VacantSite1;VacantSite2/E0',\n",
       " 'Surface_Adsorption_Dissociative/C2H6;VacantSite1;VacantSite2/alpha',\n",
       " 'Surface_Adsorption_Dissociative/C2H6;VacantSite1;VacantSite2/A',\n",
       " 'Surface_Adsorption_Dissociative/C2H6;VacantSite1;VacantSite2/E0',\n",
       " 'Surface_Adsorption_Dissociative/C3H8;VacantSite1;VacantSite2/alpha',\n",
       " 'Surface_Adsorption_Dissociative/C3H8;VacantSite1;VacantSite2/A',\n",
       " 'Surface_Adsorption_Dissociative/C3H8;VacantSite1;VacantSite2/E0',\n",
       " 'Surface_Adsorption_Dissociative_Double/Adsorbate;VacantSite1;VacantSite2/alpha',\n",
       " 'Surface_Adsorption_Dissociative_Double/Adsorbate;VacantSite1;VacantSite2/A',\n",
       " 'Surface_Adsorption_Dissociative_Double/Adsorbate;VacantSite1;VacantSite2/E0',\n",
       " 'Surface_Adsorption_Double/Adsorbate;VacantSite/alpha',\n",
       " 'Surface_Adsorption_Double/Adsorbate;VacantSite/A',\n",
       " 'Surface_Adsorption_Double/Adsorbate;VacantSite/E0',\n",
       " 'Surface_Adsorption_Single/Adsorbate;VacantSite/alpha',\n",
       " 'Surface_Adsorption_Single/Adsorbate;VacantSite/A',\n",
       " 'Surface_Adsorption_Single/Adsorbate;VacantSite/E0',\n",
       " 'Surface_Adsorption_vdW/Adsorbate;VacantSite/alpha',\n",
       " 'Surface_Adsorption_vdW/Adsorbate;VacantSite/A',\n",
       " 'Surface_Adsorption_vdW/Adsorbate;VacantSite/E0',\n",
       " 'Surface_Bidentate_Dissociation/Combined/alpha',\n",
       " 'Surface_Bidentate_Dissociation/Combined/A',\n",
       " 'Surface_Bidentate_Dissociation/Combined/E0',\n",
       " 'Surface_Dissociation/Combined;VacantSite/alpha',\n",
       " 'Surface_Dissociation/Combined;VacantSite/A',\n",
       " 'Surface_Dissociation/Combined;VacantSite/E0',\n",
       " 'Surface_Dissociation/C-O;VacantSite/alpha',\n",
       " 'Surface_Dissociation/C-O;VacantSite/A',\n",
       " 'Surface_Dissociation/C-O;VacantSite/E0',\n",
       " 'Surface_Dissociation/C-H;VacantSite/alpha',\n",
       " 'Surface_Dissociation/C-H;VacantSite/A',\n",
       " 'Surface_Dissociation/C-H;VacantSite/E0',\n",
       " 'Surface_Dissociation/O-H;VacantSite/alpha',\n",
       " 'Surface_Dissociation/O-H;VacantSite/A',\n",
       " 'Surface_Dissociation/O-H;VacantSite/E0',\n",
       " 'Surface_Dissociation/C-OH;VacantSite/alpha',\n",
       " 'Surface_Dissociation/C-OH;VacantSite/A',\n",
       " 'Surface_Dissociation/C-OH;VacantSite/E0',\n",
       " 'Surface_Dissociation/C-C;VacantSite/alpha',\n",
       " 'Surface_Dissociation/C-C;VacantSite/A',\n",
       " 'Surface_Dissociation/C-C;VacantSite/E0',\n",
       " 'Surface_Dissociation_Beta/Combined;VacantSite/alpha',\n",
       " 'Surface_Dissociation_Beta/Combined;VacantSite/A',\n",
       " 'Surface_Dissociation_Beta/Combined;VacantSite/E0',\n",
       " 'Surface_Dissociation_Beta/C-H;VacantSite/alpha',\n",
       " 'Surface_Dissociation_Beta/C-H;VacantSite/A',\n",
       " 'Surface_Dissociation_Beta/C-H;VacantSite/E0',\n",
       " 'Surface_Dissociation_Beta/O-H;VacantSite/alpha',\n",
       " 'Surface_Dissociation_Beta/O-H;VacantSite/A',\n",
       " 'Surface_Dissociation_Beta/O-H;VacantSite/E0',\n",
       " 'Surface_Dissociation_Beta_vdW/Combined;VacantSite/alpha',\n",
       " 'Surface_Dissociation_Beta_vdW/Combined;VacantSite/A',\n",
       " 'Surface_Dissociation_Beta_vdW/Combined;VacantSite/E0',\n",
       " 'Surface_Dissociation_Double/Combined;VacantSite/alpha',\n",
       " 'Surface_Dissociation_Double/Combined;VacantSite/A',\n",
       " 'Surface_Dissociation_Double/Combined;VacantSite/E0',\n",
       " 'Surface_Dissociation_Double/C=O;VacantSite/alpha',\n",
       " 'Surface_Dissociation_Double/C=O;VacantSite/A',\n",
       " 'Surface_Dissociation_Double/C=O;VacantSite/E0',\n",
       " 'Surface_Dissociation_Double_vdW/AdsorbateVdW;VacantSite/alpha',\n",
       " 'Surface_Dissociation_Double_vdW/AdsorbateVdW;VacantSite/A',\n",
       " 'Surface_Dissociation_Double_vdW/AdsorbateVdW;VacantSite/E0',\n",
       " 'Surface_Dissociation_vdW/Combined;VacantSite/alpha',\n",
       " 'Surface_Dissociation_vdW/Combined;VacantSite/A',\n",
       " 'Surface_Dissociation_vdW/Combined;VacantSite/E0',\n",
       " 'Surface_Dissociation_vdW/H2O;VacantSite/alpha',\n",
       " 'Surface_Dissociation_vdW/H2O;VacantSite/A',\n",
       " 'Surface_Dissociation_vdW/H2O;VacantSite/E0',\n",
       " 'Surface_Dissociation_vdW/C-OH;VacantSite/alpha',\n",
       " 'Surface_Dissociation_vdW/C-OH;VacantSite/A',\n",
       " 'Surface_Dissociation_vdW/C-OH;VacantSite/E0',\n",
       " 'Surface_Dissociation_vdW/C-H;VacantSite/alpha',\n",
       " 'Surface_Dissociation_vdW/C-H;VacantSite/A',\n",
       " 'Surface_Dissociation_vdW/C-H;VacantSite/E0',\n",
       " 'Surface_DoubleBond_to_Bidentate/Combined;VacantSite/alpha',\n",
       " 'Surface_DoubleBond_to_Bidentate/Combined;VacantSite/A',\n",
       " 'Surface_DoubleBond_to_Bidentate/Combined;VacantSite/E0',\n",
       " 'Surface_Dual_Adsorption_vdW/Adsorbate1;Adsorbate2/alpha',\n",
       " 'Surface_Dual_Adsorption_vdW/Adsorbate1;Adsorbate2/A',\n",
       " 'Surface_Dual_Adsorption_vdW/Adsorbate1;Adsorbate2/E0',\n",
       " 'Surface_EleyRideal_Addition_Multiple_Bond/Adsorbate1;Gas/alpha',\n",
       " 'Surface_EleyRideal_Addition_Multiple_Bond/Adsorbate1;Gas/A',\n",
       " 'Surface_EleyRideal_Addition_Multiple_Bond/Adsorbate1;Gas/E0',\n",
       " 'Surface_Migration/Adsorbate1/alpha',\n",
       " 'Surface_Migration/Adsorbate1/A',\n",
       " 'Surface_Migration/Adsorbate1/E0',\n",
       " 'Surface_vdW_to_Bidentate/Combined;VacantSite/alpha',\n",
       " 'Surface_vdW_to_Bidentate/Combined;VacantSite/A',\n",
       " 'Surface_vdW_to_Bidentate/Combined;VacantSite/E0',\n",
       " 'CPOX_Pt/Deutschmann2006_adjusted/1/H2 + Pt + Pt <=> HX + HX/Ea',\n",
       " 'CPOX_Pt/Deutschmann2006_adjusted/1/H2 + Pt + Pt <=> HX + HX/A',\n",
       " 'CPOX_Pt/Deutschmann2006_adjusted/4/CH4 + OX + Pt <=> CH3X + HOX/Ea',\n",
       " 'CPOX_Pt/Deutschmann2006_adjusted/4/CH4 + OX + Pt <=> CH3X + HOX/A',\n",
       " 'CPOX_Pt/Deutschmann2006_adjusted/5/CH4 + HOX + Pt <=> CH3X + H2OX/Ea',\n",
       " 'CPOX_Pt/Deutschmann2006_adjusted/5/CH4 + HOX + Pt <=> CH3X + H2OX/A',\n",
       " 'CPOX_Pt/Deutschmann2006_adjusted/6/H2O + Pt <=> H2OX/Ea',\n",
       " 'CPOX_Pt/Deutschmann2006_adjusted/6/H2O + Pt <=> H2OX/A',\n",
       " 'CPOX_Pt/Deutschmann2006_adjusted/7/CO2 + Pt <=> CO2X/Ea',\n",
       " 'CPOX_Pt/Deutschmann2006_adjusted/7/CO2 + Pt <=> CO2X/A',\n",
       " 'CPOX_Pt/Deutschmann2006_adjusted/10/OX + OX <=> Pt + Pt + O2/Ea',\n",
       " 'CPOX_Pt/Deutschmann2006_adjusted/10/OX + OX <=> Pt + Pt + O2/A',\n",
       " 'CPOX_Pt/Deutschmann2006_adjusted/12/OCX <=> CO + Pt/Ea',\n",
       " 'CPOX_Pt/Deutschmann2006_adjusted/12/OCX <=> CO + Pt/A',\n",
       " 'CPOX_Pt/Deutschmann2006_adjusted/15/OCX + Pt <=> CX + OX/Ea',\n",
       " 'CPOX_Pt/Deutschmann2006_adjusted/15/OCX + Pt <=> CX + OX/A',\n",
       " 'CPOX_Pt/Deutschmann2006_adjusted/16/OCX + OX <=> CO2X + Pt/Ea',\n",
       " 'CPOX_Pt/Deutschmann2006_adjusted/16/OCX + OX <=> CO2X + Pt/A',\n",
       " 'CPOX_Pt/Deutschmann2006_adjusted/18/OCX + HOX <=> CO2X + HX/Ea',\n",
       " 'CPOX_Pt/Deutschmann2006_adjusted/18/OCX + HOX <=> CO2X + HX/A',\n",
       " 'CPOX_Pt/Deutschmann2006_adjusted/21/CH2X + HX <=> CH3X + Pt/Ea',\n",
       " 'CPOX_Pt/Deutschmann2006_adjusted/21/CH2X + HX <=> CH3X + Pt/A',\n",
       " 'CPOX_Pt/Deutschmann2006_adjusted/22/CH2X + Pt <=> CHX + HX/Ea',\n",
       " 'CPOX_Pt/Deutschmann2006_adjusted/22/CH2X + Pt <=> CHX + HX/A',\n",
       " 'CPOX_Pt/Deutschmann2006_adjusted/24/CHX + Pt <=> CX + HX/Ea',\n",
       " 'CPOX_Pt/Deutschmann2006_adjusted/24/CHX + Pt <=> CX + HX/A',\n",
       " 'CPOX_Pt/Deutschmann2006_adjusted/27/HOX + Pt <=> HX + OX/Ea',\n",
       " 'CPOX_Pt/Deutschmann2006_adjusted/27/HOX + Pt <=> HX + OX/A',\n",
       " 'CPOX_Pt/Deutschmann2006_adjusted/28/H2OX + Pt <=> HX + HOX/Ea',\n",
       " 'CPOX_Pt/Deutschmann2006_adjusted/28/H2OX + Pt <=> HX + HOX/A',\n",
       " 'CPOX_Pt/Deutschmann2006_adjusted/30/H2OX + OX <=> HOX + HOX/Ea',\n",
       " 'CPOX_Pt/Deutschmann2006_adjusted/30/H2OX + OX <=> HOX + HOX/A',\n",
       " 'CPOX_Pt/Deutschmann2006_adjusted/31/H2 + CX <=> CH2X/Ea',\n",
       " 'CPOX_Pt/Deutschmann2006_adjusted/31/H2 + CX <=> CH2X/A',\n",
       " 'CPOX_Pt/Deutschmann2006_adjusted/34/CH3X + HX <=> CH4 + Pt + Pt/Ea',\n",
       " 'CPOX_Pt/Deutschmann2006_adjusted/34/CH3X + HX <=> CH4 + Pt + Pt/A',\n",
       " 'H',\n",
       " 'O',\n",
       " 'C',\n",
       " 'N',\n",
       " 'Vdw']"
      ]
     },
     "execution_count": 35,
     "metadata": {},
     "output_type": "execute_result"
    }
   ],
   "source": [
    "list(sobol_map.keys())"
   ]
  },
  {
   "cell_type": "code",
   "execution_count": 48,
   "id": "1207747d",
   "metadata": {},
   "outputs": [
    {
     "data": {
      "text/plain": [
       "tensor(0.3135)"
      ]
     },
     "execution_count": 48,
     "metadata": {},
     "output_type": "execute_result"
    }
   ],
   "source": [
    "x_sobol[3,169]"
   ]
  },
  {
   "cell_type": "code",
   "execution_count": null,
   "id": "906fefa7",
   "metadata": {},
   "outputs": [],
   "source": []
  }
 ],
 "metadata": {
  "kernelspec": {
   "display_name": "rmg_julia_env",
   "language": "python",
   "name": "rmg_julia_env"
  },
  "language_info": {
   "codemirror_mode": {
    "name": "ipython",
    "version": 3
   },
   "file_extension": ".py",
   "mimetype": "text/x-python",
   "name": "python",
   "nbconvert_exporter": "python",
   "pygments_lexer": "ipython3",
   "version": "3.7.11"
  }
 },
 "nbformat": 4,
 "nbformat_minor": 5
}
