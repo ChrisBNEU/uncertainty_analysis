{
 "cells": [
  {
   "cell_type": "code",
   "execution_count": 1,
   "metadata": {},
   "outputs": [
    {
     "name": "stdout",
     "output_type": "stream",
     "text": [
      "cantera version:  2.6\n",
      "import of julia packages took 69.01229500770569 seconds\n"
     ]
    }
   ],
   "source": [
    "import os\n",
    "import sys\n",
    "import numpy as np\n",
    "import pandas as pd\n",
    "import itertools\n",
    "import yaml\n",
    "import pickle\n",
    "import multiprocessing\n",
    "import time \n",
    "import matplotlib.pyplot as plt\n",
    "%matplotlib inline\n",
    "import ipywidgets as widgets\n",
    "from collections import OrderedDict\n",
    "\n",
    "repo_dir = os.path.dirname(os.path.dirname(os.path.abspath(\"\")))\n",
    "sys.path.append(repo_dir)\n",
    "\n",
    "from rmg_gua.gua_cantera.Spinning_basket_reactor.sbr import MinSBR\n",
    "\n",
    "import_julia = True\n",
    "if import_julia: \n",
    "# rms imports\n",
    "    impt1 = time.time()\n",
    "    from pyrms import rms\n",
    "    from diffeqpy import de\n",
    "    from julia import Main\n",
    "    from rmg_gua.gua_rms.sbr import rms_sbr\n",
    "    from rmg_gua.gua_peuqse.peuqse_utilities import get_highest_rms_file\n",
    "    impt2 = time.time()\n",
    "    print(f\"import of julia packages took {impt2-impt1} seconds\")"
   ]
  },
  {
   "cell_type": "markdown",
   "metadata": {},
   "source": [
    "## 1. load the peuqse optimization results"
   ]
  },
  {
   "cell_type": "code",
   "execution_count": 2,
   "metadata": {},
   "outputs": [],
   "source": [
    "# # load the results pickle file: \n",
    "# with open('./mcmc_map_logP.pkl', 'rb') as f:\n",
    "#     peuq_map_logp = pickle.load(f)\n",
    "\n",
    "# with open(\"./example_peuqse_results.pkl\", 'rb') as f:\n",
    "#     peuq_results = pickle.load(f) \n",
    "\n",
    "# # get all results with the same logP (sometimes peuqse has duplicate values)\n",
    "# match_res_list = []\n",
    "# for res in peuq_results:\n",
    "#     if res[0] == peuq_map_logp[0]:\n",
    "#         match_res_list.append(res)\n",
    "\n",
    "# match_res_list = np.array(match_res_list)\n",
    "\n",
    "# # Check that all the results with the same logP are in fact identical\n",
    "# if not (match_res_list == match_res_list[0]).all():\n",
    "#     raise Exception(\"Results with the same logP are not identical!\")\n",
    "\n",
    "# params = match_res_list[0][1:].astype(float).tolist()\n",
    "\n",
    "gsa_output_dir = os.path.join(repo_dir, \"rmg_gua\", \"gua_peuqse\", \"gsa_output.pkl\")\n",
    "\n",
    "# load the pickle file\n",
    "with open(gsa_output_dir, \"rb\") as f:\n",
    "    gsa_output = pickle.load(f)\n",
    "\n",
    "logp = [i[0] for i in gsa_output]\n",
    "vals = [i[1:] for i in gsa_output]\n",
    "\n",
    "max_id = np.argmax(logp)\n",
    "params = vals[max_id][0]\n"
   ]
  },
  {
   "cell_type": "code",
   "execution_count": null,
   "metadata": {},
   "outputs": [],
   "source": []
  },
  {
   "cell_type": "code",
   "execution_count": null,
   "metadata": {},
   "outputs": [],
   "source": []
  },
  {
   "cell_type": "code",
   "execution_count": 3,
   "metadata": {},
   "outputs": [],
   "source": [
    "# we need to load the old list of parameters, since we have added more. \n",
    "\n",
    "# path = os.path.join(repo_dir, \"rmg_gua\", \"gua_peuqse\", \"peuqse_runs\", \"test_run\", \"config\")\n",
    "path = os.path.join(repo_dir, \"rmg_gua\", \"rmg_model\", \"config\")\n",
    "with open(os.path.join(path,\"rule_config.yaml\"), 'r') as f:\n",
    "    rule_config_unflat = yaml.safe_load(f)\n",
    "\n",
    "with open(os.path.join(path,\"rule_unc_config.yaml\"), 'r') as f:\n",
    "    rule_unc_config_unflat = yaml.safe_load(f)\n",
    "\n",
    "with open(os.path.join(path,\"rule_ub_config.yaml\"), 'r') as f:\n",
    "    rule_ub_unflat = yaml.safe_load(f)\n",
    "\n",
    "with open(os.path.join(path,\"rule_lb_config.yaml\"), 'r') as f:\n",
    "    rule_lb_unflat = yaml.safe_load(f)\n",
    "\n",
    "\n",
    "# expand rule config and rule uncertainty so it is flat and not nested dict\n",
    "rule_config = {}\n",
    "minmax_dict = {}\n",
    "for key, value in rule_config_unflat.items():\n",
    "    for k, v in value.items():\n",
    "        rule_config[\"_\".join([key,k])] = v\n",
    "        # for the uncertainty, if the value is <0, use ub/lb. else, use +/- unc. \n",
    "        if rule_unc_config_unflat[key][k] < 0:\n",
    "            minmax_dict[\"_\".join([key,k])] = (rule_lb_unflat[key][k],rule_ub_unflat[key][k])\n",
    "        else: \n",
    "            minmax_dict[\"_\".join([key,k])] = (v - rule_unc_config_unflat[key][k], v + rule_unc_config_unflat[key][k])\n",
    "\n",
    "# open the thermo perturbation config files\n",
    "with open(os.path.join(path,'be_values.yaml'), 'r') as f:\n",
    "    be_values = yaml.safe_load(f)\n",
    "\n",
    "with open(os.path.join(path,\"be_unc.yaml\"), 'r') as f:    \n",
    "    be_unc = yaml.safe_load(f)\n",
    "\n",
    "# be's are going to just be +/- unc\n",
    "for key, value in be_values.items():\n",
    "    minmax_dict[key] = (value - be_unc[key], value + be_unc[key])\n",
    "\n",
    "\n",
    "label_list = list(rule_config.keys()) + list(be_values.keys())\n",
    "param_dict = dict(zip(label_list, params))\n",
    "\n",
    "\n",
    "\n"
   ]
  },
  {
   "cell_type": "markdown",
   "metadata": {},
   "source": [
    "### match up the parameters we are modifying"
   ]
  },
  {
   "cell_type": "code",
   "execution_count": 4,
   "metadata": {},
   "outputs": [],
   "source": [
    "with open(\"./config/rule_config.yaml\", 'r') as f:\n",
    "   rule_config_unflat = yaml.safe_load(f)\n",
    "\n",
    "with open(\"./config/rule_unc_config.yaml\", 'r') as f:\n",
    "    rule_unc_config_unflat = yaml.safe_load(f)\n",
    "\n",
    "with open(\"./config/rule_ub_config.yaml\", 'r') as f:\n",
    "    rule_ub_unflat = yaml.safe_load(f)\n",
    "\n",
    "with open(\"./config/rule_lb_config.yaml\", 'r') as f:\n",
    "    rule_lb_unflat = yaml.safe_load(f)\n",
    "\n",
    "\n",
    "# expand rule config and rule uncertainty so it is flat and not nested dict\n",
    "rule_config = {}\n",
    "minmax_dict = {}\n",
    "for key, value in rule_config_unflat.items():\n",
    "    for k, v in value.items():\n",
    "        rule_config[\"_\".join([key,k])] = v\n",
    "        # for the uncertainty, if the value is <0, use ub/lb. else, use +/- unc. \n",
    "        if rule_unc_config_unflat[key][k] < 0:\n",
    "            minmax_dict[\"_\".join([key,k])] = (rule_lb_unflat[key][k],rule_ub_unflat[key][k])\n",
    "        else: \n",
    "            minmax_dict[\"_\".join([key,k])] = (v - rule_unc_config_unflat[key][k], v + rule_unc_config_unflat[key][k])\n",
    "\n",
    "# open the thermo perturbation config files\n",
    "with open('./config/be_values.yaml', 'r') as f:\n",
    "    be_values = yaml.safe_load(f)\n",
    "\n",
    "with open(\"./config/be_unc.yaml\", 'r') as f:    \n",
    "    be_unc = yaml.safe_load(f)\n",
    "\n",
    "# be's are going to just be +/- unc\n",
    "for key, value in be_values.items():\n",
    "    minmax_dict[key] = (value - be_unc[key], value + be_unc[key])\n",
    "\n",
    "\n",
    "label_list_updated = list(rule_config.keys()) + list(be_values.keys())\n",
    "param_dict = dict(zip(label_list, params))\n",
    "\n",
    "if len(param_dict) != len(label_list):\n",
    "    raise Exception(\"Param dict and label list are not the same length!\")"
   ]
  },
  {
   "cell_type": "code",
   "execution_count": 5,
   "metadata": {},
   "outputs": [],
   "source": [
    "for label in label_list_updated:\n",
    "    if label not in label_list:\n",
    "        param_dict[label] = rule_config[label]\n",
    "        print(\"adding {} with value {} since it is in updated model\".format(label, param_dict[label]))\n",
    "\n",
    "for label in label_list:\n",
    "    if label not in label_list_updated:\n",
    "        param_dict.pop(label)\n",
    "        print(\"removing item {} since it is not in updated config\".format(label))\n",
    "\n",
    "# move the binding energies to the end of the dictionary. the sbr class expects them to be at the end.\n",
    "updated_param_dict = OrderedDict(param_dict)\n",
    "for key in be_values.keys():\n",
    "    updated_param_dict.move_to_end(key)\n",
    "\n",
    "param_dict = dict(updated_param_dict)"
   ]
  },
  {
   "cell_type": "code",
   "execution_count": 6,
   "metadata": {},
   "outputs": [
    {
     "data": {
      "application/vnd.jupyter.widget-view+json": {
       "model_id": "551019ebca834eb0aa0a965fb38a38a0",
       "version_major": 2,
       "version_minor": 0
      },
      "text/plain": [
       "FloatSlider(value=18.113070918536703, continuous_update=False, description='Surface_Abstraction : O;*C-H_A', l…"
      ]
     },
     "metadata": {},
     "output_type": "display_data"
    },
    {
     "data": {
      "application/vnd.jupyter.widget-view+json": {
       "model_id": "f0db7c41c1f6439f9a5069b8d1e85d00",
       "version_major": 2,
       "version_minor": 0
      },
      "text/plain": [
       "FloatSlider(value=137609.71286652345, continuous_update=False, description='Surface_Abstraction : O;*C-H_E0', …"
      ]
     },
     "metadata": {},
     "output_type": "display_data"
    },
    {
     "data": {
      "application/vnd.jupyter.widget-view+json": {
       "model_id": "aa797a21f7b34a4589b3b28c98e98834",
       "version_major": 2,
       "version_minor": 0
      },
      "text/plain": [
       "FloatSlider(value=0.6882168845177197, continuous_update=False, description='Surface_Abstraction : O;*C-H_alpha…"
      ]
     },
     "metadata": {},
     "output_type": "display_data"
    },
    {
     "data": {
      "application/vnd.jupyter.widget-view+json": {
       "model_id": "0935ce82e14a44cca074ae76221570ed",
       "version_major": 2,
       "version_minor": 0
      },
      "text/plain": [
       "FloatSlider(value=18.18475614247067, continuous_update=False, description='Surface_Abstraction_Beta_double_vdW…"
      ]
     },
     "metadata": {},
     "output_type": "display_data"
    },
    {
     "data": {
      "application/vnd.jupyter.widget-view+json": {
       "model_id": "2bfc80e45c1d42fc8d6b71420532c0f5",
       "version_major": 2,
       "version_minor": 0
      },
      "text/plain": [
       "FloatSlider(value=80676.76957316059, continuous_update=False, description='Surface_Abstraction_Beta_double_vdW…"
      ]
     },
     "metadata": {},
     "output_type": "display_data"
    },
    {
     "data": {
      "application/vnd.jupyter.widget-view+json": {
       "model_id": "117f1a30684145eab4670a3f9e74241b",
       "version_major": 2,
       "version_minor": 0
      },
      "text/plain": [
       "FloatSlider(value=0.9106478439025932, continuous_update=False, description='Surface_Abstraction_Beta_double_vd…"
      ]
     },
     "metadata": {},
     "output_type": "display_data"
    },
    {
     "data": {
      "application/vnd.jupyter.widget-view+json": {
       "model_id": "8113f351ec084890ae8186d25a6beb1c",
       "version_major": 2,
       "version_minor": 0
      },
      "text/plain": [
       "FloatSlider(value=17.941806661370894, continuous_update=False, description='Surface_Abstraction_Beta_double_vd…"
      ]
     },
     "metadata": {},
     "output_type": "display_data"
    },
    {
     "data": {
      "application/vnd.jupyter.widget-view+json": {
       "model_id": "6a9bcaabb96340e38ddf49ada9927047",
       "version_major": 2,
       "version_minor": 0
      },
      "text/plain": [
       "FloatSlider(value=112732.69220948595, continuous_update=False, description='Surface_Abstraction_Beta_double_vd…"
      ]
     },
     "metadata": {},
     "output_type": "display_data"
    },
    {
     "data": {
      "application/vnd.jupyter.widget-view+json": {
       "model_id": "031a6c2ec3ce4a01bd9d62d369036160",
       "version_major": 2,
       "version_minor": 0
      },
      "text/plain": [
       "FloatSlider(value=0.8889952114187414, continuous_update=False, description='Surface_Abstraction_Beta_double_vd…"
      ]
     },
     "metadata": {},
     "output_type": "display_data"
    },
    {
     "data": {
      "application/vnd.jupyter.widget-view+json": {
       "model_id": "2fd36c89a69c45c899bd78bdded68504",
       "version_major": 2,
       "version_minor": 0
      },
      "text/plain": [
       "FloatSlider(value=17.47827246302559, continuous_update=False, description='Surface_Abstraction_Beta_double_vdW…"
      ]
     },
     "metadata": {},
     "output_type": "display_data"
    },
    {
     "data": {
      "application/vnd.jupyter.widget-view+json": {
       "model_id": "bda982fb7e1543a893ff1e6eec49d68a",
       "version_major": 2,
       "version_minor": 0
      },
      "text/plain": [
       "FloatSlider(value=20822.01014200731, continuous_update=False, description='Surface_Abstraction_Beta_double_vdW…"
      ]
     },
     "metadata": {},
     "output_type": "display_data"
    },
    {
     "data": {
      "application/vnd.jupyter.widget-view+json": {
       "model_id": "e45e41aef74040d98aeb717c7bc90bff",
       "version_major": 2,
       "version_minor": 0
      },
      "text/plain": [
       "FloatSlider(value=0.022446690674116282, continuous_update=False, description='Surface_Abstraction_Beta_double_…"
      ]
     },
     "metadata": {},
     "output_type": "display_data"
    },
    {
     "data": {
      "application/vnd.jupyter.widget-view+json": {
       "model_id": "d7ce87dc7cc44610ade1951a39f51d57",
       "version_major": 2,
       "version_minor": 0
      },
      "text/plain": [
       "FloatSlider(value=17.702150600559936, continuous_update=False, description='Surface_Abstraction_Beta_double_vd…"
      ]
     },
     "metadata": {},
     "output_type": "display_data"
    },
    {
     "data": {
      "application/vnd.jupyter.widget-view+json": {
       "model_id": "f14a26f4cb5a4c02ad54a5bb4ce0f4a1",
       "version_major": 2,
       "version_minor": 0
      },
      "text/plain": [
       "FloatSlider(value=88206.74440262388, continuous_update=False, description='Surface_Abstraction_Beta_double_vdW…"
      ]
     },
     "metadata": {},
     "output_type": "display_data"
    },
    {
     "data": {
      "application/vnd.jupyter.widget-view+json": {
       "model_id": "b3d4490950d6421eb5a72451d822a2aa",
       "version_major": 2,
       "version_minor": 0
      },
      "text/plain": [
       "FloatSlider(value=0.7001043400875926, continuous_update=False, description='Surface_Abstraction_Beta_double_vd…"
      ]
     },
     "metadata": {},
     "output_type": "display_data"
    },
    {
     "data": {
      "application/vnd.jupyter.widget-view+json": {
       "model_id": "b2673c2acccc41808ede3c09894ee12f",
       "version_major": 2,
       "version_minor": 0
      },
      "text/plain": [
       "FloatSlider(value=16.486532825627567, continuous_update=False, description='Surface_Abstraction_Beta_double_vd…"
      ]
     },
     "metadata": {},
     "output_type": "display_data"
    },
    {
     "data": {
      "application/vnd.jupyter.widget-view+json": {
       "model_id": "bc5a806814f44b748f45f6c1a8e7b64c",
       "version_major": 2,
       "version_minor": 0
      },
      "text/plain": [
       "FloatSlider(value=111539.96865630374, continuous_update=False, description='Surface_Abstraction_Beta_double_vd…"
      ]
     },
     "metadata": {},
     "output_type": "display_data"
    },
    {
     "data": {
      "application/vnd.jupyter.widget-view+json": {
       "model_id": "02e146b57f094f19b88da60371dc3fd9",
       "version_major": 2,
       "version_minor": 0
      },
      "text/plain": [
       "FloatSlider(value=0.7138826901786495, continuous_update=False, description='Surface_Abstraction_Beta_double_vd…"
      ]
     },
     "metadata": {},
     "output_type": "display_data"
    },
    {
     "data": {
      "application/vnd.jupyter.widget-view+json": {
       "model_id": "a1a52f43a2554bedbbeb54176ded26f3",
       "version_major": 2,
       "version_minor": 0
      },
      "text/plain": [
       "FloatSlider(value=17.479783976263402, continuous_update=False, description='Surface_Abstraction_Beta_vdW : Abs…"
      ]
     },
     "metadata": {},
     "output_type": "display_data"
    },
    {
     "data": {
      "application/vnd.jupyter.widget-view+json": {
       "model_id": "acc60f41244149d5be2289c59df5f6f9",
       "version_major": 2,
       "version_minor": 0
      },
      "text/plain": [
       "FloatSlider(value=141159.38832864014, continuous_update=False, description='Surface_Abstraction_Beta_vdW : Abs…"
      ]
     },
     "metadata": {},
     "output_type": "display_data"
    },
    {
     "data": {
      "application/vnd.jupyter.widget-view+json": {
       "model_id": "8d3471f75e294e1888208e8fb6afb98b",
       "version_major": 2,
       "version_minor": 0
      },
      "text/plain": [
       "FloatSlider(value=0.7792385894535865, continuous_update=False, description='Surface_Abstraction_Beta_vdW : Abs…"
      ]
     },
     "metadata": {},
     "output_type": "display_data"
    },
    {
     "data": {
      "application/vnd.jupyter.widget-view+json": {
       "model_id": "ca0cefa6c3e744c287d4d63b4cbe8e7a",
       "version_major": 2,
       "version_minor": 0
      },
      "text/plain": [
       "FloatSlider(value=16.947859903849004, continuous_update=False, description='Surface_Abstraction_Beta_vdW : O;R…"
      ]
     },
     "metadata": {},
     "output_type": "display_data"
    },
    {
     "data": {
      "application/vnd.jupyter.widget-view+json": {
       "model_id": "c71e3c6ae7b24cb6b0b3b6d1c5ff9bd7",
       "version_major": 2,
       "version_minor": 0
      },
      "text/plain": [
       "FloatSlider(value=112901.71117325455, continuous_update=False, description='Surface_Abstraction_Beta_vdW : O;R…"
      ]
     },
     "metadata": {},
     "output_type": "display_data"
    },
    {
     "data": {
      "application/vnd.jupyter.widget-view+json": {
       "model_id": "4595969776144f3fa96213c832740c54",
       "version_major": 2,
       "version_minor": 0
      },
      "text/plain": [
       "FloatSlider(value=1.1177840563297083, continuous_update=False, description='Surface_Abstraction_Beta_vdW : O;R…"
      ]
     },
     "metadata": {},
     "output_type": "display_data"
    },
    {
     "data": {
      "application/vnd.jupyter.widget-view+json": {
       "model_id": "ce776c883ae24098989a1380eef12a61",
       "version_major": 2,
       "version_minor": 0
      },
      "text/plain": [
       "FloatSlider(value=17.463729000650364, continuous_update=False, description='Surface_Abstraction_Beta_vdW : O;R…"
      ]
     },
     "metadata": {},
     "output_type": "display_data"
    },
    {
     "data": {
      "application/vnd.jupyter.widget-view+json": {
       "model_id": "1bfe102c57d04f5ab1f92215441743b9",
       "version_major": 2,
       "version_minor": 0
      },
      "text/plain": [
       "FloatSlider(value=25613.849120836552, continuous_update=False, description='Surface_Abstraction_Beta_vdW : O;R…"
      ]
     },
     "metadata": {},
     "output_type": "display_data"
    },
    {
     "data": {
      "application/vnd.jupyter.widget-view+json": {
       "model_id": "759f32b432b24895bdd6071e976f851e",
       "version_major": 2,
       "version_minor": 0
      },
      "text/plain": [
       "FloatSlider(value=0.738326329144178, continuous_update=False, description='Surface_Abstraction_Beta_vdW : O;R-…"
      ]
     },
     "metadata": {},
     "output_type": "display_data"
    },
    {
     "data": {
      "application/vnd.jupyter.widget-view+json": {
       "model_id": "e064778575a14945b90ef1a79ae55f12",
       "version_major": 2,
       "version_minor": 0
      },
      "text/plain": [
       "FloatSlider(value=16.93360589729723, continuous_update=False, description='Surface_Abstraction_Beta_vdW : Abst…"
      ]
     },
     "metadata": {},
     "output_type": "display_data"
    },
    {
     "data": {
      "application/vnd.jupyter.widget-view+json": {
       "model_id": "457a7921da674870b4dad7999ea021fc",
       "version_major": 2,
       "version_minor": 0
      },
      "text/plain": [
       "FloatSlider(value=129953.7856636914, continuous_update=False, description='Surface_Abstraction_Beta_vdW : Abst…"
      ]
     },
     "metadata": {},
     "output_type": "display_data"
    },
    {
     "data": {
      "application/vnd.jupyter.widget-view+json": {
       "model_id": "b4dc37e716fe44069a00ba86fd1e3281",
       "version_major": 2,
       "version_minor": 0
      },
      "text/plain": [
       "FloatSlider(value=1.2050550408591576, continuous_update=False, description='Surface_Abstraction_Beta_vdW : Abs…"
      ]
     },
     "metadata": {},
     "output_type": "display_data"
    },
    {
     "data": {
      "application/vnd.jupyter.widget-view+json": {
       "model_id": "c55f831d096c4588bb5ec80958b577aa",
       "version_major": 2,
       "version_minor": 0
      },
      "text/plain": [
       "FloatSlider(value=17.230178059758973, continuous_update=False, description='Surface_Abstraction_Beta_vdW : O;R…"
      ]
     },
     "metadata": {},
     "output_type": "display_data"
    },
    {
     "data": {
      "application/vnd.jupyter.widget-view+json": {
       "model_id": "6b3da889ed544b2ba00e05607ab9e39d",
       "version_major": 2,
       "version_minor": 0
      },
      "text/plain": [
       "FloatSlider(value=132467.05858417234, continuous_update=False, description='Surface_Abstraction_Beta_vdW : O;R…"
      ]
     },
     "metadata": {},
     "output_type": "display_data"
    },
    {
     "data": {
      "application/vnd.jupyter.widget-view+json": {
       "model_id": "78e1189dacfd4364aba83c96f5f0c80e",
       "version_major": 2,
       "version_minor": 0
      },
      "text/plain": [
       "FloatSlider(value=0.7848688304881882, continuous_update=False, description='Surface_Abstraction_Beta_vdW : O;R…"
      ]
     },
     "metadata": {},
     "output_type": "display_data"
    },
    {
     "data": {
      "application/vnd.jupyter.widget-view+json": {
       "model_id": "e2b664ea82e547efa88d36ba22b8dc67",
       "version_major": 2,
       "version_minor": 0
      },
      "text/plain": [
       "FloatSlider(value=13.130535759109915, continuous_update=False, description='Surface_Abstraction_Single_vdW : D…"
      ]
     },
     "metadata": {},
     "output_type": "display_data"
    },
    {
     "data": {
      "application/vnd.jupyter.widget-view+json": {
       "model_id": "30d5f6a981324516bff39086b3066683",
       "version_major": 2,
       "version_minor": 0
      },
      "text/plain": [
       "FloatSlider(value=331.10347273953175, continuous_update=False, description='Surface_Abstraction_Single_vdW : D…"
      ]
     },
     "metadata": {},
     "output_type": "display_data"
    },
    {
     "data": {
      "application/vnd.jupyter.widget-view+json": {
       "model_id": "88b948319f3a4cb29b5abff683153f3a",
       "version_major": 2,
       "version_minor": 0
      },
      "text/plain": [
       "FloatSlider(value=0.4546305103472121, continuous_update=False, description='Surface_Abstraction_Single_vdW : D…"
      ]
     },
     "metadata": {},
     "output_type": "display_data"
    },
    {
     "data": {
      "application/vnd.jupyter.widget-view+json": {
       "model_id": "b3e2abc69c4e4d0ab7910acaf438072d",
       "version_major": 2,
       "version_minor": 0
      },
      "text/plain": [
       "FloatSlider(value=13.094720350376575, continuous_update=False, description='Surface_Abstraction_Single_vdW : C…"
      ]
     },
     "metadata": {},
     "output_type": "display_data"
    },
    {
     "data": {
      "application/vnd.jupyter.widget-view+json": {
       "model_id": "629f274b59684cc093fa485f39fc1f87",
       "version_major": 2,
       "version_minor": 0
      },
      "text/plain": [
       "FloatSlider(value=4708.615211792942, continuous_update=False, description='Surface_Abstraction_Single_vdW : C-…"
      ]
     },
     "metadata": {},
     "output_type": "display_data"
    },
    {
     "data": {
      "application/vnd.jupyter.widget-view+json": {
       "model_id": "efa08b9c4a484895a0e4b9cd69561f5d",
       "version_major": 2,
       "version_minor": 0
      },
      "text/plain": [
       "FloatSlider(value=0.4621274356574994, continuous_update=False, description='Surface_Abstraction_Single_vdW : C…"
      ]
     },
     "metadata": {},
     "output_type": "display_data"
    },
    {
     "data": {
      "application/vnd.jupyter.widget-view+json": {
       "model_id": "5e2f698c87dd4225b16e1dda9fe0ecf2",
       "version_major": 2,
       "version_minor": 0
      },
      "text/plain": [
       "FloatSlider(value=12.013073450456549, continuous_update=False, description='Surface_Abstraction_vdW : Adsorbat…"
      ]
     },
     "metadata": {},
     "output_type": "display_data"
    },
    {
     "data": {
      "application/vnd.jupyter.widget-view+json": {
       "model_id": "489d7bbaf3994f5c92f5593d1318fd4f",
       "version_major": 2,
       "version_minor": 0
      },
      "text/plain": [
       "FloatSlider(value=-5046.220273989236, continuous_update=False, description='Surface_Abstraction_vdW : Adsorbat…"
      ]
     },
     "metadata": {},
     "output_type": "display_data"
    },
    {
     "data": {
      "application/vnd.jupyter.widget-view+json": {
       "model_id": "b57af8e29d89483db8228d31358d6a8e",
       "version_major": 2,
       "version_minor": 0
      },
      "text/plain": [
       "FloatSlider(value=0.2892553173328508, continuous_update=False, description='Surface_Abstraction_vdW : Adsorbat…"
      ]
     },
     "metadata": {},
     "output_type": "display_data"
    },
    {
     "data": {
      "application/vnd.jupyter.widget-view+json": {
       "model_id": "42ab73a71d3d4c1d81139b31bbccae24",
       "version_major": 2,
       "version_minor": 0
      },
      "text/plain": [
       "FloatSlider(value=13.191093519418274, continuous_update=False, description='Surface_Abstraction_vdW : C-OH;*=C…"
      ]
     },
     "metadata": {},
     "output_type": "display_data"
    },
    {
     "data": {
      "application/vnd.jupyter.widget-view+json": {
       "model_id": "07a62d4945c843ea90f02301c968f734",
       "version_major": 2,
       "version_minor": 0
      },
      "text/plain": [
       "FloatSlider(value=20751.19715242264, continuous_update=False, description='Surface_Abstraction_vdW : C-OH;*=C=…"
      ]
     },
     "metadata": {},
     "output_type": "display_data"
    },
    {
     "data": {
      "application/vnd.jupyter.widget-view+json": {
       "model_id": "a02959f152e24b0499ffa3fac516da41",
       "version_major": 2,
       "version_minor": 0
      },
      "text/plain": [
       "FloatSlider(value=0.7809107032762995, continuous_update=False, description='Surface_Abstraction_vdW : C-OH;*=C…"
      ]
     },
     "metadata": {},
     "output_type": "display_data"
    },
    {
     "data": {
      "application/vnd.jupyter.widget-view+json": {
       "model_id": "218d1e9c50be4fa6b0a427894d36195f",
       "version_major": 2,
       "version_minor": 0
      },
      "text/plain": [
       "FloatSlider(value=12.824484117523935, continuous_update=False, description='Surface_Addition_Single_vdW : Adso…"
      ]
     },
     "metadata": {},
     "output_type": "display_data"
    },
    {
     "data": {
      "application/vnd.jupyter.widget-view+json": {
       "model_id": "0d90ab48a3e8455fbe062f966a62e87e",
       "version_major": 2,
       "version_minor": 0
      },
      "text/plain": [
       "FloatSlider(value=33530.90642392327, continuous_update=False, description='Surface_Addition_Single_vdW : Adsor…"
      ]
     },
     "metadata": {},
     "output_type": "display_data"
    },
    {
     "data": {
      "application/vnd.jupyter.widget-view+json": {
       "model_id": "c557ed2a0e9845ecbd941ece3b3f7c3d",
       "version_major": 2,
       "version_minor": 0
      },
      "text/plain": [
       "FloatSlider(value=0.16363874560914893, continuous_update=False, description='Surface_Addition_Single_vdW : Ads…"
      ]
     },
     "metadata": {},
     "output_type": "display_data"
    },
    {
     "data": {
      "application/vnd.jupyter.widget-view+json": {
       "model_id": "1716739fe6b34b5caf4aaa7684f01ba3",
       "version_major": 2,
       "version_minor": 0
      },
      "text/plain": [
       "FloatSlider(value=-1.067225581569086, continuous_update=False, description='Surface_Adsorption_Dissociative : …"
      ]
     },
     "metadata": {},
     "output_type": "display_data"
    },
    {
     "data": {
      "application/vnd.jupyter.widget-view+json": {
       "model_id": "c91cc91c491d45d38462516abdd9b5d7",
       "version_major": 2,
       "version_minor": 0
      },
      "text/plain": [
       "FloatSlider(value=102856.41955918256, continuous_update=False, description='Surface_Adsorption_Dissociative : …"
      ]
     },
     "metadata": {},
     "output_type": "display_data"
    },
    {
     "data": {
      "application/vnd.jupyter.widget-view+json": {
       "model_id": "57bd80869f2d47c5a240c7ff8ba6b725",
       "version_major": 2,
       "version_minor": 0
      },
      "text/plain": [
       "FloatSlider(value=0.8009208304244082, continuous_update=False, description='Surface_Adsorption_Dissociative : …"
      ]
     },
     "metadata": {},
     "output_type": "display_data"
    },
    {
     "data": {
      "application/vnd.jupyter.widget-view+json": {
       "model_id": "a41a7d0e0c38480881317240c9c378fe",
       "version_major": 2,
       "version_minor": 0
      },
      "text/plain": [
       "FloatSlider(value=-1.202296185179441, continuous_update=False, description='Surface_Adsorption_Dissociative : …"
      ]
     },
     "metadata": {},
     "output_type": "display_data"
    },
    {
     "data": {
      "application/vnd.jupyter.widget-view+json": {
       "model_id": "f8eef12b178d436fb21d213148e3a5a3",
       "version_major": 2,
       "version_minor": 0
      },
      "text/plain": [
       "FloatSlider(value=-4551.602472634919, continuous_update=False, description='Surface_Adsorption_Dissociative : …"
      ]
     },
     "metadata": {},
     "output_type": "display_data"
    },
    {
     "data": {
      "application/vnd.jupyter.widget-view+json": {
       "model_id": "e10b7a51f251476cba5ed285df8ca550",
       "version_major": 2,
       "version_minor": 0
      },
      "text/plain": [
       "FloatSlider(value=-0.18672732952503457, continuous_update=False, description='Surface_Adsorption_Dissociative …"
      ]
     },
     "metadata": {},
     "output_type": "display_data"
    },
    {
     "data": {
      "application/vnd.jupyter.widget-view+json": {
       "model_id": "589f81fdb1364167ba1165f647d06d59",
       "version_major": 2,
       "version_minor": 0
      },
      "text/plain": [
       "FloatSlider(value=-0.3122565814661004, continuous_update=False, description='Surface_Adsorption_Dissociative :…"
      ]
     },
     "metadata": {},
     "output_type": "display_data"
    },
    {
     "data": {
      "application/vnd.jupyter.widget-view+json": {
       "model_id": "59e0a882977c49dabcdd1e83a1bf8ffd",
       "version_major": 2,
       "version_minor": 0
      },
      "text/plain": [
       "FloatSlider(value=33588.9230760389, continuous_update=False, description='Surface_Adsorption_Dissociative : CH…"
      ]
     },
     "metadata": {},
     "output_type": "display_data"
    },
    {
     "data": {
      "application/vnd.jupyter.widget-view+json": {
       "model_id": "e5916299f9d44beb871300aae7a385bc",
       "version_major": 2,
       "version_minor": 0
      },
      "text/plain": [
       "FloatSlider(value=0.2178167924732406, continuous_update=False, description='Surface_Adsorption_Dissociative : …"
      ]
     },
     "metadata": {},
     "output_type": "display_data"
    },
    {
     "data": {
      "application/vnd.jupyter.widget-view+json": {
       "model_id": "32796d71b2204ddbbaab6a2dac950c6d",
       "version_major": 2,
       "version_minor": 0
      },
      "text/plain": [
       "FloatSlider(value=-1.0135555270383318, continuous_update=False, description='Surface_Adsorption_Dissociative :…"
      ]
     },
     "metadata": {},
     "output_type": "display_data"
    },
    {
     "data": {
      "application/vnd.jupyter.widget-view+json": {
       "model_id": "7b496f34136545738ff43c7ad40b05bc",
       "version_major": 2,
       "version_minor": 0
      },
      "text/plain": [
       "FloatSlider(value=115811.6626020668, continuous_update=False, description='Surface_Adsorption_Dissociative : C…"
      ]
     },
     "metadata": {},
     "output_type": "display_data"
    },
    {
     "data": {
      "application/vnd.jupyter.widget-view+json": {
       "model_id": "6982e808a75d4eaab3d0e658aa312891",
       "version_major": 2,
       "version_minor": 0
      },
      "text/plain": [
       "FloatSlider(value=0.911429410084492, continuous_update=False, description='Surface_Adsorption_Dissociative : C…"
      ]
     },
     "metadata": {},
     "output_type": "display_data"
    },
    {
     "data": {
      "application/vnd.jupyter.widget-view+json": {
       "model_id": "f0b24c7780d84ced90bf1360ca5a7a25",
       "version_major": 2,
       "version_minor": 0
      },
      "text/plain": [
       "FloatSlider(value=-0.4330061575935952, continuous_update=False, description='Surface_Adsorption_Dissociative :…"
      ]
     },
     "metadata": {},
     "output_type": "display_data"
    },
    {
     "data": {
      "application/vnd.jupyter.widget-view+json": {
       "model_id": "1dfa18e1974e44f58fbdecce3152c4e1",
       "version_major": 2,
       "version_minor": 0
      },
      "text/plain": [
       "FloatSlider(value=127630.69333763944, continuous_update=False, description='Surface_Adsorption_Dissociative : …"
      ]
     },
     "metadata": {},
     "output_type": "display_data"
    },
    {
     "data": {
      "application/vnd.jupyter.widget-view+json": {
       "model_id": "91aace0a31734d5487b6075c626d1144",
       "version_major": 2,
       "version_minor": 0
      },
      "text/plain": [
       "FloatSlider(value=0.3471064619444346, continuous_update=False, description='Surface_Adsorption_Dissociative : …"
      ]
     },
     "metadata": {},
     "output_type": "display_data"
    },
    {
     "data": {
      "application/vnd.jupyter.widget-view+json": {
       "model_id": "0aa3c2731061434fa08ee5547d6246c4",
       "version_major": 2,
       "version_minor": 0
      },
      "text/plain": [
       "FloatSlider(value=-1.1911120241313786, continuous_update=False, description='Surface_Adsorption_Dissociative :…"
      ]
     },
     "metadata": {},
     "output_type": "display_data"
    },
    {
     "data": {
      "application/vnd.jupyter.widget-view+json": {
       "model_id": "7ee5955936f24b8c8d428ce755d173b8",
       "version_major": 2,
       "version_minor": 0
      },
      "text/plain": [
       "FloatSlider(value=100791.14042949959, continuous_update=False, description='Surface_Adsorption_Dissociative : …"
      ]
     },
     "metadata": {},
     "output_type": "display_data"
    },
    {
     "data": {
      "application/vnd.jupyter.widget-view+json": {
       "model_id": "a406c8b48a254142b2e4f98075a8a5d0",
       "version_major": 2,
       "version_minor": 0
      },
      "text/plain": [
       "FloatSlider(value=0.646376247044044, continuous_update=False, description='Surface_Adsorption_Dissociative : C…"
      ]
     },
     "metadata": {},
     "output_type": "display_data"
    },
    {
     "data": {
      "application/vnd.jupyter.widget-view+json": {
       "model_id": "7fbce28303ba430b93d09e416eb72b4a",
       "version_major": 2,
       "version_minor": 0
      },
      "text/plain": [
       "FloatSlider(value=-8.032520589890805, continuous_update=False, description='Surface_Adsorption_Dissociative : …"
      ]
     },
     "metadata": {},
     "output_type": "display_data"
    },
    {
     "data": {
      "application/vnd.jupyter.widget-view+json": {
       "model_id": "a3bcb093e0ec4bef99180891ae33cdeb",
       "version_major": 2,
       "version_minor": 0
      },
      "text/plain": [
       "FloatSlider(value=66027.15156766903, continuous_update=False, description='Surface_Adsorption_Dissociative : H…"
      ]
     },
     "metadata": {},
     "output_type": "display_data"
    },
    {
     "data": {
      "application/vnd.jupyter.widget-view+json": {
       "model_id": "cf76fbd5cb024e87829866a346c55946",
       "version_major": 2,
       "version_minor": 0
      },
      "text/plain": [
       "FloatSlider(value=0.8135458556423565, continuous_update=False, description='Surface_Adsorption_Dissociative : …"
      ]
     },
     "metadata": {},
     "output_type": "display_data"
    },
    {
     "data": {
      "application/vnd.jupyter.widget-view+json": {
       "model_id": "c4c2ede9f8244f6facbc27c396506000",
       "version_major": 2,
       "version_minor": 0
      },
      "text/plain": [
       "FloatSlider(value=-8.079598964998947, continuous_update=False, description='Surface_Adsorption_Dissociative_Do…"
      ]
     },
     "metadata": {},
     "output_type": "display_data"
    },
    {
     "data": {
      "application/vnd.jupyter.widget-view+json": {
       "model_id": "11102edbd01f4a719b46c4ae23196048",
       "version_major": 2,
       "version_minor": 0
      },
      "text/plain": [
       "FloatSlider(value=135171.73619989664, continuous_update=False, description='Surface_Adsorption_Dissociative_Do…"
      ]
     },
     "metadata": {},
     "output_type": "display_data"
    },
    {
     "data": {
      "application/vnd.jupyter.widget-view+json": {
       "model_id": "3c422889d9ab449291110435830e2082",
       "version_major": 2,
       "version_minor": 0
      },
      "text/plain": [
       "FloatSlider(value=0.19359120290452292, continuous_update=False, description='Surface_Adsorption_Dissociative_D…"
      ]
     },
     "metadata": {},
     "output_type": "display_data"
    },
    {
     "data": {
      "application/vnd.jupyter.widget-view+json": {
       "model_id": "683e18b5dba74a1bb96095a1b2f59b1c",
       "version_major": 2,
       "version_minor": 0
      },
      "text/plain": [
       "FloatSlider(value=-1.9360284946347992, continuous_update=False, description='Surface_Adsorption_vdW : Adsorbat…"
      ]
     },
     "metadata": {},
     "output_type": "display_data"
    },
    {
     "data": {
      "application/vnd.jupyter.widget-view+json": {
       "model_id": "38d2dca52f6d495b981e5a9e5e3861a4",
       "version_major": 2,
       "version_minor": 0
      },
      "text/plain": [
       "FloatSlider(value=17384.837292847416, continuous_update=False, description='Surface_Adsorption_vdW : Adsorbate…"
      ]
     },
     "metadata": {},
     "output_type": "display_data"
    },
    {
     "data": {
      "application/vnd.jupyter.widget-view+json": {
       "model_id": "407b373f6c994e48807eeae371f0128f",
       "version_major": 2,
       "version_minor": 0
      },
      "text/plain": [
       "FloatSlider(value=-0.01943967918699971, continuous_update=False, description='Surface_Adsorption_vdW : Adsorba…"
      ]
     },
     "metadata": {},
     "output_type": "display_data"
    },
    {
     "data": {
      "application/vnd.jupyter.widget-view+json": {
       "model_id": "9a196f7e5cbf4e43982ac514025114c4",
       "version_major": 2,
       "version_minor": 0
      },
      "text/plain": [
       "FloatSlider(value=17.005033574776963, continuous_update=False, description='Surface_Dissociation : Combined;Va…"
      ]
     },
     "metadata": {},
     "output_type": "display_data"
    },
    {
     "data": {
      "application/vnd.jupyter.widget-view+json": {
       "model_id": "49ff1999402e4bdcb3024c3faaa51482",
       "version_major": 2,
       "version_minor": 0
      },
      "text/plain": [
       "FloatSlider(value=172411.17544688325, continuous_update=False, description='Surface_Dissociation : Combined;Va…"
      ]
     },
     "metadata": {},
     "output_type": "display_data"
    },
    {
     "data": {
      "application/vnd.jupyter.widget-view+json": {
       "model_id": "52ba35c886304d18ad53231181e6ce6f",
       "version_major": 2,
       "version_minor": 0
      },
      "text/plain": [
       "FloatSlider(value=0.9444292379446146, continuous_update=False, description='Surface_Dissociation : Combined;Va…"
      ]
     },
     "metadata": {},
     "output_type": "display_data"
    },
    {
     "data": {
      "application/vnd.jupyter.widget-view+json": {
       "model_id": "bd8b11444a8446c18f88f0db95b10851",
       "version_major": 2,
       "version_minor": 0
      },
      "text/plain": [
       "FloatSlider(value=18.28532998796481, continuous_update=False, description='Surface_Dissociation : C-H;VacantSi…"
      ]
     },
     "metadata": {},
     "output_type": "display_data"
    },
    {
     "data": {
      "application/vnd.jupyter.widget-view+json": {
       "model_id": "6671fc4cbe584c3c9326f2a4242d2692",
       "version_major": 2,
       "version_minor": 0
      },
      "text/plain": [
       "FloatSlider(value=11286.904997760792, continuous_update=False, description='Surface_Dissociation : C-H;VacantS…"
      ]
     },
     "metadata": {},
     "output_type": "display_data"
    },
    {
     "data": {
      "application/vnd.jupyter.widget-view+json": {
       "model_id": "e8bc818d98bd4d15882e7a6306045baa",
       "version_major": 2,
       "version_minor": 0
      },
      "text/plain": [
       "FloatSlider(value=0.5034000531653113, continuous_update=False, description='Surface_Dissociation : C-H;VacantS…"
      ]
     },
     "metadata": {},
     "output_type": "display_data"
    },
    {
     "data": {
      "application/vnd.jupyter.widget-view+json": {
       "model_id": "dd78124012894e97b38a0643f93e5065",
       "version_major": 2,
       "version_minor": 0
      },
      "text/plain": [
       "FloatSlider(value=14.570094315279444, continuous_update=False, description='Surface_Dissociation : O-H;VacantS…"
      ]
     },
     "metadata": {},
     "output_type": "display_data"
    },
    {
     "data": {
      "application/vnd.jupyter.widget-view+json": {
       "model_id": "009229aa42a8405887ca28b587d6f3e7",
       "version_major": 2,
       "version_minor": 0
      },
      "text/plain": [
       "FloatSlider(value=160467.37729827253, continuous_update=False, description='Surface_Dissociation : O-H;VacantS…"
      ]
     },
     "metadata": {},
     "output_type": "display_data"
    },
    {
     "data": {
      "application/vnd.jupyter.widget-view+json": {
       "model_id": "312393ca48264dc28ef7f5a4f2b1ceb5",
       "version_major": 2,
       "version_minor": 0
      },
      "text/plain": [
       "FloatSlider(value=0.3696787540400648, continuous_update=False, description='Surface_Dissociation : O-H;VacantS…"
      ]
     },
     "metadata": {},
     "output_type": "display_data"
    },
    {
     "data": {
      "application/vnd.jupyter.widget-view+json": {
       "model_id": "09b6ffb2d31843f580fbf9b03105fe6d",
       "version_major": 2,
       "version_minor": 0
      },
      "text/plain": [
       "FloatSlider(value=18.121468895466037, continuous_update=False, description='Surface_Dissociation : C-OH;Vacant…"
      ]
     },
     "metadata": {},
     "output_type": "display_data"
    },
    {
     "data": {
      "application/vnd.jupyter.widget-view+json": {
       "model_id": "15187cb74005482b8da924959bdede58",
       "version_major": 2,
       "version_minor": 0
      },
      "text/plain": [
       "FloatSlider(value=122017.50647665514, continuous_update=False, description='Surface_Dissociation : C-OH;Vacant…"
      ]
     },
     "metadata": {},
     "output_type": "display_data"
    },
    {
     "data": {
      "application/vnd.jupyter.widget-view+json": {
       "model_id": "64d0181289db4b4b86f11c91551a25c4",
       "version_major": 2,
       "version_minor": 0
      },
      "text/plain": [
       "FloatSlider(value=0.6046941975395782, continuous_update=False, description='Surface_Dissociation : C-OH;Vacant…"
      ]
     },
     "metadata": {},
     "output_type": "display_data"
    },
    {
     "data": {
      "application/vnd.jupyter.widget-view+json": {
       "model_id": "8bcd98366905411fadfba4b0dc5a7709",
       "version_major": 2,
       "version_minor": 0
      },
      "text/plain": [
       "FloatSlider(value=12.138079357467394, continuous_update=False, description='Surface_Dissociation_Double_vdW : …"
      ]
     },
     "metadata": {},
     "output_type": "display_data"
    },
    {
     "data": {
      "application/vnd.jupyter.widget-view+json": {
       "model_id": "07127ed6296a447182f380696ea035a2",
       "version_major": 2,
       "version_minor": 0
      },
      "text/plain": [
       "FloatSlider(value=3559.579923393541, continuous_update=False, description='Surface_Dissociation_Double_vdW : A…"
      ]
     },
     "metadata": {},
     "output_type": "display_data"
    },
    {
     "data": {
      "application/vnd.jupyter.widget-view+json": {
       "model_id": "ae3302b3c84a4d21bf6dcef771f43ddf",
       "version_major": 2,
       "version_minor": 0
      },
      "text/plain": [
       "FloatSlider(value=0.06742861862708743, continuous_update=False, description='Surface_Dissociation_Double_vdW :…"
      ]
     },
     "metadata": {},
     "output_type": "display_data"
    },
    {
     "data": {
      "application/vnd.jupyter.widget-view+json": {
       "model_id": "b4eedb38b4454b268cecf856076a1805",
       "version_major": 2,
       "version_minor": 0
      },
      "text/plain": [
       "FloatSlider(value=18.302864836637063, continuous_update=False, description='Surface_Dissociation_vdW : Combine…"
      ]
     },
     "metadata": {},
     "output_type": "display_data"
    },
    {
     "data": {
      "application/vnd.jupyter.widget-view+json": {
       "model_id": "5b566ced12e44477aa0448f849a0bcc1",
       "version_major": 2,
       "version_minor": 0
      },
      "text/plain": [
       "FloatSlider(value=162678.41508746674, continuous_update=False, description='Surface_Dissociation_vdW : Combine…"
      ]
     },
     "metadata": {},
     "output_type": "display_data"
    },
    {
     "data": {
      "application/vnd.jupyter.widget-view+json": {
       "model_id": "8a5e043bb135402abf3a6c2f9877d786",
       "version_major": 2,
       "version_minor": 0
      },
      "text/plain": [
       "FloatSlider(value=1.0775267274115723, continuous_update=False, description='Surface_Dissociation_vdW : Combine…"
      ]
     },
     "metadata": {},
     "output_type": "display_data"
    },
    {
     "data": {
      "application/vnd.jupyter.widget-view+json": {
       "model_id": "c83a7e69f15743f2a19c69066dcabd1c",
       "version_major": 2,
       "version_minor": 0
      },
      "text/plain": [
       "FloatSlider(value=16.915160964921306, continuous_update=False, description='Surface_Dissociation_vdW : H2O;Vac…"
      ]
     },
     "metadata": {},
     "output_type": "display_data"
    },
    {
     "data": {
      "application/vnd.jupyter.widget-view+json": {
       "model_id": "aa03f3f156f1476e9980da2372a715b6",
       "version_major": 2,
       "version_minor": 0
      },
      "text/plain": [
       "FloatSlider(value=105202.17444107002, continuous_update=False, description='Surface_Dissociation_vdW : H2O;Vac…"
      ]
     },
     "metadata": {},
     "output_type": "display_data"
    },
    {
     "data": {
      "application/vnd.jupyter.widget-view+json": {
       "model_id": "8596ba1cce2f48d1939a186d8af80918",
       "version_major": 2,
       "version_minor": 0
      },
      "text/plain": [
       "FloatSlider(value=0.6371035776937836, continuous_update=False, description='Surface_Dissociation_vdW : H2O;Vac…"
      ]
     },
     "metadata": {},
     "output_type": "display_data"
    },
    {
     "data": {
      "application/vnd.jupyter.widget-view+json": {
       "model_id": "3848ba741f94414d90832889500695a9",
       "version_major": 2,
       "version_minor": 0
      },
      "text/plain": [
       "FloatSlider(value=17.3863605375391, continuous_update=False, description='Surface_Dissociation_vdW : C-OH;Vaca…"
      ]
     },
     "metadata": {},
     "output_type": "display_data"
    },
    {
     "data": {
      "application/vnd.jupyter.widget-view+json": {
       "model_id": "62698a7f361d4af39857d71681189130",
       "version_major": 2,
       "version_minor": 0
      },
      "text/plain": [
       "FloatSlider(value=132190.55395570636, continuous_update=False, description='Surface_Dissociation_vdW : C-OH;Va…"
      ]
     },
     "metadata": {},
     "output_type": "display_data"
    },
    {
     "data": {
      "application/vnd.jupyter.widget-view+json": {
       "model_id": "5e6004efaf5c4a95a46598294d0711ef",
       "version_major": 2,
       "version_minor": 0
      },
      "text/plain": [
       "FloatSlider(value=0.5274538963927518, continuous_update=False, description='Surface_Dissociation_vdW : C-OH;Va…"
      ]
     },
     "metadata": {},
     "output_type": "display_data"
    },
    {
     "data": {
      "application/vnd.jupyter.widget-view+json": {
       "model_id": "af82269e0e7c4b97b882b3890f5d7336",
       "version_major": 2,
       "version_minor": 0
      },
      "text/plain": [
       "FloatSlider(value=17.96178905240197, continuous_update=False, description='Surface_Dissociation_vdW : C-H;Vaca…"
      ]
     },
     "metadata": {},
     "output_type": "display_data"
    },
    {
     "data": {
      "application/vnd.jupyter.widget-view+json": {
       "model_id": "2c43437296a44248a5d07036bc469254",
       "version_major": 2,
       "version_minor": 0
      },
      "text/plain": [
       "FloatSlider(value=59685.62009808867, continuous_update=False, description='Surface_Dissociation_vdW : C-H;Vaca…"
      ]
     },
     "metadata": {},
     "output_type": "display_data"
    },
    {
     "data": {
      "application/vnd.jupyter.widget-view+json": {
       "model_id": "2f07512c38304445a2856fbd4c8bdb7d",
       "version_major": 2,
       "version_minor": 0
      },
      "text/plain": [
       "FloatSlider(value=0.27545934198921307, continuous_update=False, description='Surface_Dissociation_vdW : C-H;Va…"
      ]
     },
     "metadata": {},
     "output_type": "display_data"
    },
    {
     "data": {
      "application/vnd.jupyter.widget-view+json": {
       "model_id": "4e779ae8b63c4bdb91978e607b7dddcd",
       "version_major": 2,
       "version_minor": 0
      },
      "text/plain": [
       "FloatSlider(value=17.427656769179336, continuous_update=False, description='Surface_Dissociation_vdW : CH3R;Va…"
      ]
     },
     "metadata": {},
     "output_type": "display_data"
    },
    {
     "data": {
      "application/vnd.jupyter.widget-view+json": {
       "model_id": "0f30cd85ebe9442f961627251fdbb694",
       "version_major": 2,
       "version_minor": 0
      },
      "text/plain": [
       "FloatSlider(value=83380.15722373546, continuous_update=False, description='Surface_Dissociation_vdW : CH3R;Vac…"
      ]
     },
     "metadata": {},
     "output_type": "display_data"
    },
    {
     "data": {
      "application/vnd.jupyter.widget-view+json": {
       "model_id": "88ea539a1bf24148b9ff1cf8cab7c657",
       "version_major": 2,
       "version_minor": 0
      },
      "text/plain": [
       "FloatSlider(value=0.612843318218371, continuous_update=False, description='Surface_Dissociation_vdW : CH3R;Vac…"
      ]
     },
     "metadata": {},
     "output_type": "display_data"
    },
    {
     "data": {
      "application/vnd.jupyter.widget-view+json": {
       "model_id": "372d7048b84b402ba1d7a914284faceb",
       "version_major": 2,
       "version_minor": 0
      },
      "text/plain": [
       "FloatSlider(value=17.20383710978452, continuous_update=False, description='Surface_Dissociation_vdW : CH2R;Vac…"
      ]
     },
     "metadata": {},
     "output_type": "display_data"
    },
    {
     "data": {
      "application/vnd.jupyter.widget-view+json": {
       "model_id": "3f50d9e531384a53a8ed6c171ec7c930",
       "version_major": 2,
       "version_minor": 0
      },
      "text/plain": [
       "FloatSlider(value=71423.74072095408, continuous_update=False, description='Surface_Dissociation_vdW : CH2R;Vac…"
      ]
     },
     "metadata": {},
     "output_type": "display_data"
    },
    {
     "data": {
      "application/vnd.jupyter.widget-view+json": {
       "model_id": "279298bf4a15466bae1c79720ed1d4f9",
       "version_major": 2,
       "version_minor": 0
      },
      "text/plain": [
       "FloatSlider(value=0.4370433503684647, continuous_update=False, description='Surface_Dissociation_vdW : CH2R;Va…"
      ]
     },
     "metadata": {},
     "output_type": "display_data"
    },
    {
     "data": {
      "application/vnd.jupyter.widget-view+json": {
       "model_id": "0a7db56bf36b404ba3257c7efe99c0e7",
       "version_major": 2,
       "version_minor": 0
      },
      "text/plain": [
       "FloatSlider(value=13.22205054149529, continuous_update=False, description='Surface_Dual_Adsorption_vdW : Adsor…"
      ]
     },
     "metadata": {},
     "output_type": "display_data"
    },
    {
     "data": {
      "application/vnd.jupyter.widget-view+json": {
       "model_id": "d6357d1d2c0849e08e927a1958bbe716",
       "version_major": 2,
       "version_minor": 0
      },
      "text/plain": [
       "FloatSlider(value=-3610.327407138501, continuous_update=False, description='Surface_Dual_Adsorption_vdW : Adso…"
      ]
     },
     "metadata": {},
     "output_type": "display_data"
    },
    {
     "data": {
      "application/vnd.jupyter.widget-view+json": {
       "model_id": "111a39a474ae40ba96ba300dff9ee9f6",
       "version_major": 2,
       "version_minor": 0
      },
      "text/plain": [
       "FloatSlider(value=-0.42733400374990443, continuous_update=False, description='Surface_Dual_Adsorption_vdW : Ad…"
      ]
     },
     "metadata": {},
     "output_type": "display_data"
    },
    {
     "data": {
      "application/vnd.jupyter.widget-view+json": {
       "model_id": "dae6e12215ea41bb82d1459979567e68",
       "version_major": 2,
       "version_minor": 0
      },
      "text/plain": [
       "FloatSlider(value=-9.550475973074589, continuous_update=False, description='Surface_EleyRideal_Abstraction : A…"
      ]
     },
     "metadata": {},
     "output_type": "display_data"
    },
    {
     "data": {
      "application/vnd.jupyter.widget-view+json": {
       "model_id": "bcf7b5e6b856475f840d9933de0537fa",
       "version_major": 2,
       "version_minor": 0
      },
      "text/plain": [
       "FloatSlider(value=69711.30211586709, continuous_update=False, description='Surface_EleyRideal_Abstraction : Ad…"
      ]
     },
     "metadata": {},
     "output_type": "display_data"
    },
    {
     "data": {
      "application/vnd.jupyter.widget-view+json": {
       "model_id": "9e821a3a61154b659cc9607de1980863",
       "version_major": 2,
       "version_minor": 0
      },
      "text/plain": [
       "FloatSlider(value=0.31236173191253225, continuous_update=False, description='Surface_EleyRideal_Abstraction : …"
      ]
     },
     "metadata": {},
     "output_type": "display_data"
    },
    {
     "data": {
      "application/vnd.jupyter.widget-view+json": {
       "model_id": "19dcdacaa6c34448ac297e5c008a6066",
       "version_major": 2,
       "version_minor": 0
      },
      "text/plain": [
       "FloatSlider(value=-5.941781186288836, continuous_update=False, description='Surface_EleyRideal_Addition_Dual_S…"
      ]
     },
     "metadata": {},
     "output_type": "display_data"
    },
    {
     "data": {
      "application/vnd.jupyter.widget-view+json": {
       "model_id": "d826de2c87f44876bacd94cdf3f05053",
       "version_major": 2,
       "version_minor": 0
      },
      "text/plain": [
       "FloatSlider(value=74921.62010233827, continuous_update=False, description='Surface_EleyRideal_Addition_Dual_Si…"
      ]
     },
     "metadata": {},
     "output_type": "display_data"
    },
    {
     "data": {
      "application/vnd.jupyter.widget-view+json": {
       "model_id": "a9e9ea2aee8f4b2d861215eaf244f5d5",
       "version_major": 2,
       "version_minor": 0
      },
      "text/plain": [
       "FloatSlider(value=-0.09359531667277106, continuous_update=False, description='Surface_EleyRideal_Addition_Dual…"
      ]
     },
     "metadata": {},
     "output_type": "display_data"
    },
    {
     "data": {
      "application/vnd.jupyter.widget-view+json": {
       "model_id": "0e104fc13b504290a6a438a9eec6d966",
       "version_major": 2,
       "version_minor": 0
      },
      "text/plain": [
       "FloatSlider(value=-3.570369889092521, continuous_update=False, description='Surface_EleyRideal_Addition_Dual_S…"
      ]
     },
     "metadata": {},
     "output_type": "display_data"
    },
    {
     "data": {
      "application/vnd.jupyter.widget-view+json": {
       "model_id": "5bdd83a8d99e479680d4d691609dc5ab",
       "version_major": 2,
       "version_minor": 0
      },
      "text/plain": [
       "FloatSlider(value=102128.05254343076, continuous_update=False, description='Surface_EleyRideal_Addition_Dual_S…"
      ]
     },
     "metadata": {},
     "output_type": "display_data"
    },
    {
     "data": {
      "application/vnd.jupyter.widget-view+json": {
       "model_id": "dfcaf5ddd0a741db85c4d48cf11b714a",
       "version_major": 2,
       "version_minor": 0
      },
      "text/plain": [
       "FloatSlider(value=0.3377108650686433, continuous_update=False, description='Surface_EleyRideal_Addition_Dual_S…"
      ]
     },
     "metadata": {},
     "output_type": "display_data"
    },
    {
     "data": {
      "application/vnd.jupyter.widget-view+json": {
       "model_id": "dfe9df1d0731451b94fde346b1e64c2b",
       "version_major": 2,
       "version_minor": 0
      },
      "text/plain": [
       "FloatSlider(value=19.932622854505098, continuous_update=False, description='Surface_Migration_Dual_Site : Adso…"
      ]
     },
     "metadata": {},
     "output_type": "display_data"
    },
    {
     "data": {
      "application/vnd.jupyter.widget-view+json": {
       "model_id": "bf511f31e2334b10b7d49deabab432bd",
       "version_major": 2,
       "version_minor": 0
      },
      "text/plain": [
       "FloatSlider(value=179032.78064297553, continuous_update=False, description='Surface_Migration_Dual_Site : Adso…"
      ]
     },
     "metadata": {},
     "output_type": "display_data"
    },
    {
     "data": {
      "application/vnd.jupyter.widget-view+json": {
       "model_id": "854a066485c144129c41fd2ece50da21",
       "version_major": 2,
       "version_minor": 0
      },
      "text/plain": [
       "FloatSlider(value=0.6446357944059702, continuous_update=False, description='Surface_Migration_Dual_Site : Adso…"
      ]
     },
     "metadata": {},
     "output_type": "display_data"
    },
    {
     "data": {
      "application/vnd.jupyter.widget-view+json": {
       "model_id": "769a6f46c93640bb9222d6934e497119",
       "version_major": 2,
       "version_minor": 0
      },
      "text/plain": [
       "FloatSlider(value=21394716.84549724, continuous_update=False, description='C', layout=Layout(width='800px'), m…"
      ]
     },
     "metadata": {},
     "output_type": "display_data"
    },
    {
     "data": {
      "application/vnd.jupyter.widget-view+json": {
       "model_id": "f5881136e37b432ea6adb3a0ceead7ba",
       "version_major": 2,
       "version_minor": 0
      },
      "text/plain": [
       "FloatSlider(value=2930556.658371675, continuous_update=False, description='O', layout=Layout(width='800px'), m…"
      ]
     },
     "metadata": {},
     "output_type": "display_data"
    },
    {
     "data": {
      "application/vnd.jupyter.widget-view+json": {
       "model_id": "c4027cd96a4a4b468ada27af256ee34a",
       "version_major": 2,
       "version_minor": 0
      },
      "text/plain": [
       "FloatSlider(value=-802416.5800287782, continuous_update=False, description='N', layout=Layout(width='800px'), …"
      ]
     },
     "metadata": {},
     "output_type": "display_data"
    },
    {
     "data": {
      "application/vnd.jupyter.widget-view+json": {
       "model_id": "e192c34117484838835ad9de6c6a407a",
       "version_major": 2,
       "version_minor": 0
      },
      "text/plain": [
       "FloatSlider(value=24707274.83540421, continuous_update=False, description='H', layout=Layout(width='800px'), m…"
      ]
     },
     "metadata": {},
     "output_type": "display_data"
    },
    {
     "data": {
      "application/vnd.jupyter.widget-view+json": {
       "model_id": "5bb32f2cda1a45a9b1d2da78df9cac04",
       "version_major": 2,
       "version_minor": 0
      },
      "text/plain": [
       "FloatSlider(value=3582058.0448016664, continuous_update=False, description='vdw', layout=Layout(width='800px')…"
      ]
     },
     "metadata": {},
     "output_type": "display_data"
    }
   ],
   "source": [
    "# put in a float slider\n",
    "widge_list = []\n",
    "for param, value in param_dict.items():\n",
    "    widge_list.append(widgets.FloatSlider(\n",
    "        value=value,\n",
    "        min=minmax_dict[param][0],\n",
    "        max=minmax_dict[param][1],\n",
    "        # step=0.1,\n",
    "        description=param,\n",
    "        style = {'description_width': '500px'},\n",
    "        disabled=False,\n",
    "        continuous_update=False,\n",
    "        orientation='horizontal',\n",
    "        readout=True,\n",
    "        readout_format='.1f',\n",
    "        layout={'width': '800px'},\n",
    "        )\n",
    "\n",
    "    )\n",
    "for widge in widge_list:\n",
    "    display(widge)\n"
   ]
  },
  {
   "cell_type": "markdown",
   "metadata": {},
   "source": [
    "## 2. load up a cantera file with the optimized parameters"
   ]
  },
  {
   "cell_type": "code",
   "execution_count": 7,
   "metadata": {},
   "outputs": [],
   "source": [
    "with open(\"./config/rule_config.yaml\", 'r') as f:\n",
    "   rule_config_unflat = yaml.safe_load(f)"
   ]
  },
  {
   "cell_type": "code",
   "execution_count": 8,
   "metadata": {},
   "outputs": [
    {
     "name": "stdout",
     "output_type": "stream",
     "text": [
      "Surface_Abstraction : O;*C-H_A: 18.113070918536703\n",
      "Surface_Abstraction : O;*C-H_E0: 137609.71286652345\n",
      "Surface_Abstraction : O;*C-H_alpha: 0.6882168845177197\n",
      "Surface_Abstraction_Beta_double_vdW : Abstracting;Donating_A: 18.18475614247067\n",
      "Surface_Abstraction_Beta_double_vdW : Abstracting;Donating_E0: 80676.76957316059\n",
      "Surface_Abstraction_Beta_double_vdW : Abstracting;Donating_alpha: 0.9106478439025932\n",
      "Surface_Abstraction_Beta_double_vdW : OH;R-C-H_A: 17.941806661370894\n",
      "Surface_Abstraction_Beta_double_vdW : OH;R-C-H_E0: 112732.69220948595\n",
      "Surface_Abstraction_Beta_double_vdW : OH;R-C-H_alpha: 0.8889952114187414\n",
      "Surface_Abstraction_Beta_double_vdW : OH;R-O-H_A: 17.47827246302559\n",
      "Surface_Abstraction_Beta_double_vdW : OH;R-O-H_E0: 20822.01014200731\n",
      "Surface_Abstraction_Beta_double_vdW : OH;R-O-H_alpha: 0.022446690674116282\n",
      "Surface_Abstraction_Beta_double_vdW : Abstracting;R-CH3_A: 17.702150600559936\n",
      "Surface_Abstraction_Beta_double_vdW : Abstracting;R-CH3_E0: 88206.74440262388\n",
      "Surface_Abstraction_Beta_double_vdW : Abstracting;R-CH3_alpha: 0.7001043400875926\n",
      "Surface_Abstraction_Beta_double_vdW : OH;R-CH3_A: 16.486532825627567\n",
      "Surface_Abstraction_Beta_double_vdW : OH;R-CH3_E0: 111539.96865630374\n",
      "Surface_Abstraction_Beta_double_vdW : OH;R-CH3_alpha: 0.7138826901786495\n",
      "Surface_Abstraction_Beta_vdW : Abstracting;Donating_A: 17.479783976263402\n",
      "Surface_Abstraction_Beta_vdW : Abstracting;Donating_E0: 141159.38832864014\n",
      "Surface_Abstraction_Beta_vdW : Abstracting;Donating_alpha: 0.7792385894535865\n",
      "Surface_Abstraction_Beta_vdW : O;R-C-H_A: 16.947859903849004\n",
      "Surface_Abstraction_Beta_vdW : O;R-C-H_E0: 112901.71117325455\n",
      "Surface_Abstraction_Beta_vdW : O;R-C-H_alpha: 1.1177840563297083\n",
      "Surface_Abstraction_Beta_vdW : O;R-O-H_A: 17.463729000650364\n",
      "Surface_Abstraction_Beta_vdW : O;R-O-H_E0: 25613.849120836552\n",
      "Surface_Abstraction_Beta_vdW : O;R-O-H_alpha: 0.738326329144178\n",
      "Surface_Abstraction_Beta_vdW : Abstracting;R-CH3_A: 16.93360589729723\n",
      "Surface_Abstraction_Beta_vdW : Abstracting;R-CH3_E0: 129953.7856636914\n",
      "Surface_Abstraction_Beta_vdW : Abstracting;R-CH3_alpha: 1.2050550408591576\n",
      "Surface_Abstraction_Beta_vdW : O;R-CH3_A: 17.230178059758973\n",
      "Surface_Abstraction_Beta_vdW : O;R-CH3_E0: 132467.05858417234\n",
      "Surface_Abstraction_Beta_vdW : O;R-CH3_alpha: 0.7848688304881882\n",
      "Surface_Abstraction_Single_vdW : Donating;Abstracting_A: 13.130535759109915\n",
      "Surface_Abstraction_Single_vdW : Donating;Abstracting_E0: 331.10347273953175\n",
      "Surface_Abstraction_Single_vdW : Donating;Abstracting_alpha: 0.4546305103472121\n",
      "Surface_Abstraction_Single_vdW : C-OH;*C=R_A: 13.094720350376575\n",
      "Surface_Abstraction_Single_vdW : C-OH;*C=R_E0: 4708.615211792942\n",
      "Surface_Abstraction_Single_vdW : C-OH;*C=R_alpha: 0.4621274356574994\n",
      "Surface_Abstraction_vdW : AdsorbateVdW;Adsorbate1_A: 12.013073450456549\n",
      "Surface_Abstraction_vdW : AdsorbateVdW;Adsorbate1_E0: -5046.220273989236\n",
      "Surface_Abstraction_vdW : AdsorbateVdW;Adsorbate1_alpha: 0.2892553173328508\n",
      "Surface_Abstraction_vdW : C-OH;*=C=R_A: 13.191093519418274\n",
      "Surface_Abstraction_vdW : C-OH;*=C=R_E0: 20751.19715242264\n",
      "Surface_Abstraction_vdW : C-OH;*=C=R_alpha: 0.7809107032762995\n",
      "Surface_Addition_Single_vdW : AdsorbateVdW;Adsorbate1_A: 12.824484117523935\n",
      "Surface_Addition_Single_vdW : AdsorbateVdW;Adsorbate1_E0: 33530.90642392327\n",
      "Surface_Addition_Single_vdW : AdsorbateVdW;Adsorbate1_alpha: 0.16363874560914893\n",
      "Surface_Adsorption_Dissociative : Adsorbate;VacantSite1;VacantSite2_A: -1.067225581569086\n",
      "Surface_Adsorption_Dissociative : Adsorbate;VacantSite1;VacantSite2_E0: 102856.41955918256\n",
      "Surface_Adsorption_Dissociative : Adsorbate;VacantSite1;VacantSite2_alpha: 0.8009208304244082\n",
      "Surface_Adsorption_Dissociative : H2;VacantSite1;VacantSite2_A: -1.202296185179441\n",
      "Surface_Adsorption_Dissociative : H2;VacantSite1;VacantSite2_E0: -4551.602472634919\n",
      "Surface_Adsorption_Dissociative : H2;VacantSite1;VacantSite2_alpha: -0.18672732952503457\n",
      "Surface_Adsorption_Dissociative : CH4;VacantSite1;VacantSite2_A: -0.3122565814661004\n",
      "Surface_Adsorption_Dissociative : CH4;VacantSite1;VacantSite2_E0: 33588.9230760389\n",
      "Surface_Adsorption_Dissociative : CH4;VacantSite1;VacantSite2_alpha: 0.2178167924732406\n",
      "Surface_Adsorption_Dissociative : C-H;VacantSite1;VacantSite2_A: -1.0135555270383318\n",
      "Surface_Adsorption_Dissociative : C-H;VacantSite1;VacantSite2_E0: 115811.6626020668\n",
      "Surface_Adsorption_Dissociative : C-H;VacantSite1;VacantSite2_alpha: 0.911429410084492\n",
      "Surface_Adsorption_Dissociative : O-H;VacantSite1;VacantSite2_A: -0.4330061575935952\n",
      "Surface_Adsorption_Dissociative : O-H;VacantSite1;VacantSite2_E0: 127630.69333763944\n",
      "Surface_Adsorption_Dissociative : O-H;VacantSite1;VacantSite2_alpha: 0.3471064619444346\n",
      "Surface_Adsorption_Dissociative : CH3OH;VacantSite1;VacantSite2_A: -1.1911120241313786\n",
      "Surface_Adsorption_Dissociative : CH3OH;VacantSite1;VacantSite2_E0: 100791.14042949959\n",
      "Surface_Adsorption_Dissociative : CH3OH;VacantSite1;VacantSite2_alpha: 0.646376247044044\n",
      "Surface_Adsorption_Dissociative : H2O;VacantSite1;VacantSite2_A: -8.032520589890805\n",
      "Surface_Adsorption_Dissociative : H2O;VacantSite1;VacantSite2_E0: 66027.15156766903\n",
      "Surface_Adsorption_Dissociative : H2O;VacantSite1;VacantSite2_alpha: 0.8135458556423565\n",
      "Surface_Adsorption_Dissociative_Double : CO2;VacantSite1;VacantSite2_A: -8.079598964998947\n",
      "Surface_Adsorption_Dissociative_Double : CO2;VacantSite1;VacantSite2_E0: 135171.73619989664\n",
      "Surface_Adsorption_Dissociative_Double : CO2;VacantSite1;VacantSite2_alpha: 0.19359120290452292\n",
      "Surface_Adsorption_vdW : Adsorbate;VacantSite_A: -1.9360284946347992\n",
      "Surface_Adsorption_vdW : Adsorbate;VacantSite_E0: 17384.837292847416\n",
      "Surface_Adsorption_vdW : Adsorbate;VacantSite_alpha: -0.01943967918699971\n",
      "Surface_Dissociation : Combined;VacantSite_A: 17.005033574776963\n",
      "Surface_Dissociation : Combined;VacantSite_E0: 172411.17544688325\n",
      "Surface_Dissociation : Combined;VacantSite_alpha: 0.9444292379446146\n",
      "Surface_Dissociation : C-H;VacantSite_A: 18.28532998796481\n",
      "Surface_Dissociation : C-H;VacantSite_E0: 11286.904997760792\n",
      "Surface_Dissociation : C-H;VacantSite_alpha: 0.5034000531653113\n",
      "Surface_Dissociation : O-H;VacantSite_A: 14.570094315279444\n",
      "Surface_Dissociation : O-H;VacantSite_E0: 160467.37729827253\n",
      "Surface_Dissociation : O-H;VacantSite_alpha: 0.3696787540400648\n",
      "Surface_Dissociation : C-OH;VacantSite_A: 18.121468895466037\n",
      "Surface_Dissociation : C-OH;VacantSite_E0: 122017.50647665514\n",
      "Surface_Dissociation : C-OH;VacantSite_alpha: 0.6046941975395782\n",
      "Surface_Dissociation_Double_vdW : AdsorbateVdW;VacantSite_A: 12.138079357467394\n",
      "Surface_Dissociation_Double_vdW : AdsorbateVdW;VacantSite_E0: 3559.579923393541\n",
      "Surface_Dissociation_Double_vdW : AdsorbateVdW;VacantSite_alpha: 0.06742861862708743\n",
      "Surface_Dissociation_vdW : Combined;VacantSite_A: 18.302864836637063\n",
      "Surface_Dissociation_vdW : Combined;VacantSite_E0: 162678.41508746674\n",
      "Surface_Dissociation_vdW : Combined;VacantSite_alpha: 1.0775267274115723\n",
      "Surface_Dissociation_vdW : H2O;VacantSite_A: 16.915160964921306\n",
      "Surface_Dissociation_vdW : H2O;VacantSite_E0: 105202.17444107002\n",
      "Surface_Dissociation_vdW : H2O;VacantSite_alpha: 0.6371035776937836\n",
      "Surface_Dissociation_vdW : C-OH;VacantSite_A: 17.3863605375391\n",
      "Surface_Dissociation_vdW : C-OH;VacantSite_E0: 132190.55395570636\n",
      "Surface_Dissociation_vdW : C-OH;VacantSite_alpha: 0.5274538963927518\n",
      "Surface_Dissociation_vdW : C-H;VacantSite_A: 17.96178905240197\n",
      "Surface_Dissociation_vdW : C-H;VacantSite_E0: 59685.62009808867\n",
      "Surface_Dissociation_vdW : C-H;VacantSite_alpha: 0.27545934198921307\n",
      "Surface_Dissociation_vdW : CH3R;VacantSite_A: 17.427656769179336\n",
      "Surface_Dissociation_vdW : CH3R;VacantSite_E0: 83380.15722373546\n",
      "Surface_Dissociation_vdW : CH3R;VacantSite_alpha: 0.612843318218371\n",
      "Surface_Dissociation_vdW : CH2R;VacantSite_A: 17.20383710978452\n",
      "Surface_Dissociation_vdW : CH2R;VacantSite_E0: 71423.74072095408\n",
      "Surface_Dissociation_vdW : CH2R;VacantSite_alpha: 0.4370433503684647\n",
      "Surface_Dual_Adsorption_vdW : Adsorbate1;Adsorbate2_A: 13.22205054149529\n",
      "Surface_Dual_Adsorption_vdW : Adsorbate1;Adsorbate2_E0: -3610.327407138501\n",
      "Surface_Dual_Adsorption_vdW : Adsorbate1;Adsorbate2_alpha: -0.42733400374990443\n",
      "Surface_EleyRideal_Abstraction : Adsorbate1;Gas;VacantSite1_A: -9.550475973074589\n",
      "Surface_EleyRideal_Abstraction : Adsorbate1;Gas;VacantSite1_E0: 69711.30211586709\n",
      "Surface_EleyRideal_Abstraction : Adsorbate1;Gas;VacantSite1_alpha: 0.31236173191253225\n",
      "Surface_EleyRideal_Addition_Dual_Site : Adsorbate1;Gas;VacantSite1_A: -5.941781186288836\n",
      "Surface_EleyRideal_Addition_Dual_Site : Adsorbate1;Gas;VacantSite1_E0: 74921.62010233827\n",
      "Surface_EleyRideal_Addition_Dual_Site : Adsorbate1;Gas;VacantSite1_alpha: -0.09359531667277106\n",
      "Surface_EleyRideal_Addition_Dual_Site : *H;O=C=O;VacantSite1_A: -3.570369889092521\n",
      "Surface_EleyRideal_Addition_Dual_Site : *H;O=C=O;VacantSite1_E0: 102128.05254343076\n",
      "Surface_EleyRideal_Addition_Dual_Site : *H;O=C=O;VacantSite1_alpha: 0.3377108650686433\n",
      "Surface_Migration_Dual_Site : Adsorbate1;VacantSite1_A: 19.932622854505098\n",
      "Surface_Migration_Dual_Site : Adsorbate1;VacantSite1_E0: 179032.78064297553\n",
      "Surface_Migration_Dual_Site : Adsorbate1;VacantSite1_alpha: 0.6446357944059702\n",
      "C: 21394716.84549724\n",
      "O: 2930556.658371675\n",
      "N: -802416.5800287782\n",
      "H: 24707274.83540421\n",
      "vdw: 3582058.0448016664\n"
     ]
    }
   ],
   "source": [
    "for key, value in param_dict.items():\n",
    "    print(\"{}: {}\".format(key, value))"
   ]
  },
  {
   "cell_type": "code",
   "execution_count": 10,
   "metadata": {},
   "outputs": [
    {
     "name": "stderr",
     "output_type": "stream",
     "text": [
      "/Users/blais.ch/Documents/_01_code/05_Project_repos_Github/meOH_repos/uncertainty_analysis/rmg_gua/gua_cantera/Spinning_basket_reactor/sbr.py:122: UserWarning: StickingRate::validate: \n",
      " Sticking coefficient is greater than 1 for reaction 'C(40) + 2 X(1) <=> C[Pt](52) + H*(10)'\n",
      " at T = 10000.0\n",
      "\n",
      "  self.surf = ct.Interface(yaml_file, \"surface1\", [self.gas])\n"
     ]
    },
    {
     "name": "stdout",
     "output_type": "stream",
     "text": [
      "Cantera version is too old for preconditioning, skipping...\n"
     ]
    }
   ],
   "source": [
    "# load in params from widget\n",
    "widget = True\n",
    "if widget:\n",
    "    for idx, param in enumerate(param_dict.keys()):\n",
    "        param_dict[param] = widge_list[idx].value\n",
    "    params = list(param_dict.values())\n",
    "else: \n",
    "    gsa_output_dir = os.path.join(repo_dir, \"rmg_gua\", \"gua_peuqse\", \"gsa_output.pkl\")\n",
    "\n",
    "    # load the pickle file\n",
    "    with open(gsa_output_dir, \"rb\") as f:\n",
    "        gsa_output = pickle.load(f)\n",
    "\n",
    "    logp = [i[0] for i in gsa_output]\n",
    "    vals = [i[1:] for i in gsa_output]\n",
    "\n",
    "    max_id = np.argmax(logp)\n",
    "    params = vals[max_id][0]\n",
    "\n",
    "# load the cantera reactor model: \n",
    "project_path = os.path.abspath(\"\")\n",
    "results_path = os.path.join(project_path, \"config\")\n",
    "peuq_path = os.path.join(project_path, \"peuqse\")\n",
    "\n",
    "expt_condts = os.path.join(results_path, \"expt_data_orig.yaml\")\n",
    "lookup_dict_file = os.path.join(results_path, \"rmg_2_ck_dict.yaml\")\n",
    "with open(expt_condts, 'r') as f:\n",
    "    data = yaml.safe_load(f)\n",
    "\n",
    "expt = data[0]\n",
    "\n",
    "file_path = os.path.join(project_path, \"cantera\", \"chem_annotated.yaml\")\n",
    "\n",
    "# load the exp data and lookup dict\n",
    "with open(expt_condts, 'r') as f:\n",
    "    data = yaml.load(f, Loader = yaml.FullLoader)\n",
    "with open(lookup_dict_file, 'r') as f:\n",
    "    lookup_dict = yaml.load(f, Loader = yaml.FullLoader)\n",
    "\n",
    "ct_sbr_single = MinSBR(\n",
    "    file_path,\n",
    "    reac_config=expt,\n",
    "    rtol=1.0e-11,\n",
    "    atol=1.0e-22,\n",
    "    reaction_list=params, \n",
    "    results_path=results_path,\n",
    "    use_precond=False, \n",
    "    time=600,\n",
    "    save_new_model=True,\n",
    "    verbose=False,\n",
    "    )\n"
   ]
  },
  {
   "cell_type": "markdown",
   "metadata": {},
   "source": [
    "## 3. run one rms reactor with the modified mechanism.\n",
    "plot the sensitivities and the flux diagram after. "
   ]
  },
  {
   "cell_type": "code",
   "execution_count": 12,
   "metadata": {},
   "outputs": [
    {
     "name": "stdout",
     "output_type": "stream",
     "text": [
      "elapsed time for sim:  14.743274211883545\n"
     ]
    }
   ],
   "source": [
    "# if specified, use a different name for the results file. \n",
    "output_file_name = \"rms_analysis.csv\"\n",
    "\n",
    "use_modified_rms = True\n",
    "# rmg_model_folder = os.path.join(repo_dir, \"rmg_gua\", \"baseline\",)\n",
    "rmg_model_folder = os.path.join(repo_dir, \"rmg_gua\", \"rmg_model\",)\n",
    "if use_modified_rms: \n",
    "    rms_file_path = os.path.join(rmg_model_folder, \"rms\", \"chem_modified.yml\")\n",
    "    output_sens_file = \"rms_sensitivities_modified.png\" \n",
    "    output_flux_file = \"rms_fluxes_modified\"\n",
    "else: \n",
    "    rms_file_path = get_highest_rms_file(rmg_model_folder)\n",
    "    output_sens_file = \"rms_sensitivities.png\"\n",
    "    output_flux_file = \"rms_fluxes\"\n",
    "csv_path = os.path.join(rmg_model_folder, output_file_name)\n",
    "\n",
    "# generate settings array\n",
    "settings_yaml =os.path.join(repo_dir, \"rmg_gua\", \"gua_cantera\", \"experiments_reorg_onlyopt.yaml\")\n",
    "with open(settings_yaml, 'r') as f:\n",
    "    settings = yaml.safe_load(f)\n",
    "\n",
    "# initialize reactor\n",
    "sbr_ss = rms_sbr(\n",
    "    rms_file_path,\n",
    "    reac_config = settings[10],\n",
    "    rtol=1.0e-11,\n",
    "    atol=1.0e-22,\n",
    ")\n",
    "\n",
    "# results = sbr_ss.run_simulation()\n",
    "# return results\n",
    "# run the simulation\n",
    "t1 = time.time()\n",
    "sbr_ss.sol = de.solve(\n",
    "    sbr_ss.react.ode,\n",
    "    de.CVODE_BDF(),\n",
    "    abstol=sbr_ss.atol,\n",
    "    reltol=sbr_ss.rtol,)\n",
    "t2 = time.time()\n",
    "print(\"elapsed time for sim: \", t2-t1)\n",
    "\n",
    "\n",
    "ssys = rms.SystemSimulation(sbr_ss.sol,sbr_ss.domains,sbr_ss.interfaces,sbr_ss.p)\n",
    "\n",
    "# get the sensitivities. transitory sensitivities returns the full sensitivity matrix\n",
    "# calculated from the jacobian. returns a (n_species, n_reactions) x (n_species, n_reactions) matrix, \n",
    "# so to just get the reaction sensitivities we single out a species for out row, then\n",
    "# slice out the first n_species columns. \n",
    "sens_items, _ = rms.transitorysensitivitiesfulltrapezoidal(ssys.sims[1], 1e-2)#, tau=Main.NaN, normalized=True)\n",
    "# sens_items, _ = rms.transitorysensitivitiesfullexact(ssys, 0.001)\n",
    "ind = ssys.names.index(\"CH3OH\")\n",
    "sens_items_rxn = sens_items[ind,len(ssys.names):]"
   ]
  },
  {
   "cell_type": "code",
   "execution_count": 13,
   "metadata": {},
   "outputs": [],
   "source": [
    "# sens_items.shape\n",
    "# for spec in ssys.names:\n",
    "#     if sens_items[ssys.names.index(spec),0] > 0 or sens_items[ssys.names.index(spec),1] < 0: \n",
    "#         print(spec)\n",
    "#         print(sens_items[ssys.names.index(spec),1])"
   ]
  },
  {
   "cell_type": "code",
   "execution_count": 14,
   "metadata": {},
   "outputs": [
    {
     "data": {
      "image/png": "[encoded data removed]",
      "text/plain": [
       "<Figure size 640x480 with 1 Axes>"
      ]
     },
     "metadata": {},
     "output_type": "display_data"
    }
   ],
   "source": [
    "%matplotlib inline\n",
    "# get list of all rxns\n",
    "rxn_strs = []\n",
    "rxns_objs = []\n",
    "for rxn in ssys.reactions: \n",
    "    rxn_strs.append(rms.getrxnstr(rxn))\n",
    "    rxns_objs.append(rxn)\n",
    "\n",
    "# I am assuming here that the rxns are in the same order as the sensitivity matrix\n",
    "rxn_sens_dict = dict(zip(rxn_strs, sens_items_rxn))\n",
    "# rxn_sens_dict = dict(zip(rxn_strs, sens_items))\n",
    "\n",
    "# sort the dictionary by value\n",
    "rxn_sens_dict_sort = dict(sorted(rxn_sens_dict.items(), key=lambda item: abs(item[1])))\n",
    "\n",
    "# plot the top 10 most sensitive reactions\n",
    "top10 = list(rxn_sens_dict_sort.items())[-20:]\n",
    "top10.reverse()\n",
    "rxn_strs = [x[0] for x in top10]\n",
    "sens = [x[1] for x in top10]\n",
    "\n",
    "plt.barh(rxn_strs, sens)\n",
    "plt.savefig(os.path.join(rmg_model_folder, output_sens_file), dpi=300, bbox_inches='tight')\n",
    "plt.show()"
   ]
  },
  {
   "cell_type": "code",
   "execution_count": 15,
   "metadata": {},
   "outputs": [
    {
     "data": {
      "text/plain": [
       "['X',\n",
       " 'H*',\n",
       " 'O*',\n",
       " 'OH*',\n",
       " 'H2O*',\n",
       " 'CO*',\n",
       " 'CO2*',\n",
       " 'HCO*',\n",
       " 'HCOO*',\n",
       " 'COOH*',\n",
       " 'HCOOH*',\n",
       " 'CH2O*',\n",
       " 'CH3O*',\n",
       " 'CH3O2*',\n",
       " 'CH3OH*',\n",
       " 'C[Pt]',\n",
       " 'OC[Pt]']"
      ]
     },
     "execution_count": 15,
     "metadata": {},
     "output_type": "execute_result"
    }
   ],
   "source": [
    "ssys.sims[1].names"
   ]
  },
  {
   "cell_type": "code",
   "execution_count": 17,
   "metadata": {},
   "outputs": [
    {
     "data": {
      "image/png": "[encoded data removed]",
      "text/plain": [
       "<Figure size 640x480 with 1 Axes>"
      ]
     },
     "metadata": {},
     "output_type": "display_data"
    }
   ],
   "source": [
    "rms.plotrops(ssys.sims[1],\"C[Pt]\",600)"
   ]
  },
  {
   "cell_type": "code",
   "execution_count": 364,
   "metadata": {},
   "outputs": [
    {
     "data": {
      "image/png": "[encoded data removed]",
      "text/plain": [
       "<IPython.core.display.Image object>"
      ]
     },
     "metadata": {},
     "output_type": "display_data"
    }
   ],
   "source": [
    "rms.getfluxdiagram(ssys,600, centralspecieslist=['CO', 'CO2', 'CH3OH', 'H2'], radius=5, outputdirectory=output_flux_file)"
   ]
  },
  {
   "cell_type": "code",
   "execution_count": 365,
   "metadata": {},
   "outputs": [
    {
     "data": {
      "image/png": "[encoded data removed]",
      "text/plain": [
       "<IPython.core.display.Image object>"
      ]
     },
     "metadata": {},
     "output_type": "display_data"
    }
   ],
   "source": [
    "rms.getfluxdiagram(ssys,600,outputdirectory=output_flux_file)"
   ]
  },
  {
   "cell_type": "code",
   "execution_count": 19,
   "metadata": {},
   "outputs": [],
   "source": [
    "# get list of reactions between ch2ohx and ch3x\n",
    "from rmgpy.chemkin import load_chemkin_file\n",
    "from rmgpy.rmg.model import ReactionModel\n",
    "\n",
    "ck_model_path = os.path.join(rmg_model_folder, \"chemkin\", \"chem_annotated-gas.inp\")\n",
    "species_dict_path = os.path.join(rmg_model_folder, \"chemkin\",  \"species_dictionary.txt\")\n",
    "ck_surface_path = os.path.join(rmg_model_folder, \"chemkin\",  \"chem_annotated-surface.inp\")\n",
    "\n",
    "model = ReactionModel()\n",
    "model.species, model.reactions = load_chemkin_file(\n",
    "    path=ck_model_path, \n",
    "    dictionary_path=species_dict_path,\n",
    "    read_comments=True, \n",
    "    use_chemkin_names=True,\n",
    "    surface_path = ck_surface_path,\n",
    ")"
   ]
  },
  {
   "cell_type": "code",
   "execution_count": 22,
   "metadata": {},
   "outputs": [
    {
     "data": {
      "text/plain": [
       "list"
      ]
     },
     "execution_count": 22,
     "metadata": {},
     "output_type": "execute_result"
    }
   ],
   "source": [
    "type(model.species)"
   ]
  },
  {
   "cell_type": "markdown",
   "metadata": {},
   "source": [
    "### get reactions that have certain species as reactants or products"
   ]
  },
  {
   "cell_type": "code",
   "execution_count": 23,
   "metadata": {},
   "outputs": [
    {
     "name": "stdout",
     "output_type": "stream",
     "text": [
      "C[Pt]\n"
     ]
    },
    {
     "data": {
      "image/png": "[encoded data removed]",
      "text/plain": [
       "Species(index=52, label=\"C[Pt]\", thermo=NASA(polynomials=[NASAPolynomial(coeffs=[-1.21087,0.0292386,-4.48994e-05,3.85984e-08,-1.30348e-11,-129.92,6.80928], Tmin=(100,'K'), Tmax=(848.33,'K')), NASAPolynomial(coeffs=[1.62284,0.0112989,-5.08324e-06,9.46852e-10,-6.42901e-14,-445.956,-5.42462], Tmin=(848.33,'K'), Tmax=(5000,'K'))], Tmin=(100,'K'), Tmax=(5000,'K'), comment=\"\"\"Thermo library: surfaceThermoPt111 Binding energy corrected by LSR (0.25C) from Pt111\"\"\"), molecule=[Molecule(smiles=\"C[Pt]\")], molecular_weight=(15.0346,'amu'))"
      ]
     },
     "metadata": {},
     "output_type": "display_data"
    },
    {
     "name": "stdout",
     "output_type": "stream",
     "text": [
      "CH3OH*\n"
     ]
    },
    {
     "data": {
      "image/png": "[encoded data removed]",
      "text/plain": [
       "Species(index=23, label=\"CH3OH*\", thermo=NASA(polynomials=[NASAPolynomial(coeffs=[-1.64008,0.0409974,-6.66155e-05,6.12095e-08,-2.17726e-11,-30508.7,13.8245], Tmin=(100,'K'), Tmax=(850.42,'K')), NASAPolynomial(coeffs=[1.01832,0.0182967,-8.58982e-06,1.62233e-09,-1.10734e-13,-30592.2,3.5978], Tmin=(850.42,'K'), Tmax=(5000,'K'))], Tmin=(100,'K'), Tmax=(5000,'K'), comment=\"\"\"Thermo library: surfaceThermoPt111 Binding energy corrected by LSR () from Pt111\"\"\"), molecule=[Molecule(smiles=\"CO.[Pt]\")], molecular_weight=(32.0419,'amu'))"
      ]
     },
     "metadata": {},
     "output_type": "display_data"
    }
   ],
   "source": [
    "reac_str = \"C[Pt]\"\n",
    "prod_str = \"CH3OH*\"\n",
    "for idx, spec in enumerate(model.species):\n",
    "    if spec.label == reac_str: \n",
    "         reac_idx = idx\n",
    "    if spec.label == prod_str:\n",
    "        prod_idx = idx\n",
    "    \n",
    "        \n",
    "\n",
    "# get reactant of interest\n",
    "reac1 = model.species[reac_idx]\n",
    "\n",
    "# get product of interest\n",
    "prod1 = model.species[prod_idx]\n",
    "print(reac1.label)\n",
    "display(reac1)\n",
    "print(prod1.label)\n",
    "display(prod1)"
   ]
  },
  {
   "cell_type": "code",
   "execution_count": 24,
   "metadata": {},
   "outputs": [
    {
     "data": {
      "image/png": "[encoded data removed]",
      "text/plain": [
       "TemplateReaction(index=151, reactants=[Species(index=1, label=\"X\", thermo=NASA(polynomials=[NASAPolynomial(coeffs=[0.00710133,-4.25613e-05,8.98517e-08,-7.80178e-11,2.32461e-14,-0.876099,-0.0311209], Tmin=(100,'K'), Tmax=(1554.81,'K')), NASAPolynomial(coeffs=[0.160302,-0.000252238,1.14183e-07,-1.21475e-11,3.85813e-16,-70.8111,-0.909539], Tmin=(1554.81,'K'), Tmax=(5000,'K'))], Tmin=(100,'K'), Tmax=(5000,'K'), comment=\"\"\"Thermo library: surfaceThermoPt111 Binding energy corrected by LSR () from Pt111\"\"\"), molecule=[Molecule(smiles=\"[Pt]\")], molecular_weight=(0,'amu')), Species(index=23, label=\"CH3OH*\", thermo=NASA(polynomials=[NASAPolynomial(coeffs=[-1.64008,0.0409974,-6.66155e-05,6.12095e-08,-2.17726e-11,-30508.7,13.8245], Tmin=(100,'K'), Tmax=(850.42,'K')), NASAPolynomial(coeffs=[1.01832,0.0182967,-8.58982e-06,1.62233e-09,-1.10734e-13,-30592.2,3.5978], Tmin=(850.42,'K'), Tmax=(5000,'K'))], Tmin=(100,'K'), Tmax=(5000,'K'), comment=\"\"\"Thermo library: surfaceThermoPt111 Binding energy corrected by LSR () from Pt111\"\"\"), molecule=[Molecule(smiles=\"CO.[Pt]\")], molecular_weight=(32.0419,'amu'))], products=[Species(index=12, label=\"OH*\", thermo=NASA(polynomials=[NASAPolynomial(coeffs=[-1.2952,0.0336484,-7.07746e-05,6.54354e-08,-2.19428e-11,-21645.4,4.37646], Tmin=(100,'K'), Tmax=(914.55,'K')), NASAPolynomial(coeffs=[2.43533,0.00464616,-2.39997e-06,4.26374e-10,-2.60626e-14,-21797.2,-10.3875], Tmin=(914.55,'K'), Tmax=(5000,'K'))], Tmin=(100,'K'), Tmax=(5000,'K'), comment=\"\"\"Thermo library: surfaceThermoPt111 Binding energy corrected by LSR (0.50O) from Pt111\"\"\"), molecule=[Molecule(smiles=\"O[Pt]\")], molecular_weight=(17.0074,'amu')), Species(index=52, label=\"C[Pt]\", thermo=NASA(polynomials=[NASAPolynomial(coeffs=[-1.21087,0.0292386,-4.48994e-05,3.85984e-08,-1.30348e-11,-129.92,6.80928], Tmin=(100,'K'), Tmax=(848.33,'K')), NASAPolynomial(coeffs=[1.62284,0.0112989,-5.08324e-06,9.46852e-10,-6.42901e-14,-445.956,-5.42462], Tmin=(848.33,'K'), Tmax=(5000,'K'))], Tmin=(100,'K'), Tmax=(5000,'K'), comment=\"\"\"Thermo library: surfaceThermoPt111 Binding energy corrected by LSR (0.25C) from Pt111\"\"\"), molecule=[Molecule(smiles=\"C[Pt]\")], molecular_weight=(15.0346,'amu'))], kinetics=SurfaceArrhenius(A=(4.18e+21,'cm^2/(mol*s)'), n=0, Ea=(38.611,'kcal/mol'), T0=(1,'K'), comment=\"\"\"Exact match found for rate rule [C-OH;VacantSite]\n",
       "Euclidian distance = 0\n",
       "family: Surface_Dissociation_vdW\"\"\"), pairs=[(Species(index=23, label=\"CH3OH*\", thermo=NASA(polynomials=[NASAPolynomial(coeffs=[-1.64008,0.0409974,-6.66155e-05,6.12095e-08,-2.17726e-11,-30508.7,13.8245], Tmin=(100,'K'), Tmax=(850.42,'K')), NASAPolynomial(coeffs=[1.01832,0.0182967,-8.58982e-06,1.62233e-09,-1.10734e-13,-30592.2,3.5978], Tmin=(850.42,'K'), Tmax=(5000,'K'))], Tmin=(100,'K'), Tmax=(5000,'K'), comment=\"\"\"Thermo library: surfaceThermoPt111 Binding energy corrected by LSR () from Pt111\"\"\"), molecule=[Molecule(smiles=\"CO.[Pt]\")], molecular_weight=(32.0419,'amu')), Species(index=12, label=\"OH*\", thermo=NASA(polynomials=[NASAPolynomial(coeffs=[-1.2952,0.0336484,-7.07746e-05,6.54354e-08,-2.19428e-11,-21645.4,4.37646], Tmin=(100,'K'), Tmax=(914.55,'K')), NASAPolynomial(coeffs=[2.43533,0.00464616,-2.39997e-06,4.26374e-10,-2.60626e-14,-21797.2,-10.3875], Tmin=(914.55,'K'), Tmax=(5000,'K'))], Tmin=(100,'K'), Tmax=(5000,'K'), comment=\"\"\"Thermo library: surfaceThermoPt111 Binding energy corrected by LSR (0.50O) from Pt111\"\"\"), molecule=[Molecule(smiles=\"O[Pt]\")], molecular_weight=(17.0074,'amu'))), (Species(index=23, label=\"CH3OH*\", thermo=NASA(polynomials=[NASAPolynomial(coeffs=[-1.64008,0.0409974,-6.66155e-05,6.12095e-08,-2.17726e-11,-30508.7,13.8245], Tmin=(100,'K'), Tmax=(850.42,'K')), NASAPolynomial(coeffs=[1.01832,0.0182967,-8.58982e-06,1.62233e-09,-1.10734e-13,-30592.2,3.5978], Tmin=(850.42,'K'), Tmax=(5000,'K'))], Tmin=(100,'K'), Tmax=(5000,'K'), comment=\"\"\"Thermo library: surfaceThermoPt111 Binding energy corrected by LSR () from Pt111\"\"\"), molecule=[Molecule(smiles=\"CO.[Pt]\")], molecular_weight=(32.0419,'amu')), Species(index=52, label=\"C[Pt]\", thermo=NASA(polynomials=[NASAPolynomial(coeffs=[-1.21087,0.0292386,-4.48994e-05,3.85984e-08,-1.30348e-11,-129.92,6.80928], Tmin=(100,'K'), Tmax=(848.33,'K')), NASAPolynomial(coeffs=[1.62284,0.0112989,-5.08324e-06,9.46852e-10,-6.42901e-14,-445.956,-5.42462], Tmin=(848.33,'K'), Tmax=(5000,'K'))], Tmin=(100,'K'), Tmax=(5000,'K'), comment=\"\"\"Thermo library: surfaceThermoPt111 Binding energy corrected by LSR (0.25C) from Pt111\"\"\"), molecule=[Molecule(smiles=\"C[Pt]\")], molecular_weight=(15.0346,'amu')))], family='Surface_Dissociation_vdW', template=['C-OH', 'VacantSite'])"
      ]
     },
     "metadata": {},
     "output_type": "display_data"
    },
    {
     "name": "stdout",
     "output_type": "stream",
     "text": [
      "Reverse! Exact match found for rate rule [C-OH;VacantSite]\n",
      "Euclidian distance = 0\n",
      "family: Surface_Dissociation_vdW\n"
     ]
    },
    {
     "data": {
      "image/png": "[encoded data removed]",
      "text/plain": [
       "TemplateReaction(index=152, reactants=[Species(index=14, label=\"CO*\", thermo=NASA(polynomials=[NASAPolynomial(coeffs=[-1.38215,0.0375306,-8.29761e-05,8.09705e-08,-2.85473e-11,-22537,4.35449], Tmin=(100,'K'), Tmax=(891.33,'K')), NASAPolynomial(coeffs=[1.38092,0.00805717,-4.64308e-06,8.91167e-10,-5.90046e-14,-22351.3,-4.85325], Tmin=(891.33,'K'), Tmax=(5000,'K'))], Tmin=(100,'K'), Tmax=(5000,'K'), comment=\"\"\"Thermo library: surfaceThermoPt111 Binding energy corrected by LSR (0.50C) from Pt111\"\"\"), molecule=[Molecule(smiles=\"O=C=[Pt]\")], molecular_weight=(28.01,'amu')), Species(index=23, label=\"CH3OH*\", thermo=NASA(polynomials=[NASAPolynomial(coeffs=[-1.64008,0.0409974,-6.66155e-05,6.12095e-08,-2.17726e-11,-30508.7,13.8245], Tmin=(100,'K'), Tmax=(850.42,'K')), NASAPolynomial(coeffs=[1.01832,0.0182967,-8.58982e-06,1.62233e-09,-1.10734e-13,-30592.2,3.5978], Tmin=(850.42,'K'), Tmax=(5000,'K'))], Tmin=(100,'K'), Tmax=(5000,'K'), comment=\"\"\"Thermo library: surfaceThermoPt111 Binding energy corrected by LSR () from Pt111\"\"\"), molecule=[Molecule(smiles=\"CO.[Pt]\")], molecular_weight=(32.0419,'amu'))], products=[Species(index=18, label=\"COOH*\", thermo=NASA(polynomials=[NASAPolynomial(coeffs=[-1.63329,0.0387826,-6.41977e-05,5.36668e-08,-1.74584e-11,-51554,11.9829], Tmin=(100,'K'), Tmax=(816.87,'K')), NASAPolynomial(coeffs=[3.90723,0.00895131,-4.45966e-06,8.65644e-10,-6.00131e-14,-52369,-13.0747], Tmin=(816.87,'K'), Tmax=(5000,'K'))], Tmin=(100,'K'), Tmax=(5000,'K'), comment=\"\"\"Thermo library: surfaceThermoPt111 Binding energy corrected by LSR (0.25C) from Pt111\"\"\"), molecule=[Molecule(smiles=\"O=C(O)[Pt]\")], molecular_weight=(45.0174,'amu')), Species(index=52, label=\"C[Pt]\", thermo=NASA(polynomials=[NASAPolynomial(coeffs=[-1.21087,0.0292386,-4.48994e-05,3.85984e-08,-1.30348e-11,-129.92,6.80928], Tmin=(100,'K'), Tmax=(848.33,'K')), NASAPolynomial(coeffs=[1.62284,0.0112989,-5.08324e-06,9.46852e-10,-6.42901e-14,-445.956,-5.42462], Tmin=(848.33,'K'), Tmax=(5000,'K'))], Tmin=(100,'K'), Tmax=(5000,'K'), comment=\"\"\"Thermo library: surfaceThermoPt111 Binding energy corrected by LSR (0.25C) from Pt111\"\"\"), molecule=[Molecule(smiles=\"C[Pt]\")], molecular_weight=(15.0346,'amu'))], kinetics=SurfaceArrhenius(A=(1e+17,'cm^2/(mol*s)'), n=0, Ea=(3.916,'kcal/mol'), T0=(1,'K'), comment=\"\"\"Exact match found for rate rule [C-OH;*=C=R]\n",
       "Euclidian distance = 0\n",
       "family: Surface_Abstraction_vdW\"\"\"), pairs=[(Species(index=23, label=\"CH3OH*\", thermo=NASA(polynomials=[NASAPolynomial(coeffs=[-1.64008,0.0409974,-6.66155e-05,6.12095e-08,-2.17726e-11,-30508.7,13.8245], Tmin=(100,'K'), Tmax=(850.42,'K')), NASAPolynomial(coeffs=[1.01832,0.0182967,-8.58982e-06,1.62233e-09,-1.10734e-13,-30592.2,3.5978], Tmin=(850.42,'K'), Tmax=(5000,'K'))], Tmin=(100,'K'), Tmax=(5000,'K'), comment=\"\"\"Thermo library: surfaceThermoPt111 Binding energy corrected by LSR () from Pt111\"\"\"), molecule=[Molecule(smiles=\"CO.[Pt]\")], molecular_weight=(32.0419,'amu')), Species(index=18, label=\"COOH*\", thermo=NASA(polynomials=[NASAPolynomial(coeffs=[-1.63329,0.0387826,-6.41977e-05,5.36668e-08,-1.74584e-11,-51554,11.9829], Tmin=(100,'K'), Tmax=(816.87,'K')), NASAPolynomial(coeffs=[3.90723,0.00895131,-4.45966e-06,8.65644e-10,-6.00131e-14,-52369,-13.0747], Tmin=(816.87,'K'), Tmax=(5000,'K'))], Tmin=(100,'K'), Tmax=(5000,'K'), comment=\"\"\"Thermo library: surfaceThermoPt111 Binding energy corrected by LSR (0.25C) from Pt111\"\"\"), molecule=[Molecule(smiles=\"O=C(O)[Pt]\")], molecular_weight=(45.0174,'amu'))), (Species(index=14, label=\"CO*\", thermo=NASA(polynomials=[NASAPolynomial(coeffs=[-1.38215,0.0375306,-8.29761e-05,8.09705e-08,-2.85473e-11,-22537,4.35449], Tmin=(100,'K'), Tmax=(891.33,'K')), NASAPolynomial(coeffs=[1.38092,0.00805717,-4.64308e-06,8.91167e-10,-5.90046e-14,-22351.3,-4.85325], Tmin=(891.33,'K'), Tmax=(5000,'K'))], Tmin=(100,'K'), Tmax=(5000,'K'), comment=\"\"\"Thermo library: surfaceThermoPt111 Binding energy corrected by LSR (0.50C) from Pt111\"\"\"), molecule=[Molecule(smiles=\"O=C=[Pt]\")], molecular_weight=(28.01,'amu')), Species(index=52, label=\"C[Pt]\", thermo=NASA(polynomials=[NASAPolynomial(coeffs=[-1.21087,0.0292386,-4.48994e-05,3.85984e-08,-1.30348e-11,-129.92,6.80928], Tmin=(100,'K'), Tmax=(848.33,'K')), NASAPolynomial(coeffs=[1.62284,0.0112989,-5.08324e-06,9.46852e-10,-6.42901e-14,-445.956,-5.42462], Tmin=(848.33,'K'), Tmax=(5000,'K'))], Tmin=(100,'K'), Tmax=(5000,'K'), comment=\"\"\"Thermo library: surfaceThermoPt111 Binding energy corrected by LSR (0.25C) from Pt111\"\"\"), molecule=[Molecule(smiles=\"C[Pt]\")], molecular_weight=(15.0346,'amu')))], family='Surface_Abstraction_vdW', template=['C-OH', '*=C=R'])"
      ]
     },
     "metadata": {},
     "output_type": "display_data"
    },
    {
     "name": "stdout",
     "output_type": "stream",
     "text": [
      "Reverse! Exact match found for rate rule [C-OH;*=C=R]\n",
      "Euclidian distance = 0\n",
      "family: Surface_Abstraction_vdW\n"
     ]
    },
    {
     "data": {
      "image/png": "[encoded data removed]",
      "text/plain": [
       "TemplateReaction(index=153, reactants=[Species(index=16, label=\"HCO*\", thermo=NASA(polynomials=[NASAPolynomial(coeffs=[-1.43681,0.0369245,-7.17909e-05,6.7354e-08,-2.35182e-11,-21694.8,8.27565], Tmin=(100,'K'), Tmax=(873.22,'K')), NASAPolynomial(coeffs=[1.83282,0.0100778,-5.28531e-06,1.01351e-09,-6.85179e-14,-21813.3,-4.46405], Tmin=(873.22,'K'), Tmax=(5000,'K'))], Tmin=(100,'K'), Tmax=(5000,'K'), comment=\"\"\"Thermo library: surfaceThermoPt111 Binding energy corrected by LSR (0.25C) from Pt111\"\"\"), molecule=[Molecule(smiles=\"O=C[Pt]\")], molecular_weight=(29.018,'amu')), Species(index=23, label=\"CH3OH*\", thermo=NASA(polynomials=[NASAPolynomial(coeffs=[-1.64008,0.0409974,-6.66155e-05,6.12095e-08,-2.17726e-11,-30508.7,13.8245], Tmin=(100,'K'), Tmax=(850.42,'K')), NASAPolynomial(coeffs=[1.01832,0.0182967,-8.58982e-06,1.62233e-09,-1.10734e-13,-30592.2,3.5978], Tmin=(850.42,'K'), Tmax=(5000,'K'))], Tmin=(100,'K'), Tmax=(5000,'K'), comment=\"\"\"Thermo library: surfaceThermoPt111 Binding energy corrected by LSR () from Pt111\"\"\"), molecule=[Molecule(smiles=\"CO.[Pt]\")], molecular_weight=(32.0419,'amu'))], products=[Species(index=19, label=\"HCOOH*\", thermo=NASA(polynomials=[NASAPolynomial(coeffs=[-1.86629,0.046416,-8.23146e-05,7.46377e-08,-2.57966e-11,-53276.8,17.2793], Tmin=(100,'K'), Tmax=(855.72,'K')), NASAPolynomial(coeffs=[2.69757,0.0143102,-7.153e-06,1.37055e-09,-9.36333e-14,-53663.5,-1.7231], Tmin=(855.72,'K'), Tmax=(5000,'K'))], Tmin=(100,'K'), Tmax=(5000,'K'), comment=\"\"\"Thermo library: surfaceThermoPt111 Binding energy corrected by LSR () from Pt111\"\"\"), molecule=[Molecule(smiles=\"O=CO.[Pt]\")], molecular_weight=(46.0254,'amu')), Species(index=52, label=\"C[Pt]\", thermo=NASA(polynomials=[NASAPolynomial(coeffs=[-1.21087,0.0292386,-4.48994e-05,3.85984e-08,-1.30348e-11,-129.92,6.80928], Tmin=(100,'K'), Tmax=(848.33,'K')), NASAPolynomial(coeffs=[1.62284,0.0112989,-5.08324e-06,9.46852e-10,-6.42901e-14,-445.956,-5.42462], Tmin=(848.33,'K'), Tmax=(5000,'K'))], Tmin=(100,'K'), Tmax=(5000,'K'), comment=\"\"\"Thermo library: surfaceThermoPt111 Binding energy corrected by LSR (0.25C) from Pt111\"\"\"), molecule=[Molecule(smiles=\"C[Pt]\")], molecular_weight=(15.0346,'amu'))], kinetics=SurfaceArrhenius(A=(1e+17,'cm^2/(mol*s)'), n=0, Ea=(0,'kcal/mol'), T0=(1,'K'), comment=\"\"\"Exact match found for rate rule [C-OH;*C=R]\n",
       "Euclidian distance = 0\n",
       "family: Surface_Abstraction_Single_vdW\n",
       "Kinetics were estimated in this direction instead of the reverse because:\n",
       "This direction matched an entry in Surface_Abstraction_Single_vdW, the other was just an estimate.\n",
       "dGrxn(298 K) = -14.42 kJ/mol\n",
       "Ea raised from -5.1 to 0.0 kJ/mol.\"\"\"), pairs=[(Species(index=23, label=\"CH3OH*\", thermo=NASA(polynomials=[NASAPolynomial(coeffs=[-1.64008,0.0409974,-6.66155e-05,6.12095e-08,-2.17726e-11,-30508.7,13.8245], Tmin=(100,'K'), Tmax=(850.42,'K')), NASAPolynomial(coeffs=[1.01832,0.0182967,-8.58982e-06,1.62233e-09,-1.10734e-13,-30592.2,3.5978], Tmin=(850.42,'K'), Tmax=(5000,'K'))], Tmin=(100,'K'), Tmax=(5000,'K'), comment=\"\"\"Thermo library: surfaceThermoPt111 Binding energy corrected by LSR () from Pt111\"\"\"), molecule=[Molecule(smiles=\"CO.[Pt]\")], molecular_weight=(32.0419,'amu')), Species(index=19, label=\"HCOOH*\", thermo=NASA(polynomials=[NASAPolynomial(coeffs=[-1.86629,0.046416,-8.23146e-05,7.46377e-08,-2.57966e-11,-53276.8,17.2793], Tmin=(100,'K'), Tmax=(855.72,'K')), NASAPolynomial(coeffs=[2.69757,0.0143102,-7.153e-06,1.37055e-09,-9.36333e-14,-53663.5,-1.7231], Tmin=(855.72,'K'), Tmax=(5000,'K'))], Tmin=(100,'K'), Tmax=(5000,'K'), comment=\"\"\"Thermo library: surfaceThermoPt111 Binding energy corrected by LSR () from Pt111\"\"\"), molecule=[Molecule(smiles=\"O=CO.[Pt]\")], molecular_weight=(46.0254,'amu'))), (Species(index=16, label=\"HCO*\", thermo=NASA(polynomials=[NASAPolynomial(coeffs=[-1.43681,0.0369245,-7.17909e-05,6.7354e-08,-2.35182e-11,-21694.8,8.27565], Tmin=(100,'K'), Tmax=(873.22,'K')), NASAPolynomial(coeffs=[1.83282,0.0100778,-5.28531e-06,1.01351e-09,-6.85179e-14,-21813.3,-4.46405], Tmin=(873.22,'K'), Tmax=(5000,'K'))], Tmin=(100,'K'), Tmax=(5000,'K'), comment=\"\"\"Thermo library: surfaceThermoPt111 Binding energy corrected by LSR (0.25C) from Pt111\"\"\"), molecule=[Molecule(smiles=\"O=C[Pt]\")], molecular_weight=(29.018,'amu')), Species(index=52, label=\"C[Pt]\", thermo=NASA(polynomials=[NASAPolynomial(coeffs=[-1.21087,0.0292386,-4.48994e-05,3.85984e-08,-1.30348e-11,-129.92,6.80928], Tmin=(100,'K'), Tmax=(848.33,'K')), NASAPolynomial(coeffs=[1.62284,0.0112989,-5.08324e-06,9.46852e-10,-6.42901e-14,-445.956,-5.42462], Tmin=(848.33,'K'), Tmax=(5000,'K'))], Tmin=(100,'K'), Tmax=(5000,'K'), comment=\"\"\"Thermo library: surfaceThermoPt111 Binding energy corrected by LSR (0.25C) from Pt111\"\"\"), molecule=[Molecule(smiles=\"C[Pt]\")], molecular_weight=(15.0346,'amu')))], family='Surface_Abstraction_Single_vdW', template=['C-OH', '*C=R'])"
      ]
     },
     "metadata": {},
     "output_type": "display_data"
    },
    {
     "name": "stdout",
     "output_type": "stream",
     "text": [
      "Reverse! Exact match found for rate rule [C-OH;*C=R]\n",
      "Euclidian distance = 0\n",
      "family: Surface_Abstraction_Single_vdW\n",
      "Kinetics were estimated in this direction instead of the reverse because:\n",
      "This direction matched an entry in Surface_Abstraction_Single_vdW, the other was just an estimate.\n",
      "dGrxn(298 K) = -14.42 kJ/mol\n",
      "Ea raised from -5.1 to 0.0 kJ/mol.\n"
     ]
    },
    {
     "data": {
      "image/png": "[encoded data removed]",
      "text/plain": [
       "TemplateReaction(index=154, reactants=[Species(index=52, label=\"C[Pt]\", thermo=NASA(polynomials=[NASAPolynomial(coeffs=[-1.21087,0.0292386,-4.48994e-05,3.85984e-08,-1.30348e-11,-129.92,6.80928], Tmin=(100,'K'), Tmax=(848.33,'K')), NASAPolynomial(coeffs=[1.62284,0.0112989,-5.08324e-06,9.46852e-10,-6.42901e-14,-445.956,-5.42462], Tmin=(848.33,'K'), Tmax=(5000,'K'))], Tmin=(100,'K'), Tmax=(5000,'K'), comment=\"\"\"Thermo library: surfaceThermoPt111 Binding energy corrected by LSR (0.25C) from Pt111\"\"\"), molecule=[Molecule(smiles=\"C[Pt]\")], molecular_weight=(15.0346,'amu')), Species(index=22, label=\"CH3O2*\", thermo=NASA(polynomials=[NASAPolynomial(coeffs=[3.2192,0.00671671,3.72291e-05,-5.7366e-08,2.36273e-11,-47489.4,-6.14533], Tmin=(100,'K'), Tmax=(932.25,'K')), NASAPolynomial(coeffs=[10.3101,0.00304319,9.69468e-08,-3.18957e-11,-2.13732e-15,-49974,-46.0922], Tmin=(932.25,'K'), Tmax=(5000,'K'))], Tmin=(100,'K'), Tmax=(5000,'K'), comment=\"\"\"Gas phase thermo for HOCH2O from Thermo library: DFT_QCI_thermo. Adsorption correction: + Thermo group additivity estimation: adsorptionPt111(O-*R)\n",
       "Binding energy corrected by LSR (0.50O) from Pt111\"\"\"), molecule=[Molecule(smiles=\"OCO[Pt]\")], molecular_weight=(47.0334,'amu'))], products=[Species(index=20, label=\"CH2O*\", thermo=NASA(polynomials=[NASAPolynomial(coeffs=[-1.46702,0.0413879,-8.87644e-05,9.1015e-08,-3.36626e-11,-20300.2,15.718], Tmin=(100,'K'), Tmax=(879.3,'K')), NASAPolynomial(coeffs=[-0.892794,0.0166194,-8.71582e-06,1.66813e-09,-1.12501e-13,-19544.7,17.8921], Tmin=(879.3,'K'), Tmax=(5000,'K'))], Tmin=(100,'K'), Tmax=(5000,'K'), comment=\"\"\"Thermo library: surfaceThermoPt111 Binding energy corrected by LSR () from Pt111\"\"\"), molecule=[Molecule(smiles=\"C=O.[Pt]\")], molecular_weight=(30.026,'amu')), Species(index=23, label=\"CH3OH*\", thermo=NASA(polynomials=[NASAPolynomial(coeffs=[-1.64008,0.0409974,-6.66155e-05,6.12095e-08,-2.17726e-11,-30508.7,13.8245], Tmin=(100,'K'), Tmax=(850.42,'K')), NASAPolynomial(coeffs=[1.01832,0.0182967,-8.58982e-06,1.62233e-09,-1.10734e-13,-30592.2,3.5978], Tmin=(850.42,'K'), Tmax=(5000,'K'))], Tmin=(100,'K'), Tmax=(5000,'K'), comment=\"\"\"Thermo library: surfaceThermoPt111 Binding energy corrected by LSR () from Pt111\"\"\"), molecule=[Molecule(smiles=\"CO.[Pt]\")], molecular_weight=(32.0419,'amu'))], kinetics=SurfaceArrhenius(A=(4.18e+21,'cm^2/(mol*s)'), n=0, Ea=(20.427,'kcal/mol'), T0=(1,'K'), comment=\"\"\"Exact match found for rate rule [Abstracting;Donating]\n",
       "Euclidian distance = 0\n",
       "family: Surface_Abstraction_Beta_double_vdW\"\"\"), pairs=[(Species(index=22, label=\"CH3O2*\", thermo=NASA(polynomials=[NASAPolynomial(coeffs=[3.2192,0.00671671,3.72291e-05,-5.7366e-08,2.36273e-11,-47489.4,-6.14533], Tmin=(100,'K'), Tmax=(932.25,'K')), NASAPolynomial(coeffs=[10.3101,0.00304319,9.69468e-08,-3.18957e-11,-2.13732e-15,-49974,-46.0922], Tmin=(932.25,'K'), Tmax=(5000,'K'))], Tmin=(100,'K'), Tmax=(5000,'K'), comment=\"\"\"Gas phase thermo for HOCH2O from Thermo library: DFT_QCI_thermo. Adsorption correction: + Thermo group additivity estimation: adsorptionPt111(O-*R)\n",
       "Binding energy corrected by LSR (0.50O) from Pt111\"\"\"), molecule=[Molecule(smiles=\"OCO[Pt]\")], molecular_weight=(47.0334,'amu')), Species(index=23, label=\"CH3OH*\", thermo=NASA(polynomials=[NASAPolynomial(coeffs=[-1.64008,0.0409974,-6.66155e-05,6.12095e-08,-2.17726e-11,-30508.7,13.8245], Tmin=(100,'K'), Tmax=(850.42,'K')), NASAPolynomial(coeffs=[1.01832,0.0182967,-8.58982e-06,1.62233e-09,-1.10734e-13,-30592.2,3.5978], Tmin=(850.42,'K'), Tmax=(5000,'K'))], Tmin=(100,'K'), Tmax=(5000,'K'), comment=\"\"\"Thermo library: surfaceThermoPt111 Binding energy corrected by LSR () from Pt111\"\"\"), molecule=[Molecule(smiles=\"CO.[Pt]\")], molecular_weight=(32.0419,'amu'))), (Species(index=52, label=\"C[Pt]\", thermo=NASA(polynomials=[NASAPolynomial(coeffs=[-1.21087,0.0292386,-4.48994e-05,3.85984e-08,-1.30348e-11,-129.92,6.80928], Tmin=(100,'K'), Tmax=(848.33,'K')), NASAPolynomial(coeffs=[1.62284,0.0112989,-5.08324e-06,9.46852e-10,-6.42901e-14,-445.956,-5.42462], Tmin=(848.33,'K'), Tmax=(5000,'K'))], Tmin=(100,'K'), Tmax=(5000,'K'), comment=\"\"\"Thermo library: surfaceThermoPt111 Binding energy corrected by LSR (0.25C) from Pt111\"\"\"), molecule=[Molecule(smiles=\"C[Pt]\")], molecular_weight=(15.0346,'amu')), Species(index=20, label=\"CH2O*\", thermo=NASA(polynomials=[NASAPolynomial(coeffs=[-1.46702,0.0413879,-8.87644e-05,9.1015e-08,-3.36626e-11,-20300.2,15.718], Tmin=(100,'K'), Tmax=(879.3,'K')), NASAPolynomial(coeffs=[-0.892794,0.0166194,-8.71582e-06,1.66813e-09,-1.12501e-13,-19544.7,17.8921], Tmin=(879.3,'K'), Tmax=(5000,'K'))], Tmin=(100,'K'), Tmax=(5000,'K'), comment=\"\"\"Thermo library: surfaceThermoPt111 Binding energy corrected by LSR () from Pt111\"\"\"), molecule=[Molecule(smiles=\"C=O.[Pt]\")], molecular_weight=(30.026,'amu')))], family='Surface_Abstraction_Beta_double_vdW', template=['Abstracting', 'Donating'])"
      ]
     },
     "metadata": {},
     "output_type": "display_data"
    },
    {
     "name": "stdout",
     "output_type": "stream",
     "text": [
      "Exact match found for rate rule [Abstracting;Donating]\n",
      "Euclidian distance = 0\n",
      "family: Surface_Abstraction_Beta_double_vdW\n"
     ]
    }
   ],
   "source": [
    "reac_list = []\n",
    "for reac in model.reactions:\n",
    "    if reac1 in reac.reactants and prod1 in reac.products:\n",
    "    # if prod1 in reac.products:\n",
    "        reac_list.append(reac)\n",
    "        display(reac) \n",
    "        print(reac.kinetics.comment)\n",
    "    if reac1 in reac.products and prod1 in reac.reactants:\n",
    "    # if prod1 in reac.products:\n",
    "        reac_list.append(reac)\n",
    "        display(reac) \n",
    "        print(\"Reverse!\", reac.kinetics.comment)\n",
    "\n"
   ]
  },
  {
   "cell_type": "code",
   "execution_count": 212,
   "metadata": {},
   "outputs": [],
   "source": [
    "# save these reactions to pickle. \n",
    "with open(\"reac_list.pkl\", 'wb') as f:\n",
    "    pickle.dump(reac_list, f)"
   ]
  },
  {
   "cell_type": "code",
   "execution_count": null,
   "metadata": {},
   "outputs": [],
   "source": []
  },
  {
   "cell_type": "code",
   "execution_count": null,
   "metadata": {},
   "outputs": [],
   "source": []
  },
  {
   "cell_type": "code",
   "execution_count": null,
   "metadata": {},
   "outputs": [],
   "source": []
  },
  {
   "cell_type": "code",
   "execution_count": null,
   "metadata": {},
   "outputs": [],
   "source": []
  },
  {
   "cell_type": "code",
   "execution_count": null,
   "metadata": {},
   "outputs": [],
   "source": []
  },
  {
   "cell_type": "markdown",
   "metadata": {},
   "source": [
    "## 4. use the exported rms model and run for all expt conditions. plot tof on parity plot. "
   ]
  },
  {
   "cell_type": "code",
   "execution_count": 297,
   "metadata": {},
   "outputs": [
    {
     "name": "stdout",
     "output_type": "stream",
     "text": [
      "running  0\n",
      "elapsed time for sim:  0.17858505249023438\n",
      "CC  not found in species list\n",
      "CH4  not found in species list\n",
      "process took 3.2506520748138428 seconds\n",
      "running  0\n",
      "elapsed time for sim:  0.18222975730895996\n",
      "CC  not found in species list\n",
      "CH4  not found in species list\n",
      "process took 3.1938741207122803 seconds\n",
      "running  0\n",
      "elapsed time for sim:  0.1899099349975586\n",
      "CC  not found in species list\n",
      "CH4  not found in species list\n",
      "process took 3.3004250526428223 seconds\n",
      "running  0\n",
      "elapsed time for sim:  0.1783771514892578\n",
      "CC  not found in species list\n",
      "CH4  not found in species list\n",
      "process took 3.3064701557159424 seconds\n",
      "running  0\n",
      "elapsed time for sim:  0.15957903861999512\n",
      "CC  not found in species list\n",
      "CH4  not found in species list\n",
      "process took 3.294015884399414 seconds\n",
      "running  0\n",
      "elapsed time for sim:  0.19588899612426758\n",
      "CC  not found in species list\n",
      "CH4  not found in species list\n",
      "process took 3.3409109115600586 seconds\n",
      "running  0\n",
      "elapsed time for sim:  0.17742681503295898\n",
      "CC  not found in species list\n",
      "CH4  not found in species list\n",
      "process took 3.214063882827759 seconds\n",
      "running  0\n",
      "elapsed time for sim:  0.18942022323608398\n",
      "CC  not found in species list\n",
      "CH4  not found in species list\n",
      "process took 3.3623099327087402 seconds\n",
      "running  0\n",
      "elapsed time for sim:  0.15613007545471191\n",
      "CC  not found in species list\n",
      "CH4  not found in species list\n",
      "process took 3.317723035812378 seconds\n",
      "running  0\n",
      "elapsed time for sim:  0.13958287239074707\n",
      "CC  not found in species list\n",
      "CH4  not found in species list\n",
      "process took 3.378706932067871 seconds\n",
      "running  0\n",
      "elapsed time for sim:  0.1682438850402832\n",
      "CC  not found in species list\n",
      "CH4  not found in species list\n",
      "process took 3.2052001953125 seconds\n",
      "running  0\n",
      "elapsed time for sim:  0.1696758270263672\n",
      "CC  not found in species list\n",
      "CH4  not found in species list\n",
      "process took 3.2696807384490967 seconds\n",
      "running  0\n",
      "elapsed time for sim:  0.163316011428833\n",
      "CC  not found in species list\n",
      "CH4  not found in species list\n",
      "process took 3.343341827392578 seconds\n",
      "running  0\n",
      "elapsed time for sim:  0.17485284805297852\n",
      "CC  not found in species list\n",
      "CH4  not found in species list\n",
      "process took 3.247122049331665 seconds\n",
      "running  0\n",
      "elapsed time for sim:  0.1411290168762207\n",
      "CC  not found in species list\n",
      "CH4  not found in species list\n",
      "process took 3.2026779651641846 seconds\n",
      "running  0\n",
      "elapsed time for sim:  0.13557791709899902\n",
      "CC  not found in species list\n",
      "CH4  not found in species list\n",
      "process took 3.2414889335632324 seconds\n",
      "running  0\n",
      "elapsed time for sim:  0.14419102668762207\n",
      "CC  not found in species list\n",
      "CH4  not found in species list\n",
      "process took 3.194749355316162 seconds\n",
      "running  0\n",
      "elapsed time for sim:  0.16778087615966797\n",
      "CC  not found in species list\n",
      "CH4  not found in species list\n",
      "process took 3.1616897583007812 seconds\n",
      "running  0\n",
      "elapsed time for sim:  0.1603100299835205\n",
      "CC  not found in species list\n",
      "CH4  not found in species list\n",
      "process took 3.207134962081909 seconds\n",
      "running  0\n",
      "elapsed time for sim:  0.14122796058654785\n",
      "CC  not found in species list\n",
      "CH4  not found in species list\n",
      "process took 3.16554594039917 seconds\n",
      "running  0\n",
      "elapsed time for sim:  0.1642899513244629\n",
      "CC  not found in species list\n",
      "CH4  not found in species list\n",
      "process took 3.1442711353302 seconds\n",
      "running  0\n",
      "elapsed time for sim:  0.17681002616882324\n",
      "CC  not found in species list\n",
      "CH4  not found in species list\n",
      "process took 3.157663106918335 seconds\n",
      "running  0\n",
      "elapsed time for sim:  0.135667085647583\n",
      "CC  not found in species list\n",
      "CH4  not found in species list\n",
      "process took 3.1288061141967773 seconds\n",
      "running  0\n",
      "elapsed time for sim:  0.13963794708251953\n",
      "CC  not found in species list\n",
      "CH4  not found in species list\n",
      "process took 3.1340491771698 seconds\n",
      "running  0\n",
      "elapsed time for sim:  0.17581915855407715\n",
      "CC  not found in species list\n",
      "CH4  not found in species list\n",
      "process took 3.1692280769348145 seconds\n",
      "running  0\n",
      "elapsed time for sim:  0.177947998046875\n",
      "CC  not found in species list\n",
      "CH4  not found in species list\n",
      "process took 3.1975510120391846 seconds\n",
      "running  0\n",
      "elapsed time for sim:  0.14035892486572266\n",
      "CC  not found in species list\n",
      "CH4  not found in species list\n",
      "process took 3.0688321590423584 seconds\n",
      "running  0\n",
      "elapsed time for sim:  0.13665771484375\n",
      "CC  not found in species list\n",
      "CH4  not found in species list\n",
      "process took 3.164469003677368 seconds\n",
      "running  0\n",
      "elapsed time for sim:  0.13352513313293457\n",
      "CC  not found in species list\n",
      "CH4  not found in species list\n",
      "process took 3.1563899517059326 seconds\n",
      "running  0\n",
      "elapsed time for sim:  0.15225982666015625\n",
      "CC  not found in species list\n",
      "CH4  not found in species list\n",
      "process took 3.1267220973968506 seconds\n",
      "running  0\n",
      "elapsed time for sim:  0.17329716682434082\n",
      "CC  not found in species list\n",
      "CH4  not found in species list\n",
      "process took 3.173856019973755 seconds\n",
      "running  0\n",
      "elapsed time for sim:  0.15075397491455078\n",
      "CC  not found in species list\n",
      "CH4  not found in species list\n",
      "process took 3.179516077041626 seconds\n",
      "running  0\n",
      "elapsed time for sim:  0.12526488304138184\n",
      "CC  not found in species list\n",
      "CH4  not found in species list\n",
      "process took 3.122979164123535 seconds\n",
      "running  0\n",
      "elapsed time for sim:  0.15669703483581543\n",
      "CC  not found in species list\n",
      "CH4  not found in species list\n",
      "process took 3.122039794921875 seconds\n",
      "running  0\n",
      "elapsed time for sim:  0.16353201866149902\n",
      "CC  not found in species list\n",
      "CH4  not found in species list\n",
      "process took 3.1494338512420654 seconds\n",
      "running  0\n",
      "elapsed time for sim:  0.14148807525634766\n",
      "CC  not found in species list\n",
      "CH4  not found in species list\n",
      "process took 3.201549768447876 seconds\n",
      "running  0\n",
      "elapsed time for sim:  0.14237284660339355\n",
      "CC  not found in species list\n",
      "CH4  not found in species list\n",
      "process took 3.191667079925537 seconds\n",
      "running  0\n",
      "elapsed time for sim:  0.1348249912261963\n",
      "CC  not found in species list\n",
      "CH4  not found in species list\n",
      "process took 3.1907529830932617 seconds\n",
      "running  0\n",
      "elapsed time for sim:  0.13737797737121582\n",
      "CC  not found in species list\n",
      "CH4  not found in species list\n",
      "process took 3.1576459407806396 seconds\n",
      "running  0\n",
      "elapsed time for sim:  0.15788817405700684\n",
      "CC  not found in species list\n",
      "CH4  not found in species list\n",
      "process took 3.1947519779205322 seconds\n",
      "running  0\n",
      "elapsed time for sim:  0.15816903114318848\n",
      "CC  not found in species list\n",
      "CH4  not found in species list\n",
      "process took 3.130048990249634 seconds\n",
      "running  0\n",
      "elapsed time for sim:  0.15702128410339355\n",
      "CC  not found in species list\n",
      "CH4  not found in species list\n",
      "process took 3.103893995285034 seconds\n",
      "running  0\n",
      "elapsed time for sim:  0.13645315170288086\n",
      "CC  not found in species list\n",
      "CH4  not found in species list\n",
      "process took 3.1505839824676514 seconds\n",
      "running  0\n",
      "elapsed time for sim:  0.14094328880310059\n",
      "CC  not found in species list\n",
      "CH4  not found in species list\n",
      "process took 3.1982288360595703 seconds\n",
      "running  0\n",
      "elapsed time for sim:  0.172760009765625\n",
      "CC  not found in species list\n",
      "CH4  not found in species list\n",
      "process took 3.165515899658203 seconds\n",
      "running  0\n",
      "elapsed time for sim:  0.1880168914794922\n",
      "CC  not found in species list\n",
      "CH4  not found in species list\n",
      "process took 3.1889259815216064 seconds\n",
      "running  0\n",
      "elapsed time for sim:  0.1471247673034668\n",
      "CC  not found in species list\n",
      "CH4  not found in species list\n",
      "process took 3.1744961738586426 seconds\n",
      "running  0\n",
      "elapsed time for sim:  0.1650381088256836\n",
      "CC  not found in species list\n",
      "CH4  not found in species list\n",
      "process took 3.2089340686798096 seconds\n",
      "running  0\n",
      "elapsed time for sim:  0.15918779373168945\n",
      "CC  not found in species list\n",
      "CH4  not found in species list\n",
      "process took 3.2578859329223633 seconds\n",
      "running  0\n",
      "elapsed time for sim:  0.15322017669677734\n",
      "CC  not found in species list\n",
      "CH4  not found in species list\n",
      "process took 3.328974962234497 seconds\n",
      "running  0\n",
      "elapsed time for sim:  0.18189311027526855\n",
      "CC  not found in species list\n",
      "CH4  not found in species list\n",
      "process took 3.3400540351867676 seconds\n",
      "running  0\n",
      "elapsed time for sim:  0.14378881454467773\n",
      "CC  not found in species list\n",
      "CH4  not found in species list\n",
      "process took 3.2731499671936035 seconds\n",
      "running  0\n",
      "elapsed time for sim:  0.16719698905944824\n",
      "CC  not found in species list\n",
      "CH4  not found in species list\n",
      "process took 3.16300892829895 seconds\n",
      "running  0\n",
      "elapsed time for sim:  0.18406295776367188\n",
      "CC  not found in species list\n",
      "CH4  not found in species list\n",
      "process took 3.146250009536743 seconds\n",
      "running  0\n",
      "elapsed time for sim:  0.17455101013183594\n",
      "CC  not found in species list\n",
      "CH4  not found in species list\n",
      "process took 3.249462842941284 seconds\n",
      "running  0\n",
      "elapsed time for sim:  0.19204998016357422\n",
      "CC  not found in species list\n",
      "CH4  not found in species list\n",
      "process took 3.2558891773223877 seconds\n",
      "running  0\n",
      "elapsed time for sim:  0.16263508796691895\n",
      "CC  not found in species list\n",
      "CH4  not found in species list\n",
      "process took 3.265745162963867 seconds\n",
      "running  0\n",
      "elapsed time for sim:  0.19199824333190918\n",
      "CC  not found in species list\n",
      "CH4  not found in species list\n",
      "process took 3.190892219543457 seconds\n",
      "running  0\n",
      "elapsed time for sim:  0.20428013801574707\n",
      "CC  not found in species list\n",
      "CH4  not found in species list\n",
      "process took 3.3254427909851074 seconds\n",
      "running  0\n",
      "elapsed time for sim:  0.19335412979125977\n",
      "CC  not found in species list\n",
      "CH4  not found in species list\n",
      "process took 3.459043025970459 seconds\n",
      "running  0\n",
      "elapsed time for sim:  0.2017679214477539\n",
      "CC  not found in species list\n",
      "CH4  not found in species list\n",
      "process took 3.2790567874908447 seconds\n",
      "running  0\n",
      "elapsed time for sim:  0.1894092559814453\n",
      "CC  not found in species list\n",
      "CH4  not found in species list\n",
      "process took 3.348483085632324 seconds\n",
      "running  0\n",
      "elapsed time for sim:  0.21200299263000488\n",
      "CC  not found in species list\n",
      "CH4  not found in species list\n",
      "process took 3.341254711151123 seconds\n",
      "running  0\n",
      "elapsed time for sim:  0.16040706634521484\n",
      "CC  not found in species list\n",
      "CH4  not found in species list\n",
      "process took 3.246330738067627 seconds\n",
      "running  0\n",
      "elapsed time for sim:  0.16467905044555664\n",
      "CC  not found in species list\n",
      "CH4  not found in species list\n",
      "process took 3.310326099395752 seconds\n",
      "running  0\n",
      "elapsed time for sim:  0.1896970272064209\n",
      "CC  not found in species list\n",
      "CH4  not found in species list\n",
      "process took 3.2718122005462646 seconds\n",
      "running  0\n",
      "elapsed time for sim:  0.15690326690673828\n",
      "CC  not found in species list\n",
      "CH4  not found in species list\n",
      "process took 3.238964080810547 seconds\n",
      "running  0\n",
      "elapsed time for sim:  0.179107666015625\n",
      "CC  not found in species list\n",
      "CH4  not found in species list\n",
      "process took 3.193274974822998 seconds\n",
      "running  0\n",
      "elapsed time for sim:  0.17809796333312988\n",
      "CC  not found in species list\n",
      "CH4  not found in species list\n",
      "process took 3.4391071796417236 seconds\n",
      "running  0\n",
      "elapsed time for sim:  0.1937708854675293\n",
      "CC  not found in species list\n",
      "CH4  not found in species list\n",
      "process took 3.388648748397827 seconds\n",
      "running  0\n",
      "elapsed time for sim:  0.16499781608581543\n",
      "CC  not found in species list\n",
      "CH4  not found in species list\n",
      "process took 3.304776191711426 seconds\n",
      "running  0\n",
      "elapsed time for sim:  0.17966699600219727\n",
      "CC  not found in species list\n",
      "CH4  not found in species list\n",
      "process took 3.3020379543304443 seconds\n",
      "running  0\n",
      "elapsed time for sim:  0.16530776023864746\n",
      "CC  not found in species list\n",
      "CH4  not found in species list\n",
      "process took 3.3227882385253906 seconds\n",
      "running  0\n",
      "elapsed time for sim:  0.18536067008972168\n",
      "CC  not found in species list\n",
      "CH4  not found in species list\n",
      "process took 3.2975101470947266 seconds\n",
      "all reactors took 239.19303107261658 seconds\n"
     ]
    }
   ],
   "source": [
    "# run all the reactors in parallel\n",
    "use_modified_rms = True\n",
    "rmg_model_folder = os.path.join(repo_dir, \"rmg_gua\", \"rmg_model\",)\n",
    "if use_modified_rms: \n",
    "    rms_file_path = os.path.join(rmg_model_folder, \"rms\", \"chem_modified.yml\")\n",
    "    output_file_name = \"rms_analysis_modified.csv\"\n",
    "else: \n",
    "    rms_file_path = get_highest_rms_file(rmg_model_folder)\n",
    "    output_file_name = \"rms_analysis_original.csv\"\n",
    "\n",
    "csv_path = os.path.join(rmg_model_folder, output_file_name)\n",
    "\n",
    "# generate settings array\n",
    "settings_yaml = os.path.join(repo_dir, \"rmg_gua\", \"gua_cantera\", \"experiments_reorg_onlyopt.yaml\")\n",
    "with open(settings_yaml, 'r') as f:\n",
    "    settings = yaml.safe_load(f)\n",
    "\n",
    "def run_reactor(condts):\n",
    "\n",
    "    # initialize reactor\n",
    "    sbr_ss = rms_sbr(\n",
    "        rms_file_path,\n",
    "        reac_config = condts,\n",
    "        rtol=1.0e-11,\n",
    "        atol=1.0e-22,\n",
    "    )\n",
    "\n",
    "    results = sbr_ss.run_simulation()\n",
    "    return results\n",
    "\n",
    "\n",
    "# Too much memory? is that why it's slow?\n",
    "# multiprocessing.set_start_method(\"spawn\")\n",
    "# with multiprocessing.Pool() as p:\n",
    "#     result = p.map(run_reactor, settings)\n",
    "\n",
    "result = []\n",
    "# workaround: just run in serial\n",
    "count = 0\n",
    "ttot1 = time.time()\n",
    "for condition in settings: \n",
    "    print(\"running \", count)\n",
    "    \n",
    "    t1 = time.time()\n",
    "    res = run_reactor(condition)\n",
    "    result.append(res)\n",
    "    t2 = time.time()\n",
    "    \n",
    "    print(f\"process took {t2-t1} seconds\")\n",
    "\n",
    "ttot2 = time.time()\n",
    "print(f\"all reactors took {ttot2-ttot1} seconds\")\n",
    "\n",
    "df = pd.DataFrame(result)\n",
    "\n",
    "# post process results after pool is finished running\n",
    "# we will only use runs where intraparticle diffusion limitations\n",
    "# are not an issue, i.e. T < 518K\n",
    "df_graaf = df[(df['T (K)'] < 518) & (df['experiment'] == 'graaf_1988') & (df['use_for_opt'] == True)]\n",
    "df_graaf.to_csv(csv_path)"
   ]
  },
  {
   "cell_type": "code",
   "execution_count": 298,
   "metadata": {},
   "outputs": [
    {
     "data": {
      "text/plain": [
       "Index(['experiment', 'use_for_opt', 'time (s)', 'T (K)', 'P (Pa)', 'V (m^3/s)',\n",
       "       'x_CO initial', 'x_CO2 initial', 'x_H2 initial', 'x_H2O initial',\n",
       "       'CO2/(CO2+CO)', '(CO+CO2/H2)', 'T (K) final', 'Rtol', 'Atol',\n",
       "       'reactor type', 'energy on?', 'catalyst area', 'graaf MeOH TOF 1/s',\n",
       "       'graaf H2O TOF 1/s', 'RMG MeOH TOF 1/s', 'RMG H2O TOF 1/s',\n",
       "       'error squared MeOH TOF', 'error squared H2O TOF', 'obj_func',\n",
       "       'log10(RMG/graaf) MeOH TOF', 'log10(RMG/graaf) H2O TOF',\n",
       "       'log10(RMG/graaf) TOF', 'N2', 'Ne'],\n",
       "      dtype='object')"
      ]
     },
     "execution_count": 298,
     "metadata": {},
     "output_type": "execute_result"
    }
   ],
   "source": [
    "df_graaf.columns[:30]"
   ]
  },
  {
   "cell_type": "code",
   "execution_count": 299,
   "metadata": {},
   "outputs": [
    {
     "data": {
      "text/plain": [
       "[<matplotlib.lines.Line2D at 0x7fb4f9d3ce50>]"
      ]
     },
     "execution_count": 299,
     "metadata": {},
     "output_type": "execute_result"
    },
    {
     "data": {
      "image/png": "[encoded data removed]",
      "text/plain": [
       "<Figure size 640x480 with 1 Axes>"
      ]
     },
     "metadata": {},
     "output_type": "display_data"
    },
    {
     "data": {
      "image/png": "[encoded data removed]",
      "text/plain": [
       "<Figure size 640x480 with 1 Axes>"
      ]
     },
     "metadata": {},
     "output_type": "display_data"
    }
   ],
   "source": [
    "# parity plot of the meoh tof\n",
    "import numpy as np\n",
    "csv_path = os.path.join(rmg_model_folder, \"rms_analysis_original.csv\")\n",
    "df_graaf = pd.read_csv(csv_path)\n",
    "\n",
    "meoh_max = max([df_graaf['graaf MeOH TOF 1/s'].max(), df_graaf['RMG MeOH TOF 1/s'].max()])\n",
    "meoh_min = min([df_graaf['graaf MeOH TOF 1/s'].min(), df_graaf['RMG MeOH TOF 1/s'].min()])\n",
    "meoh_line = np.logspace(np.log10(meoh_min), np.log10(meoh_max), 10)\n",
    "plot1 = df_graaf.plot.scatter(x='graaf MeOH TOF 1/s', y='RMG MeOH TOF 1/s', c='blue', loglog=True)\n",
    "plot1.plot(meoh_line,meoh_line, linestyle='--', c='black', )\n",
    "\n",
    "\n",
    "# parity plot of the h2o tof\n",
    "h2o_max = max([df_graaf['graaf H2O TOF 1/s'].max(), df_graaf['RMG H2O TOF 1/s'].max()])\n",
    "h2o_min = min([df_graaf['graaf H2O TOF 1/s'].min(), df_graaf['RMG H2O TOF 1/s'].min()])\n",
    "h2o_line = np.logspace(np.log10(h2o_min), np.log10(h2o_max), 10)\n",
    "plot2 = df_graaf.plot.scatter(x='graaf H2O TOF 1/s', y='RMG H2O TOF 1/s', c='red', loglog=True)\n",
    "plot2.plot(h2o_line, h2o_line,linestyle='--', c='black', )"
   ]
  },
  {
   "cell_type": "code",
   "execution_count": 300,
   "metadata": {},
   "outputs": [
    {
     "data": {
      "text/plain": [
       "[<matplotlib.lines.Line2D at 0x7fb4ebe28dd0>]"
      ]
     },
     "execution_count": 300,
     "metadata": {},
     "output_type": "execute_result"
    },
    {
     "data": {
      "image/png": "[encoded data removed]",
      "text/plain": [
       "<Figure size 640x480 with 1 Axes>"
      ]
     },
     "metadata": {},
     "output_type": "display_data"
    },
    {
     "data": {
      "image/png": "[encoded data removed]",
      "text/plain": [
       "<Figure size 640x480 with 1 Axes>"
      ]
     },
     "metadata": {},
     "output_type": "display_data"
    }
   ],
   "source": [
    "# exact same code as above, except df_graaf is now df_graaf_modified\n",
    "# parity plot of the meoh tof\n",
    "csv_path = os.path.join(rmg_model_folder, \"rms_analysis_modified.csv\")\n",
    "df_graaf_modified = pd.read_csv(csv_path)\n",
    "\n",
    "meoh_max = max([df_graaf_modified['graaf MeOH TOF 1/s'].max(), df_graaf_modified['RMG MeOH TOF 1/s'].max()])\n",
    "meoh_min = min([df_graaf_modified['graaf MeOH TOF 1/s'].min(), df_graaf_modified['RMG MeOH TOF 1/s'].min()])\n",
    "meoh_line = np.logspace(np.log10(meoh_min), np.log10(meoh_max), 10)\n",
    "plot1 = df_graaf_modified.plot.scatter(x='graaf MeOH TOF 1/s', y='RMG MeOH TOF 1/s', c='blue', loglog=True)\n",
    "plot1.plot(meoh_line,meoh_line, linestyle='--', c='black', )\n",
    "\n",
    "# parity plot of the h2o tof\n",
    "h2o_max = max([df_graaf_modified['graaf H2O TOF 1/s'].max(), df_graaf_modified['RMG H2O TOF 1/s'].max()])\n",
    "h2o_min = min([df_graaf_modified['graaf H2O TOF 1/s'].min(), df_graaf_modified['RMG H2O TOF 1/s'].min()])\n",
    "h2o_line = np.logspace(np.log10(h2o_min), np.log10(h2o_max), 10)\n",
    "plot2 = df_graaf_modified.plot.scatter(x='graaf H2O TOF 1/s', y='RMG H2O TOF 1/s', c='red', loglog=True)\n",
    "plot2.plot(h2o_line, h2o_line,linestyle='--', c='black', )"
   ]
  },
  {
   "cell_type": "code",
   "execution_count": null,
   "metadata": {},
   "outputs": [
    {
     "name": "stdout",
     "output_type": "stream",
     "text": [
      "sens:  6.300549456876386e-14 rxn:  H2+CO<=>CH2O\n"
     ]
    },
    {
     "ename": "NameError",
     "evalue": "name 'make_spc' is not defined",
     "output_type": "error",
     "traceback": [
      "\u001b[0;31m---------------------------------------------------------------------------\u001b[0m",
      "\u001b[0;31mNameError\u001b[0m                                 Traceback (most recent call last)",
      "\u001b[0;32m/var/folders/bn/dbr8lwvj63n6nd0_j0blp8s80000gp/T/ipykernel_57307/2262526125.py\u001b[0m in \u001b[0;36m<module>\u001b[0;34m\u001b[0m\n\u001b[1;32m      6\u001b[0m         \u001b[0msens\u001b[0m \u001b[0;34m=\u001b[0m \u001b[0mabs\u001b[0m\u001b[0;34m(\u001b[0m\u001b[0mrxn_sens_dict\u001b[0m\u001b[0;34m[\u001b[0m\u001b[0mrxn_str\u001b[0m\u001b[0;34m]\u001b[0m\u001b[0;34m)\u001b[0m\u001b[0;34m\u001b[0m\u001b[0;34m\u001b[0m\u001b[0m\n\u001b[1;32m      7\u001b[0m         \u001b[0mprint\u001b[0m\u001b[0;34m(\u001b[0m\u001b[0;34m\"sens: \"\u001b[0m\u001b[0;34m,\u001b[0m \u001b[0msens\u001b[0m\u001b[0;34m,\u001b[0m \u001b[0;34m\"rxn: \"\u001b[0m\u001b[0;34m,\u001b[0m \u001b[0mrxn_str\u001b[0m\u001b[0;34m)\u001b[0m\u001b[0;34m\u001b[0m\u001b[0;34m\u001b[0m\u001b[0m\n\u001b[0;32m----> 8\u001b[0;31m         \u001b[0mreac_spec\u001b[0m \u001b[0;34m=\u001b[0m \u001b[0;34m[\u001b[0m\u001b[0mmake_spc\u001b[0m\u001b[0;34m(\u001b[0m\u001b[0mreac\u001b[0m\u001b[0;34m)\u001b[0m \u001b[0;32mfor\u001b[0m \u001b[0mreac\u001b[0m \u001b[0;32min\u001b[0m \u001b[0mrxn\u001b[0m\u001b[0;34m.\u001b[0m\u001b[0mreactants\u001b[0m\u001b[0;34m]\u001b[0m\u001b[0;34m\u001b[0m\u001b[0;34m\u001b[0m\u001b[0m\n\u001b[0m\u001b[1;32m      9\u001b[0m         \u001b[0mprod_spec\u001b[0m \u001b[0;34m=\u001b[0m \u001b[0;34m[\u001b[0m\u001b[0mmake_spc\u001b[0m\u001b[0;34m(\u001b[0m\u001b[0mprod\u001b[0m\u001b[0;34m)\u001b[0m \u001b[0;32mfor\u001b[0m \u001b[0mprod\u001b[0m \u001b[0;32min\u001b[0m \u001b[0mrxn\u001b[0m\u001b[0;34m.\u001b[0m\u001b[0mproducts\u001b[0m\u001b[0;34m]\u001b[0m\u001b[0;34m\u001b[0m\u001b[0;34m\u001b[0m\u001b[0m\n\u001b[1;32m     10\u001b[0m         \u001b[0msens_rxn_obj_dict\u001b[0m\u001b[0;34m[\u001b[0m\u001b[0mrxn_str\u001b[0m\u001b[0;34m]\u001b[0m \u001b[0;34m=\u001b[0m \u001b[0;34m(\u001b[0m\u001b[0msens\u001b[0m\u001b[0;34m,\u001b[0m \u001b[0mreac_spec\u001b[0m\u001b[0;34m,\u001b[0m \u001b[0mprod_spec\u001b[0m\u001b[0;34m)\u001b[0m\u001b[0;34m\u001b[0m\u001b[0;34m\u001b[0m\u001b[0m\n",
      "\u001b[0;32m/var/folders/bn/dbr8lwvj63n6nd0_j0blp8s80000gp/T/ipykernel_57307/2262526125.py\u001b[0m in \u001b[0;36m<listcomp>\u001b[0;34m(.0)\u001b[0m\n\u001b[1;32m      6\u001b[0m         \u001b[0msens\u001b[0m \u001b[0;34m=\u001b[0m \u001b[0mabs\u001b[0m\u001b[0;34m(\u001b[0m\u001b[0mrxn_sens_dict\u001b[0m\u001b[0;34m[\u001b[0m\u001b[0mrxn_str\u001b[0m\u001b[0;34m]\u001b[0m\u001b[0;34m)\u001b[0m\u001b[0;34m\u001b[0m\u001b[0;34m\u001b[0m\u001b[0m\n\u001b[1;32m      7\u001b[0m         \u001b[0mprint\u001b[0m\u001b[0;34m(\u001b[0m\u001b[0;34m\"sens: \"\u001b[0m\u001b[0;34m,\u001b[0m \u001b[0msens\u001b[0m\u001b[0;34m,\u001b[0m \u001b[0;34m\"rxn: \"\u001b[0m\u001b[0;34m,\u001b[0m \u001b[0mrxn_str\u001b[0m\u001b[0;34m)\u001b[0m\u001b[0;34m\u001b[0m\u001b[0;34m\u001b[0m\u001b[0m\n\u001b[0;32m----> 8\u001b[0;31m         \u001b[0mreac_spec\u001b[0m \u001b[0;34m=\u001b[0m \u001b[0;34m[\u001b[0m\u001b[0mmake_spc\u001b[0m\u001b[0;34m(\u001b[0m\u001b[0mreac\u001b[0m\u001b[0;34m)\u001b[0m \u001b[0;32mfor\u001b[0m \u001b[0mreac\u001b[0m \u001b[0;32min\u001b[0m \u001b[0mrxn\u001b[0m\u001b[0;34m.\u001b[0m\u001b[0mreactants\u001b[0m\u001b[0;34m]\u001b[0m\u001b[0;34m\u001b[0m\u001b[0;34m\u001b[0m\u001b[0m\n\u001b[0m\u001b[1;32m      9\u001b[0m         \u001b[0mprod_spec\u001b[0m \u001b[0;34m=\u001b[0m \u001b[0;34m[\u001b[0m\u001b[0mmake_spc\u001b[0m\u001b[0;34m(\u001b[0m\u001b[0mprod\u001b[0m\u001b[0;34m)\u001b[0m \u001b[0;32mfor\u001b[0m \u001b[0mprod\u001b[0m \u001b[0;32min\u001b[0m \u001b[0mrxn\u001b[0m\u001b[0;34m.\u001b[0m\u001b[0mproducts\u001b[0m\u001b[0;34m]\u001b[0m\u001b[0;34m\u001b[0m\u001b[0;34m\u001b[0m\u001b[0m\n\u001b[1;32m     10\u001b[0m         \u001b[0msens_rxn_obj_dict\u001b[0m\u001b[0;34m[\u001b[0m\u001b[0mrxn_str\u001b[0m\u001b[0;34m]\u001b[0m \u001b[0;34m=\u001b[0m \u001b[0;34m(\u001b[0m\u001b[0msens\u001b[0m\u001b[0;34m,\u001b[0m \u001b[0mreac_spec\u001b[0m\u001b[0;34m,\u001b[0m \u001b[0mprod_spec\u001b[0m\u001b[0;34m)\u001b[0m\u001b[0;34m\u001b[0m\u001b[0;34m\u001b[0m\u001b[0m\n",
      "\u001b[0;31mNameError\u001b[0m: name 'make_spc' is not defined"
     ]
    }
   ],
   "source": [
    "sens_rxn_obj_dict = {}\n",
    "top10_dict = dict(top10)\n",
    "for rxn in rxns_objs: \n",
    "    rxn_str = rms.getrxnstr(rxn)\n",
    "    if rxn_str in top10_dict.keys():#and rxn_str not in sens_rxn_obj_dict.keys():\n",
    "        sens = abs(rxn_sens_dict[rxn_str])\n",
    "        print(\"sens: \", sens, \"rxn: \", rxn_str)\n",
    "        reac_spec = [make_spc(reac) for reac in rxn.reactants]\n",
    "        prod_spec = [make_spc(prod) for prod in rxn.products]\n",
    "        sens_rxn_obj_dict[rxn_str] = (sens, reac_spec, prod_spec)\n",
    "sens_rxn_obj_dict"
   ]
  },
  {
   "cell_type": "code",
   "execution_count": null,
   "metadata": {},
   "outputs": [],
   "source": [
    "# now match up the rms reaction sensitivities with the actual rxn in chemkin\n",
    "# match species does forward and reverse. if there are multiple matches, it will\n",
    "# print a warning.\n",
    "match_list = []\n",
    "sens_cmkn_dict = {}\n",
    "for rxn_str, entry in sens_rxn_obj_dict.items():\n",
    "    for rxn in model.reactions:\n",
    "        counter = 0\n",
    "        if rxn.matches_species(entry[1],entry[2]):\n",
    "            print(\"match : \", rxn_str, counter)\n",
    "            match_list.append(rxn_str)\n",
    "            sens_cmkn_dict[rxn_str] = (entry[0], rxn)\n",
    "        counter += 1\n",
    "        if counter >=2: \n",
    "            print(\"more than 1 match found for \", rxn_str)\n",
    "if len(match_list) == len(sens_rxn_obj_dict.keys()):\n",
    "    print(\"all matches found\")\n",
    "else: \n",
    "    for rxn_str, entry in sens_rxn_obj_dict.items():\n",
    "        if rxn_str not in match_list:\n",
    "            print(\"no match found for \", rxn_str)\n",
    "\n",
    "# use max key because we have taken abs(sensitivity)\n",
    "max_key = max(sens_cmkn_dict, key=sens_cmkn_dict.get)\n",
    "most_sens_rxn = sens_cmkn_dict[max_key][1]\n",
    "\n",
    "# now pickle the most sensitive reaction\n",
    "cmkn_pickle_path = os.path.join(rmg_model_folder, \"sens_cmkn_dict.pickle\")\n",
    "with open(cmkn_pickle_path, \"wb\") as f:\n",
    "    pickle.dump(most_sens_rxn, f)\n"
   ]
  },
  {
   "cell_type": "code",
   "execution_count": null,
   "metadata": {},
   "outputs": [],
   "source": [
    "most_sens_rxn.get_source()"
   ]
  },
  {
   "cell_type": "code",
   "execution_count": null,
   "metadata": {},
   "outputs": [],
   "source": []
  },
  {
   "cell_type": "code",
   "execution_count": null,
   "metadata": {},
   "outputs": [],
   "source": []
  },
  {
   "cell_type": "code",
   "execution_count": null,
   "metadata": {},
   "outputs": [],
   "source": []
  },
  {
   "cell_type": "code",
   "execution_count": null,
   "metadata": {},
   "outputs": [],
   "source": []
  }
 ],
 "metadata": {
  "kernelspec": {
   "display_name": "rmg_env",
   "language": "python",
   "name": "python3"
  },
  "language_info": {
   "codemirror_mode": {
    "name": "ipython",
    "version": 3
   },
   "file_extension": ".py",
   "mimetype": "text/x-python",
   "name": "python",
   "nbconvert_exporter": "python",
   "pygments_lexer": "ipython3",
   "version": "3.7.12"
  }
 },
 "nbformat": 4,
 "nbformat_minor": 2
}
