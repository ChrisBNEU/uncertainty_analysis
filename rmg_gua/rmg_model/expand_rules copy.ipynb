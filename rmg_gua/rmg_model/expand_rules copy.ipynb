{
 "cells": [
  {
   "cell_type": "markdown",
   "metadata": {},
   "source": [
    " # Expand rules\n",
    "To be used in conjunction with examine model.\n",
    "\n",
    "1. builds out rule for a reaction identified\n",
    "2. re-runs rmg\n",
    "3. recreates input files for peuqse\n"
   ]
  },
  {
   "cell_type": "markdown",
   "metadata": {},
   "source": [
    "## 1. build out rule for identified reaction\n"
   ]
  },
  {
   "cell_type": "code",
   "execution_count": 1,
   "metadata": {},
   "outputs": [],
   "source": [
    "import os\n",
    "import sys\n",
    "import numpy as np\n",
    "import pandas as pd\n",
    "import itertools\n",
    "import yaml\n",
    "import pickle\n",
    "import multiprocessing\n",
    "import time \n",
    "import subprocess\n",
    "\n",
    "repo_dir = os.path.dirname(os.path.dirname(os.path.abspath(\"\")))\n"
   ]
  },
  {
   "cell_type": "code",
   "execution_count": 65,
   "metadata": {},
   "outputs": [],
   "source": [
    "from rmgpy.quantity import Energy\n",
    "binding_energies = {\n",
    "            'H': Energy(-2.75368,'eV/molecule'),\n",
    "            'C': Energy(-4.02516,'eV/molecule'),\n",
    "            'N': Energy(-4.63225,'eV/molecule'),\n",
    "            'O': Energy(-3.81153,'eV/molecule'),\n",
    "        }"
   ]
  },
  {
   "cell_type": "code",
   "execution_count": 66,
   "metadata": {},
   "outputs": [
    {
     "name": "stderr",
     "output_type": "stream",
     "text": [
      "WARNING:root:An instance of RMGDatabase already exists. Re-initializing it.\n",
      "WARNING:root:Only Arrhenius and PDepArrhenius kinetics supported for duplicate reactions.\n",
      "WARNING:root:Only Arrhenius and PDepArrhenius kinetics supported for duplicate reactions.\n",
      "WARNING:root:Only Arrhenius and PDepArrhenius kinetics supported for duplicate reactions.\n",
      "WARNING:root:Only Arrhenius and PDepArrhenius kinetics supported for duplicate reactions.\n",
      "WARNING:root:Only Arrhenius and PDepArrhenius kinetics supported for duplicate reactions.\n",
      "WARNING:root:Only Arrhenius and PDepArrhenius kinetics supported for duplicate reactions.\n",
      "WARNING:root:Only Arrhenius and PDepArrhenius kinetics supported for duplicate reactions.\n",
      "WARNING:root:Only Arrhenius and PDepArrhenius kinetics supported for duplicate reactions.\n",
      "WARNING:root:Only Arrhenius and PDepArrhenius kinetics supported for duplicate reactions.\n",
      "WARNING:root:Only Arrhenius and PDepArrhenius kinetics supported for duplicate reactions.\n",
      "WARNING:root:Only Arrhenius and PDepArrhenius kinetics supported for duplicate reactions.\n",
      "WARNING:root:Only Arrhenius and PDepArrhenius kinetics supported for duplicate reactions.\n",
      "WARNING:root:Only Arrhenius and PDepArrhenius kinetics supported for duplicate reactions.\n",
      "WARNING:root:Only Arrhenius and PDepArrhenius kinetics supported for duplicate reactions.\n",
      "WARNING:root:Only Arrhenius and PDepArrhenius kinetics supported for duplicate reactions.\n",
      "WARNING:root:Only Arrhenius and PDepArrhenius kinetics supported for duplicate reactions.\n",
      "WARNING:root:Only Arrhenius and PDepArrhenius kinetics supported for duplicate reactions.\n",
      "WARNING:root:Only Arrhenius and PDepArrhenius kinetics supported for duplicate reactions.\n",
      "WARNING:root:Only Arrhenius and PDepArrhenius kinetics supported for duplicate reactions.\n",
      "WARNING:root:Only Arrhenius and PDepArrhenius kinetics supported for duplicate reactions.\n",
      "WARNING:root:Only Arrhenius and PDepArrhenius kinetics supported for duplicate reactions.\n",
      "WARNING:root:Only Arrhenius and PDepArrhenius kinetics supported for duplicate reactions.\n",
      "WARNING:root:Only Arrhenius and PDepArrhenius kinetics supported for duplicate reactions.\n",
      "WARNING:root:Only Arrhenius and PDepArrhenius kinetics supported for duplicate reactions.\n",
      "WARNING:root:Only Arrhenius and PDepArrhenius kinetics supported for duplicate reactions.\n",
      "WARNING:root:Only Arrhenius and PDepArrhenius kinetics supported for duplicate reactions.\n",
      "WARNING:root:Only Arrhenius and PDepArrhenius kinetics supported for duplicate reactions.\n",
      "WARNING:root:Only Arrhenius and PDepArrhenius kinetics supported for duplicate reactions.\n",
      "WARNING:root:Only Arrhenius and PDepArrhenius kinetics supported for duplicate reactions.\n",
      "WARNING:root:Only Arrhenius and PDepArrhenius kinetics supported for duplicate reactions.\n",
      "WARNING:root:Only Arrhenius and PDepArrhenius kinetics supported for duplicate reactions.\n",
      "WARNING:root:Only Arrhenius and PDepArrhenius kinetics supported for duplicate reactions.\n",
      "WARNING:root:Only Arrhenius and PDepArrhenius kinetics supported for duplicate reactions.\n",
      "WARNING:root:Only Arrhenius and PDepArrhenius kinetics supported for duplicate reactions.\n",
      "WARNING:root:Only Arrhenius and PDepArrhenius kinetics supported for duplicate reactions.\n",
      "WARNING:root:Only Arrhenius and PDepArrhenius kinetics supported for duplicate reactions.\n",
      "WARNING:root:Only Arrhenius and PDepArrhenius kinetics supported for duplicate reactions.\n",
      "WARNING:root:Only Arrhenius and PDepArrhenius kinetics supported for duplicate reactions.\n",
      "WARNING:root:Only Arrhenius and PDepArrhenius kinetics supported for duplicate reactions.\n",
      "WARNING:root:Only Arrhenius and PDepArrhenius kinetics supported for duplicate reactions.\n",
      "WARNING:root:Only Arrhenius and PDepArrhenius kinetics supported for duplicate reactions.\n",
      "WARNING:root:Only Arrhenius and PDepArrhenius kinetics supported for duplicate reactions.\n",
      "WARNING:root:Only Arrhenius and PDepArrhenius kinetics supported for duplicate reactions.\n",
      "WARNING:root:Only Arrhenius and PDepArrhenius kinetics supported for duplicate reactions.\n",
      "WARNING:root:Only Arrhenius and PDepArrhenius kinetics supported for duplicate reactions.\n",
      "WARNING:root:Only Arrhenius and PDepArrhenius kinetics supported for duplicate reactions.\n",
      "WARNING:root:Only Arrhenius and PDepArrhenius kinetics supported for duplicate reactions.\n",
      "WARNING:root:Only Arrhenius and PDepArrhenius kinetics supported for duplicate reactions.\n",
      "WARNING:root:Only Arrhenius and PDepArrhenius kinetics supported for duplicate reactions.\n",
      "WARNING:root:Only Arrhenius and PDepArrhenius kinetics supported for duplicate reactions.\n",
      "WARNING:root:Only Arrhenius and PDepArrhenius kinetics supported for duplicate reactions.\n",
      "WARNING:root:Only Arrhenius and PDepArrhenius kinetics supported for duplicate reactions.\n",
      "WARNING:root:Only Arrhenius and PDepArrhenius kinetics supported for duplicate reactions.\n",
      "WARNING:root:Only Arrhenius and PDepArrhenius kinetics supported for duplicate reactions.\n",
      "WARNING:root:Only Arrhenius and PDepArrhenius kinetics supported for duplicate reactions.\n",
      "WARNING:root:Only Arrhenius and PDepArrhenius kinetics supported for duplicate reactions.\n",
      "WARNING:root:Only Arrhenius and PDepArrhenius kinetics supported for duplicate reactions.\n",
      "WARNING:root:Only Arrhenius and PDepArrhenius kinetics supported for duplicate reactions.\n",
      "WARNING:root:Only Arrhenius and PDepArrhenius kinetics supported for duplicate reactions.\n",
      "WARNING:root:Found multiple binding energies for 'Cu'. Using 'Cu111'.\n",
      "WARNING:root:Found multiple binding energies for 'Cu'. Using 'Cu111'.\n",
      "WARNING:root:Found multiple binding energies for 'Cu'. Using 'Cu111'.\n",
      "WARNING:root:Found multiple binding energies for 'Cu'. Using 'Cu111'.\n",
      "WARNING:root:Found multiple binding energies for 'Cu'. Using 'Cu111'.\n",
      "WARNING:root:Found multiple binding energies for 'Cu'. Using 'Cu111'.\n",
      "WARNING:root:Found multiple binding energies for 'Cu'. Using 'Cu111'.\n",
      "WARNING:root:Found multiple binding energies for 'Cu'. Using 'Cu111'.\n",
      "WARNING:root:Found multiple binding energies for 'Cu'. Using 'Cu111'.\n",
      "WARNING:root:Found multiple binding energies for 'Cu'. Using 'Cu111'.\n",
      "WARNING:root:Found multiple binding energies for 'Cu'. Using 'Cu111'.\n",
      "WARNING:root:Found multiple binding energies for 'Cu'. Using 'Cu111'.\n",
      "WARNING:root:Found multiple binding energies for 'Cu'. Using 'Cu111'.\n",
      "WARNING:root:Found multiple binding energies for 'Cu'. Using 'Cu111'.\n",
      "WARNING:root:Found multiple binding energies for 'Cu'. Using 'Cu111'.\n",
      "WARNING:root:Found multiple binding energies for 'Cu'. Using 'Cu111'.\n",
      "WARNING:root:Found multiple binding energies for 'Pt'. Using 'Pt111'.\n",
      "WARNING:root:Found multiple binding energies for 'Pt'. Using 'Pt111'.\n",
      "WARNING:root:Found multiple binding energies for 'Pt'. Using 'Pt111'.\n",
      "WARNING:root:Found multiple binding energies for 'Pt'. Using 'Pt111'.\n",
      "WARNING:root:Found multiple binding energies for 'Pt'. Using 'Pt111'.\n",
      "WARNING:root:Found multiple binding energies for 'Pt'. Using 'Pt111'.\n",
      "WARNING:root:Found multiple binding energies for 'Pt'. Using 'Pt111'.\n",
      "WARNING:root:Found multiple binding energies for 'Pt'. Using 'Pt111'.\n",
      "WARNING:root:Found multiple binding energies for 'Pt'. Using 'Pt111'.\n",
      "WARNING:root:Found multiple binding energies for 'Pt'. Using 'Pt111'.\n",
      "WARNING:root:Found multiple binding energies for 'Pt'. Using 'Pt111'.\n",
      "WARNING:root:Found multiple binding energies for 'Pt'. Using 'Pt111'.\n",
      "WARNING:root:Found multiple binding energies for 'Pt'. Using 'Pt111'.\n",
      "WARNING:root:Found multiple binding energies for 'Pt'. Using 'Pt111'.\n",
      "WARNING:root:Found multiple binding energies for 'Pt'. Using 'Pt111'.\n",
      "WARNING:root:Found multiple binding energies for 'Pt'. Using 'Pt111'.\n",
      "WARNING:root:Found multiple binding energies for 'Cu'. Using 'Cu111'.\n",
      "WARNING:root:Found multiple binding energies for 'Cu'. Using 'Cu111'.\n",
      "WARNING:root:Found multiple binding energies for 'Cu'. Using 'Cu111'.\n",
      "WARNING:root:Found multiple binding energies for 'Cu'. Using 'Cu111'.\n",
      "WARNING:root:Found multiple binding energies for 'Ni'. Using 'Ni111'.\n",
      "WARNING:root:Found multiple binding energies for 'Ni'. Using 'Ni111'.\n",
      "WARNING:root:Found multiple binding energies for 'Ni'. Using 'Ni111'.\n",
      "WARNING:root:Found multiple binding energies for 'Ni'. Using 'Ni111'.\n",
      "WARNING:root:Found multiple binding energies for 'Ni'. Using 'Ni111'.\n",
      "WARNING:root:Found multiple binding energies for 'Ni'. Using 'Ni111'.\n",
      "WARNING:root:Found multiple binding energies for 'Ni'. Using 'Ni111'.\n",
      "WARNING:root:Found multiple binding energies for 'Ni'. Using 'Ni111'.\n",
      "WARNING:root:Found multiple binding energies for 'Ni'. Using 'Ni111'.\n",
      "WARNING:root:Found multiple binding energies for 'Ni'. Using 'Ni111'.\n",
      "WARNING:root:Found multiple binding energies for 'Ni'. Using 'Ni111'.\n",
      "WARNING:root:Found multiple binding energies for 'Ni'. Using 'Ni111'.\n",
      "WARNING:root:Found multiple binding energies for 'Cu'. Using 'Cu111'.\n",
      "WARNING:root:Found multiple binding energies for 'Cu'. Using 'Cu111'.\n",
      "WARNING:root:Found multiple binding energies for 'Cu'. Using 'Cu111'.\n",
      "WARNING:root:Found multiple binding energies for 'Cu'. Using 'Cu111'.\n",
      "WARNING:root:Found multiple binding energies for 'Cu'. Using 'Cu111'.\n",
      "WARNING:root:Found multiple binding energies for 'Cu'. Using 'Cu111'.\n",
      "WARNING:root:Found multiple binding energies for 'Cu'. Using 'Cu111'.\n",
      "WARNING:root:Found multiple binding energies for 'Cu'. Using 'Cu111'.\n",
      "WARNING:root:Found multiple binding energies for 'Pt'. Using 'Pt111'.\n",
      "WARNING:root:Found multiple binding energies for 'Pt'. Using 'Pt111'.\n",
      "WARNING:root:Found multiple binding energies for 'Pt'. Using 'Pt111'.\n",
      "WARNING:root:Found multiple binding energies for 'Pt'. Using 'Pt111'.\n",
      "WARNING:root:Found multiple binding energies for 'Pt'. Using 'Pt111'.\n",
      "WARNING:root:Found multiple binding energies for 'Cu'. Using 'Cu111'.\n",
      "WARNING:root:Found multiple binding energies for 'Cu'. Using 'Cu111'.\n",
      "WARNING:root:Found multiple binding energies for 'Cu'. Using 'Cu111'.\n",
      "WARNING:root:Found multiple binding energies for 'Cu'. Using 'Cu111'.\n",
      "WARNING:root:Found multiple binding energies for 'Cu'. Using 'Cu111'.\n",
      "WARNING:root:Found multiple binding energies for 'Cu'. Using 'Cu111'.\n",
      "WARNING:root:Found multiple binding energies for 'Cu'. Using 'Cu111'.\n",
      "WARNING:root:Found multiple binding energies for 'Cu'. Using 'Cu111'.\n",
      "WARNING:root:Found multiple binding energies for 'Cu'. Using 'Cu111'.\n",
      "WARNING:root:Found multiple binding energies for 'Cu'. Using 'Cu111'.\n",
      "WARNING:root:Found multiple binding energies for 'Cu'. Using 'Cu111'.\n",
      "WARNING:root:Found multiple binding energies for 'Cu'. Using 'Cu111'.\n",
      "WARNING:root:Found multiple binding energies for 'Cu'. Using 'Cu111'.\n",
      "WARNING:root:Found multiple binding energies for 'Cu'. Using 'Cu111'.\n",
      "WARNING:root:Found multiple binding energies for 'Cu'. Using 'Cu111'.\n",
      "WARNING:root:Found multiple binding energies for 'Cu'. Using 'Cu111'.\n",
      "WARNING:root:Found multiple binding energies for 'Cu'. Using 'Cu111'.\n",
      "WARNING:root:Found multiple binding energies for 'Cu'. Using 'Cu111'.\n",
      "WARNING:root:Found multiple binding energies for 'Cu'. Using 'Cu111'.\n",
      "WARNING:root:Found multiple binding energies for 'Cu'. Using 'Cu111'.\n",
      "WARNING:root:Found multiple binding energies for 'Cu'. Using 'Cu111'.\n",
      "WARNING:root:Found multiple binding energies for 'Cu'. Using 'Cu111'.\n",
      "WARNING:root:Found multiple binding energies for 'Cu'. Using 'Cu111'.\n",
      "WARNING:root:Found multiple binding energies for 'Cu'. Using 'Cu111'.\n"
     ]
    }
   ],
   "source": [
    "from rmgpy import settings\n",
    "from rmgpy.data.rmg import RMGDatabase\n",
    "\n",
    "# import the metal binding energies\n",
    "\n",
    "# select surface families\n",
    "families='surface'\n",
    "#set libraries to load reactions from; set to None to load all libraries\n",
    "libraries = None\n",
    "\n",
    "thermo_libraries = ['primaryThermoLibrary', 'surfaceThermoPt111']\n",
    "database = RMGDatabase()\n",
    "database.load(\n",
    "    path = settings['database.directory'],\n",
    "    thermo_libraries = thermo_libraries,  \n",
    "    kinetics_families = families,\n",
    "    reaction_libraries = libraries,\n",
    "    kinetics_depositories = ['training'],\n",
    ")\n",
    "for family in database.kinetics.families.values():\n",
    "        if not family.auto_generated:\n",
    "            family.add_rules_from_training(thermo_database=database.thermo)\n",
    "            family.fill_rules_by_averaging_up(verbose=False)\n",
    "\n"
   ]
  },
  {
   "cell_type": "code",
   "execution_count": 67,
   "metadata": {},
   "outputs": [],
   "source": [
    "database.thermo.set_binding_energies(binding_energies)"
   ]
  },
  {
   "cell_type": "code",
   "execution_count": 105,
   "metadata": {},
   "outputs": [],
   "source": [
    "from rmgpy.species import Species\n",
    "\n",
    "reactant1 = Species().from_smiles('CO-[*]')\n",
    "reactant1.generate_resonance_structures()\n",
    "reactant1.thermo = database.thermo.get_thermo_data_for_surface_species(reactant1)\n",
    "reactant2 = Species().from_smiles('C[*]')\n",
    "reactant2.generate_resonance_structures()\n",
    "reactant2.thermo = database.thermo.get_thermo_data_for_surface_species(reactant2)\n",
    "# product1 = Species().from_smiles('O[*]')\n",
    "# product2 = Species().from_smiles('[*]')\n",
    "reactants = [reactant1, reactant2]\n",
    "products = []\n",
    "\n",
    "reaction_list = database.kinetics.generate_reactions(\n",
    "    reactants, only_families=False, resonance=False)"
   ]
  },
  {
   "cell_type": "code",
   "execution_count": 106,
   "metadata": {},
   "outputs": [
    {
     "data": {
      "text/plain": [
       "['Combined', 'VacantSite']"
      ]
     },
     "execution_count": 106,
     "metadata": {},
     "output_type": "execute_result"
    }
   ],
   "source": [
    "reaction.template"
   ]
  },
  {
   "cell_type": "code",
   "execution_count": 110,
   "metadata": {},
   "outputs": [
    {
     "ename": "DatabaseError",
     "evalue": "Can't estimate thermo of vacant site. Should be in library (and should be 0).",
     "output_type": "error",
     "traceback": [
      "\u001b[0;31m---------------------------------------------------------------------------\u001b[0m",
      "\u001b[0;31mDatabaseError\u001b[0m                             Traceback (most recent call last)",
      "\u001b[0;32m/var/folders/bn/dbr8lwvj63n6nd0_j0blp8s80000gp/T/ipykernel_10059/640435895.py\u001b[0m in \u001b[0;36m<module>\u001b[0;34m\u001b[0m\n\u001b[1;32m      1\u001b[0m \u001b[0mreaction\u001b[0m\u001b[0;34m.\u001b[0m\u001b[0mreactants\u001b[0m\u001b[0;34m[\u001b[0m\u001b[0;36m0\u001b[0m\u001b[0;34m]\u001b[0m\u001b[0;34m.\u001b[0m\u001b[0mthermo\u001b[0m \u001b[0;34m=\u001b[0m \u001b[0mdatabase\u001b[0m\u001b[0;34m.\u001b[0m\u001b[0mthermo\u001b[0m\u001b[0;34m.\u001b[0m\u001b[0mget_thermo_data_for_surface_species\u001b[0m\u001b[0;34m(\u001b[0m\u001b[0mreaction\u001b[0m\u001b[0;34m.\u001b[0m\u001b[0mreactants\u001b[0m\u001b[0;34m[\u001b[0m\u001b[0;36m0\u001b[0m\u001b[0;34m]\u001b[0m\u001b[0;34m)\u001b[0m\u001b[0;34m\u001b[0m\u001b[0;34m\u001b[0m\u001b[0m\n\u001b[0;32m----> 2\u001b[0;31m \u001b[0mreaction\u001b[0m\u001b[0;34m.\u001b[0m\u001b[0mreactants\u001b[0m\u001b[0;34m[\u001b[0m\u001b[0;36m1\u001b[0m\u001b[0;34m]\u001b[0m\u001b[0;34m.\u001b[0m\u001b[0mthermo\u001b[0m \u001b[0;34m=\u001b[0m \u001b[0mdatabase\u001b[0m\u001b[0;34m.\u001b[0m\u001b[0mthermo\u001b[0m\u001b[0;34m.\u001b[0m\u001b[0mget_thermo_data_for_surface_species\u001b[0m\u001b[0;34m(\u001b[0m\u001b[0mreaction\u001b[0m\u001b[0;34m.\u001b[0m\u001b[0mreactants\u001b[0m\u001b[0;34m[\u001b[0m\u001b[0;36m1\u001b[0m\u001b[0;34m]\u001b[0m\u001b[0;34m)\u001b[0m\u001b[0;34m\u001b[0m\u001b[0;34m\u001b[0m\u001b[0m\n\u001b[0m",
      "\u001b[0;32m~/Documents/_01_code/RMG_env_1/RMG-Py/rmgpy/data/thermo.py\u001b[0m in \u001b[0;36mget_thermo_data_for_surface_species\u001b[0;34m(self, species)\u001b[0m\n\u001b[1;32m   1544\u001b[0m \u001b[0;34m\u001b[0m\u001b[0m\n\u001b[1;32m   1545\u001b[0m         \u001b[0;32mif\u001b[0m \u001b[0mspecies\u001b[0m\u001b[0;34m.\u001b[0m\u001b[0mis_surface_site\u001b[0m\u001b[0;34m(\u001b[0m\u001b[0;34m)\u001b[0m\u001b[0;34m:\u001b[0m\u001b[0;34m\u001b[0m\u001b[0;34m\u001b[0m\u001b[0m\n\u001b[0;32m-> 1546\u001b[0;31m             \u001b[0;32mraise\u001b[0m \u001b[0mDatabaseError\u001b[0m\u001b[0;34m(\u001b[0m\u001b[0;34m\"Can't estimate thermo of vacant site. Should be in library (and should be 0).\"\u001b[0m\u001b[0;34m)\u001b[0m\u001b[0;34m\u001b[0m\u001b[0;34m\u001b[0m\u001b[0m\n\u001b[0m\u001b[1;32m   1547\u001b[0m \u001b[0;34m\u001b[0m\u001b[0m\n\u001b[1;32m   1548\u001b[0m         logging.debug(\"Trying to generate thermo for surface species using first of %d resonance isomer(s):\",\n",
      "\u001b[0;31mDatabaseError\u001b[0m: Can't estimate thermo of vacant site. Should be in library (and should be 0)."
     ]
    }
   ],
   "source": [
    "reaction.reactants[0].thermo = database.thermo.get_thermo_data_for_surface_species(reaction.reactants[0])\n",
    "reaction.reactants[1].thermo = database.thermo.get_thermo_data_for_surface_species(reaction.reactants[1])"
   ]
  },
  {
   "cell_type": "code",
   "execution_count": 95,
   "metadata": {},
   "outputs": [
    {
     "data": {
      "image/png": "[encoded data removed]",
      "text/plain": [
       "TemplateReaction(reactants=[Species(label=\"\", molecule=[Molecule(smiles=\"C[Pt]\")], molecular_weight=(15.0346,'amu')), Species(label=\"\", molecule=[Molecule(smiles=\"CO[Pt]\")], molecular_weight=(31.034,'amu'))], products=[Species(label=\"\", molecule=[Molecule(smiles=\"C=O.[Pt]\")], molecular_weight=(30.026,'amu')), Species(label=\"\", molecule=[Molecule(smiles=\"C.[Pt]\")], molecular_weight=(16.0425,'amu'))], degeneracy=3.0, pairs=[], family='Surface_Abstraction_Beta_double_vdW', template=['C-H', 'Adsorbate1'])"
      ]
     },
     "metadata": {},
     "output_type": "display_data"
    },
    {
     "ename": "Exception",
     "evalue": "Unable to calculate enthalpy for species '': no thermo or statmech data available.",
     "output_type": "error",
     "traceback": [
      "\u001b[0;31m---------------------------------------------------------------------------\u001b[0m",
      "\u001b[0;31mException\u001b[0m                                 Traceback (most recent call last)",
      "\u001b[0;32m~/Documents/_01_code/RMG_env_1/RMG-Py/rmgpy/species.cpython-37m-darwin.so\u001b[0m in \u001b[0;36mrmgpy.species.Species.get_enthalpy\u001b[0;34m()\u001b[0m\n",
      "\u001b[0;31mException\u001b[0m: Unable to calculate enthalpy for species '': no thermo or statmech data available."
     ]
    },
    {
     "name": "stdout",
     "output_type": "stream",
     "text": [
      "106100.00000000003\n"
     ]
    },
    {
     "name": "stderr",
     "output_type": "stream",
     "text": [
      "Exception ignored in: 'rmgpy.reaction.Reaction.get_enthalpy_of_reaction'\n",
      "Traceback (most recent call last):\n",
      "  File \"rmgpy/species.py\", line 523, in rmgpy.species.Species.get_enthalpy\n",
      "Exception: Unable to calculate enthalpy for species '': no thermo or statmech data available.\n"
     ]
    },
    {
     "data": {
      "image/png": "[encoded data removed]",
      "text/plain": [
       "TemplateReaction(reactants=[Species(label=\"\", molecule=[Molecule(smiles=\"CO.[Pt]\")], molecular_weight=(32.0419,'amu')), Species(label=\"\", molecule=[Molecule(smiles=\"C=[Pt]\")], molecular_weight=(14.0266,'amu'))], products=[Species(label=\"\", molecule=[Molecule(smiles=\"C[Pt]\")], molecular_weight=(15.0346,'amu')), Species(label=\"\", molecule=[Molecule(smiles=\"CO[Pt]\")], molecular_weight=(31.034,'amu'))], pairs=[], family='Surface_Abstraction_vdW', template=['O-R', '*=C-2R'])"
      ]
     },
     "metadata": {},
     "output_type": "display_data"
    },
    {
     "ename": "Exception",
     "evalue": "Unable to calculate enthalpy for species '': no thermo or statmech data available.",
     "output_type": "error",
     "traceback": [
      "\u001b[0;31m---------------------------------------------------------------------------\u001b[0m",
      "\u001b[0;31mException\u001b[0m                                 Traceback (most recent call last)",
      "\u001b[0;32m~/Documents/_01_code/RMG_env_1/RMG-Py/rmgpy/species.cpython-37m-darwin.so\u001b[0m in \u001b[0;36mrmgpy.species.Species.get_enthalpy\u001b[0;34m()\u001b[0m\n",
      "\u001b[0;31mException\u001b[0m: Unable to calculate enthalpy for species '': no thermo or statmech data available."
     ]
    },
    {
     "name": "stdout",
     "output_type": "stream",
     "text": [
      "121703.14564536512\n"
     ]
    },
    {
     "name": "stderr",
     "output_type": "stream",
     "text": [
      "Exception ignored in: 'rmgpy.reaction.Reaction.get_enthalpy_of_reaction'\n",
      "Traceback (most recent call last):\n",
      "  File \"rmgpy/species.py\", line 523, in rmgpy.species.Species.get_enthalpy\n",
      "Exception: Unable to calculate enthalpy for species '': no thermo or statmech data available.\n"
     ]
    },
    {
     "data": {
      "image/png": "[encoded data removed]",
      "text/plain": [
       "TemplateReaction(reactants=[Species(label=\"\", molecule=[Molecule(smiles=\"CC.[Pt]\")], molecular_weight=(30.0691,'amu')), Species(label=\"\", molecule=[Molecule(smiles=\"O=[Pt]\")], molecular_weight=(15.9994,'amu'))], products=[Species(label=\"\", molecule=[Molecule(smiles=\"CO[Pt]\")], molecular_weight=(31.034,'amu')), Species(label=\"\", molecule=[Molecule(smiles=\"C[Pt]\")], molecular_weight=(15.0346,'amu'))], degeneracy=2.0, pairs=[], family='Surface_Abstraction_vdW', template=['C-C', '*=O'])"
      ]
     },
     "metadata": {},
     "output_type": "display_data"
    },
    {
     "ename": "Exception",
     "evalue": "Unable to calculate enthalpy for species '': no thermo or statmech data available.",
     "output_type": "error",
     "traceback": [
      "\u001b[0;31m---------------------------------------------------------------------------\u001b[0m",
      "\u001b[0;31mException\u001b[0m                                 Traceback (most recent call last)",
      "\u001b[0;32m~/Documents/_01_code/RMG_env_1/RMG-Py/rmgpy/species.cpython-37m-darwin.so\u001b[0m in \u001b[0;36mrmgpy.species.Species.get_enthalpy\u001b[0;34m()\u001b[0m\n",
      "\u001b[0;31mException\u001b[0m: Unable to calculate enthalpy for species '': no thermo or statmech data available."
     ]
    },
    {
     "name": "stdout",
     "output_type": "stream",
     "text": [
      "92700.0\n"
     ]
    },
    {
     "name": "stderr",
     "output_type": "stream",
     "text": [
      "Exception ignored in: 'rmgpy.reaction.Reaction.get_enthalpy_of_reaction'\n",
      "Traceback (most recent call last):\n",
      "  File \"rmgpy/species.py\", line 523, in rmgpy.species.Species.get_enthalpy\n",
      "Exception: Unable to calculate enthalpy for species '': no thermo or statmech data available.\n"
     ]
    },
    {
     "data": {
      "image/png": "[encoded data removed]",
      "text/plain": [
       "TemplateReaction(reactants=[Species(label=\"\", molecule=[Molecule(smiles=\"COC\")], molecular_weight=(46.0685,'amu')), Species(label=\"\", molecule=[Molecule(smiles=\"[Pt]\")], molecular_weight=(0,'amu')), Species(label=\"\", molecule=[Molecule(smiles=\"[Pt]\")], molecular_weight=(0,'amu'))], products=[Species(label=\"\", molecule=[Molecule(smiles=\"C[Pt]\")], molecular_weight=(15.0346,'amu')), Species(label=\"\", molecule=[Molecule(smiles=\"CO[Pt]\")], molecular_weight=(31.034,'amu'))], pairs=[[Species(label=\"\", molecule=[Molecule(smiles=\"COC\")], molecular_weight=(46.0685,'amu')), Species(label=\"\", molecule=[Molecule(smiles=\"C[Pt]\")], molecular_weight=(15.0346,'amu'))], [Species(label=\"\", molecule=[Molecule(smiles=\"COC\")], molecular_weight=(46.0685,'amu')), Species(label=\"\", molecule=[Molecule(smiles=\"CO[Pt]\")], molecular_weight=(31.034,'amu'))]], family='Surface_Adsorption_Dissociative', template=['O-C', 'VacantSite1', 'VacantSite2'])"
      ]
     },
     "metadata": {},
     "output_type": "display_data"
    },
    {
     "ename": "Exception",
     "evalue": "Unable to calculate enthalpy for species '': no thermo or statmech data available.",
     "output_type": "error",
     "traceback": [
      "\u001b[0;31m---------------------------------------------------------------------------\u001b[0m",
      "\u001b[0;31mException\u001b[0m                                 Traceback (most recent call last)",
      "\u001b[0;32m~/Documents/_01_code/RMG_env_1/RMG-Py/rmgpy/species.cpython-37m-darwin.so\u001b[0m in \u001b[0;36mrmgpy.species.Species.get_enthalpy\u001b[0;34m()\u001b[0m\n",
      "\u001b[0;31mException\u001b[0m: Unable to calculate enthalpy for species '': no thermo or statmech data available."
     ]
    },
    {
     "name": "stdout",
     "output_type": "stream",
     "text": [
      "5000.0\n"
     ]
    },
    {
     "name": "stderr",
     "output_type": "stream",
     "text": [
      "Exception ignored in: 'rmgpy.reaction.Reaction.get_enthalpy_of_reaction'\n",
      "Traceback (most recent call last):\n",
      "  File \"rmgpy/species.py\", line 523, in rmgpy.species.Species.get_enthalpy\n",
      "Exception: Unable to calculate enthalpy for species '': no thermo or statmech data available.\n"
     ]
    },
    {
     "data": {
      "image/png": "[encoded data removed]",
      "text/plain": [
       "TemplateReaction(reactants=[Species(label=\"\", thermo=ThermoData(Tdata=([300,400,500,600,800,1000,1500],'K'), Cpdata=([71.0939,84.5691,98.0749,110.61,131.631,147.834,173.478],'J/(mol*K)'), H298=(-230.801,'kJ/mol'), S298=(148.193,'J/(mol*K)'), Cp0=(33.2579,'J/(mol*K)'), CpInf=(199.547,'J/(mol*K)'), comment=\"\"\"Gas phase thermo for COC from Thermo group additivity estimation: group(O2s-CsCs) + group(Cs-OsHHH) + group(Cs-OsHHH). Adsorption correction: + Thermo group additivity estimation: adsorptionPt111((CR3OR)*)\"\"\"), molecule=[Molecule(smiles=\"COC.[Pt]\")], molecular_weight=(46.0685,'amu')), Species(label=\"\", molecule=[Molecule(smiles=\"[Pt]\")], molecular_weight=(0,'amu'))], products=[Species(label=\"\", molecule=[Molecule(smiles=\"C[Pt]\")], molecular_weight=(15.0346,'amu')), Species(label=\"\", molecule=[Molecule(smiles=\"CO[Pt]\")], molecular_weight=(31.034,'amu'))], degeneracy=4.0, pairs=[[Species(label=\"\", thermo=ThermoData(Tdata=([300,400,500,600,800,1000,1500],'K'), Cpdata=([71.0939,84.5691,98.0749,110.61,131.631,147.834,173.478],'J/(mol*K)'), H298=(-230.801,'kJ/mol'), S298=(148.193,'J/(mol*K)'), Cp0=(33.2579,'J/(mol*K)'), CpInf=(199.547,'J/(mol*K)'), comment=\"\"\"Gas phase thermo for COC from Thermo group additivity estimation: group(O2s-CsCs) + group(Cs-OsHHH) + group(Cs-OsHHH). Adsorption correction: + Thermo group additivity estimation: adsorptionPt111((CR3OR)*)\"\"\"), molecule=[Molecule(smiles=\"COC.[Pt]\")], molecular_weight=(46.0685,'amu')), Species(label=\"\", molecule=[Molecule(smiles=\"C[Pt]\")], molecular_weight=(15.0346,'amu'))], [Species(label=\"\", thermo=ThermoData(Tdata=([300,400,500,600,800,1000,1500],'K'), Cpdata=([71.0939,84.5691,98.0749,110.61,131.631,147.834,173.478],'J/(mol*K)'), H298=(-230.801,'kJ/mol'), S298=(148.193,'J/(mol*K)'), Cp0=(33.2579,'J/(mol*K)'), CpInf=(199.547,'J/(mol*K)'), comment=\"\"\"Gas phase thermo for COC from Thermo group additivity estimation: group(O2s-CsCs) + group(Cs-OsHHH) + group(Cs-OsHHH). Adsorption correction: + Thermo group additivity estimation: adsorptionPt111((CR3OR)*)\"\"\"), molecule=[Molecule(smiles=\"COC.[Pt]\")], molecular_weight=(46.0685,'amu')), Species(label=\"\", molecule=[Molecule(smiles=\"CO[Pt]\")], molecular_weight=(31.034,'amu'))]], family='Surface_Dissociation_vdW', template=['Combined', 'VacantSite'])"
      ]
     },
     "metadata": {},
     "output_type": "display_data"
    },
    {
     "ename": "Exception",
     "evalue": "Unable to calculate enthalpy for species '': no thermo or statmech data available.",
     "output_type": "error",
     "traceback": [
      "\u001b[0;31m---------------------------------------------------------------------------\u001b[0m",
      "\u001b[0;31mException\u001b[0m                                 Traceback (most recent call last)",
      "\u001b[0;32m~/Documents/_01_code/RMG_env_1/RMG-Py/rmgpy/species.cpython-37m-darwin.so\u001b[0m in \u001b[0;36mrmgpy.species.Species.get_enthalpy\u001b[0;34m()\u001b[0m\n",
      "\u001b[0;31mException\u001b[0m: Unable to calculate enthalpy for species '': no thermo or statmech data available."
     ]
    },
    {
     "name": "stdout",
     "output_type": "stream",
     "text": [
      "157271.10805120406\n"
     ]
    },
    {
     "name": "stderr",
     "output_type": "stream",
     "text": [
      "Exception ignored in: 'rmgpy.reaction.Reaction.get_enthalpy_of_reaction'\n",
      "Traceback (most recent call last):\n",
      "  File \"rmgpy/species.py\", line 523, in rmgpy.species.Species.get_enthalpy\n",
      "Exception: Unable to calculate enthalpy for species '': no thermo or statmech data available.\n"
     ]
    }
   ],
   "source": [
    "from rmgpy.rmg.model import get_family_library_object\n",
    "\n",
    "binding_energies = {\n",
    "            'H': Energy(-2.75368,'eV/molecule'),\n",
    "            'C': Energy(-2.02516,'eV/molecule'),\n",
    "            'N': Energy(-4.63225,'eV/molecule'),\n",
    "            'O': Energy(-3.81153,'eV/molecule'),\n",
    "        }\n",
    "database.thermo.set_binding_energies(binding_energies)\n",
    "\n",
    "for reaction in reaction_list: \n",
    "    display(reaction)\n",
    "    # kin = database.kinetics.get_kinetics_for_template(reaction, degeneracy=1, method='rate rules')\n",
    "    family = reaction.family\n",
    "\n",
    "    # Get the kinetics for the reaction\n",
    "    # kinetics, entry = database.kinetics.families[family].get_kinetics_for_template(reaction, reaction.template, reaction.degeneracy, method='rate rules')\n",
    "    kinetics, source, entry, is_forward = database.kinetics.families[family].get_kinetics(reaction, template_labels=reaction.template,\n",
    "                                                                degeneracy=reaction.degeneracy,\n",
    "                                                                estimator=\"rate rules\",\n",
    "                                                                return_all_kinetics=False)\n",
    "    \n",
    "    print(kinetics.get_activation_energy(reaction.get_enthalpy_of_reaction(298)))"
   ]
  },
  {
   "cell_type": "code",
   "execution_count": 77,
   "metadata": {},
   "outputs": [],
   "source": [
    "binding_energies = {\n",
    "            'H': Energy(-2.75368,'eV/molecule'),\n",
    "            'C': Energy(-7.02516,'eV/molecule'),\n",
    "            'N': Energy(-4.63225,'eV/molecule'),\n",
    "            'O': Energy(-3.81153,'eV/molecule'),\n",
    "        }\n",
    "database.thermo.set_binding_energies(binding_energies)"
   ]
  },
  {
   "cell_type": "code",
   "execution_count": 104,
   "metadata": {},
   "outputs": [
    {
     "data": {
      "image/png": "[encoded data removed]",
      "text/plain": [
       "TemplateReaction(reactants=[Species(label=\"\", molecule=[Molecule(smiles=\"C[Pt]\")], molecular_weight=(15.0346,'amu')), Species(label=\"\", molecule=[Molecule(smiles=\"CO[Pt]\")], molecular_weight=(31.034,'amu'))], products=[Species(label=\"\", molecule=[Molecule(smiles=\"C=O.[Pt]\")], molecular_weight=(30.026,'amu')), Species(label=\"\", molecule=[Molecule(smiles=\"C.[Pt]\")], molecular_weight=(16.0425,'amu'))], degeneracy=3.0, pairs=[], family='Surface_Abstraction_Beta_double_vdW', template=['C-H', 'Adsorbate1'])"
      ]
     },
     "metadata": {},
     "output_type": "display_data"
    },
    {
     "name": "stdout",
     "output_type": "stream",
     "text": [
      "SurfaceArrheniusBEP(A=(7.124e+17,'m^2/(mol*s)'), n=0, alpha=0, E0=(1.63,'eV/molecule'), Tmin=(298,'K'), Tmax=(2000,'K'), comment=\"\"\"From training reaction 34 used for Combined;VacantSite\n",
      "Exact match found for rate rule [Combined;VacantSite]\n",
      "Euclidian distance = 0\n",
      "Multiplied by reaction path degeneracy 4.0\n",
      "family: Surface_Dissociation_vdW\"\"\")\n"
     ]
    },
    {
     "data": {
      "image/png": "[encoded data removed]",
      "text/plain": [
       "TemplateReaction(reactants=[Species(label=\"\", molecule=[Molecule(smiles=\"CO.[Pt]\")], molecular_weight=(32.0419,'amu')), Species(label=\"\", molecule=[Molecule(smiles=\"C=[Pt]\")], molecular_weight=(14.0266,'amu'))], products=[Species(label=\"\", molecule=[Molecule(smiles=\"C[Pt]\")], molecular_weight=(15.0346,'amu')), Species(label=\"\", molecule=[Molecule(smiles=\"CO[Pt]\")], molecular_weight=(31.034,'amu'))], pairs=[], family='Surface_Abstraction_vdW', template=['O-R', '*=C-2R'])"
      ]
     },
     "metadata": {},
     "output_type": "display_data"
    },
    {
     "name": "stdout",
     "output_type": "stream",
     "text": [
      "SurfaceArrheniusBEP(A=(7.124e+17,'m^2/(mol*s)'), n=0, alpha=0, E0=(1.63,'eV/molecule'), Tmin=(298,'K'), Tmax=(2000,'K'), comment=\"\"\"From training reaction 34 used for Combined;VacantSite\n",
      "Exact match found for rate rule [Combined;VacantSite]\n",
      "Euclidian distance = 0\n",
      "Multiplied by reaction path degeneracy 4.0\n",
      "family: Surface_Dissociation_vdW\"\"\")\n"
     ]
    },
    {
     "data": {
      "image/png": "[encoded data removed]",
      "text/plain": [
       "TemplateReaction(reactants=[Species(label=\"\", molecule=[Molecule(smiles=\"CC.[Pt]\")], molecular_weight=(30.0691,'amu')), Species(label=\"\", molecule=[Molecule(smiles=\"O=[Pt]\")], molecular_weight=(15.9994,'amu'))], products=[Species(label=\"\", molecule=[Molecule(smiles=\"CO[Pt]\")], molecular_weight=(31.034,'amu')), Species(label=\"\", molecule=[Molecule(smiles=\"C[Pt]\")], molecular_weight=(15.0346,'amu'))], degeneracy=2.0, pairs=[], family='Surface_Abstraction_vdW', template=['C-C', '*=O'])"
      ]
     },
     "metadata": {},
     "output_type": "display_data"
    },
    {
     "name": "stdout",
     "output_type": "stream",
     "text": [
      "SurfaceArrheniusBEP(A=(7.124e+17,'m^2/(mol*s)'), n=0, alpha=0, E0=(1.63,'eV/molecule'), Tmin=(298,'K'), Tmax=(2000,'K'), comment=\"\"\"From training reaction 34 used for Combined;VacantSite\n",
      "Exact match found for rate rule [Combined;VacantSite]\n",
      "Euclidian distance = 0\n",
      "Multiplied by reaction path degeneracy 4.0\n",
      "family: Surface_Dissociation_vdW\"\"\")\n"
     ]
    },
    {
     "data": {
      "image/png": "[encoded data removed]",
      "text/plain": [
       "TemplateReaction(reactants=[Species(label=\"\", molecule=[Molecule(smiles=\"COC\")], molecular_weight=(46.0685,'amu')), Species(label=\"\", molecule=[Molecule(smiles=\"[Pt]\")], molecular_weight=(0,'amu')), Species(label=\"\", molecule=[Molecule(smiles=\"[Pt]\")], molecular_weight=(0,'amu'))], products=[Species(label=\"\", molecule=[Molecule(smiles=\"C[Pt]\")], molecular_weight=(15.0346,'amu')), Species(label=\"\", molecule=[Molecule(smiles=\"CO[Pt]\")], molecular_weight=(31.034,'amu'))], pairs=[[Species(label=\"\", molecule=[Molecule(smiles=\"COC\")], molecular_weight=(46.0685,'amu')), Species(label=\"\", molecule=[Molecule(smiles=\"C[Pt]\")], molecular_weight=(15.0346,'amu'))], [Species(label=\"\", molecule=[Molecule(smiles=\"COC\")], molecular_weight=(46.0685,'amu')), Species(label=\"\", molecule=[Molecule(smiles=\"CO[Pt]\")], molecular_weight=(31.034,'amu'))]], family='Surface_Adsorption_Dissociative', template=['O-C', 'VacantSite1', 'VacantSite2'])"
      ]
     },
     "metadata": {},
     "output_type": "display_data"
    },
    {
     "name": "stdout",
     "output_type": "stream",
     "text": [
      "SurfaceArrheniusBEP(A=(7.124e+17,'m^2/(mol*s)'), n=0, alpha=0, E0=(1.63,'eV/molecule'), Tmin=(298,'K'), Tmax=(2000,'K'), comment=\"\"\"From training reaction 34 used for Combined;VacantSite\n",
      "Exact match found for rate rule [Combined;VacantSite]\n",
      "Euclidian distance = 0\n",
      "Multiplied by reaction path degeneracy 4.0\n",
      "family: Surface_Dissociation_vdW\"\"\")\n"
     ]
    },
    {
     "data": {
      "image/png": "[encoded data removed]",
      "text/plain": [
       "TemplateReaction(reactants=[Species(label=\"\", thermo=ThermoData(Tdata=([300,400,500,600,800,1000,1500],'K'), Cpdata=([71.0939,84.5691,98.0749,110.61,131.631,147.834,173.478],'J/(mol*K)'), H298=(-230.801,'kJ/mol'), S298=(148.193,'J/(mol*K)'), Cp0=(33.2579,'J/(mol*K)'), CpInf=(199.547,'J/(mol*K)'), comment=\"\"\"Gas phase thermo for COC from Thermo group additivity estimation: group(O2s-CsCs) + group(Cs-OsHHH) + group(Cs-OsHHH). Adsorption correction: + Thermo group additivity estimation: adsorptionPt111((CR3OR)*)\"\"\"), molecule=[Molecule(smiles=\"COC.[Pt]\")], molecular_weight=(46.0685,'amu')), Species(label=\"\", molecule=[Molecule(smiles=\"[Pt]\")], molecular_weight=(0,'amu'))], products=[Species(label=\"\", molecule=[Molecule(smiles=\"C[Pt]\")], molecular_weight=(15.0346,'amu')), Species(label=\"\", molecule=[Molecule(smiles=\"CO[Pt]\")], molecular_weight=(31.034,'amu'))], degeneracy=4.0, pairs=[[Species(label=\"\", thermo=ThermoData(Tdata=([300,400,500,600,800,1000,1500],'K'), Cpdata=([71.0939,84.5691,98.0749,110.61,131.631,147.834,173.478],'J/(mol*K)'), H298=(-230.801,'kJ/mol'), S298=(148.193,'J/(mol*K)'), Cp0=(33.2579,'J/(mol*K)'), CpInf=(199.547,'J/(mol*K)'), comment=\"\"\"Gas phase thermo for COC from Thermo group additivity estimation: group(O2s-CsCs) + group(Cs-OsHHH) + group(Cs-OsHHH). Adsorption correction: + Thermo group additivity estimation: adsorptionPt111((CR3OR)*)\"\"\"), molecule=[Molecule(smiles=\"COC.[Pt]\")], molecular_weight=(46.0685,'amu')), Species(label=\"\", molecule=[Molecule(smiles=\"C[Pt]\")], molecular_weight=(15.0346,'amu'))], [Species(label=\"\", thermo=ThermoData(Tdata=([300,400,500,600,800,1000,1500],'K'), Cpdata=([71.0939,84.5691,98.0749,110.61,131.631,147.834,173.478],'J/(mol*K)'), H298=(-230.801,'kJ/mol'), S298=(148.193,'J/(mol*K)'), Cp0=(33.2579,'J/(mol*K)'), CpInf=(199.547,'J/(mol*K)'), comment=\"\"\"Gas phase thermo for COC from Thermo group additivity estimation: group(O2s-CsCs) + group(Cs-OsHHH) + group(Cs-OsHHH). Adsorption correction: + Thermo group additivity estimation: adsorptionPt111((CR3OR)*)\"\"\"), molecule=[Molecule(smiles=\"COC.[Pt]\")], molecular_weight=(46.0685,'amu')), Species(label=\"\", molecule=[Molecule(smiles=\"CO[Pt]\")], molecular_weight=(31.034,'amu'))]], family='Surface_Dissociation_vdW', template=['Combined', 'VacantSite'])"
      ]
     },
     "metadata": {},
     "output_type": "display_data"
    },
    {
     "name": "stdout",
     "output_type": "stream",
     "text": [
      "SurfaceArrheniusBEP(A=(7.124e+17,'m^2/(mol*s)'), n=0, alpha=0, E0=(1.63,'eV/molecule'), Tmin=(298,'K'), Tmax=(2000,'K'), comment=\"\"\"From training reaction 34 used for Combined;VacantSite\n",
      "Exact match found for rate rule [Combined;VacantSite]\n",
      "Euclidian distance = 0\n",
      "Multiplied by reaction path degeneracy 4.0\n",
      "family: Surface_Dissociation_vdW\"\"\")\n"
     ]
    }
   ],
   "source": [
    "from rmgpy.rmg.model import get_family_library_object\n",
    "for reaction in reaction_list: \n",
    "    display(reaction)\n",
    "    # kin = database.kinetics.get_kinetics_for_template(reaction, degeneracy=1, method='rate rules')\n",
    "    family = get_family_library_object(reaction.family)\n",
    "    template = family.retrieve_template(reaction.template)\n",
    "    # Get the kinetics for the reaction\n",
    "    # kinetics, source, entry, is_forward = family.get_kinetics(reaction, template_labels=reaction.template,\n",
    "    #                                                             degeneracy=reaction.degeneracy,\n",
    "    #                                                             estimator=\"rate rules\",\n",
    "    #                                                             return_all_kinetics=False)\n",
    "\n",
    "\n",
    "    family.get_kinetics_for_template(template, degeneracy=reaction.degeneracy, method='rate rules')\n",
    "    \n",
    "    print(kinetics)"
   ]
  },
  {
   "cell_type": "code",
   "execution_count": 44,
   "metadata": {},
   "outputs": [
    {
     "data": {
      "text/plain": [
       "rmgpy.species.Species"
      ]
     },
     "execution_count": 44,
     "metadata": {},
     "output_type": "execute_result"
    }
   ],
   "source": []
  },
  {
   "cell_type": "code",
   "execution_count": null,
   "metadata": {},
   "outputs": [],
   "source": []
  }
 ],
 "metadata": {
  "kernelspec": {
   "display_name": "rmg_env",
   "language": "python",
   "name": "python3"
  },
  "language_info": {
   "codemirror_mode": {
    "name": "ipython",
    "version": 3
   },
   "file_extension": ".py",
   "mimetype": "text/x-python",
   "name": "python",
   "nbconvert_exporter": "python",
   "pygments_lexer": "ipython3",
   "version": "3.7.12"
  },
  "orig_nbformat": 4
 },
 "nbformat": 4,
 "nbformat_minor": 2
}
