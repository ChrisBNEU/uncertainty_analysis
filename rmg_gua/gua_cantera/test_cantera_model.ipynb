{
 "cells": [
  {
   "cell_type": "markdown",
   "id": "fd917410-707c-42ec-b3ea-9cef1609ec79",
   "metadata": {},
   "source": [
    "## randomly picking a model to test, then comparing TOFs for methanol and water and ensuring it is what we expect. "
   ]
  },
  {
   "cell_type": "code",
   "execution_count": 5,
   "id": "150a5356-b86f-4d51-ba5e-ea055b653e2b",
   "metadata": {},
   "outputs": [
    {
     "name": "stdout",
     "output_type": "stream",
     "text": [
      "chem_annotated.cti  objective_function_ct_analysis.txt\n",
      "chem.cti\t    objective_function_log_ct_analysis.txt\n",
      "ct_analysis.csv\n"
     ]
    }
   ],
   "source": [
    "!ls /scratch/blais.ch/methanol_results_2022_08_16_small/run_1241/cantera/"
   ]
  },
  {
   "cell_type": "code",
   "execution_count": 72,
   "id": "4044ed2e-6836-49e8-994e-5e1af5253a0e",
   "metadata": {},
   "outputs": [],
   "source": [
    "import yaml\n",
    "import sys\n",
    "import pandas as pd\n",
    "import numpy as np\n",
    "import matplotlib.pyplot as plt \n",
    "path = \"/work/westgroup/ChrisB/_01_MeOH_repos/uncertainty_analysis/\"\n",
    "if path not in sys.path: \n",
    "    sys.path.append(\"/work/westgroup/ChrisB/_01_MeOH_repos/uncertainty_analysis/\")\n",
    "from rmg_gua.cantera.Spinning_basket_reactor.sbr import MinSBR\n"
   ]
  },
  {
   "cell_type": "code",
   "execution_count": 73,
   "id": "5ad02be3-1630-40d5-a102-93478a9d0c5f",
   "metadata": {},
   "outputs": [],
   "source": [
    "expt_condts = f\"{path}rmg_gua/cantera/all_experiments_reorg_sbr.yaml\"\n",
    "with open(expt_condts, \"r\") as f: \n",
    "    data = yaml.safe_load(f)\n",
    "conditions = data[2]"
   ]
  },
  {
   "cell_type": "code",
   "execution_count": 74,
   "id": "bd07415e-d300-40b5-bc8a-30ca36b884e6",
   "metadata": {},
   "outputs": [],
   "source": [
    "conditions[\"volume_flowrate\"]\n",
    "\n",
    "FC_temp = 293.15\n",
    "conditions[\"molar_flow\"] = conditions[\"volume_flowrate\"] * 1.01325e5 / (8.3145 * FC_temp) "
   ]
  },
  {
   "cell_type": "code",
   "execution_count": 174,
   "id": "947a2e57-d0b8-4d54-ac72-048e340792b0",
   "metadata": {},
   "outputs": [
    {
     "data": {
      "text/plain": [
       "{'catalyst_area': 44.424193000339805,\n",
       " 'experiment_type': 'sbr',\n",
       " 'expt_name': 'graaf_1988',\n",
       " 'output': {'CH3OH': 0.0014663021657350137, 'H2O': 0.0014663021657350134},\n",
       " 'pressure': 3000000.0,\n",
       " 'run_num': 3.0,\n",
       " 'species': {'CO': 0.065, 'CO2': 0.261, 'H2': 0.674},\n",
       " 'temperature': 483.5,\n",
       " 'use_for_opt': True,\n",
       " 'volume': 0.0001346957850226624,\n",
       " 'volume_flowrate': 6.009999999999999e-06,\n",
       " 'molar_flow': 0.00024984177015083936}"
      ]
     },
     "execution_count": 174,
     "metadata": {},
     "output_type": "execute_result"
    }
   ],
   "source": [
    "conditions"
   ]
  },
  {
   "cell_type": "code",
   "execution_count": 75,
   "id": "7cff3305-5dec-4431-95d6-d71126bbe53b",
   "metadata": {},
   "outputs": [
    {
     "data": {
      "text/plain": [
       "0.00024984177015083936"
      ]
     },
     "execution_count": 75,
     "metadata": {},
     "output_type": "execute_result"
    }
   ],
   "source": [
    "conditions[\"molar_flow\"] "
   ]
  },
  {
   "cell_type": "code",
   "execution_count": 76,
   "id": "c8b73222-0a58-434b-a2d1-1e8bdd17e5da",
   "metadata": {},
   "outputs": [
    {
     "data": {
      "text/plain": [
       "6.009999999999999e-06"
      ]
     },
     "execution_count": 76,
     "metadata": {},
     "output_type": "execute_result"
    }
   ],
   "source": [
    "conditions[\"volume_flowrate\"]"
   ]
  },
  {
   "cell_type": "code",
   "execution_count": 77,
   "id": "84fb1ec9-7da1-41e9-9fa5-bc62320cd057",
   "metadata": {},
   "outputs": [
    {
     "data": {
      "text/plain": [
       "{'CO': 0.065, 'CO2': 0.261, 'H2': 0.674}"
      ]
     },
     "execution_count": 77,
     "metadata": {},
     "output_type": "execute_result"
    }
   ],
   "source": [
    "conditions[\"species\"]\n"
   ]
  },
  {
   "cell_type": "code",
   "execution_count": 262,
   "id": "e96a6160-bd76-4e6f-9c11-c0c3b7361035",
   "metadata": {},
   "outputs": [],
   "source": [
    "cti_file = f\"{path}rmg_gua/baseline/cantera/chem_annotated.cti\"\n",
    "\n",
    "reactor = MinSBR(\n",
    "    cti_file,\n",
    "    conditions,\n",
    "    reactor_type =1,\n",
    ")"
   ]
  },
  {
   "cell_type": "markdown",
   "id": "740b5e7a-0291-4e1b-9060-f44815e87894",
   "metadata": {},
   "source": [
    "# add sensitive reactions"
   ]
  },
  {
   "cell_type": "code",
   "execution_count": 263,
   "id": "0dd2afd2-06fc-4762-b4e3-33977f6e73df",
   "metadata": {},
   "outputs": [
    {
     "name": "stdout",
     "output_type": "stream",
     "text": [
      "CH3OH(8) + 2 X(1) <=> CH3X(33) + OH*(12)           : 137\n",
      "\n",
      "HCOOCH3(9) + 2 X(1) <=> CH3X(33) + HCOO*(17)       : 138\n",
      "\n",
      "CH3O*(21) + X(1) <=> CH3X(33) + O*(11)             : 139\n",
      "\n",
      "CH3OH*(23) + X(1) <=> CH3X(33) + OH*(12)           : 140\n",
      "\n",
      "CH3OH*(23) + X(1) <=> CH3X(33) + OH*(12)           : 141\n",
      "\n",
      "CH3OH*(23) + H*(10) <=> CH3X(33) + H2O*(13)        : 142\n",
      "\n",
      "CH3OH*(23) + CO*(14) <=> CH3X(33) + COOH*(18)      : 143\n",
      "\n",
      "CH3X(33) + HCOOH*(19) <=> CH3OH*(23) + HCO*(16)    : 144\n",
      "\n",
      "CH2O*(20) + CH3OH*(23) <=> CH3O2*(22) + CH3X(33)   : 145\n",
      "\n",
      "CH3OH*(23) + X(1) <=> CH3X(33) + OH*(12)           : 146\n",
      "\n",
      "CH3OH*(23) + X(1) <=> CH3X(33) + OH*(12)           : 147\n",
      "\n",
      "CH4(32) + O*(11) + X(1) <=> CH3X(33) + OH*(12)     : 148\n",
      "\n",
      "CH4(32) + OH*(12) + X(1) <=> CH3X(33) + H2O*(13)   : 149\n",
      "\n",
      "CH3X(33) + H*(10) <=> CH4(32) + 2 X(1)             : 150\n",
      "\n"
     ]
    }
   ],
   "source": [
    "# for index, rxn in enumerate(reactor.gas.reactions()):\n",
    "#     if \"CH4(24)\" in rxn.reactants or \"CH4(24)\" in rxn.products:\n",
    "#         print(rxn)\n",
    "#         # reactor.gas.set_multiplier(0,index)\n",
    "# for index, rxn in enumerate(reactor.surf.reactions()):\n",
    "#     if \"CH4(24)\" in rxn.reactants or \"CH4(24)\" in rxn.products:\n",
    "#         print(rxn)   \n",
    "#         # reactor.surf.set_multiplier(0,index)\n",
    "sens_rxns = []\n",
    "for index, rxn in enumerate(reactor.surf.reactions()):\n",
    "    if \"CH3X(33)\" in rxn.reactants or \"CH3X(33)\" in rxn.products:\n",
    "        # print(\"{0:50s} : {1}\".format(rxn.equation,index))\n",
    "        # if \"CH3OH(8)\" in rxn.reactants or \"CH3OH(8)\" in rxn.products:\n",
    "        #     # print(\"{0:50s} : {1}\".format(rxn.equation,index))\n",
    "        #     reactor.surf.set_multiplier(0,index)\n",
    "        if \"CH3OH*(23)\" in rxn.reactants or \"CH3OH*(23)\" in rxn.products:\n",
    "            \n",
    "            print(\"{0:50s} : {1}\\n\".format(rxn.equation,index))\n",
    "            reactor.surf.set_multiplier(0,index)\n",
    "            sens_rxns.append(index)\n",
    "        else:\n",
    "            reactor.surf.set_multiplier(0,index)\n",
    "            print(\"{0:50s} : {1}\\n\".format(rxn.equation,index))\n",
    "            sens_rxns.append(index)"
   ]
  },
  {
   "cell_type": "code",
   "execution_count": 264,
   "id": "baa1ec79-0568-40cf-b36f-26f69a55eae3",
   "metadata": {},
   "outputs": [
    {
     "name": "stdout",
     "output_type": "stream",
     "text": [
      "137\n",
      "138\n",
      "139\n",
      "140\n",
      "141\n",
      "142\n",
      "143\n",
      "144\n",
      "145\n",
      "146\n",
      "147\n",
      "148\n",
      "149\n",
      "150\n"
     ]
    }
   ],
   "source": [
    "for i in sens_rxns:\n",
    "    print(i)\n",
    "    reactor.rsurf.add_sensitivity_reaction(i)"
   ]
  },
  {
   "cell_type": "code",
   "execution_count": 265,
   "id": "2dbdb40c-9bbf-4588-92dd-596b8798ecca",
   "metadata": {},
   "outputs": [],
   "source": [
    "time = 100\n",
    "times = np.logspace(-9, -1, num=100)"
   ]
  },
  {
   "cell_type": "code",
   "execution_count": 272,
   "id": "a66fca6e-2c58-4d1e-9dbb-0e723689a537",
   "metadata": {},
   "outputs": [
    {
     "data": {
      "text/plain": [
       "array([[0., 0., 0., 0., 0., 0., 0., 0., 0., 0., 0., 0., 0., 0.],\n",
       "       [0., 0., 0., 0., 0., 0., 0., 0., 0., 0., 0., 0., 0., 0.],\n",
       "       [0., 0., 0., 0., 0., 0., 0., 0., 0., 0., 0., 0., 0., 0.],\n",
       "       [0., 0., 0., 0., 0., 0., 0., 0., 0., 0., 0., 0., 0., 0.],\n",
       "       [0., 0., 0., 0., 0., 0., 0., 0., 0., 0., 0., 0., 0., 0.],\n",
       "       [0., 0., 0., 0., 0., 0., 0., 0., 0., 0., 0., 0., 0., 0.],\n",
       "       [0., 0., 0., 0., 0., 0., 0., 0., 0., 0., 0., 0., 0., 0.],\n",
       "       [0., 0., 0., 0., 0., 0., 0., 0., 0., 0., 0., 0., 0., 0.],\n",
       "       [0., 0., 0., 0., 0., 0., 0., 0., 0., 0., 0., 0., 0., 0.],\n",
       "       [0., 0., 0., 0., 0., 0., 0., 0., 0., 0., 0., 0., 0., 0.],\n",
       "       [0., 0., 0., 0., 0., 0., 0., 0., 0., 0., 0., 0., 0., 0.],\n",
       "       [0., 0., 0., 0., 0., 0., 0., 0., 0., 0., 0., 0., 0., 0.],\n",
       "       [0., 0., 0., 0., 0., 0., 0., 0., 0., 0., 0., 0., 0., 0.],\n",
       "       [0., 0., 0., 0., 0., 0., 0., 0., 0., 0., 0., 0., 0., 0.],\n",
       "       [0., 0., 0., 0., 0., 0., 0., 0., 0., 0., 0., 0., 0., 0.],\n",
       "       [0., 0., 0., 0., 0., 0., 0., 0., 0., 0., 0., 0., 0., 0.],\n",
       "       [0., 0., 0., 0., 0., 0., 0., 0., 0., 0., 0., 0., 0., 0.],\n",
       "       [0., 0., 0., 0., 0., 0., 0., 0., 0., 0., 0., 0., 0., 0.],\n",
       "       [0., 0., 0., 0., 0., 0., 0., 0., 0., 0., 0., 0., 0., 0.],\n",
       "       [0., 0., 0., 0., 0., 0., 0., 0., 0., 0., 0., 0., 0., 0.],\n",
       "       [0., 0., 0., 0., 0., 0., 0., 0., 0., 0., 0., 0., 0., 0.],\n",
       "       [0., 0., 0., 0., 0., 0., 0., 0., 0., 0., 0., 0., 0., 0.],\n",
       "       [0., 0., 0., 0., 0., 0., 0., 0., 0., 0., 0., 0., 0., 0.],\n",
       "       [0., 0., 0., 0., 0., 0., 0., 0., 0., 0., 0., 0., 0., 0.],\n",
       "       [0., 0., 0., 0., 0., 0., 0., 0., 0., 0., 0., 0., 0., 0.],\n",
       "       [0., 0., 0., 0., 0., 0., 0., 0., 0., 0., 0., 0., 0., 0.],\n",
       "       [0., 0., 0., 0., 0., 0., 0., 0., 0., 0., 0., 0., 0., 0.],\n",
       "       [0., 0., 0., 0., 0., 0., 0., 0., 0., 0., 0., 0., 0., 0.],\n",
       "       [0., 0., 0., 0., 0., 0., 0., 0., 0., 0., 0., 0., 0., 0.],\n",
       "       [0., 0., 0., 0., 0., 0., 0., 0., 0., 0., 0., 0., 0., 0.],\n",
       "       [0., 0., 0., 0., 0., 0., 0., 0., 0., 0., 0., 0., 0., 0.]])"
      ]
     },
     "execution_count": 272,
     "metadata": {},
     "output_type": "execute_result"
    }
   ],
   "source": [
    "reactor.sim.sensitivities()"
   ]
  },
  {
   "cell_type": "code",
   "execution_count": 267,
   "id": "c21eb187-586f-41a7-bb2e-f610733a6fde",
   "metadata": {},
   "outputs": [],
   "source": [
    "results = {}\n",
    "for time in times: \n",
    "    reactor.sim.advance(time)\n",
    "    for i in range(0, len(reactor.gas.X)):\n",
    "        if reactor.gas.species_names[i] not in results.keys():\n",
    "            results[reactor.gas.species_names[i]] = [reactor.gas.X[i]]\n",
    "        else: \n",
    "            results[reactor.gas.species_names[i]].append(reactor.gas.X[i])\n",
    "    for i in range(0, len(reactor.surf.X)):\n",
    "        if reactor.surf.species_names[i] not in results.keys():\n",
    "            results[reactor.surf.species_names[i]] = [reactor.surf.X[i]]\n",
    "        else: \n",
    "            results[reactor.surf.species_names[i]].append(reactor.surf.X[i])\n",
    "    for sens_index, rxn_num in enumerate(sens_rxns):\n",
    "        if f\"reaction {rxn_num} sens\" not in results.keys(): \n",
    "            results[f\"reaction {rxn_num} sens\"] = [reactor.sim.sensitivity(8, sens_index)]\n",
    "        else: \n",
    "            results[f\"reaction {rxn_num} sens\"].append(reactor.sim.sensitivity(8, sens_index))"
   ]
  },
  {
   "cell_type": "code",
   "execution_count": 213,
   "id": "b72b10a8-12c3-4913-99aa-29818dd69dba",
   "metadata": {},
   "outputs": [
    {
     "data": {
      "text/plain": [
       "dict_keys(['N2', 'Ne', 'H2(2)', 'CO(3)', 'CO2(4)', 'H2O(5)', 'CH2O(6)', 'HCOOH(7)', 'CH3OH(8)', 'HCOOCH3(9)', 'CH4(32)', 'X(1)', 'H*(10)', 'O*(11)', 'OH*(12)', 'H2O*(13)', 'CO*(14)', 'CO2*(15)', 'HCO*(16)', 'HCOO*(17)', 'COOH*(18)', 'HCOOH*(19)', 'CH2O*(20)', 'CH3O*(21)', 'CH3O2*(22)', 'CH3OH*(23)', 'CH3X(33)', 'CH3OX(49)', 'reaction 137 sens', 'reaction 138 sens', 'reaction 139 sens', 'reaction 140 sens', 'reaction 141 sens', 'reaction 142 sens', 'reaction 143 sens', 'reaction 144 sens', 'reaction 145 sens', 'reaction 146 sens', 'reaction 147 sens', 'reaction 148 sens', 'reaction 149 sens', 'reaction 150 sens'])"
      ]
     },
     "execution_count": 213,
     "metadata": {},
     "output_type": "execute_result"
    }
   ],
   "source": [
    "results.keys()"
   ]
  },
  {
   "cell_type": "markdown",
   "id": "3d5a986c-3028-4236-ad29-1db5b3abe98e",
   "metadata": {},
   "source": [
    "## plot gases: "
   ]
  },
  {
   "cell_type": "code",
   "execution_count": 274,
   "id": "10903d49-dfbc-4609-a7d8-cad5b1dcfb13",
   "metadata": {},
   "outputs": [
    {
     "data": {
      "text/plain": [
       "Text(0, 0.5, 'mole fraction')"
      ]
     },
     "execution_count": 274,
     "metadata": {},
     "output_type": "execute_result"
    },
    {
     "data": {
      "image/png": "[encoded data removed]",
      "text/plain": [
       "<Figure size 432x288 with 1 Axes>"
      ]
     },
     "metadata": {
      "needs_background": "light"
     },
     "output_type": "display_data"
    }
   ],
   "source": [
    "gas_specs = [\"CH3OH(8)\", \"CH4(32)\"]\n",
    "for spec in gas_specs:\n",
    "    plt.plot(times, results[spec], label = spec)\n",
    "plt.legend()\n",
    "plt.xlim(0.0001,1)\n",
    "plt.xscale(\"log\")\n",
    "# plt.ylim(0,0.7)\n",
    "plt.xlabel(\"time (s)\")\n",
    "plt.ylabel(\"mole fraction\")"
   ]
  },
  {
   "cell_type": "code",
   "execution_count": 164,
   "id": "5d36b1ff-d0e3-4d42-968f-bb4a7e7f288a",
   "metadata": {},
   "outputs": [],
   "source": [
    "# see who has more, CH4 or CH3OH"
   ]
  },
  {
   "cell_type": "code",
   "execution_count": 275,
   "id": "a142b6d9-6f8d-4445-b85d-b54c2d6c5e4f",
   "metadata": {},
   "outputs": [
    {
     "data": {
      "text/plain": [
       "Text(0, 0.5, 'mole fraction')"
      ]
     },
     "execution_count": 275,
     "metadata": {},
     "output_type": "execute_result"
    },
    {
     "data": {
      "image/png": "[encoded data removed]",
      "text/plain": [
       "<Figure size 432x288 with 1 Axes>"
      ]
     },
     "metadata": {
      "needs_background": "light"
     },
     "output_type": "display_data"
    }
   ],
   "source": [
    "gas_specs = [\"CH3OH(8)\", \"CH4(32)\"]\n",
    "for spec in gas_specs:\n",
    "    plt.plot(times, results[spec], label = spec)\n",
    "plt.legend()\n",
    "plt.xlim(0.0001,1)\n",
    "plt.xscale(\"log\")\n",
    "# plt.ylim(0,0.7)\n",
    "plt.xlabel(\"time (s)\")\n",
    "plt.ylabel(\"mole fraction\")"
   ]
  },
  {
   "cell_type": "code",
   "execution_count": 276,
   "id": "9b65c628-b672-4d07-af03-742556bc7566",
   "metadata": {},
   "outputs": [
    {
     "data": {
      "text/plain": [
       "Text(0, 0.5, 'mole fraction')"
      ]
     },
     "execution_count": 276,
     "metadata": {},
     "output_type": "execute_result"
    },
    {
     "data": {
      "image/png": "[encoded data removed]",
      "text/plain": [
       "<Figure size 432x288 with 1 Axes>"
      ]
     },
     "metadata": {
      "needs_background": "light"
     },
     "output_type": "display_data"
    }
   ],
   "source": [
    "gas_specs = [\"H2(2)\",\"CO(3)\",\"CO2(4)\", \"H2O(5)\", \"CH3OH(8)\", \"CH4(32)\"]\n",
    "for spec in gas_specs:\n",
    "    plt.plot(times, results[spec], label = spec)\n",
    "plt.legend()\n",
    "plt.xlim(0,0.1)\n",
    "plt.ylim(0,0.7)\n",
    "plt.xlabel(\"time (s)\")\n",
    "plt.ylabel(\"mole fraction\")"
   ]
  },
  {
   "cell_type": "markdown",
   "id": "1643fb68-76e0-46a8-b2f8-248b56b741bf",
   "metadata": {},
   "source": [
    "## plot surface species"
   ]
  },
  {
   "cell_type": "code",
   "execution_count": 277,
   "id": "142ac5c1-9e3d-4aa8-839a-187a4613d6cd",
   "metadata": {},
   "outputs": [
    {
     "data": {
      "text/plain": [
       "<matplotlib.legend.Legend at 0x2ad6117e2250>"
      ]
     },
     "execution_count": 277,
     "metadata": {},
     "output_type": "execute_result"
    },
    {
     "data": {
      "image/png": "[encoded data removed]",
      "text/plain": [
       "<Figure size 432x288 with 1 Axes>"
      ]
     },
     "metadata": {
      "needs_background": "light"
     },
     "output_type": "display_data"
    }
   ],
   "source": [
    "surf_specs = [\"X(1)\",\"H*(10)\",\"H2O*(13)\",\"CO*(14)\"]\n",
    "for spec in surf_specs:\n",
    "    plt.plot(times, results[spec], label = spec)\n",
    "plt.xlim(0,0.1)\n",
    "plt.ylim(0,1.0)\n",
    "plt.xlabel(\"time (s)\")\n",
    "plt.ylabel(\"mole fraction\")\n",
    "plt.legend()"
   ]
  },
  {
   "cell_type": "code",
   "execution_count": 271,
   "id": "614e5f99-43f9-4bda-acad-eac4afc30dae",
   "metadata": {},
   "outputs": [
    {
     "name": "stdout",
     "output_type": "stream",
     "text": [
      " 0.000e+00   1500.000 101325.000   9.070304e+05      0.000      0.000\n",
      " 5.000e-06   1500.000 101325.000   9.070306e+05     -0.000      0.000\n",
      " 1.000e-05   1499.999 101325.000   9.070307e+05      0.000      0.000\n",
      " 1.500e-05   1499.999 101325.000   9.070308e+05      0.000      0.000\n",
      " 2.000e-05   1499.998 101325.000   9.070309e+05      0.000      0.000\n",
      " 2.500e-05   1499.998 101325.000   9.070310e+05      0.000      0.000\n",
      " 3.000e-05   1499.997 101325.000   9.070311e+05      0.000      0.000\n",
      " 3.500e-05   1499.997 101325.000   9.070312e+05      0.000      0.000\n",
      " 4.000e-05   1499.997 101325.000   9.070313e+05      0.000      0.000\n",
      " 4.500e-05   1499.996 101325.000   9.070314e+05      0.000     -0.000\n",
      " 5.000e-05   1499.996 101325.000   9.070315e+05      0.000     -0.000\n",
      " 5.500e-05   1499.996 101325.000   9.070316e+05      0.000     -0.000\n",
      " 6.000e-05   1499.995 101325.000   9.070317e+05      0.000     -0.000\n",
      " 6.500e-05   1499.995 101325.000   9.070317e+05      0.000     -0.000\n",
      " 7.000e-05   1499.995 101325.000   9.070318e+05      0.000     -0.000\n",
      " 7.500e-05   1499.995 101325.000   9.070319e+05      0.000     -0.000\n",
      " 8.000e-05   1499.994 101325.000   9.070319e+05      0.000     -0.000\n",
      " 8.500e-05   1499.994 101325.000   9.070319e+05      0.000     -0.000\n",
      " 9.000e-05   1499.994 101325.000   9.070320e+05      0.000     -0.000\n",
      " 9.500e-05   1499.994 101325.000   9.070320e+05      0.000     -0.000\n",
      " 1.000e-04   1499.994 101325.000   9.070320e+05      0.000     -0.000\n",
      " 1.050e-04   1499.994 101325.000   9.070320e+05      0.000     -0.000\n",
      " 1.100e-04   1499.994 101325.000   9.070320e+05      0.000     -0.000\n",
      " 1.150e-04   1499.994 101325.000   9.070320e+05      0.000     -0.000\n",
      " 1.200e-04   1499.994 101325.000   9.070319e+05      0.000     -0.000\n",
      " 1.250e-04   1499.994 101325.000   9.070319e+05      0.000     -0.000\n",
      " 1.300e-04   1499.994 101325.000   9.070318e+05      0.000     -0.000\n",
      " 1.350e-04   1499.994 101325.000   9.070318e+05      0.000     -0.000\n",
      " 1.400e-04   1499.994 101325.000   9.070317e+05      0.000     -0.000\n",
      " 1.450e-04   1499.994 101325.000   9.070316e+05      0.000     -0.000\n",
      " 1.500e-04   1499.995 101325.000   9.070315e+05      0.000     -0.000\n",
      " 1.550e-04   1499.995 101325.000   9.070313e+05      0.000     -0.000\n",
      " 1.600e-04   1499.995 101325.000   9.070312e+05      0.000     -0.000\n",
      " 1.650e-04   1499.996 101325.000   9.070310e+05      0.000     -0.000\n",
      " 1.700e-04   1499.996 101325.000   9.070308e+05      0.000     -0.000\n",
      " 1.750e-04   1499.997 101325.000   9.070306e+05      0.000     -0.000\n",
      " 1.800e-04   1499.997 101325.000   9.070304e+05      0.000     -0.000\n",
      " 1.850e-04   1499.998 101325.000   9.070302e+05      0.000     -0.000\n",
      " 1.900e-04   1499.999 101325.000   9.070299e+05      0.000     -0.000\n",
      " 1.950e-04   1500.000 101325.000   9.070296e+05      0.000     -0.000\n",
      " 2.000e-04   1500.001 101325.000   9.070293e+05      0.000     -0.000\n",
      " 2.050e-04   1500.002 101325.000   9.070290e+05      0.000     -0.001\n",
      " 2.100e-04   1500.003 101325.000   9.070286e+05      0.000     -0.001\n",
      " 2.150e-04   1500.004 101325.000   9.070282e+05      0.000     -0.001\n",
      " 2.200e-04   1500.005 101325.000   9.070278e+05      0.000     -0.001\n",
      " 2.250e-04   1500.006 101325.000   9.070274e+05      0.000     -0.001\n",
      " 2.300e-04   1500.008 101325.000   9.070269e+05      0.000     -0.001\n",
      " 2.350e-04   1500.010 101325.000   9.070264e+05      0.000     -0.001\n",
      " 2.400e-04   1500.011 101325.000   9.070258e+05      0.000     -0.001\n",
      " 2.450e-04   1500.013 101325.000   9.070252e+05      0.000     -0.001\n",
      " 2.500e-04   1500.015 101325.000   9.070246e+05      0.000     -0.001\n",
      " 2.550e-04   1500.017 101325.000   9.070239e+05      0.000     -0.001\n",
      " 2.600e-04   1500.019 101325.000   9.070232e+05      0.000     -0.001\n",
      " 2.650e-04   1500.022 101325.000   9.070224e+05      0.000     -0.001\n",
      " 2.700e-04   1500.024 101325.000   9.070216e+05      0.000     -0.001\n",
      " 2.750e-04   1500.027 101325.000   9.070208e+05      0.000     -0.001\n",
      " 2.800e-04   1500.029 101325.000   9.070199e+05      0.000     -0.001\n",
      " 2.850e-04   1500.033 101325.000   9.070189e+05      0.000     -0.001\n",
      " 2.900e-04   1500.036 101325.000   9.070179e+05      0.000     -0.001\n",
      " 2.950e-04   1500.039 101325.000   9.070168e+05      0.000     -0.001\n",
      " 3.000e-04   1500.043 101325.000   9.070156e+05      0.000     -0.002\n",
      " 3.050e-04   1500.047 101325.000   9.070144e+05      0.000     -0.002\n",
      " 3.100e-04   1500.051 101325.000   9.070131e+05      0.000     -0.002\n",
      " 3.150e-04   1500.055 101325.000   9.070117e+05      0.000     -0.002\n",
      " 3.200e-04   1500.059 101325.000   9.070103e+05      0.000     -0.002\n",
      " 3.250e-04   1500.064 101325.000   9.070088e+05      0.000     -0.002\n",
      " 3.300e-04   1500.069 101325.000   9.070071e+05      0.000     -0.002\n",
      " 3.350e-04   1500.075 101325.000   9.070054e+05      0.000     -0.002\n",
      " 3.400e-04   1500.081 101325.000   9.070036e+05      0.000     -0.002\n",
      " 3.450e-04   1500.087 101325.000   9.070017e+05      0.000     -0.002\n",
      " 3.500e-04   1500.093 101325.000   9.069996e+05      0.000     -0.002\n",
      " 3.550e-04   1500.100 101325.000   9.069975e+05      0.000     -0.003\n",
      " 3.600e-04   1500.107 101325.000   9.069952e+05      0.000     -0.003\n",
      " 3.650e-04   1500.115 101325.000   9.069928e+05      0.000     -0.003\n",
      " 3.700e-04   1500.123 101325.000   9.069902e+05      0.000     -0.003\n",
      " 3.750e-04   1500.132 101325.000   9.069875e+05      0.000     -0.003\n",
      " 3.800e-04   1500.141 101325.000   9.069847e+05      0.000     -0.003\n",
      " 3.850e-04   1500.151 101325.000   9.069816e+05      0.000     -0.003\n",
      " 3.900e-04   1500.161 101325.000   9.069784e+05      0.000     -0.004\n",
      " 3.950e-04   1500.172 101325.000   9.069750e+05      0.000     -0.004\n",
      " 4.000e-04   1500.184 101325.000   9.069714e+05      0.000     -0.004\n",
      " 4.050e-04   1500.196 101325.000   9.069676e+05      0.000     -0.004\n",
      " 4.100e-04   1500.209 101325.000   9.069636e+05      0.000     -0.004\n",
      " 4.150e-04   1500.222 101325.000   9.069594e+05      0.000     -0.005\n",
      " 4.200e-04   1500.237 101325.000   9.069548e+05      0.000     -0.005\n",
      " 4.250e-04   1500.253 101325.000   9.069500e+05      0.000     -0.005\n",
      " 4.300e-04   1500.269 101325.000   9.069450e+05      0.000     -0.005\n",
      " 4.350e-04   1500.286 101325.000   9.069396e+05      0.000     -0.006\n",
      " 4.400e-04   1500.305 101325.000   9.069339e+05      0.000     -0.006\n",
      " 4.450e-04   1500.325 101325.000   9.069278e+05      0.000     -0.006\n",
      " 4.500e-04   1500.345 101325.000   9.069214e+05      0.000     -0.006\n",
      " 4.550e-04   1500.368 101325.000   9.069146e+05      0.000     -0.007\n",
      " 4.600e-04   1500.391 101325.000   9.069073e+05      0.000     -0.007\n",
      " 4.650e-04   1500.416 101325.000   9.068996e+05      0.000     -0.007\n",
      " 4.700e-04   1500.443 101325.000   9.068914e+05      0.000     -0.008\n",
      " 4.750e-04   1500.471 101325.000   9.068827e+05      0.000     -0.008\n",
      " 4.800e-04   1500.501 101325.000   9.068734e+05      0.000     -0.008\n",
      " 4.850e-04   1500.534 101325.000   9.068635e+05      0.000     -0.009\n",
      " 4.900e-04   1500.568 101325.000   9.068530e+05      0.001     -0.009\n",
      " 4.950e-04   1500.605 101325.000   9.068417e+05      0.001     -0.010\n",
      " 5.000e-04   1500.644 101325.000   9.068298e+05      0.001     -0.010\n",
      " 5.050e-04   1500.685 101325.000   9.068170e+05      0.001     -0.011\n",
      " 5.100e-04   1500.730 101325.000   9.068033e+05      0.001     -0.011\n",
      " 5.150e-04   1500.777 101325.000   9.067888e+05      0.001     -0.012\n",
      " 5.200e-04   1500.828 101325.000   9.067731e+05      0.001     -0.013\n",
      " 5.250e-04   1500.883 101325.000   9.067564e+05      0.001     -0.013\n",
      " 5.300e-04   1500.942 101325.000   9.067385e+05      0.001     -0.014\n",
      " 5.350e-04   1501.004 101325.000   9.067193e+05      0.001     -0.015\n",
      " 5.400e-04   1501.072 101325.000   9.066987e+05      0.001     -0.016\n",
      " 5.450e-04   1501.144 101325.000   9.066765e+05      0.001     -0.017\n",
      " 5.500e-04   1501.222 101325.000   9.066526e+05      0.001     -0.018\n",
      " 5.550e-04   1501.306 101325.000   9.066269e+05      0.001     -0.019\n",
      " 5.600e-04   1501.397 101325.000   9.065991e+05      0.002     -0.020\n",
      " 5.650e-04   1501.495 101325.000   9.065691e+05      0.002     -0.021\n",
      " 5.700e-04   1501.601 101325.000   9.065367e+05      0.002     -0.022\n",
      " 5.750e-04   1501.716 101325.000   9.065015e+05      0.002     -0.024\n",
      " 5.800e-04   1501.841 101325.000   9.064633e+05      0.002     -0.025\n",
      " 5.850e-04   1501.976 101325.000   9.064217e+05      0.002     -0.027\n",
      " 5.900e-04   1502.124 101325.000   9.063763e+05      0.003     -0.029\n",
      " 5.950e-04   1502.286 101325.000   9.063267e+05      0.003     -0.031\n",
      " 6.000e-04   1502.463 101325.000   9.062724e+05      0.003     -0.033\n",
      " 6.050e-04   1502.657 101325.000   9.062127e+05      0.004     -0.036\n",
      " 6.100e-04   1502.871 101325.000   9.061470e+05      0.004     -0.039\n",
      " 6.150e-04   1503.107 101325.000   9.060743e+05      0.004     -0.042\n",
      " 6.200e-04   1503.369 101325.000   9.059937e+05      0.005     -0.045\n",
      " 6.250e-04   1503.660 101325.000   9.059041e+05      0.005     -0.049\n",
      " 6.300e-04   1503.985 101325.000   9.058039e+05      0.006     -0.053\n",
      " 6.350e-04   1504.349 101325.000   9.056915e+05      0.007     -0.057\n",
      " 6.400e-04   1504.759 101325.000   9.055648e+05      0.008     -0.062\n",
      " 6.450e-04   1505.223 101325.000   9.054213e+05      0.008     -0.068\n",
      " 6.500e-04   1505.751 101325.000   9.052581e+05      0.009     -0.074\n",
      " 6.550e-04   1506.353 101325.000   9.050713e+05      0.011     -0.080\n",
      " 6.600e-04   1507.045 101325.000   9.048566e+05      0.012     -0.087\n",
      " 6.650e-04   1507.845 101325.000   9.046083e+05      0.014     -0.095\n",
      " 6.700e-04   1508.773 101325.000   9.043198e+05      0.015     -0.103\n",
      " 6.750e-04   1509.856 101325.000   9.039830e+05      0.018     -0.111\n",
      " 6.800e-04   1511.124 101325.000   9.035882e+05      0.020     -0.119\n",
      " 6.850e-04   1512.613 101325.000   9.031244e+05      0.022     -0.127\n",
      " 6.900e-04   1514.363 101325.000   9.025787e+05      0.025     -0.135\n",
      " 6.950e-04   1516.419 101325.000   9.019374e+05      0.028     -0.141\n",
      " 7.000e-04   1518.826 101325.000   9.011864e+05      0.032     -0.146\n",
      " 7.050e-04   1521.627 101325.000   9.003124e+05      0.036     -0.149\n",
      " 7.100e-04   1524.858 101325.000   8.993043e+05      0.040     -0.150\n",
      " 7.150e-04   1528.543 101325.000   8.981546e+05      0.046     -0.150\n",
      " 7.200e-04   1532.694 101325.000   8.968602e+05      0.052     -0.148\n",
      " 7.250e-04   1537.306 101325.000   8.954222e+05      0.059     -0.147\n",
      " 7.300e-04   1542.366 101325.000   8.938453e+05      0.069     -0.146\n",
      " 7.350e-04   1547.852 101325.000   8.921364e+05      0.080     -0.147\n",
      " 7.400e-04   1553.744 101325.000   8.903023e+05      0.094     -0.149\n",
      " 7.450e-04   1560.023 101325.000   8.883488e+05      0.112     -0.155\n",
      " 7.500e-04   1566.676 101325.000   8.862802e+05      0.133     -0.162\n",
      " 7.550e-04   1573.695 101325.000   8.840997e+05      0.159     -0.172\n",
      " 7.600e-04   1581.067 101325.000   8.818116e+05      0.189     -0.183\n",
      " 7.650e-04   1588.760 101325.000   8.794258e+05      0.223     -0.194\n",
      " 7.700e-04   1596.704 101325.000   8.769652e+05      0.260     -0.202\n",
      " 7.750e-04   1604.752 101325.000   8.744755e+05      0.293     -0.204\n",
      " 7.800e-04   1612.651 101325.000   8.720358e+05      0.318     -0.196\n",
      " 7.850e-04   1620.039 101325.000   8.697593e+05      0.326     -0.175\n",
      " 7.900e-04   1626.505 101325.000   8.677733e+05      0.309     -0.141\n",
      " 7.950e-04   1631.738 101325.000   8.661744e+05      0.269     -0.100\n",
      " 8.000e-04   1635.659 101325.000   8.649859e+05      0.214     -0.061\n",
      " 8.050e-04   1638.441 101325.000   8.641539e+05      0.157     -0.032\n",
      " 8.100e-04   1640.388 101325.000   8.635829e+05      0.110     -0.014\n",
      " 8.150e-04   1641.802 101325.000   8.631787e+05      0.075     -0.007\n",
      " 8.200e-04   1642.911 101325.000   8.628700e+05      0.052     -0.005\n",
      " 8.250e-04   1643.863 101325.000   8.626115e+05      0.038     -0.006\n",
      " 8.300e-04   1644.739 101325.000   8.623771e+05      0.030     -0.008\n",
      " 8.350e-04   1645.587 101325.000   8.621526e+05      0.025     -0.009\n",
      " 8.400e-04   1646.428 101325.000   8.619311e+05      0.022     -0.009\n",
      " 8.450e-04   1647.274 101325.000   8.617091e+05      0.020     -0.009\n",
      " 8.500e-04   1648.128 101325.000   8.614851e+05      0.018     -0.008\n",
      " 8.550e-04   1648.994 101325.000   8.612586e+05      0.017     -0.007\n",
      " 8.600e-04   1649.870 101325.000   8.610294e+05      0.016     -0.007\n",
      " 8.650e-04   1650.756 101325.000   8.607977e+05      0.015     -0.006\n",
      " 8.700e-04   1651.652 101325.000   8.605638e+05      0.014     -0.005\n",
      " 8.750e-04   1652.556 101325.000   8.603278e+05      0.013     -0.004\n",
      " 8.800e-04   1653.467 101325.000   8.600901e+05      0.012     -0.003\n",
      " 8.850e-04   1654.383 101325.000   8.598511e+05      0.011     -0.003\n",
      " 8.900e-04   1655.304 101325.000   8.596110e+05      0.010     -0.002\n",
      " 8.950e-04   1656.229 101325.000   8.593702e+05      0.009     -0.001\n",
      " 9.000e-04   1657.156 101325.000   8.591288e+05      0.008     -0.001\n",
      " 9.050e-04   1658.083 101325.000   8.588873e+05      0.007      0.000\n",
      " 9.100e-04   1659.011 101325.000   8.586458e+05      0.007      0.001\n",
      " 9.150e-04   1659.939 101325.000   8.584046e+05      0.006      0.001\n",
      " 9.200e-04   1660.864 101325.000   8.581640e+05      0.005      0.002\n",
      " 9.250e-04   1661.787 101325.000   8.579241e+05      0.005      0.002\n",
      " 9.300e-04   1662.707 101325.000   8.576852e+05      0.004      0.002\n",
      " 9.350e-04   1663.622 101325.000   8.574475e+05      0.003      0.003\n",
      " 9.400e-04   1664.533 101325.000   8.572111e+05      0.003      0.003\n",
      " 9.450e-04   1665.438 101325.000   8.569762e+05      0.002      0.004\n",
      " 9.500e-04   1666.337 101325.000   8.567430e+05      0.002      0.004\n",
      " 9.550e-04   1667.229 101325.000   8.565116e+05      0.001      0.004\n",
      " 9.600e-04   1668.114 101325.000   8.562822e+05      0.001      0.005\n",
      " 9.650e-04   1668.991 101325.000   8.560548e+05      0.000      0.005\n",
      " 9.700e-04   1669.861 101325.000   8.558296e+05     -0.000      0.005\n",
      " 9.750e-04   1670.721 101325.000   8.556067e+05     -0.001      0.005\n",
      " 9.800e-04   1671.573 101325.000   8.553861e+05     -0.001      0.006\n",
      " 9.850e-04   1672.415 101325.000   8.551680e+05     -0.002      0.006\n",
      " 9.900e-04   1673.249 101325.000   8.549524e+05     -0.002      0.006\n",
      " 9.950e-04   1674.072 101325.000   8.547394e+05     -0.002      0.006\n",
      " 1.000e-03   1674.885 101325.000   8.545290e+05     -0.003      0.006\n",
      " 1.005e-03   1675.688 101325.000   8.543213e+05     -0.003      0.006\n",
      " 1.010e-03   1676.481 101325.000   8.541164e+05     -0.003      0.007\n",
      " 1.015e-03   1677.264 101325.000   8.539141e+05     -0.004      0.007\n",
      " 1.020e-03   1678.036 101325.000   8.537147e+05     -0.004      0.007\n",
      " 1.025e-03   1678.797 101325.000   8.535180e+05     -0.004      0.007\n",
      " 1.030e-03   1679.547 101325.000   8.533242e+05     -0.005      0.007\n",
      " 1.035e-03   1680.287 101325.000   8.531332e+05     -0.005      0.007\n",
      " 1.040e-03   1681.016 101325.000   8.529450e+05     -0.005      0.007\n",
      " 1.045e-03   1681.734 101325.000   8.527597e+05     -0.005      0.007\n",
      " 1.050e-03   1682.441 101325.000   8.525771e+05     -0.005      0.007\n",
      " 1.055e-03   1683.138 101325.000   8.523974e+05     -0.006      0.007\n",
      " 1.060e-03   1683.824 101325.000   8.522206e+05     -0.006      0.007\n",
      " 1.065e-03   1684.499 101325.000   8.520465e+05     -0.006      0.007\n",
      " 1.070e-03   1685.163 101325.000   8.518752e+05     -0.006      0.007\n",
      " 1.075e-03   1685.817 101325.000   8.517066e+05     -0.006      0.008\n",
      " 1.080e-03   1686.460 101325.000   8.515408e+05     -0.007      0.008\n",
      " 1.085e-03   1687.092 101325.000   8.513778e+05     -0.007      0.008\n",
      " 1.090e-03   1687.715 101325.000   8.512174e+05     -0.007      0.008\n",
      " 1.095e-03   1688.327 101325.000   8.510597e+05     -0.007      0.008\n",
      " 1.100e-03   1688.929 101325.000   8.509046e+05     -0.007      0.008\n",
      " 1.105e-03   1689.521 101325.000   8.507521e+05     -0.007      0.008\n",
      " 1.110e-03   1690.103 101325.000   8.506023e+05     -0.008      0.008\n",
      " 1.115e-03   1690.675 101325.000   8.504549e+05     -0.008      0.008\n",
      " 1.120e-03   1691.238 101325.000   8.503101e+05     -0.008      0.008\n",
      " 1.125e-03   1691.790 101325.000   8.501678e+05     -0.008      0.008\n",
      " 1.130e-03   1692.334 101325.000   8.500279e+05     -0.008      0.008\n",
      " 1.135e-03   1692.868 101325.000   8.498904e+05     -0.008      0.008\n",
      " 1.140e-03   1693.393 101325.000   8.497553e+05     -0.008      0.008\n",
      " 1.145e-03   1693.909 101325.000   8.496226e+05     -0.008      0.007\n",
      " 1.150e-03   1694.416 101325.000   8.494921e+05     -0.008      0.007\n",
      " 1.155e-03   1694.914 101325.000   8.493640e+05     -0.009      0.007\n",
      " 1.160e-03   1695.404 101325.000   8.492380e+05     -0.009      0.007\n",
      " 1.165e-03   1695.885 101325.000   8.491143e+05     -0.009      0.007\n",
      " 1.170e-03   1696.358 101325.000   8.489927e+05     -0.009      0.007\n",
      " 1.175e-03   1696.823 101325.000   8.488732e+05     -0.009      0.007\n",
      " 1.180e-03   1697.279 101325.000   8.487558e+05     -0.009      0.007\n",
      " 1.185e-03   1697.728 101325.000   8.486405e+05     -0.009      0.007\n",
      " 1.190e-03   1698.169 101325.000   8.485272e+05     -0.009      0.007\n",
      " 1.195e-03   1698.602 101325.000   8.484158e+05     -0.009      0.007\n",
      " 1.200e-03   1699.028 101325.000   8.483064e+05     -0.009      0.007\n",
      " 1.205e-03   1699.446 101325.000   8.481989e+05     -0.009      0.007\n",
      " 1.210e-03   1699.857 101325.000   8.480933e+05     -0.009      0.007\n",
      " 1.215e-03   1700.261 101325.000   8.479896e+05     -0.009      0.007\n",
      " 1.220e-03   1700.658 101325.000   8.478876e+05     -0.009      0.007\n",
      " 1.225e-03   1701.048 101325.000   8.477874e+05     -0.009      0.007\n",
      " 1.230e-03   1701.431 101325.000   8.476889e+05     -0.009      0.007\n",
      " 1.235e-03   1701.808 101325.000   8.475922e+05     -0.009      0.007\n",
      " 1.240e-03   1702.178 101325.000   8.474971e+05     -0.009      0.007\n",
      " 1.245e-03   1702.542 101325.000   8.474037e+05     -0.009      0.007\n",
      " 1.250e-03   1702.900 101325.000   8.473118e+05     -0.010      0.007\n",
      " 1.255e-03   1703.251 101325.000   8.472216e+05     -0.010      0.006\n",
      " 1.260e-03   1703.596 101325.000   8.471329e+05     -0.010      0.006\n",
      " 1.265e-03   1703.936 101325.000   8.470457e+05     -0.010      0.006\n",
      " 1.270e-03   1704.270 101325.000   8.469600e+05     -0.010      0.006\n",
      " 1.275e-03   1704.598 101325.000   8.468758e+05     -0.010      0.006\n",
      " 1.280e-03   1704.920 101325.000   8.467930e+05     -0.010      0.006\n",
      " 1.285e-03   1705.237 101325.000   8.467116e+05     -0.010      0.006\n",
      " 1.290e-03   1705.549 101325.000   8.466316e+05     -0.010      0.006\n",
      " 1.295e-03   1705.856 101325.000   8.465529e+05     -0.010      0.006\n",
      " 1.300e-03   1706.157 101325.000   8.464756e+05     -0.010      0.006\n",
      " 1.305e-03   1706.453 101325.000   8.463995e+05     -0.010      0.006\n",
      " 1.310e-03   1706.745 101325.000   8.463248e+05     -0.010      0.006\n",
      " 1.315e-03   1707.031 101325.000   8.462512e+05     -0.010      0.006\n",
      " 1.320e-03   1707.313 101325.000   8.461789e+05     -0.010      0.006\n",
      " 1.325e-03   1707.590 101325.000   8.461078e+05     -0.010      0.006\n",
      " 1.330e-03   1707.863 101325.000   8.460379e+05     -0.010      0.006\n",
      " 1.335e-03   1708.131 101325.000   8.459691e+05     -0.010      0.005\n",
      " 1.340e-03   1708.394 101325.000   8.459015e+05     -0.010      0.005\n",
      " 1.345e-03   1708.654 101325.000   8.458349e+05     -0.010      0.005\n",
      " 1.350e-03   1708.909 101325.000   8.457695e+05     -0.010      0.005\n",
      " 1.355e-03   1709.160 101325.000   8.457051e+05     -0.010      0.005\n",
      " 1.360e-03   1709.407 101325.000   8.456417e+05     -0.010      0.005\n",
      " 1.365e-03   1709.650 101325.000   8.455794e+05     -0.010      0.005\n",
      " 1.370e-03   1709.889 101325.000   8.455181e+05     -0.010      0.005\n",
      " 1.375e-03   1710.124 101325.000   8.454577e+05     -0.010      0.005\n",
      " 1.380e-03   1710.356 101325.000   8.453983e+05     -0.010      0.005\n",
      " 1.385e-03   1710.583 101325.000   8.453399e+05     -0.010      0.005\n",
      " 1.390e-03   1710.808 101325.000   8.452824e+05     -0.010      0.005\n",
      " 1.395e-03   1711.028 101325.000   8.452258e+05     -0.010      0.005\n",
      " 1.400e-03   1711.246 101325.000   8.451701e+05     -0.010      0.005\n",
      " 1.405e-03   1711.459 101325.000   8.451153e+05     -0.010      0.005\n",
      " 1.410e-03   1711.670 101325.000   8.450613e+05     -0.010      0.004\n",
      " 1.415e-03   1711.877 101325.000   8.450081e+05     -0.010      0.004\n",
      " 1.420e-03   1712.081 101325.000   8.449558e+05     -0.010      0.004\n",
      " 1.425e-03   1712.282 101325.000   8.449043e+05     -0.010      0.004\n",
      " 1.430e-03   1712.480 101325.000   8.448536e+05     -0.010      0.004\n",
      " 1.435e-03   1712.674 101325.000   8.448037e+05     -0.009      0.004\n",
      " 1.440e-03   1712.866 101325.000   8.447545e+05     -0.009      0.004\n",
      " 1.445e-03   1713.055 101325.000   8.447060e+05     -0.009      0.004\n",
      " 1.450e-03   1713.241 101325.000   8.446584e+05     -0.009      0.004\n",
      " 1.455e-03   1713.424 101325.000   8.446114e+05     -0.009      0.004\n",
      " 1.460e-03   1713.605 101325.000   8.445651e+05     -0.009      0.004\n",
      " 1.465e-03   1713.782 101325.000   8.445195e+05     -0.009      0.004\n",
      " 1.470e-03   1713.958 101325.000   8.444746e+05     -0.009      0.004\n",
      " 1.475e-03   1714.130 101325.000   8.444304e+05     -0.009      0.004\n",
      " 1.480e-03   1714.300 101325.000   8.443868e+05     -0.009      0.004\n",
      " 1.485e-03   1714.468 101325.000   8.443439e+05     -0.009      0.004\n",
      " 1.490e-03   1714.633 101325.000   8.443016e+05     -0.009      0.004\n",
      " 1.495e-03   1714.795 101325.000   8.442599e+05     -0.009      0.003\n",
      " 1.500e-03   1714.955 101325.000   8.442188e+05     -0.009      0.003\n",
      " 1.505e-03   1715.113 101325.000   8.441783e+05     -0.009      0.003\n",
      " 1.510e-03   1715.269 101325.000   8.441384e+05     -0.009      0.003\n",
      " 1.515e-03   1715.422 101325.000   8.440991e+05     -0.009      0.003\n",
      " 1.520e-03   1715.573 101325.000   8.440603e+05     -0.009      0.003\n",
      " 1.525e-03   1715.723 101325.000   8.440221e+05     -0.009      0.003\n",
      " 1.530e-03   1715.869 101325.000   8.439844e+05     -0.009      0.003\n",
      " 1.535e-03   1716.014 101325.000   8.439473e+05     -0.009      0.003\n",
      " 1.540e-03   1716.157 101325.000   8.439107e+05     -0.009      0.003\n",
      " 1.545e-03   1716.298 101325.000   8.438746e+05     -0.009      0.003\n",
      " 1.550e-03   1716.437 101325.000   8.438390e+05     -0.009      0.003\n",
      " 1.555e-03   1716.574 101325.000   8.438039e+05     -0.009      0.003\n",
      " 1.560e-03   1716.709 101325.000   8.437693e+05     -0.009      0.003\n",
      " 1.565e-03   1716.842 101325.000   8.437351e+05     -0.009      0.003\n",
      " 1.570e-03   1716.973 101325.000   8.437015e+05     -0.009      0.003\n",
      " 1.575e-03   1717.103 101325.000   8.436683e+05     -0.009      0.003\n",
      " 1.580e-03   1717.230 101325.000   8.436355e+05     -0.009      0.002\n",
      " 1.585e-03   1717.356 101325.000   8.436032e+05     -0.009      0.002\n",
      " 1.590e-03   1717.481 101325.000   8.435713e+05     -0.009      0.002\n",
      " 1.595e-03   1717.603 101325.000   8.435399e+05     -0.009      0.002\n",
      " 1.600e-03   1717.724 101325.000   8.435089e+05     -0.009      0.002\n",
      " 1.605e-03   1717.844 101325.000   8.434783e+05     -0.009      0.002\n",
      " 1.610e-03   1717.962 101325.000   8.434481e+05     -0.009      0.002\n",
      " 1.615e-03   1718.078 101325.000   8.434183e+05     -0.009      0.002\n",
      " 1.620e-03   1718.192 101325.000   8.433889e+05     -0.009      0.002\n",
      " 1.625e-03   1718.306 101325.000   8.433599e+05     -0.009      0.002\n",
      " 1.630e-03   1718.417 101325.000   8.433312e+05     -0.009      0.002\n",
      " 1.635e-03   1718.528 101325.000   8.433030e+05     -0.009      0.002\n",
      " 1.640e-03   1718.636 101325.000   8.432751e+05     -0.009      0.002\n",
      " 1.645e-03   1718.744 101325.000   8.432475e+05     -0.009      0.002\n",
      " 1.650e-03   1718.850 101325.000   8.432203e+05     -0.009      0.002\n",
      " 1.655e-03   1718.955 101325.000   8.431935e+05     -0.008      0.002\n",
      " 1.660e-03   1719.058 101325.000   8.431670e+05     -0.008      0.002\n",
      " 1.665e-03   1719.160 101325.000   8.431409e+05     -0.008      0.002\n",
      " 1.670e-03   1719.261 101325.000   8.431150e+05     -0.008      0.002\n",
      " 1.675e-03   1719.360 101325.000   8.430895e+05     -0.008      0.002\n",
      " 1.680e-03   1719.458 101325.000   8.430644e+05     -0.008      0.001\n",
      " 1.685e-03   1719.555 101325.000   8.430395e+05     -0.008      0.001\n",
      " 1.690e-03   1719.651 101325.000   8.430150e+05     -0.008      0.001\n",
      " 1.695e-03   1719.746 101325.000   8.429907e+05     -0.008      0.001\n",
      " 1.700e-03   1719.839 101325.000   8.429668e+05     -0.008      0.001\n",
      " 1.705e-03   1719.931 101325.000   8.429431e+05     -0.008      0.001\n",
      " 1.710e-03   1720.022 101325.000   8.429197e+05     -0.008      0.001\n",
      " 1.715e-03   1720.112 101325.000   8.428967e+05     -0.008      0.001\n",
      " 1.720e-03   1720.201 101325.000   8.428739e+05     -0.008      0.001\n",
      " 1.725e-03   1720.289 101325.000   8.428514e+05     -0.008      0.001\n",
      " 1.730e-03   1720.376 101325.000   8.428291e+05     -0.008      0.001\n",
      " 1.735e-03   1720.462 101325.000   8.428071e+05     -0.008      0.001\n",
      " 1.740e-03   1720.546 101325.000   8.427854e+05     -0.008      0.001\n",
      " 1.745e-03   1720.630 101325.000   8.427640e+05     -0.008      0.001\n",
      " 1.750e-03   1720.713 101325.000   8.427428e+05     -0.008      0.001\n",
      " 1.755e-03   1720.794 101325.000   8.427218e+05     -0.008      0.001\n",
      " 1.760e-03   1720.875 101325.000   8.427011e+05     -0.008      0.001\n",
      " 1.765e-03   1720.955 101325.000   8.426806e+05     -0.008      0.001\n",
      " 1.770e-03   1721.034 101325.000   8.426604e+05     -0.008      0.001\n",
      " 1.775e-03   1721.112 101325.000   8.426404e+05     -0.008      0.001\n",
      " 1.780e-03   1721.189 101325.000   8.426207e+05     -0.008      0.001\n",
      " 1.785e-03   1721.265 101325.000   8.426011e+05     -0.008      0.001\n",
      " 1.790e-03   1721.340 101325.000   8.425818e+05     -0.008      0.001\n",
      " 1.795e-03   1721.415 101325.000   8.425628e+05     -0.008      0.000\n",
      " 1.800e-03   1721.488 101325.000   8.425439e+05     -0.008      0.000\n",
      " 1.805e-03   1721.561 101325.000   8.425253e+05     -0.008      0.000\n",
      " 1.810e-03   1721.633 101325.000   8.425068e+05     -0.008      0.000\n",
      " 1.815e-03   1721.704 101325.000   8.424886e+05     -0.008      0.000\n",
      " 1.820e-03   1721.774 101325.000   8.424706e+05     -0.008      0.000\n",
      " 1.825e-03   1721.844 101325.000   8.424527e+05     -0.008      0.000\n",
      " 1.830e-03   1721.912 101325.000   8.424351e+05     -0.008      0.000\n",
      " 1.835e-03   1721.980 101325.000   8.424177e+05     -0.008      0.000\n",
      " 1.840e-03   1722.047 101325.000   8.424005e+05     -0.008      0.000\n",
      " 1.845e-03   1722.114 101325.000   8.423834e+05     -0.008      0.000\n",
      " 1.850e-03   1722.180 101325.000   8.423666e+05     -0.008      0.000\n",
      " 1.855e-03   1722.245 101325.000   8.423499e+05     -0.007      0.000\n",
      " 1.860e-03   1722.309 101325.000   8.423334e+05     -0.007     -0.000\n",
      " 1.865e-03   1722.372 101325.000   8.423171e+05     -0.007     -0.000\n",
      " 1.870e-03   1722.435 101325.000   8.423010e+05     -0.007     -0.000\n",
      " 1.875e-03   1722.498 101325.000   8.422850e+05     -0.007     -0.000\n",
      " 1.880e-03   1722.559 101325.000   8.422692e+05     -0.007     -0.000\n",
      " 1.885e-03   1722.620 101325.000   8.422536e+05     -0.007     -0.000\n",
      " 1.890e-03   1722.680 101325.000   8.422381e+05     -0.007     -0.000\n",
      " 1.895e-03   1722.740 101325.000   8.422229e+05     -0.007     -0.000\n",
      " 1.900e-03   1722.799 101325.000   8.422077e+05     -0.007     -0.000\n",
      " 1.905e-03   1722.857 101325.000   8.421928e+05     -0.007     -0.000\n",
      " 1.910e-03   1722.915 101325.000   8.421779e+05     -0.007     -0.000\n",
      " 1.915e-03   1722.972 101325.000   8.421633e+05     -0.007     -0.000\n",
      " 1.920e-03   1723.029 101325.000   8.421488e+05     -0.007     -0.000\n",
      " 1.925e-03   1723.085 101325.000   8.421344e+05     -0.007     -0.000\n",
      " 1.930e-03   1723.140 101325.000   8.421202e+05     -0.007     -0.001\n",
      " 1.935e-03   1723.195 101325.000   8.421062e+05     -0.007     -0.001\n",
      " 1.940e-03   1723.249 101325.000   8.420923e+05     -0.007     -0.001\n",
      " 1.945e-03   1723.303 101325.000   8.420785e+05     -0.007     -0.001\n",
      " 1.950e-03   1723.356 101325.000   8.420649e+05     -0.007     -0.001\n",
      " 1.955e-03   1723.408 101325.000   8.420514e+05     -0.007     -0.001\n",
      " 1.960e-03   1723.461 101325.000   8.420380e+05     -0.007     -0.001\n",
      " 1.965e-03   1723.512 101325.000   8.420248e+05     -0.007     -0.001\n",
      " 1.970e-03   1723.563 101325.000   8.420117e+05     -0.007     -0.001\n",
      " 1.975e-03   1723.614 101325.000   8.419988e+05     -0.007     -0.001\n",
      " 1.980e-03   1723.664 101325.000   8.419859e+05     -0.007     -0.001\n",
      " 1.985e-03   1723.713 101325.000   8.419732e+05     -0.007     -0.001\n",
      " 1.990e-03   1723.762 101325.000   8.419607e+05     -0.007     -0.001\n",
      " 1.995e-03   1723.811 101325.000   8.419482e+05     -0.007     -0.001\n"
     ]
    },
    {
     "name": "stderr",
     "output_type": "stream",
     "text": [
      "/work/westgroup/ChrisB/_01_MeOH_repos/uncertainty_analysis/conda/lib/python3.7/site-packages/ipykernel_launcher.py:59: UserWarning: Legend does not support 'R1: H2 + O <=> H + OH' instances.\n",
      "A proxy artist may be used instead.\n",
      "See: https://matplotlib.org/users/legend_guide.html#creating-artists-specifically-for-adding-to-the-legend-aka-proxy-artists\n",
      "/work/westgroup/ChrisB/_01_MeOH_repos/uncertainty_analysis/conda/lib/python3.7/site-packages/ipykernel_launcher.py:59: UserWarning: Legend does not support 'R1: HO2 + O <=> O2 + OH' instances.\n",
      "A proxy artist may be used instead.\n",
      "See: https://matplotlib.org/users/legend_guide.html#creating-artists-specifically-for-adding-to-the-legend-aka-proxy-artists\n"
     ]
    },
    {
     "data": {
      "image/png": "[encoded data removed]",
      "text/plain": [
       "<Figure size 432x288 with 4 Axes>"
      ]
     },
     "metadata": {
      "needs_background": "light"
     },
     "output_type": "display_data"
    },
    {
     "data": {
      "image/png": "[encoded data removed]",
      "text/plain": [
       "<Figure size 432x288 with 1 Axes>"
      ]
     },
     "metadata": {
      "needs_background": "light"
     },
     "output_type": "display_data"
    }
   ],
   "source": [
    "import sys\n",
    "import numpy as np\n",
    "\n",
    "import cantera as ct\n",
    "\n",
    "gas = ct.Solution('gri30.cti')\n",
    "temp = 1500.0\n",
    "pres = ct.one_atm\n",
    "\n",
    "gas.TPX = temp, pres, 'CH4:0.1, O2:2, N2:7.52'\n",
    "r = ct.IdealGasConstPressureReactor(gas, name='R1')\n",
    "sim = ct.ReactorNet([r])\n",
    "\n",
    "# enable sensitivity with respect to the rates of the first 10\n",
    "# reactions (reactions 0 through 9)\n",
    "for i in range(10):\n",
    "    r.add_sensitivity_reaction(i)\n",
    "\n",
    "# set the tolerances for the solution and for the sensitivity coefficients\n",
    "sim.rtol = 1.0e-6\n",
    "sim.atol = 1.0e-15\n",
    "sim.rtol_sensitivity = 1.0e-6\n",
    "sim.atol_sensitivity = 1.0e-6\n",
    "\n",
    "states = ct.SolutionArray(gas, extra=['t', 's2', 's3'])\n",
    "\n",
    "for t in np.arange(0, 2e-3, 5e-6):\n",
    "    sim.advance(t)\n",
    "    s2 = sim.sensitivity('OH', 2)  # sensitivity of OH to reaction 2\n",
    "    s3 = sim.sensitivity('OH', 3)  # sensitivity of OH to reaction 3\n",
    "    states.append(r.thermo.state, t=1000*t, s2=s2, s3=s3)\n",
    "\n",
    "    print('{:10.3e} {:10.3f} {:10.3f} {:14.6e} {:10.3f} {:10.3f}'.format(\n",
    "        sim.time, r.T, r.thermo.P, r.thermo.u, s2, s3))\n",
    "\n",
    "# plot the results if matplotlib is installed.\n",
    "import matplotlib.pyplot as plt\n",
    "plt.subplot(2, 2, 1)\n",
    "plt.plot(states.t, states.T)\n",
    "plt.xlabel('Time (ms)')\n",
    "plt.ylabel('Temperature (K)')\n",
    "plt.subplot(2, 2, 2)\n",
    "plt.plot(states.t, states('OH').X)\n",
    "plt.xlabel('Time (ms)')\n",
    "plt.ylabel('OH Mole Fraction')\n",
    "plt.subplot(2, 2, 3)\n",
    "plt.plot(states.t, states('H').X)\n",
    "plt.xlabel('Time (ms)')\n",
    "plt.ylabel('H Mole Fraction')\n",
    "plt.subplot(2, 2, 4)\n",
    "plt.plot(states.t, states('CH4').X)\n",
    "plt.xlabel('Time (ms)')\n",
    "plt.ylabel('CH4 Mole Fraction')\n",
    "plt.tight_layout()\n",
    "\n",
    "plt.figure(2)\n",
    "plt.plot(states.t, states.s2, '-', states.t, states.s3, '-g')\n",
    "plt.legend([sim.sensitivity_parameter_name(2), sim.sensitivity_parameter_name(3)],\n",
    "           'best')\n",
    "plt.xlabel('Time (ms)')\n",
    "plt.ylabel('OH Sensitivity')\n",
    "plt.tight_layout()\n",
    "plt.show()\n"
   ]
  },
  {
   "cell_type": "code",
   "execution_count": null,
   "id": "855e6031-84ac-41b6-ab8f-d60407492c39",
   "metadata": {},
   "outputs": [],
   "source": []
  }
 ],
 "metadata": {
  "kernelspec": {
   "display_name": "Python 3 (ipykernel)",
   "language": "python",
   "name": "python3"
  },
  "language_info": {
   "codemirror_mode": {
    "name": "ipython",
    "version": 3
   },
   "file_extension": ".py",
   "mimetype": "text/x-python",
   "name": "python",
   "nbconvert_exporter": "python",
   "pygments_lexer": "ipython3",
   "version": "3.7.12"
  }
 },
 "nbformat": 4,
 "nbformat_minor": 5
}
