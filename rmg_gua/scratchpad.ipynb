{
 "cells": [
  {
   "cell_type": "code",
   "execution_count": 16,
   "id": "e19e30ed-26e9-4cac-8950-964305582f83",
   "metadata": {},
   "outputs": [],
   "source": [
    "import cantera as ct\n",
    "import os\n",
    "from rmgpy import chemkin as ck\n",
    "\n",
    "import argparse\n",
    "import logging\n",
    "import math\n",
    "import os\n",
    "\n",
    "import matplotlib.pyplot as plt\n",
    "%matplotlib inline\n",
    "\n",
    "import\n",
    "from rmgpy.chemkin import load_chemkin_file\n",
    "from rmgpy.rmg.model import ReactionModel\n",
    "from rmgpy.rmg.output import save_diff_html"
   ]
  },
  {
   "cell_type": "code",
   "execution_count": 2,
   "id": "4ef8156c-456e-42da-99c9-9ff47c936359",
   "metadata": {},
   "outputs": [],
   "source": [
    "current_model =  \"/work/westgroup/ChrisB/_01_MeOH_repos/uncertainty_analysis/rmg_gua/baseline/\"\n",
    "good_model = \"/work/westgroup/ChrisB/_01_MeOH_repos/meOH-synthesis/base/\"\n",
    "\n",
    "cantera_add = os.path.join(\"cantera\", \"chem_annotated.cti\")\n",
    "\n",
    "chem_gas_add = os.path.join(\"chemkin\", \"chem_annotated-gas.inp\")\n",
    "chem_surf_add = os.path.join(\"chemkin\", \"chem_annotated-surface.inp\")\n",
    "chem_dict_add = os.path.join(\"chemkin\", \"species_dictionary.txt\")\n",
    "\n",
    "chem_edge_gas_add = os.path.join(\"chemkin\", \"chem_edge_annotated-gas.inp\")\n",
    "chem_edge_surf_add = os.path.join(\"chemkin\", \"chem_edge_annotated-surface.inp\")\n",
    "chem_edge_dict_add = os.path.join(\"chemkin\", \"species_edge_dictionary.txt\")"
   ]
  },
  {
   "cell_type": "markdown",
   "id": "d41c84c9-b0d7-4728-9316-ee6d861ad0fb",
   "metadata": {},
   "source": [
    "## load cantera objects"
   ]
  },
  {
   "cell_type": "code",
   "execution_count": 3,
   "id": "37a542ac-f3a9-434f-ac22-5b77d213e46a",
   "metadata": {},
   "outputs": [],
   "source": [
    "curr_gas_ct = ct.Solution(os.path.join(current_model, cantera_add), \"gas\")\n",
    "curr_surf_ct = ct.Interface(os.path.join(current_model, cantera_add), \"surface1\", [curr_gas_ct])"
   ]
  },
  {
   "cell_type": "code",
   "execution_count": 4,
   "id": "157169eb-b3af-4012-a600-0a151885e1d6",
   "metadata": {},
   "outputs": [],
   "source": [
    "good_gas_ct = ct.Solution(os.path.join(good_model, cantera_add), \"gas\")\n",
    "good_surf_ct = ct.Interface(os.path.join(good_model, cantera_add), \"surface1\", [good_gas_ct])"
   ]
  },
  {
   "cell_type": "markdown",
   "id": "cf1e0af7-5ef1-45e9-a26d-8ce7bca3d552",
   "metadata": {},
   "source": [
    "## load chemkin models"
   ]
  },
  {
   "cell_type": "markdown",
   "id": "5990b09d-7093-466b-b7ad-72d32a838d1f",
   "metadata": {},
   "source": [
    "## Current model "
   ]
  },
  {
   "cell_type": "code",
   "execution_count": 5,
   "id": "8ff90b2f-4d22-4b8d-9568-07dcc9a5f9e7",
   "metadata": {},
   "outputs": [],
   "source": [
    "curr_gas_ck = ck.load_chemkin_file(\n",
    "    os.path.join(current_model, chem_gas_add),\n",
    "    os.path.join(current_model, chem_dict_add), \n",
    ")\n",
    "curr_surf_ck = ck.load_chemkin_file(\n",
    "    os.path.join(current_model, chem_surf_add),\n",
    "    os.path.join(current_model, chem_dict_add), \n",
    ")"
   ]
  },
  {
   "cell_type": "code",
   "execution_count": 6,
   "id": "915f95e1-fca0-4831-b03f-cee00e97810a",
   "metadata": {},
   "outputs": [],
   "source": [
    "curr_edge_gas_ck = ck.load_chemkin_file(\n",
    "    os.path.join(current_model, chem_edge_gas_add),\n",
    "    os.path.join(current_model, chem_edge_dict_add), \n",
    ")\n",
    "curr_edge_surf_ck = ck.load_chemkin_file(\n",
    "    os.path.join(current_model, chem_edge_surf_add),\n",
    "    os.path.join(current_model, chem_edge_dict_add), \n",
    ")"
   ]
  },
  {
   "cell_type": "code",
   "execution_count": 7,
   "id": "67cde71f-d05a-4b2e-b049-2cf3c90bea7b",
   "metadata": {},
   "outputs": [],
   "source": [
    "good_gas_ck = ck.load_chemkin_file(\n",
    "    os.path.join(good_model, chem_gas_add),\n",
    "    os.path.join(good_model, chem_dict_add), \n",
    ")\n",
    "good_surf_ck = ck.load_chemkin_file(\n",
    "    os.path.join(good_model, chem_surf_add),\n",
    "    os.path.join(good_model, chem_dict_add), \n",
    ")"
   ]
  },
  {
   "cell_type": "code",
   "execution_count": 8,
   "id": "5d3d8c66-cf52-49a9-8742-03cf51dfccf2",
   "metadata": {},
   "outputs": [],
   "source": [
    "good_edge_gas_ck = ck.load_chemkin_file(\n",
    "    os.path.join(good_model, chem_edge_gas_add),\n",
    "    os.path.join(good_model, chem_edge_dict_add), \n",
    ")\n",
    "good_edge_surf_ck = ck.load_chemkin_file(\n",
    "    os.path.join(good_model, chem_edge_surf_add),\n",
    "    os.path.join(good_model, chem_edge_dict_add), \n",
    ")"
   ]
  },
  {
   "cell_type": "markdown",
   "id": "1ea5e973-37f3-406e-b9b6-cc5db5e70b19",
   "metadata": {},
   "source": [
    "# Compare gas phase rxns"
   ]
  },
  {
   "cell_type": "code",
   "execution_count": 17,
   "id": "ebdf6bec-60a9-4280-8c64-70d64474c09f",
   "metadata": {
    "jp-MarkdownHeadingCollapsed": true,
    "tags": []
   },
   "outputs": [],
   "source": [
    "def compare_model_kinetics(reactions1, reactions2):\n",
    "    \"\"\"\n",
    "    Compare the kinetics of :class:`ReactionModel` objects `model1` and \n",
    "    `model2`, printing the results to stdout.\n",
    "    \"\"\"\n",
    "    # Determine reactions that both models have in common\n",
    "    common_reactions = {}\n",
    "    for rxn1 in reactions1:\n",
    "        for rxn2 in reactions2:\n",
    "            if rxn1.is_isomorphic(rxn2):\n",
    "                common_reactions[rxn1] = rxn2\n",
    "                reactions2.remove(rxn2)\n",
    "                break\n",
    "    unique_reactions1 = [rxn for rxn in reactions1 if rxn not in list(common_reactions.keys())]\n",
    "    unique_reactions2 = reactions2\n",
    "\n",
    "    logging.info('{0:d} reactions were found in both models:'.format(len(common_reactions)))\n",
    "    for rxn in common_reactions:\n",
    "        logging.info('    {0!s}'.format(rxn))\n",
    "    logging.info('{0:d} reactions were only found in the first model:'.format(len(unique_reactions1)))\n",
    "    for rxn in unique_reactions1:\n",
    "        logging.info('    {0!s}'.format(rxn))\n",
    "    logging.info('{0:d} reactions were only found in the second model:'.format(len(unique_reactions2)))\n",
    "    for rxn in unique_reactions2:\n",
    "        logging.info('    {0!s}'.format(rxn))\n",
    "\n",
    "    T = 1000\n",
    "    P = 1e5\n",
    "    kinetics1 = []\n",
    "    kinetics2 = []\n",
    "    for rxn1, rxn2 in common_reactions.items():\n",
    "        kinetics1.append(rxn1.get_rate_coefficient(T, P))\n",
    "        if rxn1.is_isomorphic(rxn2, either_direction=False):\n",
    "            kinetics2.append(rxn2.get_rate_coefficient(T, P))\n",
    "        else:\n",
    "            kinetics2.append(rxn2.get_rate_coefficient(T, P) / rxn2.get_equilibrium_constant(T))\n",
    "    fig, ax = plt.subplots(1, 1, figsize=(8, 6))\n",
    "    plt.loglog(kinetics1, kinetics2, 'o', picker=5)\n",
    "    xlim = plt.xlim()\n",
    "    ylim = plt.ylim()\n",
    "    lim = (min(xlim[0], ylim[0]), max(xlim[1], ylim[1]))\n",
    "    ax.loglog(lim, lim, '--k')\n",
    "    plt.xlabel('Model 1 rate coefficient (SI units)')\n",
    "    plt.ylabel('Model 2 rate coefficient (SI units)')\n",
    "    plt.title('T = {0:g} K, P = {1:g} bar'.format(T, P / 1e5))\n",
    "    plt.xlim(lim)\n",
    "    plt.ylim(lim)\n",
    "\n",
    "    def onpick(event):\n",
    "        xdata = event.artist.get_xdata()\n",
    "        ydata = event.artist.get_ydata()\n",
    "        for ind in event.ind:\n",
    "            logging.info(list(common_reactions.keys())[ind])\n",
    "            logging.info('k(T,P) = {0:9.2e} from model 1'.format(xdata[ind]))\n",
    "            logging.info('k(T,P) = {0:9.2e} from model 2'.format(ydata[ind]))\n",
    "            logging.info('ratio = 10**{0:.2f}'.format(math.log10(xdata[ind] / ydata[ind])))\n",
    "\n",
    "    connection_id = fig.canvas.mpl_connect('pick_event', onpick)\n",
    "\n",
    "    plt.show()"
   ]
  },
  {
   "cell_type": "code",
   "execution_count": 26,
   "id": "6f5ac6fd-913f-4eea-be28-8a5e37cb8754",
   "metadata": {},
   "outputs": [],
   "source": [
    "compare_out = os.path.join(os.getcwd(), \"ZZ_scratch_compare\",\"gas\",\"gas_model_core\")\n",
    "from rmgpy.tools import diffmodels as dm\n",
    "\n",
    "dm.save_compare_html(\n",
    "    compare_out, \n",
    "    os.path.join(current_model, chem_gas_add), \n",
    "    os.path.join(current_model, chem_dict_add),\n",
    "    os.path.join(good_model, chem_gas_add), \n",
    "    os.path.join(good_model, chem_dict_add),\n",
    "    read_comments1=True, \n",
    "    read_comments2=True,\n",
    ")"
   ]
  },
  {
   "cell_type": "code",
   "execution_count": 28,
   "id": "4a2d57a8-0b37-428b-994c-fdc6cb3e9db5",
   "metadata": {},
   "outputs": [
    {
     "ename": "NotImplementedError",
     "evalue": "Unexpected call to KineticsModel.get_rate_coefficient(); you should be using a class derived from KineticsModel.",
     "output_type": "error",
     "traceback": [
      "\u001b[0;31m---------------------------------------------------------------------------\u001b[0m",
      "\u001b[0;31mNotImplementedError\u001b[0m                       Traceback (most recent call last)",
      "\u001b[0;32m/tmp/ipykernel_696/414722899.py\u001b[0m in \u001b[0;36m<module>\u001b[0;34m\u001b[0m\n\u001b[1;32m      9\u001b[0m     \u001b[0mos\u001b[0m\u001b[0;34m.\u001b[0m\u001b[0mpath\u001b[0m\u001b[0;34m.\u001b[0m\u001b[0mjoin\u001b[0m\u001b[0;34m(\u001b[0m\u001b[0mgood_model\u001b[0m\u001b[0;34m,\u001b[0m \u001b[0mchem_dict_add\u001b[0m\u001b[0;34m)\u001b[0m\u001b[0;34m,\u001b[0m\u001b[0;34m\u001b[0m\u001b[0;34m\u001b[0m\u001b[0m\n\u001b[1;32m     10\u001b[0m     \u001b[0mread_comments1\u001b[0m\u001b[0;34m=\u001b[0m\u001b[0;32mTrue\u001b[0m\u001b[0;34m,\u001b[0m\u001b[0;34m\u001b[0m\u001b[0;34m\u001b[0m\u001b[0m\n\u001b[0;32m---> 11\u001b[0;31m     \u001b[0mread_comments2\u001b[0m\u001b[0;34m=\u001b[0m\u001b[0;32mTrue\u001b[0m\u001b[0;34m,\u001b[0m\u001b[0;34m\u001b[0m\u001b[0;34m\u001b[0m\u001b[0m\n\u001b[0m\u001b[1;32m     12\u001b[0m )\n",
      "\u001b[0;32m/work/westgroup/ChrisB/_01_MeOH_repos/uncertainty_analysis/RMG-Py/rmgpy/tools/diffmodels.py\u001b[0m in \u001b[0;36msave_compare_html\u001b[0;34m(outputDir, chemkin_path1, species_dict_path1, chemkin_path2, species_dict_path2, read_comments1, read_comments2)\u001b[0m\n\u001b[1;32m    225\u001b[0m     \u001b[0moutput_path\u001b[0m \u001b[0;34m=\u001b[0m \u001b[0moutputDir\u001b[0m \u001b[0;34m+\u001b[0m \u001b[0;34m'diff.html'\u001b[0m\u001b[0;34m\u001b[0m\u001b[0;34m\u001b[0m\u001b[0m\n\u001b[1;32m    226\u001b[0m     save_diff_html(output_path, common_species, unique_species1, unique_species2, common_reactions, unique_reactions1,\n\u001b[0;32m--> 227\u001b[0;31m                    unique_reactions2)\n\u001b[0m\u001b[1;32m    228\u001b[0m \u001b[0;34m\u001b[0m\u001b[0m\n\u001b[1;32m    229\u001b[0m \u001b[0;34m\u001b[0m\u001b[0m\n",
      "\u001b[0;32m/work/westgroup/ChrisB/_01_MeOH_repos/uncertainty_analysis/RMG-Py/rmgpy/rmg/output.py\u001b[0m in \u001b[0;36msave_diff_html\u001b[0;34m(path, common_species_list, species_list1, species_list2, common_reactions, unique_reactions1, unique_reactions2)\u001b[0m\n\u001b[1;32m   1314\u001b[0m                             \u001b[0mfamily_count2\u001b[0m\u001b[0;34m=\u001b[0m\u001b[0mfamily_count2\u001b[0m\u001b[0;34m,\u001b[0m \u001b[0mfamilies_union\u001b[0m\u001b[0;34m=\u001b[0m\u001b[0mset\u001b[0m\u001b[0;34m(\u001b[0m\u001b[0mfamilies1\u001b[0m \u001b[0;34m+\u001b[0m \u001b[0mfamilies2\u001b[0m\u001b[0;34m)\u001b[0m\u001b[0;34m,\u001b[0m\u001b[0;34m\u001b[0m\u001b[0;34m\u001b[0m\u001b[0m\n\u001b[1;32m   1315\u001b[0m                             \u001b[0mspecies_list\u001b[0m\u001b[0;34m=\u001b[0m\u001b[0mspecies_list\u001b[0m\u001b[0;34m,\u001b[0m\u001b[0;34m\u001b[0m\u001b[0;34m\u001b[0m\u001b[0m\n\u001b[0;32m-> 1316\u001b[0;31m                             get_species_identifier=get_species_identifier, textwrap=textwrap))\n\u001b[0m\u001b[1;32m   1317\u001b[0m     \u001b[0mf\u001b[0m\u001b[0;34m.\u001b[0m\u001b[0mclose\u001b[0m\u001b[0;34m(\u001b[0m\u001b[0;34m)\u001b[0m\u001b[0;34m\u001b[0m\u001b[0;34m\u001b[0m\u001b[0m\n\u001b[1;32m   1318\u001b[0m \u001b[0;34m\u001b[0m\u001b[0m\n",
      "\u001b[0;32m/work/westgroup/ChrisB/_01_MeOH_repos/uncertainty_analysis/conda/lib/python3.7/site-packages/jinja2/environment.py\u001b[0m in \u001b[0;36mrender\u001b[0;34m(self, *args, **kwargs)\u001b[0m\n\u001b[1;32m   1289\u001b[0m             \u001b[0;32mreturn\u001b[0m \u001b[0mconcat\u001b[0m\u001b[0;34m(\u001b[0m\u001b[0mself\u001b[0m\u001b[0;34m.\u001b[0m\u001b[0mroot_render_func\u001b[0m\u001b[0;34m(\u001b[0m\u001b[0mctx\u001b[0m\u001b[0;34m)\u001b[0m\u001b[0;34m)\u001b[0m  \u001b[0;31m# type: ignore\u001b[0m\u001b[0;34m\u001b[0m\u001b[0;34m\u001b[0m\u001b[0m\n\u001b[1;32m   1290\u001b[0m         \u001b[0;32mexcept\u001b[0m \u001b[0mException\u001b[0m\u001b[0;34m:\u001b[0m\u001b[0;34m\u001b[0m\u001b[0;34m\u001b[0m\u001b[0m\n\u001b[0;32m-> 1291\u001b[0;31m             \u001b[0mself\u001b[0m\u001b[0;34m.\u001b[0m\u001b[0menvironment\u001b[0m\u001b[0;34m.\u001b[0m\u001b[0mhandle_exception\u001b[0m\u001b[0;34m(\u001b[0m\u001b[0;34m)\u001b[0m\u001b[0;34m\u001b[0m\u001b[0;34m\u001b[0m\u001b[0m\n\u001b[0m\u001b[1;32m   1292\u001b[0m \u001b[0;34m\u001b[0m\u001b[0m\n\u001b[1;32m   1293\u001b[0m     \u001b[0;32masync\u001b[0m \u001b[0;32mdef\u001b[0m \u001b[0mrender_async\u001b[0m\u001b[0;34m(\u001b[0m\u001b[0mself\u001b[0m\u001b[0;34m,\u001b[0m \u001b[0;34m*\u001b[0m\u001b[0margs\u001b[0m\u001b[0;34m:\u001b[0m \u001b[0mt\u001b[0m\u001b[0;34m.\u001b[0m\u001b[0mAny\u001b[0m\u001b[0;34m,\u001b[0m \u001b[0;34m**\u001b[0m\u001b[0mkwargs\u001b[0m\u001b[0;34m:\u001b[0m \u001b[0mt\u001b[0m\u001b[0;34m.\u001b[0m\u001b[0mAny\u001b[0m\u001b[0;34m)\u001b[0m \u001b[0;34m->\u001b[0m \u001b[0mstr\u001b[0m\u001b[0;34m:\u001b[0m\u001b[0;34m\u001b[0m\u001b[0;34m\u001b[0m\u001b[0m\n",
      "\u001b[0;32m/work/westgroup/ChrisB/_01_MeOH_repos/uncertainty_analysis/conda/lib/python3.7/site-packages/jinja2/environment.py\u001b[0m in \u001b[0;36mhandle_exception\u001b[0;34m(self, source)\u001b[0m\n\u001b[1;32m    923\u001b[0m         \u001b[0;32mfrom\u001b[0m \u001b[0;34m.\u001b[0m\u001b[0mdebug\u001b[0m \u001b[0;32mimport\u001b[0m \u001b[0mrewrite_traceback_stack\u001b[0m\u001b[0;34m\u001b[0m\u001b[0;34m\u001b[0m\u001b[0m\n\u001b[1;32m    924\u001b[0m \u001b[0;34m\u001b[0m\u001b[0m\n\u001b[0;32m--> 925\u001b[0;31m         \u001b[0;32mraise\u001b[0m \u001b[0mrewrite_traceback_stack\u001b[0m\u001b[0;34m(\u001b[0m\u001b[0msource\u001b[0m\u001b[0;34m=\u001b[0m\u001b[0msource\u001b[0m\u001b[0;34m)\u001b[0m\u001b[0;34m\u001b[0m\u001b[0;34m\u001b[0m\u001b[0m\n\u001b[0m\u001b[1;32m    926\u001b[0m \u001b[0;34m\u001b[0m\u001b[0m\n\u001b[1;32m    927\u001b[0m     \u001b[0;32mdef\u001b[0m \u001b[0mjoin_path\u001b[0m\u001b[0;34m(\u001b[0m\u001b[0mself\u001b[0m\u001b[0;34m,\u001b[0m \u001b[0mtemplate\u001b[0m\u001b[0;34m:\u001b[0m \u001b[0mstr\u001b[0m\u001b[0;34m,\u001b[0m \u001b[0mparent\u001b[0m\u001b[0;34m:\u001b[0m \u001b[0mstr\u001b[0m\u001b[0;34m)\u001b[0m \u001b[0;34m->\u001b[0m \u001b[0mstr\u001b[0m\u001b[0;34m:\u001b[0m\u001b[0;34m\u001b[0m\u001b[0;34m\u001b[0m\u001b[0m\n",
      "\u001b[0;32m<template>\u001b[0m in \u001b[0;36mtop-level template code\u001b[0;34m()\u001b[0m\n",
      "\u001b[0;32m/work/westgroup/ChrisB/_01_MeOH_repos/uncertainty_analysis/RMG-Py/rmgpy/kinetics/model.pyx\u001b[0m in \u001b[0;36mrmgpy.kinetics.model.KineticsModel.is_similar_to\u001b[0;34m()\u001b[0m\n",
      "\u001b[0;32m/work/westgroup/ChrisB/_01_MeOH_repos/uncertainty_analysis/RMG-Py/rmgpy/kinetics/model.pyx\u001b[0m in \u001b[0;36mrmgpy.kinetics.model.KineticsModel.is_similar_to\u001b[0;34m()\u001b[0m\n",
      "\u001b[0;32m/work/westgroup/ChrisB/_01_MeOH_repos/uncertainty_analysis/RMG-Py/rmgpy/kinetics/model.pyx\u001b[0m in \u001b[0;36mrmgpy.kinetics.model.KineticsModel.get_rate_coefficient\u001b[0;34m()\u001b[0m\n",
      "\u001b[0;31mNotImplementedError\u001b[0m: Unexpected call to KineticsModel.get_rate_coefficient(); you should be using a class derived from KineticsModel."
     ]
    }
   ],
   "source": [
    "compare_out = os.path.join(os.getcwd(), \"ZZ_scratch_compare\",\"surf\",\"surf_model_core\")\n",
    "from rmgpy.tools import diffmodels as dm\n",
    "\n",
    "dm.save_compare_html(\n",
    "    compare_out, \n",
    "    os.path.join(current_model, chem_surf_add), \n",
    "    os.path.join(current_model, chem_dict_add),\n",
    "    os.path.join(good_model, chem_surf_add), \n",
    "    os.path.join(good_model, chem_dict_add),\n",
    "    read_comments1=True, \n",
    "    read_comments2=True,\n",
    ")"
   ]
  },
  {
   "cell_type": "code",
   "execution_count": null,
   "id": "afdecfc2-40a9-473e-84bf-bdd51a02fc32",
   "metadata": {},
   "outputs": [],
   "source": []
  },
  {
   "cell_type": "code",
   "execution_count": 18,
   "id": "72a589db-d9a8-4fab-bc93-72f4fc1c60b5",
   "metadata": {},
   "outputs": [
    {
     "name": "stderr",
     "output_type": "stream",
     "text": [
      "/work/westgroup/ChrisB/_01_MeOH_repos/uncertainty_analysis/conda/lib/python3.7/site-packages/ipykernel_launcher.py:38: MatplotlibDeprecationWarning: Setting the line's pick radius via set_picker is deprecated since 3.3 and will be removed two minor releases later; use set_pickradius instead.\n"
     ]
    },
    {
     "data": {
      "image/png": "[encoded data removed]",
      "text/plain": [
       "<Figure size 576x432 with 1 Axes>"
      ]
     },
     "metadata": {
      "needs_background": "light"
     },
     "output_type": "display_data"
    }
   ],
   "source": [
    "compare_model_kinetics(curr_gas_ck, good_gas_ck)"
   ]
  },
  {
   "cell_type": "code",
   "execution_count": null,
   "id": "3c36bf7d-a4e5-4042-86ee-3fec0c6ba7e0",
   "metadata": {},
   "outputs": [],
   "source": []
  }
 ],
 "metadata": {
  "kernelspec": {
   "display_name": "Python 3 (ipykernel)",
   "language": "python",
   "name": "python3"
  },
  "language_info": {
   "codemirror_mode": {
    "name": "ipython",
    "version": 3
   },
   "file_extension": ".py",
   "mimetype": "text/x-python",
   "name": "python",
   "nbconvert_exporter": "python",
   "pygments_lexer": "ipython3",
   "version": "3.7.12"
  }
 },
 "nbformat": 4,
 "nbformat_minor": 5
}
